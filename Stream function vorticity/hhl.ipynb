{
 "cells": [
  {
   "cell_type": "markdown",
   "id": "39b430ca",
   "metadata": {},
   "source": [
    "# Acknowledgement\n",
    "\n",
    "This document is an expanded and annotated version of Classiq HHL Algorithm tutorial. See here for source."
   ]
  },
  {
   "cell_type": "markdown",
   "id": "3652aca5-46be-454d-9b5e-5b795379c534",
   "metadata": {
    "id": "3652aca5-46be-454d-9b5e-5b795379c534"
   },
   "source": [
    "# HHL Algorithm"
   ]
  },
  {
   "cell_type": "markdown",
   "id": "422c4e26-b10c-4d77-b7ea-5d06d684a752",
   "metadata": {
    "id": "422c4e26-b10c-4d77-b7ea-5d06d684a752"
   },
   "source": [
    "Solving linear equations appears in many research, engineering, and design fields. For example, many physical and financial models, from fluid dynamics to portfolio optimization, are described by partial differential equations, which are typically treated by numerical schemes, most of which are eventually transformed to a set of linear equations.\n",
    "\n",
    "The HHL algorithm [[1](#HHL)] is a quantum algorithm for solving a set of linear equations:\n",
    "$$\n",
    "A\\vec{x} = \\vec{b},\n",
    "$$\n",
    "represented by an $N\\times N$ matrix $A$ and a vector $\\vec{b}$ of size $N = 2^n$. The solution to the problem is designated by variable $\\vec{x}$. The HHL is one of the fundamental quantum algorithms that is expected to give an exponential speedup over its classical counterpart*.\n",
    "\n",
    "The algorithm estimates a quantum state $|x\\rangle = |A^{-1}b\\rangle$ from the initial quantum state $|b\\rangle$, corresponding to $N$-dimensional vector $\\vec{b}$. Estimation is done by inverting eigenvalues encoded in phases of eigenstates with use of Quantum Phase Estimation (QPE) and amplitude encoding.\n",
    "\n",
    "The HHL algorithm treats the problem in the following way:\n",
    "\n",
    "- **Input:** Hermitian matrix $A$ of size $2^n\\times 2^n$, normalized vector $\\vec{b}$, $|\\vec{b}|=1$ and given precision $m$.\n",
    "- **Promise:** Solution vector encoded in the state $|x\\rangle = |A^{-1}b\\rangle = \\sum^{2^n-1}_{j=0} \\frac{\\beta_j}{\\tilde{\\lambda}_j} |u_j\\rangle_n$, where:\n",
    " - $\\lambda_j$ are eigenphases of a unitary $U = e^{2\\pi i A}$, estimated up to $m$ binary digits and\n",
    " - $\\beta_j$ are coefficients in expansion of initial state $|b\\rangle$ into linear combination of eigenvectors of $A$, such that $|b\\rangle = \\sum^{2^n-1}_{j=0}\\beta_j|u_j\\rangle_n$.\n",
    "- **Output:** Approximate solution $\\vec{x}$.\n",
    "\n",
    "More detailed description of the HHL algorithm is available in Technical Notes section, below.\n",
    "\n",
    "For simplicity, the demo below treats a usecase where the matrix A has eigenvalues in the interval (0,1). Generalizations to other usecases, including the case where $|b|\\neq 1$ and A is not an Hermitian matrix of size $2^n \\times 2^n$, are discussed at the end of this demo.\n",
    "\n",
    "***\n",
    "\n",
    "\\* The exponential speedup is in the sparsity of the Hermitian matrix $A$ and its [condition number](https://en.wikipedia.org/wiki/Condition_number). When $\\kappa$ is the condition number of the Hermitian matrix $A$ and the eigenvalues of $A$ are in the interval $(\\frac{1}{\\kappa}, 1)$, the runtime of the HHL algorithm scales as $\\kappa^2 \\log(n) / \\epsilon$, where $\\epsilon$ is the additive error achieved in the output state $|x\\rangle$. The algorithm achieves exponential speedup when both $\\kappa$ and $1/\\epsilon$ are $\\text{poly} \\log(n)$ (i.e., upper bounded by a polynomial expression with argument $\\log(n)$) and the state $|b\\rangle$ is loaded efficiently.\n"
   ]
  },
  {
   "cell_type": "markdown",
   "id": "f367649e",
   "metadata": {},
   "source": [
    "## Importing libraries"
   ]
  },
  {
   "cell_type": "code",
   "execution_count": null,
   "id": "b595a474",
   "metadata": {},
   "outputs": [],
   "source": [
    "from classiq import *\n",
    "\n",
    "import scipy\n",
    "from scipy.sparse import diags, eye, kron, identity, block_diag, csr_matrix\n",
    "import numpy as np\n",
    "from qiskit.visualization import array_to_latex\n",
    "\n",
    "from typing import List, Optional"
   ]
  },
  {
   "cell_type": "markdown",
   "id": "280ac9ae",
   "metadata": {},
   "source": [
    "## Preparing examples\n",
    "\n",
    "This section generates $A$ and $b$ for HHL linear solver. \n",
    "\n",
    "Select an $A, b$ pair to use with HHL."
   ]
  },
  {
   "cell_type": "markdown",
   "id": "ca674b34",
   "metadata": {},
   "source": [
    "### Setting parameters"
   ]
  },
  {
   "cell_type": "code",
   "execution_count": 3,
   "id": "ecd7998b",
   "metadata": {},
   "outputs": [],
   "source": [
    "# Parameters\n",
    "nx = 4\n",
    "ny = 4\n",
    "dx = 1.0/(nx-1) # grid spacing (uniform) in both x and y\n",
    "\n",
    "# === HHL (QPE) parameters ===\n",
    "precision = 7\n",
    "dimension = (nx-2)*(ny-2) # Dimension of the A matrix\n",
    "\n",
    "omega = np.ones((nx, ny))\n",
    "psi   = np.zeros((nx, ny)) "
   ]
  },
  {
   "cell_type": "markdown",
   "id": "7879ed07",
   "metadata": {},
   "source": [
    "#### Deprecated functions"
   ]
  },
  {
   "cell_type": "code",
   "execution_count": null,
   "id": "90081ba2",
   "metadata": {},
   "outputs": [],
   "source": [
    "# Deprecated\n",
    "def build_sparse_discretized_poisson(nx, ny, dx):\n",
    "    \"\"\"\n",
    "    Build the sparse Poisson system A ψ = b for a 2D grid.\n",
    "\n",
    "    Parameters:\n",
    "        nx (int): Number of grid points in the x-direction.\n",
    "        ny (int): Number of grid points in the y-direction.\n",
    "        dx (float): Grid spacing (assumed equal in x and y).\n",
    "        omega (array_like): 2D array of vorticity values, shape (nx, ny).\n",
    "\n",
    "    Returns:\n",
    "        A (scipy.sparse.csr_matrix): Sparse matrix of shape (N, N),\n",
    "            representing the 5-point Laplacian (∇²) scaled by 1/dx²,\n",
    "            where N = nx * ny.  It enforces ∇²ψ = -ω.\n",
    "            \n",
    "        b (numpy.ndarray): 1D array of length N, the right-hand side\n",
    "            vector with entries -ω[i,j] * dx^2, flattened in row-major order.\n",
    "    \"\"\"\n",
    "    # Create 1D Laplacian matrices in x and y directions\n",
    "    main_x = -2.0 * np.ones(nx)\n",
    "    off_x  = 1.0  * np.ones(nx-1)\n",
    "    Tx = diags([off_x, main_x, off_x], [-1, 0, 1], format='csr')\n",
    "    main_y = -2.0 * np.ones(ny)\n",
    "    off_y  = 1.0  * np.ones(ny-1)\n",
    "    Ty = diags([off_y, main_y, off_y], [-1, 0, 1], format='csr')\n",
    "    # Identity matrices\n",
    "    Ix = eye(nx, format='csr')\n",
    "    Iy = eye(ny, format='csr')\n",
    "    # 2D Laplacian via Kronecker sum: A = I_y ⊗ T_x + T_y ⊗ I_x\n",
    "    A = (kron(Iy, Tx, format='csr') + kron(Ty, Ix, format='csr')) / (dx*dx)\n",
    "    # Right-hand side vector\n",
    "    return A\n",
    "\n",
    "def get_b(omega, dx):\n",
    "    b = -omega.flatten() * dx**2\n",
    "    return b\n",
    "\n",
    "def pad_to_power_of_two(\n",
    "    A: csr_matrix | None   = None,\n",
    "    b: np.ndarray  | None  = None\n",
    ") -> csr_matrix | np.ndarray | tuple[csr_matrix, np.ndarray]:\n",
    "    \n",
    "    \"\"\"\n",
    "    Pad a sparse CSR matrix and/or vector to the next power-of-two dimension\n",
    "    for qubit-based solvers.\n",
    "\n",
    "    You may supply either:\n",
    "        - A only  => returns padded A\n",
    "        - b only  => returns padded b\n",
    "        - A and b => returns (Apad, bpad)\n",
    "\n",
    "    Parameters\n",
    "    ----------\n",
    "    A : scipy.sparse.csr_matrix, optional\n",
    "        Original square matrix of shape (N, N).\n",
    "    b : numpy.ndarray, optional\n",
    "        Original right-hand side vector of length N.\n",
    "\n",
    "    Returns\n",
    "    -------\n",
    "    Apad : scipy.sparse.csr_matrix\n",
    "        Padded matrix of shape (2^n, 2^n) if A was provided.\n",
    "    bpad : numpy.ndarray\n",
    "        Padded RHS vector of length 2^n if b was provided.\n",
    "    (Apad, bpad) : tuple\n",
    "        If both A and b are given.\n",
    "    \"\"\"\n",
    "    # Determine original size N\n",
    "    if A is not None:\n",
    "        N = A.shape[0]\n",
    "    elif b is not None:\n",
    "        b = np.asarray(b).flatten()\n",
    "        N = b.shape[0]\n",
    "    else:\n",
    "        raise ValueError(\"Must provide at least one of A or b to pad.\")\n",
    "\n",
    "    # Compute next power of two ≥ N\n",
    "    n_bits = (N - 1).bit_length()\n",
    "    N2 = 1 << n_bits\n",
    "    M = N2 - N\n",
    "\n",
    "    # If already power-of-two, just return copy(s)\n",
    "    if M == 0:\n",
    "        if A is not None and b is not None:\n",
    "            return A.copy(), b.copy()\n",
    "        elif A is not None:\n",
    "            return A.copy()\n",
    "        else:\n",
    "            return b.copy()\n",
    "\n",
    "    # Build padding structures\n",
    "    pad_id = identity(M, dtype=(A.dtype if A is not None else np.float64), format='csr')\n",
    "\n",
    "    # Pad A if requested\n",
    "    if A is not None:\n",
    "        Apad = block_diag([A, pad_id], format='csr')\n",
    "    # Pad b if requested\n",
    "    if b is not None:\n",
    "        bpad = np.empty(N2, dtype=b.dtype)\n",
    "        bpad[:N] = b\n",
    "        bpad[N:] = 0\n",
    "\n",
    "    # Return according to inputs\n",
    "    if A is not None and b is not None:\n",
    "        return Apad, bpad\n",
    "    elif A is not None:\n",
    "        return Apad\n",
    "    else:\n",
    "        return bpad"
   ]
  },
  {
   "cell_type": "markdown",
   "id": "e3e04066",
   "metadata": {},
   "source": [
    "#### New functions"
   ]
  },
  {
   "cell_type": "code",
   "execution_count": 4,
   "id": "fabd58a4",
   "metadata": {},
   "outputs": [],
   "source": [
    "# Prompt for generative AI to generate the get_A() function. \n",
    "\"\"\"\n",
    "Given nx, ny and dx, define a function that construct the following symmetric matrix:\n",
    "0. the symmetric matrix has size (nx-2)*(ny-2)\n",
    "1. on the diagonal, we have 4\n",
    "2. on the two sub-diagonal beside the main diagonal, has -1. \n",
    "3. for each row i, (i, i+nx-2) and (i, i-(nx-2)) also has -1. If index is outside of range, ignore. \n",
    "In other words, the diagonal that is shifted left and right from the main diagonal by (nx-2) also has -1.\n",
    "\"\"\"\n",
    "\n",
    "def get_A(nx: int, ny: int):\n",
    "    \"\"\"\n",
    "    Build the (nx-2)*(ny-2) five-point Laplacian matrix\n",
    "    with 4 on the diagonal, -1 on the ±1 sub/super-diagonals\n",
    "    (excluding row-wrap connections), and -1 on the ±(nx-2) diagonals.\n",
    "    Returns a CSR matrix of shape (N, N), where N=(nx-2)*(ny-2).\n",
    "    \n",
    "    We assume that the value of the discretized quantity (streamfunction psi in this case) at the 4 boundaries are 0. \n",
    "    Notice that in Python the indices range from psi[0,0] to psi[nx-1, ny-1], \n",
    "    where as in Engineering, the indices range from psi_(1,1) to psi_(nx,ny)\n",
    "    \"\"\"\n",
    "    N_x = nx - 2\n",
    "    N_y = ny - 2\n",
    "    N   = N_x * N_y\n",
    "\n",
    "    # main diagonal\n",
    "    main =  4 * np.ones(N, dtype=float)\n",
    "\n",
    "    # ---- horizontal neighbors (offset ±1), but zero out wrap-around\n",
    "    # create a length-(N-1) array of -1’s\n",
    "    off1 = -np.ones(N-1, dtype=float)\n",
    "    # mask out entries where (i,i+1) would jump from end of one row to next\n",
    "    idx   = np.arange(N-1)\n",
    "    wrap  = (idx + 1) % N_x == 0\n",
    "    off1[wrap] = 0.0\n",
    "\n",
    "    # ---- vertical neighbors (offset ±N_x), no wrap issues\n",
    "    offNx = -np.ones(N - N_x, dtype=float)\n",
    "\n",
    "    # assemble\n",
    "    diags_data = [ main,\n",
    "                off1, off1,\n",
    "                offNx, offNx ]\n",
    "    offsets    = [  0,\n",
    "                -1,   1,\n",
    "                -N_x, N_x ]\n",
    "\n",
    "    A = diags(diags_data, offsets, shape=(N, N), format='csr')\n",
    "    return A\n",
    "\n",
    "# # After building A as a CSR matrix you can use:\n",
    "#    dense_A = A.toarray()        # convert to NumPy array\n",
    "\n",
    "# # Or use qiskit for better visualization\n",
    "# from qiskit.visualization import array_to_latex\n",
    "# display(array_to_latex(A.toarray()))\n",
    "\n",
    "def get_b(omega, dx):\n",
    "    \"\"\"\n",
    "    Given vorticity omega os size nx x ny,\n",
    "    extract omega from the interior and flatten to a vector.\n",
    "    \"\"\"\n",
    "    b = omega[1:-1, 1:-1].flatten() * dx**2\n",
    "    return b\n",
    "\n",
    "def pad_to_power_of_two(\n",
    "    A: csr_matrix | None   = None,\n",
    "    b: np.ndarray  | None  = None\n",
    ") -> csr_matrix | np.ndarray | tuple[csr_matrix, np.ndarray]:\n",
    "    \n",
    "    \"\"\"\n",
    "    Pad a sparse CSR matrix and/or vector to the next power-of-two dimension\n",
    "    for qubit-based solvers.\n",
    "\n",
    "    You may supply either:\n",
    "        - A only  => returns padded A\n",
    "        - b only  => returns padded b\n",
    "        - A and b => returns (Apad, bpad)\n",
    "\n",
    "    Parameters\n",
    "    ----------\n",
    "    A : scipy.sparse.csr_matrix, optional\n",
    "        Original square matrix of shape (N, N).\n",
    "    b : numpy.ndarray, optional\n",
    "        Original right-hand side vector of length N.\n",
    "\n",
    "    Returns\n",
    "    -------\n",
    "    Apad : scipy.sparse.csr_matrix\n",
    "        Padded matrix of shape (2^n, 2^n) if A was provided.\n",
    "    bpad : numpy.ndarray\n",
    "        Padded RHS vector of length 2^n if b was provided.\n",
    "    (Apad, bpad) : tuple\n",
    "        If both A and b are given.\n",
    "    \"\"\"\n",
    "    # Determine original size N\n",
    "    if A is not None:\n",
    "        N = A.shape[0]\n",
    "    elif b is not None:\n",
    "        b = np.asarray(b).flatten()\n",
    "        N = b.shape[0]\n",
    "    else:\n",
    "        raise ValueError(\"Must provide at least one of A or b to pad.\")\n",
    "\n",
    "    # Compute next power of two ≥ N\n",
    "    n_bits = (N - 1).bit_length()\n",
    "    N2 = 1 << n_bits\n",
    "    M = N2 - N\n",
    "\n",
    "    # If already power-of-two, just return copy(s)\n",
    "    if M == 0:\n",
    "        if A is not None and b is not None:\n",
    "            return A.copy(), b.copy()\n",
    "        elif A is not None:\n",
    "            return A.copy()\n",
    "        else:\n",
    "            return b.copy()\n",
    "\n",
    "    # Build padding structures\n",
    "    pad_id = identity(M, dtype=(A.dtype if A is not None else np.float64), format='csr')\n",
    "\n",
    "    # Pad A if requested\n",
    "    if A is not None:\n",
    "        Apad = block_diag([A, pad_id], format='csr')\n",
    "    # Pad b if requested\n",
    "    if b is not None:\n",
    "        bpad = np.empty(N2, dtype=b.dtype)\n",
    "        bpad[:N] = b\n",
    "        bpad[N:] = 0\n",
    "\n",
    "    # Return according to inputs\n",
    "    if A is not None and b is not None:\n",
    "        return Apad, bpad\n",
    "    elif A is not None:\n",
    "        return Apad\n",
    "    else:\n",
    "        return bpad\n",
    "\n",
    "\n",
    "def recover_full_psi_from_flat(psi_vec: np.ndarray, nx: int, ny: int, boundary: float = 0.0) -> np.ndarray:\n",
    "    \"\"\"\n",
    "    Rebuild a full (nx x ny) array from a flattened interior vector psi_vec.\n",
    "\n",
    "    Parameters\n",
    "    ----------\n",
    "    psi_vec : 1D np.ndarray, length = (nx-2)*(ny-2)\n",
    "        Flattened (row-major) interior values.\n",
    "    nx, ny : int\n",
    "        Full grid dimensions.\n",
    "    boundary : float, optional\n",
    "        Dirichlet boundary value (default 0.0).\n",
    "\n",
    "    Returns\n",
    "    -------\n",
    "    psi_full : 2D np.ndarray, shape (nx, ny)\n",
    "        Full array with psi_full[1:-1,1:-1] filled from psi_vec\n",
    "        and all boundaries set to `boundary`.\n",
    "    \"\"\"\n",
    "    expected = (nx-2) * (ny-2)\n",
    "    if psi_vec.size != expected:\n",
    "        raise ValueError(f\"Expected psi_vec of length {expected}, got {psi_vec.size}\")\n",
    "    \n",
    "    # Reshape back to 2D interior\n",
    "    interior = psi_vec.reshape((nx-2, ny-2))\n",
    "    \n",
    "    # Use psi_vec for the interior nodes\n",
    "    psi_full = np.full((nx, ny), boundary, dtype=psi_vec.dtype)\n",
    "    psi_full[1:-1, 1:-1] = interior\n",
    "    \n",
    "    return psi_full\n",
    "\n",
    "# Claculating eigenvalues of A, using direct formula\n",
    "\n",
    "def eigenvalues_laplacian(nx: int, ny: int) -> np.ndarray:\n",
    "    \"\"\"\n",
    "    Compute the eigenvalues of the 5‑point Laplacian, pentadiagonal matrix on an\n",
    "    (nx-2) by (ny-2) interior grid.\n",
    "\n",
    "    Returns a 2D array of shape ((nx-2), (ny-2)) where\n",
    "        Lambda[p-1, q-1] = 4 - 2*cos(pi*p/(nx-1)) - 2*cos(pi*q/(ny-1))\n",
    "    for p=1..nx-2, q=1..ny-2.\n",
    "    \"\"\"\n",
    "    Nx = nx - 2\n",
    "    Ny = ny - 2\n",
    "\n",
    "    # indices p=1..Nx, q=1..Ny\n",
    "    p = np.arange(1, Nx+1)\n",
    "    q = np.arange(1, Ny+1)\n",
    "\n",
    "    # compute the two cosine terms\n",
    "    cos_p = np.cos(np.pi * p / (Nx + 1))    # shape (Nx,)\n",
    "    cos_q = np.cos(np.pi * q / (Ny + 1))    # shape (Ny,)\n",
    "\n",
    "    # build the full (Nx x Ny) array via broadcasting\n",
    "    Lambda = 4 \\\n",
    "           - 2 * cos_p[:, None] \\\n",
    "           - 2 * cos_q[None, :]\n",
    "\n",
    "    return Lambda\n",
    "\n",
    "def eigenrange_laplacian(nx, ny):\n",
    "    \"\"\"\n",
    "    Compute the minimum and maximum eigenvalues of the discrete 2D Laplacian.\n",
    "\n",
    "    The function calculates an estimate of the eigenvalue range for the\n",
    "    Finite Difference discretization of the 2D Laplacian operator on a\n",
    "    grid of size (nx, ny) with Dirichlet boundary conditions.\n",
    "\n",
    "    Parameters\n",
    "    ----------\n",
    "    nx : int\n",
    "        Number of grid points in the x-direction (including boundaries).\n",
    "    ny : int\n",
    "        Number of grid points in the y-direction (including boundaries).\n",
    "\n",
    "    Returns\n",
    "    -------\n",
    "    tuple of float\n",
    "        (lambda_min, lambda_max)\n",
    "        Minimum and maximum eigenvalues of the discrete Laplacian.\n",
    "    \"\"\"\n",
    "    Nx = nx - 2\n",
    "    Ny = ny - 2\n",
    "\n",
    "    min = (4 \n",
    "    - 2 * np.cos(np.pi / (Nx + 1))\n",
    "    - 2 * np.cos(np.pi / (Ny + 1)))\n",
    "\n",
    "    max = (4 \n",
    "    + 2 * np.cos(np.pi / (Nx + 1))\n",
    "    + 2 * np.cos(np.pi / (Ny + 1)))\n",
    "\n",
    "    return min, max\n",
    "\n",
    "def scale_A(A:csr_matrix, lambda_min, lambda_max, precision):\n",
    "    \"\"\"\n",
    "    Scale sparse matrix A so its eigenvalues fit into:\n",
    "    [1/2^precision, 1]\n",
    "    \n",
    "    Formula:\n",
    "    A_scaled = [(A - min*I)*(1-1/2**precision)/(max-min) \n",
    "    + 1/2**precision *I]\n",
    "    \n",
    "    Returns\n",
    "    scipy.sparse.csr_matrix\n",
    "    The scaled sparse matrix in csr format. \n",
    "    \"\"\"\n",
    "    dim = A.shape[0]\n",
    "    I = identity(dim, format='csr')\n",
    "    scale_factor = (1 - 1 / 2**precision) / (lambda_max - lambda_min)\n",
    "    shift = 1 / 2**precision\n",
    "    A_scaled = (A - lambda_min * I) * scale_factor + shift * I\n",
    "    return A_scaled\n",
    "\n",
    "def scale_b(b_vector: np.ndarray):\n",
    "    \"\"\"\n",
    "    Normalize a vector to have unit L2 norm.\n",
    "    \n",
    "    Parameters\n",
    "    ----------\n",
    "    b_vector : np.ndarray\n",
    "        Input vector to be normalized.\n",
    "        \n",
    "    Returns\n",
    "    -------\n",
    "    np.ndarray\n",
    "        The normalized vector with L2 norm equal to 1.\n",
    "    \"\"\"\n",
    "    if np.linalg.norm(b_vector) == 0:\n",
    "        raise ValueError(\"Cannot normalize a zero vector.\")\n",
    "\n",
    "    b_normalized = b_vector / np.linalg.norm(b_vector)\n",
    "    return b_normalized\n",
    "    "
   ]
  },
  {
   "cell_type": "markdown",
   "id": "c2fcf999-36cf-4536-9661-bd69c254a198",
   "metadata": {
    "id": "c2fcf999-36cf-4536-9661-bd69c254a198",
    "tags": []
   },
   "source": [
    "### Defining Matrix of a Specific Problem"
   ]
  },
  {
   "cell_type": "code",
   "execution_count": 54,
   "id": "9a570e49",
   "metadata": {},
   "outputs": [],
   "source": [
    "a_matrix = np.array(\n",
    "    [\n",
    "        [0.135, -0.092, -0.011, -0.045, -0.026, -0.033, 0.03, 0.034],\n",
    "        [-0.092, 0.115, 0.02, 0.017, 0.044, -0.009, -0.015, -0.072],\n",
    "        [-0.011, 0.02, 0.073, -0.0, -0.068, -0.042, 0.043, -0.011],\n",
    "        [-0.045, 0.017, -0.0, 0.043, 0.028, 0.027, -0.047, -0.005],\n",
    "        [-0.026, 0.044, -0.068, 0.028, 0.21, 0.079, -0.177, -0.05],\n",
    "        [-0.033, -0.009, -0.042, 0.027, 0.079, 0.121, -0.123, 0.021],\n",
    "        [0.03, -0.015, 0.043, -0.047, -0.177, -0.123, 0.224, 0.011],\n",
    "        [0.034, -0.072, -0.011, -0.005, -0.05, 0.021, 0.011, 0.076],\n",
    "    ]\n",
    ")\n",
    "\n",
    "b_vector = np.array(\n",
    "    [\n",
    "        -0.00885448,\n",
    "        -0.17725898,\n",
    "        -0.15441119,\n",
    "        0.17760157,\n",
    "        0.41428775,\n",
    "        0.44735303,\n",
    "        -0.71137715,\n",
    "        0.1878808,\n",
    "    ]\n",
    ")\n",
    "\n",
    "A = a_matrix\n",
    "\n",
    "# Normalize vector b\n",
    "b = b_vector / np.linalg.norm(b_vector)"
   ]
  },
  {
   "cell_type": "markdown",
   "id": "9d70527b",
   "metadata": {},
   "source": [
    "Another problem"
   ]
  },
  {
   "cell_type": "code",
   "execution_count": 44,
   "id": "44b8318d",
   "metadata": {},
   "outputs": [
    {
     "data": {
      "text/latex": [
       "$$\n",
       "\n",
       "\\begin{bmatrix}\n",
       "\\frac{7}{25} & -0.01 & \\frac{1}{50} & - \\frac{1}{10}  \\\\\n",
       " -0.01 & \\frac{1}{2} & - \\frac{11}{50} & -0.07  \\\\\n",
       " \\frac{1}{50} & - \\frac{11}{50} & 0.43 & - \\frac{1}{20}  \\\\\n",
       " - \\frac{1}{10} & -0.07 & - \\frac{1}{20} & \\frac{21}{50}  \\\\\n",
       " \\end{bmatrix}\n",
       "$$"
      ],
      "text/plain": [
       "<IPython.core.display.Latex object>"
      ]
     },
     "metadata": {},
     "output_type": "display_data"
    }
   ],
   "source": [
    "\n",
    "# Define matrix A\n",
    "A = np.array(\n",
    "    [\n",
    "        [0.28, -0.01, 0.02, -0.1],\n",
    "        [-0.01, 0.5, -0.22, -0.07],\n",
    "        [0.02, -0.22, 0.43, -0.05],\n",
    "        [-0.1, -0.07, -0.05, 0.42],\n",
    "    ]\n",
    ")\n",
    "\n",
    "# Define RHS vector b\n",
    "b = np.array([1, 2, 4, 3])\n",
    "\n",
    "# Normalize vector b\n",
    "b = b / np.linalg.norm(b)\n",
    "\n",
    "display(array_to_latex(A))"
   ]
  },
  {
   "cell_type": "code",
   "execution_count": 5,
   "id": "49fe6fd1",
   "metadata": {},
   "outputs": [
    {
     "name": "stdout",
     "output_type": "stream",
     "text": [
      "[[ 0.53488792+0.53862658j  0.3870809 -0.29780241j  0.06740768-0.09562663j\n",
      "   0.15521179-0.15111597j  0.13930567+0.1569899j   0.08930752-0.04262952j\n",
      "  -0.13163075-0.12047571j -0.19237476+0.04415123j]\n",
      " [ 0.3870809 -0.29780241j  0.56453595+0.43379776j -0.08794762+0.12533674j\n",
      "  -0.09712003+0.00361892j -0.17107548+0.01066225j  0.03813674-0.14375349j\n",
      "   0.06106325+0.12424707j  0.28719727-0.26184533j]\n",
      " [ 0.06740768-0.09562663j -0.08794762+0.12533674j  0.82787029+0.31855851j\n",
      "   0.01129763+0.06472478j  0.24565003-0.08256257j  0.16927575-0.03397971j\n",
      "  -0.23596234-0.10407557j  0.04372146-0.07944217j]\n",
      " [ 0.15521179-0.15111597j -0.09712003+0.00361892j  0.01129763+0.06472478j\n",
      "   0.91161941+0.18855076j -0.13423035-0.08733589j -0.11490157+0.00425733j\n",
      "   0.17628759-0.01366995j  0.03920736+0.03228556j]\n",
      " [ 0.13930567+0.1569899j  -0.17107548+0.01066225j  0.24565003-0.08256257j\n",
      "  -0.13423035-0.08733589j  0.22372109+0.18932574j -0.37042464-0.17021709j\n",
      "   0.73266096+0.06042367j  0.17185374-0.1081725j ]\n",
      " [ 0.08930752-0.04262952j  0.03813674-0.14375349j  0.16927575-0.03397971j\n",
      "  -0.11490157+0.00425733j -0.37042464-0.17021709j  0.61310545+0.29808353j\n",
      "   0.50354191-0.02780088j -0.06396045+0.18894282j]\n",
      " [-0.13163075-0.12047571j  0.06106325+0.12424707j -0.23596234-0.10407557j\n",
      "   0.17628759-0.01366995j  0.73266096+0.06042367j  0.50354191-0.02780088j\n",
      "   0.15609357+0.14452411j -0.04972797-0.09339711j]\n",
      " [-0.19237476+0.04415123j  0.28719727-0.26184533j  0.04372146-0.07944217j\n",
      "   0.03920736+0.03228556j  0.17185374-0.1081725j  -0.06396045+0.18894282j\n",
      "  -0.04972797-0.09339711j  0.76846843+0.34121874j]]\n"
     ]
    },
    {
     "data": {
      "text/latex": [
       "$$\n",
       "\n",
       "\\begin{bmatrix}\n",
       "0.5348879237 + 0.5386265786 i & 0.3870808963 - 0.2978024132 i & 0.0674076848 - 0.095626627 i & 0.155211793 - 0.1511159672 i & 0.1393056691 + 0.156989897 i & 0.0893075172 - 0.0426295188 i & -0.1316307463 - 0.1204757143 i & -0.192374761 + 0.0441512273 i  \\\\\n",
       " 0.3870808963 - 0.2978024132 i & 0.5645359465 + 0.4337977647 i & -0.0879476214 + 0.1253367369 i & -0.0971200327 + 0.0036189239 i & -0.171075479 + 0.0106622494 i & 0.0381367359 - 0.143753491 i & 0.0610632462 + 0.1242470738 i & 0.2871972726 - 0.2618453343 i  \\\\\n",
       " 0.0674076848 - 0.095626627 i & -0.0879476214 + 0.1253367369 i & 0.8278702907 + 0.3185585144 i & 0.0112976297 + 0.0647247751 i & 0.2456500291 - 0.0825625748 i & 0.1692757488 - 0.0339797079 i & -0.2359623427 - 0.1040755738 i & 0.0437214552 - 0.0794421745 i  \\\\\n",
       " 0.155211793 - 0.1511159672 i & -0.0971200327 + 0.0036189239 i & 0.0112976297 + 0.0647247751 i & 0.9116194108 + 0.188550755 i & -0.1342303493 - 0.0873358932 i & -0.1149015669 + 0.0042573281 i & 0.1762875899 - 0.0136699488 i & 0.0392073592 + 0.0322855596 i  \\\\\n",
       " 0.1393056691 + 0.156989897 i & -0.171075479 + 0.0106622494 i & 0.2456500291 - 0.0825625748 i & -0.1342303493 - 0.0873358932 i & 0.2237210942 + 0.1893257392 i & -0.3704246398 - 0.1702170894 i & 0.7326609628 + 0.0604236746 i & 0.1718537421 - 0.1081724959 i  \\\\\n",
       " 0.0893075172 - 0.0426295188 i & 0.0381367359 - 0.143753491 i & 0.1692757488 - 0.0339797079 i & -0.1149015669 + 0.0042573281 i & -0.3704246398 - 0.1702170894 i & 0.6131054453 + 0.2980835331 i & 0.5035419069 - 0.027800875 i & -0.0639604464 + 0.1889428214 i  \\\\\n",
       " -0.1316307463 - 0.1204757143 i & 0.0610632462 + 0.1242470738 i & -0.2359623427 - 0.1040755738 i & 0.1762875899 - 0.0136699488 i & 0.7326609628 + 0.0604236746 i & 0.5035419069 - 0.027800875 i & 0.1560935696 + 0.1445241079 i & -0.0497279738 - 0.0933971107 i  \\\\\n",
       " -0.192374761 + 0.0441512273 i & 0.2871972726 - 0.2618453343 i & 0.0437214552 - 0.0794421745 i & 0.0392073592 + 0.0322855596 i & 0.1718537421 - 0.1081724959 i & -0.0639604464 + 0.1889428214 i & -0.0497279738 - 0.0933971107 i & 0.7684684263 + 0.3412187406 i  \\\\\n",
       " \\end{bmatrix}\n",
       "$$"
      ],
      "text/plain": [
       "<IPython.core.display.Latex object>"
      ]
     },
     "metadata": {},
     "output_type": "display_data"
    }
   ],
   "source": [
    "from qiskit.visualization import array_to_latex\n",
    "M = scipy.linalg.expm(2 * np.pi * 1j * A)\n",
    "print(M)\n",
    "display(array_to_latex(M))"
   ]
  },
  {
   "cell_type": "markdown",
   "id": "fdd2c127",
   "metadata": {},
   "source": [
    "### Defining A, b for Streamfunction-Vorticity, Lid Driven Cavity\n",
    "\n",
    "$A$ before and after scaling for eigenvalues. \n",
    "min and max of eigenvalues of $A$.\n",
    "$b$ normalized.\n",
    "\n",
    "All as numpy array. \n",
    "\n",
    "Notice that `get_A()` returns a csr sparse matrix, \n",
    "which needs to be transformed into numpy array.\n",
    "Same for `scale_A()`."
   ]
  },
  {
   "cell_type": "code",
   "execution_count": 5,
   "id": "1e98fe85",
   "metadata": {},
   "outputs": [
    {
     "name": "stdout",
     "output_type": "stream",
     "text": [
      "[[ 4. -1. -1.  0.]\n",
      " [-1.  4.  0. -1.]\n",
      " [-1.  0.  4. -1.]\n",
      " [ 0. -1. -1.  4.]] [-0.03003948 -0.6013643  -0.52385147  0.60252656]\n",
      "[[ 0.50390625 -0.24804688 -0.24804688  0.        ]\n",
      " [-0.24804688  0.50390625  0.         -0.24804688]\n",
      " [-0.24804688  0.          0.50390625 -0.24804688]\n",
      " [ 0.         -0.24804688 -0.24804688  0.50390625]]\n"
     ]
    }
   ],
   "source": [
    "# Define A and b\n",
    "\n",
    "A_prescale = get_A(nx, ny)\n",
    "b = np.array(\n",
    "    [-0.00885448,\n",
    "    -0.17725898,\n",
    "    -0.15441119,\n",
    "    0.17760157,])\n",
    "\n",
    "b = b / np.linalg.norm(b)\n",
    "\n",
    "print(A_prescale.toarray(),b)\n",
    "\n",
    "min, max = eigenrange_laplacian(nx, ny)\n",
    "\n",
    "A = scale_A(A_prescale, min, max, precision)\n",
    "print(A.toarray())\n",
    "\n",
    "A = A.toarray()\n",
    "A_prescale = A_prescale.toarray()"
   ]
  },
  {
   "cell_type": "code",
   "execution_count": 6,
   "id": "fc4febf6",
   "metadata": {},
   "outputs": [
    {
     "data": {
      "text/plain": [
       "array([[2., 4.],\n",
       "       [4., 6.]])"
      ]
     },
     "execution_count": 6,
     "metadata": {},
     "output_type": "execute_result"
    }
   ],
   "source": [
    "eigenvalues_laplacian(nx, ny)"
   ]
  },
  {
   "cell_type": "code",
   "execution_count": 123,
   "id": "be9d807b-7536-4968-8a18-397f69763964",
   "metadata": {
    "colab": {
     "base_uri": "https://localhost:8080/"
    },
    "id": "be9d807b-7536-4968-8a18-397f69763964",
    "outputId": "ebd3420c-1c0b-48aa-9fa8-03e2565068eb"
   },
   "outputs": [
    {
     "name": "stdout",
     "output_type": "stream",
     "text": [
      "\n",
      "Eigenvalues:\n",
      "0.00000000111111111111111111111111 =~ 0.003906249999999889\n",
      "0.10000000011111111111111111111111 =~ 0.5019531249999994\n",
      "0.100000001 =~ 0.501953125\n",
      "0.1 =~ 1.0\n"
     ]
    }
   ],
   "source": [
    "# Verify if the matrix is symmetric and has eigenvalues in (0,1)\n",
    "if not np.allclose(A, A.T, rtol=1e-6, atol=1e-6):\n",
    "    print(\"The matrix is not symmetric\")\n",
    "w, v = np.linalg.eig(A)\n",
    "for lam in w:\n",
    "    if lam < 0 or lam > 1:\n",
    "        print(\"Eigenvalues are not in (0,1)\")\n",
    "        break\n",
    "\n",
    "# Binary representation of eigenvalues (classically calculated)\n",
    "m = 32  # Precision of a binary representation, e.g. 32 binary digits\n",
    "sign = lambda num: \"-\" if num < 0 else \"\"  # Calculate sign of a number\n",
    "binary = lambda fraction: str(\n",
    "    np.binary_repr(int(np.abs(fraction) * 2 ** (m))).zfill(m)\n",
    ").rstrip(\n",
    "    \"0\"\n",
    ")  # Binary representation of a fraction\n",
    "\n",
    "print()\n",
    "print(\"Eigenvalues:\")\n",
    "for eig in sorted(w):\n",
    "    print(f\"{sign(eig)}0.{binary(eig.real)} =~ {eig.real}\")"
   ]
  },
  {
   "cell_type": "code",
   "execution_count": 131,
   "id": "92d9ea27",
   "metadata": {},
   "outputs": [
    {
     "data": {
      "text/plain": [
       "1.9999999999999998"
      ]
     },
     "execution_count": 131,
     "metadata": {},
     "output_type": "execute_result"
    }
   ],
   "source": [
    "min"
   ]
  },
  {
   "cell_type": "code",
   "execution_count": null,
   "id": "aceebb5f",
   "metadata": {},
   "outputs": [
    {
     "name": "stdout",
     "output_type": "stream",
     "text": [
      "3.992156862745098\n"
     ]
    }
   ],
   "source": [
    "# Testing\n",
    "val = (\n",
    "                (0.5 - 1/2**precision)\n",
    "                * (max - min)\n",
    "                * (2**precision / (2**precision - 1))\n",
    "                + min\n",
    ")\n",
    "val"
   ]
  },
  {
   "cell_type": "code",
   "execution_count": 127,
   "id": "bad41792",
   "metadata": {},
   "outputs": [
    {
     "data": {
      "text/plain": [
       "1.9999999999999993"
      ]
     },
     "execution_count": 127,
     "metadata": {},
     "output_type": "execute_result"
    }
   ],
   "source": [
    "val4 = (\n",
    "                (0.003906249999999889 - 1/2**precision)\n",
    "                * (max - min)\n",
    "                * (2**precision / (2**precision - 1))\n",
    "                + min\n",
    ")\n",
    "val4"
   ]
  },
  {
   "cell_type": "code",
   "execution_count": 126,
   "id": "683bf28b",
   "metadata": {},
   "outputs": [
    {
     "data": {
      "text/plain": [
       "0.00390625"
      ]
     },
     "execution_count": 126,
     "metadata": {},
     "output_type": "execute_result"
    }
   ],
   "source": [
    "1 / 2**precision"
   ]
  },
  {
   "cell_type": "code",
   "execution_count": null,
   "id": "9a9b2313",
   "metadata": {},
   "outputs": [
    {
     "data": {
      "text/plain": [
       "0.001953125000000001"
      ]
     },
     "execution_count": 125,
     "metadata": {},
     "output_type": "execute_result"
    }
   ],
   "source": [
    "val3= (1 / 2**precision) / (\n",
    "                (0.003906249999999889 - 1/2**precision)\n",
    "                * (max - min)\n",
    "                * (2**precision / (2**precision - 1))\n",
    "                + min\n",
    ")\n",
    "val3"
   ]
  },
  {
   "cell_type": "code",
   "execution_count": 124,
   "id": "69c30c30",
   "metadata": {},
   "outputs": [
    {
     "data": {
      "text/plain": [
       "0.000978481090373281"
      ]
     },
     "execution_count": 124,
     "metadata": {},
     "output_type": "execute_result"
    }
   ],
   "source": [
    "# Testing\n",
    "val2= (1 / 2**precision) / (\n",
    "                (0.5 - 1/2**precision)\n",
    "                * (max - min)\n",
    "                * (2**precision / (2**precision - 1))\n",
    "                + min\n",
    ")\n",
    "val2"
   ]
  },
  {
   "cell_type": "code",
   "execution_count": 137,
   "id": "5928f286",
   "metadata": {},
   "outputs": [
    {
     "data": {
      "text/plain": [
       "0.9998318714092312"
      ]
     },
     "execution_count": 137,
     "metadata": {},
     "output_type": "execute_result"
    }
   ],
   "source": [
    "val3= min / (\n",
    "                (0.00399 - 1/2**precision)\n",
    "                * (max - min)\n",
    "                * (2**precision / (2**precision - 1))\n",
    "                + min\n",
    ")\n",
    "val3"
   ]
  },
  {
   "cell_type": "markdown",
   "id": "xn9Sk0zWIG8P",
   "metadata": {
    "id": "xn9Sk0zWIG8P"
   },
   "source": [
    "## Define Hamiltonian"
   ]
  },
  {
   "cell_type": "markdown",
   "id": "1bd14c32-152e-486c-afdf-cdb5e4658c75",
   "metadata": {
    "id": "1bd14c32-152e-486c-afdf-cdb5e4658c75"
   },
   "source": [
    "The unitary operator is essential for Quantum Phase Estimation (QPE) function code block and can be constructed directly from the Hamiltonian, representing given problem, defined by matrix $A$. Having the matrix or the Hamiltonian defined, the unitary operator can be created with the [`qpe_flexible`](https://github.com/Classiq/classiq-library/blob/main/functions/qmod_library_reference/classiq_open_library/qpe/qpe.ipynb) function by passing in the `unitary_with_power` argument a callable function that applies a unitary operation raised to a given power.\n",
    "\n",
    "\n",
    "The built-in function `matrix_to_hamiltonian` encodes the matrix $A$ into a sum of Pauli strings, which then allows to encode the unitary matrix $U=e^{iA}$ with a product formula (Suzuki-Trotter). The number of qubits is stored in the variable `n`. This is a classical pre-processing that can be done with different methods of decomposition, for example you can compare with method described in [[2](#PauliDecomposition)]."
   ]
  },
  {
   "cell_type": "code",
   "execution_count": 7,
   "id": "gyUPCdYxwRu-",
   "metadata": {
    "colab": {
     "base_uri": "https://localhost:8080/"
    },
    "id": "gyUPCdYxwRu-",
    "outputId": "44ddf200-f108-4da0-e12a-b9f3ac46a62a"
   },
   "outputs": [
    {
     "name": "stdout",
     "output_type": "stream",
     "text": [
      "Pauli strings list: \n",
      "\n",
      "[<Pauli.I: 0>, <Pauli.I: 0>] :  0.504\n",
      "[<Pauli.I: 0>, <Pauli.X: 1>] :  -0.248\n",
      "[<Pauli.X: 1>, <Pauli.I: 0>] :  -0.248\n",
      "\n",
      "Number of qubits for matrix representation = 2\n"
     ]
    }
   ],
   "source": [
    "from classiq import *\n",
    "\n",
    "hamiltonian = matrix_to_hamiltonian(A)\n",
    "n = len(hamiltonian[0].pauli)\n",
    "print(\"Pauli strings list: \\n\")\n",
    "for pterm in hamiltonian:\n",
    "    print(pterm.pauli, \": \", np.round(pterm.coefficient, 3))\n",
    "\n",
    "print(\"\\nNumber of qubits for matrix representation =\", n)"
   ]
  },
  {
   "cell_type": "markdown",
   "id": "w6OqgvnoCFW8",
   "metadata": {
    "id": "w6OqgvnoCFW8"
   },
   "source": [
    "## How to Build the Algorithm with Classiq"
   ]
  },
  {
   "cell_type": "markdown",
   "id": "_LZAMICoINZW",
   "metadata": {
    "id": "_LZAMICoINZW"
   },
   "source": [
    "### The Quantum Part"
   ]
  },
  {
   "cell_type": "markdown",
   "id": "EISOx1HoIlpF",
   "metadata": {
    "id": "EISOx1HoIlpF"
   },
   "source": [
    "#### Prepare Initial State for the Vector $\\vec{b}$\n",
    "\n",
    "The first step of the HHL algorithm is to load the elements of normalized RHS vector $\\vec{b}$, into a quantum register:\n",
    "$$\n",
    "|0\\rangle_n \\xrightarrow[{\\rm SP}]{} \\sum^{2^n-1}_{i=0}b_i|i\\rangle_n,\n",
    "$$\n",
    "where $|i\\rangle$ are the states in computational basis.\n",
    "\n",
    "Below, we define the quantum function `load_b` using the built-in function [`prepare_amplitudes`](https://github.com/Classiq/classiq-library/blob/main/functions/qmod_library_reference/qmod_core_library/prepare_state_and_amplitudes/prepare_state_and_amplitudes.ipynb). This function loads $2^n$ elements of the vector $\\vec{b}$ into the `amplitudes` parameter. When we use the `load_b` function, the amplitudes of the state in the output register `state` will correspond to the values of the vector $\\vec{b}$.\n"
   ]
  },
  {
   "cell_type": "code",
   "execution_count": 8,
   "id": "cbpnJEkP_MOz",
   "metadata": {
    "id": "cbpnJEkP_MOz"
   },
   "outputs": [],
   "source": [
    "# Encode b as amplitudes\n",
    "@qfunc\n",
    "def load_b(amplitudes: CArray[CReal], state: Output[QArray]) -> None:\n",
    "    prepare_amplitudes(amplitudes, 0.0, state)"
   ]
  },
  {
   "cell_type": "markdown",
   "id": "4dU1HTL-Nr7j",
   "metadata": {
    "id": "4dU1HTL-Nr7j"
   },
   "source": [
    "#### Define HHL Quantum Function"
   ]
  },
  {
   "cell_type": "markdown",
   "id": "5mqn0qrlzcQ-",
   "metadata": {
    "id": "5mqn0qrlzcQ-"
   },
   "source": [
    "The `hhl` function performs matrix eigenvalue inversion using flexible quantum phase estimation [`qpe_flexible`](https://github.com/Classiq/classiq-library/blob/main/functions/qmod_library_reference/classiq_open_library/qpe/qpe.ipynb), with the use of the [`within_apply`](https://docs.classiq.io/latest/qmod-reference/language-reference/statements/within-apply/) construct and the `assign_amplitude` function (see [amplitude encoding assignment](https://docs.classiq.io/latest/qmod-reference/language-reference/statements/amplitude-encoding-assignment/) built-in).\n",
    "\n",
    "The `hhl` function returns normalized solution, by creating a state:\n",
    "$$\n",
    "\\sum^{2^n-1}_{j=0}{\\beta_j |\\tilde{\\lambda_j}\\rangle_m |u_j\\rangle_n \\left(\\sqrt{1-\\frac{C^2}{\\tilde{\\lambda}^2_j}}|0\\rangle_a + \\frac{C}{\\tilde{\\lambda}_j}|1\\rangle_a \\right)} = \\tilde{C} |{\\rm garbage}\\rangle|0\\rangle + C |A^{-1}b\\rangle|1\\rangle,\n",
    "$$\n",
    "\n",
    "where $\\tilde{C}$ and $|{\\rm garbage}\\rangle$ are irrelevant quantities, as the solution is entangled with the `indicator` output qubit at state $|1\\rangle$. The state entangled with $|1\\rangle$ stores the solution to the specific problem (up to the normalization coefficient):\n",
    "$$\n",
    "\\sum^{2^n-1}_{j=0} \\frac{C}{\\lambda_j}\\beta_j  \\vec{\\psi_j} = C|A^{-1}b\\rangle = C|x\\rangle.\n",
    "$$\n",
    "\n",
    "The normalization coefficient $C = \\frac{1}{\\Vert A^{-1}\\vec{b}\\Vert}$ has to be chosen with $O(1/\\kappa)$, which ensures the amplitudes are normalized. However, here we can use the smallest eigenvalue approximation that the QPE can resolve $C = 1/2^{\\rm precision}$, because it lower bounds the minimum eigenvalue.\n",
    "\n",
    "**Arguments:**\n",
    "- `unitary_with_power`: A callable function that applies a unitary operation raised to a power `k`.\n",
    "- `precision`: An integer representing the precision of the phase estimation process (number of `phase` qubits).\n",
    "- `state`: An array representing the initial quantum state $|b\\rangle$ on which the matrix inversion is to be performed.\n",
    "- `indicator`: An auxiliary qubit that stores result of the inversion and indicates if the phase qubits returns normalized solution."
   ]
  },
  {
   "cell_type": "code",
   "execution_count": 9,
   "id": "eejE_t4cN2dZ",
   "metadata": {
    "id": "eejE_t4cN2dZ"
   },
   "outputs": [],
   "source": [
    "# Parameters for the initial state preparation\n",
    "amplitudes = b.tolist()\n",
    "\n",
    "precision = precision\n",
    "\n",
    "# Function for the main quantum program\n",
    "@qfunc\n",
    "def hhl(\n",
    "    rhs_vector: CArray[CReal],\n",
    "    precision: CInt,\n",
    "    hamiltonian_evolution_with_power: QCallable[CInt, QArray],\n",
    "    state: Output[QArray],\n",
    "    phase: Output[QNum],\n",
    "    indicator: Output[QBit],\n",
    "):\n",
    "    # Allocate \"precision\" number of qubits. All of which are fractions: 0.123456. For comparison consider 12.3456\n",
    "    # The quantum register that holds this info is called \"phase\".\n",
    "    allocate(num_qubits=precision, is_signed=UNSIGNED, fraction_digits=precision, out=phase) \n",
    "\n",
    "    # Prepare \"b\", assigned to a quantum register called \"state\". \n",
    "    load_b(amplitudes=amplitudes, state=state)\n",
    "\n",
    "    # Allocate a single qubit to the quantum register called \"indicator\". \n",
    "    # We will perform controlled rotations onto this \"indicator\". \n",
    "    allocate(indicator)\n",
    "\n",
    "    # Perform quantum phase estimation and eigenvalue inversion\n",
    "    within_apply(\n",
    "        # Within block: on the outside, i.e., QPE and QPE^-1\n",
    "        lambda: qpe_flexible(\n",
    "            # A function that performs U operation k (or 2^k) times on the quantum register, \"state\", which encodes b. \n",
    "            unitary_with_power =\n",
    "                # hamiltonian_evolution_with_power(k, qreg) is the function that generates U from A, \n",
    "                # and can repeat itself k (or 2^k) times. \n",
    "                lambda k: hamiltonian_evolution_with_power(k, state),\n",
    "            # The outputs (eigenvalues info) are stored in the \"phase\" quantum register\n",
    "            phase=phase,\n",
    "        ),\n",
    "        # Apply block: on the inside\n",
    "        # Generates C/lambda |1>, where C = 1 / 2**phase.size. Note that C must be a lower bound for the smallest eigenvalue.\n",
    "        # However, this also explains why synthesis takes so long. \n",
    "        # We are supposed to perform the controlled rotations with eigenvalues as controls, and the indicator is the target.\n",
    "        # But here, it computes classical arithmetics to obtain C/lambda given variable lambda, then assigns C/lambda to the indicator qubit. \n",
    "        lambda: assign_amplitude(\n",
    "            # This is C/lambda, \n",
    "            # where \"phase\" (lambda), in the form of |10010>,\n",
    "            # is interpreted as a binary decimal, 0.10010\n",
    "            # C is a lowerbound of the lambda's, since we have scaled A.\n",
    "            (1 / 2**phase.size) / phase,\n",
    "            # C/lambda is amplitude assigned to the indicator qubit\n",
    "            indicator\n",
    "        ),\n",
    "    )\n"
   ]
  },
  {
   "cell_type": "markdown",
   "id": "a9012395-5cbf-43b2-8c1a-46f09deff431",
   "metadata": {
    "id": "a9012395-5cbf-43b2-8c1a-46f09deff431"
   },
   "source": [
    "#### Set Execution Preferences\n",
    "\n",
    "We prepare for the quantum program execution stage by providing execution details and constructing a representation of HHL model from a function defined in Quantum Modelling Language [Qmod](https://docs.classiq.io/latest/qmod-reference/). The resulting circuit is executed on a statevector simulator. For other available Classiq simulated backends see [Execution on Classiq simulators](https://docs.classiq.io/latest/user-guide/execution/cloud-providers/classiq-backends/).\n",
    "\n",
    "To define this part of the model, we set the backend preferences by placing `ClassiqBackendPreferences` with the backend name `SIMULATOR_STATEVECTOR` into the `ExecutionPreferences`."
   ]
  },
  {
   "cell_type": "code",
   "execution_count": 10,
   "id": "7cb726cf-05b7-4cde-b906-f2a65002ec55",
   "metadata": {
    "id": "7cb726cf-05b7-4cde-b906-f2a65002ec55"
   },
   "outputs": [],
   "source": [
    "from classiq.execution import (\n",
    "    ClassiqBackendPreferences,\n",
    "    ClassiqSimulatorBackendNames,\n",
    "    ExecutionPreferences,\n",
    ")\n",
    "\n",
    "backend_preferences = ClassiqBackendPreferences(\n",
    "    backend_name=ClassiqSimulatorBackendNames.SIMULATOR_STATEVECTOR\n",
    ")\n",
    "\n",
    "\n",
    "# Prepare quantum model for simulation\n",
    "# With optional execution preferences.\n",
    "def hhl_model(main, backend_preferences):\n",
    "    qmod_hhl = create_model(\n",
    "        main,\n",
    "        execution_preferences=ExecutionPreferences(\n",
    "            num_shots=1, backend_preferences=backend_preferences\n",
    "        ),\n",
    "    )\n",
    "    return qmod_hhl"
   ]
  },
  {
   "cell_type": "markdown",
   "id": "6CqLnPaXJciT",
   "metadata": {
    "id": "6CqLnPaXJciT"
   },
   "source": [
    "### The Classical Postprocess"
   ]
  },
  {
   "cell_type": "markdown",
   "id": "6ec5d598-de3d-44b1-866c-39490350f79f",
   "metadata": {
    "id": "6ec5d598-de3d-44b1-866c-39490350f79f"
   },
   "source": [
    "After running the circuit a given number of times and collecting measurement results from the ancillary and phase qubits we need to postprocess the data in order to find solution. Measurement values from circuit execution are denoted here by `res_hhl`.\n",
    "\n",
    "We will create helper function `read_positions` that will return:\n",
    "- `target_pos`: the position of the control qubit (ancilla) `indicator`,\n",
    "- `sol_pos`: the positions of the solution register `res` and\n",
    "- `phase_pos`: the positions of the phase qubits.\n",
    "\n",
    "\n",
    "> Important: Although `phase` register are given indices [q0, q1, q2, q3, q4], `phase_pos` are [7, 6, 5, 4, 3]. \n",
    "\n",
    "This is because `phase_pos` correponds to positions of written bitstrings, ordered MSB-LSB by natural language convention. For bitstrings, the indices are 01234..., where LSB are given the Largest index. However, Classiq follows little-Endian (like qiskit), where LSB appears on top of circuit diagrams and are given the Smallest index, following Classiq's indexing standard. This standard applies to both Classiq circuit visualizations and Classiq (Qmod) programming language. \n"
   ]
  },
  {
   "cell_type": "code",
   "execution_count": 11,
   "id": "648879af-eda8-4259-9f7e-006d126872c6",
   "metadata": {
    "id": "648879af-eda8-4259-9f7e-006d126872c6"
   },
   "outputs": [],
   "source": [
    "def read_positions(circuit_hhl, res_hhl):\n",
    "    # positions of control qubit\n",
    "    target_pos = res_hhl.physical_qubits_map[\"indicator\"][0]\n",
    "\n",
    "    # positions of solution\n",
    "    sol_pos = list(res_hhl.physical_qubits_map[\"res\"])\n",
    "\n",
    "    # Finds the position of the \"phase\" register and flips for endianness, as you will use the indices to read directly from the string\n",
    "    total_q = circuit_hhl.data.width  # total number of qubits of the whole circuit\n",
    "    phase_pos = [\n",
    "        total_q - k - 1 for k in range(total_q) if k not in sol_pos + [target_pos]\n",
    "    ]\n",
    "    # Only the phase_pos are used in this algorithm\n",
    "    return target_pos, sol_pos, phase_pos\n",
    "\n",
    "    # In fact, target_pos and sol_pos are wrong.\n",
    "    # Given qubits_map, following Classiq big-Endian standards,\n",
    "    # {'res': (6, 7), 'phase': (0, 1, 2, 3, 4), 'indicator': (5,)}\n",
    "    # we get: (5, [6, 7], [7, 6, 5, 4, 3]) for (target, sol, phase)"
   ]
  },
  {
   "cell_type": "code",
   "execution_count": null,
   "id": "dea19a8f",
   "metadata": {},
   "outputs": [
    {
     "data": {
      "text/plain": [
       "{'res': (6, 7), 'phase': (0, 1, 2, 3, 4), 'indicator': (5,)}"
      ]
     },
     "execution_count": 42,
     "metadata": {},
     "output_type": "execute_result"
    }
   ],
   "source": [
    "res_psi_exact.physical_qubits_map"
   ]
  },
  {
   "cell_type": "code",
   "execution_count": 44,
   "id": "3a922e4f",
   "metadata": {},
   "outputs": [
    {
     "data": {
      "text/plain": [
       "[6, 7]"
      ]
     },
     "execution_count": 44,
     "metadata": {},
     "output_type": "execute_result"
    }
   ],
   "source": [
    "list(res_psi_exact.physical_qubits_map[\"res\"])"
   ]
  },
  {
   "cell_type": "code",
   "execution_count": 47,
   "id": "242d453e",
   "metadata": {},
   "outputs": [
    {
     "data": {
      "text/plain": [
       "5"
      ]
     },
     "execution_count": 47,
     "metadata": {},
     "output_type": "execute_result"
    }
   ],
   "source": [
    "res_psi_exact.physical_qubits_map[\"indicator\"][0]"
   ]
  },
  {
   "cell_type": "code",
   "execution_count": 51,
   "id": "2d75b9d1",
   "metadata": {},
   "outputs": [
    {
     "data": {
      "text/plain": [
       "(5, [6, 7], [7, 6, 5, 4, 3])"
      ]
     },
     "execution_count": 51,
     "metadata": {},
     "output_type": "execute_result"
    }
   ],
   "source": [
    "read_positions(qprog_psi_exact,res_psi_exact)"
   ]
  },
  {
   "cell_type": "code",
   "execution_count": 88,
   "id": "58a7329a",
   "metadata": {},
   "outputs": [
    {
     "data": {
      "text/plain": [
       "9"
      ]
     },
     "execution_count": 88,
     "metadata": {},
     "output_type": "execute_result"
    }
   ],
   "source": [
    "qprog_hhl_exact.data.width"
   ]
  },
  {
   "cell_type": "code",
   "execution_count": 86,
   "id": "1233e2e0",
   "metadata": {},
   "outputs": [
    {
     "data": {
      "text/plain": [
       "{'res': (6, 7, 8), 'phase': (0, 1, 2, 3, 4), 'indicator': (5,)}"
      ]
     },
     "execution_count": 86,
     "metadata": {},
     "output_type": "execute_result"
    }
   ],
   "source": [
    "res_hhl_exact.physical_qubits_map"
   ]
  },
  {
   "cell_type": "code",
   "execution_count": null,
   "id": "f537dee1",
   "metadata": {},
   "outputs": [
    {
     "data": {
      "text/plain": [
       "[SimulatedState(state={'res': 6, 'phase': 0.0, 'indicator': 0}, bitstring='110000000', amplitude=(-0.6981152737103573-1.1102230246251565e-15j)),\n",
       " SimulatedState(state={'res': 5, 'phase': 0.0, 'indicator': 0}, bitstring='101000000', amplitude=(0.48199208192360415-6.106226635438361e-16j)),\n",
       " SimulatedState(state={'res': 4, 'phase': 0.0, 'indicator': 0}, bitstring='100000000', amplitude=(0.4071863852589702-3.0808688933348094e-15j)),\n",
       " SimulatedState(state={'res': 7, 'phase': 0.0, 'indicator': 0}, bitstring='111000000', amplitude=(0.1664596437359431-6.800116025829084e-16j)),\n",
       " SimulatedState(state={'res': 1, 'phase': 0.0, 'indicator': 0}, bitstring='001000000', amplitude=(-0.16190157731556573+7.355227538141662e-16j)),\n",
       " SimulatedState(state={'res': 2, 'phase': 0.0, 'indicator': 0}, bitstring='010000000', amplitude=(-0.15858877444523972+4.0245584642661925e-16j)),\n",
       " SimulatedState(state={'res': 3, 'phase': 0.0, 'indicator': 0}, bitstring='011000000', amplitude=(0.14123577131348028+1.3183898417423734e-16j)),\n",
       " SimulatedState(state={'res': 6, 'phase': 0.0, 'indicator': 1}, bitstring='110100000', amplitude=(-0.07986606366940885+5.551115123125783e-17j)),\n",
       " SimulatedState(state={'res': 3, 'phase': 0.0, 'indicator': 1}, bitstring='011100000', amplitude=(0.05606053788955576-3.8510861166685117e-16j)),\n",
       " SimulatedState(state={'res': 7, 'phase': 0.0, 'indicator': 1}, bitstring='111100000', amplitude=(0.052526675440261274+4.371503159461554e-16j)),\n",
       " SimulatedState(state={'res': 1, 'phase': 0.0, 'indicator': 1}, bitstring='001100000', amplitude=(-0.045923206632864644+6.591949208711867e-17j)),\n",
       " SimulatedState(state={'res': 2, 'phase': 0.0, 'indicator': 1}, bitstring='010100000', amplitude=(0.020690557723917542+8.291978215169138e-16j)),\n",
       " SimulatedState(state={'res': 4, 'phase': 0.0, 'indicator': 1}, bitstring='100100000', amplitude=(0.011672386192878874+4.163336342344337e-17j)),\n",
       " SimulatedState(state={'res': 5, 'phase': 0.0, 'indicator': 1}, bitstring='101100000', amplitude=(0.011364987843455786-1.6479873021779667e-17j)),\n",
       " SimulatedState(state={'res': 7, 'phase': 0.5, 'indicator': 0}, bitstring='111010000', amplitude=(-7.298849025172416e-16+0.008019628904145211j)),\n",
       " SimulatedState(state={'res': 7, 'phase': 0.5, 'indicator': 1}, bitstring='111110000', amplitude=(1.1475195793586579e-15-0.007693048693909349j)),\n",
       " SimulatedState(state={'res': 5, 'phase': 0.5, 'indicator': 0}, bitstring='101010000', amplitude=(3.1858196636314062e-15-0.004995940272176254j)),\n",
       " SimulatedState(state={'res': 5, 'phase': 0.5, 'indicator': 1}, bitstring='101110000', amplitude=(5.767955557622884e-17+0.00481375102569979j)),\n",
       " SimulatedState(state={'res': 3, 'phase': 0.5, 'indicator': 1}, bitstring='011110000', amplitude=(-6.925883477837402e-16+0.004496999369087107j)),\n",
       " SimulatedState(state={'res': 3, 'phase': 0.5, 'indicator': 0}, bitstring='011010000', amplitude=(2.074295596399267e-15-0.004496508361898389j)),\n",
       " SimulatedState(state={'res': 7, 'phase': 0.25, 'indicator': 1}, bitstring='111101000', amplitude=(3.8250652645288596e-16-0.004191197124992135j)),\n",
       " SimulatedState(state={'res': 7, 'phase': 0.25, 'indicator': 0}, bitstring='111001000', amplitude=(-9.280770596475918e-17+0.003684484601024855j)),\n",
       " SimulatedState(state={'res': 1, 'phase': 0.5, 'indicator': 1}, bitstring='001110000', amplitude=(8.977193988179977e-17-0.0035414019381045207j)),\n",
       " SimulatedState(state={'res': 1, 'phase': 0.5, 'indicator': 0}, bitstring='001010000', amplitude=(4.0115480381963664e-17+0.003535961602295149j)),\n",
       " SimulatedState(state={'res': 6, 'phase': 0.5, 'indicator': 0}, bitstring='110010000', amplitude=(-4.580103657447765e-15-0.003529411886378758j)),\n",
       " SimulatedState(state={'res': 6, 'phase': 0.5, 'indicator': 1}, bitstring='110110000', amplitude=(1.3704315460216776e-16+0.0033697643465247233j)),\n",
       " SimulatedState(state={'res': 7, 'phase': 0.75, 'indicator': 0}, bitstring='111011000', amplitude=(0.002948195829431267+4.521123059264553e-16j)),\n",
       " SimulatedState(state={'res': 0, 'phase': 0.0, 'indicator': 1}, bitstring='000100000', amplitude=(-0.002825059884799793+5.074066167232161e-17j)),\n",
       " SimulatedState(state={'res': 5, 'phase': 0.25, 'indicator': 1}, bitstring='101101000', amplitude=(8.868773770931426e-17+0.0024449899484198655j)),\n",
       " SimulatedState(state={'res': 3, 'phase': 0.25, 'indicator': 1}, bitstring='011101000', amplitude=(-3.4932993997482953e-16+0.002431986881030264j)),\n",
       " SimulatedState(state={'res': 5, 'phase': 0.25, 'indicator': 0}, bitstring='101001000', amplitude=(1.7599853865957193e-15-0.0021878622335505258j)),\n",
       " SimulatedState(state={'res': 3, 'phase': 0.25, 'indicator': 0}, bitstring='011001000', amplitude=(3.3263322651855276e-16-0.0020403678006305354j)),\n",
       " SimulatedState(state={'res': 7, 'phase': 0.125, 'indicator': 1}, bitstring='111100100', amplitude=(-2.4969176032341167e-16-0.0019993428947790923j)),\n",
       " SimulatedState(state={'res': 3, 'phase': 0.75, 'indicator': 0}, bitstring='011011000', amplitude=(-0.0019519712497010223-4.711942641622002e-16j)),\n",
       " SimulatedState(state={'res': 1, 'phase': 0.25, 'indicator': 1}, bitstring='001101000', amplitude=(3.961674738262033e-16-0.0018267536684170062j)),\n",
       " SimulatedState(state={'res': 0, 'phase': 0.5, 'indicator': 0}, bitstring='000010000', amplitude=(-7.222954873098431e-16-0.0017463529492558563j)),\n",
       " SimulatedState(state={'res': 7, 'phase': 0.125, 'indicator': 0}, bitstring='111000100', amplitude=(-3.122502256758253e-16+0.0017323562147645577j)),\n",
       " SimulatedState(state={'res': 5, 'phase': 0.75, 'indicator': 0}, bitstring='101011000', amplitude=(-0.0016798994451013615+2.7863995832877464e-16j)),\n",
       " SimulatedState(state={'res': 0, 'phase': 0.5, 'indicator': 1}, bitstring='000110000', amplitude=(-4.0440741033709315e-16+0.0016630653476778755j)),\n",
       " SimulatedState(state={'res': 1, 'phase': 0.75, 'indicator': 0}, bitstring='001011000', amplitude=(0.001639992534919853-2.409097227262791e-16j)),\n",
       " SimulatedState(state={'res': 7, 'phase': 0.75, 'indicator': 1}, bitstring='111111000', amplitude=(-0.001616887018850362-1.2609271266006417e-16j)),\n",
       " SimulatedState(state={'res': 6, 'phase': 0.25, 'indicator': 1}, bitstring='110101000', amplitude=(-3.7025504190379976e-16+0.0015589316656284447j)),\n",
       " SimulatedState(state={'res': 1, 'phase': 0.25, 'indicator': 0}, bitstring='001001000', amplitude=(2.3787395664331967e-16+0.0015006893386688598j)),\n",
       " SimulatedState(state={'res': 5, 'phase': 0.125, 'indicator': 1}, bitstring='101100100', amplitude=(-7.079840186330344e-17+0.0014205945387238972j)),\n",
       " SimulatedState(state={'res': 6, 'phase': 0.75, 'indicator': 0}, bitstring='110011000', amplitude=(-0.001400965977998143-4.649058915617843e-16j)),\n",
       " SimulatedState(state={'res': 3, 'phase': 0.125, 'indicator': 1}, bitstring='011100100', amplitude=(-3.3263322651855276e-16+0.0013514420596470378j)),\n",
       " SimulatedState(state={'res': 3, 'phase': 0.75, 'indicator': 1}, bitstring='011111000', amplitude=(0.0013363045205617003-7.24247051220317e-17j)),\n",
       " SimulatedState(state={'res': 6, 'phase': 0.25, 'indicator': 0}, bitstring='110001000', amplitude=(-1.859948826898883e-15-0.0012761751745200057j)),\n",
       " SimulatedState(state={'res': 5, 'phase': 0.625, 'indicator': 0}, bitstring='101010100', amplitude=(-0.001259244417118475-4.850720519700147e-16j)),\n",
       " SimulatedState(state={'res': 3, 'phase': 0.625, 'indicator': 0}, bitstring='011010100', amplitude=(-0.001214835971663727+7.947201924318748e-17j)),\n",
       " SimulatedState(state={'res': 1, 'phase': 0.75, 'indicator': 1}, bitstring='001111000', amplitude=(-0.0012101694831072936-1.9938477952008427e-16j)),\n",
       " SimulatedState(state={'res': 5, 'phase': 0.75, 'indicator': 1}, bitstring='101111000', amplitude=(0.001149689854459543+1.0196921432226169e-16j)),\n",
       " SimulatedState(state={'res': 7, 'phase': 0.625, 'indicator': 0}, bitstring='111010100', amplitude=(0.001122137577651674+8.435635003023467e-16j)),\n",
       " SimulatedState(state={'res': 5, 'phase': 0.125, 'indicator': 0}, bitstring='101000100', amplitude=(2.6573795247619714e-16-0.0011089830483042443j)),\n",
       " SimulatedState(state={'res': 5, 'phase': 0.625, 'indicator': 1}, bitstring='101110100', amplitude=(0.0010350622281874878-1.0787811616230769e-17j)),\n",
       " SimulatedState(state={'res': 3, 'phase': 0.125, 'indicator': 0}, bitstring='011000100', amplitude=(-1.0136748211653224e-15-0.0010110413287870905j)),\n",
       " SimulatedState(state={'res': 0, 'phase': 0.25, 'indicator': 1}, bitstring='000101000', amplitude=(-4.92227786308419e-17+0.0010073856451963774j)),\n",
       " SimulatedState(state={'res': 3, 'phase': 0.625, 'indicator': 1}, bitstring='011110100', amplitude=(0.0009716562072400529+1.8106176280507924e-17j)),\n",
       " SimulatedState(state={'res': 7, 'phase': 0.0625, 'indicator': 1}, bitstring='111100010', amplitude=(2.0946785972419946e-16-0.0009589746216063567j)),\n",
       " SimulatedState(state={'res': 1, 'phase': 0.125, 'indicator': 1}, bitstring='001100100', amplitude=(1.8014019095846656e-16-0.0009552943593128979j)),\n",
       " SimulatedState(state={'res': 6, 'phase': 0.75, 'indicator': 1}, bitstring='110111000', amplitude=(0.000954913444399932+1.2880321809127793e-16j)),\n",
       " SimulatedState(state={'res': 1, 'phase': 0.625, 'indicator': 0}, bitstring='001010100', amplitude=(0.000907579996908935-3.01950305037213e-17j)),\n",
       " SimulatedState(state={'res': 0, 'phase': 0.25, 'indicator': 0}, bitstring='000001000', amplitude=(-3.603345920255574e-16-0.0009006356048522048j)),\n",
       " SimulatedState(state={'res': 2, 'phase': 0.75, 'indicator': 0}, bitstring='010011000', amplitude=(-0.0008659023757952728+2.2442984970449942e-17j)),\n",
       " SimulatedState(state={'res': 7, 'phase': 0.0625, 'indicator': 0}, bitstring='111000010', amplitude=(1.895456448047783e-15+0.0008476183172934507j)),\n",
       " SimulatedState(state={'res': 1, 'phase': 0.625, 'indicator': 1}, bitstring='001110100', amplitude=(-0.0007779914210683471+1.2419535885821453e-16j)),\n",
       " SimulatedState(state={'res': 2, 'phase': 0.75, 'indicator': 1}, bitstring='010111000', amplitude=(0.0007457371095023671-3.061244834012822e-16j)),\n",
       " SimulatedState(state={'res': 6, 'phase': 0.125, 'indicator': 1}, bitstring='110100100', amplitude=(7.8984128265569e-17+0.0007448841249712505j)),\n",
       " SimulatedState(state={'res': 5, 'phase': 0.0625, 'indicator': 1}, bitstring='101100010', amplitude=(9.009720053354542e-17+0.0007327211172183406j)),\n",
       " SimulatedState(state={'res': 1, 'phase': 0.125, 'indicator': 0}, bitstring='001000100', amplitude=(2.4448758989548125e-17+0.0007203155036549966j)),\n",
       " SimulatedState(state={'res': 1, 'phase': 0.5625, 'indicator': 0}, bitstring='001010010', amplitude=(0.0007120170025865527-2.1708437998591013e-15j)),\n",
       " SimulatedState(state={'res': 5, 'phase': 0.375, 'indicator': 1}, bitstring='101101100', amplitude=(0.0007096284635236405+1.02619735625753e-16j)),\n",
       " SimulatedState(state={'res': 1, 'phase': 0.5625, 'indicator': 1}, bitstring='001110010', amplitude=(-0.0006939554154800873-3.163701939312702e-16j)),\n",
       " SimulatedState(state={'res': 0, 'phase': 0.75, 'indicator': 0}, bitstring='000011000', amplitude=(-0.0006878017776414069+2.4015078120553923e-17j)),\n",
       " SimulatedState(state={'res': 7, 'phase': 0.375, 'indicator': 0}, bitstring='111001100', amplitude=(0.0006691465818198849-2.321276851291465e-16j)),\n",
       " SimulatedState(state={'res': 3, 'phase': 0.0625, 'indicator': 1}, bitstring='011100010', amplitude=(7.361732751176575e-17+0.0006610475803578427j)),\n",
       " SimulatedState(state={'res': 7, 'phase': 0.625, 'indicator': 1}, bitstring='111110100', amplitude=(-0.000647096211878292-8.673617379884035e-18j)),\n",
       " SimulatedState(state={'res': 3, 'phase': 0.375, 'indicator': 1}, bitstring='011101100', amplitude=(0.000645915634219605+2.198762005800603e-16j)),\n",
       " SimulatedState(state={'res': 5, 'phase': 0.5625, 'indicator': 0}, bitstring='101010010', amplitude=(-0.000642313752897444+4.949382917396328e-17j)),\n",
       " SimulatedState(state={'res': 5, 'phase': 0.875, 'indicator': 0}, bitstring='101011100', amplitude=(-1.566672139241554e-17+0.0006420856956688837j)),\n",
       " SimulatedState(state={'res': 6, 'phase': 0.625, 'indicator': 0}, bitstring='110010100', amplitude=(-0.0006203895375067246-1.0787811616230769e-16j)),\n",
       " SimulatedState(state={'res': 5, 'phase': 0.53125, 'indicator': 1}, bitstring='101110001', amplitude=(0.0006021410255412806+2.93086952277144e-16j)),\n",
       " SimulatedState(state={'res': 5, 'phase': 0.53125, 'indicator': 0}, bitstring='101010001', amplitude=(-0.0006013326248063542-6.970064716366187e-16j)),\n",
       " SimulatedState(state={'res': 6, 'phase': 0.125, 'indicator': 0}, bitstring='110000100', amplitude=(8.998878031629687e-18-0.0005833291986090052j)),\n",
       " SimulatedState(state={'res': 4, 'phase': 0.5, 'indicator': 0}, bitstring='100010000', amplitude=(2.8906185171179155e-15+0.0005730257912062827j)),\n",
       " SimulatedState(state={'res': 4, 'phase': 0.53125, 'indicator': 1}, bitstring='100110001', amplitude=(0.0005708862772883089+2.1684043449710089e-16j)),\n",
       " SimulatedState(state={'res': 4, 'phase': 0.5, 'indicator': 1}, bitstring='100110000', amplitude=(9.059593353288875e-16-0.0005691087756148345j)),\n",
       " SimulatedState(state={'res': 1, 'phase': 0.0625, 'indicator': 1}, bitstring='001100010', amplitude=(2.99781900692242e-17-0.0005605185523050257j)),\n",
       " SimulatedState(state={'res': 5, 'phase': 0.5625, 'indicator': 1}, bitstring='101110010', amplitude=(0.0005594808016745796+5.0903291998194433e-17j)),\n",
       " SimulatedState(state={'res': 5, 'phase': 0.0625, 'indicator': 0}, bitstring='101000010', amplitude=(-1.016168486162039e-16-0.0005501085479438537j)),\n",
       " SimulatedState(state={'res': 3, 'phase': 0.375, 'indicator': 0}, bitstring='011001100', amplitude=(-0.0005461393964291563+4.75287127363333e-16j)),\n",
       " SimulatedState(state={'res': 5, 'phase': 0.375, 'indicator': 0}, bitstring='101001100', amplitude=(-0.0005324332054161946-5.643272307787051e-16j)),\n",
       " SimulatedState(state={'res': 4, 'phase': 0.25, 'indicator': 0}, bitstring='100001000', amplitude=(1.3929016360464397e-15+0.0005265793693189347j)),\n",
       " SimulatedState(state={'res': 1, 'phase': 0.375, 'indicator': 1}, bitstring='001101100', amplitude=(-0.000525797801113792-2.158375474875518e-16j)),\n",
       " SimulatedState(state={'res': 7, 'phase': 0.375, 'indicator': 1}, bitstring='111101100', amplitude=(-0.0005158250481348247+1.4972832002024816e-16j)),\n",
       " SimulatedState(state={'res': 3, 'phase': 0.5625, 'indicator': 0}, bitstring='011010010', amplitude=(-0.0005137965054727759-1.811701830223278e-16j)),\n",
       " SimulatedState(state={'res': 4, 'phase': 0.25, 'indicator': 1}, bitstring='100101000', amplitude=(7.209944447028604e-17-0.0005077647681269321j)),\n",
       " SimulatedState(state={'res': 4, 'phase': 0.125, 'indicator': 1}, bitstring='100100100', amplitude=(9.250955036732567e-17-0.0005072221668808109j)),\n",
       " SimulatedState(state={'res': 6, 'phase': 0.625, 'indicator': 1}, bitstring='110110100', amplitude=(0.0005033353404000531+4.450649918052996e-17j)),\n",
       " SimulatedState(state={'res': 7, 'phase': 0.03125, 'indicator': 1}, bitstring='111100001', amplitude=(-5.824876171678373e-17-0.0004969890002838541j)),\n",
       " SimulatedState(state={'res': 3, 'phase': 0.0625, 'indicator': 0}, bitstring='011000010', amplitude=(3.2938062000109625e-16-0.0004939854385352067j)),\n",
       " SimulatedState(state={'res': 4, 'phase': 0.78125, 'indicator': 0}, bitstring='100011001', amplitude=(6.099179321317205e-16+0.0004902379633089492j)),\n",
       " SimulatedState(state={'res': 7, 'phase': 0.875, 'indicator': 1}, bitstring='111111100', amplitude=(-1.0790522121661983e-16-0.0004839575681669265j)),\n",
       " SimulatedState(state={'res': 2, 'phase': 0.625, 'indicator': 0}, bitstring='010010100', amplitude=(-0.0004815281354250087+1.421931149214739e-16j)),\n",
       " SimulatedState(state={'res': 4, 'phase': 0.78125, 'indicator': 1}, bitstring='100111001', amplitude=(2.49556235051851e-16-0.00047487059918255894j)),\n",
       " SimulatedState(state={'res': 6, 'phase': 0.53125, 'indicator': 1}, bitstring='110110001', amplitude=(-0.0004744000084428027-4.073889663114283e-16j)),\n",
       " SimulatedState(state={'res': 4, 'phase': 0.53125, 'indicator': 0}, bitstring='100010001', amplitude=(-0.00047162187878446813-2.530636290798416e-15j)),\n",
       " SimulatedState(state={'res': 7, 'phase': 0.5625, 'indicator': 0}, bitstring='111010010', amplitude=(0.0004630297236061459+4.663966695489519e-16j)),\n",
       " SimulatedState(state={'res': 1, 'phase': 0.3125, 'indicator': 1}, bitstring='001101010', amplitude=(-0.0004412585468826364-2.9362905336338674e-16j)),\n",
       " SimulatedState(state={'res': 2, 'phase': 0.625, 'indicator': 1}, bitstring='010110100', amplitude=(0.00043231375014116493-1.7780915628762273e-16j)),\n",
       " SimulatedState(state={'res': 2, 'phase': 0.5, 'indicator': 1}, bitstring='010110000', amplitude=(4.775910569798647e-17+0.000429591214096512j)),\n",
       " SimulatedState(state={'res': 7, 'phase': 0.03125, 'indicator': 0}, bitstring='111000001', amplitude=(-2.4794619482571e-15+0.00042595731274798346j)),\n",
       " SimulatedState(state={'res': 5, 'phase': 0.78125, 'indicator': 0}, bitstring='101011001', amplitude=(-3.6857452853644723e-16+0.00042106728743080725j)),\n",
       " SimulatedState(state={'res': 4, 'phase': 0.65625, 'indicator': 1}, bitstring='100110101', amplitude=(1.3847972248071105e-16-0.00041928334202298275j)),\n",
       " SimulatedState(state={'res': 5, 'phase': 0.03125, 'indicator': 1}, bitstring='101100001', amplitude=(2.040197438074598e-16+0.0004154231147650018j)),\n",
       " SimulatedState(state={'res': 3, 'phase': 0.875, 'indicator': 0}, bitstring='011011100', amplitude=(-3.735889635841927e-16+0.0004142128098742078j)),\n",
       " SimulatedState(state={'res': 3, 'phase': 0.5625, 'indicator': 1}, bitstring='011110010', amplitude=(0.000413731042734175-1.256861368453821e-16j)),\n",
       " SimulatedState(state={'res': 6, 'phase': 0.375, 'indicator': 1}, bitstring='110101100', amplitude=(0.00041106936414502746+7.868597266813548e-17j)),\n",
       " SimulatedState(state={'res': 1, 'phase': 0.375, 'indicator': 0}, bitstring='001001100', amplitude=(0.0004090435614387827-1.5875430310618999e-16j)),\n",
       " SimulatedState(state={'res': 1, 'phase': 0.8125, 'indicator': 0}, bitstring='001011010', amplitude=(-4.046784608802145e-17-0.00040651304521813376j)),\n",
       " SimulatedState(state={'res': 6, 'phase': 0.78125, 'indicator': 0}, bitstring='110011001', amplitude=(-5.750337272319994e-16-0.00040174916129796816j)),\n",
       " SimulatedState(state={'res': 5, 'phase': 0.3125, 'indicator': 1}, bitstring='101101010', amplitude=(0.000400493895521668-6.58652819784944e-17j)),\n",
       " SimulatedState(state={'res': 6, 'phase': 0.875, 'indicator': 0}, bitstring='110011100', amplitude=(1.8257964584655895e-16+0.0004002719372083706j)),\n",
       " SimulatedState(state={'res': 3, 'phase': 0.53125, 'indicator': 0}, bitstring='011010001', amplitude=(-0.0003969663515278866+6.288372600415926e-17j)),\n",
       " SimulatedState(state={'res': 6, 'phase': 0.53125, 'indicator': 0}, bitstring='110010001', amplitude=(0.00039293244632551504-1.3522440545782333e-15j)),\n",
       " SimulatedState(state={'res': 4, 'phase': 0.6875, 'indicator': 1}, bitstring='100110110', amplitude=(-1.5598958756635195e-16-0.0003885484530568269j)),\n",
       " SimulatedState(state={'res': 0, 'phase': 0.125, 'indicator': 0}, bitstring='000000100', amplitude=(2.907017074976759e-16-0.0003825687542867147j)),\n",
       " SimulatedState(state={'res': 7, 'phase': 0.53125, 'indicator': 0}, bitstring='111010001', amplitude=(0.0003819727493205605+1.591879839751842e-16j)),\n",
       " SimulatedState(state={'res': 6, 'phase': 0.78125, 'indicator': 1}, bitstring='110111001', amplitude=(-3.405750074320091e-16+0.0003732262477339369j)),\n",
       " SimulatedState(state={'res': 3, 'phase': 0.53125, 'indicator': 1}, bitstring='011110001', amplitude=(0.00036976149623330767+1.282882220593473e-16j)),\n",
       " SimulatedState(state={'res': 1, 'phase': 0.0625, 'indicator': 0}, bitstring='001000010', amplitude=(1.3683173517853309e-15+0.0003675741574404247j)),\n",
       " SimulatedState(state={'res': 5, 'phase': 0.28125, 'indicator': 1}, bitstring='101101001', amplitude=(0.00036668945990356804+1.1684988913962524e-16j)),\n",
       " SimulatedState(state={'res': 0, 'phase': 0.6875, 'indicator': 0}, bitstring='000010110', amplitude=(1.4755991567527715e-16+0.00035817657145626673j)),\n",
       " SimulatedState(state={'res': 1, 'phase': 0.875, 'indicator': 0}, bitstring='001011100', amplitude=(-1.2555061157382141e-16-0.0003554489754491122j)),\n",
       " SimulatedState(state={'res': 0, 'phase': 0.875, 'indicator': 0}, bitstring='000011100', amplitude=(1.355523766150002e-16-0.00035431317897625947j)),\n",
       " SimulatedState(state={'res': 4, 'phase': 0.65625, 'indicator': 0}, bitstring='100010101', amplitude=(-1.3983226469088672e-15+0.0003535443832574032j)),\n",
       " SimulatedState(state={'res': 3, 'phase': 0.03125, 'indicator': 1}, bitstring='011100001', amplitude=(4.461491939777851e-17+0.00035238464562008557j)),\n",
       " SimulatedState(state={'res': 6, 'phase': 0.0625, 'indicator': 1}, bitstring='110100010', amplitude=(-2.290377089375628e-16+0.00034873744275786716j)),\n",
       " SimulatedState(state={'res': 4, 'phase': 0.625, 'indicator': 0}, bitstring='100010100', amplitude=(0.00033965365172247626-1.0359009657012752e-15j)),\n",
       " SimulatedState(state={'res': 4, 'phase': 0.125, 'indicator': 0}, bitstring='100000100', amplitude=(2.9429583769946532e-15+0.0003371251256567919j)),\n",
       " SimulatedState(state={'res': 2, 'phase': 0.25, 'indicator': 1}, bitstring='010101000', amplitude=(-3.063684288900914e-16+0.00033563969652988817j)),\n",
       " SimulatedState(state={'res': 6, 'phase': 0.375, 'indicator': 0}, bitstring='110001100', amplitude=(-0.0003334226532706353-1.8108886785939138e-16j)),\n",
       " SimulatedState(state={'res': 0, 'phase': 0.125, 'indicator': 1}, bitstring='000100100', amplitude=(1.3644684340730073e-16+0.0003302246347718574j)),\n",
       " SimulatedState(state={'res': 5, 'phase': 0.8125, 'indicator': 0}, bitstring='101011010', amplitude=(-7.345469718589293e-18+0.0003275542628282061j)),\n",
       " SimulatedState(state={'res': 0, 'phase': 0.6875, 'indicator': 1}, bitstring='000110110', amplitude=(1.2349062744609896e-16-0.000325017279326744j)),\n",
       " SimulatedState(state={'res': 7, 'phase': 0.3125, 'indicator': 0}, bitstring='111001010', amplitude=(0.0003131250206572883-3.6000933137381175e-16j)),\n",
       " SimulatedState(state={'res': 0, 'phase': 0.9375, 'indicator': 0}, bitstring='000011110', amplitude=(0.00030589910911297884+3.685474234821351e-16j)),\n",
       " SimulatedState(state={'res': 7, 'phase': 0.53125, 'indicator': 1}, bitstring='111110001', amplitude=(-0.0003047377424362664-5.285485590866834e-18j)),\n",
       " SimulatedState(state={'res': 3, 'phase': 0.3125, 'indicator': 1}, bitstring='011101010', amplitude=(0.0003029849999661621+7.109655746073695e-17j)),\n",
       " SimulatedState(state={'res': 0, 'phase': 0.875, 'indicator': 1}, bitstring='000111100', amplitude=(-1.7293024651143796e-17+0.0002992062319512154j)),\n",
       " SimulatedState(state={'res': 4, 'phase': 0.6875, 'indicator': 0}, bitstring='100010110', amplitude=(-1.4682807920884944e-16+0.00029695626495123643j)),\n",
       " SimulatedState(state={'res': 5, 'phase': 0.9375, 'indicator': 1}, bitstring='101111110', amplitude=(0.00029589922482274475-5.937362147073744e-17j)),\n",
       " SimulatedState(state={'res': 1, 'phase': 0.59375, 'indicator': 1}, bitstring='001110011', amplitude=(4.472333961502706e-18-0.0002909174126006871j)),\n",
       " SimulatedState(state={'res': 4, 'phase': 0.40625, 'indicator': 1}, bitstring='100101101', amplitude=(1.2344996986463075e-16-0.00029090015491151056j)),\n",
       " SimulatedState(state={'res': 0, 'phase': 0.5625, 'indicator': 0}, bitstring='000010010', amplitude=(-0.00028963080996501214+5.642459156157686e-16j)),\n",
       " SimulatedState(state={'res': 4, 'phase': 0.75, 'indicator': 1}, bitstring='100111000', amplitude=(0.00028641989662540174-1.336821278674627e-16j)),\n",
       " SimulatedState(state={'res': 5, 'phase': 0.03125, 'indicator': 0}, bitstring='101000001', amplitude=(1.3381765313902338e-15-0.00028329419160622396j)),\n",
       " SimulatedState(state={'res': 0, 'phase': 0.75, 'indicator': 1}, bitstring='000111000', amplitude=(0.0002805180604985389-2.951198313505543e-16j)),\n",
       " SimulatedState(state={'res': 6, 'phase': 0.0625, 'indicator': 0}, bitstring='110000010', amplitude=(-2.373860656657012e-16-0.000280475725378263j)),\n",
       " SimulatedState(state={'res': 4, 'phase': 0.90625, 'indicator': 0}, bitstring='100011101', amplitude=(0.0002802373004900236-7.675067179024886e-16j)),\n",
       " SimulatedState(state={'res': 5, 'phase': 0.3125, 'indicator': 0}, bitstring='101001010', amplitude=(-0.00027518015603483916+3.2511157394693457e-16j)),\n",
       " SimulatedState(state={'res': 4, 'phase': 0.28125, 'indicator': 1}, bitstring='100101001', amplitude=(0.0002740014369523307+1.3823577699190182e-17j)),\n",
       " SimulatedState(state={'res': 7, 'phase': 0.8125, 'indicator': 1}, bitstring='111111010', amplitude=(2.8514517136368767e-17-0.00027272061736277023j)),\n",
       " SimulatedState(state={'res': 4, 'phase': 0.0625, 'indicator': 1}, bitstring='100100010', amplitude=(1.7658942884357653e-17-0.00026873775651174676j)),\n",
       " SimulatedState(state={'res': 0, 'phase': 0.5625, 'indicator': 1}, bitstring='000110010', amplitude=(0.00026569622103895054+7.026985330421676e-17j)),\n",
       " SimulatedState(state={'res': 5, 'phase': 0.6875, 'indicator': 1}, bitstring='101110110', amplitude=(-2.2510747606230286e-17+0.0002605138710408327j)),\n",
       " SimulatedState(state={'res': 3, 'phase': 0.3125, 'indicator': 0}, bitstring='011001010', amplitude=(-0.00025971081222791266+9.291748143472334e-16j)),\n",
       " SimulatedState(state={'res': 1, 'phase': 0.3125, 'indicator': 0}, bitstring='001001010', amplitude=(0.00025715744671110327-5.093175230522218e-16j)),\n",
       " SimulatedState(state={'res': 7, 'phase': 0.5625, 'indicator': 1}, bitstring='111110010', amplitude=(-0.00025681950326027464-6.696303667813597e-17j)),\n",
       " SimulatedState(state={'res': 4, 'phase': 0.9375, 'indicator': 0}, bitstring='100011110', amplitude=(0.00025541673857445686-5.3044591288853304e-17j)),\n",
       " SimulatedState(state={'res': 1, 'phase': 0.03125, 'indicator': 1}, bitstring='001100001', amplitude=(1.3704315460216776e-16-0.0002539907046655032j)),\n",
       " SimulatedState(state={'res': 0, 'phase': 0.0625, 'indicator': 1}, bitstring='000100010', amplitude=(3.302208766847725e-16+0.00025239905716751025j)),\n",
       " SimulatedState(state={'res': 7, 'phase': 0.1875, 'indicator': 1}, bitstring='111100110', amplitude=(-0.0002514970930213846-1.2872190292834151e-16j)),\n",
       " SimulatedState(state={'res': 3, 'phase': 0.03125, 'indicator': 0}, bitstring='011000001', amplitude=(2.3249766912050718e-15-0.00025006788764567574j)),\n",
       " SimulatedState(state={'res': 7, 'phase': 0.6875, 'indicator': 0}, bitstring='111010110', amplitude=(6.330792010414421e-16-0.0002443843486586117j)),\n",
       " SimulatedState(state={'res': 1, 'phase': 0.1875, 'indicator': 1}, bitstring='001100110', amplitude=(-0.0002430907395870013-7.738493006115288e-18j)),\n",
       " SimulatedState(state={'res': 6, 'phase': 0.5625, 'indicator': 0}, bitstring='110010010', amplitude=(-0.00024276452488721753+2.168810920785691e-16j)),\n",
       " SimulatedState(state={'res': 0, 'phase': 0.59375, 'indicator': 1}, bitstring='000110011', amplitude=(-1.463672932855431e-17+0.00023490457977230007j)),\n",
       " SimulatedState(state={'res': 3, 'phase': 0.28125, 'indicator': 1}, bitstring='011101001', amplitude=(0.00023440380164232695-4.233809483555895e-17j)),\n",
       " SimulatedState(state={'res': 4, 'phase': 0.4375, 'indicator': 1}, bitstring='100101110', amplitude=(-3.1265680149050734e-17-0.00023383173827585372j)),\n",
       " SimulatedState(state={'res': 1, 'phase': 0.59375, 'indicator': 0}, bitstring='001010011', amplitude=(-2.1134352948259938e-15+0.00022974146065290105j)),\n",
       " SimulatedState(state={'res': 1, 'phase': 0.84375, 'indicator': 0}, bitstring='001011011', amplitude=(0.00022695317613366468+2.5844669286623212e-17j)),\n",
       " SimulatedState(state={'res': 7, 'phase': 0.3125, 'indicator': 1}, bitstring='111101010', amplitude=(-0.00022660961438918643+1.2774612097310456e-16j)),\n",
       " SimulatedState(state={'res': 3, 'phase': 0.6875, 'indicator': 1}, bitstring='011110110', amplitude=(-9.626360038955672e-17+0.00022512619736724071j)),\n",
       " SimulatedState(state={'res': 3, 'phase': 0.9375, 'indicator': 1}, bitstring='011111110', amplitude=(0.00021405561380663383+6.040361353459867e-17j)),\n",
       " SimulatedState(state={'res': 4, 'phase': 0.625, 'indicator': 1}, bitstring='100110100', amplitude=(-0.00021240286787300248-1.8259319837371502e-16j)),\n",
       " SimulatedState(state={'res': 7, 'phase': 0.59375, 'indicator': 0}, bitstring='111010011', amplitude=(-7.503356659957494e-16-0.0002096250816038481j)),\n",
       " SimulatedState(state={'res': 6, 'phase': 0.65625, 'indicator': 1}, bitstring='110110101', amplitude=(-1.9270338363214234e-16+0.00020939081760236797j)),\n",
       " SimulatedState(state={'res': 5, 'phase': 0.78125, 'indicator': 1}, bitstring='101111001', amplitude=(1.183406671267928e-16-0.00020929150061626704j)),\n",
       " SimulatedState(state={'res': 0, 'phase': 0.625, 'indicator': 1}, bitstring='000110100', amplitude=(-0.00020875048070186132-4.1061446777457267e-16j)),\n",
       " SimulatedState(state={'res': 1, 'phase': 0.84375, 'indicator': 1}, bitstring='001111011', amplitude=(-0.00020842659888676337-6.032229837166225e-17j)),\n",
       " SimulatedState(state={'res': 0, 'phase': 0.0625, 'indicator': 0}, bitstring='000000010', amplitude=(1.5900502485857726e-15-0.00020572672970813402j)),\n",
       " SimulatedState(state={'res': 4, 'phase': 0.75, 'indicator': 0}, bitstring='100011000', amplitude=(-0.0002027932591862732-2.526868688249029e-16j)),\n",
       " SimulatedState(state={'res': 7, 'phase': 0.28125, 'indicator': 1}, bitstring='111101001', amplitude=(-0.00020178355777338548-5.040184849341989e-17j)),\n",
       " SimulatedState(state={'res': 6, 'phase': 0.5625, 'indicator': 1}, bitstring='110110010', amplitude=(0.0002009347922570083+9.005654295207721e-17j)),\n",
       " SimulatedState(state={'res': 4, 'phase': 0.59375, 'indicator': 1}, bitstring='100110011', amplitude=(2.55858160179423e-16-0.000200552608015446j)),\n",
       " SimulatedState(state={'res': 5, 'phase': 0.9375, 'indicator': 0}, bitstring='101011110', amplitude=(-0.00020006498040909873-6.231723036903558e-16j)),\n",
       " SimulatedState(state={'res': 6, 'phase': 0.28125, 'indicator': 1}, bitstring='110101001', amplitude=(-0.0001979512612085779+4.933119884809045e-18j)),\n",
       " SimulatedState(state={'res': 2, 'phase': 0.125, 'indicator': 1}, bitstring='010100100', amplitude=(-3.6456298049825087e-17+0.00019666780227622135j)),\n",
       " SimulatedState(state={'res': 0, 'phase': 0.59375, 'indicator': 0}, bitstring='000010011', amplitude=(7.315925209389063e-16-0.0001960106044636872j)),\n",
       " SimulatedState(state={'res': 3, 'phase': 0.78125, 'indicator': 0}, bitstring='011011001', amplitude=(2.517652969782902e-16+0.0001923030891952437j)),\n",
       " SimulatedState(state={'res': 7, 'phase': 0.1875, 'indicator': 0}, bitstring='111000110', amplitude=(0.000192133905119126+6.70484175992192e-16j)),\n",
       " SimulatedState(state={'res': 7, 'phase': 0.59375, 'indicator': 1}, bitstring='111110011', amplitude=(-2.9097275804079725e-17+0.00019150976611790612j)),\n",
       " SimulatedState(state={'res': 0, 'phase': 0.71875, 'indicator': 1}, bitstring='000110111', amplitude=(0.00018919973552878613+6.047137617037901e-17j)),\n",
       " SimulatedState(state={'res': 0, 'phase': 0.4375, 'indicator': 1}, bitstring='000101110', amplitude=(6.572975670693371e-18-0.00018509958277914998j)),\n",
       " SimulatedState(state={'res': 5, 'phase': 0.28125, 'indicator': 0}, bitstring='101001001', amplitude=(-0.00018498407892197834+1.4776862459348061e-15j)),\n",
       " SimulatedState(state={'res': 0, 'phase': 0.1875, 'indicator': 1}, bitstring='000100110', amplitude=(0.00018181816113198328-1.510158101000747e-16j)),\n",
       " SimulatedState(state={'res': 6, 'phase': 0.3125, 'indicator': 1}, bitstring='110101010', amplitude=(0.00018124807427946898+5.898059818321144e-17j)),\n",
       " SimulatedState(state={'res': 0, 'phase': 0.84375, 'indicator': 0}, bitstring='000011011', amplitude=(-0.00018078391981152803+3.2955680285412514e-16j)),\n",
       " SimulatedState(state={'res': 7, 'phase': 0.28125, 'indicator': 0}, bitstring='111001001', amplitude=(0.00018000107963389431-1.3528268132459442e-15j)),\n",
       " SimulatedState(state={'res': 4, 'phase': 0.8125, 'indicator': 1}, bitstring='100111010', amplitude=(6.098637220230962e-19-0.0001771617891515916j)),\n",
       " SimulatedState(state={'res': 1, 'phase': 0.03125, 'indicator': 0}, bitstring='001000001', amplitude=(2.856628779010495e-15+0.00017685370259651852j)),\n",
       " SimulatedState(state={'res': 7, 'phase': 0.65625, 'indicator': 0}, bitstring='111010101', amplitude=(7.189615656294501e-16-0.0001755840563429278j)),\n",
       " SimulatedState(state={'res': 0, 'phase': 0.71875, 'indicator': 0}, bitstring='000010111', amplitude=(-0.0001751969737890743-1.2364648150839375e-15j)),\n",
       " SimulatedState(state={'res': 4, 'phase': 0.15625, 'indicator': 1}, bitstring='100100101', amplitude=(0.00017435522606288484-2.545977751539086e-16j)),\n",
       " SimulatedState(state={'res': 4, 'phase': 0.9375, 'indicator': 1}, bitstring='100111110', amplitude=(-0.000172870637997575+7.888926057547652e-17j)),\n",
       " SimulatedState(state={'res': 6, 'phase': 0.40625, 'indicator': 1}, bitstring='110101101', amplitude=(-2.774744409933527e-16+0.00016867329604276213j)),\n",
       " SimulatedState(state={'res': 7, 'phase': 0.15625, 'indicator': 1}, bitstring='111100101', amplitude=(-0.00016814771850232692-1.9325903724554117e-17j)),\n",
       " SimulatedState(state={'res': 4, 'phase': 0.0625, 'indicator': 0}, bitstring='100000010', amplitude=(2.137341952729299e-15+0.00016774870171294863j)),\n",
       " SimulatedState(state={'res': 1, 'phase': 0.9375, 'indicator': 1}, bitstring='001111110', amplitude=(-0.00016608266638740529+1.228672111969198e-16j)),\n",
       " SimulatedState(state={'res': 5, 'phase': 0.15625, 'indicator': 1}, bitstring='101100101', amplitude=(0.00016329699935294762-1.0476103491641187e-17j)),\n",
       " SimulatedState(state={'res': 7, 'phase': 0.84375, 'indicator': 0}, bitstring='111011011', amplitude=(-0.0001594674223196618-3.771126206447706e-16j)),\n",
       " SimulatedState(state={'res': 4, 'phase': 0.34375, 'indicator': 1}, bitstring='100101011', amplitude=(1.3983497519631793e-16-0.00015873546291883604j)),\n",
       " SimulatedState(state={'res': 6, 'phase': 0.65625, 'indicator': 0}, bitstring='110010101', amplitude=(-3.1655992931145516e-16-0.00015742339887831353j)),\n",
       " SimulatedState(state={'res': 6, 'phase': 0.90625, 'indicator': 0}, bitstring='110011101', amplitude=(-0.00015638004757540633-9.746706480101563e-16j)),\n",
       " SimulatedState(state={'res': 0, 'phase': 0.78125, 'indicator': 0}, bitstring='000011001', amplitude=(6.043613959977323e-16-0.00015519650011797502j)),\n",
       " SimulatedState(state={'res': 0, 'phase': 0.78125, 'indicator': 1}, bitstring='000111001', amplitude=(-3.5236570605778894e-17+0.0001551362740850397j)),\n",
       " SimulatedState(state={'res': 1, 'phase': 0.34375, 'indicator': 1}, bitstring='001101011', amplitude=(-2.839254439196415e-17-0.00015460907246980793j)),\n",
       " SimulatedState(state={'res': 3, 'phase': 0.28125, 'indicator': 0}, bitstring='011001001', amplitude=(-0.00015265069894486837-4.935423814425577e-16j)),\n",
       " SimulatedState(state={'res': 0, 'phase': 0.84375, 'indicator': 1}, bitstring='000111011', amplitude=(0.00015225929190306823+5.689350900117685e-17j)),\n",
       " SimulatedState(state={'res': 4, 'phase': 0.875, 'indicator': 1}, bitstring='100111100', amplitude=(-5.766600304907277e-17-0.00015219520077600765j)),\n",
       " SimulatedState(state={'res': 6, 'phase': 0.3125, 'indicator': 0}, bitstring='110001010', amplitude=(-0.00015212332515407158+4.362287440995427e-16j)),\n",
       " SimulatedState(state={'res': 5, 'phase': 0.1875, 'indicator': 1}, bitstring='101100110', amplitude=(0.00014940572181375902-8.670229248095018e-17j)),\n",
       " SimulatedState(state={'res': 4, 'phase': 0.96875, 'indicator': 1}, bitstring='100111111', amplitude=(1.742177365912645e-17-0.00014694044477464685j)),\n",
       " SimulatedState(state={'res': 0, 'phase': 0.96875, 'indicator': 0}, bitstring='000011111', amplitude=(-1.9181569310341984e-16+0.00014605828621631661j)),\n",
       " SimulatedState(state={'res': 5, 'phase': 0.90625, 'indicator': 1}, bitstring='101111101', amplitude=(0.0001456194950703485-7.269575566515307e-17j)),\n",
       " SimulatedState(state={'res': 3, 'phase': 0.9375, 'indicator': 0}, bitstring='011011110', amplitude=(-0.00014456316641344623-7.746624522408929e-17j)),\n",
       " SimulatedState(state={'res': 2, 'phase': 0.78125, 'indicator': 0}, bitstring='010011001', amplitude=(1.928517838045013e-15-0.00014219144585529358j)),\n",
       " SimulatedState(state={'res': 1, 'phase': 0.53125, 'indicator': 0}, bitstring='001010001', amplitude=(0.0001417331386571328+1.7687538716656959e-15j)),\n",
       " SimulatedState(state={'res': 6, 'phase': 0.8125, 'indicator': 0}, bitstring='110011010', amplitude=(-1.6382972452613775e-16+0.00014150710159219608j)),\n",
       " SimulatedState(state={'res': 3, 'phase': 0.1875, 'indicator': 1}, bitstring='011100110', amplitude=(0.00014108294393675222+4.868067754459915e-17j)),\n",
       " SimulatedState(state={'res': 4, 'phase': 0.59375, 'indicator': 0}, bitstring='100010011', amplitude=(6.504941984369905e-16+0.0001409986194998463j)),\n",
       " SimulatedState(state={'res': 2, 'phase': 0.375, 'indicator': 1}, bitstring='010101100', amplitude=(0.000134789675337309+1.657677359094556e-16j)),\n",
       " SimulatedState(state={'res': 1, 'phase': 0.6875, 'indicator': 0}, bitstring='001010110', amplitude=(-2.1770101997151126e-16-0.00013394003140855805j)),\n",
       " SimulatedState(state={'res': 6, 'phase': 0.1875, 'indicator': 1}, bitstring='110100110', amplitude=(0.00013305413769879032+5.1154013750581706e-17j)),\n",
       " SimulatedState(state={'res': 5, 'phase': 0.4375, 'indicator': 1}, bitstring='101101110', amplitude=(-8.466263714396183e-17+0.00013232948151178475j)),\n",
       " SimulatedState(state={'res': 4, 'phase': 0.375, 'indicator': 1}, bitstring='100101100', amplitude=(-0.00013125348424766517-9.519972700780532e-17j)),\n",
       " SimulatedState(state={'res': 2, 'phase': 0.78125, 'indicator': 1}, bitstring='010111001', amplitude=(1.2313826174004117e-16+0.00013113043933865492j)),\n",
       " SimulatedState(state={'res': 0, 'phase': 0.3125, 'indicator': 1}, bitstring='000101010', amplitude=(0.00013064629202228357-3.853661096828165e-17j)),\n",
       " SimulatedState(state={'res': 3, 'phase': 0.8125, 'indicator': 1}, bitstring='011111010', amplitude=(-1.9260173967847183e-16+0.00013036704084733725j)),\n",
       " SimulatedState(state={'res': 7, 'phase': 0.9375, 'indicator': 0}, bitstring='111011110', amplitude=(-0.0001295128439299606+3.160991433881488e-16j)),\n",
       " SimulatedState(state={'res': 0, 'phase': 0.9375, 'indicator': 1}, bitstring='000111110', amplitude=(-0.00012660975687849883+1.3701604954785562e-17j)),\n",
       " SimulatedState(state={'res': 0, 'phase': 0.8125, 'indicator': 0}, bitstring='000011010', amplitude=(-2.0055707311908422e-16+0.00012643241365984048j)),\n",
       " SimulatedState(state={'res': 6, 'phase': 0.6875, 'indicator': 0}, bitstring='110010110', amplitude=(2.490886728649666e-16+0.0001260202078378886j)),\n",
       " SimulatedState(state={'res': 7, 'phase': 0.09375, 'indicator': 1}, bitstring='111100011', amplitude=(-0.00012502561589640296-4.967001202699217e-17j)),\n",
       " SimulatedState(state={'res': 1, 'phase': 0.8125, 'indicator': 1}, bitstring='001111010', amplitude=(-1.3808669919318506e-16+0.0001245786636163637j)),\n",
       " SimulatedState(state={'res': 3, 'phase': 0.8125, 'indicator': 0}, bitstring='011011010', amplitude=(-2.569897961969547e-16+0.00012453833379249968j)),\n",
       " SimulatedState(state={'res': 0, 'phase': 0.53125, 'indicator': 1}, bitstring='000110001', amplitude=(-0.00012313760674896308+3.481644226394076e-17j)),\n",
       " SimulatedState(state={'res': 3, 'phase': 0.875, 'indicator': 1}, bitstring='011111100', amplitude=(-3.4835415801959257e-16+0.00012308779950153108j)),\n",
       " SimulatedState(state={'res': 3, 'phase': 0.4375, 'indicator': 1}, bitstring='011101110', amplitude=(-2.8324781756183803e-17+0.00012284256646598926j)),\n",
       " SimulatedState(state={'res': 0, 'phase': 0.375, 'indicator': 1}, bitstring='000101100', amplitude=(-0.00012259865421190692-2.572201891586079e-16j)),\n",
       " SimulatedState(state={'res': 6, 'phase': 0.03125, 'indicator': 0}, bitstring='110000001', amplitude=(-5.478812390748156e-15-0.00012234931240108398j)),\n",
       " SimulatedState(state={'res': 5, 'phase': 0.6875, 'indicator': 0}, bitstring='101010110', amplitude=(-2.9378490742568153e-16-0.00012196278216246431j)),\n",
       " SimulatedState(state={'res': 4, 'phase': 0.375, 'indicator': 0}, bitstring='100001100', amplitude=(0.00012112285384782123-9.126678362711416e-16j)),\n",
       " SimulatedState(state={'res': 0, 'phase': 0.34375, 'indicator': 1}, bitstring='000101011', amplitude=(-2.3967644275507682e-17+0.00011966239012995314j)),\n",
       " SimulatedState(state={'res': 3, 'phase': 0.1875, 'indicator': 0}, bitstring='011000110', amplitude=(-0.00011895468951356029+3.0347496434227073e-16j)),\n",
       " SimulatedState(state={'res': 0, 'phase': 0.46875, 'indicator': 1}, bitstring='000101111', amplitude=(0.00011748784769719118+8.677683138030856e-17j)),\n",
       " SimulatedState(state={'res': 1, 'phase': 0.53125, 'indicator': 1}, bitstring='001110001', amplitude=(-0.00011731372070479874+1.4565578560984949e-16j)),\n",
       " SimulatedState(state={'res': 7, 'phase': 0.78125, 'indicator': 0}, bitstring='111011001', amplitude=(-2.563324986298854e-16-0.00011710399858443218j)),\n",
       " SimulatedState(state={'res': 1, 'phase': 0.28125, 'indicator': 1}, bitstring='001101001', amplitude=(-0.00011661271941044602+1.1243854155032484e-16j)),\n",
       " SimulatedState(state={'res': 1, 'phase': 0.1875, 'indicator': 0}, bitstring='001000110', amplitude=(0.00011581032608443771-8.397891214893816e-16j)),\n",
       " SimulatedState(state={'res': 1, 'phase': 0.71875, 'indicator': 1}, bitstring='001110111', amplitude=(-0.00011510716606510535-6.621087142097415e-17j)),\n",
       " SimulatedState(state={'res': 2, 'phase': 0.6875, 'indicator': 1}, bitstring='010110110', amplitude=(-1.0388012065126739e-16+0.00011509199851524287j)),\n",
       " SimulatedState(state={'res': 3, 'phase': 0.15625, 'indicator': 1}, bitstring='011100101', amplitude=(0.00011443366033832488-4.595661958622932e-17j)),\n",
       " SimulatedState(state={'res': 2, 'phase': 0.5, 'indicator': 0}, bitstring='010010000', amplitude=(-2.0104157596491368e-15-0.00010958200644991003j)),\n",
       " SimulatedState(state={'res': 4, 'phase': 0.84375, 'indicator': 0}, bitstring='100011011', amplitude=(0.00010939408657366457-1.0020060952839471e-16j)),\n",
       " SimulatedState(state={'res': 1, 'phase': 0.78125, 'indicator': 1}, bitstring='001111001', amplitude=(-6.042394232533277e-17-0.00010907763932155084j)),\n",
       " SimulatedState(state={'res': 5, 'phase': 0.1875, 'indicator': 0}, bitstring='101000110', amplitude=(-0.0001088847867404534-4.466032036375134e-16j)),\n",
       " SimulatedState(state={'res': 5, 'phase': 0.84375, 'indicator': 1}, bitstring='101111011', amplitude=(0.0001083777614680616+2.4909544912854464e-17j)),\n",
       " SimulatedState(state={'res': 7, 'phase': 0.34375, 'indicator': 1}, bitstring='111101011', amplitude=(-1.2663481374630692e-16+0.00010753166589377736j)),\n",
       " SimulatedState(state={'res': 2, 'phase': 0.5625, 'indicator': 0}, bitstring='010010010', amplitude=(-0.00010734023452174068-3.8870680762678744e-16j)),\n",
       " SimulatedState(state={'res': 2, 'phase': 0.65625, 'indicator': 1}, bitstring='010110101', amplitude=(5.421010862427522e-18+0.00010707154451245342j)),\n",
       " SimulatedState(state={'res': 7, 'phase': 0.65625, 'indicator': 1}, bitstring='111110101', amplitude=(2.1093153265705489e-16+0.00010555482951374831j)),\n",
       " SimulatedState(state={'res': 3, 'phase': 0.90625, 'indicator': 1}, bitstring='011111101', amplitude=(0.00010366515886087986-4.9629354445523965e-17j)),\n",
       " SimulatedState(state={'res': 7, 'phase': 0.90625, 'indicator': 0}, bitstring='111011101', amplitude=(-0.00010351685750209491-1.646835337369701e-16j)),\n",
       " SimulatedState(state={'res': 2, 'phase': 0.53125, 'indicator': 1}, bitstring='010110001', amplitude=(-0.00010290433588032075-3.0054761847655986e-16j)),\n",
       " SimulatedState(state={'res': 4, 'phase': 0.875, 'indicator': 0}, bitstring='100011100', amplitude=(5.79289220759005e-16-0.00010271377485718123j)),\n",
       " SimulatedState(state={'res': 7, 'phase': 0.15625, 'indicator': 0}, bitstring='111000101', amplitude=(0.00010222552458057481+2.621871903613071e-16j)),\n",
       " SimulatedState(state={'res': 1, 'phase': 0.90625, 'indicator': 1}, bitstring='001111101', amplitude=(-9.93680976692609e-05-2.376435636816665e-17j)),\n",
       " SimulatedState(state={'res': 2, 'phase': 0.6875, 'indicator': 0}, bitstring='010010110', amplitude=(-1.1430879029786234e-16-9.923536823693131e-05j)),\n",
       " SimulatedState(state={'res': 2, 'phase': 0.875, 'indicator': 0}, bitstring='010011100', amplitude=(-5.213250621124987e-16+9.880788442405708e-05j)),\n",
       " SimulatedState(state={'res': 1, 'phase': 0.46875, 'indicator': 1}, bitstring='001101111', amplitude=(-9.803649818476133e-05-3.9302328752599536e-17j)),\n",
       " SimulatedState(state={'res': 2, 'phase': 0.65625, 'indicator': 0}, bitstring='010010101', amplitude=(2.9177913340658335e-16-9.796978709546865e-05j)),\n",
       " SimulatedState(state={'res': 1, 'phase': 0.28125, 'indicator': 0}, bitstring='001001001', amplitude=(9.643102296718887e-05+1.8965542027474247e-15j)),\n",
       " SimulatedState(state={'res': 4, 'phase': 0.40625, 'indicator': 0}, bitstring='100001101', amplitude=(-2.1305250315697966e-16+9.593897931092698e-05j)),\n",
       " SimulatedState(state={'res': 0, 'phase': 0.03125, 'indicator': 0}, bitstring='000000001', amplitude=(2.933884960063665e-15-9.588094745742993e-05j)),\n",
       " SimulatedState(state={'res': 0, 'phase': 0.03125, 'indicator': 1}, bitstring='000100001', amplitude=(-1.4040418133687282e-17+9.526100753127624e-05j)),\n",
       " SimulatedState(state={'res': 0, 'phase': 0.625, 'indicator': 0}, bitstring='000010100', amplitude=(9.345765826239374e-05-6.931914352421853e-16j)),\n",
       " SimulatedState(state={'res': 4, 'phase': 0.21875, 'indicator': 1}, bitstring='100100111', amplitude=(3.9918968738200666e-17-9.287644486561814e-05j)),\n",
       " SimulatedState(state={'res': 1, 'phase': 0.65625, 'indicator': 1}, bitstring='001110101', amplitude=(-2.330357044486031e-17-9.137581918532245e-05j)),\n",
       " SimulatedState(state={'res': 3, 'phase': 0.6875, 'indicator': 0}, bitstring='011010110', amplitude=(-2.4962399768763133e-16-9.130094422452701e-05j)),\n",
       " SimulatedState(state={'res': 2, 'phase': 0.8125, 'indicator': 1}, bitstring='010111010', amplitude=(3.242442122089462e-17+9.081083737129453e-05j)),\n",
       " SimulatedState(state={'res': 0, 'phase': 0.53125, 'indicator': 0}, bitstring='000010001', amplitude=(8.99553638618011e-05+1.639557630286892e-15j)),\n",
       " SimulatedState(state={'res': 6, 'phase': 0.03125, 'indicator': 1}, bitstring='110100001', amplitude=(-3.135173869649177e-16+8.776876614130393e-05j)),\n",
       " SimulatedState(state={'res': 0, 'phase': 0.4375, 'indicator': 0}, bitstring='000001110', amplitude=(-3.541343108516559e-16+8.704616751883659e-05j)),\n",
       " SimulatedState(state={'res': 7, 'phase': 0.6875, 'indicator': 1}, bitstring='111110110', amplitude=(1.5682984425002822e-16+8.662173854069114e-05j)),\n",
       " SimulatedState(state={'res': 0, 'phase': 0.21875, 'indicator': 1}, bitstring='000100111', amplitude=(3.412526337898125e-17+8.611126298192267e-05j)),\n",
       " SimulatedState(state={'res': 1, 'phase': 0.71875, 'indicator': 0}, bitstring='001010111', amplitude=(8.573276862735291e-05-8.277951349562607e-16j)),\n",
       " SimulatedState(state={'res': 0, 'phase': 0.3125, 'indicator': 0}, bitstring='000001010', amplitude=(-8.290561045482889e-05-9.870983154122714e-17j)),\n",
       " SimulatedState(state={'res': 6, 'phase': 0.1875, 'indicator': 0}, bitstring='110000110', amplitude=(-8.279847794691124e-05-5.468715758016884e-16j)),\n",
       " SimulatedState(state={'res': 4, 'phase': 0.5625, 'indicator': 0}, bitstring='100010010', amplitude=(8.262829621464584e-05-1.1401063470042883e-16j)),\n",
       " SimulatedState(state={'res': 7, 'phase': 0.4375, 'indicator': 0}, bitstring='111001110', amplitude=(6.118491672514603e-16-8.021232846438131e-05j)),\n",
       " SimulatedState(state={'res': 4, 'phase': 0.09375, 'indicator': 1}, bitstring='100100011', amplitude=(8.004928183049455e-05-8.151167458017583e-17j)),\n",
       " SimulatedState(state={'res': 6, 'phase': 0.875, 'indicator': 1}, bitstring='110111100', amplitude=(-1.2278589603398338e-16-7.856290073711089e-05j)),\n",
       " SimulatedState(state={'res': 1, 'phase': 0.15625, 'indicator': 1}, bitstring='001100101', amplitude=(-7.816791938413112e-05-2.9083723276923656e-17j)),\n",
       " SimulatedState(state={'res': 4, 'phase': 0.90625, 'indicator': 1}, bitstring='100111101', amplitude=(-7.76872232233788e-05+1.41420620873578e-17j)),\n",
       " SimulatedState(state={'res': 6, 'phase': 0.15625, 'indicator': 1}, bitstring='110100101', amplitude=(-7.647201981279914e-05+1.4629953064976275e-16j)),\n",
       " SimulatedState(state={'res': 2, 'phase': 0.5625, 'indicator': 1}, bitstring='010110010', amplitude=(7.594601629895833e-05-1.780802068307441e-16j)),\n",
       " SimulatedState(state={'res': 1, 'phase': 0.21875, 'indicator': 1}, bitstring='001100111', amplitude=(-6.919242739530929e-17-7.591533259546227e-05j)),\n",
       " SimulatedState(state={'res': 2, 'phase': 0.28125, 'indicator': 1}, bitstring='010101001', amplitude=(-7.555725929397396e-05-1.6365354167310886e-16j)),\n",
       " SimulatedState(state={'res': 5, 'phase': 0.09375, 'indicator': 1}, bitstring='101100011', amplitude=(7.549700889045581e-05+1.4247771799175135e-16j)),\n",
       " SimulatedState(state={'res': 4, 'phase': 0.71875, 'indicator': 1}, bitstring='100110111', amplitude=(7.511030896718105e-05-3.526706379188005e-17j)),\n",
       " SimulatedState(state={'res': 3, 'phase': 0.09375, 'indicator': 1}, bitstring='011100011', amplitude=(7.504833666543524e-05-1.4153242922261555e-16j)),\n",
       " SimulatedState(state={'res': 5, 'phase': 0.875, 'indicator': 1}, bitstring='101111100', amplitude=(-1.9430596996834748e-16-7.250456684778489e-05j)),\n",
       " SimulatedState(state={'res': 5, 'phase': 0.65625, 'indicator': 0}, bitstring='101010101', amplitude=(1.2274252794708396e-15+7.13719667515625e-05j)),\n",
       " SimulatedState(state={'res': 2, 'phase': 0.375, 'indicator': 0}, bitstring='010001100', amplitude=(-7.135327503349616e-05+1.1471062272803978e-15j)),\n",
       " SimulatedState(state={'res': 1, 'phase': 0.4375, 'indicator': 0}, bitstring='001001110', amplitude=(1.5352980388752546e-16-7.131415287299603e-05j)),\n",
       " SimulatedState(state={'res': 2, 'phase': 0.25, 'indicator': 0}, bitstring='010001000', amplitude=(-7.648910801613673e-16-7.072472222704157e-05j)),\n",
       " SimulatedState(state={'res': 5, 'phase': 0.15625, 'indicator': 0}, bitstring='101000101', amplitude=(-6.998895734410072e-05+1.7487334009243932e-15j)),\n",
       " SimulatedState(state={'res': 2, 'phase': 0.53125, 'indicator': 0}, bitstring='010010001', amplitude=(6.995196013813727e-05-1.9912389337232994e-15j)),\n",
       " SimulatedState(state={'res': 6, 'phase': 0.9375, 'indicator': 1}, bitstring='110111110', amplitude=(6.966479025011466e-05-6.846059092888157e-17j)),\n",
       " SimulatedState(state={'res': 2, 'phase': 0.84375, 'indicator': 1}, bitstring='010111011', amplitude=(-6.840920232568286e-05-1.2109183013947478e-17j)),\n",
       " SimulatedState(state={'res': 4, 'phase': 0.1875, 'indicator': 1}, bitstring='100100110', amplitude=(6.792504109408594e-05+4.329015986827278e-17j)),\n",
       " SimulatedState(state={'res': 4, 'phase': 0.03125, 'indicator': 0}, bitstring='100000001', amplitude=(-5.6282798246206495e-15+6.774994435042526e-05j)),\n",
       " SimulatedState(state={'res': 5, 'phase': 0.71875, 'indicator': 0}, bitstring='101010111', amplitude=(6.751796037562771e-05+1.1267333908330374e-15j)),\n",
       " SimulatedState(state={'res': 3, 'phase': 0.71875, 'indicator': 0}, bitstring='011010111', amplitude=(6.722882272416198e-05+5.578491227981042e-16j)),\n",
       " SimulatedState(state={'res': 7, 'phase': 0.96875, 'indicator': 1}, bitstring='111111111', amplitude=(3.6181859374914693e-17+6.716145753241548e-05j)),\n",
       " SimulatedState(state={'res': 3, 'phase': 0.15625, 'indicator': 0}, bitstring='011000101', amplitude=(-6.67275585420817e-05+1.5953662273627406e-15j)),\n",
       " SimulatedState(state={'res': 0, 'phase': 0.1875, 'indicator': 0}, bitstring='000000110', amplitude=(-6.655289110076168e-05+1.8007920458626425e-16j)),\n",
       " SimulatedState(state={'res': 0, 'phase': 0.65625, 'indicator': 0}, bitstring='000010101', amplitude=(-1.0784796178938544e-15+6.56026365906531e-05j)),\n",
       " SimulatedState(state={'res': 3, 'phase': 0.59375, 'indicator': 0}, bitstring='011010011', amplitude=(-2.9910766246622755e-16+6.533474657966858e-05j)),\n",
       " SimulatedState(state={'res': 2, 'phase': 0.71875, 'indicator': 1}, bitstring='010110111', amplitude=(-6.415543211085248e-05-1.9081958235744878e-17j)),\n",
       " SimulatedState(state={'res': 6, 'phase': 0.34375, 'indicator': 1}, bitstring='110101011', amplitude=(-1.1384122811097797e-16+6.409614131096838e-05j)),\n",
       " SimulatedState(state={'res': 2, 'phase': 0.0625, 'indicator': 1}, bitstring='010100010', amplitude=(-2.6087598335895745e-16+6.278723062958508e-05j)),\n",
       " SimulatedState(state={'res': 1, 'phase': 0.96875, 'indicator': 0}, bitstring='001011111', amplitude=(-2.184769021511962e-16-6.258230276935534e-05j)),\n",
       " SimulatedState(state={'res': 4, 'phase': 0.4375, 'indicator': 0}, bitstring='100001110', amplitude=(-1.0018366886944963e-16+6.207482570981895e-05j)),\n",
       " SimulatedState(state={'res': 0, 'phase': 0.90625, 'indicator': 0}, bitstring='000011101', amplitude=(6.174983449354022e-05+5.356941290297207e-16j)),\n",
       " SimulatedState(state={'res': 2, 'phase': 0.8125, 'indicator': 0}, bitstring='010011010', amplitude=(-2.746317984223673e-16-6.0964059350714604e-05j)),\n",
       " SimulatedState(state={'res': 7, 'phase': 0.40625, 'indicator': 1}, bitstring='111101101', amplitude=(-6.513005738027766e-17+6.087179112149566e-05j)),\n",
       " SimulatedState(state={'res': 2, 'phase': 0.40625, 'indicator': 1}, bitstring='010101101', amplitude=(8.835231266220156e-17+6.005454482488827e-05j)),\n",
       " SimulatedState(state={'res': 0, 'phase': 0.8125, 'indicator': 1}, bitstring='000111010', amplitude=(4.508248158466288e-17-5.985482493632731e-05j)),\n",
       " SimulatedState(state={'res': 2, 'phase': 0.84375, 'indicator': 0}, bitstring='010011011', amplitude=(5.925938784046431e-05+3.0164537317620144e-16j)),\n",
       " SimulatedState(state={'res': 1, 'phase': 0.40625, 'indicator': 1}, bitstring='001101101', amplitude=(5.4037313903035344e-17-5.850822492215305e-05j)),\n",
       " SimulatedState(state={'res': 4, 'phase': 0.28125, 'indicator': 0}, bitstring='100001001', amplitude=(-5.833435384899721e-05-7.771730578965547e-16j)),\n",
       " SimulatedState(state={'res': 7, 'phase': 0.40625, 'indicator': 0}, bitstring='111001101', amplitude=(5.248826004909668e-16-5.8284125586253066e-05j)),\n",
       " SimulatedState(state={'res': 7, 'phase': 0.875, 'indicator': 0}, bitstring='111011100', amplitude=(-8.725455796255999e-17-5.822163757836091e-05j)),\n",
       " SimulatedState(state={'res': 6, 'phase': 0.21875, 'indicator': 1}, bitstring='110100111', amplitude=(-1.754035827174205e-17+5.8117407116162694e-05j)),\n",
       " SimulatedState(state={'res': 4, 'phase': 0.03125, 'indicator': 1}, bitstring='100100001', amplitude=(-1.4718044491490723e-17-5.795435879146366e-05j)),\n",
       " SimulatedState(state={'res': 7, 'phase': 0.09375, 'indicator': 0}, bitstring='111000011', amplitude=(5.600627243305841e-05-1.8589188348350216e-15j)),\n",
       " SimulatedState(state={'res': 7, 'phase': 0.71875, 'indicator': 1}, bitstring='111110111', amplitude=(-5.593939457744425e-05+1.1037855742260239e-16j)),\n",
       " SimulatedState(state={'res': 5, 'phase': 0.96875, 'indicator': 0}, bitstring='101011111', amplitude=(5.218061768265392e-17-5.507520864667693e-05j)),\n",
       " SimulatedState(state={'res': 4, 'phase': 0.96875, 'indicator': 0}, bitstring='100011111', amplitude=(-5.404002440846656e-16+5.380526639478861e-05j)),\n",
       " SimulatedState(state={'res': 0, 'phase': 0.28125, 'indicator': 1}, bitstring='000101001', amplitude=(-5.309951372257942e-05-9.799493573374451e-17j)),\n",
       " SimulatedState(state={'res': 7, 'phase': 0.34375, 'indicator': 0}, bitstring='111001011', amplitude=(7.17555490937008e-16-5.303387769064565e-05j)),\n",
       " SimulatedState(state={'res': 2, 'phase': 0.15625, 'indicator': 1}, bitstring='010100101', amplitude=(-5.259602801294056e-05+5.922454367202068e-18j)),\n",
       " SimulatedState(state={'res': 4, 'phase': 0.3125, 'indicator': 0}, bitstring='100001010', amplitude=(5.2245916195728956e-05+2.9849441061241544e-16j)),\n",
       " SimulatedState(state={'res': 0, 'phase': 0.96875, 'indicator': 1}, bitstring='000111111', amplitude=(2.3405214398530827e-17-5.224387524194925e-05j)),\n",
       " SimulatedState(state={'res': 3, 'phase': 0.96875, 'indicator': 0}, bitstring='011011111', amplitude=(-1.4382280631199118e-16-5.2233778942723704e-05j)),\n",
       " SimulatedState(state={'res': 7, 'phase': 0.84375, 'indicator': 1}, bitstring='111111011', amplitude=(5.199204042893768e-05+7.49454751730605e-18j)),\n",
       " SimulatedState(state={'res': 6, 'phase': 0.59375, 'indicator': 1}, bitstring='110110011', amplitude=(-1.3016524707046284e-16+5.176595243292791e-05j)),\n",
       " SimulatedState(state={'res': 1, 'phase': 0.90625, 'indicator': 0}, bitstring='001011101', amplitude=(5.15894326172851e-05-4.2412294921738425e-16j)),\n",
       " SimulatedState(state={'res': 2, 'phase': 0.71875, 'indicator': 0}, bitstring='010010111', amplitude=(4.9446715605032303e-05+4.0738219004785026e-16j)),\n",
       " SimulatedState(state={'res': 1, 'phase': 0.15625, 'indicator': 0}, bitstring='001000101', amplitude=(4.9373479910619473e-05+1.4710861652098006e-15j)),\n",
       " SimulatedState(state={'res': 2, 'phase': 0.90625, 'indicator': 0}, bitstring='010011101', amplitude=(-4.865628536143616e-05+1.874778679739411e-15j)),\n",
       " SimulatedState(state={'res': 7, 'phase': 0.8125, 'indicator': 0}, bitstring='111011010', amplitude=(2.130999370020259e-16+4.8277378900021105e-05j)),\n",
       " SimulatedState(state={'res': 6, 'phase': 0.96875, 'indicator': 1}, bitstring='110111111', amplitude=(1.8081104105269197e-16+4.7464738151886584e-05j)),\n",
       " SimulatedState(state={'res': 6, 'phase': 0.6875, 'indicator': 1}, bitstring='110110110', amplitude=(-2.1835154127500256e-16-4.68321241930312e-05j)),\n",
       " SimulatedState(state={'res': 5, 'phase': 0.59375, 'indicator': 1}, bitstring='101110011', amplitude=(8.590608151053114e-17+4.569816674701403e-05j)),\n",
       " SimulatedState(state={'res': 5, 'phase': 0.84375, 'indicator': 0}, bitstring='101011011', amplitude=(-4.520466980927457e-05-1.107546400511833e-16j)),\n",
       " SimulatedState(state={'res': 5, 'phase': 0.40625, 'indicator': 0}, bitstring='101001101', amplitude=(4.272027610136009e-16+4.517178477643957e-05j)),\n",
       " SimulatedState(state={'res': 6, 'phase': 0.40625, 'indicator': 0}, bitstring='110001101', amplitude=(-2.189122770860849e-15-4.4999300024374106e-05j)),\n",
       " SimulatedState(state={'res': 4, 'phase': 0.34375, 'indicator': 0}, bitstring='100001011', amplitude=(3.163498651405361e-17+4.407268041847031e-05j)),\n",
       " SimulatedState(state={'res': 2, 'phase': 0.59375, 'indicator': 0}, bitstring='010010011', amplitude=(-1.7436003812640322e-16+4.3536094161068385e-05j)),\n",
       " SimulatedState(state={'res': 6, 'phase': 0.4375, 'indicator': 0}, bitstring='110001110', amplitude=(5.829788962772448e-16+4.3447503681252196e-05j)),\n",
       " SimulatedState(state={'res': 0, 'phase': 0.375, 'indicator': 0}, bitstring='000001100', amplitude=(-4.305838233768884e-05-6.011596114571111e-16j)),\n",
       " SimulatedState(state={'res': 0, 'phase': 0.46875, 'indicator': 0}, bitstring='000001111', amplitude=(-4.2775494568837594e-05-8.162687106100242e-17j)),\n",
       " SimulatedState(state={'res': 2, 'phase': 0.4375, 'indicator': 1}, bitstring='010101110', amplitude=(-5.657163648122021e-17+4.2412462640862726e-05j)),\n",
       " SimulatedState(state={'res': 2, 'phase': 0.59375, 'indicator': 1}, bitstring='010110011', amplitude=(3.4050724479622874e-18-4.127268738386372e-05j)),\n",
       " SimulatedState(state={'res': 7, 'phase': 0.21875, 'indicator': 1}, bitstring='111100111', amplitude=(1.8865117801247777e-17+4.0943653516171236e-05j)),\n",
       " SimulatedState(state={'res': 3, 'phase': 0.59375, 'indicator': 1}, bitstring='011110011', amplitude=(1.440633636690114e-17-4.082404763598122e-05j)),\n",
       " SimulatedState(state={'res': 3, 'phase': 0.65625, 'indicator': 1}, bitstring='011110101', amplitude=(1.1407839733620917e-16+4.05349668999537e-05j)),\n",
       " SimulatedState(state={'res': 3, 'phase': 0.78125, 'indicator': 1}, bitstring='011111001', amplitude=(-5.183841637196318e-19-4.038289921315834e-05j)),\n",
       " SimulatedState(state={'res': 3, 'phase': 0.84375, 'indicator': 0}, bitstring='011011011', amplitude=(3.9324834726605163e-05+3.436073853831795e-16j)),\n",
       " SimulatedState(state={'res': 2, 'phase': 0.96875, 'indicator': 0}, bitstring='010011111', amplitude=(-6.902945825625756e-16-3.8189451923300434e-05j)),\n",
       " SimulatedState(state={'res': 2, 'phase': 0.46875, 'indicator': 1}, bitstring='010101111', amplitude=(-3.7945788563287846e-05+1.255472234420324e-16j)),\n",
       " SimulatedState(state={'res': 2, 'phase': 0.875, 'indicator': 1}, bitstring='010111100', amplitude=(1.2484588016170584e-16+3.788959752684478e-05j)),\n",
       " SimulatedState(state={'res': 6, 'phase': 0.90625, 'indicator': 1}, bitstring='110111101', amplitude=(3.784678759084908e-05-4.587530442329291e-18j)),\n",
       " SimulatedState(state={'res': 0, 'phase': 0.65625, 'indicator': 1}, bitstring='000110101', amplitude=(-1.3077849892427496e-16-3.670280239405997e-05j)),\n",
       " SimulatedState(state={'res': 0, 'phase': 0.90625, 'indicator': 1}, bitstring='000111101', amplitude=(-3.6447427016192566e-05+1.020877989348773e-16j)),\n",
       " SimulatedState(state={'res': 0, 'phase': 0.15625, 'indicator': 1}, bitstring='000100101', amplitude=(3.5968944024325445e-05-3.4389537658524594e-19j)),\n",
       " SimulatedState(state={'res': 1, 'phase': 0.9375, 'indicator': 0}, bitstring='001011110', amplitude=(-3.506579464193948e-05-3.016419850444124e-16j)),\n",
       " SimulatedState(state={'res': 3, 'phase': 0.09375, 'indicator': 0}, bitstring='011000011', amplitude=(-3.487519093803063e-05-1.1197995791268137e-15j)),\n",
       " SimulatedState(state={'res': 4, 'phase': 0.8125, 'indicator': 0}, bitstring='100011010', amplitude=(4.3066543170197646e-16+3.457146962498007e-05j)),\n",
       " SimulatedState(state={'res': 2, 'phase': 0.125, 'indicator': 0}, bitstring='010000100', amplitude=(-4.039229074912637e-16-3.347645579075193e-05j)),\n",
       " SimulatedState(state={'res': 1, 'phase': 0.4375, 'indicator': 1}, bitstring='001101110', amplitude=(-1.744549058164957e-16+3.2623617226429515e-05j)),\n",
       " SimulatedState(state={'res': 1, 'phase': 0.34375, 'indicator': 0}, bitstring='001001011', amplitude=(-1.0292737799219576e-15+3.178137436099902e-05j)),\n",
       " SimulatedState(state={'res': 5, 'phase': 0.96875, 'indicator': 1}, bitstring='101111111', amplitude=(-1.1924868644624942e-16+3.152393775078707e-05j)),\n",
       " SimulatedState(state={'res': 5, 'phase': 0.40625, 'indicator': 1}, bitstring='101101101', amplitude=(-4.193321308677139e-17-3.125187441094259e-05j)),\n",
       " SimulatedState(state={'res': 2, 'phase': 0.96875, 'indicator': 1}, bitstring='010111111', amplitude=(2.6132660488689674e-17+3.125158094503975e-05j)),\n",
       " SimulatedState(state={'res': 5, 'phase': 0.09375, 'indicator': 0}, bitstring='101000011', amplitude=(-3.0967682992266655e-05+7.891009758597897e-16j)),\n",
       " SimulatedState(state={'res': 1, 'phase': 0.46875, 'indicator': 0}, bitstring='001001111', amplitude=(3.083564459117947e-05-4.496745451042575e-16j)),\n",
       " SimulatedState(state={'res': 4, 'phase': 0.3125, 'indicator': 1}, bitstring='100101010', amplitude=(-3.080371731806427e-05+2.462324777668251e-17j)),\n",
       " SimulatedState(state={'res': 3, 'phase': 0.71875, 'indicator': 1}, bitstring='011110111', amplitude=(-3.0487847348071352e-05+1.8023167051677003e-17j)),\n",
       " SimulatedState(state={'res': 6, 'phase': 0.71875, 'indicator': 0}, bitstring='110010111', amplitude=(-3.0422925589537376e-05+1.611988401919659e-16j)),\n",
       " SimulatedState(state={'res': 4, 'phase': 0.71875, 'indicator': 0}, bitstring='100010111', amplitude=(-3.012337543691558e-05-1.1953024019791675e-15j)),\n",
       " SimulatedState(state={'res': 0, 'phase': 0.34375, 'indicator': 0}, bitstring='000001011', amplitude=(6.25957348020928e-17-2.984074271571784e-05j)),\n",
       " SimulatedState(state={'res': 2, 'phase': 0.1875, 'indicator': 1}, bitstring='010100110', amplitude=(-2.8961380026305884e-05-5.985304211888337e-17j)),\n",
       " SimulatedState(state={'res': 5, 'phase': 0.21875, 'indicator': 1}, bitstring='101100111', amplitude=(-1.4249974084837996e-16-2.848596014406283e-05j)),\n",
       " SimulatedState(state={'res': 3, 'phase': 0.21875, 'indicator': 1}, bitstring='011100111', amplitude=(-4.653599012215126e-17-2.770687067184692e-05j)),\n",
       " SimulatedState(state={'res': 2, 'phase': 0.9375, 'indicator': 0}, bitstring='010011110', amplitude=(-2.7656446138002136e-05+3.213947933743827e-16j)),\n",
       " SimulatedState(state={'res': 7, 'phase': 0.46875, 'indicator': 1}, bitstring='111101111', amplitude=(-2.700304040899774e-05-7.065779439405923e-17j)),\n",
       " SimulatedState(state={'res': 0, 'phase': 0.0, 'indicator': 0}, bitstring='000000000', amplitude=(-2.6682476875490945e-05+2.690159699820713e-16j)),\n",
       " SimulatedState(state={'res': 4, 'phase': 0.46875, 'indicator': 1}, bitstring='100101111', amplitude=(2.637419439647399e-05-9.023272580510611e-17j)),\n",
       " SimulatedState(state={'res': 3, 'phase': 0.40625, 'indicator': 0}, bitstring='011001101', amplitude=(9.692377786864673e-16+2.6083213524333096e-05j)),\n",
       " SimulatedState(state={'res': 1, 'phase': 0.96875, 'indicator': 1}, bitstring='001111111', amplitude=(1.243274959979862e-17-2.521242422994525e-05j)),\n",
       " SimulatedState(state={'res': 3, 'phase': 0.96875, 'indicator': 1}, bitstring='011111111', amplitude=(-9.011075306070149e-17+2.5124191832387105e-05j)),\n",
       " SimulatedState(state={'res': 7, 'phase': 0.9375, 'indicator': 1}, bitstring='111111110', amplitude=(-2.502492255891293e-05-8.529960592029706e-17j)),\n",
       " SimulatedState(state={'res': 3, 'phase': 0.34375, 'indicator': 1}, bitstring='011101011', amplitude=(1.5576935900006583e-17-2.341526468214716e-05j)),\n",
       " SimulatedState(state={'res': 0, 'phase': 0.15625, 'indicator': 0}, bitstring='000000101', amplitude=(-2.2883280877541912e-05-6.66140591038672e-16j)),\n",
       " SimulatedState(state={'res': 7, 'phase': 0.90625, 'indicator': 1}, bitstring='111111101', amplitude=(-2.2176896581252877e-05+2.797919231370405e-17j)),\n",
       " SimulatedState(state={'res': 4, 'phase': 0.15625, 'indicator': 0}, bitstring='100000101', amplitude=(-2.2011750781248372e-05-2.601053527835455e-15j)),\n",
       " SimulatedState(state={'res': 3, 'phase': 0.34375, 'indicator': 0}, bitstring='011001011', amplitude=(3.8882878037119206e-16+2.2003480109223688e-05j)),\n",
       " SimulatedState(state={'res': 7, 'phase': 0.96875, 'indicator': 0}, bitstring='111011111', amplitude=(-4.0257104290744583e-16-2.1956521499079425e-05j)),\n",
       " SimulatedState(state={'res': 3, 'phase': 0.65625, 'indicator': 0}, bitstring='011010101', amplitude=(2.796377631406402e-16+2.1909327966783597e-05j)),\n",
       " SimulatedState(state={'res': 6, 'phase': 0.84375, 'indicator': 0}, bitstring='110011011', amplitude=(-2.1644037353404706e-05-4.92414133556815e-16j)),\n",
       " SimulatedState(state={'res': 1, 'phase': 0.65625, 'indicator': 0}, bitstring='001010101', amplitude=(-6.595913322905017e-16+2.0844928033932663e-05j)),\n",
       " SimulatedState(state={'res': 3, 'phase': 0.90625, 'indicator': 0}, bitstring='011011101', amplitude=(-2.0220441518498045e-05+1.0276593351244909e-15j)),\n",
       " SimulatedState(state={'res': 2, 'phase': 0.40625, 'indicator': 0}, bitstring='010001101', amplitude=(1.940742217539787e-15-2.011450595649739e-05j)),\n",
       " SimulatedState(state={'res': 7, 'phase': 0.4375, 'indicator': 1}, bitstring='111101110', amplitude=(1.40438062654763e-18+1.9919812814457454e-05j)),\n",
       " SimulatedState(state={'res': 0, 'phase': 0.09375, 'indicator': 1}, bitstring='000100011', amplitude=(-1.9711237863617964e-05-8.030041746560218e-17j)),\n",
       " SimulatedState(state={'res': 5, 'phase': 0.46875, 'indicator': 1}, bitstring='101101111', amplitude=(1.958056754110226e-05-7.430511826493624e-17j)),\n",
       " SimulatedState(state={'res': 3, 'phase': 0.84375, 'indicator': 1}, bitstring='011111011', amplitude=(1.945720974303053e-05-2.0445681280824302e-17j)),\n",
       " SimulatedState(state={'res': 6, 'phase': 0.9375, 'indicator': 0}, bitstring='110011110', amplitude=(1.9083178271446728e-05+5.549709048433341e-16j)),\n",
       " SimulatedState(state={'res': 7, 'phase': 0.21875, 'indicator': 0}, bitstring='111000111', amplitude=(-5.569411034786476e-16-1.8939726905925185e-05j)),\n",
       " SimulatedState(state={'res': 1, 'phase': 0.875, 'indicator': 1}, bitstring='001111100', amplitude=(-8.638041996099355e-17-1.8276395703943156e-05j)),\n",
       " SimulatedState(state={'res': 1, 'phase': 0.6875, 'indicator': 1}, bitstring='001110110', amplitude=(-1.8586952181369465e-16+1.792906082191174e-05j)),\n",
       " SimulatedState(state={'res': 1, 'phase': 0.09375, 'indicator': 0}, bitstring='001000011', amplitude=(1.723970517818261e-05-9.728368216793508e-16j)),\n",
       " SimulatedState(state={'res': 6, 'phase': 0.09375, 'indicator': 1}, bitstring='110100011', amplitude=(-1.721431511995395e-05-1.5978853033478749e-16j)),\n",
       " SimulatedState(state={'res': 2, 'phase': 0.28125, 'indicator': 0}, bitstring='010001001', amplitude=(1.646361142552929e-05-3.713948941409199e-15j)),\n",
       " SimulatedState(state={'res': 5, 'phase': 0.59375, 'indicator': 0}, bitstring='101010011', amplitude=(1.6270291659640536e-15-1.6438581555560603e-05j)),\n",
       " SimulatedState(state={'res': 5, 'phase': 0.21875, 'indicator': 0}, bitstring='101000111', amplitude=(-1.3856586573144682e-15+1.6025086782555907e-05j)),\n",
       " SimulatedState(state={'res': 6, 'phase': 0.84375, 'indicator': 1}, bitstring='110111011', amplitude=(-1.5931127096835647e-05+4.337486316299821e-17j)),\n",
       " SimulatedState(state={'res': 4, 'phase': 0.21875, 'indicator': 0}, bitstring='100000111', amplitude=(2.5253948509208063e-16+1.569631946979023e-05j)),\n",
       " SimulatedState(state={'res': 7, 'phase': 0.78125, 'indicator': 1}, bitstring='111111001', amplitude=(-2.4347962068824863e-17-1.5427719888805875e-05j)),\n",
       " SimulatedState(state={'res': 5, 'phase': 0.71875, 'indicator': 1}, bitstring='101110111', amplitude=(-1.53342916278602e-05+1.2016009389749505e-16j)),\n",
       " SimulatedState(state={'res': 3, 'phase': 0.21875, 'indicator': 0}, bitstring='011000111', amplitude=(-7.38583083852596e-16+1.4781332158126919e-05j)),\n",
       " SimulatedState(state={'res': 6, 'phase': 0.15625, 'indicator': 0}, bitstring='110000101', amplitude=(-1.4661629696298787e-05-1.8579591465057825e-15j)),\n",
       " SimulatedState(state={'res': 0, 'phase': 0.21875, 'indicator': 0}, bitstring='000000111', amplitude=(1.3466231439402537e-15-1.4110742471831945e-05j)),\n",
       " SimulatedState(state={'res': 5, 'phase': 0.8125, 'indicator': 1}, bitstring='101111010', amplitude=(-6.928729508540177e-17-1.3799315204812878e-05j)),\n",
       " SimulatedState(state={'res': 3, 'phase': 0.4375, 'indicator': 0}, bitstring='011001110', amplitude=(1.5506801571973927e-16+1.341552085127407e-05j)),\n",
       " SimulatedState(state={'res': 6, 'phase': 0.09375, 'indicator': 0}, bitstring='110000011', amplitude=(-1.3354781080983867e-05-7.910118821887954e-16j)),\n",
       " SimulatedState(state={'res': 6, 'phase': 0.59375, 'indicator': 0}, bitstring='110010011', amplitude=(-5.875901436420972e-16-1.3083874830611673e-05j)),\n",
       " SimulatedState(state={'res': 2, 'phase': 0.34375, 'indicator': 1}, bitstring='010101011', amplitude=(7.630835118519266e-17-1.2967207093175733e-05j)),\n",
       " SimulatedState(state={'res': 0, 'phase': 0.40625, 'indicator': 0}, bitstring='000001101', amplitude=(-3.4495924996699734e-16+1.2937656283978508e-05j)),\n",
       " SimulatedState(state={'res': 5, 'phase': 0.4375, 'indicator': 0}, bitstring='101001110', amplitude=(9.056476272042979e-18+1.2853480187337715e-05j)),\n",
       " SimulatedState(state={'res': 3, 'phase': 0.46875, 'indicator': 0}, bitstring='011001111', amplitude=(1.2825851826885047e-05+4.373036289096084e-16j)),\n",
       " SimulatedState(state={'res': 5, 'phase': 0.34375, 'indicator': 0}, bitstring='101001011', amplitude=(-4.625892564510438e-16+1.253778195550456e-05j)),\n",
       " SimulatedState(state={'res': 4, 'phase': 0.5625, 'indicator': 1}, bitstring='100110010', amplitude=(-1.2349504182418349e-05+4.8323229640857834e-18j)),\n",
       " SimulatedState(state={'res': 6, 'phase': 0.46875, 'indicator': 0}, bitstring='110001111', amplitude=(-1.2272958906202133e-05-5.441263420196372e-16j)),\n",
       " SimulatedState(state={'res': 4, 'phase': 0.84375, 'indicator': 1}, bitstring='100111011', amplitude=(-1.2232433312218726e-05-4.691376681662668e-17j)),\n",
       " SimulatedState(state={'res': 6, 'phase': 0.71875, 'indicator': 1}, bitstring='110110111', amplitude=(1.2170122944597137e-05+6.727050963798928e-17j)),\n",
       " SimulatedState(state={'res': 4, 'phase': 0.46875, 'indicator': 0}, bitstring='100001111', amplitude=(1.1625141906363018e-05-5.127895111030172e-16j)),\n",
       " SimulatedState(state={'res': 3, 'phase': 0.40625, 'indicator': 1}, bitstring='011101101', amplitude=(1.7021381184959342e-16+1.0988165125694836e-05j)),\n",
       " SimulatedState(state={'res': 6, 'phase': 0.96875, 'indicator': 0}, bitstring='110011111', amplitude=(4.2165638927497973e-16+1.0838712195415601e-05j)),\n",
       " SimulatedState(state={'res': 2, 'phase': 0.3125, 'indicator': 0}, bitstring='010001010', amplitude=(-1.0644817136440372e-05+4.3147604223249883e-16j)),\n",
       " SimulatedState(state={'res': 5, 'phase': 0.46875, 'indicator': 0}, bitstring='101001111', amplitude=(1.0419773262510981e-05-2.1533610398277725e-16j)),\n",
       " SimulatedState(state={'res': 6, 'phase': 0.34375, 'indicator': 0}, bitstring='110001011', amplitude=(-1.2393074576549229e-15-1.0414021308816045e-05j)),\n",
       " SimulatedState(state={'res': 5, 'phase': 0.34375, 'indicator': 1}, bitstring='101101011', amplitude=(5.832245358319485e-17+1.0366436521340808e-05j)),\n",
       " SimulatedState(state={'res': 1, 'phase': 0.40625, 'indicator': 0}, bitstring='001001101', amplitude=(-6.602232188691534e-16-1.0172502059916402e-05j)),\n",
       " SimulatedState(state={'res': 6, 'phase': 0.28125, 'indicator': 0}, bitstring='110001001', amplitude=(9.922416301063831e-06+1.3382781753439044e-16j)),\n",
       " SimulatedState(state={'res': 2, 'phase': 0.46875, 'indicator': 0}, bitstring='010001111', amplitude=(9.580210213996682e-06+6.396437063826629e-16j)),\n",
       " SimulatedState(state={'res': 2, 'phase': 0.09375, 'indicator': 1}, bitstring='010100011', amplitude=(-9.02565296997202e-06-4.5695733438474995e-17j)),\n",
       " SimulatedState(state={'res': 7, 'phase': 0.46875, 'indicator': 0}, bitstring='111001111', amplitude=(-8.41388962270273e-06-2.0237141769210293e-16j)),\n",
       " SimulatedState(state={'res': 2, 'phase': 0.15625, 'indicator': 0}, bitstring='010000101', amplitude=(8.412577531765617e-06-3.266159044612582e-18j)),\n",
       " SimulatedState(state={'res': 2, 'phase': 0.0625, 'indicator': 0}, bitstring='010000010', amplitude=(-1.5538179907504963e-15-8.410721547586551e-06j)),\n",
       " SimulatedState(state={'res': 2, 'phase': 0.03125, 'indicator': 1}, bitstring='010100001', amplitude=(-2.0307869020306027e-16+8.404720736621099e-06j)),\n",
       " SimulatedState(state={'res': 2, 'phase': 0.4375, 'indicator': 0}, bitstring='010001110', amplitude=(2.623693024449668e-16-8.249399219697006e-06j)),\n",
       " SimulatedState(state={'res': 5, 'phase': 0.65625, 'indicator': 1}, bitstring='101110101', amplitude=(1.165995909037116e-16-7.359415337732411e-06j)),\n",
       " SimulatedState(state={'res': 6, 'phase': 0.21875, 'indicator': 0}, bitstring='110000111', amplitude=(-1.3602713858193623e-16-6.9591755303181085e-06j)),\n",
       " SimulatedState(state={'res': 2, 'phase': 0.90625, 'indicator': 1}, bitstring='010111101', amplitude=(-6.89111665856893e-06+1.2881888820080213e-16j)),\n",
       " SimulatedState(state={'res': 6, 'phase': 0.4375, 'indicator': 1}, bitstring='110101110', amplitude=(-6.032102782224137e-17-6.844466284233914e-06j)),\n",
       " SimulatedState(state={'res': 6, 'phase': 0.46875, 'indicator': 1}, bitstring='110101111', amplitude=(6.840747858161721e-06+1.4183312591889083e-16j)),\n",
       " SimulatedState(state={'res': 6, 'phase': 0.8125, 'indicator': 1}, bitstring='110111010', amplitude=(-1.7592831962824455e-16-6.130219621801919e-06j)),\n",
       " SimulatedState(state={'res': 0, 'phase': 0.28125, 'indicator': 0}, bitstring='000001001', amplitude=(-5.897067421672484e-06+1.3234758510741618e-15j)),\n",
       " SimulatedState(state={'res': 4, 'phase': 0.1875, 'indicator': 0}, bitstring='100000110', amplitude=(5.83849035109321e-06+5.458318428589338e-16j)),\n",
       " SimulatedState(state={'res': 1, 'phase': 0.21875, 'indicator': 0}, bitstring='001000111', amplitude=(-2.546795138333186e-16+5.681479879859815e-06j)),\n",
       " SimulatedState(state={'res': 4, 'phase': 0.09375, 'indicator': 0}, bitstring='100000011', amplitude=(-5.525639526123004e-06-1.1552813657708227e-15j)),\n",
       " SimulatedState(state={'res': 0, 'phase': 0.40625, 'indicator': 1}, bitstring='000101101', amplitude=(-1.5729825346985984e-17-5.393748128147159e-06j)),\n",
       " SimulatedState(state={'res': 2, 'phase': 0.34375, 'indicator': 0}, bitstring='010001011', amplitude=(8.596918546510159e-16+4.896954376583393e-06j)),\n",
       " SimulatedState(state={'res': 2, 'phase': 0.21875, 'indicator': 1}, bitstring='010100111', amplitude=(-6.475757464172258e-17-4.3451542364194346e-06j)),\n",
       " SimulatedState(state={'res': 0, 'phase': 0.09375, 'indicator': 0}, bitstring='000000011', amplitude=(-4.325948779737597e-06-1.1183342121280637e-15j)),\n",
       " SimulatedState(state={'res': 7, 'phase': 0.71875, 'indicator': 0}, bitstring='111010111', amplitude=(3.817978992676664e-06+9.996176741309268e-16j)),\n",
       " SimulatedState(state={'res': 1, 'phase': 0.78125, 'indicator': 0}, bitstring='001011001', amplitude=(-5.797591122864943e-16-3.6749056284931077e-06j)),\n",
       " SimulatedState(state={'res': 2, 'phase': 0.3125, 'indicator': 1}, bitstring='010101010', amplitude=(-3.2966180199171158e-06+8.734963741088928e-17j)),\n",
       " SimulatedState(state={'res': 1, 'phase': 0.09375, 'indicator': 1}, bitstring='001100011', amplitude=(-3.0745568744076535e-06-2.2548927616327773e-16j)),\n",
       " SimulatedState(state={'res': 2, 'phase': 0.1875, 'indicator': 0}, bitstring='010000110', amplitude=(2.82428319709779e-06-9.332778419437332e-17j)),\n",
       " SimulatedState(state={'res': 2, 'phase': 0.9375, 'indicator': 1}, bitstring='010111110', amplitude=(2.0029531493297587e-06-8.984626702292133e-17j)),\n",
       " SimulatedState(state={'res': 2, 'phase': 0.21875, 'indicator': 0}, bitstring='010000111', amplitude=(-1.2854692709726246e-15+1.3702500483950001e-06j)),\n",
       " SimulatedState(state={'res': 3, 'phase': 0.46875, 'indicator': 1}, bitstring='011101111', amplitude=(-1.358293068527187e-06+3.0326320610545715e-17j)),\n",
       " SimulatedState(state={'res': 5, 'phase': 0.90625, 'indicator': 0}, bitstring='101011101', amplitude=(6.518720877660906e-07-2.736400816598101e-16j)),\n",
       " SimulatedState(state={'res': 2, 'phase': 0.03125, 'indicator': 0}, bitstring='010000001', amplitude=(-2.1704130041960836e-15+3.170298773947454e-07j)),\n",
       " SimulatedState(state={'res': 2, 'phase': 0.09375, 'indicator': 0}, bitstring='010000011', amplitude=(6.170508826663922e-08+1.2714832912494106e-15j))]"
      ]
     },
     "execution_count": 89,
     "metadata": {},
     "output_type": "execute_result"
    }
   ],
   "source": [
    "res_hhl_exact.parsed_state_vector\n",
    "# Has form \"rrrIppppp\", where r is \"result\", \"I\" is indicator, p is \"phase\". "
   ]
  },
  {
   "cell_type": "code",
   "execution_count": null,
   "id": "d3146fb6",
   "metadata": {},
   "outputs": [
    {
     "data": {
      "text/plain": [
       "(5, [6, 7, 8], [8, 7, 6, 5, 4])"
      ]
     },
     "execution_count": 87,
     "metadata": {},
     "output_type": "execute_result"
    }
   ],
   "source": [
    "read_positions(qprog_hhl_exact,res_hhl_exact)\n",
    "# notice that phase_pos returns 87654, not 01234 provided by the qubit map. "
   ]
  },
  {
   "cell_type": "code",
   "execution_count": 140,
   "id": "5b57bbaf",
   "metadata": {},
   "outputs": [
    {
     "data": {
      "text/plain": [
       "QuantumProgram(outputs={<QuantumFormat.QASM: 'qasm'>: \"// G...10];\" (length=157517)}, qasm_version=<QasmVersion.V2: '2.0'>, version='0.86.1', interface_version='11', hardware_data=SynthesisHardwareData(basis_gates=['sdg', 'x', 'u2', 'p', 't', 'cy', 'u1', 'sx', 'cx', 'r', 'y', 'h', 'ry', 'rz', 's', 'rx', 'sxdg', 'id', 'cz', 'z', 'u', 'tdg'], connectivity_map=None, is_symmetric_connectivity=True, backend_data=None), initial_values=None, data=GeneratedCircuitData(width=11, circuit_parameters=[], qubit_mapping=QubitMapping(logical_inputs={}, logical_outputs={'res': (8, 9, 10), 'phase': (0, 1, 2, 3, 4, 5, 6), 'indicator': (7,)}, physical_inputs={}, physical_outputs={'res': (8, 9, 10), 'phase': (0, 1, 2, 3, 4, 5, 6), 'indicator': (7,)}), execution_data=ExecutionData(function_execution={'hhl__block_wrapper_e2de832134b6419aa1719311460caf6b__block_wrapper_95756b7cfecd4c2b9e1d80ab16bab3ee__qpe_flexible__iteration_1_0__block_wrapper_55529d97dda84fa38fb250ad158d60d2__ctrl__1__unitary_with_power_logic__block_wrapper_8e752b93b35b485d92fdc5bfa4c13978': FunctionExecutionData(power_parameter='1.00000000000000'), 'hhl__block_wrapper_e2de832134b6419aa1719311460caf6b__block_wrapper_95756b7cfecd4c2b9e1d80ab16bab3ee__qpe_flexible__iteration_1_1__block_wrapper_cd2eb453d95847bf9ad93f04ae1cec1c__ctrl__1__unitary_with_power_logic__block_wrapper_8e752b93b35b485d92fdc5bfa4c13978': FunctionExecutionData(power_parameter='2.00000000000000'), 'hhl__block_wrapper_e2de832134b6419aa1719311460caf6b__block_wrapper_95756b7cfecd4c2b9e1d80ab16bab3ee__qpe_flexible__iteration_1_2__block_wrapper_46fbc6387e794f66a0b7a0abffbe32f6__ctrl__1__unitary_with_power_logic__block_wrapper_8e752b93b35b485d92fdc5bfa4c13978': FunctionExecutionData(power_parameter='4.00000000000000'), 'hhl__block_wrapper_e2de832134b6419aa1719311460caf6b__block_wrapper_95756b7cfecd4c2b9e1d80ab16bab3ee__qpe_flexible__iteration_1_3__block_wrapper_7801e19b29ad4ec191cf54f8c2bcfefc__ctrl__1__unitary_with_power_logic__block_wrapper_8e752b93b35b485d92fdc5bfa4c13978': FunctionExecutionData(power_parameter='8.00000000000000'), 'hhl__block_wrapper_e2de832134b6419aa1719311460caf6b__block_wrapper_95756b7cfecd4c2b9e1d80ab16bab3ee__qpe_flexible__iteration_1_4__block_wrapper_5dbb2c256aeb460fae84caae8b074416__ctrl__1__unitary_with_power_logic__block_wrapper_8e752b93b35b485d92fdc5bfa4c13978': FunctionExecutionData(power_parameter='16.0000000000000'), 'hhl__block_wrapper_e2de832134b6419aa1719311460caf6b__block_wrapper_95756b7cfecd4c2b9e1d80ab16bab3ee__qpe_flexible__iteration_1_5__block_wrapper_cda2db06c1bf4bc9941f162bdde0a9c4__ctrl__1__unitary_with_power_logic__block_wrapper_8e752b93b35b485d92fdc5bfa4c13978': FunctionExecutionData(power_parameter='32.0000000000000'), 'hhl__block_wrapper_e2de832134b6419aa1719311460caf6b__block_wrapper_95756b7cfecd4c2b9e1d80ab16bab3ee__qpe_flexible__iteration_1_6__block_wrapper_b623ed6a5c144b05b88b2cc3c3b18ee3__ctrl__1__unitary_with_power_logic__block_wrapper_8e752b93b35b485d92fdc5bfa4c13978': FunctionExecutionData(power_parameter='64.0000000000000'), 'hhl__block_wrapper_e2de832134b6419aa1719311460caf6b__block_wrapper_f23b15158a344ee08214841b1d1bab50__qpe_flexible__iteration_1_0_qinverse__block_wrapper_b623ed6a5c144b05b88b2cc3c3b18ee3_qinverse__ctrl__1__unitary_with_power_logic_qinverse__block_wrapper_8e752b93b35b485d92fdc5bfa4c13978_qinverse': FunctionExecutionData(power_parameter='64.0000000000000'), 'hhl__block_wrapper_e2de832134b6419aa1719311460caf6b__block_wrapper_f23b15158a344ee08214841b1d1bab50__qpe_flexible__iteration_1_1_qinverse__block_wrapper_cda2db06c1bf4bc9941f162bdde0a9c4_qinverse__ctrl__1__unitary_with_power_logic_qinverse__block_wrapper_8e752b93b35b485d92fdc5bfa4c13978_qinverse': FunctionExecutionData(power_parameter='32.0000000000000'), 'hhl__block_wrapper_e2de832134b6419aa1719311460caf6b__block_wrapper_f23b15158a344ee08214841b1d1bab50__qpe_flexible__iteration_1_2_qinverse__block_wrapper_5dbb2c256aeb460fae84caae8b074416_qinverse__ctrl__1__unitary_with_power_logic_qinverse__block_wrapper_8e752b93b35b485d92fdc5bfa4c13978_qinverse': FunctionExecutionData(power_parameter='16.0000000000000'), 'hhl__block_wrapper_e2de832134b6419aa1719311460caf6b__block_wrapper_f23b15158a344ee08214841b1d1bab50__qpe_flexible__iteration_1_3_qinverse__block_wrapper_7801e19b29ad4ec191cf54f8c2bcfefc_qinverse__ctrl__1__unitary_with_power_logic_qinverse__block_wrapper_8e752b93b35b485d92fdc5bfa4c13978_qinverse': FunctionExecutionData(power_parameter='8.00000000000000'), 'hhl__block_wrapper_e2de832134b6419aa1719311460caf6b__block_wrapper_f23b15158a344ee08214841b1d1bab50__qpe_flexible__iteration_1_4_qinverse__block_wrapper_46fbc6387e794f66a0b7a0abffbe32f6_qinverse__ctrl__1__unitary_with_power_logic_qinverse__block_wrapper_8e752b93b35b485d92fdc5bfa4c13978_qinverse': FunctionExecutionData(power_parameter='4.00000000000000'), 'hhl__block_wrapper_e2de832134b6419aa1719311460caf6b__block_wrapper_f23b15158a344ee08214841b1d1bab50__qpe_flexible__iteration_1_5_qinverse__block_wrapper_cd2eb453d95847bf9ad93f04ae1cec1c_qinverse__ctrl__1__unitary_with_power_logic_qinverse__block_wrapper_8e752b93b35b485d92fdc5bfa4c13978_qinverse': FunctionExecutionData(power_parameter='2.00000000000000'), 'hhl__block_wrapper_e2de832134b6419aa1719311460caf6b__block_wrapper_f23b15158a344ee08214841b1d1bab50__qpe_flexible__iteration_1_6_qinverse__block_wrapper_55529d97dda84fa38fb250ad158d60d2_qinverse__ctrl__1__unitary_with_power_logic_qinverse__block_wrapper_8e752b93b35b485d92fdc5bfa4c13978_qinverse': FunctionExecutionData(power_parameter='1.00000000000000')})), model=ExecutionModel(version='0.86.1', interface_version='11', enums=[], types=[], qstructs=[], constants=[], classical_execution_code='', execution_preferences=ExecutionPreferences(noise_properties=None, random_seed=2429286322, backend_preferences=ClassiqBackendPreferences(backend_service_provider=<ProviderVendor.CLASSIQ: 'Classiq'>, backend_name='simulator_statevector'), num_shots=1, transpile_to_hardware=<TranspilationOption.DECOMPOSE: 'decompose'>, job_name=None), circuit_outputs={'res': RegisterArithmeticInfo(size=3, is_signed=False, fraction_places=0, bypass_bounds_validation=False, bounds=[0.0, 7.0]), 'phase': RegisterArithmeticInfo(size=7, is_signed=False, fraction_places=7, bypass_bounds_validation=False, bounds=[0.0, 0.9921875]), 'indicator': RegisterArithmeticInfo(size=1, is_signed=False, fraction_places=0, bypass_bounds_validation=False, bounds=[0.0, 1.0])}, circuit_output_types={'res': RegisterQuantumType(quantum_types=QuantumNumeric(source_ref=None, back_ref=None, kind='qnum', size=Expression(source_ref=None, back_ref=None, expr='3'), is_signed=Expression(source_ref=None, back_ref=None, expr='False'), fraction_digits=Expression(source_ref=None, back_ref=None, expr='0')), size=3), 'phase': RegisterQuantumType(quantum_types=QuantumNumeric(source_ref=None, back_ref=None, kind='qnum', size=Expression(source_ref=None, back_ref=None, expr='7'), is_signed=Expression(source_ref=None, back_ref=None, expr='False'), fraction_digits=Expression(source_ref=None, back_ref=None, expr='7')), size=7), 'indicator': RegisterQuantumType(quantum_types=QuantumBit(source_ref=None, back_ref=None, kind='qbit'), size=1)}, register_filter_bitstrings={}, circuit_execution_params={}), transpiled_circuit=TranspiledCircuitData(outputs={<QuantumFormat.QASM: 'qasm'>: \"// G...9];\n",
       "\" (length=2831266)}, qasm_version=<QasmVersion.V2: '2.0'>, depth=65506, count_ops={'u': 31989, 'cx': 41892}, logical_to_physical_input_qubit_map=[0, 1, 2, 3, 4, 5, 6, 7, 8, 9, 10], logical_to_physical_output_qubit_map=[0, 1, 2, 3, 4, 5, 6, 7, 8, 9, 10]), creation_time='2025-07-25T19:56:02.015688', synthesis_duration=SynthesisStepDurations(preprocessing=0.6944527640007436, solving=0.10030714306049049, conversion_to_circuit=0.6175259440205991, postprocessing=228.54714597202837), debug_info=None, compressed_debug_info=b'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', program_id='f3213094-b59b-4939-a38f-cb5ddf42757a', execution_primitives_input=None, synthesis_warnings=None, should_warn=False, circuit_id='e661eecf-74f4-447f-9676-4eebb17e71b2')"
      ]
     },
     "execution_count": 140,
     "metadata": {},
     "output_type": "execute_result"
    }
   ],
   "source": [
    "qprog_hhl_exact"
   ]
  },
  {
   "cell_type": "code",
   "execution_count": 148,
   "id": "89ae1b84",
   "metadata": {},
   "outputs": [
    {
     "data": {
      "text/plain": [
       "3"
      ]
     },
     "execution_count": 148,
     "metadata": {},
     "output_type": "execute_result"
    }
   ],
   "source": [
    "len(qprog_hhl_exact.data.qubit_mapping.logical_outputs[\"res\"])"
   ]
  },
  {
   "cell_type": "code",
   "execution_count": 150,
   "id": "fff83d4a",
   "metadata": {},
   "outputs": [
    {
     "data": {
      "text/plain": [
       "3"
      ]
     },
     "execution_count": 150,
     "metadata": {},
     "output_type": "execute_result"
    }
   ],
   "source": [
    "len(res_hhl_exact.physical_qubits_map[\"res\"])"
   ]
  },
  {
   "cell_type": "markdown",
   "id": "iXncSzDskL0n",
   "metadata": {
    "id": "iXncSzDskL0n"
   },
   "source": [
    "#### Postselect Results\n",
    "\n",
    "If all eigenvalues are $m$-estimated (are represented by $m$ binary digits), then eigenvalues uncomputation by inverse-QPE create the state:\n",
    "\n",
    "$$\n",
    "\\sum^{2^n-1}_{j=0}{\\beta_j |0\\rangle_m |u_j\\rangle_n \\left(\\sqrt{1-\\frac{C^2}{\\tilde{\\lambda}^2_j}}|0\\rangle_a + \\frac{C}{\\tilde{\\lambda}_j}|1\\rangle_a \\right)}\n",
    "$$\n",
    "\n",
    "If at least one eigenvalue is not $m$-estimated, then after performing QPE$^\\dagger$, the `phase` register is not reseted in $|0\\rangle_m$.\n",
    "\n",
    "In general case, we postselect only states that return 1 on ancillary qubit in `indicator` register. In this tutorial, we will add another postselection condition on `phase` register, to return $|0\\rangle_m$, in order to increase accuracy of the solution result.\n",
    "\n",
    "**Note:** Postselection can improve HHL algorithm results at the cost of more executions. In the future, when two-way quantum computing is utilized, postselection might be replaced by adjoint-state preparation, as envisioned by Jarek Duda [[4](#Duda)]."
   ]
  },
  {
   "cell_type": "markdown",
   "id": "f520a242-c0d8-49b9-94d1-750da0555fb2",
   "metadata": {
    "id": "f520a242-c0d8-49b9-94d1-750da0555fb2"
   },
   "source": [
    "The `quantum_solution` function defines a run over all the relevant strings holding the solution. The solution vector will be inserted into the variable `qsol`, after normalizing with $C=1/2^m$."
   ]
  },
  {
   "cell_type": "code",
   "execution_count": 12,
   "id": "b8b5ed43-3618-44a0-b0a5-f632c0caef15",
   "metadata": {
    "id": "b8b5ed43-3618-44a0-b0a5-f632c0caef15"
   },
   "outputs": [],
   "source": [
    "# def quantum_solution(circuit_hhl, res_hhl, precision):\n",
    "    \n",
    "#     *_, phase_pos = read_positions(circuit_hhl, res_hhl)\n",
    "    \n",
    "#     qsol = [ # Returns the amplitude \n",
    "#         np.round(parsed_state.amplitude / (1 / 2**precision), 5)\n",
    "#         for solution in range(2**n) # n = len(hamiltonian[0].pauli) is # of qubits for A, or b, or \"res\". \n",
    "#         for parsed_state in res_hhl.parsed_state_vector\n",
    "#         # Scan over all unique measurement outputs, |rrrIpppp>, that satisfies the following\n",
    "#         if parsed_state[\"indicator\"] == 1.0 # Indicator is |1>\n",
    "#         and parsed_state[\"res\"] == solution # combine outputs with the same \"res\" pattern |rrr>\n",
    "#         and [parsed_state.bitstring[k] for k in phase_pos] == [\"0\"] * precision # all phase qubits are 0.\n",
    "#         # Phase qubits are not 0 after QPE inverse, means QPE did not pick up the best eigen approximation\n",
    "#         # QPE does not return the best approximation 100% of the time\n",
    "#     ]\n",
    "#     return qsol\n",
    "\n",
    "def quantum_solution(circuit_hhl, res_hhl, precision: int, C=None):\n",
    "    \"\"\"\n",
    "    Parameters\n",
    "    ----------\n",
    "    circuit_hhl: Classiq qprog\n",
    "    \n",
    "    res_hhl: Classiq ExecutionDetails\n",
    "    \n",
    "    precision: int\n",
    "        precision of eigenvalue (phase) estimation for QPE, in # of phase qubits. \n",
    "    \n",
    "    C: float\n",
    "        A lowerbound of the eigenvalues, lambda, in C/lambda.\n",
    "    \n",
    "    Returns\n",
    "    -------\n",
    "    qsol: List\n",
    "        List of amplitudes\n",
    "    \n",
    "    \"\"\"\n",
    "    *_, phase_pos = read_positions(circuit_hhl, res_hhl)\n",
    "    \n",
    "    # The number of qubits for b, or \"res\". \n",
    "    n = len(res_hhl.physical_qubits_map[\"res\"])\n",
    "    \n",
    "    if C == None:\n",
    "        C = 1/(2**precision)\n",
    "    \n",
    "    qsol = [ # Returns the solution in pre-measurement amplitudes\n",
    "        np.round(parsed_state.amplitude / C) # \n",
    "        for solution in range(2**n)\n",
    "        for parsed_state in res_hhl.parsed_state_vector\n",
    "        # Scan over all unique measurement outputs, |rrrIpppp>, that satisfies the following\n",
    "        if parsed_state[\"indicator\"] == 1.0 # Indicator is |1>\n",
    "        and parsed_state[\"res\"] == solution # combine outputs with the same \"res\" pattern |rrr>\n",
    "        and [parsed_state.bitstring[k] for k in phase_pos] == [\"0\"] * precision # all phase qubits are 0.\n",
    "        # Phase qubits are not 0 after QPE inverse, means QPE did not pick up the best eigen approximation\n",
    "        # QPE does not return the best approximation 100% of the time\n",
    "    ]\n",
    "    return qsol"
   ]
  },
  {
   "cell_type": "markdown",
   "id": "007beff5-5fd8-48cf-a4bc-625afa655456",
   "metadata": {
    "id": "007beff5-5fd8-48cf-a4bc-625afa655456"
   },
   "source": [
    "#### Compare Classical and Quantum Solutions\n",
    "\n",
    "Note that the HHL algorithm returns a statevector result that includes an arbitrary global phase. The global phase can arise due to the transpilation process or from the intrinsic properties of the quantum functions themselves. Therefore, to compare with the classical solution, we need to correct the quantum results by the global phase (normalize). However, even after this normalization, there may still be a minus sign difference between the quantum and classical solutions, due to the inherent ambiguity of a global phase factor of $e^{i\\pi}=-1$. The sign difference does not affect the physical validity of the comparison, as both states $|x\\rangle$ and $-|x\\rangle$ are considered equivalent in terms of their measurement probabilities."
   ]
  },
  {
   "cell_type": "code",
   "execution_count": 13,
   "id": "042ef3f0-5c07-4354-99e5-7809bd1ce51f",
   "metadata": {
    "id": "042ef3f0-5c07-4354-99e5-7809bd1ce51f"
   },
   "outputs": [],
   "source": [
    "import matplotlib.pyplot as plt\n",
    "\n",
    "def quantum_solution_preprocessed(A, b, circuit_hhl, res_hhl, precision, disp=True):\n",
    "    # Classical solution\n",
    "    sol_classical = np.linalg.solve(A, b)\n",
    "    if disp:\n",
    "        print(\"Classical Solution:         \", sol_classical)\n",
    "\n",
    "    # Quantum solution with postselection\n",
    "    qsol = quantum_solution(circuit_hhl, res_hhl, precision)\n",
    "    if disp:\n",
    "        print(\"Quantum Solution:           \", np.abs(qsol) / np.linalg.norm(qsol))\n",
    "\n",
    "    # Global phase from one element, e.g. qsol[0]\n",
    "    global_phase = np.angle(qsol[0])\n",
    "\n",
    "    # Preprocessed quantum solution\n",
    "    qsol_corrected = np.real(qsol / np.exp(1j * global_phase))\n",
    "\n",
    "    # Correct ambiguity in the sign\n",
    "    qsol_corrected = (\n",
    "        np.sign(qsol_corrected[0]) * np.sign(sol_classical[0]) * qsol_corrected\n",
    "    )\n",
    "\n",
    "    return sol_classical, qsol_corrected\n",
    "\n",
    "# Method 2 classical post-processing\n",
    "# To combat noise, minimize imaginary part across all entries, instead of just using the first entry.\n",
    "\n",
    "def quantum_solution_preprocessed_2(A, b, circuit_hhl, res_hhl, precision, disp=True):\n",
    "    \"\"\"\n",
    "    Solve A x = b both classically and via the HHL-based quantum routine, then\n",
    "    preprocess the raw quantum output by choosing the global phase that\n",
    "    minimizes the imaginary norm across all components.\n",
    "\n",
    "    This uses the fact that for any complex vector q, the φ which minimizes\n",
    "        || Im(e^{-iφ} q) ||₂\n",
    "    is given by\n",
    "        φ_opt = ½ · arg( Σ_j q_j² ).\n",
    "\n",
    "    After phase‐alignment, we take the real part and fix any overall ± sign\n",
    "    to match the classical solution.\n",
    "\n",
    "    Parameters\n",
    "    ----------\n",
    "    A : (n, n) ndarray\n",
    "        Real, invertible matrix.\n",
    "    b : (n,) ndarray\n",
    "        Real right‐hand side vector.\n",
    "    circuit_hhl : Classiq model or compiled circuit\n",
    "        Encodes the HHL quantum subroutine.\n",
    "    res_hhl : result object\n",
    "        Raw output from executing the HHL circuit.\n",
    "    precision : int\n",
    "        Number of qubits in the phase register.\n",
    "    disp : bool, optional\n",
    "        If True, print both classical and (normalized) quantum solutions.\n",
    "\n",
    "    Returns\n",
    "    -------\n",
    "    sol_classical : (n,) ndarray\n",
    "        Exact solution of A x = b.\n",
    "    qsol_corrected : (n,) ndarray\n",
    "        Real vector obtained from the quantum output after optimal global‐phase\n",
    "        alignment and sign correction, ready for direct comparison to sol_classical.\n",
    "    \"\"\"\n",
    "    # 1) Classical solution\n",
    "    sol_classical = np.linalg.solve(A, b)\n",
    "    if disp:\n",
    "        print(\"Classical Solution:         \", sol_classical)\n",
    "\n",
    "    # 2) Raw quantum solution (complex amplitudes)\n",
    "    qsol = quantum_solution(circuit_hhl, res_hhl, precision)\n",
    "    if disp:\n",
    "        normed = np.abs(qsol) / np.linalg.norm(qsol)\n",
    "        print(\"Quantum Solution (prob amp):\", normed)\n",
    "    \n",
    "    # 2b) Convert qsol from list to array\n",
    "    qsol = np.array(qsol, dtype=complex)\n",
    "    \n",
    "    # 3) Optimal global‐phase φ that minimizes imaginary parts across all components\n",
    "    #    φ_opt = 0.5 * arg( Σ_j qsol[j]^2 )\n",
    "    phi_opt = 0.5 * np.angle(np.sum(qsol**2))\n",
    "\n",
    "    # 4) Phase‐rotate and take real part\n",
    "    qsol_rot   = qsol * np.exp(-1j * phi_opt)\n",
    "    qsol_real  = np.real(qsol_rot)\n",
    "\n",
    "    # 5) Fix any overall ± sign so first entry matches classical sign\n",
    "    sign_fix      = np.sign(sol_classical[0]) * np.sign(qsol_real[0])\n",
    "    qsol_corrected = sign_fix * qsol_real\n",
    "\n",
    "    return sol_classical, qsol_corrected\n",
    "\n",
    "def show_solutions(A, b, circuit_hhl, res_hhl, precision, check=True, disp=True):\n",
    "    # Classical solution and preprocessed quantum solution\n",
    "    sol_classical, qsol_corrected = quantum_solution_preprocessed(\n",
    "        A, b, circuit_hhl, res_hhl, precision, disp=disp\n",
    "    )\n",
    "\n",
    "    # Verify is there is no functional error, which might come from changing endianness in Model or Execution\n",
    "    if (\n",
    "        np.linalg.norm(sol_classical - qsol_corrected) / np.linalg.norm(sol_classical)\n",
    "        > 0.1\n",
    "        and check\n",
    "    ):\n",
    "        raise Exception(\n",
    "            \"The HHL solution is too far from the classical one, please verify your algorithm\"\n",
    "        )\n",
    "\n",
    "    if disp:\n",
    "        print(\"Corrected Quantum Solution: \", qsol_corrected)\n",
    "\n",
    "    # Fidelity\n",
    "    state_classical = sol_classical / np.linalg.norm(sol_classical)\n",
    "    state_corrected = qsol_corrected / np.linalg.norm(qsol_corrected)\n",
    "    fidelity = np.abs(np.dot(state_classical, state_corrected)) ** 2\n",
    "    print()\n",
    "    print(\"Fidelity:                   \", f\"{np.round(fidelity * 100,2)} %\")\n",
    "\n",
    "    if disp:\n",
    "        plt.plot(sol_classical, \"bo\", label=\"Classical\")\n",
    "        plt.plot(qsol_corrected, \"ro\", label=\"HHL\")\n",
    "        plt.legend()\n",
    "        plt.xlabel(\"$i$\")\n",
    "        plt.ylabel(\"$x_i$\")\n",
    "        plt.show()"
   ]
  },
  {
   "cell_type": "code",
   "execution_count": null,
   "id": "1e9d25a8",
   "metadata": {},
   "outputs": [
    {
     "name": "stdout",
     "output_type": "stream",
     "text": [
      "Classical Solution:          [-0.40001043 -0.9065818  -0.36092485  0.86946506 -0.72199424 -0.82532217\n",
      " -4.05988704  2.13783195]\n",
      "Quantum Solution:            [0.00779269 0.12040135 0.00642586 0.27292544 0.05191998 0.09845561\n",
      " 0.76563362 0.55886418]\n"
     ]
    },
    {
     "data": {
      "text/plain": [
       "(array([-0.40001043, -0.9065818 , -0.36092485,  0.86946506, -0.72199424,\n",
       "        -0.82532217, -4.05988704,  2.13783195]),\n",
       " array([-0.03569, -0.55143,  0.02943,  1.24998, -0.23779, -0.45092,\n",
       "        -3.50655,  2.55956]))"
      ]
     },
     "execution_count": 72,
     "metadata": {},
     "output_type": "execute_result"
    }
   ],
   "source": [
    "# Testing\n",
    "quantum_solution_preprocessed(A, b, qprog_hhl_exact, res_hhl_exact, precision)"
   ]
  },
  {
   "cell_type": "code",
   "execution_count": 75,
   "id": "9ff0f650",
   "metadata": {},
   "outputs": [
    {
     "name": "stdout",
     "output_type": "stream",
     "text": [
      "Classical Solution:          [-0.40001043 -0.9065818  -0.36092485  0.86946506 -0.72199424 -0.82532217\n",
      " -4.05988704  2.13783195]\n",
      "Quantum Solution (prob amp): [0.00779269 0.12040135 0.00642586 0.27292544 0.05191998 0.09845561\n",
      " 0.76563362 0.55886418]\n"
     ]
    },
    {
     "data": {
      "text/plain": [
       "(array([-0.40001043, -0.9065818 , -0.36092485,  0.86946506, -0.72199424,\n",
       "        -0.82532217, -4.05988704,  2.13783195]),\n",
       " array([-0.03569, -0.55143,  0.02943,  1.24998, -0.23779, -0.45092,\n",
       "        -3.50655,  2.55956]))"
      ]
     },
     "execution_count": 75,
     "metadata": {},
     "output_type": "execute_result"
    }
   ],
   "source": [
    "# Testing\n",
    "quantum_solution_preprocessed_2(A, b, qprog_hhl_exact, res_hhl_exact, precision)"
   ]
  },
  {
   "cell_type": "markdown",
   "id": "c7d71ac7",
   "metadata": {},
   "source": [
    "$\\phi_{\\rm best}\n",
    "=\\arg\\min_\\phi\\;\\bigl\\|\\Im(e^{-i\\phi}qsol)\\bigr\\|_2^2$"
   ]
  },
  {
   "cell_type": "markdown",
   "id": "IQhM36aCEH6_",
   "metadata": {
    "id": "IQhM36aCEH6_"
   },
   "source": [
    "In the upcoming sections, we will present two different examples of implementing Hamiltonian dynamics by defining the unitary operator using two methods: exact and approximated."
   ]
  },
  {
   "cell_type": "markdown",
   "id": "57fd9798-8faf-4f58-8d5d-5453482b9d8c",
   "metadata": {
    "id": "57fd9798-8faf-4f58-8d5d-5453482b9d8c"
   },
   "source": [
    "### Example: Exact Hamiltonian Evolution\n",
    "\n",
    "While the implementation of exact Hamiltonian simulation provided here is not scalable for large systems due to the exponential growth in computational resources required, it serves as a valuable tool for debugging and studying small quantum systems."
   ]
  },
  {
   "cell_type": "code",
   "execution_count": 61,
   "id": "AE8_ndqidJCb",
   "metadata": {
    "id": "AE8_ndqidJCb"
   },
   "outputs": [],
   "source": [
    "# Original code\n",
    "from typing import List\n",
    "\n",
    "import scipy\n",
    "\n",
    "from classiq import Output, create_model, power, prepare_amplitudes, synthesize, unitary\n",
    "from classiq.qmod.symbolic import floor, log\n",
    "\n",
    "# Parameters for the initial state preparation\n",
    "amplitudes = b.tolist()\n",
    "precision = 7\n",
    "\n",
    "@qfunc\n",
    "def unitary_with_power_logic(\n",
    "    pw: CInt, matrix: CArray[CArray[CReal]], target: QArray[QBit]\n",
    ") -> None:\n",
    "    power(pw, lambda: unitary(elements=matrix, target=target))\n",
    "\n",
    "\n",
    "@qfunc\n",
    "def main(\n",
    "    res: Output[QNum],\n",
    "    phase: Output[QNum],\n",
    "    indicator: Output[QBit],\n",
    ") -> None:\n",
    "    hhl(\n",
    "        rhs_vector=amplitudes,\n",
    "        precision=precision,\n",
    "        hamiltonian_evolution_with_power=lambda arg0, arg1: unitary_with_power_logic(\n",
    "            # arg0 is the power k, arg1 is \"state\"\n",
    "            matrix=scipy.linalg.expm(2 * np.pi * 1j * A).tolist(), pw=arg0, target=arg1\n",
    "        ),\n",
    "        state=res,\n",
    "        phase=phase,\n",
    "        indicator=indicator,\n",
    "    )"
   ]
  },
  {
   "cell_type": "code",
   "execution_count": 62,
   "id": "ImzQQdUB5Iig",
   "metadata": {
    "id": "ImzQQdUB5Iig"
   },
   "outputs": [],
   "source": [
    "# Construct HHL model\n",
    "qmod_hhl_exact = hhl_model(main, backend_preferences)"
   ]
  },
  {
   "cell_type": "code",
   "execution_count": 63,
   "id": "cc3ba894-8a73-4891-ad55-6f22fa3fdfb5",
   "metadata": {
    "id": "cc3ba894-8a73-4891-ad55-6f22fa3fdfb5"
   },
   "outputs": [],
   "source": [
    "from classiq import write_qmod\n",
    "\n",
    "# Save qmod file\n",
    "write_qmod(qmod_hhl_exact, \"hhl_exact\", decimal_precision=20)"
   ]
  },
  {
   "cell_type": "markdown",
   "id": "4e0caed5-950c-43f8-90cf-d841731b4ea5",
   "metadata": {
    "id": "4e0caed5-950c-43f8-90cf-d841731b4ea5"
   },
   "source": [
    "#### Synthesizing the Model (exact)"
   ]
  },
  {
   "cell_type": "code",
   "execution_count": 64,
   "id": "f0ffc6b8-cdb8-468b-932f-89942c639b5d",
   "metadata": {
    "colab": {
     "base_uri": "https://localhost:8080/"
    },
    "id": "f0ffc6b8-cdb8-468b-932f-89942c639b5d",
    "outputId": "a50d5cb4-3c53-4bf4-eac8-007605b735ce"
   },
   "outputs": [
    {
     "name": "stdout",
     "output_type": "stream",
     "text": [
      "Quantum program link: https://platform.classiq.io/circuit/30NgJBfuc6vrjm2N7MHISYovZ0z\n",
      "Circuit depth =  65506\n",
      "Circuit CX count =  41892\n"
     ]
    }
   ],
   "source": [
    "# Preference setting to speed up qrog synthesis.\n",
    "pref = Preferences(optimization_level= 1, timeout_seconds=10000, optimization_timeout_seconds=8000)\n",
    "\n",
    "qprog_hhl_exact = synthesize(qmod_hhl_exact, preferences=pref)\n",
    "show(qprog_hhl_exact)\n",
    "\n",
    "print(\"Circuit depth = \", qprog_hhl_exact.transpiled_circuit.depth)\n",
    "print(\"Circuit CX count = \", qprog_hhl_exact.transpiled_circuit.count_ops[\"cx\"])"
   ]
  },
  {
   "attachments": {
    "38ce9d4a-b299-40e1-92fb-cb15babc46fc.png": {
     "image/png": "[encoded data removed]"
    }
   },
   "cell_type": "markdown",
   "id": "a34e1ae9-168c-4d1c-a3f1-2d1f56bc78c6",
   "metadata": {
    "id": "a34e1ae9-168c-4d1c-a3f1-2d1f56bc78c6"
   },
   "source": [
    "![Screenshot 2025-06-20 at 22.34.35.png](attachment:38ce9d4a-b299-40e1-92fb-cb15babc46fc.png)\n",
    "<center>\n",
    "<figcaption align = \"middle\">Synthesized HHL circuit</figcaption>\n",
    "</center>"
   ]
  },
  {
   "cell_type": "markdown",
   "id": "73bbb2d9-ea89-4b00-b4b9-40689c11a565",
   "metadata": {
    "id": "73bbb2d9-ea89-4b00-b4b9-40689c11a565"
   },
   "source": [
    "#### Statevector Simulation (exact)\n",
    "\n",
    "Execute the quantum program. Recall that you chose a statevector simulator because you want the exact solution."
   ]
  },
  {
   "cell_type": "code",
   "execution_count": 69,
   "id": "14bc85cb-1000-4e2d-b96f-a0c324c60b27",
   "metadata": {
    "id": "14bc85cb-1000-4e2d-b96f-a0c324c60b27"
   },
   "outputs": [],
   "source": [
    "from classiq.execution import ExecutionDetails\n",
    "\n",
    "res_hhl_exact = execute(qprog_hhl_exact).result_value()"
   ]
  },
  {
   "cell_type": "code",
   "execution_count": 70,
   "id": "CsiJ81SjNQPr",
   "metadata": {
    "colab": {
     "base_uri": "https://localhost:8080/"
    },
    "id": "CsiJ81SjNQPr",
    "outputId": "fb569a7d-50ce-47d1-a7ba-b4571c8aba3b"
   },
   "outputs": [
    {
     "data": {
      "text/plain": [
       "[(-0.03569+0j),\n",
       " (-0.55143+0j),\n",
       " (0.02943+0j),\n",
       " (1.24998-0j),\n",
       " (-0.23779+0j),\n",
       " (-0.45092+0j),\n",
       " (-3.50655+0j),\n",
       " (2.55956+0j)]"
      ]
     },
     "execution_count": 70,
     "metadata": {},
     "output_type": "execute_result"
    }
   ],
   "source": [
    "qsol_hhl_exact = quantum_solution(qprog_hhl_exact, res_hhl_exact, precision)\n",
    "qsol_hhl_exact"
   ]
  },
  {
   "cell_type": "code",
   "execution_count": 71,
   "id": "f30cfc85",
   "metadata": {},
   "outputs": [
    {
     "data": {
      "text/plain": [
       "(-0.03569+0j)"
      ]
     },
     "execution_count": 71,
     "metadata": {},
     "output_type": "execute_result"
    }
   ],
   "source": [
    "qsol_hhl_exact[0]"
   ]
  },
  {
   "cell_type": "markdown",
   "id": "UKNXW8Fmyd5o",
   "metadata": {
    "id": "UKNXW8Fmyd5o"
   },
   "source": [
    "#### Results (exact)"
   ]
  },
  {
   "cell_type": "code",
   "execution_count": 68,
   "id": "dbIxJ9YdwImO",
   "metadata": {
    "colab": {
     "base_uri": "https://localhost:8080/",
     "height": 537
    },
    "id": "dbIxJ9YdwImO",
    "outputId": "0ef684d6-21e6-4708-b0b7-ad4f36876768"
   },
   "outputs": [
    {
     "name": "stdout",
     "output_type": "stream",
     "text": [
      "Classical Solution:          [-0.40001043 -0.9065818  -0.36092485  0.86946506 -0.72199424 -0.82532217\n",
      " -4.05988704  2.13783195]\n",
      "Quantum Solution:            [0.00779269 0.12040135 0.00642586 0.27292544 0.05191998 0.09845561\n",
      " 0.76563362 0.55886418]\n",
      "Corrected Quantum Solution:  [-0.03569 -0.55143  0.02943  1.24998 -0.23779 -0.45092 -3.50655  2.55956]\n",
      "\n",
      "Fidelity:                    94.28 %\n"
     ]
    },
    {
     "data": {
      "image/png": "[encoded data removed]",
      "text/plain": [
       "<Figure size 640x480 with 1 Axes>"
      ]
     },
     "metadata": {},
     "output_type": "display_data"
    }
   ],
   "source": [
    "show_solutions(A, b, qprog_hhl_exact, res_hhl_exact, precision, check=False)"
   ]
  },
  {
   "cell_type": "markdown",
   "id": "52656df8",
   "metadata": {},
   "source": [
    "### Example Streamfunction-Vorticity Lid Driven Cavity"
   ]
  },
  {
   "cell_type": "markdown",
   "id": "990d8daa",
   "metadata": {},
   "source": [
    "#### Define HHL function\n",
    "\n",
    "For streamfunction-vorticity, we modify the CR block."
   ]
  },
  {
   "cell_type": "code",
   "execution_count": null,
   "id": "3b808a70",
   "metadata": {},
   "outputs": [],
   "source": [
    "from classiq.qmod.symbolic import floor, log\n",
    "\n",
    "# Parameters for the initial state preparation\n",
    "amplitudes = b.tolist()\n",
    "\n",
    "# Function for the main quantum program\n",
    "@qfunc\n",
    "def hhl(\n",
    "    rhs_vector: CArray[CReal],\n",
    "    precision: CInt,\n",
    "    hamiltonian_evolution_with_power: QCallable[CInt, QArray],\n",
    "    state: Output[QArray],\n",
    "    phase: Output[QNum],\n",
    "    indicator: Output[QBit],\n",
    "):\n",
    "    # Allocate \"precision\" number of qubits. All of which are fractions: 0.123456. For comparison consider 12.3456\n",
    "    # The quantum register that holds this info is called \"phase\".\n",
    "    allocate(num_qubits=precision, is_signed=UNSIGNED, fraction_digits=precision, out=phase) \n",
    "\n",
    "    # Prepare \"b\", assigned to a quantum register called \"state\". \n",
    "    load_b(amplitudes=amplitudes, state=state)\n",
    "\n",
    "    # Allocate a single qubit to the quantum register called \"indicator\". \n",
    "    # We will perform controlled rotations onto this \"indicator\". \n",
    "    allocate(indicator)\n",
    "    \n",
    "    # Perform quantum phase estimation and eigenvalue inversion\n",
    "    within_apply(\n",
    "        # Within block: on the outside, i.e., QPE and QPE^-1\n",
    "        lambda: qpe_flexible(\n",
    "            # A function that performs U operation k (or 2^k) times on the quantum register, \"state\", which encodes b. \n",
    "            unitary_with_power =\n",
    "                # hamiltonian_evolution_with_power(k, qreg) is the function that generates U from A, \n",
    "                # and can repeat itself k (or 2^k) times. \n",
    "                lambda k: hamiltonian_evolution_with_power(k, state),\n",
    "            # The outputs (eigenvalues info) are stored in the \"phase\" quantum register\n",
    "            phase=phase,\n",
    "        ),\n",
    "        # Apply block: CR block (on the inside)\n",
    "        # Generates C/lambda |1>, where C = lambda_min. Note that C must be a lower bound for the smallest eigenvalue.\n",
    "        # However, this also explains why synthesis takes so long. \n",
    "        # We are supposed to perform the controlled rotations with eigenvalues as controls, and the indicator is the target.\n",
    "        # But here, it computes classical arithmetics to obtain C/lambda given variable lambda, \n",
    "        # then assigns C/lambda to the indicator qubit. \n",
    "        lambda: assign_amplitude(\n",
    "            # Here, we assign the correct amplitide based on the original eigenvalues of A, not of A'. \n",
    "            # In other words, A' is rescaled back to A at this step. \n",
    "            min / (\n",
    "                (phase - 1/2**precision)\n",
    "                * (max - min)\n",
    "                * (2**precision / (2**precision - 1))\n",
    "                + min\n",
    "            ),\n",
    "            # C/lambda is amplitude assigned to the indicator qubit\n",
    "            indicator\n",
    "        ),\n",
    "    )\n",
    "    "
   ]
  },
  {
   "cell_type": "markdown",
   "id": "d0d228c2",
   "metadata": {},
   "source": [
    "#### Exact Hamiltonian for streamfunction vorticity"
   ]
  },
  {
   "cell_type": "code",
   "execution_count": 15,
   "id": "38438e09",
   "metadata": {},
   "outputs": [],
   "source": [
    "# from typing import List\n",
    "# import scipy\n",
    "# from classiq import Output, create_model, power, prepare_amplitudes, synthesize, unitary\n",
    "# from classiq.qmod.symbolic import floor, log\n",
    "\n",
    "@qfunc\n",
    "def unitary_with_power_logic(\n",
    "    pw: CInt, matrix: CArray[CArray[CReal]], target: QArray[QBit]\n",
    ") -> None:\n",
    "    power(pw, lambda: unitary(elements=matrix, target=target))\n",
    "\n",
    "@qfunc\n",
    "def main(\n",
    "    res: Output[QNum],\n",
    "    phase: Output[QNum],\n",
    "    indicator: Output[QBit],\n",
    ") -> None:\n",
    "    # Calling hhl()\n",
    "    hhl(\n",
    "        rhs_vector=amplitudes,\n",
    "        precision=precision,\n",
    "        hamiltonian_evolution_with_power=lambda arg0, arg1: unitary_with_power_logic(\n",
    "            # arg0 is the power k, arg1 is \"state\"\n",
    "            matrix=scipy.linalg.expm(2 * np.pi * 1j * A).tolist(), pw=arg0, target=arg1\n",
    "        ),\n",
    "        state=res,\n",
    "        phase=phase,\n",
    "        indicator=indicator,\n",
    "    )"
   ]
  },
  {
   "cell_type": "code",
   "execution_count": null,
   "id": "5f61a92a",
   "metadata": {},
   "outputs": [],
   "source": [
    "def quantum_solution(circuit_hhl:QuantumProgram, res_hhl:ExecutionDetails, precision: int, C=None):\n",
    "    \"\"\"\n",
    "    Parameters\n",
    "    ----------\n",
    "    circuit_hhl: Classiq QuantumProgram, qprog\n",
    "    \n",
    "    res_hhl: Classiq ExecutionDetails\n",
    "    \n",
    "    precision: int\n",
    "        precision of eigenvalue (phase) estimation for QPE, in # of phase qubits. \n",
    "    \n",
    "    C: float\n",
    "        A lowerbound of the eigenvalues, lambda, in C/lambda.\n",
    "    \n",
    "    Returns\n",
    "    -------\n",
    "    qsol: List\n",
    "        List of amplitudes\n",
    "    \n",
    "    \"\"\"\n",
    "    *_, phase_pos = read_positions(circuit_hhl, res_hhl)\n",
    "    \n",
    "    # The number of qubits for b, or \"res\". \n",
    "    n = len(res_hhl.physical_qubits_map[\"res\"])\n",
    "    \n",
    "    if C == None:\n",
    "        C = 1/(2**precision)\n",
    "    \n",
    "    qsol = [ # Returns the solution in pre-measurement amplitudes\n",
    "        parsed_state.amplitude / C\n",
    "        for solution in range(2**n)\n",
    "        for parsed_state in res_hhl.parsed_state_vector\n",
    "        # Scan over all unique measurement outputs, |rrrIpppp>, that satisfies the following\n",
    "        if parsed_state[\"indicator\"] == 1.0 # Indicator is |1>\n",
    "        and parsed_state[\"res\"] == solution # combine outputs with the same \"res\" pattern |rrr>\n",
    "        and [parsed_state.bitstring[k] for k in phase_pos] == [\"0\"] * precision # all phase qubits are 0.\n",
    "        # Phase qubits are not 0 after QPE inverse, means QPE did not pick up the best eigen approximation\n",
    "        # QPE does not return the best approximation 100% of the time\n",
    "    ]\n",
    "    return qsol\n",
    "\n",
    "import matplotlib.pyplot as plt\n",
    "\n",
    "\n",
    "\n",
    "# Method 2 classical post-processing\n",
    "# To combat noise, minimize imaginary part across all entries, instead of just using the first entry.\n",
    "\n",
    "def quantum_solution_preprocessed_2(\n",
    "    A_prescale:np.ndarray, \n",
    "    b:np.ndarray,\n",
    "    circuit_hhl:QuantumProgram, \n",
    "    res_hhl:ExecutionDetails, \n",
    "    precision:int, \n",
    "    C:Optional[float]=None, \n",
    "    disp=True,\n",
    "    ):\n",
    "    \"\"\"\n",
    "    Solve A_prescale x = b both classically and via the HHL-based quantum routine, then\n",
    "    preprocess the raw quantum output by choosing the global phase that\n",
    "    minimizes the imaginary norm across all components.\n",
    "\n",
    "    This uses the fact that for any complex vector q, the φ which minimizes\n",
    "        || Im(e^{-iφ} q) ||₂\n",
    "    is given by\n",
    "        φ_opt = ½ · arg( Σ_j q_j² ).\n",
    "\n",
    "    After phase‐alignment, we take the real part and fix any overall ± sign\n",
    "    to match the classical solution.\n",
    "\n",
    "    Parameters\n",
    "    ----------\n",
    "    A : (n, n) ndarray\n",
    "        Real, invertible matrix.\n",
    "    b : (n,) ndarray\n",
    "        Real right‐hand side vector.\n",
    "    circuit_hhl : Classiq QuantumProgram\n",
    "        Encodes the HHL quantum subroutine.\n",
    "    res_hhl : Classsiq ExecutionDetails\n",
    "        Raw output from executing the HHL circuit on Classiq server.\n",
    "    precision : int\n",
    "        Number of qubits in the phase register.\n",
    "    C : float or None, optional, but required for streamfunction vorticity\n",
    "        Constant scaling factor for CR block of HHL, default to 1/(2**precision)\n",
    "    disp : bool, optional\n",
    "        If True, print both classical and (normalized) quantum solutions.\n",
    "\n",
    "    Returns\n",
    "    -------\n",
    "    sol_classical : (n,) ndarray\n",
    "        Exact solution of A x = b.\n",
    "    qsol_corrected : (n,) ndarray\n",
    "        Real vector obtained from the quantum output after optimal global‐phase\n",
    "        alignment and sign correction, ready for direct comparison to sol_classical.\n",
    "    \"\"\"\n",
    "    # 1) Classical solution\n",
    "    sol_classical = np.linalg.solve(A_prescale, b)\n",
    "    if disp:\n",
    "        print(\"Classical Solution:         \", sol_classical)\n",
    "\n",
    "    # 2) Raw quantum solution (complex amplitudes)\n",
    "    # If you measure, \n",
    "    qsol = quantum_solution(circuit_hhl, res_hhl, precision, C=C)\n",
    "    if disp:\n",
    "        normed = np.abs(qsol) / np.linalg.norm(qsol)\n",
    "        print(\"Quantum Solution (prob amp):\", normed)\n",
    "    \n",
    "    # 2b) Convert qsol from list to array\n",
    "    qsol = np.array(qsol, dtype=complex)\n",
    "    \n",
    "    # 3) Optimal global‐phase φ that minimizes imaginary parts across all components\n",
    "    #    φ_opt = 0.5 * arg( Σ_j qsol[j]^2 )\n",
    "    # np.angle() produces the phase of a complex number \n",
    "    phi_opt = 0.5 * np.angle(np.sum(qsol**2))\n",
    "\n",
    "    # 4) Phase‐rotate and take real part\n",
    "    qsol_rot   = qsol * np.exp(-1j * phi_opt)\n",
    "    qsol_real  = np.real(qsol_rot)\n",
    "\n",
    "    # 5) Fix any overall ± sign so first entry matches classical sign\n",
    "    sign_fix      = np.sign(sol_classical[0]) * np.sign(qsol_real[0])\n",
    "    qsol_corrected = sign_fix * qsol_real\n",
    "\n",
    "    return sol_classical, qsol_corrected\n",
    "\n",
    "\n",
    "def show_solutions(A, b, circuit_hhl, res_hhl, precision, check=True, disp=True):\n",
    "    # Classical solution and preprocessed quantum solution\n",
    "    sol_classical, qsol_corrected = quantum_solution_preprocessed(\n",
    "        A, b, circuit_hhl, res_hhl, precision, disp=disp\n",
    "    )\n",
    "\n",
    "    # Verify is there is no functional error, \n",
    "    # which might come from changing endianness in Model or Execution\n",
    "    if (\n",
    "        np.linalg.norm(sol_classical - qsol_corrected) / np.linalg.norm(sol_classical)\n",
    "        > 0.1\n",
    "        and check\n",
    "    ):\n",
    "        raise Exception(\n",
    "            \"The HHL solution is too far from the classical one, please verify your algorithm\"\n",
    "        )\n",
    "\n",
    "    if disp:\n",
    "        print(\"Corrected Quantum Solution: \", qsol_corrected)\n",
    "\n",
    "    # Fidelity\n",
    "    state_classical = sol_classical / np.linalg.norm(sol_classical)\n",
    "    state_corrected = qsol_corrected / np.linalg.norm(qsol_corrected)\n",
    "    fidelity = np.abs(np.dot(state_classical, state_corrected)) ** 2\n",
    "    print()\n",
    "    print(\"Fidelity:                   \", f\"{np.round(fidelity * 100,2)} %\")\n",
    "\n",
    "    if disp:\n",
    "        plt.plot(sol_classical, \"bo\", label=\"Classical\")\n",
    "        plt.plot(qsol_corrected, \"ro\", label=\"HHL\")\n",
    "        plt.legend()\n",
    "        plt.xlabel(\"$i$\")\n",
    "        plt.ylabel(\"$x_i$\")\n",
    "        plt.show()\n",
    "\n",
    "# Basic form of processing method 1\n",
    "def quantum_solution_preprocessed(\n",
    "    A_prescale, b, circuit_hhl:QuantumProgram, res_hhl:ExecutionDetails, \n",
    "    precision:int, C=None, disp=True\n",
    "    ):\n",
    "    \n",
    "    # Classical solution\n",
    "    sol_classical = np.linalg.solve(A_prescale, b)\n",
    "    if disp:\n",
    "        print(\"Classical Solution:         \", sol_classical)\n",
    "\n",
    "    # Quantum solution with postselection\n",
    "    qsol = quantum_solution(circuit_hhl, res_hhl, precision, C=C)\n",
    "    if disp:\n",
    "        print(\"Quantum Solution:           \", np.abs(qsol) / np.linalg.norm(qsol))\n",
    "\n",
    "    # Global phase from one element, e.g. qsol[0]\n",
    "    global_phase = np.angle(qsol[0])\n",
    "\n",
    "    # Preprocessed quantum solution\n",
    "    qsol_corrected = np.real(qsol / np.exp(1j * global_phase))\n",
    "\n",
    "    # Correct ambiguity in the sign\n",
    "    qsol_corrected = (\n",
    "        np.sign(qsol_corrected[0]) * np.sign(sol_classical[0]) * qsol_corrected\n",
    "    )\n",
    "\n",
    "    return sol_classical, qsol_corrected"
   ]
  },
  {
   "cell_type": "markdown",
   "id": "cdaba207",
   "metadata": {},
   "source": [
    "#### Model creation and processing"
   ]
  },
  {
   "cell_type": "code",
   "execution_count": 108,
   "id": "4e2bee4d",
   "metadata": {},
   "outputs": [],
   "source": [
    "# Construct HHL model for streamfunction, psi\n",
    "qmod_psi_exact = hhl_model(main, backend_preferences)"
   ]
  },
  {
   "cell_type": "code",
   "execution_count": 109,
   "id": "cf645345",
   "metadata": {},
   "outputs": [],
   "source": [
    "# Save qmod file\n",
    "write_qmod(qmod_psi_exact, \"psi_exact\", decimal_precision=20)"
   ]
  },
  {
   "cell_type": "code",
   "execution_count": 110,
   "id": "3af12abe",
   "metadata": {},
   "outputs": [
    {
     "name": "stdout",
     "output_type": "stream",
     "text": [
      "Quantum program link: https://platform.classiq.io/circuit/30NqWd5mTUR8xa1n8vGqIDR16yO\n",
      "Circuit depth =  17923\n",
      "Circuit CX count =  11104\n"
     ]
    }
   ],
   "source": [
    "# Preference setting to speed up qrog synthesis.\n",
    "pref = Preferences(optimization_level= 2, timeout_seconds=100000, optimization_timeout_seconds=8000)\n",
    "\n",
    "qprog_psi_exact = synthesize(qmod_psi_exact, preferences=pref)\n",
    "show(qprog_psi_exact)\n",
    "\n",
    "print(\"Circuit depth = \", qprog_psi_exact.transpiled_circuit.depth)\n",
    "print(\"Circuit CX count = \", qprog_psi_exact.transpiled_circuit.count_ops[\"cx\"])"
   ]
  },
  {
   "cell_type": "markdown",
   "id": "07f52e43",
   "metadata": {},
   "source": [
    "Statevector simulation in classiq, for exact solution of psi"
   ]
  },
  {
   "cell_type": "code",
   "execution_count": 111,
   "id": "a2ea90d5",
   "metadata": {},
   "outputs": [
    {
     "data": {
      "text/plain": [
       "[(0.06568-0j), (-0.29268-0j), (-0.27329+0j), (0.22392-0j)]"
      ]
     },
     "execution_count": 111,
     "metadata": {},
     "output_type": "execute_result"
    }
   ],
   "source": [
    "res_psi_exact = execute(qprog_psi_exact).result_value()\n",
    "qsol = quantum_solution(qprog_psi_exact, res_psi_exact, precision)\n",
    "qsol"
   ]
  },
  {
   "cell_type": "code",
   "execution_count": null,
   "id": "2441c675",
   "metadata": {},
   "outputs": [
    {
     "name": "stdout",
     "output_type": "stream",
     "text": [
      "vendor_format_result={} counts={'00000000001': 1} counts_lsb_right=True probabilities={} parsed_states={'00000000001': {'res': 1, 'phase': 0.0, 'indicator': 0}} histogram=None output_qubits_map={'res': (0, 1), 'phase': (2, 3, 4, 5, 6, 7, 8, 9), 'indicator': (10,)} state_vector={'00000000000': (-0.030039890787742836-1.8735013540549517e-16j), '00000000001': (-1.114675599392495e-14+2.4766264687421343e-09j), '00000000010': (-9.205842785227851e-17+1.9433435073766068e-10j), '00000000011': (4.726460677665868e-10-4.66267415986645e-16j), '00000000100': (-3.060565808104196e-16+2.6927826789672064e-10j), '00000000101': (6.08868475567661e-10-8.892983799340638e-16j), '00000000110': (2.3979701172267224e-10-2.140118128442934e-18j), '00000000111': (4.76173167175595e-17+4.64643792605013e-10j), '00000001000': (-2.865185465725398e-18+3.199159931016527e-10j), '00000001001': (7.158310258324682e-10-1.9840179830178353e-15j), '00000001010': (2.4684043374494297e-10-5.379142395171289e-17j), '00000001011': (2.466465928416521e-16+5.614147983189512e-10j), '00000001100': (2.848121276490356e-10-1.5443742042172255e-16j), '00000001101': (6.556507690667643e-16+8.496537461042049e-10j), '00000001110': (8.79934168757332e-17+1.6493644080835014e-10j), '00000001111': (4.128401323484956e-10+1.0340227271903517e-16j), '00000010000': (1.3662339625821762e-15+3.4829281308098784e-10j), '00000010001': (8.222438757895481e-10-2.281988866626169e-15j), '00000010010': (2.4806775057608933e-10+5.010676656601824e-16j), '00000010011': (3.10991854214717e-16+6.173171789081184e-10j), '00000010100': (2.8696098071978603e-10+3.758241552737654e-16j), '00000010101': (1.8336218894982526e-16+9.558887060219051e-10j), '00000010110': (-3.248512160250872e-16+1.6782421282406206e-10j), '00000010111': (4.1697454895415643e-10+3.182609938001808e-16j), '00000011000': (3.0129831803660477e-10+1.944347151376951e-16j), '00000011001': (4.839820410250751e-17+1.2943774929652316e-09j), '00000011010': (-2.656235699669427e-17+1.8538755637565956e-10j), '00000011011': (4.433868147316018e-10+3.3559606411940886e-18j), '00000011100': (-3.275620661515095e-17+2.5252147533773425e-10j), '00000011101': (5.519967532560399e-10+1.868066575288216e-16j), '00000011110': (2.3893352741614727e-10-1.7437380301925686e-16j), '00000011111': (1.0055219376849349e-16+4.3172479362943234e-10j), '00000100000': (5.866083983996526e-16+3.6348791694856814e-10j), '00000100001': (9.785707148990317e-10-3.759673445947137e-15j), '00000100010': (2.482298230385002e-10+7.511097630679737e-18j), '00000100011': (1.4597612968097988e-16+6.475831722100995e-10j), '00000100100': (2.872697986242435e-10-2.463341664657969e-16j), '00000100101': (2.6545822449825735e-16+1.015504622124645e-09j), '00000100110': (4.794510383092748e-17+1.682873150080295e-10j), '00000100111': (4.1758404522643216e-10-2.356013772366272e-16j), '00000101000': (3.018303710645177e-10-3.055805515575487e-19j), '00000101001': (3.1178895595525817e-16+1.4076954959441523e-09j), '00000101010': (-1.0126986430164214e-16+1.8619565171027051e-10j), '00000101011': (4.444388595581321e-10+3.688838268771173e-16j), '00000101100': (1.963612891916184e-16+2.540738838367021e-10j), '00000101101': (5.540108429394169e-10+1.9921859382976702e-16j), '00000101110': (2.389791139982382e-10+2.01504522057465e-16j), '00000101111': (-1.148060101796551e-16+4.347977181827506e-10j), '00000110000': (3.0592200932228195e-10+1.0371340184304536e-16j), '00000110001': (4.787082137694604e-16+1.7720878188258765e-09j), '00000110010': (3.1077153024477944e-16+1.9188536067746418e-10j), '00000110011': (4.523864908873165e-10+2.620498267971573e-16j), '00000110100': (-4.0904386312951863e-16+2.644821326836473e-10j), '00000110101': (5.684887496174784e-10+3.3338198379159086e-16j), '00000110110': (2.397264015207684e-10-5.165559944641108e-17j), '00000110111': (-1.0187336673333606e-16+4.551025477111352e-10j), '00000111000': (-1.6983566033890293e-16+3.1094650611612766e-10j), '00000111001': (6.359074522299526e-10+2.2866190002821647e-16j), '00000111010': (2.467221912586344e-10+1.157543910145441e-16j), '00000111011': (-6.6894958602198905e-18+5.435629138816373e-10j), '00000111100': (2.845882958629011e-10+5.1217761264593415e-17j), '00000111101': (4.024049037848121e-18+8.145962686070326e-10j), '00000111110': (1.4897290734247434e-16+1.6460925558878977e-10j), '00000111111': (4.123997076458089e-10+1.5459943965499315e-16j), '00001000000': (2.0288116335665408e-15+3.724214736285248e-10j), '00001000001': (1.2807381982818858e-09-4.784143426418975e-15j), '00001000010': (2.4822981028637004e-10+1.5562390192598658e-16j), '00001000011': (1.359530420432598e-16+6.654352057854634e-10j), '00001000100': (2.8726946776182643e-10+2.6790024255411175e-16j), '00001000101': (2.5813865124555707e-16+1.0510855431828565e-09j), '00001000110': (-1.5011794906260343e-17+1.6834946575924762e-10j), '00001000111': (4.1758392258834916e-10+1.9732322068604475e-16j), '00001001000': (3.0182653048970466e-10-1.5708083786049368e-16j), '00001001001': (5.3201814541857024e-17+1.4779328078484536e-09j), '00001001010': (4.930901434227557e-17+1.8631401516868544e-10j), '00001001011': (4.444297343339202e-10+5.990483514113428e-17j), '00001001100': (5.164551288356979e-17+2.54308624809722e-10j), '00001001101': (5.539881343059981e-10+3.536647846148799e-16j), '00001001110': (2.389813317907139e-10-1.4883159012641516e-16j), '00001001111': (-2.7579529845814565e-16+4.352654689730984e-10j), '00001010000': (3.0589143268685047e-10+3.5086380546406286e-16j), '00001010001': (3.6735327768420666e-16+1.9066213265040995e-09j), '00001010010': (-7.965888561204128e-17+1.920914372472165e-10j), '00001010011': (4.5232381684770547e-10+1.7117999557581852e-16j), '00001010100': (1.9999376162267074e-17+2.6488998243173095e-10j), '00001010101': (5.68356467482353e-10+1.3729442176384674e-16j), '00001010110': (2.3972961285657025e-10+5.734940575068807e-17j), '00001010111': (1.8493243843066613e-16+4.559160345233592e-10j), '00001011000': (-2.451201518671031e-16+3.1172957640842625e-10j), '00001011001': (6.355959980980004e-10+3.0632406559117776e-16j), '00001011010': (2.4672848924632264e-10+1.0443548898429011e-16j), '00001011011': (-1.7976420775958022e-16+5.451244254134234e-10j), '00001011100': (2.846001271553002e-10+1.998044948403028e-16j), '00001011101': (-8.356399061437295e-17+8.176862491681173e-10j), '00001011110': (9.701374528392178e-17+1.6462599706770831e-10j), '00001011111': (4.124239319636525e-10+1.200340217493722e-18j), '00001100000': (3.0663572173532096e-10+5.912440182147389e-16j), '00001100001': (4.700451466130004e-16+2.315754292866213e-09j), '00001100010': (-3.921336370574349e-16+1.936336567622025e-10j), '00001100011': (4.537940951381913e-10+3.7555816555734095e-16j), '00001100100': (-5.878246760934165e-16+2.6788370091449573e-10j), '00001100101': (5.711696177582297e-10+1.2762529467517955e-16j), '00001100110': (2.397948273286191e-10-2.9952251313726366e-17j), '00001100111': (-2.5939744208723593e-16+4.6185754204240643e-10j), '00001101000': (-5.872435614019366e-16+3.1717902186517654e-10j), '00001101001': (6.404633710268172e-10+4.47404929136733e-16j), '00001101010': (2.4683636313902125e-10-2.96808197518278e-16j), '00001101011': (-1.7697619055481126e-16+5.559470284928849e-10j), '00001101100': (2.8480422626967177e-10-2.612665483238641e-16j), '00001101101': (-5.870127702303667e-17+8.387711305088372e-10j), '00001101110': (-2.2144185871736302e-17+1.6491019895753652e-10j), '00001101111': (4.1282437366760696e-10+1.0293736313235419e-17j), '00001110000': (-7.27241928524827e-16+3.4313636067443006e-10j), '00001110001': (6.716060122332689e-10+6.553150281400552e-16j), '00001110010': (2.4806247299223406e-10-4.392601357541549e-16j), '00001110011': (-3.330478942792759e-16+6.07014612897931e-10j), '00001110100': (2.8695122818834007e-10+1.0452436044858455e-16j), '00001110101': (2.380361629874298e-16+9.353723526285504e-10j), '00001110110': (1.7835801309363752e-16+1.6777994754759074e-10j), '00001110111': (4.169557139378909e-10-1.4506077572518237e-18j), '00001111000': (3.0128253884074945e-10-3.253205879732919e-16j), '00001111001': (-2.305139504145369e-16+1.2540016349816376e-09j), '00001111010': (2.372443214047261e-16+1.853030249021812e-10j), '00001111011': (4.4335532778770544e-10+3.683641464438296e-17j), '00001111100': (9.138114463225761e-17+2.523542915897533e-10j), '00001111101': (5.519367571896939e-10+1.5606955819890145e-16j), '00001111110': (2.3893170187627884e-10-7.318925592252633e-17j), '00001111111': (-1.9992620165906517e-16+4.31391720766598e-10j), '00010000000': (1.949201686867595e-15+3.807169146334978e-10j), '00010000001': (2.0806045087853234e-09+1.0112252935438146e-15j), '00010000010': (2.481729958741231e-10+2.5787354884836064e-16j), '00010000011': (-3.355622316568736e-17+6.820271601413572e-10j), '00010000100': (2.871556259461942e-10-2.2177845011498881e-16j), '00010000101': (1.120647890895295e-16+1.0842562328571704e-09j), '00010000110': (1.5228452489251864e-16+1.683564453963405e-10j), '00010000111': (4.173550777012404e-10+2.2174553151900938e-18j), '00010001000': (3.015979884055095e-10+8.209714452621489e-17j), '00010001001': (-1.9645679367507323e-16+1.54417244397836e-09j), '00010001010': (-9.510974628138476e-17+1.8632707618960043e-10j), '00010001011': (4.4397215794952816e-10+6.438147695586959e-17j), '00010001100': (-3.7097388919184265e-17+2.5433419807974476e-10j), '00010001101': (5.530730414198484e-10+2.1810965612507813e-16j), '00010001110': (2.389817665779437e-10+1.1399949771514482e-16j), '00010001111': (-2.0522216929557898e-17+4.353165808534725e-10j), '00010010000': (3.054321616660241e-10-1.9563706119062608e-16j), '00010010001': (-4.356304334540388e-16+2.038357115750672e-09j), '00010010010': (-1.1907132164906041e-16+1.921160485283295e-10j), '00010010011': (4.5140460028785516e-10+1.764992332763789e-16j), '00010010100': (-9.78230934851306e-17+2.6493829717533144e-10j), '00010010101': (5.665172957853526e-10+2.70585497308388e-16j), '00010010110': (2.397296317940847e-10-2.489168108868026e-16j), '00010010111': (4.908336465397463e-17+4.560125090374158e-10j), '00010011000': (-9.631145878505236e-17+3.118247842010528e-10j), '00010011001': (6.319135785827214e-10+1.0352433044332303e-16j), '00010011010': (2.467288423497326e-10+1.1484760622337764e-17j), '00010011011': (-3.827245370894559e-17+5.453142894527305e-10j), '00010011100': (2.846014617934911e-10-1.1469986226632332e-16j), '00010011101': (-3.040390221623919e-17+8.180638996753438e-10j), '00010011110': (5.1307336381708144e-17+1.6462680336704312e-10j), '00010011111': (4.124260587629132e-10+1.7732470064278697e-17j), '00010100000': (3.05702104231359e-10-1.0287008589649705e-16j), '00010100001': (-1.2026740118458844e-15+2.574756830491459e-09j), '00010100010': (7.896369253589133e-17+1.9367412611155263e-10j), '00010100011': (4.519261122910759e-10-1.9281466006527195e-16j), '00010100100': (1.7668365377555897e-16+2.679641860620666e-10j), '00010100101': (5.674322855064849e-10-2.2962347120147553e-16j), '00010100110': (2.397953904176563e-10+1.5423911601261586e-16j), '00010100111': (2.5629932557247e-16+4.620184496712843e-10j), '00010101000': (5.120402112253466e-17+3.1733755132271025e-10j), '00010101001': (6.329803668041977e-10-1.3030296858409804e-16j), '00010101010': (2.468373144444786e-10+8.182514411479401e-17j), '00010101011': (2.1327915478072225e-16+5.562640804078522e-10j), '00010101100': (2.848061163825573e-10+2.456243378116504e-17j), '00010101101': (-1.3881962280758222e-16+8.39402712793471e-10j), '00010101110': (-3.412835285074776e-16+1.6491140250503458e-10j), '00010101111': (4.1282862213352515e-10+1.9830428813152546e-17j), '00010110000': (2.587932039559353e-16+3.434367596488474e-10j), '00010110001': (6.565785941755153e-10+2.784629284944973e-17j), '00010110010': (2.4806426973538706e-10+5.949019265465625e-17j), '00010110011': (1.6287917868816706e-16+6.076142125257173e-10j), '00010110100': (2.869551785505062e-10+8.337665937647724e-17j), '00010110101': (9.417245352472604e-17+9.36568063354174e-10j), '00010110110': (-2.2705672509490784e-16+1.677817082504131e-10j), '00010110111': (4.169636114901959e-10-1.9663906354343475e-16j), '00010111000': (3.0129016923503995e-10+2.7128669543144176e-18j), '00010111001': (1.0540944153266718e-16+1.2563578923275497e-09j), '00010111010': (-3.5465470642135725e-17+1.8530700710486206e-10j), '00010111011': (4.43370775968602e-10+4.52275442745357e-17j), '00010111100': (2.5068269634379287e-17+2.523629282144013e-10j), '00010111101': (5.519676287472969e-10-1.202702514137498e-16j), '00010111110': (2.389316415677243e-10+5.602182454655421e-17j), '00010111111': (7.740257391409151e-17+4.314089010643329e-10j), '00011000000': (3.041856883368541e-10-5.360941875142058e-16j), '00011000001': (-2.1728286067108276e-15+3.2102236545414176e-09j), '00011000010': (-4.5848370123616124e-17+1.9404718412424793e-10j), '00011000011': (4.488891797451944e-10+2.838676588915061e-17j), '00011000100': (1.6585846613259696e-16+2.6870420443418817e-10j), '00011000101': (5.613483476072757e-10-2.5318944192235205e-17j), '00011000110': (2.3980035075400997e-10-2.791112132696333e-17j), '00011000111': (1.1616911663913605e-16+4.6349399065155017e-10j), '00011001000': (-5.960779910164058e-16+3.187703044808989e-10j), '00011001001': (6.207394323982735e-10-1.2477144812374284e-16j), '00011001010': (2.4684684923220347e-10-7.819413083680456e-17j), '00011001011': (2.005452246227641e-16+5.591220043704348e-10j), '00011001100': (2.84825040613251e-10+1.798882440998933e-16j), '00011001101': (2.618183986577416e-17+8.450716800031885e-10j), '00011001110': (-1.7705962062470352e-16+1.6493538759873492e-10j), '00011001111': (4.128661636925631e-10+2.8976875231459067e-16j), '00011010000': (1.1623142824515254e-16+3.460250724047076e-10j), '00011010001': (6.316422841137166e-10-2.158300049445338e-16j), '00011010010': (2.480803200799563e-10+1.1626893585176232e-16j), '00011010011': (-1.6678172425151182e-16+6.127795734812895e-10j), '00011010100': (2.8698698550327206e-10+1.67708177362005e-16j), '00011010101': (3.573410718142399e-17+9.468197437674188e-10j), '00011010110': (-1.5648881551309221e-16+1.678211871675053e-10j), '00011010111': (4.1702721248742913e-10+5.840901877100626e-17j), '00011011000': (3.013504707189956e-10-9.927317158829645e-17j), '00011011001': (4.232303983821775e-18+1.2762875703842488e-09j), '00011011010': (-3.3397027422964827e-17+1.853814001686024e-10j), '00011011011': (4.434914817011495e-10+9.46712602749758e-17j), '00011011100': (-3.188716096361759e-17+2.5250930479135677e-10j), '00011011101': (5.522059744710735e-10+2.972922796264437e-17j), '00011011110': (2.389334330237907e-10-8.293184742232324e-17j), '00011011111': (6.61387537309675e-17+4.3170051914251336e-10j), '00011100000': (-5.909252691287753e-17+3.5908848269729355e-10j), '00011100001': (5.938850820616356e-10-5.298732887859883e-16j), '00011100010': (2.482566605089421e-10+2.7780588762483647e-16j), '00011100011': (1.675611148660661e-17+6.387819010154839e-10j), '00011100100': (2.87323500955215e-10+3.53103606598212e-16j), '00011100101': (-3.699148318236386e-17+9.979142727255145e-10j), '00011100110': (1.4452280058998564e-17+1.6828262445950788e-10j), '00011100111': (4.176915065249124e-10+1.3057639013704772e-16j), '00011101000': (3.0193754203083583e-10+9.545975211224077e-17j), '00011101001': (7.103104656568034e-17+1.3725921342337216e-09j), '00011101010': (5.610274454980237e-17+1.8618618311267113e-10j), '00011101011': (4.4465347561969107e-10-1.2774096113676573e-16j), '00011101100': (-3.9096985889510026e-17+2.5405447938190673e-10j), '00011101101': (5.54439693641514e-10+2.3373583430666984e-16j), '00011101110': (2.389791357731942e-10-1.7717346013512225e-16j), '00011101111': (1.2393220856202729e-16+4.347585638896157e-10j), '00011110000': (3.061376256761247e-10+3.2459561956164083e-16j), '00011110001': (3.1331484398541707e-16+1.702453210570437e-09j), '00011110010': (-7.464574183200611e-17+1.9186690304064459e-10j), '00011110011': (4.5281831020652695e-10+2.1932893965747871e-16j), '00011110100': (-2.70021685535725e-17+2.644448854774885e-10j), '00011110101': (5.693523895529072e-10+1.7766080795880867e-16j), '00011110110': (2.3972595714928746e-10-1.6349812704405214e-16j), '00011110111': (-6.720765892993325e-17+4.550284071240007e-10j), '00011111000': (-3.899187566779435e-17+3.1087359292232333e-10j), '00011111001': (6.376380665066174e-10+2.5139097252210127e-18j), '00011111010': (2.467220271552332e-10-1.3580409452548953e-16j), '00011111011': (-1.0363858632932026e-16+5.434170705701182e-10j), '00011111100': (2.8458796510354914e-10-1.9524414417642176e-16j), '00011111101': (-8.624087373862585e-17+8.143056067966157e-10j), '00011111110': (3.4139796302571304e-17+1.646083622385936e-10j), '00011111111': (4.1239834741776597e-10-3.2331575900804357e-16j), '00100000000': (0.0002565534057994171-1.1509483687291433e-16j), '00100000001': (1.6829701017127482e-14-2.057748853567135e-06j), '00100000010': (-8.661883657458848e-16-2.3622331062238334e-07j), '00100000011': (-2.8571711670223067e-07+2.1626679202148475e-15j), '00100000100': (-1.3109177008935002e-15-3.013213829278825e-07j), '00100000101': (-3.585988093313328e-07+4.045451802459641e-15j), '00100000110': (-1.5802642964132555e-07+2.997506994395365e-16j), '00100000111': (-1.325145551536547e-15-4.825028906007745e-07j), '00100001000': (-1.8149874445558977e-15-3.418742459954561e-07j), '00100001001': (-4.195531429153025e-07+7.71859385960879e-15j), '00100001010': (-1.6153021698058795e-07+3.0711487005741437e-16j), '00100001011': (-1.8569931451341084e-15-5.59766827969297e-07j), '00100001100': (-1.8139794597334245e-07+3.582459742137508e-16j), '00100001101': (-3.1321343448575142e-15-7.980589332123279e-07j), '00100001110': (-5.897848854177719e-16-2.124941874109399e-07j), '00100001111': (-2.521062407550836e-07+3.103898303037445e-16j), '00100010000': (-2.3516001278773565e-15-3.6388956380457115e-07j), '00100010001': (-4.893984467483548e-07+1.5123787553671628e-14j), '00100010010': (-1.6211766918425895e-07+2.978529221212132e-16j), '00100010011': (-2.4553804574595255e-15-6.031205767551422e-07j), '00100010100': (-1.824247002213646e-07+3.4449303112142775e-16j), '00100010101': (-4.322723432001685e-15-8.803664613415811e-07j), '00100010110': (-5.976557339393405e-16-2.147777638968433e-07j), '00100010111': (-2.5408022502728413e-07+2.841879711937311e-16j), '00100011000': (-1.8945246134404162e-07+3.477054631308938e-16j), '00100011001': (-7.237058554005366e-15-1.1459706203646613e-06j), '00100011010': (-6.873016842876811e-16-2.2925316046594578e-07j), '00100011011': (-2.669874626404374e-07+2.545341153339665e-16j), '00100011100': (-9.715449971731145e-16-2.882878602847286e-07j), '00100011101': (-3.2192956948154643e-07+2.3620019306976557e-16j), '00100011110': (-1.5761157404123503e-07+2.9206615846169435e-16j), '00100011111': (-9.55553895249125e-16-4.5691139799135446e-07j), '00100100000': (-2.805310361458807e-15-3.755635921169549e-07j), '00100100001': (-6.029127903780961e-07+2.9940606449730916e-14j), '00100100010': (-1.621915108075491e-07+2.6044846333116555e-16j), '00100100011': (-3.026033515576783e-15-6.263736787136855e-07j), '00100100100': (-1.8256492267555862e-07+2.939888239902881e-16j), '00100100101': (-5.513984269212588e-15-9.261649952259927e-07j), '00100100110': (-5.465504973751199e-16-2.1513591142901136e-07j), '00100100111': (-2.543568457695674e-07+2.2678115360907325e-16j), '00100101000': (-1.896924586699465e-07+2.810184334621096e-16j), '00100101001': (-9.710417047542347e-15-1.233000189411292e-06j), '00100101010': (-6.333655577346182e-16-2.2987762171523527e-07j), '00100101011': (-2.674614333336268e-07+1.7196953909568417e-16j), '00100101100': (-8.997069748636197e-16-2.8948736483918355e-07j), '00100101101': (-3.2283483562891455e-07+9.806283071842287e-17j), '00100101110': (-1.576333686995848e-07+2.638871788690016e-16j), '00100101111': (-8.866036663371713e-16-4.592851724509859e-07j), '00100110000': (-1.9162048511235437e-07+2.2210595525670314e-16j), '00100110001': (-1.6575278418974978e-14-1.5138917825146738e-06j), '00100110010': (-6.792724538398657e-16-2.3433885219561245e-07j), '00100110011': (-2.7120348109915163e-07+5.456686831374689e-17j), '00100110100': (-9.864977028782191e-16-2.9763179431133055e-07j), '00100110101': (-3.2963596953826447e-07-1.3660126810149703e-16j), '00100110110': (-1.5799364503653053e-07+2.65000828671294e-16j), '00100110111': (-9.725453099965973e-16-4.751640329912541e-07j), '00100111000': (-1.2737348868029473e-15-3.349777179740805e-07j), '00100111001': (-3.620114073273423e-07-6.049346917192357e-16j), '00100111010': (-1.61475713780873e-07+2.7434748651966546e-16j), '00100111011': (-1.2568186726993235e-15-5.460416237757168e-07j), '00100111100': (-1.8129500776340388e-07+3.238529094570943e-16j), '00100111101': (-2.0015697181249273e-15-7.711091017554706e-07j), '00100111110': (-5.193977974596992e-16-2.1224039506598818e-07j), '00100111111': (-2.5190348194846514e-07+2.8539771953086746e-16j), '00101000000': (-2.491918282430524e-15-3.824072998234348e-07j), '00101000001': (-8.307092450693343e-07+5.229288165600777e-14j), '00101000010': (-1.6218520460543717e-07+1.3574774344079542e-16j), '00101000011': (-2.841278874410132e-15-6.400489324376543e-07j), '00101000100': (-1.8255202838291617e-07+1.4164915433321414e-16j), '00101000101': (-5.357074142121028e-15-9.534201548863321e-07j), '00101000110': (-3.253509269289829e-16-2.1518374683725433e-07j), '00101000111': (-2.5433091532061924e-07+8.794410895607399e-17j), '00101001000': (-1.896647115702072e-07+1.0746707357231784e-16j), '00101001001': (-9.912984341603503e-15-1.2868009772434883e-06j), '00101001010': (-3.775515160603463e-16-2.2996884501422193e-07j), '00101001011': (-2.6740568020597505e-07+1.8756082161623487e-17j), '00101001100': (-5.369501531590457e-16-2.896675310524984e-07j), '00101001101': (-3.2272133466298014e-07-1.0210889534921985e-16j), '00101001110': (-1.5763437250420935e-07+1.5151576467974665e-16j), '00101001111': (-5.373516533934891e-16-4.5964435708879693e-07j), '00101010000': (-1.9155432060900387e-07+2.233064060837544e-17j), '00101010001': (-1.8052833745379874e-14-1.6169328001185839e-06j), '00101010010': (-4.0576104839614433e-16-2.3449726882929333e-07j), '00101010011': (-2.7107074443133835e-07-1.1897961451915327e-16j), '00101010100': (-5.910392485684269e-16-2.979450421514267e-07j), '00101010101': (-3.2936734340551087e-07-3.755824953302251e-16j), '00101010110': (-1.5799523059821783e-07+1.5210283792153268e-16j), '00101010111': (-5.927308660083223e-16-4.7578872518748744e-07j), '00101011000': (-7.670585183593829e-16-3.3557884745194707e-07j), '00101011001': (-3.614517786123354e-07-9.291769451644913e-16j), '00101011010': (-1.614786469846114e-07+1.5733885149432395e-16j), '00101011011': (-7.714641749460689e-16-5.472405531417404e-07j), '00101011100': (-1.813007508550477e-07+1.8425458732530532e-16j), '00101011101': (-1.2349771605307629e-15-7.734811885651869e-07j), '00101011110': (-3.0879625031004885e-16-2.1225335292250416e-07j), '00101011111': (-2.5191490589540164e-07+1.5674353291619198e-16j), '00101100000': (-1.9180523889717283e-07-1.3727811360080222e-16j), '00101100001': (-3.2482375268085315e-14-1.9306505106320656e-06j), '00101100010': (-4.186888225791641e-16-2.3568606876341837e-07j), '00101100011': (-2.715641728447855e-07-3.527874821434073e-16j), '00101100100': (-6.175741173581643e-16-3.0025244882390036e-07j), '00101100101': (-3.302935485804086e-07-8.426417564021666e-16j), '00101100110': (-1.5802610494140874e-07+1.51795656129255e-16j), '00101100111': (-6.202403653178841e-16-4.803678101524985e-07j), '00101101000': (-8.163208957805089e-16-3.397766544535371e-07j), '00101101001': (-3.6294407071789117e-07-1.857689763558776e-15j), '00101101010': (-1.6152986564131655e-07+1.5660236296413123e-16j), '00101101011': (-8.235890340379918e-16-5.555768761058468e-07j), '00101101100': (-1.8139739734805868e-07+1.8337792145978692e-16j), '00101101101': (-1.33797874919705e-15-7.897198107751475e-07j), '00101101110': (-3.1042182564983806e-16-2.1247370779892232e-07j), '00101101111': (-2.521052212127267e-07+1.5434493413291482e-16j), '00101110000': (-9.865279710711937e-16-3.5993813334981993e-07j), '00101110001': (-3.761236827465087e-07-3.801581871636275e-15j), '00101110010': (-1.6211844947715175e-07+1.5711533405792232e-16j), '00101110011': (-1.0026272351320805e-15-5.952264719207981e-07j), '00101110100': (-1.8242649238569437e-07+1.8278926003122478e-16j), '00101110101': (-1.6850893569709548e-15-8.646466964304215e-07j), '00101110110': (-3.214010667121483e-16-2.1474340803101462e-07j), '00101110111': (-2.540839260425456e-07+1.475651434567485e-16j), '00101111000': (-1.8945763065918532e-07+1.904250701448202e-16j), '00101111001': (-2.6012165816778014e-15-1.1150352585355755e-06j), '00101111010': (-3.693133265549102e-16-2.291880735399254e-07j), '00101111011': (-2.669980122313941e-07+1.3755048763290368e-16j), '00101111100': (-5.218574090849583e-16-2.8815954957153523e-07j), '00101111101': (-3.219522860882775e-07+1.3563489615290848e-16j), '00101111110': (-1.5761075943185604e-07+1.518863614465051e-16j), '00101111111': (-5.20402629998049e-16-4.566557148608881e-07j), '00110000000': (2.1860874944688123e-15-3.8875090634192517e-07j), '00110000001': (-1.439996876216761e-06-2.8820831249271115e-14j), '00110000010': (-1.621408074628935e-07-2.445402184347743e-16j), '00110000011': (2.299675605312349e-15-6.527348844752941e-07j), '00110000100': (-1.8246321144335301e-07-2.936499115497129e-16j), '00110000101': (4.188096280062883e-15-9.787820481657622e-07j), '00110000110': (4.3167412882814813e-16-2.1518875753518475e-07j), '00110000111': (-2.541532701758325e-07-2.4511119143311763e-16j), '00110001000': (-1.8948689793417832e-07-3.1556776918008965e-16j), '00110001001': (7.387507752003287e-15-1.3374466427293402e-06j), '00110001010': (4.999196395628761e-16-2.2997870256892088e-07j), '00110001011': (-2.67050030513919e-07-2.271640191186771e-16j), '00110001100': (7.11833928962093e-16-2.896871637785351e-07j), '00110001101': (-3.2200985524386233e-07-2.298426417003606e-16j), '00110001110': (-1.5763446251982343e-07-2.305473400252517e-16j), '00110001111': (6.679482255225616e-16-4.5968358123671873e-07j), '00110010000': (-1.9119732538139917e-07-3.20255646556889e-16j), '00110010001': (1.2691968627894071e-14-1.7176532339372872e-06j), '00110010010': (5.374250739446594e-16-2.3451584600223689e-07j), '00110010011': (-2.703567105382208e-07-1.59244351370846e-16j), '00110010100': (7.827766970033441e-16-2.979820460926035e-07j), '00110010101': (-3.279389272057674e-07-9.303936947583323e-17j), '00110010110': (-1.5799540484699826e-07-2.3154341768399824e-16j), '00110010111': (7.287072223180927e-16-4.758626576888987e-07j), '00110011000': (1.0138607713670243e-15-3.356516961087599e-07j), '00110011001': (-3.5859219429621663e-07+1.5374945011866034e-16j), '00110011010': (-1.6147899257176668e-07-2.4216306679041943e-16j), '00110011011': (9.342920580189518e-16-5.473861033971009e-07j), '00110011100': (-1.813014406499474e-07-2.89674084479089e-16j), '00110011101': (1.4784270291867392e-15-7.737711243056679e-07j), '00110011110': (4.093438786490218e-16-2.122539362130754e-07j), '00110011111': (-2.519162848190988e-07-2.7860414471697354e-16j), '00110100000': (-1.9108146095696312e-07-3.1592527664083507e-16j), '00110100001': (2.1423970559464247e-14-2.128661682384843e-06j), '00110100010': (5.557925995940646e-16-2.3571706027818232e-07j), '00110100011': (-2.7011653646452427e-07-3.2453068139868553e-17j), '00110100100': (8.190798806130632e-16-3.0031419568036454e-07j), '00110100101': (-3.2739762987307493e-07+1.6054788213711117e-16j), '00110100110': (-1.580264279977245e-07-2.3153690611821623e-16j), '00110100111': (7.56438511910937e-16-4.80491185543309e-07j), '00110101000': (1.0831996295830902e-15-3.398983219874213e-07j), '00110101001': (-3.5714711590999223e-07+6.594326724315691e-16j), '00110101010': (-1.615305076099167e-07-2.426411970368098e-16j), '00110101011': (9.861881785104467e-16-5.558199798332658e-07j), '00110101100': (-1.8139867928298664e-07-2.897256343748633e-16j), '00110101101': (1.5793576487667691e-15-7.902041841187807e-07j), '00110101110': (4.1165816456682267e-16-2.124746261635438e-07j), '00110101111': (-2.5210778410492627e-07-2.774102583952635e-16j), '00110110000': (1.3168534695598419e-15-3.6016853272584376e-07j), '00110110001': (-3.6449016161720507e-07+1.6977342750891508e-15j), '00110110010': (-1.6211970546964963e-07-2.4361885172895356e-16j), '00110110011': (1.172843376322279e-15-5.956868433703376e-07j), '00110110100': (-1.8242900072853838e-07-2.9232167786163443e-16j), '00110110101': (1.9410050095116727e-15-8.655640502285477e-07j), '00110110110': (4.25471630810205e-16-2.1474510492937563e-07j), '00110110111': (-2.5408894092847663e-07-2.7765389948160733e-16j), '00110111000': (-1.8946261859757587e-07-3.137763011140917e-16j), '00110111001': (2.9261534815491443e-15-1.1168437211476287e-06j), '00110111010': (4.885828976572654e-16-2.2919139499310336e-07j), '00110111011': (-2.6700798452642505e-07-2.916850796622136e-16j), '00110111100': (6.893896734422222e-16-2.881661560745515e-07j), '00110111101': (-3.219722017871781e-07-3.583984070570321e-16j), '00110111110': (-1.5761077385186296e-07-2.3066855838093766e-16j), '00110111111': (6.510821848861728e-16-4.5666890958553046e-07j), '00111000000': (-1.8984228332017648e-07-2.9219596626086107e-16j), '00111000001': (3.652779017167219e-14-2.6148060153746395e-06j), '00111000010': (5.656383716066057e-16-2.3600330639147771e-07j), '00111000011': (-2.6763752961821045e-07+1.815448429002551e-16j), '00111000100': (8.383488610765838e-16-3.0088170164165865e-07j), '00111000101': (-3.2243452511263427e-07+5.880361858981654e-16j), '00111000110': (-1.5802898435860298e-07-2.3147349776118036e-16j), '00111000111': (7.643067200719904e-16-4.816236917090174e-07j), '00111001000': (1.1207811314940038e-15-3.40997415514964e-07j), '00111001001': (-3.471835794139047e-07+1.5133277512289318e-15j), '00111001010': (-1.6153533600160362e-07-2.4171758039972287e-16j), '00111001011': (1.0016175453891738e-15-5.580134873593202e-07j), '00111001100': (-1.8140818904162948e-07-2.887913768863765e-16j), '00111001101': (1.610387536119128e-15-7.945547941777868e-07j), '00111001110': (4.1177165374686495e-16-2.1249291448162098e-07j), '00111001111': (-2.5212672945881066e-07-2.771773309522135e-16j), '00111010000': (1.3875679225171386e-15-3.621540608822459e-07j), '00111010001': (-3.443283059753278e-07+3.3957340420677067e-15j), '00111010010': (-1.6212797174053677e-07-2.4269655858084673e-16j), '00111010011': (1.2017403817738922e-15-5.996501672392594e-07j), '00111010100': (-1.8244531416593772e-07-2.9072751553278753e-16j), '00111010101': (1.9975501497435116e-15-8.734303764214121e-07j), '00111010110': (4.2644260850044425e-16-2.1477539372277683e-07j), '00111010111': (-2.541214573733278e-07-2.7676666555658295e-16j), '00111011000': (-1.8949375461562773e-07-3.1046957051479463e-16j), '00111011001': (3.035459086455592e-15-1.1321352323399129e-06j), '00111011010': (4.897257634787931e-16-2.2924851118626386e-07j), '00111011011': (-2.6707005762928636e-07-2.895993602912734e-16j), '00111011100': (6.912253129529305e-16-2.8827860793373187e-07j), '00111011101': (-3.2209482528225745e-07-3.5424242666643905e-16j), '00111011110': (-1.5761154094417812e-07-2.3067162225792656e-16j), '00111011111': (6.529919133099862e-16-4.568929163637497e-07j), '00111100000': (1.6194514636341288e-15-3.7219804593126875e-07j), '00111100001': (-3.1004962991734227e-07+6.9545182604173914e-15j), '00111100010': (-1.6221251505723607e-07-2.4093115663031156e-16j), '00111100011': (1.3355980042801141e-15-6.196435606821608e-07j), '00111100100': (-1.8260694573850023e-07-2.8742871263248116e-16j), '00111100101': (2.261507056629429e-15-9.127124976256836e-07j), '00111100110': (4.3004906303161625e-16-2.1513203764147396e-07j), '00111100111': (-2.544408991961901e-07-2.72926813743773e-16j), '00111101000': (-1.8977661598794087e-07-3.0346140519766976e-16j), '00111101001': (3.541414100465451e-15-1.2061554709871038e-06j), '00111101010': (4.96605001116923e-16-2.2987001020543457e-07j), '00111101011': (-2.6762976210089613e-07-2.8234507234596706e-16j), '00111101100': (7.048830773352507e-16-2.894722106101172e-07j), '00111101101': (-3.2317160484329144e-07-3.3938463497354117e-16j), '00111101110': (-1.576333126870278e-07-2.305596087680971e-16j), '00111101111': (6.650631915995441e-16-4.59254898387533e-07j), '00111110000': (-1.9178961973364916e-07-2.948623267171441e-16j), '00111110001': (5.040333291865995e-15-1.4606406171003585e-06j), '00111110010': (5.308669345854327e-16-2.3432455559426167e-07j), '00111110011': (-2.715417769636203e-07-2.683857708518692e-16j), '00111110100': (7.69254093933115e-16-2.976033249565103e-07j), '00111110101': (-3.303127729528618e-07-3.107278427718133e-16j), '00111110110': (-1.579935389808974e-07-2.3196948187391206e-16j), '00111110111': (7.233911906015655e-16-4.7510715622845916e-07j), '00111111000': (9.879636522121203e-16-3.3492172495282127e-07j), '00111111001': (-3.6336666860789235e-07-2.8089067045341712e-16j), '00111111010': (-1.614755050017552e-07-2.424948257730573e-16j), '00111111011': (9.23534554300365e-16-5.459297579190367e-07j), '00111111100': (-1.8129459205969424e-07-2.9076213138706165e-16j), '00111111101': (1.457004030703461e-15-7.708863211830829e-07j), '00111111110': (4.0959542096457674e-16-2.122399185023155e-07j), '00111111111': (-2.5190265151556e-07-2.7881801391871035e-16j), '01000000000': (-0.6013631918731082-9.950373858202965e-15j), '01000000001': (-3.8198074280445035e-15+3.034889592306152e-10j), '01000000010': (-2.0729674470270656e-16+2.3813047948216476e-11j), '01000000011': (5.791674947077952e-11+1.7338091058101765e-16j), '01000000100': (1.785180384912443e-16+3.2996527373350407e-11j), '01000000101': (7.46090960955972e-11+9.659237898228643e-17j), '01000000110': (2.9384237975376265e-11+4.172322521276252e-17j), '01000000111': (-5.423914736723466e-16+5.693626437538887e-11j), '01000001000': (3.703910549421188e-16+3.92013149504093e-11j), '01000001001': (8.77155641243435e-11+1.0147967142553962e-15j), '01000001010': (3.024695925519913e-11+5.554995625207914e-17j), '01000001011': (-3.548786001360803e-16+6.87938334647267e-11j), '01000001100': (3.490017971489e-11+4.43291289603804e-16j), '01000001101': (-9.501108253053742e-16+1.0411396007946452e-10j), '01000001110': (-1.434000414248468e-16+2.02113001366179e-11j), '01000001111': (5.05882837431387e-11-2.8734664153955597e-16j), '01000010000': (-6.006524915966351e-16+4.267827380838672e-11j), '01000010001': (1.0075466814834582e-10+1.257616254298324e-15j), '01000010010': (3.039740427236587e-11-6.549740229244523e-17j), '01000010011': (-1.6608354865610985e-16+7.564443642081016e-11j), '01000010100': (3.516304999921717e-11-1.7329127122977407e-16j), '01000010101': (-5.329780322840811e-16+1.1713203927810157e-10j), '01000010110': (-2.1888931336078492e-16+2.05648386859826e-11j), '01000010111': (5.109473702611339e-11-8.469629878400706e-17j), '01000011000': (3.692052320491608e-11-4.440511826544747e-17j), '01000011001': (-4.668044215046051e-16+1.5860918188907088e-10j), '01000011010': (-5.373871410904743e-16+2.2717042289534403e-11j), '01000011011': (5.4331150920617855e-11-1.6446708212098174e-16j), '01000011100': (-2.712189214227358e-16+3.0943496314769656e-11j), '01000011101': (6.764008982500644e-11-3.013087501760757e-16j), '01000011110': (2.9278362889403916e-11+1.6525660552678757e-16j), '01000011111': (2.1252963246416835e-16+5.29023148260794e-11j), '01000100000': (3.687551214609067e-16+4.454144424865281e-11j), '01000100001': (1.199105083151999e-10+1.2464278588732956e-15j), '01000100010': (3.0417576578174064e-11-5.115949367649469e-16j), '01000100011': (2.621855602468137e-16+7.935272678523412e-11j), '01000100100': (3.520067318168099e-11-2.6083823789268513e-16j), '01000100101': (1.381784546679216e-16+1.2443690414562578e-10j), '01000100110': (2.4331272086237397e-16+2.062137192014983e-11j), '01000100111': (5.116933250365556e-11+1.1714999647617642e-17j), '01000101000': (3.6985047443273414e-11+1.9272970296503896e-17j), '01000101001': (-2.1754059123207518e-16+1.724948670024273e-10j), '01000101010': (2.5342811862770408e-17+2.2815875742370584e-11j), '01000101011': (5.446005834299357e-11+1.0306760552445993e-16j), '01000101100': (2.2632032662965887e-16+3.113337936992402e-11j), '01000101101': (6.788691715217644e-11-2.2596427201876314e-16j), '01000101110': (2.928400017022814e-11-1.5612398879316423e-17j), '01000101111': (2.6306259256626817e-16+5.327896399514825e-11j), '01000110000': (3.7486223234574116e-11-3.548696238418759e-16j), '01000110001': (-3.0918919870541767e-16+2.1714649279641574e-10j), '01000110010': (4.466487274974836e-16+2.3512831199586307e-11j), '01000110011': (5.5433963843777736e-11-3.600073353207546e-16j), '01000110100': (2.929706747746544e-17+3.240882278319843e-11j), '01000110101': (6.966067203659279e-11+3.485679817651698e-17j), '01000110110': (2.937492351433426e-11-7.78318634290399e-17j), '01000110111': (-7.8170466758521e-17+5.5766862074769395e-11j), '01000111000': (-1.819030890009758e-16+3.810215999571698e-11j), '01000111001': (7.792208566276975e-11-3.3120070335287205e-17j), '01000111010': (3.023220547766517e-11+2.3665964246468807e-17j), '01000111011': (1.4014835711441467e-16+6.6606639567123e-11j), '01000111100': (3.487262329019025e-11-1.6256138010381308e-16j), '01000111101': (2.2035080800639345e-16+9.981821324793406e-11j), '01000111110': (3.1689219149697865e-16+2.0170518561806453e-11j), '01000111111': (5.0534058865124824e-11-2.7824287985615026e-17j), '01001000000': (-7.402600552067162e-16+4.5635051207383055e-11j), '01001000001': (1.5693612818733758e-10+3.030199152900362e-15j), '01001000010': (3.0417903665943984e-11-2.2264791602758773e-16j), '01001000011': (-1.9472573496140803e-16+8.15400483661537e-11j), '01001000100': (3.520169135822083e-11-1.1335397957319887e-16j), '01001000101': (-6.888365454309533e-16+1.2879675181594213e-10j), '01001000110': (8.464904354373405e-18+2.0629183646715598e-11j), '01001000111': (5.116958377901797e-11+2.4606563674589874e-17j), '01001001000': (3.6985561942534945e-11+5.3925241235864736e-17j), '01001001001': (-3.8755638787558357e-16+1.811011391660019e-10j), '01001001010': (-1.681450252373772e-16+2.283055104996798e-11j), '01001001011': (5.445958145957266e-11-1.1816737124557724e-16j), '01001001100': (-1.079366683002948e-16+3.1162365242651533e-11j), '01001001101': (6.788429363053559e-11-2.8022226086996294e-16j), '01001001110': (2.928389179541493e-11-2.7081025035229198e-17j), '01001001111': (8.774919157369472e-17+5.3336300498042355e-11j), '01001010000': (3.748344614609686e-11+3.015516168032619e-16j), '01001010001': (-5.13159367536665e-16+2.33631813710758e-10j), '01001010010': (-1.6993582340824802e-16+2.3538540195490138e-11j), '01001010011': (5.542672238519716e-11+2.5911452201284995e-17j), '01001010100': (2.299569896982505e-16+3.2458913810252526e-11j), '01001010101': (6.964466766235499e-11+1.4618005765809397e-17j), '01001010110': (2.937586825127674e-11+7.10320197073203e-17j), '01001010111': (-2.910802684595384e-16+5.586683656186762e-11j), '01001011000': (-1.6404063001890356e-16+3.8198643249088083e-11j), '01001011001': (7.788445536898922e-11+1.2865292874115124e-16j), '01001011010': (3.0233168408344645e-11+6.872677852322598e-17j), '01001011011': (-1.8418348083451695e-16+6.679800519979353e-11j), '01001011100': (3.487387371893099e-11+1.1249194671608567e-16j), '01001011101': (7.877996784424044e-17+1.0019668548919755e-10j), '01001011110': (1.4471475597510847e-16+2.0172671796407552e-11j), '01001011111': (5.0537165389367556e-11-2.895305574887975e-16j), '01001100000': (3.7575024794864687e-11+6.440269027409715e-16j), '01001100001': (-3.085059965363625e-16+2.837652764843907e-10j), '01001100010': (-5.565774495271526e-16+2.3727570854544e-11j), '01001100011': (5.560697555869386e-11+2.8058040032254574e-16j), '01001100100': (-2.0515428926073617e-16+3.282566915934725e-11j), '01001100101': (6.998968074522394e-11+1.1498299156247431e-16j), '01001100110': (2.938380240530641e-11-1.990206625905921e-16j), '01001100111': (-3.864951157199803e-16+5.6595092422698154e-11j), '01001101000': (-2.0853832882812774e-16+3.886639403404223e-11j), '01001101001': (7.848073175977443e-11-3.9622652618874117e-16j), '01001101010': (3.0246778057011446e-11-1.2006021877424483e-16j), '01001101011': (-6.271262413873913e-17+6.812425531573116e-11j), '01001101100': (3.489900622955607e-11-3.6516104222297494e-16j), '01001101101': (5.2900345540001784e-17+1.027807390147773e-10j), '01001101110': (1.892599379152878e-16+2.020764827363907e-11j), '01001101111': (5.058617110264111e-11-2.0376173445493544e-16j), '01001110000': (-2.049037125145643e-16+4.2046974889246815e-11j), '01001110001': (8.229704287033164e-11+2.5983360774539793e-16j), '01001110010': (3.0397194898856706e-11-1.5593602125142907e-16j), '01001110011': (-4.701890936817961e-16+7.438194230015766e-11j), '01001110100': (3.516212246457856e-11+4.588855952812777e-17j), '01001110101': (-2.229058606096083e-16+1.146179033728609e-10j), '01001110110': (-1.4138050415675488e-16+2.0559184510400273e-11j), '01001110111': (5.109246485422331e-11-9.019895299812578e-17j), '01001111000': (3.69182743940405e-11-5.004746543311169e-16j), '01001111001': (-1.0395605428053611e-16+1.5366201393980064e-10j), '01001111010': (3.397446695284113e-16+2.270629336036062e-11j), '01001111011': (5.4327287306378954e-11+1.5666112278261323e-16j), '01001111100': (2.253179922365357e-16+3.0922785816715214e-11j), '01001111101': (6.763266949566284e-11+2.202026958731872e-17j), '01001111110': (2.9277809632684184e-11+1.0831682110177593e-16j), '01001111111': (6.434458576845282e-17+5.286166374505769e-11j), '01010000000': (4.899726800872715e-16+4.6651405861833514e-11j), '01010000001': (2.549516579033812e-10+5.5552446360438325e-15j), '01010000010': (3.041064474300247e-11+3.715029773772269e-16j), '01010000011': (1.9238019392399545e-16+8.35736030250969e-11j), '01010000100': (3.5187224135313775e-11+3.636875820220649e-16j), '01010000101': (-1.0576169348846604e-16+1.3286165607679045e-10j), '01010000110': (-1.990196230669002e-16+2.0630034084082523e-11j), '01010000111': (5.1141387382709105e-11+1.0764157622280542e-16j), '01010001000': (3.695759222073234e-11+4.1573656641164426e-16j), '01010001001': (4.637417459503119e-18+1.892188775002825e-10j), '01010001010': (-4.0056294289685483e-16+2.2831967931441783e-11j), '01010001011': (5.440327247585814e-11+2.253455085054332e-16j), '01010001100': (1.268123197353101e-16+3.11654623587388e-11j), '01010001101': (6.777203199975125e-11+2.672497439205391e-16j), '01010001110': (2.9284093341267545e-11+2.2712254042231823e-16j), '01010001111': (-3.7384164650426414e-17+5.3342304473227985e-11j), '01010010000': (3.742704229754412e-11+4.089598934842198e-16j), '01010010001': (-4.474414457615819e-16+2.4977468298517005e-10j), '01010010010': (1.436834098545508e-17+2.3541387376192963e-11j), '01010010011': (5.5314043621368624e-11+1.7759394633274172e-17j), '01010010100': (-2.116845863546622e-16+3.246484945730326e-11j), '01010010101': (6.941957088251282e-11-1.7030369196047846e-16j), '01010010110': (2.9375830706107113e-11+1.2269135272389902e-16j), '01010010111': (-1.8986000283800313e-16+5.587855959228483e-11j), '01010011000': (-2.0416870909991972e-16+3.821028585765549e-11j), '01010011001': (7.74330673595176e-11+1.8822846744218062e-16j), '01010011010': (3.023332520793181e-11-3.511759495806899e-17j), '01010011011': (4.8492920864449944e-17+6.682133615227544e-11j), '01010011100': (3.4874149188606384e-11+4.573916146995787e-17j), '01010011101': (-1.2908076586992344e-16+1.0024325924473763e-10j), '01010011110': (-1.308004689608978e-16+2.0172863543109127e-11j), '01010011111': (5.053723885242705e-11-9.856787774021636e-17j), '01010100000': (3.7461039340597166e-11-2.264067551347598e-16j), '01010100001': (-7.017895763719806e-16+3.155039312215292e-10j), '01010100010': (-1.2314271828302784e-16+2.3732562853772476e-11j), '01010100011': (5.537793286079826e-11+4.320618722605983e-17j), '01010100100': (-1.071514328646907e-17+3.283562377311395e-11j), '01010100101': (6.953157232275023e-11-7.935976291284031e-17j), '01010100110': (2.938360636996992e-11+1.6883897494959098e-16j), '01010100111': (-3.304819594898707e-16+5.6614230709039334e-11j), '01010101000': (-9.323561208394876e-17+3.88857772613266e-11j), '01010101001': (7.756337499282022e-11+1.1674197120195427e-16j), '01010101010': (3.024692947639285e-11-1.534110576249158e-16j), '01010101011': (-1.045473687035049e-17+6.816304844882333e-11j), '01010101100': (3.489939553152319e-11+7.954936923669385e-17j), '01010101101': (-8.612078172182201e-17+1.02858103434193e-10j), '01010101110': (4.456092787001551e-17+2.020775068195453e-11j), '01010101111': (5.0586817711892354e-11-2.492176854624525e-16j), '01010110000': (-1.538243664579473e-16+4.208379028480107e-11j), '01010110001': (8.045533135161138e-11-8.492747615198782e-17j), '01010110010': (3.039711384482114e-11-8.414609415342318e-17j), '01010110011': (-1.8703969436650765e-16+7.445536246581329e-11j), '01010110100': (3.516271885167339e-11-7.264647817992429e-17j), '01010110101': (-1.1430865103102022e-16+1.1476423868952573e-10j), '01010110110': (-2.527511203738276e-16+2.0559453635726415e-11j), '01010110111': (5.109330349340266e-11-1.6936675759759158e-16j), '01010111000': (3.691932629888768e-11-5.3023050432952567e-17j), '01010111001': (-9.746677351970268e-18+1.5395063801660068e-10j), '01010111010': (1.9326056471128263e-16+2.270700673071029e-11j), '01010111011': (5.432944603573961e-11-2.023802549698812e-16j), '01010111100': (-1.0607279499239859e-19+3.092387980131144e-11j), '01010111101': (6.763650407217829e-11+2.9696137162847924e-17j), '01010111110': (2.927774266035986e-11+1.014743496967071e-17j), '01010111111': (1.228848125469921e-16+5.286360701377398e-11j), '01011000000': (3.727690736913182e-11+2.4982196583489432e-17j), '01011000001': (-1.4534150688191967e-15+3.933726321947946e-10j), '01011000010': (-2.255858344207108e-16+2.3778559401696314e-11j), '01011000011': (5.500547626206853e-11+1.9894774131723858e-16j), '01011000100': (-1.9309633048462545e-16+3.292645718369649e-11j), '01011000101': (6.878584322603589e-11-1.2885874649476965e-16j), '01011000110': (2.938413485462232e-11+1.1634780079263325e-16j), '01011000111': (-1.3041179521359923e-16+5.6795454339947366e-11j), '01011001000': (1.1870149907650328e-16+3.906158039691441e-11j), '01011001001': (7.606327309993094e-11-2.9387821408378646e-16j), '01011001010': (3.024789633291096e-11-2.1421499859563656e-16j), '01011001011': (-2.1312982638020722e-16+6.851327015009706e-11j), '01011001100': (3.490184128072823e-11-5.7777685211061655e-19j), '01011001101': (2.372736738150585e-16+1.0355296159316569e-10j), '01011001110': (-5.738218722128613e-17+2.021070150740921e-11j), '01011001111': (5.0591434913325745e-11-9.439437890017362e-17j), '01011010000': (-1.9252988230155772e-17+4.240109610118255e-11j), '01011010001': (7.739938224017798e-11-5.090591443247798e-16j), '01011010010': (3.039934250086932e-11-1.6263791137753672e-16j), '01011010011': (7.687694115050821e-17+7.508834982479274e-11j), '01011010100': (3.516655051615779e-11-2.1309837999850486e-16j), '01011010101': (1.8067781096176187e-16+1.1602042565132202e-10j), '01011010110': (-2.2004775577680682e-16+2.0564337225726623e-11j), '01011010111': (5.1101299537251814e-11-5.484861598563037e-17j), '01011011000': (3.692663329968759e-11-2.0936079832720602e-16j), '01011011001': (2.6313057872175966e-17+1.5639265745533487e-10j), '01011011010': (-8.816186672094572e-17+2.271612644069773e-11j), '01011011011': (5.4344006258846717e-11+1.139902760891874e-16j), '01011011100': (-1.3719022950339246e-16+3.0941930030151814e-11j), '01011011101': (6.766582977637545e-11-1.790591459308152e-16j), '01011011110': (2.9278078121504945e-11+4.923919679113643e-18j), '01011011111': (-3.901964541019629e-17+5.2899221072644645e-11j), '01011100000': (-3.3880420352355367e-16+4.400249778760868e-11j), '01011100001': (7.277265784091082e-11-9.128774135816467e-16j), '01011100010': (3.042037600114302e-11-2.6892281258806165e-17j), '01011100011': (-1.162173227832999e-16+7.827458827618575e-11j), '01011100100': (3.5207687801772593e-11-1.8688049351772198e-16j), '01011100101': (1.5828970791922761e-16+1.2228139725326643e-10j), '01011100110': (-4.877607549381499e-17+2.0620901060427698e-11j), '01011100111': (5.118289535842336e-11-9.406164582350718e-17j), '01011101000': (3.699821486506465e-11-1.4268669897612063e-16j), '01011101001': (3.7559556923646157e-16+1.6819329584990392e-10j), '01011101010': (2.776905616789349e-16+2.281471595609512e-11j), '01011101011': (5.4486435784299474e-11-1.8681508147478754e-17j), '01011101100': (-4.6666646118295766e-17+3.1130988152422983e-11j), '01011101101': (6.793934990214026e-11+9.529635269419079e-17j), '01011101110': (2.9283875764698874e-11-2.9625457560667426e-16j), '01011101111': (-2.6844062063929442e-17+5.327419664537115e-11j), '01011110000': (3.751291442049965e-11+1.5758387583667828e-16j), '01011110001': (3.228300937472713e-16+2.0861330138732686e-10j), '01011110010': (8.622184794557242e-17+2.3510691367079575e-11j), '01011110011': (5.5487059553554974e-11-1.2711341691544104e-16j), '01011110100': (-1.3468795654291194e-16+3.2404483295029464e-11j), '01011110101': (6.976694082718324e-11+1.9518262409662535e-16j), '01011110110': (2.9375466570151756e-11+5.746392338199583e-17j), '01011110111': (4.817713790599126e-17+5.575784277577573e-11j), '01011111000': (1.5047573373871397e-16+3.809363398973463e-11j), '01011111001': (7.813423046665785e-11+2.887498942891825e-17j), '01011111010': (3.0232672876110226e-11+1.125802777818319e-16j), '01011111011': (-1.2623911695934236e-16+6.658854265010327e-11j), '01011111100': (3.487281991312017e-11-4.348016491176082e-17j), '01011111101': (2.221066364399376e-16+9.978274541940813e-11j), '01011111110': (-5.0719527823209576e-17+2.017026641630039e-11j), '01011111111': (5.0534158760060594e-11-2.9487530896142895e-17j), '01100000000': (-0.001143268965756509-1.9095510762900947e-16j), '01100000001': (2.3840243565306045e-14-2.521505663774183e-07j), '01100000010': (-7.479342597614732e-16-2.894612830800341e-08j), '01100000011': (-3.501096562908359e-08+3.703810400399373e-15j), '01100000100': (-1.1327588953609513e-15-3.6923060017938105e-08j), '01100000101': (-4.394168650517482e-08+6.998946954989505e-15j), '01100000110': (-1.9364107161779215e-08+2.7330514051335576e-16j), '01100000111': (-2.15951623965829e-15-5.912452223190169e-08j), '01100001000': (-1.5655912788787431e-15-4.189229212492754e-08j), '01100001001': (-5.141086755892996e-08+1.3291822993012326e-14j), '01100001010': (-1.9793451348890712e-08+2.84265600439858e-16j), '01100001011': (-3.069902998004502e-15-6.859222404627675e-08j), '01100001100': (-2.2227986442543965e-08+3.3730202580170416e-16j), '01100001101': (-5.256905362502604e-15-9.779185675844729e-08j), '01100001110': (-5.106041785068102e-16-2.6038429113197264e-08j), '01100001111': (-3.089237894126224e-08+5.199790316335412e-16j), '01100010000': (-2.018213715360766e-15-4.45899863410333e-08j), '01100010001': (-5.996952891881552e-08+2.543876291251961e-14j), '01100010010': (-1.9865436075411422e-08+2.7801125474112004e-16j), '01100010011': (-4.037694469587894e-15-7.390466836576012e-08j), '01100010100': (-2.2353802039753797e-08+3.3045310598738555e-16j), '01100010101': (-7.173401129578339e-15-1.0787758583239945e-07j), '01100010110': (-5.173802667225548e-16-2.6318251942915e-08j), '01100010111': (-3.113426549661877e-08+5.080599173535656e-16j), '01100011000': (-2.3214964248055433e-08+3.488450979849489e-16j), '01100011001': (-1.197642377148944e-14-1.404239604639251e-07j), '01100011010': (-5.964406668308655e-16-2.809202564367566e-08j), '01100011011': (-3.271588220405654e-08+5.425387797648979e-16j), '01100011100': (-8.450675628101519e-16-3.532596883326556e-08j), '01100011101': (-3.944833263525265e-08+6.928079725081792e-16j), '01100011110': (-1.9313271810498037e-08+2.6548507343677233e-16j), '01100011111': (-1.5547324008673655e-15-5.5988613502046935e-08j), '01100100000': (-2.377121364581388e-15-4.6020487949581986e-08j), '01100100001': (-7.387927460439054e-08+4.779049837682933e-14j), '01100100010': (-1.9874484332644038e-08+2.481379594453737e-16j), '01100100011': (-4.81870812375981e-15-7.675403644655073e-08j), '01100100100': (-2.2370984426272283e-08+2.903527175156979e-16j), '01100100101': (-8.808781597033511e-15-1.1348960633002796e-07j), '01100100110': (-4.741184650872222e-16-2.6362138093736176e-08j), '01100100111': (-3.1168161820504597e-08+4.44218824088966e-16j), '01100101000': (-2.3244372817878638e-08+3.0018443821117356e-16j), '01100101001': (-1.5393622630983473e-14-1.5108831369284175e-07j), '01100101010': (-5.506733285026648e-16-2.8168545085166257e-08j), '01100101011': (-3.2773961338204933e-08+4.588698181471838e-16j), '01100101100': (-7.843506628903549e-16-3.547295233372614e-08j), '01100101101': (-3.955926169698843e-08+5.628583780408538e-16j), '01100101110': (-1.9315942354797968e-08+2.404686286646352e-16j), '01100101111': (-1.448545797920196e-15-5.627948871856302e-08j), '01100110000': (-2.3480628114871724e-08+2.728582958920934e-16j), '01100110001': (-2.5663745967382894e-14-1.8550796770119207e-07j), '01100110010': (-5.910670244662158e-16-2.871521152138655e-08j), '01100110011': (-3.323250192939721e-08+4.085731589035398e-16j), '01100110100': (-8.610655328147674e-16-3.647094745449953e-08j), '01100110101': (-4.0392654669477397e-08+4.586660976243824e-16j), '01100110110': (-1.9360089615263866e-08+2.4228026752987023e-16j), '01100110111': (-1.6127313788545766e-15-5.822523883450575e-08j), '01100111000': (-1.117529941109756e-15-4.104721013822372e-08j), '01100111001': (-4.435985207485473e-08+3.2080706004246785e-16j), '01100111010': (-1.9786772482045455e-08+2.530579453564166e-16j), '01100111011': (-2.146769287157174e-15-6.691037582643199e-08j), '01100111100': (-2.2215372434450435e-08+3.029999401590805e-16j), '01100111101': (-3.517043546439736e-15-9.448949987100357e-08j), '01100111110': (-4.493797337980405e-16-2.6007329794509796e-08j), '01100111111': (-3.086753321181863e-08+4.670646542895354e-16j), '01101000000': (-2.0584212228945987e-15-4.68590944430778e-08j), '01101000001': (-1.0179280899500894e-07+7.516218146533202e-14j), '01101000010': (-1.987371139367413e-08+1.396747163972613e-16j), '01101000011': (-4.171724337567429e-15-7.842976091200527e-08j), '01101000100': (-2.2369404184733826e-08+1.5831847983940927e-16j), '01101000101': (-7.845869354518021e-15-1.1682937197857726e-07j), '01101000110': (-2.834444326031776e-16-2.6367999294790913e-08j), '01101000111': (-3.1164984264257924e-08+2.3383604801336247e-16j), '01101001000': (-2.3240972587872355e-08+1.4847478570456693e-16j), '01101001001': (-1.4340232797349226e-14-1.5768090189100844e-07j), '01101001010': (-3.300440999160638e-16-2.8179722849160025e-08j), '01101001011': (-3.27671294919288e-08+2.1592683336287077e-16j), '01101001100': (-4.728116702662599e-16-3.549502870643198e-08j), '01101001101': (-3.9545353761962614e-08+2.241749539987412e-16j), '01101001110': (-1.9316065150213054e-08+1.4254879679460742e-16j), '01101001111': (-8.76105492012426e-16-5.632350159203745e-08j), '01101010000': (-2.3472520416359922e-08+1.0274847305320707e-16j), '01101010001': (-2.5473090047672723e-14-1.9813430815466305e-07j), '01101010010': (-3.5619598077346676e-16-2.8734622930475123e-08j), '01101010011': (-3.321623693050273e-08+1.3613975591361287e-16j), '01101010100': (-5.220356334197389e-16-3.65093312044014e-08j), '01101010101': (-4.035973852076903e-08+6.22024153839075e-17j), '01101010110': (-1.9360283697133656e-08+1.4374934522897096e-16j), '01101010111': (-9.82601753330627e-16-5.830178619220486e-08j), '01101011000': (-6.825792142176648e-16-4.112086986571226e-08j), '01101011001': (-4.429127807038009e-08-2.224700619643755e-16j), '01101011010': (-1.9787131691767886e-08+1.5076094996308282e-16j), '01101011011': (-1.3205969283615098e-15-6.705728838822724e-08j), '01101011100': (-2.2216075921937182e-08+1.804072189222691e-16j), '01101011101': (-2.177195991098137e-15-9.478016732415824e-08j), '01101011110': (-2.674093006823626e-16-2.6008917220672833e-08j), '01101011111': (-3.0868932860100616e-08+2.72632196825e-16j), '01101100000': (-2.350326769947039e-08+1.8791252226908017e-18j), '01101100001': (-4.402380981900568e-14-2.3657637443083536e-07j), '01101100010': (-3.685122881584363e-16-2.8880295071948778e-08j), '01101100011': (-3.327670109535233e-08-3.1592590198937816e-17j), '01101100100': (-5.467897494411335e-16-3.6792074214470794e-08j), '01101100101': (-4.0473234755989826e-08-2.7286924693622297e-16j), '01101100110': (-1.9364066958799965e-08+1.436165173933878e-16j), '01101100111': (-1.0389280215723844e-15-5.886289415012109e-08j), '01101101000': (-7.294920909879524e-16-4.16352571234727e-08j), '01101101001': (-4.4474142584442904e-08-8.928327201614998e-16j), '01101101010': (-1.9793407894820817e-08+1.5053054542090108e-16j), '01101101011': (-1.4265318367918916e-15-6.807879753152351e-08j), '01101101100': (-2.2227918736142093e-08+1.8040646453355044e-16j), '01101101101': (-2.3866147129852282e-15-9.677000158733384e-08j), '01101101110': (-2.688221996148583e-16-2.603591887586842e-08j), '01101101111': (-3.0892253603940845e-08+2.724555664672597e-16j), '01101110000': (-8.903296782453592e-16-4.410578702039374e-08j), '01101110001': (-4.608914311907981e-08-2.2293207691263598e-15j), '01101110010': (-1.9865531344634168e-08+1.521730432216619e-16j), '01101110011': (-1.7818954736914218e-15-7.29373454054922e-08j), '01101110100': (-2.2354021231293797e-08+1.8310017819832938e-16j), '01101110101': (-3.0758086986555775e-15-1.0595132749443095e-07j), '01101110110': (-2.7886812038431575e-16-2.631404143821737e-08j), '01101110111': (-3.113471865765835e-08+2.7585418442490223e-16j), '01101111000': (-2.3215597231377447e-08+1.9882324217098835e-16j), '01101111001': (-4.8664789456439925e-15-1.3663322439132773e-07j), '01101111010': (-3.2230345293163343e-16-2.8084049348630057e-08j), '01101111011': (-3.27171745496373e-08+3.0027447764803057e-16j), '01101111100': (-4.572371216095011e-16-3.5310244974100815e-08j), '01101111101': (-3.9451115808695734e-08+3.9217036174405723e-16j), '01101111110': (-1.931317166590735e-08+1.430173879941738e-16j), '01101111111': (-8.425453534648573e-16-5.595728193339303e-08j), '01110000000': (1.692501644685065e-15-4.7636417363641244e-08j), '01110000001': (-1.7645304436424929e-07-4.34763236678612e-14j), '01110000010': (-1.986827085088259e-08-1.9626487097085473e-16j), '01110000011': (3.656710570884481e-15-7.998425586958252e-08j), '01110000100': (-2.235852055183862e-08-2.3140257281391823e-16j), '01110000101': (6.6735894271592335e-15-1.1993713565990096e-07j), '01110000110': (3.6948039222322753e-16-2.6368612765966397e-08j), '01110000111': (-3.114321602051747e-08-3.7681147313506146e-16j), '01110001000': (-2.3219183605152088e-08-2.408028956588903e-16j), '01110001001': (1.1661645936633282e-14-1.6388685761131128e-07j), '01110001010': (4.256099105932055e-16-2.8180930157061018e-08j), '01110001011': (-3.272354923264562e-08-3.968237920114274e-16j), '01110001100': (6.024419225591224e-16-3.5497433579125465e-08j), '01110001101': (-3.945817141585153e-08-5.012006445467002e-16j), '01110001110': (-1.9316075915860843e-08-1.8952518201078498e-16j), '01110001111': (1.1059048093010235e-15-5.6328307264820955e-08j), '01110010000': (-2.3428775179414703e-08-2.2827506495640117e-16j), '01110010001': (1.9546360857387095e-14-2.1047626577516135e-07j), '01110010010': (4.549866965165312e-16-2.8736898670366394e-08j), '01110010011': (-3.3128741611635244e-08-3.655257285685758e-16j), '01110010100': (6.579142078821188e-16-3.651386460972508e-08j), '01110010101': (-4.018470542166757e-08-4.3655607435718097e-16j), '01110010110': (-1.9360304782990964e-08-1.9041928815233844e-16j), '01110010111': (1.2232248182699871e-15-5.831084486136433e-08j), '01110011000': (8.435605803547844e-16-4.1129795297148173e-08j), '01110011001': (-4.394087497929385e-08-3.706318259815401e-16j), '01110011010': (-1.978717376354821e-08-1.9896321353834152e-16j), '01110011011': (1.6116201626176463e-15-6.707512266823153e-08j), '01110011100': (-2.221616012010085e-08-2.3688706647963674e-16j), '01110011101': (2.6203713979819e-15-9.481569359474762e-08j), '01110011110': (3.517670746213037e-16-2.6008988197441234e-08j), '01110011111': (-3.0869101556226015e-08-3.8936262040465725e-16j), '01110100000': (-2.3414578255096442e-08-1.98957973349161e-16j), '01110100001': (3.1610044345137396e-14-2.608400287552443e-07j), '01110100010': (4.681186602337596e-16-2.8884092008528208e-08j), '01110100011': (-3.309931280448326e-08-2.761390464027114e-16j), '01110100100': (6.840853397139177e-16-3.67996395039507e-08j), '01110100101': (-4.01183792546671e-08-2.5730131572436464e-16j), '01110100110': (-1.9364106279834187e-08-1.909903107815185e-16j), '01110100111': (1.278226497381445e-15-5.887801138184531e-08j), '01110101000': (8.932177628104759e-16-4.165016460140769e-08j), '01110101001': (-4.376380482272944e-08-1.0545005982305629e-17j), '01110101010': (-1.979348628430622e-08-1.9878983400040856e-16j), '01110101011': (1.714525393014377e-15-6.810858568339348e-08j), '01110101100': (-2.2228075494488282e-08-2.3705859230581697e-16j), '01110101101': (2.8225139480333992e-15-9.682935358569799e-08j), '01110101110': (3.5371998518181485e-16-2.603603090905693e-08j), '01110101111': (-3.089256738389769e-08-3.900967911747736e-16j), '01110110000': (1.0666507978223644e-15-4.4134017911488024e-08j), '01110110001': (-4.4663613942526186e-08+6.70482367775373e-16j), '01110110010': (-1.986568497421197e-08-2.0069211945307024e-16j), '01110110011': (2.080758257609109e-15-7.299375672643234e-08j), '01110110100': (-2.235432826993772e-08-2.3949990669592637e-16j), '01110110101': (3.530798458221917e-15-1.06063735299675e-07j), '01110110110': (3.6486784370327157e-16-2.6314248853630652e-08j), '01110110111': (-3.113533290570714e-08-3.9815447001821594e-16j), '01110111000': (-2.321620809547397e-08-2.5681151974979546e-16j), '01110111001': (5.439614147786395e-15-1.3685482507458754e-07j), '01110111010': (4.1779221504343826e-16-2.808445575493116e-08j), '01110111011': (-3.2718396270354285e-08-4.413368325362414e-16j), '01110111100': (5.868534723049891e-16-3.531105367631034e-08j), '01110111101': (-3.9453555944624594e-08-5.901140536707312e-16j), '01110111110': (-1.9313173168400213e-08-1.896128970701207e-16j), '01110111111': (1.0725914286563467e-15-5.5958898052912665e-08j), '01111000000': (-2.3262733960623082e-08-1.678770985838444e-16j), '01111000001': (5.0446433554906275e-14-3.2041069146509204e-07j), '01111000010': (4.736598654022748e-16-2.8919167781909103e-08j), '01111000011': (-3.2795544156683623e-08-9.86409489028974e-17j), '01111000100': (6.944284457979502e-16-3.686918004886809e-08j), '01111000101': (-3.9510218110685896e-08+9.88788030336758e-17j), '01111000110': (-1.936441953144419e-08-1.9056168315888638e-16j), '01111000111': (1.2974974151019602e-15-5.901678545182699e-08j), '01111001000': (9.135451291395643e-16-4.178484435692909e-08j), '01111001001': (-4.254290856509009e-08+7.026488079068245e-16j), '01111001010': (-1.979407794588164e-08-1.9879519743950036e-16j), '01111001011': (1.7514598130387864e-15-6.837737183101264e-08j), '01111001100': (-2.2229240801970414e-08-2.368559007956976e-16j), '01111001101': (2.8959825153838034e-15-9.736246491749715e-08j), '01111001110': (3.5368186456328534e-16-2.6038271907042212e-08j), '01111001111': (-3.089488890769895e-08-3.8997046663316633e-16j), '01111010000': (1.1055567399710673e-15-4.437731881777185e-08j), '01111010001': (-4.219305163528823e-08+2.0951066665177132e-15j), '01111010010': (-1.9866697908004646e-08-1.9997368827564956e-16j), '01111010011': (2.149115012555697e-15-7.347941112096913e-08j), '01111010100': (-2.235632728782769e-08-2.3878005524939393e-16j), '01111010101': (3.666455929788103e-15-1.0702765246033208e-07j), '01111010110': (3.6536828135642125e-16-2.6317960355267944e-08j), '01111010111': (-3.113931740449376e-08-3.975998297010675e-16j), '01111011000': (-2.3220023446154544e-08-2.552723880927405e-16j), '01111011001': (5.704323425070266e-15-1.3872860322133266e-07j), '01111011010': (4.1803272442398295e-16-2.8091454608844277e-08j), '01111011011': (-3.2726002582029285e-08-4.4045824513016006e-16j), '01111011100': (5.880163616876049e-16-3.532483320255842e-08j), '01111011101': (-3.946858197890666e-08-5.894712698146897e-16j), '01111011110': (-1.9313267166330826e-08-1.8961448608407743e-16j), '01111011111': (1.0756636436258177e-15-5.598634720028542e-08j), '01111100000': (1.2554773745206504e-15-4.560807984115299e-08j), '01111100001': (-3.799267242079213e-08+4.958400532723193e-15j), '01111100010': (-1.9877057642401012e-08-1.9920111647277605e-16j), '01111100011': (2.433853588252368e-15-7.592934427121787e-08j), '01111100100': (-2.2376133234471737e-08-2.369677000457484e-16j), '01111100101': (4.229240204026601e-15-1.1184117105183529e-07j), '01111100110': (3.689121704276016e-16-2.6361662474764117e-08j), '01111100111': (-3.117846102043326e-08-3.9821858644185615e-16j), '01111101000': (-2.3254684612540386e-08-2.5203373693939836e-16j), '01111101001': (6.784064897062403e-15-1.4779883122994245e-07j), '01111101010': (4.237081561904971e-16-2.8167611309686716e-08j), '01111101011': (-3.279458741051239e-08-4.416025576905792e-16j), '01111101100': (5.990310490935243e-16-3.5471093839520394e-08j), '01111101101': (-3.960052794538171e-08-5.907790903396116e-16j), '01111101110': (-1.9315935017525494e-08-1.8944761976628772e-16j), '01111101111': (1.0993372384284525e-15-5.6275777696043057e-08j), '01111110000': (-2.3501352806008213e-08-2.4897751881579357e-16j), '01111110001': (9.884514803240122e-15-1.7898271138795638e-07j), '01111110010': (4.515285579507318e-16-2.8713458497683053e-08j), '01111110011': (-3.3273955334980785e-08-4.551333672196654e-16j), '01111110100': (6.50492372022198e-16-3.646745721735468e-08j), '01111110101': (-4.047558783892627e-08-6.147993945872756e-16j), '01111110110': (-1.9360076143196777e-08-1.9099774051778045e-16j), '01111110111': (1.2110588079479572e-15-5.8218267874493426e-08j), '01111111000': (8.302886130101589e-16-4.104034674314952e-08j), '01111111001': (-4.4525921721373435e-08-7.281626198376776e-16j), '01111111010': (-1.9786746403298997e-08-1.9945887587781493e-16j), '01111111011': (1.5881559752045241e-15-6.689666625907621e-08j), '01111111100': (-2.2215320907723933e-08-2.3793074838263573e-16j), '01111111101': (2.572831031925097e-15-9.446219807163573e-08j), '01111111110': (3.52115666729407e-16-2.6007270507272838e-08j), '01111111111': (-3.086743095999488e-08-3.8890050520210654e-16j), '10000000000': (-0.5238503990617138+1.419697692739419e-14j), '10000000001': (-6.750857880005478e-15-3.034786382545763e-10j), '10000000010': (-9.427948900285508e-17-2.3813151792438128e-11j), '10000000011': (-5.7916779049490695e-11+5.85746608857232e-17j), '10000000100': (-3.38409715909047e-16-3.299671062658209e-11j), '10000000101': (-7.460927641339682e-11+1.682594437903806e-16j), '10000000110': (-2.9384288992877465e-11+5.826128114543792e-18j), '10000000111': (2.2156947748320502e-17-5.693637227211115e-11j), '10000001000': (4.600283833817552e-16-3.9201800978584414e-11j), '10000001001': (-8.771624251312757e-11+9.427572492232442e-16j), '10000001010': (-3.024751922172175e-11-1.3988208409509276e-17j), '10000001011': (4.080014072923644e-16-6.879393436009496e-11j), '10000001100': (-3.4899921633654596e-11+2.9644871420739255e-16j), '10000001101': (7.789337310041619e-17-1.0411436967130845e-10j), '10000001110': (3.10597273113453e-17-2.021067726579398e-11j), '10000001111': (-5.0588424050970305e-11+1.4753893124535679e-16j), '10000010000': (5.893346627766803e-16-4.2679504066971676e-11j), '10000010001': (-1.0075550174850548e-10+6.088675450542086e-16j), '10000010010': (-3.039758589560005e-11+1.8406394204725434e-16j), '10000010011': (4.233594311001856e-16-7.564383357626876e-11j), '10000010100': (-3.5163479249931055e-11+2.591509787083019e-16j), '10000010101': (1.101660629498072e-16-1.17131468346679e-10j), '10000010110': (-4.1675628293905274e-16-2.0564723041232692e-11j), '10000010111': (-5.109512438989155e-11+2.0956127539081507e-16j), '10000011000': (-3.6920291136824805e-11+1.5485079148151588e-16j), '10000011001': (1.3954277177731485e-16-1.5860897984766028e-10j), '10000011010': (3.6986775897507507e-16-2.2716856116821666e-11j), '10000011011': (-5.433192049138754e-11+2.23062176453558e-16j), '10000011100': (-1.5431553415323486e-16-3.094326954175472e-11j), '10000011101': (-6.764018813712446e-11+3.7817050236960435e-17j), '10000011110': (-2.927823733591949e-11+2.747081917604926e-16j), '10000011111': (2.1539714818492102e-16-5.2902539368194096e-11j), '10000100000': (5.534302971664865e-16-4.45426473954628e-11j), '10000100001': (-1.1991289372142582e-10+1.5739972061173572e-15j), '10000100010': (-3.041717923827362e-11-2.9756566292390566e-16j), '10000100011': (3.5052668980194977e-16-7.935268050015375e-11j), '10000100100': (-3.520173664145562e-11-3.5934566462911685e-16j), '10000100101': (3.1148286870387664e-17-1.2443677806587927e-10j), '10000100110': (-1.291520256565048e-16-2.0621392243529063e-11j), '10000100111': (-5.1169692463859564e-11+2.340185702008914e-16j), '10000101000': (-3.698580096276405e-11+3.271768895606665e-16j), '10000101001': (1.9672897478668386e-16-1.7249511791136655e-10j), '10000101010': (-6.642366106800105e-17-2.281564006354734e-11j), '10000101011': (-5.4460184246658966e-11-1.937849227144172e-16j), '10000101100': (-2.6477719313628066e-16-3.113362910209687e-11j), '10000101101': (-6.788674857909697e-11+3.055721549150053e-17j), '10000101110': (-2.928403716971214e-11-8.960607305829955e-17j), '10000101111': (-1.4633781201921208e-17-5.3279031910706214e-11j), '10000110000': (-3.748698766205447e-11+7.124671456697879e-17j), '10000110001': (2.47580069051588e-16-2.171464038362982e-10j), '10000110010': (1.7901769968998626e-16-2.3512933507111028e-11j), '10000110011': (-5.543413554131051e-11+2.1133766509000393e-16j), '10000110100': (8.089088563352892e-17-3.240916890130879e-11j), '10000110101': (-6.966098003521789e-11-7.728004213938006e-17j), '10000110110': (-2.937498298161543e-11+3.6215393476472604e-17j), '10000110111': (1.1676023248544345e-16-5.5767029904084986e-11j), '10000111000': (-1.3790876052005905e-16-3.810239144791641e-11j), '10000111001': (-7.792206517130296e-11-2.226627978905337e-16j), '10000111010': (-3.0232655562962494e-11-5.767872862826083e-17j), '10000111011': (1.782432972338274e-17-6.66065226623263e-11j), '10000111100': (-3.487260821045299e-11-7.697638976440963e-17j), '10000111101': (6.076992423593261e-17-9.981839878963243e-11j), '10000111110': (2.6184075763565784e-16-2.0170793301576376e-11j), '10000111111': (-5.053425703728792e-11+1.4493139515833968e-16j), '10001000000': (-1.9081154849338074e-16-4.5638661183637275e-11j), '10001000001': (-1.5694033941180944e-10+1.7394159964217823e-15j), '10001000010': (-3.041758266967635e-11-2.128700205400264e-16j), '10001000011': (3.732230327203186e-16-8.154023542350618e-11j), '10001000100': (-3.520110047104517e-11+1.2030078110888901e-16j), '10001000101': (2.7709178680577717e-16-1.2879655670030862e-10j), '10001000110': (6.935281646723446e-17-2.0629221322450012e-11j), '10001000111': (-5.116964990737224e-11-1.996280237568357e-16j), '10001001000': (-3.69848731722797e-11+2.8942446745549036e-16j), '10001001001': (4.349289572755146e-16-1.8110123463893287e-10j), '10001001010': (-1.934235781696053e-16-2.283026976418799e-11j), '10001001011': (-5.445952925427811e-11+2.0654889397357558e-17j), '10001001100': (-2.9533570399181266e-16-3.1162202656900214e-11j), '10001001101': (-6.788425909633525e-11+3.041695323962262e-16j), '10001001110': (-2.928434761416361e-11+1.0444448911244368e-16j), '10001001111': (8.884860023066461e-17-5.333605959691331e-11j), '10001010000': (-3.7482812711263164e-11+4.628245075979153e-16j), '10001010001': (-1.5156102758927524e-16-2.3363138241347696e-10j), '10001010010': (5.90023184500634e-18-2.353842271491213e-11j), '10001010011': (-5.5426721464480025e-11+1.2744214397578793e-17j), '10001010100': (-3.6423950410416706e-17-3.245880887583005e-11j), '10001010101': (-6.964485846826522e-11+7.629312660774796e-17j), '10001010110': (-2.9375695001023697e-11-2.2669737729947116e-17j), '10001010111': (-4.149169685928471e-18-5.5867008709160345e-11j), '10001011000': (-7.262043503003263e-17-3.819852767682827e-11j), '10001011001': (-7.788451684026878e-11-2.0372698791581806e-16j), '10001011010': (-3.023351676140994e-11+6.214924681118891e-17j), '10001011011': (2.4560750297366257e-17-6.679836819590829e-11j), '10001011100': (-3.487420841018706e-11+9.608577175568599e-17j), '10001011101': (6.488101639427161e-17-1.001970463041422e-10j), '10001011110': (7.909410187388575e-17-2.0172977941494976e-11j), '10001011111': (-5.0537186463968654e-11+3.814050120493393e-17j), '10001100000': (-3.757401008945195e-11+5.965015084626164e-16j), '10001100001': (5.374241626695053e-16-2.8376527953974214e-10j), '10001100010': (-2.1521449515664468e-16-2.3727382939325326e-11j), '10001100011': (-5.560683829949382e-11+2.050753882979267e-16j), '10001100100': (2.1175820237491195e-16-3.282579966737885e-11j), '10001100101': (-6.998960536291082e-11-1.217163630065483e-16j), '10001100110': (-2.938359887910256e-11-2.3451522748031416e-16j), '10001100111': (1.5350896207355934e-16-5.65947180657953e-11j), '10001101000': (-1.0791226624281111e-16-3.886618462865113e-11j), '10001101001': (-7.848044372894122e-11-8.448835341684e-17j), '10001101010': (-3.024655126358099e-11-2.1834296922977965e-16j), '10001101011': (1.7419501352463177e-16-6.812419710991927e-11j), '10001101100': (-3.489918956482227e-11-1.3278108332119864e-16j), '10001101101': (-3.181140163681357e-16-1.0278062670347118e-10j), '10001101110': (-1.0180227982750273e-16-2.0207657209787665e-11j), '10001101111': (-5.0586205795276906e-11-9.77119809193884e-17j), '10001110000': (-8.827614505714176e-18-4.204718447431856e-11j), '10001110001': (-8.22969206095322e-11-2.0273766667477719e-16j), '10001110010': (-3.0396826427933136e-11-6.716583586552224e-17j), '10001110011': (3.091818148324433e-17-7.438225039703652e-11j), '10001110100': (-3.5162377079300636e-11+4.919198626708412e-17j), '10001110101': (2.6035256074765388e-17-1.1461770598073632e-10j), '10001110110': (-3.61667938172882e-17-2.0559203296694813e-11j), '10001110111': (-5.1092432545762404e-11+2.862650498311458e-16j), '10001111000': (-3.691811795454358e-11-6.516221259679605e-17j), '10001111001': (-1.2489552855019764e-16-1.536618378672368e-10j), '10001111010': (-1.0459211949776145e-17-2.270642260211025e-11j), '10001111011': (-5.432722918865172e-11-4.488049659503096e-17j), '10001111100': (-8.49960116491101e-19-3.0923026198202346e-11j), '10001111101': (-6.763260709685508e-11+1.6658132477162812e-16j), '10001111110': (-2.927813353122715e-11-4.1741907496448366e-17j), '10001111111': (1.6531119141774802e-16-5.286133013649411e-11j), '10010000000': (-2.993140672498934e-16-4.6659385582320395e-11j), '10010000001': (-2.549563138493139e-10-1.2819941999938368e-15j), '10010000010': (-3.041013520071158e-11+9.473546242893947e-17j), '10010000011': (-7.947939106388185e-17-8.3573608052884e-11j), '10010000100': (-3.518686336911644e-11+1.6321051734026913e-16j), '10010000101': (-3.7317852546936016e-17-1.3286184378575562e-10j), '10010000110': (-9.776151932597827e-17-2.062996591640401e-11j), '10010000111': (-5.1141536370310975e-11-2.0268347567531753e-16j), '10010001000': (-3.695622063564668e-11+1.6364639189224782e-16j), '10010001001': (8.211998958098533e-17-1.8921841032825176e-10j), '10010001010': (-2.1910604205239011e-16-2.2831842550550662e-11j), '10010001011': (-5.440324074579108e-11-3.2506733915020596e-16j), '10010001100': (-1.1029350844635247e-16-3.1165278504612345e-11j), '10010001101': (-6.777188689798027e-11+1.3171174415048714e-16j), '10010001110': (-2.9284318630712137e-11-1.49645567863642e-17j), '10010001111': (1.8110562592790977e-16-5.334247573298276e-11j), '10010010000': (-3.742613329571938e-11+3.2306280042033946e-16j), '10010010001': (-5.740943873454963e-16-2.4977451619073927e-10j), '10010010010': (-2.0643015023128185e-16-2.3541010421284096e-11j), '10010010011': (-5.5313974442246176e-11+2.433839706436242e-17j), '10010010100': (-2.2364444425500667e-16-3.246473582431008e-11j), '10010010101': (-6.941921326718431e-11-3.4523975391951547e-16j), '10010010110': (-2.9375750501628046e-11+8.355911575467984e-18j), '10010010111': (4.053239643897878e-17-5.587867076972129e-11j), '10010011000': (-5.417244911079272e-16-3.8209794374326376e-11j), '10010011001': (-7.74331248881757e-11-2.617205407258906e-16j), '10010011010': (-3.0233727378560714e-11-8.6870595974971e-17j), '10010011011': (2.0901791853131136e-16-6.682141031732155e-11j), '10010011100': (-3.487435695910398e-11+1.167469521637168e-16j), '10010011101': (-8.291477255978612e-19-1.0024326683333164e-10j), '10010011110': (-1.866348658068875e-16-2.0173017796173628e-11j), '10010011111': (-5.053751220290918e-11-4.6242279912883055e-17j), '10010100000': (-3.7458405571330395e-11+2.4034896013684e-16j), '10010100001': (-8.584334761588724e-17-3.155028210220563e-10j), '10010100010': (1.576580993879684e-17-2.3732274675297924e-11j), '10010100011': (-5.5378116351801386e-11-1.7362765795512822e-16j), '10010100100': (8.812964251804892e-17-3.283567639250115e-11j), '10010100101': (-6.953183322389478e-11+2.1270310794697442e-16j), '10010100110': (-2.938364130055197e-11+8.108667387957347e-17j), '10010100111': (-3.0778321110443116e-16-5.661474326496893e-11j), '10010101000': (-2.214268143344293e-16-3.888559712359925e-11j), '10010101001': (-7.756346140958973e-11+5.879620908135174e-17j), '10010101010': (-3.024671445027315e-11+1.1501913672022027e-16j), '10010101011': (-1.151355419122546e-16-6.816321672155908e-11j), '10010101100': (-3.489930471792448e-11-1.2716864402970375e-16j), '10010101101': (-3.514815950626944e-17-1.0285801378524217e-10j), '10010101110': (-5.3582732188136735e-18-2.0207698443943456e-11j), '10010101111': (-5.0586822645016414e-11+2.292463594955891e-16j), '10010110000': (-2.5034268367545477e-16-4.208380642519924e-11j), '10010110001': (-8.045544769599706e-11+4.633118251923508e-17j), '10010110010': (-3.039713488569787e-11+5.0761216411802115e-17j), '10010110011': (1.413370208116075e-16-7.445550895768057e-11j), '10010110100': (-3.5162550598038435e-11+5.605302709819177e-17j), '10010110101': (1.5119374659215808e-16-1.1476437100245098e-10j), '10010110110': (-1.3908325365935465e-16-2.055950334530118e-11j), '10010110111': (-5.1093417976967004e-11+3.8672402855824957e-16j), '10010111000': (-3.6919096435841505e-11-9.166876555629327e-17j), '10010111001': (5.817503394556414e-17-1.539506228795491e-10j), '10010111010': (-2.1688545493769684e-16-2.2706962183823552e-11j), '10010111011': (-5.432912403945219e-11+3.2078312677344046e-17j), '10010111100': (-4.9750126539692845e-17-3.09238885574267e-11j), '10010111101': (-6.763654610973406e-11+9.578903884428258e-17j), '10010111110': (-2.927812063090891e-11-2.1766074942332802e-16j), '10010111111': (5.2926863709669315e-17-5.286359552058111e-11j), '10011000000': (-3.7270702600840405e-11+3.040463846611485e-16j), '10011000001': (-8.266846162910807e-16-3.933706384290043e-10j), '10011000010': (3.7966788525663825e-16-2.377772313348587e-11j), '10011000011': (-5.5005520457634725e-11-3.3241122493909125e-17j), '10011000100': (1.266883028854402e-16-3.2925791039119436e-11j), '10011000101': (-6.878594224126604e-11+1.278797442914807e-16j), '10011000110': (-2.9384683491554465e-11-9.762782554780825e-17j), '10011000111': (-1.5146102582499637e-16-5.679540191122387e-11j), '10011001000': (-2.2080020473995508e-16-3.906065890091246e-11j), '10011001001': (-7.606374656248616e-11+4.797191918138594e-17j), '10011001010': (-3.024782529129928e-11-1.5078650461597075e-16j), '10011001011': (-2.8189441208594183e-16-6.851334729160776e-11j), '10011001100': (-3.490181958151858e-11+1.2759396005252497e-16j), '10011001101': (5.516643347558499e-17-1.0355279000977017e-10j), '10011001110': (-1.0587319766283598e-16-2.0210445732933947e-11j), '10011001111': (-5.059144048122065e-11-5.983875500849133e-17j), '10011010000': (-4.771604646982646e-16-4.2400366098508456e-11j), '10011010001': (-7.739955284784815e-11-2.901765807392141e-17j), '10011010010': (-3.039907413038274e-11-6.110507027518626e-17j), '10011010011': (7.291097703577277e-17-7.5088346516981e-11j), '10011010100': (-3.516664914970321e-11-2.854138218471085e-16j), '10011010101': (-2.31485200531541e-17-1.1602052315465782e-10j), '10011010110': (1.0084944002463076e-16-2.0564360449990203e-11j), '10011010111': (-5.1101432979235514e-11-5.744569163547842e-17j), '10011011000': (-3.692629177133748e-11-1.9072719181641254e-16j), '10011011001': (2.8993952457923285e-16-1.5639282027709544e-10j), '10011011010': (1.7464680094264182e-17-2.271609851533143e-11j), '10011011011': (-5.434415374477275e-11-2.3113040276100153e-16j), '10011011100': (5.964029819943471e-17-3.094175025000021e-11j), '10011011101': (-6.766548510745821e-11+6.263159640652529e-17j), '10011011110': (-2.927828707706976e-11-2.0702872610934114e-16j), '10011011111': (-2.908902716611993e-16-5.289953461014055e-11j), '10011100000': (-4.66811409518342e-16-4.4000133817485774e-11j), '10011100001': (-7.277264214679068e-11-2.7123350679716993e-16j), '10011100010': (-3.042055578829223e-11-1.2695840235826525e-16j), '10011100011': (-1.1291056353641176e-16-7.827453103158791e-11j), '10011100100': (-3.5207597288962463e-11-1.8421957797135873e-16j), '10011100101': (2.6973268160286365e-16-1.222817401742083e-10j), '10011100110': (-1.6490019385013262e-16-2.0620757611020217e-11j), '10011100111': (-5.118238212449396e-11+4.249988529199787e-17j), '10011101000': (-3.699883376196156e-11+1.496959348216701e-16j), '10011101001': (1.949806720488151e-16-1.6819368637122344e-10j), '10011101010': (1.8823080009150802e-16-2.281469017771509e-11j), '10011101011': (-5.4486668482888105e-11-8.657064767197052e-18j), '10011101100': (-1.8848391140470287e-16-3.113093173179522e-11j), '10011101101': (-6.793957993991031e-11-3.6944434490059164e-17j), '10011101110': (-2.928376643829304e-11-1.0107545043153343e-16j), '10011101111': (9.219603768360631e-17-5.3274136923701194e-11j), '10011110000': (-3.751324507997709e-11+1.6771681781280275e-16j), '10011110001': (8.724540108610372e-17-2.0861382396274136e-10j), '10011110010': (-4.979702262525246e-17-2.3510862026523202e-11j), '10011110011': (-5.548723940050499e-11-5.779003232765449e-17j), '10011110100': (-1.8548044505414655e-16-3.240425513551981e-11j), '10011110101': (-6.976689773036317e-11+2.267506346688976e-16j), '10011110110': (-2.937516247646992e-11-2.4882052510217866e-17j), '10011110111': (-2.9560489867929717e-16-5.5757729923122776e-11j), '10011111000': (3.0870650113765426e-16-3.809379632395512e-11j), '10011111001': (-7.81342440988291e-11+3.6580447465081677e-17j), '10011111010': (-3.023268919039004e-11-2.158004663684804e-16j), '10011111011': (-7.293947661158451e-17-6.658878119947738e-11j), '10011111100': (-3.487267046976816e-11-3.8180539556895314e-17j), '10011111101': (-1.1678311639670005e-16-9.978256317618423e-11j), '10011111110': (-9.61960616789999e-17-2.0170914483264476e-11j), '10011111111': (-5.05341098322596e-11-2.308108524165209e-16j), '10100000000': (-0.0010675241020450686+1.2766480581016815e-16j), '10100000001': (-2.387281524452831e-14+2.5215056551227354e-07j), '10100000010': (8.642924917701511e-16+2.8946126846820945e-08j), '10100000011': (3.501096518991996e-08-3.726719121141915e-15j), '10100000100': (1.3040517213062283e-15+3.692305787506035e-08j), '10100000101': (4.3941686015149856e-08-7.0235884023940245e-15j), '10100000110': (1.9364106465589432e-08-3.0670889725739885e-16j), '10100000111': (2.198534148974708e-15+5.912452178194119e-08j), '10100001000': (1.8007947209647435e-15+4.189228936002685e-08j), '10100001001': (5.141086706998613e-08-1.3315608996697123e-14j), '10100001010': (1.97934506431287e-08-3.1669315502091295e-16j), '10100001011': (3.1110358063151488e-15+6.859222359700593e-08j), '10100001100': (2.222798555917473e-08-3.764530342689463e-16j), '10100001101': (5.309445188329343e-15+9.779185618477763e-08j), '10100001110': (5.90750402061607e-16+2.6038428195495994e-08j), '10100001111': (3.0892378553468835e-08-5.423139082338335e-16j), '10100010000': (2.3131297012842465e-15+4.458998323271062e-08j), '10100010001': (5.99695284752168e-08-2.5461044964538803e-14j), '10100010010': (1.9865435428625908e-08-3.106695745151038e-16j), '10100010011': (4.07838628309857e-15+7.390466797258295e-08j), '10100010100': (2.2353801217611144e-08-3.6827704709121295e-16j), '10100010101': (7.224345406721524e-15+1.0787758532636729e-07j), '10100010110': (5.990094224564091e-16+2.6318251125760168e-08j), '10100010111': (3.113426515294801e-08-5.309719832145045e-16j), '10100011000': (2.3214963306510874e-08-3.871999914347231e-16j), '10100011001': (1.2034984105673193e-14+1.404239598898026e-07j), '10100011010': (6.89684277953286e-16+2.8092024697888384e-08j), '10100011011': (3.2715881850300064e-08-5.65006179798308e-16j), '10100011100': (9.766766867270505e-16+3.53259674804293e-08j), '10100011101': (3.9448332230221924e-08-7.171710206970158e-16j), '10100011110': (1.931327123337023e-08-2.980100988453075e-16j), '10100011111': (1.592330218088681e-15+5.5988613149190896e-08j), '10100100000': (2.7104210802979766e-15+4.602048516340151e-08j), '10100100001': (7.387927426343639e-08-4.7811031024571033e-14j), '10100100010': (1.9874483833194657e-08-2.7653296221811834e-16j), '10100100011': (4.856808794001664e-15+7.675403618177918e-08j), '10100100100': (2.237098378154635e-08-3.2505884945469044e-16j), '10100100101': (8.856881792311445e-15+1.1348960598745244e-07j), '10100100110': (5.495092066209363e-16+2.6362137535570934e-08j), '10100100111': (3.116816156380056e-08-4.638681380622355e-16j), '10100101000': (2.3244372065146898e-08-3.3451715435188004e-16j), '10100101001': (1.5447787456432295e-14+1.5108831329976163e-07j), '10100101010': (6.368329110924414e-16+2.8168544431795158e-08j), '10100101011': (3.277396107351221e-08-4.789179828953947e-16j), '10100101100': (9.07210350052423e-16+3.5472951390647417e-08j), '10100101101': (3.955926139215255e-08-5.845931326251971e-16j), '10100101110': (1.931594191623467e-08-2.691238996812166e-16j), '10100101111': (1.482668171130117e-15+5.62794884829895e-08j), '10100110000': (2.3480627293657744e-08-3.1055377998269436e-16j), '10100110001': (2.5722238350333687e-14+1.8550796728232639e-07j), '10100110010': (6.840218486388206e-16+2.871521081745477e-08j), '10100110011': (3.3232501663174666e-08-4.285044446855582e-16j), '10100110100': (9.965067098856608e-16+3.6470946414118364e-08j), '10100110101': (4.0392654361235946e-08-4.804430036783801e-16j), '10100110110': (1.936008917019436e-08-2.708618714954589e-16j), '10100110111': (1.647492471155009e-15+5.822523859628735e-08j), '10100111000': (1.2918983238341786e-15+4.1047208777197354e-08j), '10100111001': (4.435985174816382e-08-3.430221071233227e-16j), '10100111010': (1.9786772002079734e-08-2.8183091424799696e-16j), '10100111011': (2.1836668413960432e-15+6.691037557029166e-08j), '10100111100': (2.221537182783426e-08-3.3522549061710513e-16j), '10100111101': (3.56337102749052e-15+9.44894995434343e-08j), '10100111110': (5.213746730969172e-16+2.6007329265941295e-08j), '10100111111': (3.08675329563423e-08-4.869807455908818e-16j), '10101000000': (2.2752950159314426e-15+4.6859093343539705e-08j), '10101000001': (1.0179280884781726e-07-7.516875630712217e-14j), '10101000010': (1.987371117145432e-08-1.5373136712328932e-16j), '10101000011': (4.195101305402402e-15+7.842976088495233e-08j), '10101000100': (2.2369403880985703e-08-1.7553374620425063e-16j), '10101000101': (7.87573507780244e-15+1.168293719382355e-07j), '10101000110': (3.3036982875203616e-16+2.636799922005617e-08j), '10101000111': (3.116498416689035e-08-2.433815212035029e-16j), '10101001000': (2.3240972214956568e-08-1.6872470890316627e-16j), '10101001001': (1.4374728412649505e-14+1.5768090184033417e-07j), '10101001010': (3.840188624211779e-16+2.8179722755842977e-08j), '10101001011': (3.276712939023844e-08-2.2558678834978855e-16j), '10101001100': (5.488826446038876e-16+3.5495028559641534e-08j), '10101001101': (3.954535363934138e-08-2.343830774416948e-16j), '10101001110': (1.931606496542202e-08-1.5505596783411744e-16j), '10101001111': (8.980003457499676e-16+5.6323501570083334e-08j), '10101010000': (2.3472519998360095e-08-1.340833220450795e-16j), '10101010001': (2.5510408142189375e-14+1.9813430809830315e-07j), '10101010010': (4.1496827419892204e-16+2.873462282690769e-08j), '10101010011': (3.321623682782131e-08-1.4534572771058195e-16j), '10101010100': (6.075568459892226e-16+3.650933103694487e-08j), '10101010101': (4.035973839573329e-08-7.197847757750629e-17j), '10101010110': (1.936028350722943e-08-1.561092896999751e-16j), '10101010111': (1.0043721775973448e-15+5.830178616995491e-08j), '10101011000': (7.94661062252967e-16+4.112086963060419e-08j), '10101011001': (4.4291277933880216e-08+2.1358768901330146e-16j), '10101011010': (1.9787131481056883e-08-1.620266643510355e-16j), '10101011011': (1.34400376237968e-15+6.705728836301856e-08j), '10101011100': (2.2216075638492912e-08-1.9148421618937085e-16j), '10101011101': (2.2060549594764625e-15+9.478016728622374e-08j), '10101011110': (3.1239017222776006e-16+2.600891715122347e-08j), '10101011111': (3.086893276358034e-08-2.820224719070714e-16j), '10101100000': (2.3503267273869956e-08-6.75972972651457e-17j), '10101100001': (4.4061891665925514e-14+2.3657637437274333e-07j), '10101100010': (4.314205847355108e-16+2.888029496379352e-08j), '10101100011': (3.3276700991757133e-08+2.2040701395966415e-17j), '10101100100': (6.393855813637933e-16+3.679207403814729e-08j), '10101100101': (4.0473234630355986e-08+2.626074593238494e-16j), '10101100110': (1.9364066768253068e-08-1.553780926441609e-16j), '10101100111': (1.060698194376196e-15+5.8862894127787846e-08j), '10101101000': (8.544617488021594e-16+4.1635256870762374e-08j), '10101101001': (4.447414244712427e-08+8.83485516373924e-16j), '10101101010': (1.979340768157783e-08-1.620743984626441e-16j), '10101101011': (1.4501247632868291e-15+6.807879750578237e-08j), '10101101100': (2.2227918447767718e-08-1.9127656821302105e-16j), '10101101101': (2.415833273319443e-15+9.677000154943088e-08j), '10101101110': (3.1401140321497214e-16+2.603591880590781e-08j), '10101101111': (3.089225350776441e-08-2.8170630693334136e-16j), '10101110000': (1.0521641587615966e-15+4.41057866940732e-08j), '10101110001': (4.608914297541763e-08+2.219545433197339e-15j), '10101110010': (1.9865531119910223e-08-1.6207407999810826e-16j), '10101110011': (1.8057784030916755e-15+7.293734537848159e-08j), '10101110100': (2.2354020921229916e-08-1.9176917825603414e-16j), '10101110101': (3.105916494691899e-15+1.0595132745428751e-07j), '10101110110': (3.249537834548258e-16+2.631404136431087e-08j), '10101110111': (3.113471856057249e-08-2.8517119777448103e-16j), '10101111000': (2.3215596846927566e-08-2.0243808679511348e-16j), '10101111001': (4.9000021340335984e-15+1.366332243419466e-07j), '10101111010': (3.743082980428423e-16+2.808404925683645e-08j), '10101111011': (3.2717174448016634e-08-3.093117484406113e-16j), '10101111100': (5.300524172808773e-16+3.5310244829274334e-08j), '10101111101': (3.945111568721517e-08-4.0191603497631204e-16j), '10101111110': (1.931317148252402e-08-1.5487767484334592e-16j), '10101111111': (8.640395424203742e-16+5.5957281911670623e-08j), '10110000000': (-2.169789275272633e-15+4.763641972796047e-08j), '10110000001': (1.7645304446739e-07+4.351299764014358e-14j), '10110000010': (1.9868270985939366e-08+2.431609361223728e-16j), '10110000011': (-3.681181627354621e-15+7.998425614376615e-08j), '10110000100': (2.2358520686781974e-08+2.9045228855475337e-16j), '10110000101': (-6.7050816720780625e-15+1.199371360039058e-07j), '10110000110': (-4.2099337009961336e-16+2.636861330709e-08j), '10110000111': (3.114321612489753e-08+4.0092406757802926e-16j), '10110001000': (2.3219183727818453e-08+3.0485109426935783e-16j), '10110001001': (-1.1697359783835059e-14+1.638868579969753e-07j), '10110001010': (-4.8584292474391e-16+2.8180930778049787e-08j), '10110001011': (3.2723549336645464e-08+4.223627469241796e-16j), '10110001100': (-6.895388959975461e-16+3.549743444945582e-08j), '10110001101': (3.9458171525016564e-08+5.311106782421725e-16j), '10110001110': (1.9316076053654144e-08+2.326220760920184e-16j), '10110001111': (-1.1268147308113922e-15+5.632830751388836e-08j), '10110010000': (2.3428775293248304e-08+2.873022185188483e-16j), '10110010001': (-1.958473810042984e-14+2.1047626618393672e-07j), '10110010010': (-5.196584470337983e-16+2.873689933606798e-08j), '10110010011': (3.312874171530013e-08+3.9128334536753395e-16j), '10110010100': (-7.537314095007633e-16+3.651386556481407e-08j), '10110010101': (4.018470553013432e-08+4.664878794463756e-16j), '10110010110': (1.9360304918541603e-08+2.343355021487638e-16j), '10110010111': (-1.2443338355363524e-15+5.831084511257157e-08j), '10110011000': (-9.68486344656967e-16+4.112979652403476e-08j), '10110011001': (4.3940875084479055e-08+4.0226415228274376e-16j), '10110011010': (1.9787173893215817e-08+2.461164954644166e-16j), '10110011011': (-1.6345931321327263e-15+6.707512293486574e-08j), '10110011100': (2.221616024838375e-08+2.9695138210749473e-16j), '10110011101': (-2.6496371770942016e-15+9.481569392469425e-08j), '10110011110': (-4.003180337022423e-16+2.6008988710853198e-08j), '10110011111': (3.086910166115484e-08+4.1406266197504796e-16j), '10110100000': (2.3414578369540165e-08+2.2641197049398165e-16j), '10110100001': (-3.164870071200604e-14+2.6084002917628296e-07j), '10110100010': (-5.344255962751726e-16+2.8884092697762805e-08j), '10110100011': (3.309931290867377e-08+3.019794639809861e-16j), '10110100100': (-7.822665366692745e-16+3.6799640505841376e-08j), '10110100101': (4.0118379362566683e-08+2.874543353791356e-16j), '10110100110': (1.9364106414339035e-08+2.344743220807043e-16j), '10110100111': (-1.2990738674938924e-15+5.8878011633686014e-08j), '10110101000': (-1.0221309032789948e-15+4.1650165916193567e-08j), '10110101001': (4.376380492771699e-08+4.250508771198238e-17j), '10110101010': (1.97934864128764e-08+2.46971705092026e-16j), '10110101011': (-1.7374697817849322e-15+6.810858595061569e-08j), '10110101100': (2.222807561931419e-08+2.979118827280954e-16j), '10110101101': (-2.8513837028469126e-15+9.682935391683149e-08j), '10110101110': (-4.0244212598179883e-16+2.603603142545765e-08j), '10110101111': (3.0892567488905804e-08+4.15041454040534e-16j), '10110110000': (-1.2190967039398698e-15+4.4134019504476994e-08j), '10110110001': (4.46636140446521e-08-6.374567351416626e-16j), '10110110010': (1.986568509575105e-08+2.4997196527437217e-16j), '10110110011': (-2.103991858500315e-15+7.299375699843919e-08j), '10110110100': (2.235432838160777e-08+3.035410304306147e-16j), '10110110101': (-3.5610847234384804e-15+1.060637356390687e-07j), '10110110110': (-4.158271672617991e-16+2.631424938564532e-08j), '10110110111': (3.1135333010351905e-08+4.2266343700300996e-16j), '10110111000': (2.3216208173952457e-08+3.3287594198979113e-16j), '10110111001': (-5.4740660515543835e-15+1.3685482545254047e-07j), '10110111010': (-4.767072087050875e-16+2.808445635951293e-08j), '10110111011': (3.271839637466326e-08+4.66755123304318e-16j), '10110111100': (-6.716625874190024e-16+3.531105451529882e-08j), '10110111101': (3.945355605375959e-08+6.199542203829448e-16j), '10110111110': (1.93131733066307e-08+2.326624085915059e-16j), '10110111111': (-1.0933371151104542e-15+5.595889830214535e-08j), '10111000000': (2.3262733990308304e-08+7.977336114034054e-17j), '10111000001': (-5.048507094956039e-14+3.2041069189573e-07j), '10111000010': (-5.390952657523284e-16+2.8919168486748267e-08j), '10111000011': (3.279554426090782e-08+1.2336226390428175e-16j), '10111000100': (-7.911135344142721e-16+3.6869181080603303e-08j), '10111000101': (3.951021821844445e-08-6.93965639899588e-17j), '10111000110': (1.936441966535896e-08+2.342690530757962e-16j), '10111000111': (-1.3185558486195067e-15+5.901678570420634e-08j), '10111001000': (-1.0389610508942437e-15+4.178484572709526e-08j), '10111001001': (4.2542908669746334e-08-6.705473924433258e-16j), '10111001010': (1.9794078073541965e-08+2.465426109395284e-16j), '10111001011': (-1.7746456856086477e-15+6.837737209850873e-08j), '10111001100': (2.2229240924600185e-08+2.9803328637223857e-16j), '10111001101': (-2.9251809255982963e-15+9.736246524883092e-08j), '10111001110': (-4.0251492118442595e-16+2.6038272423313654e-08j), '10111001111': (3.089488901277809e-08+4.147410807718782e-16j), '10111010000': (-1.2482678387008444e-15+4.437732050932015e-08j), '10111010001': (4.219305173494658e-08-2.062758953063743e-15j), '10111010010': (1.9866698026795713e-08+2.5004182067710227e-16j), '10111010011': (-2.1722117034749965e-15+7.347941139273565e-08j), '10111010100': (2.2356327395548237e-08+3.0433021532891074e-16j), '10111010101': (-3.696034892715207e-15+1.0702765280001095e-07j), '10111010110': (-4.162646225559284e-16+2.63179608879132e-08j), '10111010111': (3.1139317508818776e-08+4.2296365228016873e-16j), '10111011000': (2.3220023516024766e-08+3.3330772613364075e-16j), '10111011001': (-5.7384811966473205e-15+1.3872860359948152e-07j), '10111011010': (-4.77669424071098e-16+2.809145521471395e-08j), '10111011011': (3.2726002686351133e-08+4.663666908691917e-16j), '10111011100': (-6.735928745897602e-16+3.5324834044163014e-08j), '10111011101': (3.9468582088263844e-08+6.192991098814151e-16j), '10111011110': (1.9313267304108794e-08+2.325887506394999e-16j), '10111011111': (-1.096169398071448e-15+5.59863474492198e-08j), '10111100000': (-1.3838690570222934e-15+4.560808179822586e-08j), '10111100001': (3.7992672518571884e-08-4.9244866685846395e-15j), '10111100010': (1.98770577554992e-08+2.510742520965899e-16j), '10111100011': (-2.457246606699947e-15+7.592934454512382e-08j), '10111100100': (2.2376133328900773e-08+3.061832570653459e-16j), '10111100101': (-4.2594844980988834e-15+1.1184117139375436e-07j), '10111100110': (-4.200411040620107e-16+2.6361663012002123e-08j), '10111100111': (3.1178461124817036e-08+4.2329155246524904e-16j), '10111101000': (2.325468465787136e-08+3.385396335818713e-16j), '10111101001': (-6.819342284068327e-15+1.4779883161253165e-07j), '10111101010': (-4.839448388872183e-16+2.8167611924238693e-08j), '10111101011': (3.2794587514784784e-08+4.671436905698842e-16j), '10111101100': (-6.860617761182305e-16+3.547109469687797e-08j), '10111101101': (3.960052805473934e-08+6.210382653911139e-16j), '10111101110': (1.9315935154907988e-08+2.327674729370093e-16j), '10111101111': (-1.1199770424554308e-15+5.627577794513085e-08j), '10111110000': (2.350135278506723e-08+3.550448199847563e-16j), '10111110001': (-9.921563766272674e-15+1.789827117899641e-07j), '10111110010': (-5.167391909944782e-16+2.8713459150494492e-08j), '10111110011': (3.327395543874106e-08+4.810935895019592e-16j), '10111110100': (-7.475615975247252e-16+3.6467458147713135e-08j), '10111110101': (4.0475587947175775e-08+6.45228131738184e-16j), '10111110110': (1.936007627924956e-08+2.3421266169189663e-16j), '10111110111': (-1.2320514177410792e-15+5.821826812541253e-08j), '10111111000': (-9.582977443308308e-16+4.104034792192052e-08j), '10111111001': (4.452592182626222e-08+7.601294563242364e-16j), '10111111010': (1.978674653356072e-08+2.461145515899771e-16j), '10111111011': (-1.6105176648643723e-15+6.689666652572321e-08j), '10111111100': (2.2215321037097625e-08+2.9676306203333785e-16j), '10111111101': (-2.602186593221085e-15+9.446219840159069e-08j), '10111111110': (-3.999147302140635e-16+2.6007271020847495e-08j), '10111111111': (3.0867431064938975e-08+4.1478828300635295e-16j), '11000000000': (0.6025258484840608-3.95516952522712e-15j), '11000000001': (1.634158974911097e-14-2.4766201987087377e-09j), '11000000010': (4.2867327342472772e-16-1.9433480162592283e-10j), '11000000011': (-4.72646396700141e-10+3.1296104785143563e-16j), '11000000100': (-3.4595208588553625e-16-2.6927854462591e-10j), '11000000101': (-6.088679836179043e-10+9.071771644968255e-16j), '11000000110': (-2.3979682890094366e-10-2.6276021125205194e-16j), '11000000111': (-2.221364767737403e-16-4.6464391613751477e-10j), '11000001000': (3.406575661317495e-17-3.199167367067444e-10j), '11000001001': (-7.15830717174276e-10+6.751802798352795e-16j), '11000001010': (-2.4684026592406155e-10-1.6922472413197922e-16j), '11000001011': (-8.087608861718024e-18-5.614148296026893e-10j), '11000001100': (-2.848121301584306e-10-1.0331933215265744e-16j), '11000001101': (2.036182967969189e-16-8.496537638875809e-10j), '11000001110': (1.3747751518744328e-16-1.649369733805028e-10j), '11000001111': (-4.128403582046375e-10+4.583022554852591e-17j), '11000010000': (-2.939134697105656e-16-3.4829380561700807e-10j), '11000010001': (-8.222440363596906e-10+1.692819707598861e-15j), '11000010010': (-2.4806726258529417e-10-7.826958835254492e-18j), '11000010011': (-1.0743006990610922e-17-6.173171773143829e-10j), '11000010100': (-2.869604668299118e-10-2.3162043166284575e-16j), '11000010101': (-1.4413738095344538e-16-9.55888250008842e-10j), '11000010110': (-5.666296217746739e-17-1.6782426928914757e-10j), '11000010111': (-4.1697510563168527e-10-1.5582702563797603e-16j), '11000011000': (-3.0129825293892877e-10-5.844821150608251e-17j), '11000011001': (-4.186021239697048e-16-1.2943773331174325e-09j), '11000011010': (1.9149989362073595e-16-1.853871981641685e-10j), '11000011011': (-4.433867919983343e-10-2.5635608431503445e-16j), '11000011100': (2.9773783783321956e-16-2.5252136584137395e-10j), '11000011101': (-5.519967013062015e-10+8.782860737484835e-17j), '11000011110': (-2.3893362501464305e-10-6.959505029478972e-17j), '11000011111': (3.4667011517596386e-17-4.317247826484894e-10j), '11000100000': (-6.10129762733913e-16-3.6348732305102535e-10j), '11000100001': (-9.78571375487883e-10+1.7062836813738927e-15j), '11000100010': (-2.482296582862856e-10+2.662073834579557e-16j), '11000100011': (-6.948187507890376e-16-6.475827112646937e-10j), '11000100100': (-2.8726977763263973e-10+1.4108011634296814e-16j), '11000100101': (-2.7321806028929076e-16-1.0155049902750632e-09j), '11000100110': (2.932056478159722e-16-1.6828783006439215e-10j), '11000100111': (-4.1758407778462224e-10-6.663447542064986e-17j), '11000101000': (-3.018305857626619e-10-4.339177297198386e-16j), '11000101001': (-7.669838660845818e-16-1.407695501352826e-09j), '11000101010': (7.593125894390004e-17-1.8619558181296625e-10j), '11000101011': (-4.4443909048808257e-10+4.033008651115338e-17j), '11000101100': (4.885941581444922e-16-2.540744831966067e-10j), '11000101101': (-5.54010814438083e-10-1.804995270182783e-16j), '11000101110': (-2.38979270228428e-10+8.76433758961635e-17j), '11000101111': (-1.0920653401439471e-16-4.347977095160758e-10j), '11000110000': (-3.0592195605865205e-10+1.2808997655454752e-16j), '11000110001': (-8.915551873716945e-17-1.772087834803932e-09j), '11000110010': (-1.553835130423927e-17-1.9188539675756465e-10j), '11000110011': (-4.5238673096562194e-10+3.0925751310297833e-17j), '11000110100': (-1.0101393460073119e-16-2.6448196300899975e-10j), '11000110101': (-5.684884090654086e-10-2.1842691731991493e-16j), '11000110110': (-2.397263665059978e-10+1.1737797718529293e-16j), '11000110111': (4.926125580298951e-17-4.551025137164307e-10j), '11000111000': (-2.135930134973563e-17-3.1094653267724915e-10j), '11000111001': (-6.359079195899284e-10+1.6778790452557342e-17j), '11000111010': (-2.4672201869545367e-10-6.453467115428123e-17j), '11000111011': (-2.26208582859678e-16-5.435630478292372e-10j), '11000111100': (-2.8458807426123383e-10+7.182535963480737e-17j), '11000111101': (1.2639406600849884e-16-8.145961426134876e-10j), '11000111110': (3.098992947650842e-16-1.646093516152252e-10j), '11000111111': (-4.1239951553388326e-10-2.46289757439305e-18j), '11001000000': (7.612382030392973e-16-3.724215161867574e-10j), '11001000001': (-1.2807373035236288e-09+4.518290879701136e-15j), '11001000010': (-2.4823019709185454e-10-3.671319947534452e-16j), '11001000011': (-5.845111447059287e-17-6.654350849386981e-10j), '11001000100': (-2.872700339406884e-10+6.689933056839133e-17j), '11001000101': (-2.9127210074580736e-16-1.0510850491818477e-09j), '11001000110': (1.226910104237984e-16-1.6834986128063398e-10j), '11001000111': (-4.1758378077991624e-10-1.5012433560779067e-17j), '11001001000': (-3.018264391739886e-10-4.953072465787247e-16j), '11001001001': (-3.6522337797636453e-16-1.4779326388999441e-09j), '11001001010': (1.9474399468585563e-16-1.8631436407204372e-10j), '11001001011': (-4.444295425873005e-10-8.451119619363258e-17j), '11001001100': (6.620551711318084e-17-2.5430920673104035e-10j), '11001001101': (-5.539884984162269e-10-1.2609684791689208e-16j), '11001001110': (-2.3898123741464537e-10+1.5895354391606183e-17j), '11001001111': (-9.577370811306966e-17-4.3526549697513176e-10j), '11001010000': (-3.058916053381286e-10-1.8771655620262994e-16j), '11001010001': (-4.73507900794919e-16-1.9066211270894873e-09j), '11001010010': (-1.2419334080893854e-16-1.9209190893144127e-10j), '11001010011': (-4.5232394385297247e-10-1.84415881237501e-16j), '11001010100': (-3.271966322842431e-16-2.6489024416830185e-10j), '11001010101': (-5.683568169668048e-10-4.232569185680978e-17j), '11001010110': (-2.3972978588983306e-10-8.832515142423125e-17j), '11001010111': (-8.544715039757678e-17-4.559162234594638e-10j), '11001011000': (-4.0437443553160616e-16-3.1172930062255087e-10j), '11001011001': (-6.355963629057798e-10-2.727540728926705e-16j), '11001011010': (-2.467285188159798e-10-3.5871768194552196e-16j), '11001011011': (1.2805423910798627e-16-5.451244075787763e-10j), '11001011100': (-2.8460020556978053e-10-2.444898120386487e-17j), '11001011101': (1.7004460391273654e-16-8.176862038998198e-10j), '11001011110': (1.4418284757558687e-16-1.646261174916456e-10j), '11001011111': (-4.1242365322342734e-10+1.4549837829623478e-16j), '11001100000': (-3.0663613419486327e-10-6.637007992166516e-16j), '11001100001': (-7.50560184630885e-16-2.315755252459784e-09j), '11001100010': (1.806608759767588e-16-1.9363406413949398e-10j), '11001100011': (-4.5379429172719854e-10+1.6116646356730875e-16j), '11001100100': (-3.4434872598682436e-16-2.6788426600928244e-10j), '11001100101': (-5.711696710274885e-10+1.126261984453503e-16j), '11001100110': (-2.397940540561465e-10+2.2908426609394437e-16j), '11001100111': (-1.4809276266549227e-16-4.6185767727970137e-10j), '11001101000': (-2.731481388930574e-16-3.1717911308015513e-10j), '11001101001': (-6.404632087600837e-10-1.053304575456427e-16j), '11001101010': (-2.468362544497584e-10+7.973365784741824e-17j), '11001101011': (-3.559112715138782e-17-5.559469739487123e-10j), '11001101100': (-2.848038655319043e-10-1.9272191627126212e-16j), '11001101101': (1.5134609054906642e-17-8.387711164119094e-10j), '11001101110': (1.3545455240045269e-16-1.649103425032198e-10j), '11001101111': (-4.1282450290268695e-10+1.139246970712837e-16j), '11001110000': (-2.2611127043728513e-16-3.431363738823262e-10j), '11001110001': (-6.716063050199722e-10-2.72669424683004e-16j), '11001110010': (-2.480621248727744e-10-1.2637252300063604e-16j), '11001110011': (3.285709767549027e-16-6.070148191034802e-10j), '11001110100': (-2.869514323542249e-10-3.0066810225062545e-16j), '11001110101': (-2.655203134763668e-16-9.353723514054338e-10j), '11001110110': (1.4966532813572602e-16-1.6777974144838453e-10j), '11001110111': (-4.1695594432915136e-10-2.7779295704702816e-17j), '11001111000': (-3.012822317470615e-10-3.121750954715759e-16j), '11001111001': (2.595173441659228e-16-1.2540014399243841e-09j), '11001111010': (3.4078466689188876e-17-1.8530268136046912e-10j), '11001111011': (-4.433555458428769e-10-1.0250703162105779e-16j), '11001111100': (2.9061775377721944e-16-2.5235440090737755e-10j), '11001111101': (-5.519368951939121e-10-3.9516085212203795e-17j), '11001111110': (-2.3893156076985275e-10+1.9161502745555583e-16j), '11001111111': (1.4689446657931323e-16-4.3139177762948427e-10j), '11010000000': (2.480290706949316e-16-3.8071935322193704e-10j), '11010000001': (-2.080599999426598e-09+3.5168833741327522e-15j), '11010000010': (-2.4817322744460003e-10+7.079765884185587e-17j), '11010000011': (-2.1976476226509988e-16-6.820273747554859e-10j), '11010000100': (-2.8715498782879113e-10-1.7880126397056752e-16j), '11010000101': (-3.9445387106299956e-17-1.0842565590078094e-09j), '11010000110': (3.164044312857906e-16-1.683563459662659e-10j), '11010000111': (-4.173555042356919e-10+1.6418910368981423e-16j), '11010001000': (-3.0159777880777063e-10-5.845590747171708e-16j), '11010001001': (-1.6671753896508561e-16-1.5441730299896575e-09j), '11010001010': (3.806148746654926e-16-1.8632733573118828e-10j), '11010001011': (-4.439718941368526e-10-6.117957539504105e-17j), '11010001100': (6.936798223084515e-17-2.543343022720034e-10j), '11010001101': (-5.530730548270915e-10-6.61215792642524e-17j), '11010001110': (-2.3898143429785375e-10+3.5779648278254933e-16j), '11010001111': (-2.4149026793621903e-16-4.3531664239738213e-10j), '11010010000': (-3.0543173985503675e-10-2.6257078050697694e-16j), '11010010001': (3.33169601963993e-16-2.0383573423157377e-09j), '11010010010': (2.7953138443099283e-16-1.9211577267400245e-10j), '11010010011': (-4.5140470593829473e-10+3.111237357039806e-16j), '11010010100': (1.1421762895206311e-16-2.6493845500452515e-10j), '11010010101': (-5.665173473664901e-10+9.983289831657966e-17j), '11010010110': (-2.3973005708085265e-10-7.691494749209739e-18j), '11010010111': (-1.3787545965031434e-16-4.5601238860725683e-10j), '11010011000': (-4.5834631551908065e-17-3.118242808441473e-10j), '11010011001': (-6.319136226087435e-10-3.1383296055620854e-16j), '11010011010': (-2.4672869383289485e-10+5.367030070241032e-18j), '11010011011': (-4.241813510637626e-18-5.453143895523766e-10j), '11010011100': (-2.8460126663509446e-10-7.222500522045754e-17j), '11010011101': (-2.572464805256912e-16-8.180637737102841e-10j), '11010011110': (1.0793788836908009e-16-1.6462667963704987e-10j), '11010011111': (-4.1242581589867364e-10+1.3061176377923582e-16j), '11010100000': (-3.0570106254534673e-10-4.183750228637722e-16j), '11010100001': (3.8316832533005366e-16-2.57475767434068e-09j), '11010100010': (1.8550215686097648e-16-1.9367388290798532e-10j), '11010100011': (-4.5192574603821e-10+3.7675223066638557e-16j), '11010100100': (-2.499697550413131e-16-2.67963971190212e-10j), '11010100101': (-5.674319646783045e-10+1.3819827889140674e-16j), '11010100110': (-2.397949537130188e-10+2.3966296255452557e-17j), '11010100111': (-1.5870005253033918e-16-4.6201837523471754e-10j), '11010101000': (1.4200534200144283e-16-3.1733759374563757e-10j), '11010101001': (-6.329798811294491e-10-1.4408055610105543e-16j), '11010101010': (-2.468372819775121e-10+1.2877080652470225e-16j), '11010101011': (-3.341789841766576e-17-5.562638437791517e-10j), '11010101100': (-2.848062346222164e-10-3.5705943988624984e-17j), '11010101101': (-1.9229937106923282e-16-8.394023865803365e-10j), '11010101110': (-1.9764226130147552e-17-1.6491119300896942e-10j), '11010101111': (-4.128282975202986e-10-2.86476094707076e-16j), '11010110000': (3.436218846573207e-16-3.434362996558421e-10j), '11010110001': (-6.565791354756255e-10+1.3787914972887634e-16j), '11010110010': (-2.480640550453771e-10+1.0318853929124109e-16j), '11010110011': (-2.0318321137524458e-16-6.076145597721642e-10j), '11010110100': (-2.869552176301745e-10-3.546300394431265e-17j), '11010110101': (-2.990300159785548e-16-9.365678619968659e-10j), '11010110110': (2.017468548542725e-16-1.6778162022636867e-10j), '11010110111': (-4.169637022413845e-10+4.1782313603701247e-17j), '11010111000': (-3.012898997046297e-10+3.7897435696709717e-16j), '11010111001': (-6.823931024055507e-17-1.2563579847063186e-09j), '11010111010': (-1.6212313334000925e-16-1.853068151703771e-10j), '11010111011': (-4.433708151708863e-10-2.304512001055277e-16j), '11010111100': (-8.264415799254635e-17-2.523628849207408e-10j), '11010111101': (-5.519675554961732e-10-2.9927496616869085e-16j), '11010111110': (-2.3893142991575836e-10+8.239588080443841e-17j), '11010111111': (-3.042451355377596e-17-4.314089493778718e-10j), '11011000000': (-3.0418204982977844e-10-7.756033095191439e-16j), '11011000001': (5.54755676790646e-17-3.2102257898041555e-09j), '11011000010': (-2.3617905094723183e-16-1.9404739342906647e-10j), '11011000011': (-4.488890157216896e-10-8.590559114752426e-18j), '11011000100': (5.399291829173278e-16-2.6870400711601147e-10j), '11011000101': (-5.61347999860172e-10+1.1364728866287788e-16j), '11011000110': (-2.3979986438141005e-10-6.887566753008483e-17j), '11011000111': (-2.1605915611421708e-16-4.6349367466647044e-10j), '11011001000': (8.332273338500633e-17-3.187697384802433e-10j), '11011001001': (-6.20739092237291e-10+9.105983680524071e-17j), '11011001010': (-2.4684675096403137e-10-2.2900277336505724e-16j), '11011001011': (1.5512354732694028e-16-5.591221750437583e-10j), '11011001100': (-2.848244470361987e-10-2.1397587269970796e-16j), '11011001101': (-2.708960836080459e-16-8.450715210400337e-10j), '11011001110': (-7.036601267560983e-17-1.649353816126134e-10j), '11011001111': (-4.128659255355982e-10-2.592937060386999e-17j), '11011010000': (-1.956967289981579e-16-3.460237805681065e-10j), '11011010001': (-6.316421190816929e-10-3.5099729333807604e-16j), '11011010010': (-2.480803676377793e-10-9.390235806501943e-17j), '11011010011': (3.1031108459643524e-16-6.127793202072751e-10j), '11011010100': (-2.869872389752505e-10+2.627820524649879e-16j), '11011010101': (-1.975437403294336e-16-9.468195631805441e-10j), '11011010110': (4.837404827795137e-16-1.6782107273871346e-10j), '11011010111': (-4.17027090946976e-10+1.5789823631267084e-16j), '11011011000': (-3.013506266044604e-10+2.3913516820321177e-17j), '11011011001': (2.986088257694547e-16-1.2762875366779907e-09j), '11011011010': (3.49353892120377e-16-1.8538139990364666e-10j), '11011011011': (-4.4349151790269274e-10-2.9111732877792545e-16j), '11011011100': (1.6380626030082942e-16-2.5250933174950566e-10j), '11011011101': (-5.522059359126354e-10+1.0142233750875236e-17j), '11011011110': (-2.389333272319627e-10-2.2169897676015913e-17j), '11011011111': (2.8766257497056913e-17-4.3170053751541e-10j), '11011100000': (1.2621327203714527e-16-3.5908592771804274e-10j), '11011100001': (-5.938852877666656e-10-3.686422324682535e-16j), '11011100010': (-2.4825639604390994e-10-9.291451263051363e-17j), '11011100011': (1.839449825659171e-16-6.387821445303854e-10j), '11011100100': (-2.873236983651737e-10-4.5027941702392836e-18j), '11011100101': (3.920557532335498e-16-9.979141733049984e-10j), '11011100110': (-7.99408767949111e-18-1.6828227828205339e-10j), '11011100111': (-4.1769163563579353e-10+9.262013451490605e-17j), '11011101000': (-3.019379367768696e-10-1.2414003135782967e-16j), '11011101001': (2.8350066702955595e-16-1.3725918880824312e-09j), '11011101010': (-2.808562427310336e-17-1.8618567350406022e-10j), '11011101011': (-4.4465364176728817e-10-5.463287541377346e-17j), '11011101100': (-1.6653695061273775e-16-2.5405453426365054e-10j), '11011101101': (-5.544397975584058e-10+1.930411010035276e-17j), '11011101110': (-2.389791828446639e-10-1.5682179560818466e-16j), '11011101111': (1.2119481625831265e-16-4.347582992662107e-10j), '11011110000': (-3.061382485072934e-10-8.914761683587409e-17j), '11011110001': (1.8152654421753936e-17-1.7024531226819484e-09j), '11011110010': (3.9095681531666546e-16-1.9186671416808515e-10j), '11011110011': (-4.528181924477289e-10+1.1058710807272033e-16j), '11011110100': (3.017198806943953e-17-2.6444506016264916e-10j), '11011110101': (-5.693523330655725e-10+1.4380572636358576e-16j), '11011110110': (-2.3972620241601144e-10+7.208674245928309e-17j), '11011110111': (1.4336155778792727e-16-4.550283773537203e-10j), '11011111000': (2.0002403572223185e-16-3.108735190281709e-10j), '11011111001': (-6.376379927906683e-10-2.0425641382919133e-16j), '11011111010': (-2.467220639019366e-10-1.3780740305522381e-16j), '11011111011': (8.657921179273853e-17-5.434170776088368e-10j), '11011111100': (-2.8458764401869553e-10-1.5671124222784566e-17j), '11011111101': (-9.015856249744462e-18-8.143057289511324e-10j), '11011111110': (-9.21315122062285e-18-1.6460846728865966e-10j), '11011111111': (-4.1239857229075504e-10-2.116094438105583e-16j), '11100000000': (0.000874691444256998-9.334980705100193e-17j), '11100000001': (-1.6604510214198993e-14+2.0577488532999063e-06j), '11100000010': (-9.820619104474566e-19+2.3622331026158198e-07j), '11100000011': (2.857171172111039e-07-1.9455163533108634e-15j), '11100000100': (7.005716862511712e-18+3.013213825135028e-07j), '11100000101': (3.58598809971006e-07-3.802767598648423e-15j), '11100000110': (1.5802643065283782e-07+3.680696968998837e-17j), '11100000111': (1.0385874630423902e-15+4.825028903552838e-07j), '11100001000': (3.409416138794926e-17+3.418742455437748e-07j), '11100001001': (4.19553143630932e-07-7.46754760095849e-15j), '11100001010': (1.6153021813987377e-07+4.5063357168900655e-17j), '11100001011': (1.5512159849458699e-15+5.597668277176926e-07j), '11100001100': (1.8139794761132969e-07+6.561126473854671e-17j), '11100001101': (2.746690069915534e-15+7.980589329376252e-07j), '11100001110': (-1.411416293965761e-17+2.1249418704457036e-07j), '11100001111': (2.5210624121022185e-07-1.0171712275878003e-16j), '11100010000': (9.55174967119237e-17+3.638895632612055e-07j), '11100010001': (4.89398447500004e-07-1.4875904843965314e-14j), '11100010010': (1.621176704178741e-07+5.098182783427267e-17j), '11100010011': (2.1506149325429945e-15+6.031205764952702e-07j), '11100010100': (1.8242470200908588e-07+7.753586736188666e-17j), '11100010101': (3.9347168294547014e-15+8.803664610570808e-07j), '11100010110': (-1.405724629606906e-17+2.1477776351429713e-07j), '11100010111': (2.540802254811633e-07-7.91307708445624e-17j), '11100011000': (1.8945246365545708e-07+1.1130785844485876e-16j), '11100011001': (6.798019381056613e-15+1.1459706200750512e-06j), '11100011010': (-1.5993603318161794e-17+2.2925316007507673e-07j), '11100011011': (2.6698746312320755e-07-4.545570547704681e-17j), '11100011100': (-2.311186306609502e-17+2.882878598417276e-07j), '11100011101': (3.219295700837398e-07-8.229983873759596e-19j), '11100011110': (1.5761157498741935e-07+3.302972552338132e-17j), '11100011111': (6.800419237154421e-16+4.569113977342715e-07j), '11100100000': (2.141436007070514e-16+3.755635913085762e-07j), '11100100001': (6.029127911392034e-07-2.9717547602260886e-14j), '11100100010': (1.6219151206770946e-07+5.281486007169018e-17j), '11100100011': (2.748552298319852e-15+6.263736784376308e-07j), '11100100100': (1.825649245292893e-07+8.422576004908072e-17j), '11100100101': (5.158677426533916e-15+9.261649949206851e-07j), '11100100110': (-1.1599408146043298e-17+2.151359110137227e-07j), '11100100111': (2.5435684621244735e-07-4.109866725804419e-17j), '11100101000': (1.8969246112788642e-07+1.268125318465527e-16j), '11100101001': (9.307598300437389e-15+1.23300018909891e-06j), '11100101010': (-1.3683744470999317e-17+2.2987762128740237e-07j), '11100101011': (2.6746143380583056e-07+1.7554718127175972e-17j), '11100101100': (-1.9203388349667663e-17+2.894873643433556e-07j), '11100101101': (3.228348362197075e-07+1.1555329345561572e-16j), '11100101110': (1.5763336963121764e-07+3.0841865890403065e-17j), '11100101111': (6.378622505107993e-16+4.592851721791634e-07j), '11100110000': (1.9162048812593195e-07+1.845242415875527e-16j), '11100110001': (1.6146674718406178e-14+1.513891782202016e-06j), '11100110010': (-1.3813651531839545e-17+2.343388517672302e-07j), '11100110011': (2.7120348157995877e-07+1.3657354100736426e-16j), '11100110100': (-1.967318723292838e-17+2.97631793816283e-07j), '11100110101': (3.296359701446496e-07+3.515961766252084e-16j), '11100110110': (1.5799364599918356e-07+3.259824164609406e-17j), '11100110111': (7.205362131132857e-16+4.751640327191174e-07j), '11100111000': (-2.3850409621651767e-17+3.3497771746026534e-07j), '11100111001': (3.6201140800813456e-07+8.277314883712084e-16j), '11100111010': (1.614757148834206e-07+3.751739872216321e-17j), '11100111011': (9.876582968346351e-16+5.460416234994439e-07j), '11100111100': (1.812950093106954e-07+5.370674606047955e-17j), '11100111101': (1.6615616404324273e-15+7.711091014504842e-07j), '11100111110': (-1.099233036832328e-17+2.12240394651592e-07j), '11100111111': (2.519034823858686e-07-1.0045600319688169e-16j), '11101000000': (3.4563318379054634e-16+3.824072983018573e-07j), '11101000001': (8.307092458193964e-07-5.216174189753149e-14j), '11101000010': (1.621852058580591e-07+3.989325996476252e-17j), '11101000011': (2.677366775929874e-15+6.400489321320984e-07j), '11101000100': (1.8255203025112622e-07+6.462943443867077e-17j), '11101000101': (5.147072783988956e-15+9.534201545441259e-07j), '11101000110': (-1.376163841492221e-18+2.1518374636267037e-07j), '11101000111': (2.5433091574290455e-07+2.1792033533040112e-17j), '11101001000': (1.8966471409389796e-07+1.0018285492372687e-16j), '11101001001': (9.673472805575345e-15+1.2868009768882477e-06j), '11101001010': (-1.348615418371755e-18+2.2996884451658179e-07j), '11101001011': (2.6740568065690474e-07+9.350469496634126e-17j), '11101001100': (-1.7414865046650406e-18+2.896675304581834e-07j), '11101001101': (3.227213352304078e-07+2.283218337482349e-16j), '11101001110': (1.576343734035532e-07+2.1840148974911096e-17j), '11101001111': (3.902207334362167e-16+4.5964435679102525e-07j), '11101010000': (1.9155432379250467e-07+1.522464761805413e-16j), '11101010001': (1.7795147052825566e-14+1.6169327997610898e-06j), '11101010010': (-2.285665468606526e-19+2.3449726832664058e-07j), '11101010011': (2.7107074489140175e-07+2.3138712687034002e-16j), '11101010100': (-8.549738811348094e-21+2.9794504154891383e-07j), '11101010101': (3.293673439883767e-07+5.02291411224527e-16j), '11101010110': (1.5799523152855134e-07+2.278490173100996e-17j), '11101010111': (4.44063798861645e-16+4.757887248889861e-07j), '11101011000': (2.5390341989539687e-18+3.355788467997132e-07j), '11101011001': (3.6145177926895397e-07+1.0613263404441177e-15j), '11101011010': (1.6147864805397258e-07+2.6578802006431375e-17j), '11101011011': (6.123319495616157e-16+5.472405528376165e-07j), '11101011100': (1.8130075236382502e-07+3.8547033443999816e-17j), '11101011101': (1.0345531245239568e-15+7.734811882242879e-07j), '11101011110': (-1.7420953095958797e-18+2.1225335245155474e-07j), '11101011111': (2.5191490631202644e-07-4.775360660127422e-17j), '11101100000': (1.9180524273275787e-07+2.247402674273334e-16j), '11101100001': (3.221658411135212e-14+1.930650510275165e-06j), '11101100010': (3.693791568967796e-19+2.3568606826203075e-07j), '11101100011': (2.7156417330727944e-07+4.649051570254004e-16j), '11101100100': (1.772098804774403e-18+3.002524482239105e-07j), '11101100101': (3.302935491677949e-07+9.693564956479809e-16j), '11101100110': (1.5802610588087533e-07+2.3030005272676774e-17j), '11101100111': (4.712700206714203e-16+4.8036780985423e-07j), '11101101000': (6.060308979367705e-18+3.3977665380723253e-07j), '11101101001': (3.6294407138256713e-07+1.990109878509279e-15j), '11101101010': (1.6152986672682728e-07+2.7656108801330637e-17j), '11101101011': (6.642152454448935e-16+5.555768758017673e-07j), '11101101100': (1.8139739888820106e-07+4.0185684854912265e-17j), '11101101101': (1.1360479739259765e-15+7.897198104343362e-07j), '11101101110': (-1.984148209163597e-18+2.1247370732739454e-07j), '11101101111': (2.5210522162945414e-07-4.511224685182499e-17j), '11101110000': (1.4490695554491748e-17+3.599381327008614e-07j), '11101110001': (3.761236834494875e-07+3.9361317847582e-15j), '11101110010': (1.6211845063903282e-07+3.110636516307302e-17j), '11101110011': (8.398559312130962e-16+5.952264716157284e-07j), '11101110100': (1.8242649407070823e-07+4.713049475456047e-17j), '11101110101': (1.4774685849371414e-15+8.646466960878642e-07j), '11101110110': (-2.0337988982514798e-18+2.1474340755634908e-07j), '11101110111': (2.5408392646431224e-07-3.798754171255875e-17j), '11101111000': (1.8945763282949242e-07+6.462797198334777e-17j), '11101111001': (2.3663797410762008e-15+1.1150352581806032e-06j), '11101111010': (-1.8072771418650583e-18+2.2918807304280436e-07j), '11101111011': (2.6699801268098806e-07-2.5226712429486897e-17j), '11101111100': (-3.102880209139515e-18+2.881595489761306e-07j), '11101111101': (3.2195228665235923e-07-9.674770618869216e-18j), '11101111110': (1.5761076032520726e-07+2.1131122841055143e-17j), '11101111111': (3.733987252781953e-16+4.5665571456340267e-07j), '11110000000': (-1.0087094346191789e-16+3.88750903045125e-07j), '11110000001': (1.4399968769498571e-06+2.864306470932865e-14j), '11110000010': (1.6214080869270883e-07-3.1183345899599656e-17j), '11110000011': (-2.07561522079153e-15+6.527348841330269e-07j), '11110000100': (1.8246321330094098e-07-5.3847499113511576e-17j), '11110000101': (-3.904206914452838e-15+9.78782047776167e-07j), '11110000110': (3.234331781619502e-17+2.151887569843027e-07j), '11110000111': (2.5415327057134155e-07+9.495880569131558e-17j), '11110001000': (1.894869004895614e-07-9.416655857039189e-17j), '11110001001': (-7.067571231726721e-15+1.3374466423213832e-06j), '11110001010': (3.8708604978688574e-17+2.2997870198401257e-07j), '11110001011': (2.6705003093765473e-07+7.39659212742303e-17j), '11110001100': (5.62079218571582e-17+2.896871630586802e-07j), '11110001101': (3.2200985578061176e-07+5.749197748308141e-17j), '11110001110': (1.576344633757529e-07-1.0528513655252546e-17j), '11110001111': (-4.662048562910682e-16+4.596835809061252e-07j), '11110010000': (1.9119732869188495e-07-1.65900289948256e-16j), '11110010001': (-1.2353423058464124e-14+1.7176532335227656e-06j), '11110010010': (4.334208034096151e-17+2.3451584540605005e-07j), '11110010011': (2.7035671097071196e-07+5.601541376755995e-18j), '11110010100': (6.594854267023153e-17+2.9798204535248877e-07j), '11110010101': (3.2793892775808536e-07-7.986539987273809e-17j), '11110010110': (1.5799540573393935e-07-1.1243191087053462e-17j), '11110010111': (-5.252431056542521e-16+4.758626573578592e-07j), '11110011000': (9.277328201638717e-17+3.3565169527973615e-07j), '11110011001': (3.585921949206968e-07-3.3356467159295687e-16j), '11110011010': (1.6147899359576275e-07-1.3119051427866517e-17j), '11110011011': (-7.171066825889714e-16+5.473861030568242e-07j), '11110011100': (1.813014421045654e-07-1.7472919890761828e-17j), '11110011101': (-1.2058418741231751e-15+7.737711239198892e-07j), '11110011110': (2.95164843210767e-17+2.1225393567003556e-07j), '11110011111': (2.5191628520852603e-07+1.286856724175117e-16j), '11110100000': (1.9108146511146073e-07-2.8870182300453907e-16j), '11110100001': (-2.1077407823188538e-14+2.1286616819698594e-06j), '11110100010': (4.8646948427941687e-17+2.3571705968021483e-07j), '11110100011': (2.701165368988362e-07-1.2130299942369221e-16j), '11110100100': (7.582751440383804e-17+3.0031419493824314e-07j), '11110100101': (3.273976304299783e-07-3.3378459575677757e-16j), '11110100110': (1.580264288938913e-07-1.147370978015974e-17j), '11110100111': (-5.527831378545844e-16+4.804911852117458e-07j), '11110101000': (1.1109857513243794e-16+3.3989832115566704e-07j), '11110101001': (3.5714711654262007e-07-8.389111718395525e-16j), '11110101010': (1.615305086501058e-07-1.2953363842449695e-17j), '11110101011': (-7.685558476170018e-16+5.558199794932141e-07j), '11110101100': (1.813986807688293e-07-1.79170761750334e-17j), '11110101101': (-1.3059573303705912e-15+7.902041837325802e-07j), '11110101110': (2.9497538576326785e-17+2.1247462561993539e-07j), '11110101111': (2.5210778449503703e-07+1.2748542011380745e-16j), '11110110000': (1.573520135922309e-16+3.601685318592126e-07j), '11110110001': (3.6449016228857386e-07-1.878732100141602e-15j), '11110110010': (1.6211970658626244e-07-1.450649139546906e-17j), '11110110011': (-9.516816708958622e-16+5.95686843028436e-07j), '11110110100': (1.8242900235922287e-07-2.0788934765254206e-17j), '11110110101': (-1.6606418685308276e-15+8.655640498392856e-07j), '11110110110': (3.0947936914711965e-17+2.1474510437969688e-07j), '11110110111': (2.5408894132304645e-07+1.27022847480378e-16j), '11110111000': (1.8946262070959553e-07-2.7881320303626775e-17j), '11110111001': (-2.6114376753127598e-15+1.116843720740148e-06j), '11110111010': (3.5749171122655555e-17+2.291913944098598e-07j), '11110111011': (2.670079849483145e-07+1.38241944450549e-16j), '11110111100': (5.115879816324471e-17+2.881661553571128e-07j), '11110111101': (3.2197220232128903e-07+1.8638245320281633e-16j), '11110111110': (1.5761077470199864e-07-1.0616360236305678e-17j), '11110111111': (-4.494795025332624e-16+4.566689092552651e-07j), '11111000000': (1.8984228855447608e-07-4.79435735920307e-16j), '11111000001': (-3.617826170835035e-14+2.6148060149606153e-06j), '11111000010': (5.384369408269383e-17+2.3600330579898576e-07j), '11111000011': (2.6763753005329586e-07-3.3549897058968557e-16j), '11111000100': (8.627244972999823e-17+3.0088170090845195e-07j), '11111000101': (3.2243452567016295e-07-7.610056870927526e-16j), '11111000110': (1.5802898525677843e-07-1.1308081751747022e-17j), '11111000111': (-5.602800147124954e-16+4.816236913772964e-07j), '11111001000': (1.3242936613847359e-16+3.4099741470159303e-07j), '11111001001': (3.4718358004846736e-07-1.6926615271169428e-15j), '11111001010': (1.6153533704600715e-07-1.3061492892122627e-17j), '11111001011': (-7.840263617681198e-16+5.580134870188332e-07j), '11111001100': (1.814081905354675e-07-1.7785005209710735e-17j), '11111001101': (-1.3369841736982958e-15+7.945547937909216e-07j), '11111001110': (2.990195048652641e-17+2.124929139377352e-07j), '11111001111': (2.5212672984885646e-07+1.2693580822760271e-16j), '11111010000': (1.9917384184643834e-16+3.621540600545882e-07j), '11111010001': (3.4432830665048685e-07-3.5771029337255044e-15j), '11111010010': (1.6212797286493757e-07-1.4636795503003314e-17j), '11111010011': (-9.797941650196404e-16+5.996501668970731e-07j), '11111010100': (1.824453158111386e-07-2.028156202984888e-17j), '11111010101': (-1.7164710806337794e-15+8.734303760324308e-07j), '11111010110': (3.103208434406576e-17+2.1477539317313172e-07j), '11111010111': (2.5412145776806284e-07+1.2616619276823848e-16j), '11111011000': (1.8949375675690221e-07-2.687806933460816e-17j), '11111011001': (-2.7209385213135495e-15+1.1321352319326628e-06j), '11111011010': (3.6046777472162334e-17+2.2924851060256755e-07j), '11111011011': (2.670700580508838e-07+1.3588919794298688e-16j), '11111011100': (5.112838438648236e-17+2.8827860721564904e-07j), '11111011101': (3.220948258160728e-07+1.8185023136496479e-16j), '11111011110': (1.5761154179464245e-07-1.0719850457103412e-17j), '11111011111': (-4.512477896897741e-16+4.568929160334383e-07j), '11111100000': (2.972970236623531e-16+3.7219804518233794e-07j), '11111100001': (3.100496306121374e-07-7.135904622129726e-15j), '11111100010': (1.6221251621938862e-07-1.4618762965649658e-17j), '11111100011': (-1.1127171131383468e-15+6.196435603395891e-07j), '11111100100': (1.8260694745925714e-07-2.0308164158348586e-17j), '11111100101': (-1.9793964866783982e-15+9.127124972359715e-07j), '11111100110': (3.115879517901908e-17+2.1513203709079036e-07j), '11111100111': (2.5444089959173925e-07+1.217253776967965e-16j), '11111101000': (1.897766182690942e-07-2.7177210931331837e-17j), '11111101001': (-3.222619168843547e-15+1.2061554705784727e-06j), '11111101010': (3.684075174620503e-17+2.298700096193184e-07j), '11111101011': (2.67629762524575e-07+1.2831633296528431e-16j), '11111101100': (5.295002138378134e-17+2.89472209887636e-07j), '11111101101': (3.2317160537957405e-07+1.67140630733167e-16j), '11111101110': (1.5763331354220886e-07-1.083399476419083e-17j), '11111101111': (-4.634659223165622e-16+4.592548980570057e-07j), '11111110000': (1.9178962250026828e-07-3.330625531088025e-17j), '11111110001': (-4.704733385389243e-15+1.4606406166854847e-06j), '11111110010': (3.991836655071473e-17+2.3432455499577513e-07j), '11111110011': (2.7154177739557915e-07+1.1409429243886e-16j), '11111110100': (5.919757096660655e-17+2.9760332421068595e-07j), '11111110101': (3.3031277350459934e-07+1.377754013501793e-16j), '11111110110': (1.57993539866393e-07-1.1467376885390034e-17j), '11111110111': (-5.196331932096971e-16+4.751071558969868e-07j), '11111111000': (7.862641566403167e-17+3.3492172411069587e-07j), '11111111001': (3.633666692307052e-07+1.0121711523954888e-16j), '11111111010': (1.6147550602271167e-07-1.2668694597723246e-17j), '11111111011': (-7.066031828754425e-16+5.459297575789497e-07j), '11111111100': (1.8129459350804728e-07-1.7349623657377124e-17j), '11111111101': (-1.1844640330838975e-15+7.708863207973585e-07j), '11111111110': (2.9546388554581716e-17+2.1223991795908094e-07j), '11111111111': (2.5190265190540597e-07+1.2946797351875004e-16j)} parsed_state_vector_states={'00000000000': {'res': 0, 'phase': 0.0, 'indicator': 0}, '00000000001': {'res': 0, 'phase': 0.00390625, 'indicator': 0}, '00000000010': {'res': 0, 'phase': 0.0078125, 'indicator': 0}, '00000000011': {'res': 0, 'phase': 0.01171875, 'indicator': 0}, '00000000100': {'res': 0, 'phase': 0.015625, 'indicator': 0}, '00000000101': {'res': 0, 'phase': 0.01953125, 'indicator': 0}, '00000000110': {'res': 0, 'phase': 0.0234375, 'indicator': 0}, '00000000111': {'res': 0, 'phase': 0.02734375, 'indicator': 0}, '00000001000': {'res': 0, 'phase': 0.03125, 'indicator': 0}, '00000001001': {'res': 0, 'phase': 0.03515625, 'indicator': 0}, '00000001010': {'res': 0, 'phase': 0.0390625, 'indicator': 0}, '00000001011': {'res': 0, 'phase': 0.04296875, 'indicator': 0}, '00000001100': {'res': 0, 'phase': 0.046875, 'indicator': 0}, '00000001101': {'res': 0, 'phase': 0.05078125, 'indicator': 0}, '00000001110': {'res': 0, 'phase': 0.0546875, 'indicator': 0}, '00000001111': {'res': 0, 'phase': 0.05859375, 'indicator': 0}, '00000010000': {'res': 0, 'phase': 0.0625, 'indicator': 0}, '00000010001': {'res': 0, 'phase': 0.06640625, 'indicator': 0}, '00000010010': {'res': 0, 'phase': 0.0703125, 'indicator': 0}, '00000010011': {'res': 0, 'phase': 0.07421875, 'indicator': 0}, '00000010100': {'res': 0, 'phase': 0.078125, 'indicator': 0}, '00000010101': {'res': 0, 'phase': 0.08203125, 'indicator': 0}, '00000010110': {'res': 0, 'phase': 0.0859375, 'indicator': 0}, '00000010111': {'res': 0, 'phase': 0.08984375, 'indicator': 0}, '00000011000': {'res': 0, 'phase': 0.09375, 'indicator': 0}, '00000011001': {'res': 0, 'phase': 0.09765625, 'indicator': 0}, '00000011010': {'res': 0, 'phase': 0.1015625, 'indicator': 0}, '00000011011': {'res': 0, 'phase': 0.10546875, 'indicator': 0}, '00000011100': {'res': 0, 'phase': 0.109375, 'indicator': 0}, '00000011101': {'res': 0, 'phase': 0.11328125, 'indicator': 0}, '00000011110': {'res': 0, 'phase': 0.1171875, 'indicator': 0}, '00000011111': {'res': 0, 'phase': 0.12109375, 'indicator': 0}, '00000100000': {'res': 0, 'phase': 0.125, 'indicator': 0}, '00000100001': {'res': 0, 'phase': 0.12890625, 'indicator': 0}, '00000100010': {'res': 0, 'phase': 0.1328125, 'indicator': 0}, '00000100011': {'res': 0, 'phase': 0.13671875, 'indicator': 0}, '00000100100': {'res': 0, 'phase': 0.140625, 'indicator': 0}, '00000100101': {'res': 0, 'phase': 0.14453125, 'indicator': 0}, '00000100110': {'res': 0, 'phase': 0.1484375, 'indicator': 0}, '00000100111': {'res': 0, 'phase': 0.15234375, 'indicator': 0}, '00000101000': {'res': 0, 'phase': 0.15625, 'indicator': 0}, '00000101001': {'res': 0, 'phase': 0.16015625, 'indicator': 0}, '00000101010': {'res': 0, 'phase': 0.1640625, 'indicator': 0}, '00000101011': {'res': 0, 'phase': 0.16796875, 'indicator': 0}, '00000101100': {'res': 0, 'phase': 0.171875, 'indicator': 0}, '00000101101': {'res': 0, 'phase': 0.17578125, 'indicator': 0}, '00000101110': {'res': 0, 'phase': 0.1796875, 'indicator': 0}, '00000101111': {'res': 0, 'phase': 0.18359375, 'indicator': 0}, '00000110000': {'res': 0, 'phase': 0.1875, 'indicator': 0}, '00000110001': {'res': 0, 'phase': 0.19140625, 'indicator': 0}, '00000110010': {'res': 0, 'phase': 0.1953125, 'indicator': 0}, '00000110011': {'res': 0, 'phase': 0.19921875, 'indicator': 0}, '00000110100': {'res': 0, 'phase': 0.203125, 'indicator': 0}, '00000110101': {'res': 0, 'phase': 0.20703125, 'indicator': 0}, '00000110110': {'res': 0, 'phase': 0.2109375, 'indicator': 0}, '00000110111': {'res': 0, 'phase': 0.21484375, 'indicator': 0}, '00000111000': {'res': 0, 'phase': 0.21875, 'indicator': 0}, '00000111001': {'res': 0, 'phase': 0.22265625, 'indicator': 0}, '00000111010': {'res': 0, 'phase': 0.2265625, 'indicator': 0}, '00000111011': {'res': 0, 'phase': 0.23046875, 'indicator': 0}, '00000111100': {'res': 0, 'phase': 0.234375, 'indicator': 0}, '00000111101': {'res': 0, 'phase': 0.23828125, 'indicator': 0}, '00000111110': {'res': 0, 'phase': 0.2421875, 'indicator': 0}, '00000111111': {'res': 0, 'phase': 0.24609375, 'indicator': 0}, '00001000000': {'res': 0, 'phase': 0.25, 'indicator': 0}, '00001000001': {'res': 0, 'phase': 0.25390625, 'indicator': 0}, '00001000010': {'res': 0, 'phase': 0.2578125, 'indicator': 0}, '00001000011': {'res': 0, 'phase': 0.26171875, 'indicator': 0}, '00001000100': {'res': 0, 'phase': 0.265625, 'indicator': 0}, '00001000101': {'res': 0, 'phase': 0.26953125, 'indicator': 0}, '00001000110': {'res': 0, 'phase': 0.2734375, 'indicator': 0}, '00001000111': {'res': 0, 'phase': 0.27734375, 'indicator': 0}, '00001001000': {'res': 0, 'phase': 0.28125, 'indicator': 0}, '00001001001': {'res': 0, 'phase': 0.28515625, 'indicator': 0}, '00001001010': {'res': 0, 'phase': 0.2890625, 'indicator': 0}, '00001001011': {'res': 0, 'phase': 0.29296875, 'indicator': 0}, '00001001100': {'res': 0, 'phase': 0.296875, 'indicator': 0}, '00001001101': {'res': 0, 'phase': 0.30078125, 'indicator': 0}, '00001001110': {'res': 0, 'phase': 0.3046875, 'indicator': 0}, '00001001111': {'res': 0, 'phase': 0.30859375, 'indicator': 0}, '00001010000': {'res': 0, 'phase': 0.3125, 'indicator': 0}, '00001010001': {'res': 0, 'phase': 0.31640625, 'indicator': 0}, '00001010010': {'res': 0, 'phase': 0.3203125, 'indicator': 0}, '00001010011': {'res': 0, 'phase': 0.32421875, 'indicator': 0}, '00001010100': {'res': 0, 'phase': 0.328125, 'indicator': 0}, '00001010101': {'res': 0, 'phase': 0.33203125, 'indicator': 0}, '00001010110': {'res': 0, 'phase': 0.3359375, 'indicator': 0}, '00001010111': {'res': 0, 'phase': 0.33984375, 'indicator': 0}, '00001011000': {'res': 0, 'phase': 0.34375, 'indicator': 0}, '00001011001': {'res': 0, 'phase': 0.34765625, 'indicator': 0}, '00001011010': {'res': 0, 'phase': 0.3515625, 'indicator': 0}, '00001011011': {'res': 0, 'phase': 0.35546875, 'indicator': 0}, '00001011100': {'res': 0, 'phase': 0.359375, 'indicator': 0}, '00001011101': {'res': 0, 'phase': 0.36328125, 'indicator': 0}, '00001011110': {'res': 0, 'phase': 0.3671875, 'indicator': 0}, '00001011111': {'res': 0, 'phase': 0.37109375, 'indicator': 0}, '00001100000': {'res': 0, 'phase': 0.375, 'indicator': 0}, '00001100001': {'res': 0, 'phase': 0.37890625, 'indicator': 0}, '00001100010': {'res': 0, 'phase': 0.3828125, 'indicator': 0}, '00001100011': {'res': 0, 'phase': 0.38671875, 'indicator': 0}, '00001100100': {'res': 0, 'phase': 0.390625, 'indicator': 0}, '00001100101': {'res': 0, 'phase': 0.39453125, 'indicator': 0}, '00001100110': {'res': 0, 'phase': 0.3984375, 'indicator': 0}, '00001100111': {'res': 0, 'phase': 0.40234375, 'indicator': 0}, '00001101000': {'res': 0, 'phase': 0.40625, 'indicator': 0}, '00001101001': {'res': 0, 'phase': 0.41015625, 'indicator': 0}, '00001101010': {'res': 0, 'phase': 0.4140625, 'indicator': 0}, '00001101011': {'res': 0, 'phase': 0.41796875, 'indicator': 0}, '00001101100': {'res': 0, 'phase': 0.421875, 'indicator': 0}, '00001101101': {'res': 0, 'phase': 0.42578125, 'indicator': 0}, '00001101110': {'res': 0, 'phase': 0.4296875, 'indicator': 0}, '00001101111': {'res': 0, 'phase': 0.43359375, 'indicator': 0}, '00001110000': {'res': 0, 'phase': 0.4375, 'indicator': 0}, '00001110001': {'res': 0, 'phase': 0.44140625, 'indicator': 0}, '00001110010': {'res': 0, 'phase': 0.4453125, 'indicator': 0}, '00001110011': {'res': 0, 'phase': 0.44921875, 'indicator': 0}, '00001110100': {'res': 0, 'phase': 0.453125, 'indicator': 0}, '00001110101': {'res': 0, 'phase': 0.45703125, 'indicator': 0}, '00001110110': {'res': 0, 'phase': 0.4609375, 'indicator': 0}, '00001110111': {'res': 0, 'phase': 0.46484375, 'indicator': 0}, '00001111000': {'res': 0, 'phase': 0.46875, 'indicator': 0}, '00001111001': {'res': 0, 'phase': 0.47265625, 'indicator': 0}, '00001111010': {'res': 0, 'phase': 0.4765625, 'indicator': 0}, '00001111011': {'res': 0, 'phase': 0.48046875, 'indicator': 0}, '00001111100': {'res': 0, 'phase': 0.484375, 'indicator': 0}, '00001111101': {'res': 0, 'phase': 0.48828125, 'indicator': 0}, '00001111110': {'res': 0, 'phase': 0.4921875, 'indicator': 0}, '00001111111': {'res': 0, 'phase': 0.49609375, 'indicator': 0}, '00010000000': {'res': 0, 'phase': 0.5, 'indicator': 0}, '00010000001': {'res': 0, 'phase': 0.50390625, 'indicator': 0}, '00010000010': {'res': 0, 'phase': 0.5078125, 'indicator': 0}, '00010000011': {'res': 0, 'phase': 0.51171875, 'indicator': 0}, '00010000100': {'res': 0, 'phase': 0.515625, 'indicator': 0}, '00010000101': {'res': 0, 'phase': 0.51953125, 'indicator': 0}, '00010000110': {'res': 0, 'phase': 0.5234375, 'indicator': 0}, '00010000111': {'res': 0, 'phase': 0.52734375, 'indicator': 0}, '00010001000': {'res': 0, 'phase': 0.53125, 'indicator': 0}, '00010001001': {'res': 0, 'phase': 0.53515625, 'indicator': 0}, '00010001010': {'res': 0, 'phase': 0.5390625, 'indicator': 0}, '00010001011': {'res': 0, 'phase': 0.54296875, 'indicator': 0}, '00010001100': {'res': 0, 'phase': 0.546875, 'indicator': 0}, '00010001101': {'res': 0, 'phase': 0.55078125, 'indicator': 0}, '00010001110': {'res': 0, 'phase': 0.5546875, 'indicator': 0}, '00010001111': {'res': 0, 'phase': 0.55859375, 'indicator': 0}, '00010010000': {'res': 0, 'phase': 0.5625, 'indicator': 0}, '00010010001': {'res': 0, 'phase': 0.56640625, 'indicator': 0}, '00010010010': {'res': 0, 'phase': 0.5703125, 'indicator': 0}, '00010010011': {'res': 0, 'phase': 0.57421875, 'indicator': 0}, '00010010100': {'res': 0, 'phase': 0.578125, 'indicator': 0}, '00010010101': {'res': 0, 'phase': 0.58203125, 'indicator': 0}, '00010010110': {'res': 0, 'phase': 0.5859375, 'indicator': 0}, '00010010111': {'res': 0, 'phase': 0.58984375, 'indicator': 0}, '00010011000': {'res': 0, 'phase': 0.59375, 'indicator': 0}, '00010011001': {'res': 0, 'phase': 0.59765625, 'indicator': 0}, '00010011010': {'res': 0, 'phase': 0.6015625, 'indicator': 0}, '00010011011': {'res': 0, 'phase': 0.60546875, 'indicator': 0}, '00010011100': {'res': 0, 'phase': 0.609375, 'indicator': 0}, '00010011101': {'res': 0, 'phase': 0.61328125, 'indicator': 0}, '00010011110': {'res': 0, 'phase': 0.6171875, 'indicator': 0}, '00010011111': {'res': 0, 'phase': 0.62109375, 'indicator': 0}, '00010100000': {'res': 0, 'phase': 0.625, 'indicator': 0}, '00010100001': {'res': 0, 'phase': 0.62890625, 'indicator': 0}, '00010100010': {'res': 0, 'phase': 0.6328125, 'indicator': 0}, '00010100011': {'res': 0, 'phase': 0.63671875, 'indicator': 0}, '00010100100': {'res': 0, 'phase': 0.640625, 'indicator': 0}, '00010100101': {'res': 0, 'phase': 0.64453125, 'indicator': 0}, '00010100110': {'res': 0, 'phase': 0.6484375, 'indicator': 0}, '00010100111': {'res': 0, 'phase': 0.65234375, 'indicator': 0}, '00010101000': {'res': 0, 'phase': 0.65625, 'indicator': 0}, '00010101001': {'res': 0, 'phase': 0.66015625, 'indicator': 0}, '00010101010': {'res': 0, 'phase': 0.6640625, 'indicator': 0}, '00010101011': {'res': 0, 'phase': 0.66796875, 'indicator': 0}, '00010101100': {'res': 0, 'phase': 0.671875, 'indicator': 0}, '00010101101': {'res': 0, 'phase': 0.67578125, 'indicator': 0}, '00010101110': {'res': 0, 'phase': 0.6796875, 'indicator': 0}, '00010101111': {'res': 0, 'phase': 0.68359375, 'indicator': 0}, '00010110000': {'res': 0, 'phase': 0.6875, 'indicator': 0}, '00010110001': {'res': 0, 'phase': 0.69140625, 'indicator': 0}, '00010110010': {'res': 0, 'phase': 0.6953125, 'indicator': 0}, '00010110011': {'res': 0, 'phase': 0.69921875, 'indicator': 0}, '00010110100': {'res': 0, 'phase': 0.703125, 'indicator': 0}, '00010110101': {'res': 0, 'phase': 0.70703125, 'indicator': 0}, '00010110110': {'res': 0, 'phase': 0.7109375, 'indicator': 0}, '00010110111': {'res': 0, 'phase': 0.71484375, 'indicator': 0}, '00010111000': {'res': 0, 'phase': 0.71875, 'indicator': 0}, '00010111001': {'res': 0, 'phase': 0.72265625, 'indicator': 0}, '00010111010': {'res': 0, 'phase': 0.7265625, 'indicator': 0}, '00010111011': {'res': 0, 'phase': 0.73046875, 'indicator': 0}, '00010111100': {'res': 0, 'phase': 0.734375, 'indicator': 0}, '00010111101': {'res': 0, 'phase': 0.73828125, 'indicator': 0}, '00010111110': {'res': 0, 'phase': 0.7421875, 'indicator': 0}, '00010111111': {'res': 0, 'phase': 0.74609375, 'indicator': 0}, '00011000000': {'res': 0, 'phase': 0.75, 'indicator': 0}, '00011000001': {'res': 0, 'phase': 0.75390625, 'indicator': 0}, '00011000010': {'res': 0, 'phase': 0.7578125, 'indicator': 0}, '00011000011': {'res': 0, 'phase': 0.76171875, 'indicator': 0}, '00011000100': {'res': 0, 'phase': 0.765625, 'indicator': 0}, '00011000101': {'res': 0, 'phase': 0.76953125, 'indicator': 0}, '00011000110': {'res': 0, 'phase': 0.7734375, 'indicator': 0}, '00011000111': {'res': 0, 'phase': 0.77734375, 'indicator': 0}, '00011001000': {'res': 0, 'phase': 0.78125, 'indicator': 0}, '00011001001': {'res': 0, 'phase': 0.78515625, 'indicator': 0}, '00011001010': {'res': 0, 'phase': 0.7890625, 'indicator': 0}, '00011001011': {'res': 0, 'phase': 0.79296875, 'indicator': 0}, '00011001100': {'res': 0, 'phase': 0.796875, 'indicator': 0}, '00011001101': {'res': 0, 'phase': 0.80078125, 'indicator': 0}, '00011001110': {'res': 0, 'phase': 0.8046875, 'indicator': 0}, '00011001111': {'res': 0, 'phase': 0.80859375, 'indicator': 0}, '00011010000': {'res': 0, 'phase': 0.8125, 'indicator': 0}, '00011010001': {'res': 0, 'phase': 0.81640625, 'indicator': 0}, '00011010010': {'res': 0, 'phase': 0.8203125, 'indicator': 0}, '00011010011': {'res': 0, 'phase': 0.82421875, 'indicator': 0}, '00011010100': {'res': 0, 'phase': 0.828125, 'indicator': 0}, '00011010101': {'res': 0, 'phase': 0.83203125, 'indicator': 0}, '00011010110': {'res': 0, 'phase': 0.8359375, 'indicator': 0}, '00011010111': {'res': 0, 'phase': 0.83984375, 'indicator': 0}, '00011011000': {'res': 0, 'phase': 0.84375, 'indicator': 0}, '00011011001': {'res': 0, 'phase': 0.84765625, 'indicator': 0}, '00011011010': {'res': 0, 'phase': 0.8515625, 'indicator': 0}, '00011011011': {'res': 0, 'phase': 0.85546875, 'indicator': 0}, '00011011100': {'res': 0, 'phase': 0.859375, 'indicator': 0}, '00011011101': {'res': 0, 'phase': 0.86328125, 'indicator': 0}, '00011011110': {'res': 0, 'phase': 0.8671875, 'indicator': 0}, '00011011111': {'res': 0, 'phase': 0.87109375, 'indicator': 0}, '00011100000': {'res': 0, 'phase': 0.875, 'indicator': 0}, '00011100001': {'res': 0, 'phase': 0.87890625, 'indicator': 0}, '00011100010': {'res': 0, 'phase': 0.8828125, 'indicator': 0}, '00011100011': {'res': 0, 'phase': 0.88671875, 'indicator': 0}, '00011100100': {'res': 0, 'phase': 0.890625, 'indicator': 0}, '00011100101': {'res': 0, 'phase': 0.89453125, 'indicator': 0}, '00011100110': {'res': 0, 'phase': 0.8984375, 'indicator': 0}, '00011100111': {'res': 0, 'phase': 0.90234375, 'indicator': 0}, '00011101000': {'res': 0, 'phase': 0.90625, 'indicator': 0}, '00011101001': {'res': 0, 'phase': 0.91015625, 'indicator': 0}, '00011101010': {'res': 0, 'phase': 0.9140625, 'indicator': 0}, '00011101011': {'res': 0, 'phase': 0.91796875, 'indicator': 0}, '00011101100': {'res': 0, 'phase': 0.921875, 'indicator': 0}, '00011101101': {'res': 0, 'phase': 0.92578125, 'indicator': 0}, '00011101110': {'res': 0, 'phase': 0.9296875, 'indicator': 0}, '00011101111': {'res': 0, 'phase': 0.93359375, 'indicator': 0}, '00011110000': {'res': 0, 'phase': 0.9375, 'indicator': 0}, '00011110001': {'res': 0, 'phase': 0.94140625, 'indicator': 0}, '00011110010': {'res': 0, 'phase': 0.9453125, 'indicator': 0}, '00011110011': {'res': 0, 'phase': 0.94921875, 'indicator': 0}, '00011110100': {'res': 0, 'phase': 0.953125, 'indicator': 0}, '00011110101': {'res': 0, 'phase': 0.95703125, 'indicator': 0}, '00011110110': {'res': 0, 'phase': 0.9609375, 'indicator': 0}, '00011110111': {'res': 0, 'phase': 0.96484375, 'indicator': 0}, '00011111000': {'res': 0, 'phase': 0.96875, 'indicator': 0}, '00011111001': {'res': 0, 'phase': 0.97265625, 'indicator': 0}, '00011111010': {'res': 0, 'phase': 0.9765625, 'indicator': 0}, '00011111011': {'res': 0, 'phase': 0.98046875, 'indicator': 0}, '00011111100': {'res': 0, 'phase': 0.984375, 'indicator': 0}, '00011111101': {'res': 0, 'phase': 0.98828125, 'indicator': 0}, '00011111110': {'res': 0, 'phase': 0.9921875, 'indicator': 0}, '00011111111': {'res': 0, 'phase': 0.99609375, 'indicator': 0}, '00100000000': {'res': 0, 'phase': 0.0, 'indicator': 1}, '00100000001': {'res': 0, 'phase': 0.00390625, 'indicator': 1}, '00100000010': {'res': 0, 'phase': 0.0078125, 'indicator': 1}, '00100000011': {'res': 0, 'phase': 0.01171875, 'indicator': 1}, '00100000100': {'res': 0, 'phase': 0.015625, 'indicator': 1}, '00100000101': {'res': 0, 'phase': 0.01953125, 'indicator': 1}, '00100000110': {'res': 0, 'phase': 0.0234375, 'indicator': 1}, '00100000111': {'res': 0, 'phase': 0.02734375, 'indicator': 1}, '00100001000': {'res': 0, 'phase': 0.03125, 'indicator': 1}, '00100001001': {'res': 0, 'phase': 0.03515625, 'indicator': 1}, '00100001010': {'res': 0, 'phase': 0.0390625, 'indicator': 1}, '00100001011': {'res': 0, 'phase': 0.04296875, 'indicator': 1}, '00100001100': {'res': 0, 'phase': 0.046875, 'indicator': 1}, '00100001101': {'res': 0, 'phase': 0.05078125, 'indicator': 1}, '00100001110': {'res': 0, 'phase': 0.0546875, 'indicator': 1}, '00100001111': {'res': 0, 'phase': 0.05859375, 'indicator': 1}, '00100010000': {'res': 0, 'phase': 0.0625, 'indicator': 1}, '00100010001': {'res': 0, 'phase': 0.06640625, 'indicator': 1}, '00100010010': {'res': 0, 'phase': 0.0703125, 'indicator': 1}, '00100010011': {'res': 0, 'phase': 0.07421875, 'indicator': 1}, '00100010100': {'res': 0, 'phase': 0.078125, 'indicator': 1}, '00100010101': {'res': 0, 'phase': 0.08203125, 'indicator': 1}, '00100010110': {'res': 0, 'phase': 0.0859375, 'indicator': 1}, '00100010111': {'res': 0, 'phase': 0.08984375, 'indicator': 1}, '00100011000': {'res': 0, 'phase': 0.09375, 'indicator': 1}, '00100011001': {'res': 0, 'phase': 0.09765625, 'indicator': 1}, '00100011010': {'res': 0, 'phase': 0.1015625, 'indicator': 1}, '00100011011': {'res': 0, 'phase': 0.10546875, 'indicator': 1}, '00100011100': {'res': 0, 'phase': 0.109375, 'indicator': 1}, '00100011101': {'res': 0, 'phase': 0.11328125, 'indicator': 1}, '00100011110': {'res': 0, 'phase': 0.1171875, 'indicator': 1}, '00100011111': {'res': 0, 'phase': 0.12109375, 'indicator': 1}, '00100100000': {'res': 0, 'phase': 0.125, 'indicator': 1}, '00100100001': {'res': 0, 'phase': 0.12890625, 'indicator': 1}, '00100100010': {'res': 0, 'phase': 0.1328125, 'indicator': 1}, '00100100011': {'res': 0, 'phase': 0.13671875, 'indicator': 1}, '00100100100': {'res': 0, 'phase': 0.140625, 'indicator': 1}, '00100100101': {'res': 0, 'phase': 0.14453125, 'indicator': 1}, '00100100110': {'res': 0, 'phase': 0.1484375, 'indicator': 1}, '00100100111': {'res': 0, 'phase': 0.15234375, 'indicator': 1}, '00100101000': {'res': 0, 'phase': 0.15625, 'indicator': 1}, '00100101001': {'res': 0, 'phase': 0.16015625, 'indicator': 1}, '00100101010': {'res': 0, 'phase': 0.1640625, 'indicator': 1}, '00100101011': {'res': 0, 'phase': 0.16796875, 'indicator': 1}, '00100101100': {'res': 0, 'phase': 0.171875, 'indicator': 1}, '00100101101': {'res': 0, 'phase': 0.17578125, 'indicator': 1}, '00100101110': {'res': 0, 'phase': 0.1796875, 'indicator': 1}, '00100101111': {'res': 0, 'phase': 0.18359375, 'indicator': 1}, '00100110000': {'res': 0, 'phase': 0.1875, 'indicator': 1}, '00100110001': {'res': 0, 'phase': 0.19140625, 'indicator': 1}, '00100110010': {'res': 0, 'phase': 0.1953125, 'indicator': 1}, '00100110011': {'res': 0, 'phase': 0.19921875, 'indicator': 1}, '00100110100': {'res': 0, 'phase': 0.203125, 'indicator': 1}, '00100110101': {'res': 0, 'phase': 0.20703125, 'indicator': 1}, '00100110110': {'res': 0, 'phase': 0.2109375, 'indicator': 1}, '00100110111': {'res': 0, 'phase': 0.21484375, 'indicator': 1}, '00100111000': {'res': 0, 'phase': 0.21875, 'indicator': 1}, '00100111001': {'res': 0, 'phase': 0.22265625, 'indicator': 1}, '00100111010': {'res': 0, 'phase': 0.2265625, 'indicator': 1}, '00100111011': {'res': 0, 'phase': 0.23046875, 'indicator': 1}, '00100111100': {'res': 0, 'phase': 0.234375, 'indicator': 1}, '00100111101': {'res': 0, 'phase': 0.23828125, 'indicator': 1}, '00100111110': {'res': 0, 'phase': 0.2421875, 'indicator': 1}, '00100111111': {'res': 0, 'phase': 0.24609375, 'indicator': 1}, '00101000000': {'res': 0, 'phase': 0.25, 'indicator': 1}, '00101000001': {'res': 0, 'phase': 0.25390625, 'indicator': 1}, '00101000010': {'res': 0, 'phase': 0.2578125, 'indicator': 1}, '00101000011': {'res': 0, 'phase': 0.26171875, 'indicator': 1}, '00101000100': {'res': 0, 'phase': 0.265625, 'indicator': 1}, '00101000101': {'res': 0, 'phase': 0.26953125, 'indicator': 1}, '00101000110': {'res': 0, 'phase': 0.2734375, 'indicator': 1}, '00101000111': {'res': 0, 'phase': 0.27734375, 'indicator': 1}, '00101001000': {'res': 0, 'phase': 0.28125, 'indicator': 1}, '00101001001': {'res': 0, 'phase': 0.28515625, 'indicator': 1}, '00101001010': {'res': 0, 'phase': 0.2890625, 'indicator': 1}, '00101001011': {'res': 0, 'phase': 0.29296875, 'indicator': 1}, '00101001100': {'res': 0, 'phase': 0.296875, 'indicator': 1}, '00101001101': {'res': 0, 'phase': 0.30078125, 'indicator': 1}, '00101001110': {'res': 0, 'phase': 0.3046875, 'indicator': 1}, '00101001111': {'res': 0, 'phase': 0.30859375, 'indicator': 1}, '00101010000': {'res': 0, 'phase': 0.3125, 'indicator': 1}, '00101010001': {'res': 0, 'phase': 0.31640625, 'indicator': 1}, '00101010010': {'res': 0, 'phase': 0.3203125, 'indicator': 1}, '00101010011': {'res': 0, 'phase': 0.32421875, 'indicator': 1}, '00101010100': {'res': 0, 'phase': 0.328125, 'indicator': 1}, '00101010101': {'res': 0, 'phase': 0.33203125, 'indicator': 1}, '00101010110': {'res': 0, 'phase': 0.3359375, 'indicator': 1}, '00101010111': {'res': 0, 'phase': 0.33984375, 'indicator': 1}, '00101011000': {'res': 0, 'phase': 0.34375, 'indicator': 1}, '00101011001': {'res': 0, 'phase': 0.34765625, 'indicator': 1}, '00101011010': {'res': 0, 'phase': 0.3515625, 'indicator': 1}, '00101011011': {'res': 0, 'phase': 0.35546875, 'indicator': 1}, '00101011100': {'res': 0, 'phase': 0.359375, 'indicator': 1}, '00101011101': {'res': 0, 'phase': 0.36328125, 'indicator': 1}, '00101011110': {'res': 0, 'phase': 0.3671875, 'indicator': 1}, '00101011111': {'res': 0, 'phase': 0.37109375, 'indicator': 1}, '00101100000': {'res': 0, 'phase': 0.375, 'indicator': 1}, '00101100001': {'res': 0, 'phase': 0.37890625, 'indicator': 1}, '00101100010': {'res': 0, 'phase': 0.3828125, 'indicator': 1}, '00101100011': {'res': 0, 'phase': 0.38671875, 'indicator': 1}, '00101100100': {'res': 0, 'phase': 0.390625, 'indicator': 1}, '00101100101': {'res': 0, 'phase': 0.39453125, 'indicator': 1}, '00101100110': {'res': 0, 'phase': 0.3984375, 'indicator': 1}, '00101100111': {'res': 0, 'phase': 0.40234375, 'indicator': 1}, '00101101000': {'res': 0, 'phase': 0.40625, 'indicator': 1}, '00101101001': {'res': 0, 'phase': 0.41015625, 'indicator': 1}, '00101101010': {'res': 0, 'phase': 0.4140625, 'indicator': 1}, '00101101011': {'res': 0, 'phase': 0.41796875, 'indicator': 1}, '00101101100': {'res': 0, 'phase': 0.421875, 'indicator': 1}, '00101101101': {'res': 0, 'phase': 0.42578125, 'indicator': 1}, '00101101110': {'res': 0, 'phase': 0.4296875, 'indicator': 1}, '00101101111': {'res': 0, 'phase': 0.43359375, 'indicator': 1}, '00101110000': {'res': 0, 'phase': 0.4375, 'indicator': 1}, '00101110001': {'res': 0, 'phase': 0.44140625, 'indicator': 1}, '00101110010': {'res': 0, 'phase': 0.4453125, 'indicator': 1}, '00101110011': {'res': 0, 'phase': 0.44921875, 'indicator': 1}, '00101110100': {'res': 0, 'phase': 0.453125, 'indicator': 1}, '00101110101': {'res': 0, 'phase': 0.45703125, 'indicator': 1}, '00101110110': {'res': 0, 'phase': 0.4609375, 'indicator': 1}, '00101110111': {'res': 0, 'phase': 0.46484375, 'indicator': 1}, '00101111000': {'res': 0, 'phase': 0.46875, 'indicator': 1}, '00101111001': {'res': 0, 'phase': 0.47265625, 'indicator': 1}, '00101111010': {'res': 0, 'phase': 0.4765625, 'indicator': 1}, '00101111011': {'res': 0, 'phase': 0.48046875, 'indicator': 1}, '00101111100': {'res': 0, 'phase': 0.484375, 'indicator': 1}, '00101111101': {'res': 0, 'phase': 0.48828125, 'indicator': 1}, '00101111110': {'res': 0, 'phase': 0.4921875, 'indicator': 1}, '00101111111': {'res': 0, 'phase': 0.49609375, 'indicator': 1}, '00110000000': {'res': 0, 'phase': 0.5, 'indicator': 1}, '00110000001': {'res': 0, 'phase': 0.50390625, 'indicator': 1}, '00110000010': {'res': 0, 'phase': 0.5078125, 'indicator': 1}, '00110000011': {'res': 0, 'phase': 0.51171875, 'indicator': 1}, '00110000100': {'res': 0, 'phase': 0.515625, 'indicator': 1}, '00110000101': {'res': 0, 'phase': 0.51953125, 'indicator': 1}, '00110000110': {'res': 0, 'phase': 0.5234375, 'indicator': 1}, '00110000111': {'res': 0, 'phase': 0.52734375, 'indicator': 1}, '00110001000': {'res': 0, 'phase': 0.53125, 'indicator': 1}, '00110001001': {'res': 0, 'phase': 0.53515625, 'indicator': 1}, '00110001010': {'res': 0, 'phase': 0.5390625, 'indicator': 1}, '00110001011': {'res': 0, 'phase': 0.54296875, 'indicator': 1}, '00110001100': {'res': 0, 'phase': 0.546875, 'indicator': 1}, '00110001101': {'res': 0, 'phase': 0.55078125, 'indicator': 1}, '00110001110': {'res': 0, 'phase': 0.5546875, 'indicator': 1}, '00110001111': {'res': 0, 'phase': 0.55859375, 'indicator': 1}, '00110010000': {'res': 0, 'phase': 0.5625, 'indicator': 1}, '00110010001': {'res': 0, 'phase': 0.56640625, 'indicator': 1}, '00110010010': {'res': 0, 'phase': 0.5703125, 'indicator': 1}, '00110010011': {'res': 0, 'phase': 0.57421875, 'indicator': 1}, '00110010100': {'res': 0, 'phase': 0.578125, 'indicator': 1}, '00110010101': {'res': 0, 'phase': 0.58203125, 'indicator': 1}, '00110010110': {'res': 0, 'phase': 0.5859375, 'indicator': 1}, '00110010111': {'res': 0, 'phase': 0.58984375, 'indicator': 1}, '00110011000': {'res': 0, 'phase': 0.59375, 'indicator': 1}, '00110011001': {'res': 0, 'phase': 0.59765625, 'indicator': 1}, '00110011010': {'res': 0, 'phase': 0.6015625, 'indicator': 1}, '00110011011': {'res': 0, 'phase': 0.60546875, 'indicator': 1}, '00110011100': {'res': 0, 'phase': 0.609375, 'indicator': 1}, '00110011101': {'res': 0, 'phase': 0.61328125, 'indicator': 1}, '00110011110': {'res': 0, 'phase': 0.6171875, 'indicator': 1}, '00110011111': {'res': 0, 'phase': 0.62109375, 'indicator': 1}, '00110100000': {'res': 0, 'phase': 0.625, 'indicator': 1}, '00110100001': {'res': 0, 'phase': 0.62890625, 'indicator': 1}, '00110100010': {'res': 0, 'phase': 0.6328125, 'indicator': 1}, '00110100011': {'res': 0, 'phase': 0.63671875, 'indicator': 1}, '00110100100': {'res': 0, 'phase': 0.640625, 'indicator': 1}, '00110100101': {'res': 0, 'phase': 0.64453125, 'indicator': 1}, '00110100110': {'res': 0, 'phase': 0.6484375, 'indicator': 1}, '00110100111': {'res': 0, 'phase': 0.65234375, 'indicator': 1}, '00110101000': {'res': 0, 'phase': 0.65625, 'indicator': 1}, '00110101001': {'res': 0, 'phase': 0.66015625, 'indicator': 1}, '00110101010': {'res': 0, 'phase': 0.6640625, 'indicator': 1}, '00110101011': {'res': 0, 'phase': 0.66796875, 'indicator': 1}, '00110101100': {'res': 0, 'phase': 0.671875, 'indicator': 1}, '00110101101': {'res': 0, 'phase': 0.67578125, 'indicator': 1}, '00110101110': {'res': 0, 'phase': 0.6796875, 'indicator': 1}, '00110101111': {'res': 0, 'phase': 0.68359375, 'indicator': 1}, '00110110000': {'res': 0, 'phase': 0.6875, 'indicator': 1}, '00110110001': {'res': 0, 'phase': 0.69140625, 'indicator': 1}, '00110110010': {'res': 0, 'phase': 0.6953125, 'indicator': 1}, '00110110011': {'res': 0, 'phase': 0.69921875, 'indicator': 1}, '00110110100': {'res': 0, 'phase': 0.703125, 'indicator': 1}, '00110110101': {'res': 0, 'phase': 0.70703125, 'indicator': 1}, '00110110110': {'res': 0, 'phase': 0.7109375, 'indicator': 1}, '00110110111': {'res': 0, 'phase': 0.71484375, 'indicator': 1}, '00110111000': {'res': 0, 'phase': 0.71875, 'indicator': 1}, '00110111001': {'res': 0, 'phase': 0.72265625, 'indicator': 1}, '00110111010': {'res': 0, 'phase': 0.7265625, 'indicator': 1}, '00110111011': {'res': 0, 'phase': 0.73046875, 'indicator': 1}, '00110111100': {'res': 0, 'phase': 0.734375, 'indicator': 1}, '00110111101': {'res': 0, 'phase': 0.73828125, 'indicator': 1}, '00110111110': {'res': 0, 'phase': 0.7421875, 'indicator': 1}, '00110111111': {'res': 0, 'phase': 0.74609375, 'indicator': 1}, '00111000000': {'res': 0, 'phase': 0.75, 'indicator': 1}, '00111000001': {'res': 0, 'phase': 0.75390625, 'indicator': 1}, '00111000010': {'res': 0, 'phase': 0.7578125, 'indicator': 1}, '00111000011': {'res': 0, 'phase': 0.76171875, 'indicator': 1}, '00111000100': {'res': 0, 'phase': 0.765625, 'indicator': 1}, '00111000101': {'res': 0, 'phase': 0.76953125, 'indicator': 1}, '00111000110': {'res': 0, 'phase': 0.7734375, 'indicator': 1}, '00111000111': {'res': 0, 'phase': 0.77734375, 'indicator': 1}, '00111001000': {'res': 0, 'phase': 0.78125, 'indicator': 1}, '00111001001': {'res': 0, 'phase': 0.78515625, 'indicator': 1}, '00111001010': {'res': 0, 'phase': 0.7890625, 'indicator': 1}, '00111001011': {'res': 0, 'phase': 0.79296875, 'indicator': 1}, '00111001100': {'res': 0, 'phase': 0.796875, 'indicator': 1}, '00111001101': {'res': 0, 'phase': 0.80078125, 'indicator': 1}, '00111001110': {'res': 0, 'phase': 0.8046875, 'indicator': 1}, '00111001111': {'res': 0, 'phase': 0.80859375, 'indicator': 1}, '00111010000': {'res': 0, 'phase': 0.8125, 'indicator': 1}, '00111010001': {'res': 0, 'phase': 0.81640625, 'indicator': 1}, '00111010010': {'res': 0, 'phase': 0.8203125, 'indicator': 1}, '00111010011': {'res': 0, 'phase': 0.82421875, 'indicator': 1}, '00111010100': {'res': 0, 'phase': 0.828125, 'indicator': 1}, '00111010101': {'res': 0, 'phase': 0.83203125, 'indicator': 1}, '00111010110': {'res': 0, 'phase': 0.8359375, 'indicator': 1}, '00111010111': {'res': 0, 'phase': 0.83984375, 'indicator': 1}, '00111011000': {'res': 0, 'phase': 0.84375, 'indicator': 1}, '00111011001': {'res': 0, 'phase': 0.84765625, 'indicator': 1}, '00111011010': {'res': 0, 'phase': 0.8515625, 'indicator': 1}, '00111011011': {'res': 0, 'phase': 0.85546875, 'indicator': 1}, '00111011100': {'res': 0, 'phase': 0.859375, 'indicator': 1}, '00111011101': {'res': 0, 'phase': 0.86328125, 'indicator': 1}, '00111011110': {'res': 0, 'phase': 0.8671875, 'indicator': 1}, '00111011111': {'res': 0, 'phase': 0.87109375, 'indicator': 1}, '00111100000': {'res': 0, 'phase': 0.875, 'indicator': 1}, '00111100001': {'res': 0, 'phase': 0.87890625, 'indicator': 1}, '00111100010': {'res': 0, 'phase': 0.8828125, 'indicator': 1}, '00111100011': {'res': 0, 'phase': 0.88671875, 'indicator': 1}, '00111100100': {'res': 0, 'phase': 0.890625, 'indicator': 1}, '00111100101': {'res': 0, 'phase': 0.89453125, 'indicator': 1}, '00111100110': {'res': 0, 'phase': 0.8984375, 'indicator': 1}, '00111100111': {'res': 0, 'phase': 0.90234375, 'indicator': 1}, '00111101000': {'res': 0, 'phase': 0.90625, 'indicator': 1}, '00111101001': {'res': 0, 'phase': 0.91015625, 'indicator': 1}, '00111101010': {'res': 0, 'phase': 0.9140625, 'indicator': 1}, '00111101011': {'res': 0, 'phase': 0.91796875, 'indicator': 1}, '00111101100': {'res': 0, 'phase': 0.921875, 'indicator': 1}, '00111101101': {'res': 0, 'phase': 0.92578125, 'indicator': 1}, '00111101110': {'res': 0, 'phase': 0.9296875, 'indicator': 1}, '00111101111': {'res': 0, 'phase': 0.93359375, 'indicator': 1}, '00111110000': {'res': 0, 'phase': 0.9375, 'indicator': 1}, '00111110001': {'res': 0, 'phase': 0.94140625, 'indicator': 1}, '00111110010': {'res': 0, 'phase': 0.9453125, 'indicator': 1}, '00111110011': {'res': 0, 'phase': 0.94921875, 'indicator': 1}, '00111110100': {'res': 0, 'phase': 0.953125, 'indicator': 1}, '00111110101': {'res': 0, 'phase': 0.95703125, 'indicator': 1}, '00111110110': {'res': 0, 'phase': 0.9609375, 'indicator': 1}, '00111110111': {'res': 0, 'phase': 0.96484375, 'indicator': 1}, '00111111000': {'res': 0, 'phase': 0.96875, 'indicator': 1}, '00111111001': {'res': 0, 'phase': 0.97265625, 'indicator': 1}, '00111111010': {'res': 0, 'phase': 0.9765625, 'indicator': 1}, '00111111011': {'res': 0, 'phase': 0.98046875, 'indicator': 1}, '00111111100': {'res': 0, 'phase': 0.984375, 'indicator': 1}, '00111111101': {'res': 0, 'phase': 0.98828125, 'indicator': 1}, '00111111110': {'res': 0, 'phase': 0.9921875, 'indicator': 1}, '00111111111': {'res': 0, 'phase': 0.99609375, 'indicator': 1}, '01000000000': {'res': 1, 'phase': 0.0, 'indicator': 0}, '01000000001': {'res': 1, 'phase': 0.00390625, 'indicator': 0}, '01000000010': {'res': 1, 'phase': 0.0078125, 'indicator': 0}, '01000000011': {'res': 1, 'phase': 0.01171875, 'indicator': 0}, '01000000100': {'res': 1, 'phase': 0.015625, 'indicator': 0}, '01000000101': {'res': 1, 'phase': 0.01953125, 'indicator': 0}, '01000000110': {'res': 1, 'phase': 0.0234375, 'indicator': 0}, '01000000111': {'res': 1, 'phase': 0.02734375, 'indicator': 0}, '01000001000': {'res': 1, 'phase': 0.03125, 'indicator': 0}, '01000001001': {'res': 1, 'phase': 0.03515625, 'indicator': 0}, '01000001010': {'res': 1, 'phase': 0.0390625, 'indicator': 0}, '01000001011': {'res': 1, 'phase': 0.04296875, 'indicator': 0}, '01000001100': {'res': 1, 'phase': 0.046875, 'indicator': 0}, '01000001101': {'res': 1, 'phase': 0.05078125, 'indicator': 0}, '01000001110': {'res': 1, 'phase': 0.0546875, 'indicator': 0}, '01000001111': {'res': 1, 'phase': 0.05859375, 'indicator': 0}, '01000010000': {'res': 1, 'phase': 0.0625, 'indicator': 0}, '01000010001': {'res': 1, 'phase': 0.06640625, 'indicator': 0}, '01000010010': {'res': 1, 'phase': 0.0703125, 'indicator': 0}, '01000010011': {'res': 1, 'phase': 0.07421875, 'indicator': 0}, '01000010100': {'res': 1, 'phase': 0.078125, 'indicator': 0}, '01000010101': {'res': 1, 'phase': 0.08203125, 'indicator': 0}, '01000010110': {'res': 1, 'phase': 0.0859375, 'indicator': 0}, '01000010111': {'res': 1, 'phase': 0.08984375, 'indicator': 0}, '01000011000': {'res': 1, 'phase': 0.09375, 'indicator': 0}, '01000011001': {'res': 1, 'phase': 0.09765625, 'indicator': 0}, '01000011010': {'res': 1, 'phase': 0.1015625, 'indicator': 0}, '01000011011': {'res': 1, 'phase': 0.10546875, 'indicator': 0}, '01000011100': {'res': 1, 'phase': 0.109375, 'indicator': 0}, '01000011101': {'res': 1, 'phase': 0.11328125, 'indicator': 0}, '01000011110': {'res': 1, 'phase': 0.1171875, 'indicator': 0}, '01000011111': {'res': 1, 'phase': 0.12109375, 'indicator': 0}, '01000100000': {'res': 1, 'phase': 0.125, 'indicator': 0}, '01000100001': {'res': 1, 'phase': 0.12890625, 'indicator': 0}, '01000100010': {'res': 1, 'phase': 0.1328125, 'indicator': 0}, '01000100011': {'res': 1, 'phase': 0.13671875, 'indicator': 0}, '01000100100': {'res': 1, 'phase': 0.140625, 'indicator': 0}, '01000100101': {'res': 1, 'phase': 0.14453125, 'indicator': 0}, '01000100110': {'res': 1, 'phase': 0.1484375, 'indicator': 0}, '01000100111': {'res': 1, 'phase': 0.15234375, 'indicator': 0}, '01000101000': {'res': 1, 'phase': 0.15625, 'indicator': 0}, '01000101001': {'res': 1, 'phase': 0.16015625, 'indicator': 0}, '01000101010': {'res': 1, 'phase': 0.1640625, 'indicator': 0}, '01000101011': {'res': 1, 'phase': 0.16796875, 'indicator': 0}, '01000101100': {'res': 1, 'phase': 0.171875, 'indicator': 0}, '01000101101': {'res': 1, 'phase': 0.17578125, 'indicator': 0}, '01000101110': {'res': 1, 'phase': 0.1796875, 'indicator': 0}, '01000101111': {'res': 1, 'phase': 0.18359375, 'indicator': 0}, '01000110000': {'res': 1, 'phase': 0.1875, 'indicator': 0}, '01000110001': {'res': 1, 'phase': 0.19140625, 'indicator': 0}, '01000110010': {'res': 1, 'phase': 0.1953125, 'indicator': 0}, '01000110011': {'res': 1, 'phase': 0.19921875, 'indicator': 0}, '01000110100': {'res': 1, 'phase': 0.203125, 'indicator': 0}, '01000110101': {'res': 1, 'phase': 0.20703125, 'indicator': 0}, '01000110110': {'res': 1, 'phase': 0.2109375, 'indicator': 0}, '01000110111': {'res': 1, 'phase': 0.21484375, 'indicator': 0}, '01000111000': {'res': 1, 'phase': 0.21875, 'indicator': 0}, '01000111001': {'res': 1, 'phase': 0.22265625, 'indicator': 0}, '01000111010': {'res': 1, 'phase': 0.2265625, 'indicator': 0}, '01000111011': {'res': 1, 'phase': 0.23046875, 'indicator': 0}, '01000111100': {'res': 1, 'phase': 0.234375, 'indicator': 0}, '01000111101': {'res': 1, 'phase': 0.23828125, 'indicator': 0}, '01000111110': {'res': 1, 'phase': 0.2421875, 'indicator': 0}, '01000111111': {'res': 1, 'phase': 0.24609375, 'indicator': 0}, '01001000000': {'res': 1, 'phase': 0.25, 'indicator': 0}, '01001000001': {'res': 1, 'phase': 0.25390625, 'indicator': 0}, '01001000010': {'res': 1, 'phase': 0.2578125, 'indicator': 0}, '01001000011': {'res': 1, 'phase': 0.26171875, 'indicator': 0}, '01001000100': {'res': 1, 'phase': 0.265625, 'indicator': 0}, '01001000101': {'res': 1, 'phase': 0.26953125, 'indicator': 0}, '01001000110': {'res': 1, 'phase': 0.2734375, 'indicator': 0}, '01001000111': {'res': 1, 'phase': 0.27734375, 'indicator': 0}, '01001001000': {'res': 1, 'phase': 0.28125, 'indicator': 0}, '01001001001': {'res': 1, 'phase': 0.28515625, 'indicator': 0}, '01001001010': {'res': 1, 'phase': 0.2890625, 'indicator': 0}, '01001001011': {'res': 1, 'phase': 0.29296875, 'indicator': 0}, '01001001100': {'res': 1, 'phase': 0.296875, 'indicator': 0}, '01001001101': {'res': 1, 'phase': 0.30078125, 'indicator': 0}, '01001001110': {'res': 1, 'phase': 0.3046875, 'indicator': 0}, '01001001111': {'res': 1, 'phase': 0.30859375, 'indicator': 0}, '01001010000': {'res': 1, 'phase': 0.3125, 'indicator': 0}, '01001010001': {'res': 1, 'phase': 0.31640625, 'indicator': 0}, '01001010010': {'res': 1, 'phase': 0.3203125, 'indicator': 0}, '01001010011': {'res': 1, 'phase': 0.32421875, 'indicator': 0}, '01001010100': {'res': 1, 'phase': 0.328125, 'indicator': 0}, '01001010101': {'res': 1, 'phase': 0.33203125, 'indicator': 0}, '01001010110': {'res': 1, 'phase': 0.3359375, 'indicator': 0}, '01001010111': {'res': 1, 'phase': 0.33984375, 'indicator': 0}, '01001011000': {'res': 1, 'phase': 0.34375, 'indicator': 0}, '01001011001': {'res': 1, 'phase': 0.34765625, 'indicator': 0}, '01001011010': {'res': 1, 'phase': 0.3515625, 'indicator': 0}, '01001011011': {'res': 1, 'phase': 0.35546875, 'indicator': 0}, '01001011100': {'res': 1, 'phase': 0.359375, 'indicator': 0}, '01001011101': {'res': 1, 'phase': 0.36328125, 'indicator': 0}, '01001011110': {'res': 1, 'phase': 0.3671875, 'indicator': 0}, '01001011111': {'res': 1, 'phase': 0.37109375, 'indicator': 0}, '01001100000': {'res': 1, 'phase': 0.375, 'indicator': 0}, '01001100001': {'res': 1, 'phase': 0.37890625, 'indicator': 0}, '01001100010': {'res': 1, 'phase': 0.3828125, 'indicator': 0}, '01001100011': {'res': 1, 'phase': 0.38671875, 'indicator': 0}, '01001100100': {'res': 1, 'phase': 0.390625, 'indicator': 0}, '01001100101': {'res': 1, 'phase': 0.39453125, 'indicator': 0}, '01001100110': {'res': 1, 'phase': 0.3984375, 'indicator': 0}, '01001100111': {'res': 1, 'phase': 0.40234375, 'indicator': 0}, '01001101000': {'res': 1, 'phase': 0.40625, 'indicator': 0}, '01001101001': {'res': 1, 'phase': 0.41015625, 'indicator': 0}, '01001101010': {'res': 1, 'phase': 0.4140625, 'indicator': 0}, '01001101011': {'res': 1, 'phase': 0.41796875, 'indicator': 0}, '01001101100': {'res': 1, 'phase': 0.421875, 'indicator': 0}, '01001101101': {'res': 1, 'phase': 0.42578125, 'indicator': 0}, '01001101110': {'res': 1, 'phase': 0.4296875, 'indicator': 0}, '01001101111': {'res': 1, 'phase': 0.43359375, 'indicator': 0}, '01001110000': {'res': 1, 'phase': 0.4375, 'indicator': 0}, '01001110001': {'res': 1, 'phase': 0.44140625, 'indicator': 0}, '01001110010': {'res': 1, 'phase': 0.4453125, 'indicator': 0}, '01001110011': {'res': 1, 'phase': 0.44921875, 'indicator': 0}, '01001110100': {'res': 1, 'phase': 0.453125, 'indicator': 0}, '01001110101': {'res': 1, 'phase': 0.45703125, 'indicator': 0}, '01001110110': {'res': 1, 'phase': 0.4609375, 'indicator': 0}, '01001110111': {'res': 1, 'phase': 0.46484375, 'indicator': 0}, '01001111000': {'res': 1, 'phase': 0.46875, 'indicator': 0}, '01001111001': {'res': 1, 'phase': 0.47265625, 'indicator': 0}, '01001111010': {'res': 1, 'phase': 0.4765625, 'indicator': 0}, '01001111011': {'res': 1, 'phase': 0.48046875, 'indicator': 0}, '01001111100': {'res': 1, 'phase': 0.484375, 'indicator': 0}, '01001111101': {'res': 1, 'phase': 0.48828125, 'indicator': 0}, '01001111110': {'res': 1, 'phase': 0.4921875, 'indicator': 0}, '01001111111': {'res': 1, 'phase': 0.49609375, 'indicator': 0}, '01010000000': {'res': 1, 'phase': 0.5, 'indicator': 0}, '01010000001': {'res': 1, 'phase': 0.50390625, 'indicator': 0}, '01010000010': {'res': 1, 'phase': 0.5078125, 'indicator': 0}, '01010000011': {'res': 1, 'phase': 0.51171875, 'indicator': 0}, '01010000100': {'res': 1, 'phase': 0.515625, 'indicator': 0}, '01010000101': {'res': 1, 'phase': 0.51953125, 'indicator': 0}, '01010000110': {'res': 1, 'phase': 0.5234375, 'indicator': 0}, '01010000111': {'res': 1, 'phase': 0.52734375, 'indicator': 0}, '01010001000': {'res': 1, 'phase': 0.53125, 'indicator': 0}, '01010001001': {'res': 1, 'phase': 0.53515625, 'indicator': 0}, '01010001010': {'res': 1, 'phase': 0.5390625, 'indicator': 0}, '01010001011': {'res': 1, 'phase': 0.54296875, 'indicator': 0}, '01010001100': {'res': 1, 'phase': 0.546875, 'indicator': 0}, '01010001101': {'res': 1, 'phase': 0.55078125, 'indicator': 0}, '01010001110': {'res': 1, 'phase': 0.5546875, 'indicator': 0}, '01010001111': {'res': 1, 'phase': 0.55859375, 'indicator': 0}, '01010010000': {'res': 1, 'phase': 0.5625, 'indicator': 0}, '01010010001': {'res': 1, 'phase': 0.56640625, 'indicator': 0}, '01010010010': {'res': 1, 'phase': 0.5703125, 'indicator': 0}, '01010010011': {'res': 1, 'phase': 0.57421875, 'indicator': 0}, '01010010100': {'res': 1, 'phase': 0.578125, 'indicator': 0}, '01010010101': {'res': 1, 'phase': 0.58203125, 'indicator': 0}, '01010010110': {'res': 1, 'phase': 0.5859375, 'indicator': 0}, '01010010111': {'res': 1, 'phase': 0.58984375, 'indicator': 0}, '01010011000': {'res': 1, 'phase': 0.59375, 'indicator': 0}, '01010011001': {'res': 1, 'phase': 0.59765625, 'indicator': 0}, '01010011010': {'res': 1, 'phase': 0.6015625, 'indicator': 0}, '01010011011': {'res': 1, 'phase': 0.60546875, 'indicator': 0}, '01010011100': {'res': 1, 'phase': 0.609375, 'indicator': 0}, '01010011101': {'res': 1, 'phase': 0.61328125, 'indicator': 0}, '01010011110': {'res': 1, 'phase': 0.6171875, 'indicator': 0}, '01010011111': {'res': 1, 'phase': 0.62109375, 'indicator': 0}, '01010100000': {'res': 1, 'phase': 0.625, 'indicator': 0}, '01010100001': {'res': 1, 'phase': 0.62890625, 'indicator': 0}, '01010100010': {'res': 1, 'phase': 0.6328125, 'indicator': 0}, '01010100011': {'res': 1, 'phase': 0.63671875, 'indicator': 0}, '01010100100': {'res': 1, 'phase': 0.640625, 'indicator': 0}, '01010100101': {'res': 1, 'phase': 0.64453125, 'indicator': 0}, '01010100110': {'res': 1, 'phase': 0.6484375, 'indicator': 0}, '01010100111': {'res': 1, 'phase': 0.65234375, 'indicator': 0}, '01010101000': {'res': 1, 'phase': 0.65625, 'indicator': 0}, '01010101001': {'res': 1, 'phase': 0.66015625, 'indicator': 0}, '01010101010': {'res': 1, 'phase': 0.6640625, 'indicator': 0}, '01010101011': {'res': 1, 'phase': 0.66796875, 'indicator': 0}, '01010101100': {'res': 1, 'phase': 0.671875, 'indicator': 0}, '01010101101': {'res': 1, 'phase': 0.67578125, 'indicator': 0}, '01010101110': {'res': 1, 'phase': 0.6796875, 'indicator': 0}, '01010101111': {'res': 1, 'phase': 0.68359375, 'indicator': 0}, '01010110000': {'res': 1, 'phase': 0.6875, 'indicator': 0}, '01010110001': {'res': 1, 'phase': 0.69140625, 'indicator': 0}, '01010110010': {'res': 1, 'phase': 0.6953125, 'indicator': 0}, '01010110011': {'res': 1, 'phase': 0.69921875, 'indicator': 0}, '01010110100': {'res': 1, 'phase': 0.703125, 'indicator': 0}, '01010110101': {'res': 1, 'phase': 0.70703125, 'indicator': 0}, '01010110110': {'res': 1, 'phase': 0.7109375, 'indicator': 0}, '01010110111': {'res': 1, 'phase': 0.71484375, 'indicator': 0}, '01010111000': {'res': 1, 'phase': 0.71875, 'indicator': 0}, '01010111001': {'res': 1, 'phase': 0.72265625, 'indicator': 0}, '01010111010': {'res': 1, 'phase': 0.7265625, 'indicator': 0}, '01010111011': {'res': 1, 'phase': 0.73046875, 'indicator': 0}, '01010111100': {'res': 1, 'phase': 0.734375, 'indicator': 0}, '01010111101': {'res': 1, 'phase': 0.73828125, 'indicator': 0}, '01010111110': {'res': 1, 'phase': 0.7421875, 'indicator': 0}, '01010111111': {'res': 1, 'phase': 0.74609375, 'indicator': 0}, '01011000000': {'res': 1, 'phase': 0.75, 'indicator': 0}, '01011000001': {'res': 1, 'phase': 0.75390625, 'indicator': 0}, '01011000010': {'res': 1, 'phase': 0.7578125, 'indicator': 0}, '01011000011': {'res': 1, 'phase': 0.76171875, 'indicator': 0}, '01011000100': {'res': 1, 'phase': 0.765625, 'indicator': 0}, '01011000101': {'res': 1, 'phase': 0.76953125, 'indicator': 0}, '01011000110': {'res': 1, 'phase': 0.7734375, 'indicator': 0}, '01011000111': {'res': 1, 'phase': 0.77734375, 'indicator': 0}, '01011001000': {'res': 1, 'phase': 0.78125, 'indicator': 0}, '01011001001': {'res': 1, 'phase': 0.78515625, 'indicator': 0}, '01011001010': {'res': 1, 'phase': 0.7890625, 'indicator': 0}, '01011001011': {'res': 1, 'phase': 0.79296875, 'indicator': 0}, '01011001100': {'res': 1, 'phase': 0.796875, 'indicator': 0}, '01011001101': {'res': 1, 'phase': 0.80078125, 'indicator': 0}, '01011001110': {'res': 1, 'phase': 0.8046875, 'indicator': 0}, '01011001111': {'res': 1, 'phase': 0.80859375, 'indicator': 0}, '01011010000': {'res': 1, 'phase': 0.8125, 'indicator': 0}, '01011010001': {'res': 1, 'phase': 0.81640625, 'indicator': 0}, '01011010010': {'res': 1, 'phase': 0.8203125, 'indicator': 0}, '01011010011': {'res': 1, 'phase': 0.82421875, 'indicator': 0}, '01011010100': {'res': 1, 'phase': 0.828125, 'indicator': 0}, '01011010101': {'res': 1, 'phase': 0.83203125, 'indicator': 0}, '01011010110': {'res': 1, 'phase': 0.8359375, 'indicator': 0}, '01011010111': {'res': 1, 'phase': 0.83984375, 'indicator': 0}, '01011011000': {'res': 1, 'phase': 0.84375, 'indicator': 0}, '01011011001': {'res': 1, 'phase': 0.84765625, 'indicator': 0}, '01011011010': {'res': 1, 'phase': 0.8515625, 'indicator': 0}, '01011011011': {'res': 1, 'phase': 0.85546875, 'indicator': 0}, '01011011100': {'res': 1, 'phase': 0.859375, 'indicator': 0}, '01011011101': {'res': 1, 'phase': 0.86328125, 'indicator': 0}, '01011011110': {'res': 1, 'phase': 0.8671875, 'indicator': 0}, '01011011111': {'res': 1, 'phase': 0.87109375, 'indicator': 0}, '01011100000': {'res': 1, 'phase': 0.875, 'indicator': 0}, '01011100001': {'res': 1, 'phase': 0.87890625, 'indicator': 0}, '01011100010': {'res': 1, 'phase': 0.8828125, 'indicator': 0}, '01011100011': {'res': 1, 'phase': 0.88671875, 'indicator': 0}, '01011100100': {'res': 1, 'phase': 0.890625, 'indicator': 0}, '01011100101': {'res': 1, 'phase': 0.89453125, 'indicator': 0}, '01011100110': {'res': 1, 'phase': 0.8984375, 'indicator': 0}, '01011100111': {'res': 1, 'phase': 0.90234375, 'indicator': 0}, '01011101000': {'res': 1, 'phase': 0.90625, 'indicator': 0}, '01011101001': {'res': 1, 'phase': 0.91015625, 'indicator': 0}, '01011101010': {'res': 1, 'phase': 0.9140625, 'indicator': 0}, '01011101011': {'res': 1, 'phase': 0.91796875, 'indicator': 0}, '01011101100': {'res': 1, 'phase': 0.921875, 'indicator': 0}, '01011101101': {'res': 1, 'phase': 0.92578125, 'indicator': 0}, '01011101110': {'res': 1, 'phase': 0.9296875, 'indicator': 0}, '01011101111': {'res': 1, 'phase': 0.93359375, 'indicator': 0}, '01011110000': {'res': 1, 'phase': 0.9375, 'indicator': 0}, '01011110001': {'res': 1, 'phase': 0.94140625, 'indicator': 0}, '01011110010': {'res': 1, 'phase': 0.9453125, 'indicator': 0}, '01011110011': {'res': 1, 'phase': 0.94921875, 'indicator': 0}, '01011110100': {'res': 1, 'phase': 0.953125, 'indicator': 0}, '01011110101': {'res': 1, 'phase': 0.95703125, 'indicator': 0}, '01011110110': {'res': 1, 'phase': 0.9609375, 'indicator': 0}, '01011110111': {'res': 1, 'phase': 0.96484375, 'indicator': 0}, '01011111000': {'res': 1, 'phase': 0.96875, 'indicator': 0}, '01011111001': {'res': 1, 'phase': 0.97265625, 'indicator': 0}, '01011111010': {'res': 1, 'phase': 0.9765625, 'indicator': 0}, '01011111011': {'res': 1, 'phase': 0.98046875, 'indicator': 0}, '01011111100': {'res': 1, 'phase': 0.984375, 'indicator': 0}, '01011111101': {'res': 1, 'phase': 0.98828125, 'indicator': 0}, '01011111110': {'res': 1, 'phase': 0.9921875, 'indicator': 0}, '01011111111': {'res': 1, 'phase': 0.99609375, 'indicator': 0}, '01100000000': {'res': 1, 'phase': 0.0, 'indicator': 1}, '01100000001': {'res': 1, 'phase': 0.00390625, 'indicator': 1}, '01100000010': {'res': 1, 'phase': 0.0078125, 'indicator': 1}, '01100000011': {'res': 1, 'phase': 0.01171875, 'indicator': 1}, '01100000100': {'res': 1, 'phase': 0.015625, 'indicator': 1}, '01100000101': {'res': 1, 'phase': 0.01953125, 'indicator': 1}, '01100000110': {'res': 1, 'phase': 0.0234375, 'indicator': 1}, '01100000111': {'res': 1, 'phase': 0.02734375, 'indicator': 1}, '01100001000': {'res': 1, 'phase': 0.03125, 'indicator': 1}, '01100001001': {'res': 1, 'phase': 0.03515625, 'indicator': 1}, '01100001010': {'res': 1, 'phase': 0.0390625, 'indicator': 1}, '01100001011': {'res': 1, 'phase': 0.04296875, 'indicator': 1}, '01100001100': {'res': 1, 'phase': 0.046875, 'indicator': 1}, '01100001101': {'res': 1, 'phase': 0.05078125, 'indicator': 1}, '01100001110': {'res': 1, 'phase': 0.0546875, 'indicator': 1}, '01100001111': {'res': 1, 'phase': 0.05859375, 'indicator': 1}, '01100010000': {'res': 1, 'phase': 0.0625, 'indicator': 1}, '01100010001': {'res': 1, 'phase': 0.06640625, 'indicator': 1}, '01100010010': {'res': 1, 'phase': 0.0703125, 'indicator': 1}, '01100010011': {'res': 1, 'phase': 0.07421875, 'indicator': 1}, '01100010100': {'res': 1, 'phase': 0.078125, 'indicator': 1}, '01100010101': {'res': 1, 'phase': 0.08203125, 'indicator': 1}, '01100010110': {'res': 1, 'phase': 0.0859375, 'indicator': 1}, '01100010111': {'res': 1, 'phase': 0.08984375, 'indicator': 1}, '01100011000': {'res': 1, 'phase': 0.09375, 'indicator': 1}, '01100011001': {'res': 1, 'phase': 0.09765625, 'indicator': 1}, '01100011010': {'res': 1, 'phase': 0.1015625, 'indicator': 1}, '01100011011': {'res': 1, 'phase': 0.10546875, 'indicator': 1}, '01100011100': {'res': 1, 'phase': 0.109375, 'indicator': 1}, '01100011101': {'res': 1, 'phase': 0.11328125, 'indicator': 1}, '01100011110': {'res': 1, 'phase': 0.1171875, 'indicator': 1}, '01100011111': {'res': 1, 'phase': 0.12109375, 'indicator': 1}, '01100100000': {'res': 1, 'phase': 0.125, 'indicator': 1}, '01100100001': {'res': 1, 'phase': 0.12890625, 'indicator': 1}, '01100100010': {'res': 1, 'phase': 0.1328125, 'indicator': 1}, '01100100011': {'res': 1, 'phase': 0.13671875, 'indicator': 1}, '01100100100': {'res': 1, 'phase': 0.140625, 'indicator': 1}, '01100100101': {'res': 1, 'phase': 0.14453125, 'indicator': 1}, '01100100110': {'res': 1, 'phase': 0.1484375, 'indicator': 1}, '01100100111': {'res': 1, 'phase': 0.15234375, 'indicator': 1}, '01100101000': {'res': 1, 'phase': 0.15625, 'indicator': 1}, '01100101001': {'res': 1, 'phase': 0.16015625, 'indicator': 1}, '01100101010': {'res': 1, 'phase': 0.1640625, 'indicator': 1}, '01100101011': {'res': 1, 'phase': 0.16796875, 'indicator': 1}, '01100101100': {'res': 1, 'phase': 0.171875, 'indicator': 1}, '01100101101': {'res': 1, 'phase': 0.17578125, 'indicator': 1}, '01100101110': {'res': 1, 'phase': 0.1796875, 'indicator': 1}, '01100101111': {'res': 1, 'phase': 0.18359375, 'indicator': 1}, '01100110000': {'res': 1, 'phase': 0.1875, 'indicator': 1}, '01100110001': {'res': 1, 'phase': 0.19140625, 'indicator': 1}, '01100110010': {'res': 1, 'phase': 0.1953125, 'indicator': 1}, '01100110011': {'res': 1, 'phase': 0.19921875, 'indicator': 1}, '01100110100': {'res': 1, 'phase': 0.203125, 'indicator': 1}, '01100110101': {'res': 1, 'phase': 0.20703125, 'indicator': 1}, '01100110110': {'res': 1, 'phase': 0.2109375, 'indicator': 1}, '01100110111': {'res': 1, 'phase': 0.21484375, 'indicator': 1}, '01100111000': {'res': 1, 'phase': 0.21875, 'indicator': 1}, '01100111001': {'res': 1, 'phase': 0.22265625, 'indicator': 1}, '01100111010': {'res': 1, 'phase': 0.2265625, 'indicator': 1}, '01100111011': {'res': 1, 'phase': 0.23046875, 'indicator': 1}, '01100111100': {'res': 1, 'phase': 0.234375, 'indicator': 1}, '01100111101': {'res': 1, 'phase': 0.23828125, 'indicator': 1}, '01100111110': {'res': 1, 'phase': 0.2421875, 'indicator': 1}, '01100111111': {'res': 1, 'phase': 0.24609375, 'indicator': 1}, '01101000000': {'res': 1, 'phase': 0.25, 'indicator': 1}, '01101000001': {'res': 1, 'phase': 0.25390625, 'indicator': 1}, '01101000010': {'res': 1, 'phase': 0.2578125, 'indicator': 1}, '01101000011': {'res': 1, 'phase': 0.26171875, 'indicator': 1}, '01101000100': {'res': 1, 'phase': 0.265625, 'indicator': 1}, '01101000101': {'res': 1, 'phase': 0.26953125, 'indicator': 1}, '01101000110': {'res': 1, 'phase': 0.2734375, 'indicator': 1}, '01101000111': {'res': 1, 'phase': 0.27734375, 'indicator': 1}, '01101001000': {'res': 1, 'phase': 0.28125, 'indicator': 1}, '01101001001': {'res': 1, 'phase': 0.28515625, 'indicator': 1}, '01101001010': {'res': 1, 'phase': 0.2890625, 'indicator': 1}, '01101001011': {'res': 1, 'phase': 0.29296875, 'indicator': 1}, '01101001100': {'res': 1, 'phase': 0.296875, 'indicator': 1}, '01101001101': {'res': 1, 'phase': 0.30078125, 'indicator': 1}, '01101001110': {'res': 1, 'phase': 0.3046875, 'indicator': 1}, '01101001111': {'res': 1, 'phase': 0.30859375, 'indicator': 1}, '01101010000': {'res': 1, 'phase': 0.3125, 'indicator': 1}, '01101010001': {'res': 1, 'phase': 0.31640625, 'indicator': 1}, '01101010010': {'res': 1, 'phase': 0.3203125, 'indicator': 1}, '01101010011': {'res': 1, 'phase': 0.32421875, 'indicator': 1}, '01101010100': {'res': 1, 'phase': 0.328125, 'indicator': 1}, '01101010101': {'res': 1, 'phase': 0.33203125, 'indicator': 1}, '01101010110': {'res': 1, 'phase': 0.3359375, 'indicator': 1}, '01101010111': {'res': 1, 'phase': 0.33984375, 'indicator': 1}, '01101011000': {'res': 1, 'phase': 0.34375, 'indicator': 1}, '01101011001': {'res': 1, 'phase': 0.34765625, 'indicator': 1}, '01101011010': {'res': 1, 'phase': 0.3515625, 'indicator': 1}, '01101011011': {'res': 1, 'phase': 0.35546875, 'indicator': 1}, '01101011100': {'res': 1, 'phase': 0.359375, 'indicator': 1}, '01101011101': {'res': 1, 'phase': 0.36328125, 'indicator': 1}, '01101011110': {'res': 1, 'phase': 0.3671875, 'indicator': 1}, '01101011111': {'res': 1, 'phase': 0.37109375, 'indicator': 1}, '01101100000': {'res': 1, 'phase': 0.375, 'indicator': 1}, '01101100001': {'res': 1, 'phase': 0.37890625, 'indicator': 1}, '01101100010': {'res': 1, 'phase': 0.3828125, 'indicator': 1}, '01101100011': {'res': 1, 'phase': 0.38671875, 'indicator': 1}, '01101100100': {'res': 1, 'phase': 0.390625, 'indicator': 1}, '01101100101': {'res': 1, 'phase': 0.39453125, 'indicator': 1}, '01101100110': {'res': 1, 'phase': 0.3984375, 'indicator': 1}, '01101100111': {'res': 1, 'phase': 0.40234375, 'indicator': 1}, '01101101000': {'res': 1, 'phase': 0.40625, 'indicator': 1}, '01101101001': {'res': 1, 'phase': 0.41015625, 'indicator': 1}, '01101101010': {'res': 1, 'phase': 0.4140625, 'indicator': 1}, '01101101011': {'res': 1, 'phase': 0.41796875, 'indicator': 1}, '01101101100': {'res': 1, 'phase': 0.421875, 'indicator': 1}, '01101101101': {'res': 1, 'phase': 0.42578125, 'indicator': 1}, '01101101110': {'res': 1, 'phase': 0.4296875, 'indicator': 1}, '01101101111': {'res': 1, 'phase': 0.43359375, 'indicator': 1}, '01101110000': {'res': 1, 'phase': 0.4375, 'indicator': 1}, '01101110001': {'res': 1, 'phase': 0.44140625, 'indicator': 1}, '01101110010': {'res': 1, 'phase': 0.4453125, 'indicator': 1}, '01101110011': {'res': 1, 'phase': 0.44921875, 'indicator': 1}, '01101110100': {'res': 1, 'phase': 0.453125, 'indicator': 1}, '01101110101': {'res': 1, 'phase': 0.45703125, 'indicator': 1}, '01101110110': {'res': 1, 'phase': 0.4609375, 'indicator': 1}, '01101110111': {'res': 1, 'phase': 0.46484375, 'indicator': 1}, '01101111000': {'res': 1, 'phase': 0.46875, 'indicator': 1}, '01101111001': {'res': 1, 'phase': 0.47265625, 'indicator': 1}, '01101111010': {'res': 1, 'phase': 0.4765625, 'indicator': 1}, '01101111011': {'res': 1, 'phase': 0.48046875, 'indicator': 1}, '01101111100': {'res': 1, 'phase': 0.484375, 'indicator': 1}, '01101111101': {'res': 1, 'phase': 0.48828125, 'indicator': 1}, '01101111110': {'res': 1, 'phase': 0.4921875, 'indicator': 1}, '01101111111': {'res': 1, 'phase': 0.49609375, 'indicator': 1}, '01110000000': {'res': 1, 'phase': 0.5, 'indicator': 1}, '01110000001': {'res': 1, 'phase': 0.50390625, 'indicator': 1}, '01110000010': {'res': 1, 'phase': 0.5078125, 'indicator': 1}, '01110000011': {'res': 1, 'phase': 0.51171875, 'indicator': 1}, '01110000100': {'res': 1, 'phase': 0.515625, 'indicator': 1}, '01110000101': {'res': 1, 'phase': 0.51953125, 'indicator': 1}, '01110000110': {'res': 1, 'phase': 0.5234375, 'indicator': 1}, '01110000111': {'res': 1, 'phase': 0.52734375, 'indicator': 1}, '01110001000': {'res': 1, 'phase': 0.53125, 'indicator': 1}, '01110001001': {'res': 1, 'phase': 0.53515625, 'indicator': 1}, '01110001010': {'res': 1, 'phase': 0.5390625, 'indicator': 1}, '01110001011': {'res': 1, 'phase': 0.54296875, 'indicator': 1}, '01110001100': {'res': 1, 'phase': 0.546875, 'indicator': 1}, '01110001101': {'res': 1, 'phase': 0.55078125, 'indicator': 1}, '01110001110': {'res': 1, 'phase': 0.5546875, 'indicator': 1}, '01110001111': {'res': 1, 'phase': 0.55859375, 'indicator': 1}, '01110010000': {'res': 1, 'phase': 0.5625, 'indicator': 1}, '01110010001': {'res': 1, 'phase': 0.56640625, 'indicator': 1}, '01110010010': {'res': 1, 'phase': 0.5703125, 'indicator': 1}, '01110010011': {'res': 1, 'phase': 0.57421875, 'indicator': 1}, '01110010100': {'res': 1, 'phase': 0.578125, 'indicator': 1}, '01110010101': {'res': 1, 'phase': 0.58203125, 'indicator': 1}, '01110010110': {'res': 1, 'phase': 0.5859375, 'indicator': 1}, '01110010111': {'res': 1, 'phase': 0.58984375, 'indicator': 1}, '01110011000': {'res': 1, 'phase': 0.59375, 'indicator': 1}, '01110011001': {'res': 1, 'phase': 0.59765625, 'indicator': 1}, '01110011010': {'res': 1, 'phase': 0.6015625, 'indicator': 1}, '01110011011': {'res': 1, 'phase': 0.60546875, 'indicator': 1}, '01110011100': {'res': 1, 'phase': 0.609375, 'indicator': 1}, '01110011101': {'res': 1, 'phase': 0.61328125, 'indicator': 1}, '01110011110': {'res': 1, 'phase': 0.6171875, 'indicator': 1}, '01110011111': {'res': 1, 'phase': 0.62109375, 'indicator': 1}, '01110100000': {'res': 1, 'phase': 0.625, 'indicator': 1}, '01110100001': {'res': 1, 'phase': 0.62890625, 'indicator': 1}, '01110100010': {'res': 1, 'phase': 0.6328125, 'indicator': 1}, '01110100011': {'res': 1, 'phase': 0.63671875, 'indicator': 1}, '01110100100': {'res': 1, 'phase': 0.640625, 'indicator': 1}, '01110100101': {'res': 1, 'phase': 0.64453125, 'indicator': 1}, '01110100110': {'res': 1, 'phase': 0.6484375, 'indicator': 1}, '01110100111': {'res': 1, 'phase': 0.65234375, 'indicator': 1}, '01110101000': {'res': 1, 'phase': 0.65625, 'indicator': 1}, '01110101001': {'res': 1, 'phase': 0.66015625, 'indicator': 1}, '01110101010': {'res': 1, 'phase': 0.6640625, 'indicator': 1}, '01110101011': {'res': 1, 'phase': 0.66796875, 'indicator': 1}, '01110101100': {'res': 1, 'phase': 0.671875, 'indicator': 1}, '01110101101': {'res': 1, 'phase': 0.67578125, 'indicator': 1}, '01110101110': {'res': 1, 'phase': 0.6796875, 'indicator': 1}, '01110101111': {'res': 1, 'phase': 0.68359375, 'indicator': 1}, '01110110000': {'res': 1, 'phase': 0.6875, 'indicator': 1}, '01110110001': {'res': 1, 'phase': 0.69140625, 'indicator': 1}, '01110110010': {'res': 1, 'phase': 0.6953125, 'indicator': 1}, '01110110011': {'res': 1, 'phase': 0.69921875, 'indicator': 1}, '01110110100': {'res': 1, 'phase': 0.703125, 'indicator': 1}, '01110110101': {'res': 1, 'phase': 0.70703125, 'indicator': 1}, '01110110110': {'res': 1, 'phase': 0.7109375, 'indicator': 1}, '01110110111': {'res': 1, 'phase': 0.71484375, 'indicator': 1}, '01110111000': {'res': 1, 'phase': 0.71875, 'indicator': 1}, '01110111001': {'res': 1, 'phase': 0.72265625, 'indicator': 1}, '01110111010': {'res': 1, 'phase': 0.7265625, 'indicator': 1}, '01110111011': {'res': 1, 'phase': 0.73046875, 'indicator': 1}, '01110111100': {'res': 1, 'phase': 0.734375, 'indicator': 1}, '01110111101': {'res': 1, 'phase': 0.73828125, 'indicator': 1}, '01110111110': {'res': 1, 'phase': 0.7421875, 'indicator': 1}, '01110111111': {'res': 1, 'phase': 0.74609375, 'indicator': 1}, '01111000000': {'res': 1, 'phase': 0.75, 'indicator': 1}, '01111000001': {'res': 1, 'phase': 0.75390625, 'indicator': 1}, '01111000010': {'res': 1, 'phase': 0.7578125, 'indicator': 1}, '01111000011': {'res': 1, 'phase': 0.76171875, 'indicator': 1}, '01111000100': {'res': 1, 'phase': 0.765625, 'indicator': 1}, '01111000101': {'res': 1, 'phase': 0.76953125, 'indicator': 1}, '01111000110': {'res': 1, 'phase': 0.7734375, 'indicator': 1}, '01111000111': {'res': 1, 'phase': 0.77734375, 'indicator': 1}, '01111001000': {'res': 1, 'phase': 0.78125, 'indicator': 1}, '01111001001': {'res': 1, 'phase': 0.78515625, 'indicator': 1}, '01111001010': {'res': 1, 'phase': 0.7890625, 'indicator': 1}, '01111001011': {'res': 1, 'phase': 0.79296875, 'indicator': 1}, '01111001100': {'res': 1, 'phase': 0.796875, 'indicator': 1}, '01111001101': {'res': 1, 'phase': 0.80078125, 'indicator': 1}, '01111001110': {'res': 1, 'phase': 0.8046875, 'indicator': 1}, '01111001111': {'res': 1, 'phase': 0.80859375, 'indicator': 1}, '01111010000': {'res': 1, 'phase': 0.8125, 'indicator': 1}, '01111010001': {'res': 1, 'phase': 0.81640625, 'indicator': 1}, '01111010010': {'res': 1, 'phase': 0.8203125, 'indicator': 1}, '01111010011': {'res': 1, 'phase': 0.82421875, 'indicator': 1}, '01111010100': {'res': 1, 'phase': 0.828125, 'indicator': 1}, '01111010101': {'res': 1, 'phase': 0.83203125, 'indicator': 1}, '01111010110': {'res': 1, 'phase': 0.8359375, 'indicator': 1}, '01111010111': {'res': 1, 'phase': 0.83984375, 'indicator': 1}, '01111011000': {'res': 1, 'phase': 0.84375, 'indicator': 1}, '01111011001': {'res': 1, 'phase': 0.84765625, 'indicator': 1}, '01111011010': {'res': 1, 'phase': 0.8515625, 'indicator': 1}, '01111011011': {'res': 1, 'phase': 0.85546875, 'indicator': 1}, '01111011100': {'res': 1, 'phase': 0.859375, 'indicator': 1}, '01111011101': {'res': 1, 'phase': 0.86328125, 'indicator': 1}, '01111011110': {'res': 1, 'phase': 0.8671875, 'indicator': 1}, '01111011111': {'res': 1, 'phase': 0.87109375, 'indicator': 1}, '01111100000': {'res': 1, 'phase': 0.875, 'indicator': 1}, '01111100001': {'res': 1, 'phase': 0.87890625, 'indicator': 1}, '01111100010': {'res': 1, 'phase': 0.8828125, 'indicator': 1}, '01111100011': {'res': 1, 'phase': 0.88671875, 'indicator': 1}, '01111100100': {'res': 1, 'phase': 0.890625, 'indicator': 1}, '01111100101': {'res': 1, 'phase': 0.89453125, 'indicator': 1}, '01111100110': {'res': 1, 'phase': 0.8984375, 'indicator': 1}, '01111100111': {'res': 1, 'phase': 0.90234375, 'indicator': 1}, '01111101000': {'res': 1, 'phase': 0.90625, 'indicator': 1}, '01111101001': {'res': 1, 'phase': 0.91015625, 'indicator': 1}, '01111101010': {'res': 1, 'phase': 0.9140625, 'indicator': 1}, '01111101011': {'res': 1, 'phase': 0.91796875, 'indicator': 1}, '01111101100': {'res': 1, 'phase': 0.921875, 'indicator': 1}, '01111101101': {'res': 1, 'phase': 0.92578125, 'indicator': 1}, '01111101110': {'res': 1, 'phase': 0.9296875, 'indicator': 1}, '01111101111': {'res': 1, 'phase': 0.93359375, 'indicator': 1}, '01111110000': {'res': 1, 'phase': 0.9375, 'indicator': 1}, '01111110001': {'res': 1, 'phase': 0.94140625, 'indicator': 1}, '01111110010': {'res': 1, 'phase': 0.9453125, 'indicator': 1}, '01111110011': {'res': 1, 'phase': 0.94921875, 'indicator': 1}, '01111110100': {'res': 1, 'phase': 0.953125, 'indicator': 1}, '01111110101': {'res': 1, 'phase': 0.95703125, 'indicator': 1}, '01111110110': {'res': 1, 'phase': 0.9609375, 'indicator': 1}, '01111110111': {'res': 1, 'phase': 0.96484375, 'indicator': 1}, '01111111000': {'res': 1, 'phase': 0.96875, 'indicator': 1}, '01111111001': {'res': 1, 'phase': 0.97265625, 'indicator': 1}, '01111111010': {'res': 1, 'phase': 0.9765625, 'indicator': 1}, '01111111011': {'res': 1, 'phase': 0.98046875, 'indicator': 1}, '01111111100': {'res': 1, 'phase': 0.984375, 'indicator': 1}, '01111111101': {'res': 1, 'phase': 0.98828125, 'indicator': 1}, '01111111110': {'res': 1, 'phase': 0.9921875, 'indicator': 1}, '01111111111': {'res': 1, 'phase': 0.99609375, 'indicator': 1}, '10000000000': {'res': 2, 'phase': 0.0, 'indicator': 0}, '10000000001': {'res': 2, 'phase': 0.00390625, 'indicator': 0}, '10000000010': {'res': 2, 'phase': 0.0078125, 'indicator': 0}, '10000000011': {'res': 2, 'phase': 0.01171875, 'indicator': 0}, '10000000100': {'res': 2, 'phase': 0.015625, 'indicator': 0}, '10000000101': {'res': 2, 'phase': 0.01953125, 'indicator': 0}, '10000000110': {'res': 2, 'phase': 0.0234375, 'indicator': 0}, '10000000111': {'res': 2, 'phase': 0.02734375, 'indicator': 0}, '10000001000': {'res': 2, 'phase': 0.03125, 'indicator': 0}, '10000001001': {'res': 2, 'phase': 0.03515625, 'indicator': 0}, '10000001010': {'res': 2, 'phase': 0.0390625, 'indicator': 0}, '10000001011': {'res': 2, 'phase': 0.04296875, 'indicator': 0}, '10000001100': {'res': 2, 'phase': 0.046875, 'indicator': 0}, '10000001101': {'res': 2, 'phase': 0.05078125, 'indicator': 0}, '10000001110': {'res': 2, 'phase': 0.0546875, 'indicator': 0}, '10000001111': {'res': 2, 'phase': 0.05859375, 'indicator': 0}, '10000010000': {'res': 2, 'phase': 0.0625, 'indicator': 0}, '10000010001': {'res': 2, 'phase': 0.06640625, 'indicator': 0}, '10000010010': {'res': 2, 'phase': 0.0703125, 'indicator': 0}, '10000010011': {'res': 2, 'phase': 0.07421875, 'indicator': 0}, '10000010100': {'res': 2, 'phase': 0.078125, 'indicator': 0}, '10000010101': {'res': 2, 'phase': 0.08203125, 'indicator': 0}, '10000010110': {'res': 2, 'phase': 0.0859375, 'indicator': 0}, '10000010111': {'res': 2, 'phase': 0.08984375, 'indicator': 0}, '10000011000': {'res': 2, 'phase': 0.09375, 'indicator': 0}, '10000011001': {'res': 2, 'phase': 0.09765625, 'indicator': 0}, '10000011010': {'res': 2, 'phase': 0.1015625, 'indicator': 0}, '10000011011': {'res': 2, 'phase': 0.10546875, 'indicator': 0}, '10000011100': {'res': 2, 'phase': 0.109375, 'indicator': 0}, '10000011101': {'res': 2, 'phase': 0.11328125, 'indicator': 0}, '10000011110': {'res': 2, 'phase': 0.1171875, 'indicator': 0}, '10000011111': {'res': 2, 'phase': 0.12109375, 'indicator': 0}, '10000100000': {'res': 2, 'phase': 0.125, 'indicator': 0}, '10000100001': {'res': 2, 'phase': 0.12890625, 'indicator': 0}, '10000100010': {'res': 2, 'phase': 0.1328125, 'indicator': 0}, '10000100011': {'res': 2, 'phase': 0.13671875, 'indicator': 0}, '10000100100': {'res': 2, 'phase': 0.140625, 'indicator': 0}, '10000100101': {'res': 2, 'phase': 0.14453125, 'indicator': 0}, '10000100110': {'res': 2, 'phase': 0.1484375, 'indicator': 0}, '10000100111': {'res': 2, 'phase': 0.15234375, 'indicator': 0}, '10000101000': {'res': 2, 'phase': 0.15625, 'indicator': 0}, '10000101001': {'res': 2, 'phase': 0.16015625, 'indicator': 0}, '10000101010': {'res': 2, 'phase': 0.1640625, 'indicator': 0}, '10000101011': {'res': 2, 'phase': 0.16796875, 'indicator': 0}, '10000101100': {'res': 2, 'phase': 0.171875, 'indicator': 0}, '10000101101': {'res': 2, 'phase': 0.17578125, 'indicator': 0}, '10000101110': {'res': 2, 'phase': 0.1796875, 'indicator': 0}, '10000101111': {'res': 2, 'phase': 0.18359375, 'indicator': 0}, '10000110000': {'res': 2, 'phase': 0.1875, 'indicator': 0}, '10000110001': {'res': 2, 'phase': 0.19140625, 'indicator': 0}, '10000110010': {'res': 2, 'phase': 0.1953125, 'indicator': 0}, '10000110011': {'res': 2, 'phase': 0.19921875, 'indicator': 0}, '10000110100': {'res': 2, 'phase': 0.203125, 'indicator': 0}, '10000110101': {'res': 2, 'phase': 0.20703125, 'indicator': 0}, '10000110110': {'res': 2, 'phase': 0.2109375, 'indicator': 0}, '10000110111': {'res': 2, 'phase': 0.21484375, 'indicator': 0}, '10000111000': {'res': 2, 'phase': 0.21875, 'indicator': 0}, '10000111001': {'res': 2, 'phase': 0.22265625, 'indicator': 0}, '10000111010': {'res': 2, 'phase': 0.2265625, 'indicator': 0}, '10000111011': {'res': 2, 'phase': 0.23046875, 'indicator': 0}, '10000111100': {'res': 2, 'phase': 0.234375, 'indicator': 0}, '10000111101': {'res': 2, 'phase': 0.23828125, 'indicator': 0}, '10000111110': {'res': 2, 'phase': 0.2421875, 'indicator': 0}, '10000111111': {'res': 2, 'phase': 0.24609375, 'indicator': 0}, '10001000000': {'res': 2, 'phase': 0.25, 'indicator': 0}, '10001000001': {'res': 2, 'phase': 0.25390625, 'indicator': 0}, '10001000010': {'res': 2, 'phase': 0.2578125, 'indicator': 0}, '10001000011': {'res': 2, 'phase': 0.26171875, 'indicator': 0}, '10001000100': {'res': 2, 'phase': 0.265625, 'indicator': 0}, '10001000101': {'res': 2, 'phase': 0.26953125, 'indicator': 0}, '10001000110': {'res': 2, 'phase': 0.2734375, 'indicator': 0}, '10001000111': {'res': 2, 'phase': 0.27734375, 'indicator': 0}, '10001001000': {'res': 2, 'phase': 0.28125, 'indicator': 0}, '10001001001': {'res': 2, 'phase': 0.28515625, 'indicator': 0}, '10001001010': {'res': 2, 'phase': 0.2890625, 'indicator': 0}, '10001001011': {'res': 2, 'phase': 0.29296875, 'indicator': 0}, '10001001100': {'res': 2, 'phase': 0.296875, 'indicator': 0}, '10001001101': {'res': 2, 'phase': 0.30078125, 'indicator': 0}, '10001001110': {'res': 2, 'phase': 0.3046875, 'indicator': 0}, '10001001111': {'res': 2, 'phase': 0.30859375, 'indicator': 0}, '10001010000': {'res': 2, 'phase': 0.3125, 'indicator': 0}, '10001010001': {'res': 2, 'phase': 0.31640625, 'indicator': 0}, '10001010010': {'res': 2, 'phase': 0.3203125, 'indicator': 0}, '10001010011': {'res': 2, 'phase': 0.32421875, 'indicator': 0}, '10001010100': {'res': 2, 'phase': 0.328125, 'indicator': 0}, '10001010101': {'res': 2, 'phase': 0.33203125, 'indicator': 0}, '10001010110': {'res': 2, 'phase': 0.3359375, 'indicator': 0}, '10001010111': {'res': 2, 'phase': 0.33984375, 'indicator': 0}, '10001011000': {'res': 2, 'phase': 0.34375, 'indicator': 0}, '10001011001': {'res': 2, 'phase': 0.34765625, 'indicator': 0}, '10001011010': {'res': 2, 'phase': 0.3515625, 'indicator': 0}, '10001011011': {'res': 2, 'phase': 0.35546875, 'indicator': 0}, '10001011100': {'res': 2, 'phase': 0.359375, 'indicator': 0}, '10001011101': {'res': 2, 'phase': 0.36328125, 'indicator': 0}, '10001011110': {'res': 2, 'phase': 0.3671875, 'indicator': 0}, '10001011111': {'res': 2, 'phase': 0.37109375, 'indicator': 0}, '10001100000': {'res': 2, 'phase': 0.375, 'indicator': 0}, '10001100001': {'res': 2, 'phase': 0.37890625, 'indicator': 0}, '10001100010': {'res': 2, 'phase': 0.3828125, 'indicator': 0}, '10001100011': {'res': 2, 'phase': 0.38671875, 'indicator': 0}, '10001100100': {'res': 2, 'phase': 0.390625, 'indicator': 0}, '10001100101': {'res': 2, 'phase': 0.39453125, 'indicator': 0}, '10001100110': {'res': 2, 'phase': 0.3984375, 'indicator': 0}, '10001100111': {'res': 2, 'phase': 0.40234375, 'indicator': 0}, '10001101000': {'res': 2, 'phase': 0.40625, 'indicator': 0}, '10001101001': {'res': 2, 'phase': 0.41015625, 'indicator': 0}, '10001101010': {'res': 2, 'phase': 0.4140625, 'indicator': 0}, '10001101011': {'res': 2, 'phase': 0.41796875, 'indicator': 0}, '10001101100': {'res': 2, 'phase': 0.421875, 'indicator': 0}, '10001101101': {'res': 2, 'phase': 0.42578125, 'indicator': 0}, '10001101110': {'res': 2, 'phase': 0.4296875, 'indicator': 0}, '10001101111': {'res': 2, 'phase': 0.43359375, 'indicator': 0}, '10001110000': {'res': 2, 'phase': 0.4375, 'indicator': 0}, '10001110001': {'res': 2, 'phase': 0.44140625, 'indicator': 0}, '10001110010': {'res': 2, 'phase': 0.4453125, 'indicator': 0}, '10001110011': {'res': 2, 'phase': 0.44921875, 'indicator': 0}, '10001110100': {'res': 2, 'phase': 0.453125, 'indicator': 0}, '10001110101': {'res': 2, 'phase': 0.45703125, 'indicator': 0}, '10001110110': {'res': 2, 'phase': 0.4609375, 'indicator': 0}, '10001110111': {'res': 2, 'phase': 0.46484375, 'indicator': 0}, '10001111000': {'res': 2, 'phase': 0.46875, 'indicator': 0}, '10001111001': {'res': 2, 'phase': 0.47265625, 'indicator': 0}, '10001111010': {'res': 2, 'phase': 0.4765625, 'indicator': 0}, '10001111011': {'res': 2, 'phase': 0.48046875, 'indicator': 0}, '10001111100': {'res': 2, 'phase': 0.484375, 'indicator': 0}, '10001111101': {'res': 2, 'phase': 0.48828125, 'indicator': 0}, '10001111110': {'res': 2, 'phase': 0.4921875, 'indicator': 0}, '10001111111': {'res': 2, 'phase': 0.49609375, 'indicator': 0}, '10010000000': {'res': 2, 'phase': 0.5, 'indicator': 0}, '10010000001': {'res': 2, 'phase': 0.50390625, 'indicator': 0}, '10010000010': {'res': 2, 'phase': 0.5078125, 'indicator': 0}, '10010000011': {'res': 2, 'phase': 0.51171875, 'indicator': 0}, '10010000100': {'res': 2, 'phase': 0.515625, 'indicator': 0}, '10010000101': {'res': 2, 'phase': 0.51953125, 'indicator': 0}, '10010000110': {'res': 2, 'phase': 0.5234375, 'indicator': 0}, '10010000111': {'res': 2, 'phase': 0.52734375, 'indicator': 0}, '10010001000': {'res': 2, 'phase': 0.53125, 'indicator': 0}, '10010001001': {'res': 2, 'phase': 0.53515625, 'indicator': 0}, '10010001010': {'res': 2, 'phase': 0.5390625, 'indicator': 0}, '10010001011': {'res': 2, 'phase': 0.54296875, 'indicator': 0}, '10010001100': {'res': 2, 'phase': 0.546875, 'indicator': 0}, '10010001101': {'res': 2, 'phase': 0.55078125, 'indicator': 0}, '10010001110': {'res': 2, 'phase': 0.5546875, 'indicator': 0}, '10010001111': {'res': 2, 'phase': 0.55859375, 'indicator': 0}, '10010010000': {'res': 2, 'phase': 0.5625, 'indicator': 0}, '10010010001': {'res': 2, 'phase': 0.56640625, 'indicator': 0}, '10010010010': {'res': 2, 'phase': 0.5703125, 'indicator': 0}, '10010010011': {'res': 2, 'phase': 0.57421875, 'indicator': 0}, '10010010100': {'res': 2, 'phase': 0.578125, 'indicator': 0}, '10010010101': {'res': 2, 'phase': 0.58203125, 'indicator': 0}, '10010010110': {'res': 2, 'phase': 0.5859375, 'indicator': 0}, '10010010111': {'res': 2, 'phase': 0.58984375, 'indicator': 0}, '10010011000': {'res': 2, 'phase': 0.59375, 'indicator': 0}, '10010011001': {'res': 2, 'phase': 0.59765625, 'indicator': 0}, '10010011010': {'res': 2, 'phase': 0.6015625, 'indicator': 0}, '10010011011': {'res': 2, 'phase': 0.60546875, 'indicator': 0}, '10010011100': {'res': 2, 'phase': 0.609375, 'indicator': 0}, '10010011101': {'res': 2, 'phase': 0.61328125, 'indicator': 0}, '10010011110': {'res': 2, 'phase': 0.6171875, 'indicator': 0}, '10010011111': {'res': 2, 'phase': 0.62109375, 'indicator': 0}, '10010100000': {'res': 2, 'phase': 0.625, 'indicator': 0}, '10010100001': {'res': 2, 'phase': 0.62890625, 'indicator': 0}, '10010100010': {'res': 2, 'phase': 0.6328125, 'indicator': 0}, '10010100011': {'res': 2, 'phase': 0.63671875, 'indicator': 0}, '10010100100': {'res': 2, 'phase': 0.640625, 'indicator': 0}, '10010100101': {'res': 2, 'phase': 0.64453125, 'indicator': 0}, '10010100110': {'res': 2, 'phase': 0.6484375, 'indicator': 0}, '10010100111': {'res': 2, 'phase': 0.65234375, 'indicator': 0}, '10010101000': {'res': 2, 'phase': 0.65625, 'indicator': 0}, '10010101001': {'res': 2, 'phase': 0.66015625, 'indicator': 0}, '10010101010': {'res': 2, 'phase': 0.6640625, 'indicator': 0}, '10010101011': {'res': 2, 'phase': 0.66796875, 'indicator': 0}, '10010101100': {'res': 2, 'phase': 0.671875, 'indicator': 0}, '10010101101': {'res': 2, 'phase': 0.67578125, 'indicator': 0}, '10010101110': {'res': 2, 'phase': 0.6796875, 'indicator': 0}, '10010101111': {'res': 2, 'phase': 0.68359375, 'indicator': 0}, '10010110000': {'res': 2, 'phase': 0.6875, 'indicator': 0}, '10010110001': {'res': 2, 'phase': 0.69140625, 'indicator': 0}, '10010110010': {'res': 2, 'phase': 0.6953125, 'indicator': 0}, '10010110011': {'res': 2, 'phase': 0.69921875, 'indicator': 0}, '10010110100': {'res': 2, 'phase': 0.703125, 'indicator': 0}, '10010110101': {'res': 2, 'phase': 0.70703125, 'indicator': 0}, '10010110110': {'res': 2, 'phase': 0.7109375, 'indicator': 0}, '10010110111': {'res': 2, 'phase': 0.71484375, 'indicator': 0}, '10010111000': {'res': 2, 'phase': 0.71875, 'indicator': 0}, '10010111001': {'res': 2, 'phase': 0.72265625, 'indicator': 0}, '10010111010': {'res': 2, 'phase': 0.7265625, 'indicator': 0}, '10010111011': {'res': 2, 'phase': 0.73046875, 'indicator': 0}, '10010111100': {'res': 2, 'phase': 0.734375, 'indicator': 0}, '10010111101': {'res': 2, 'phase': 0.73828125, 'indicator': 0}, '10010111110': {'res': 2, 'phase': 0.7421875, 'indicator': 0}, '10010111111': {'res': 2, 'phase': 0.74609375, 'indicator': 0}, '10011000000': {'res': 2, 'phase': 0.75, 'indicator': 0}, '10011000001': {'res': 2, 'phase': 0.75390625, 'indicator': 0}, '10011000010': {'res': 2, 'phase': 0.7578125, 'indicator': 0}, '10011000011': {'res': 2, 'phase': 0.76171875, 'indicator': 0}, '10011000100': {'res': 2, 'phase': 0.765625, 'indicator': 0}, '10011000101': {'res': 2, 'phase': 0.76953125, 'indicator': 0}, '10011000110': {'res': 2, 'phase': 0.7734375, 'indicator': 0}, '10011000111': {'res': 2, 'phase': 0.77734375, 'indicator': 0}, '10011001000': {'res': 2, 'phase': 0.78125, 'indicator': 0}, '10011001001': {'res': 2, 'phase': 0.78515625, 'indicator': 0}, '10011001010': {'res': 2, 'phase': 0.7890625, 'indicator': 0}, '10011001011': {'res': 2, 'phase': 0.79296875, 'indicator': 0}, '10011001100': {'res': 2, 'phase': 0.796875, 'indicator': 0}, '10011001101': {'res': 2, 'phase': 0.80078125, 'indicator': 0}, '10011001110': {'res': 2, 'phase': 0.8046875, 'indicator': 0}, '10011001111': {'res': 2, 'phase': 0.80859375, 'indicator': 0}, '10011010000': {'res': 2, 'phase': 0.8125, 'indicator': 0}, '10011010001': {'res': 2, 'phase': 0.81640625, 'indicator': 0}, '10011010010': {'res': 2, 'phase': 0.8203125, 'indicator': 0}, '10011010011': {'res': 2, 'phase': 0.82421875, 'indicator': 0}, '10011010100': {'res': 2, 'phase': 0.828125, 'indicator': 0}, '10011010101': {'res': 2, 'phase': 0.83203125, 'indicator': 0}, '10011010110': {'res': 2, 'phase': 0.8359375, 'indicator': 0}, '10011010111': {'res': 2, 'phase': 0.83984375, 'indicator': 0}, '10011011000': {'res': 2, 'phase': 0.84375, 'indicator': 0}, '10011011001': {'res': 2, 'phase': 0.84765625, 'indicator': 0}, '10011011010': {'res': 2, 'phase': 0.8515625, 'indicator': 0}, '10011011011': {'res': 2, 'phase': 0.85546875, 'indicator': 0}, '10011011100': {'res': 2, 'phase': 0.859375, 'indicator': 0}, '10011011101': {'res': 2, 'phase': 0.86328125, 'indicator': 0}, '10011011110': {'res': 2, 'phase': 0.8671875, 'indicator': 0}, '10011011111': {'res': 2, 'phase': 0.87109375, 'indicator': 0}, '10011100000': {'res': 2, 'phase': 0.875, 'indicator': 0}, '10011100001': {'res': 2, 'phase': 0.87890625, 'indicator': 0}, '10011100010': {'res': 2, 'phase': 0.8828125, 'indicator': 0}, '10011100011': {'res': 2, 'phase': 0.88671875, 'indicator': 0}, '10011100100': {'res': 2, 'phase': 0.890625, 'indicator': 0}, '10011100101': {'res': 2, 'phase': 0.89453125, 'indicator': 0}, '10011100110': {'res': 2, 'phase': 0.8984375, 'indicator': 0}, '10011100111': {'res': 2, 'phase': 0.90234375, 'indicator': 0}, '10011101000': {'res': 2, 'phase': 0.90625, 'indicator': 0}, '10011101001': {'res': 2, 'phase': 0.91015625, 'indicator': 0}, '10011101010': {'res': 2, 'phase': 0.9140625, 'indicator': 0}, '10011101011': {'res': 2, 'phase': 0.91796875, 'indicator': 0}, '10011101100': {'res': 2, 'phase': 0.921875, 'indicator': 0}, '10011101101': {'res': 2, 'phase': 0.92578125, 'indicator': 0}, '10011101110': {'res': 2, 'phase': 0.9296875, 'indicator': 0}, '10011101111': {'res': 2, 'phase': 0.93359375, 'indicator': 0}, '10011110000': {'res': 2, 'phase': 0.9375, 'indicator': 0}, '10011110001': {'res': 2, 'phase': 0.94140625, 'indicator': 0}, '10011110010': {'res': 2, 'phase': 0.9453125, 'indicator': 0}, '10011110011': {'res': 2, 'phase': 0.94921875, 'indicator': 0}, '10011110100': {'res': 2, 'phase': 0.953125, 'indicator': 0}, '10011110101': {'res': 2, 'phase': 0.95703125, 'indicator': 0}, '10011110110': {'res': 2, 'phase': 0.9609375, 'indicator': 0}, '10011110111': {'res': 2, 'phase': 0.96484375, 'indicator': 0}, '10011111000': {'res': 2, 'phase': 0.96875, 'indicator': 0}, '10011111001': {'res': 2, 'phase': 0.97265625, 'indicator': 0}, '10011111010': {'res': 2, 'phase': 0.9765625, 'indicator': 0}, '10011111011': {'res': 2, 'phase': 0.98046875, 'indicator': 0}, '10011111100': {'res': 2, 'phase': 0.984375, 'indicator': 0}, '10011111101': {'res': 2, 'phase': 0.98828125, 'indicator': 0}, '10011111110': {'res': 2, 'phase': 0.9921875, 'indicator': 0}, '10011111111': {'res': 2, 'phase': 0.99609375, 'indicator': 0}, '10100000000': {'res': 2, 'phase': 0.0, 'indicator': 1}, '10100000001': {'res': 2, 'phase': 0.00390625, 'indicator': 1}, '10100000010': {'res': 2, 'phase': 0.0078125, 'indicator': 1}, '10100000011': {'res': 2, 'phase': 0.01171875, 'indicator': 1}, '10100000100': {'res': 2, 'phase': 0.015625, 'indicator': 1}, '10100000101': {'res': 2, 'phase': 0.01953125, 'indicator': 1}, '10100000110': {'res': 2, 'phase': 0.0234375, 'indicator': 1}, '10100000111': {'res': 2, 'phase': 0.02734375, 'indicator': 1}, '10100001000': {'res': 2, 'phase': 0.03125, 'indicator': 1}, '10100001001': {'res': 2, 'phase': 0.03515625, 'indicator': 1}, '10100001010': {'res': 2, 'phase': 0.0390625, 'indicator': 1}, '10100001011': {'res': 2, 'phase': 0.04296875, 'indicator': 1}, '10100001100': {'res': 2, 'phase': 0.046875, 'indicator': 1}, '10100001101': {'res': 2, 'phase': 0.05078125, 'indicator': 1}, '10100001110': {'res': 2, 'phase': 0.0546875, 'indicator': 1}, '10100001111': {'res': 2, 'phase': 0.05859375, 'indicator': 1}, '10100010000': {'res': 2, 'phase': 0.0625, 'indicator': 1}, '10100010001': {'res': 2, 'phase': 0.06640625, 'indicator': 1}, '10100010010': {'res': 2, 'phase': 0.0703125, 'indicator': 1}, '10100010011': {'res': 2, 'phase': 0.07421875, 'indicator': 1}, '10100010100': {'res': 2, 'phase': 0.078125, 'indicator': 1}, '10100010101': {'res': 2, 'phase': 0.08203125, 'indicator': 1}, '10100010110': {'res': 2, 'phase': 0.0859375, 'indicator': 1}, '10100010111': {'res': 2, 'phase': 0.08984375, 'indicator': 1}, '10100011000': {'res': 2, 'phase': 0.09375, 'indicator': 1}, '10100011001': {'res': 2, 'phase': 0.09765625, 'indicator': 1}, '10100011010': {'res': 2, 'phase': 0.1015625, 'indicator': 1}, '10100011011': {'res': 2, 'phase': 0.10546875, 'indicator': 1}, '10100011100': {'res': 2, 'phase': 0.109375, 'indicator': 1}, '10100011101': {'res': 2, 'phase': 0.11328125, 'indicator': 1}, '10100011110': {'res': 2, 'phase': 0.1171875, 'indicator': 1}, '10100011111': {'res': 2, 'phase': 0.12109375, 'indicator': 1}, '10100100000': {'res': 2, 'phase': 0.125, 'indicator': 1}, '10100100001': {'res': 2, 'phase': 0.12890625, 'indicator': 1}, '10100100010': {'res': 2, 'phase': 0.1328125, 'indicator': 1}, '10100100011': {'res': 2, 'phase': 0.13671875, 'indicator': 1}, '10100100100': {'res': 2, 'phase': 0.140625, 'indicator': 1}, '10100100101': {'res': 2, 'phase': 0.14453125, 'indicator': 1}, '10100100110': {'res': 2, 'phase': 0.1484375, 'indicator': 1}, '10100100111': {'res': 2, 'phase': 0.15234375, 'indicator': 1}, '10100101000': {'res': 2, 'phase': 0.15625, 'indicator': 1}, '10100101001': {'res': 2, 'phase': 0.16015625, 'indicator': 1}, '10100101010': {'res': 2, 'phase': 0.1640625, 'indicator': 1}, '10100101011': {'res': 2, 'phase': 0.16796875, 'indicator': 1}, '10100101100': {'res': 2, 'phase': 0.171875, 'indicator': 1}, '10100101101': {'res': 2, 'phase': 0.17578125, 'indicator': 1}, '10100101110': {'res': 2, 'phase': 0.1796875, 'indicator': 1}, '10100101111': {'res': 2, 'phase': 0.18359375, 'indicator': 1}, '10100110000': {'res': 2, 'phase': 0.1875, 'indicator': 1}, '10100110001': {'res': 2, 'phase': 0.19140625, 'indicator': 1}, '10100110010': {'res': 2, 'phase': 0.1953125, 'indicator': 1}, '10100110011': {'res': 2, 'phase': 0.19921875, 'indicator': 1}, '10100110100': {'res': 2, 'phase': 0.203125, 'indicator': 1}, '10100110101': {'res': 2, 'phase': 0.20703125, 'indicator': 1}, '10100110110': {'res': 2, 'phase': 0.2109375, 'indicator': 1}, '10100110111': {'res': 2, 'phase': 0.21484375, 'indicator': 1}, '10100111000': {'res': 2, 'phase': 0.21875, 'indicator': 1}, '10100111001': {'res': 2, 'phase': 0.22265625, 'indicator': 1}, '10100111010': {'res': 2, 'phase': 0.2265625, 'indicator': 1}, '10100111011': {'res': 2, 'phase': 0.23046875, 'indicator': 1}, '10100111100': {'res': 2, 'phase': 0.234375, 'indicator': 1}, '10100111101': {'res': 2, 'phase': 0.23828125, 'indicator': 1}, '10100111110': {'res': 2, 'phase': 0.2421875, 'indicator': 1}, '10100111111': {'res': 2, 'phase': 0.24609375, 'indicator': 1}, '10101000000': {'res': 2, 'phase': 0.25, 'indicator': 1}, '10101000001': {'res': 2, 'phase': 0.25390625, 'indicator': 1}, '10101000010': {'res': 2, 'phase': 0.2578125, 'indicator': 1}, '10101000011': {'res': 2, 'phase': 0.26171875, 'indicator': 1}, '10101000100': {'res': 2, 'phase': 0.265625, 'indicator': 1}, '10101000101': {'res': 2, 'phase': 0.26953125, 'indicator': 1}, '10101000110': {'res': 2, 'phase': 0.2734375, 'indicator': 1}, '10101000111': {'res': 2, 'phase': 0.27734375, 'indicator': 1}, '10101001000': {'res': 2, 'phase': 0.28125, 'indicator': 1}, '10101001001': {'res': 2, 'phase': 0.28515625, 'indicator': 1}, '10101001010': {'res': 2, 'phase': 0.2890625, 'indicator': 1}, '10101001011': {'res': 2, 'phase': 0.29296875, 'indicator': 1}, '10101001100': {'res': 2, 'phase': 0.296875, 'indicator': 1}, '10101001101': {'res': 2, 'phase': 0.30078125, 'indicator': 1}, '10101001110': {'res': 2, 'phase': 0.3046875, 'indicator': 1}, '10101001111': {'res': 2, 'phase': 0.30859375, 'indicator': 1}, '10101010000': {'res': 2, 'phase': 0.3125, 'indicator': 1}, '10101010001': {'res': 2, 'phase': 0.31640625, 'indicator': 1}, '10101010010': {'res': 2, 'phase': 0.3203125, 'indicator': 1}, '10101010011': {'res': 2, 'phase': 0.32421875, 'indicator': 1}, '10101010100': {'res': 2, 'phase': 0.328125, 'indicator': 1}, '10101010101': {'res': 2, 'phase': 0.33203125, 'indicator': 1}, '10101010110': {'res': 2, 'phase': 0.3359375, 'indicator': 1}, '10101010111': {'res': 2, 'phase': 0.33984375, 'indicator': 1}, '10101011000': {'res': 2, 'phase': 0.34375, 'indicator': 1}, '10101011001': {'res': 2, 'phase': 0.34765625, 'indicator': 1}, '10101011010': {'res': 2, 'phase': 0.3515625, 'indicator': 1}, '10101011011': {'res': 2, 'phase': 0.35546875, 'indicator': 1}, '10101011100': {'res': 2, 'phase': 0.359375, 'indicator': 1}, '10101011101': {'res': 2, 'phase': 0.36328125, 'indicator': 1}, '10101011110': {'res': 2, 'phase': 0.3671875, 'indicator': 1}, '10101011111': {'res': 2, 'phase': 0.37109375, 'indicator': 1}, '10101100000': {'res': 2, 'phase': 0.375, 'indicator': 1}, '10101100001': {'res': 2, 'phase': 0.37890625, 'indicator': 1}, '10101100010': {'res': 2, 'phase': 0.3828125, 'indicator': 1}, '10101100011': {'res': 2, 'phase': 0.38671875, 'indicator': 1}, '10101100100': {'res': 2, 'phase': 0.390625, 'indicator': 1}, '10101100101': {'res': 2, 'phase': 0.39453125, 'indicator': 1}, '10101100110': {'res': 2, 'phase': 0.3984375, 'indicator': 1}, '10101100111': {'res': 2, 'phase': 0.40234375, 'indicator': 1}, '10101101000': {'res': 2, 'phase': 0.40625, 'indicator': 1}, '10101101001': {'res': 2, 'phase': 0.41015625, 'indicator': 1}, '10101101010': {'res': 2, 'phase': 0.4140625, 'indicator': 1}, '10101101011': {'res': 2, 'phase': 0.41796875, 'indicator': 1}, '10101101100': {'res': 2, 'phase': 0.421875, 'indicator': 1}, '10101101101': {'res': 2, 'phase': 0.42578125, 'indicator': 1}, '10101101110': {'res': 2, 'phase': 0.4296875, 'indicator': 1}, '10101101111': {'res': 2, 'phase': 0.43359375, 'indicator': 1}, '10101110000': {'res': 2, 'phase': 0.4375, 'indicator': 1}, '10101110001': {'res': 2, 'phase': 0.44140625, 'indicator': 1}, '10101110010': {'res': 2, 'phase': 0.4453125, 'indicator': 1}, '10101110011': {'res': 2, 'phase': 0.44921875, 'indicator': 1}, '10101110100': {'res': 2, 'phase': 0.453125, 'indicator': 1}, '10101110101': {'res': 2, 'phase': 0.45703125, 'indicator': 1}, '10101110110': {'res': 2, 'phase': 0.4609375, 'indicator': 1}, '10101110111': {'res': 2, 'phase': 0.46484375, 'indicator': 1}, '10101111000': {'res': 2, 'phase': 0.46875, 'indicator': 1}, '10101111001': {'res': 2, 'phase': 0.47265625, 'indicator': 1}, '10101111010': {'res': 2, 'phase': 0.4765625, 'indicator': 1}, '10101111011': {'res': 2, 'phase': 0.48046875, 'indicator': 1}, '10101111100': {'res': 2, 'phase': 0.484375, 'indicator': 1}, '10101111101': {'res': 2, 'phase': 0.48828125, 'indicator': 1}, '10101111110': {'res': 2, 'phase': 0.4921875, 'indicator': 1}, '10101111111': {'res': 2, 'phase': 0.49609375, 'indicator': 1}, '10110000000': {'res': 2, 'phase': 0.5, 'indicator': 1}, '10110000001': {'res': 2, 'phase': 0.50390625, 'indicator': 1}, '10110000010': {'res': 2, 'phase': 0.5078125, 'indicator': 1}, '10110000011': {'res': 2, 'phase': 0.51171875, 'indicator': 1}, '10110000100': {'res': 2, 'phase': 0.515625, 'indicator': 1}, '10110000101': {'res': 2, 'phase': 0.51953125, 'indicator': 1}, '10110000110': {'res': 2, 'phase': 0.5234375, 'indicator': 1}, '10110000111': {'res': 2, 'phase': 0.52734375, 'indicator': 1}, '10110001000': {'res': 2, 'phase': 0.53125, 'indicator': 1}, '10110001001': {'res': 2, 'phase': 0.53515625, 'indicator': 1}, '10110001010': {'res': 2, 'phase': 0.5390625, 'indicator': 1}, '10110001011': {'res': 2, 'phase': 0.54296875, 'indicator': 1}, '10110001100': {'res': 2, 'phase': 0.546875, 'indicator': 1}, '10110001101': {'res': 2, 'phase': 0.55078125, 'indicator': 1}, '10110001110': {'res': 2, 'phase': 0.5546875, 'indicator': 1}, '10110001111': {'res': 2, 'phase': 0.55859375, 'indicator': 1}, '10110010000': {'res': 2, 'phase': 0.5625, 'indicator': 1}, '10110010001': {'res': 2, 'phase': 0.56640625, 'indicator': 1}, '10110010010': {'res': 2, 'phase': 0.5703125, 'indicator': 1}, '10110010011': {'res': 2, 'phase': 0.57421875, 'indicator': 1}, '10110010100': {'res': 2, 'phase': 0.578125, 'indicator': 1}, '10110010101': {'res': 2, 'phase': 0.58203125, 'indicator': 1}, '10110010110': {'res': 2, 'phase': 0.5859375, 'indicator': 1}, '10110010111': {'res': 2, 'phase': 0.58984375, 'indicator': 1}, '10110011000': {'res': 2, 'phase': 0.59375, 'indicator': 1}, '10110011001': {'res': 2, 'phase': 0.59765625, 'indicator': 1}, '10110011010': {'res': 2, 'phase': 0.6015625, 'indicator': 1}, '10110011011': {'res': 2, 'phase': 0.60546875, 'indicator': 1}, '10110011100': {'res': 2, 'phase': 0.609375, 'indicator': 1}, '10110011101': {'res': 2, 'phase': 0.61328125, 'indicator': 1}, '10110011110': {'res': 2, 'phase': 0.6171875, 'indicator': 1}, '10110011111': {'res': 2, 'phase': 0.62109375, 'indicator': 1}, '10110100000': {'res': 2, 'phase': 0.625, 'indicator': 1}, '10110100001': {'res': 2, 'phase': 0.62890625, 'indicator': 1}, '10110100010': {'res': 2, 'phase': 0.6328125, 'indicator': 1}, '10110100011': {'res': 2, 'phase': 0.63671875, 'indicator': 1}, '10110100100': {'res': 2, 'phase': 0.640625, 'indicator': 1}, '10110100101': {'res': 2, 'phase': 0.64453125, 'indicator': 1}, '10110100110': {'res': 2, 'phase': 0.6484375, 'indicator': 1}, '10110100111': {'res': 2, 'phase': 0.65234375, 'indicator': 1}, '10110101000': {'res': 2, 'phase': 0.65625, 'indicator': 1}, '10110101001': {'res': 2, 'phase': 0.66015625, 'indicator': 1}, '10110101010': {'res': 2, 'phase': 0.6640625, 'indicator': 1}, '10110101011': {'res': 2, 'phase': 0.66796875, 'indicator': 1}, '10110101100': {'res': 2, 'phase': 0.671875, 'indicator': 1}, '10110101101': {'res': 2, 'phase': 0.67578125, 'indicator': 1}, '10110101110': {'res': 2, 'phase': 0.6796875, 'indicator': 1}, '10110101111': {'res': 2, 'phase': 0.68359375, 'indicator': 1}, '10110110000': {'res': 2, 'phase': 0.6875, 'indicator': 1}, '10110110001': {'res': 2, 'phase': 0.69140625, 'indicator': 1}, '10110110010': {'res': 2, 'phase': 0.6953125, 'indicator': 1}, '10110110011': {'res': 2, 'phase': 0.69921875, 'indicator': 1}, '10110110100': {'res': 2, 'phase': 0.703125, 'indicator': 1}, '10110110101': {'res': 2, 'phase': 0.70703125, 'indicator': 1}, '10110110110': {'res': 2, 'phase': 0.7109375, 'indicator': 1}, '10110110111': {'res': 2, 'phase': 0.71484375, 'indicator': 1}, '10110111000': {'res': 2, 'phase': 0.71875, 'indicator': 1}, '10110111001': {'res': 2, 'phase': 0.72265625, 'indicator': 1}, '10110111010': {'res': 2, 'phase': 0.7265625, 'indicator': 1}, '10110111011': {'res': 2, 'phase': 0.73046875, 'indicator': 1}, '10110111100': {'res': 2, 'phase': 0.734375, 'indicator': 1}, '10110111101': {'res': 2, 'phase': 0.73828125, 'indicator': 1}, '10110111110': {'res': 2, 'phase': 0.7421875, 'indicator': 1}, '10110111111': {'res': 2, 'phase': 0.74609375, 'indicator': 1}, '10111000000': {'res': 2, 'phase': 0.75, 'indicator': 1}, '10111000001': {'res': 2, 'phase': 0.75390625, 'indicator': 1}, '10111000010': {'res': 2, 'phase': 0.7578125, 'indicator': 1}, '10111000011': {'res': 2, 'phase': 0.76171875, 'indicator': 1}, '10111000100': {'res': 2, 'phase': 0.765625, 'indicator': 1}, '10111000101': {'res': 2, 'phase': 0.76953125, 'indicator': 1}, '10111000110': {'res': 2, 'phase': 0.7734375, 'indicator': 1}, '10111000111': {'res': 2, 'phase': 0.77734375, 'indicator': 1}, '10111001000': {'res': 2, 'phase': 0.78125, 'indicator': 1}, '10111001001': {'res': 2, 'phase': 0.78515625, 'indicator': 1}, '10111001010': {'res': 2, 'phase': 0.7890625, 'indicator': 1}, '10111001011': {'res': 2, 'phase': 0.79296875, 'indicator': 1}, '10111001100': {'res': 2, 'phase': 0.796875, 'indicator': 1}, '10111001101': {'res': 2, 'phase': 0.80078125, 'indicator': 1}, '10111001110': {'res': 2, 'phase': 0.8046875, 'indicator': 1}, '10111001111': {'res': 2, 'phase': 0.80859375, 'indicator': 1}, '10111010000': {'res': 2, 'phase': 0.8125, 'indicator': 1}, '10111010001': {'res': 2, 'phase': 0.81640625, 'indicator': 1}, '10111010010': {'res': 2, 'phase': 0.8203125, 'indicator': 1}, '10111010011': {'res': 2, 'phase': 0.82421875, 'indicator': 1}, '10111010100': {'res': 2, 'phase': 0.828125, 'indicator': 1}, '10111010101': {'res': 2, 'phase': 0.83203125, 'indicator': 1}, '10111010110': {'res': 2, 'phase': 0.8359375, 'indicator': 1}, '10111010111': {'res': 2, 'phase': 0.83984375, 'indicator': 1}, '10111011000': {'res': 2, 'phase': 0.84375, 'indicator': 1}, '10111011001': {'res': 2, 'phase': 0.84765625, 'indicator': 1}, '10111011010': {'res': 2, 'phase': 0.8515625, 'indicator': 1}, '10111011011': {'res': 2, 'phase': 0.85546875, 'indicator': 1}, '10111011100': {'res': 2, 'phase': 0.859375, 'indicator': 1}, '10111011101': {'res': 2, 'phase': 0.86328125, 'indicator': 1}, '10111011110': {'res': 2, 'phase': 0.8671875, 'indicator': 1}, '10111011111': {'res': 2, 'phase': 0.87109375, 'indicator': 1}, '10111100000': {'res': 2, 'phase': 0.875, 'indicator': 1}, '10111100001': {'res': 2, 'phase': 0.87890625, 'indicator': 1}, '10111100010': {'res': 2, 'phase': 0.8828125, 'indicator': 1}, '10111100011': {'res': 2, 'phase': 0.88671875, 'indicator': 1}, '10111100100': {'res': 2, 'phase': 0.890625, 'indicator': 1}, '10111100101': {'res': 2, 'phase': 0.89453125, 'indicator': 1}, '10111100110': {'res': 2, 'phase': 0.8984375, 'indicator': 1}, '10111100111': {'res': 2, 'phase': 0.90234375, 'indicator': 1}, '10111101000': {'res': 2, 'phase': 0.90625, 'indicator': 1}, '10111101001': {'res': 2, 'phase': 0.91015625, 'indicator': 1}, '10111101010': {'res': 2, 'phase': 0.9140625, 'indicator': 1}, '10111101011': {'res': 2, 'phase': 0.91796875, 'indicator': 1}, '10111101100': {'res': 2, 'phase': 0.921875, 'indicator': 1}, '10111101101': {'res': 2, 'phase': 0.92578125, 'indicator': 1}, '10111101110': {'res': 2, 'phase': 0.9296875, 'indicator': 1}, '10111101111': {'res': 2, 'phase': 0.93359375, 'indicator': 1}, '10111110000': {'res': 2, 'phase': 0.9375, 'indicator': 1}, '10111110001': {'res': 2, 'phase': 0.94140625, 'indicator': 1}, '10111110010': {'res': 2, 'phase': 0.9453125, 'indicator': 1}, '10111110011': {'res': 2, 'phase': 0.94921875, 'indicator': 1}, '10111110100': {'res': 2, 'phase': 0.953125, 'indicator': 1}, '10111110101': {'res': 2, 'phase': 0.95703125, 'indicator': 1}, '10111110110': {'res': 2, 'phase': 0.9609375, 'indicator': 1}, '10111110111': {'res': 2, 'phase': 0.96484375, 'indicator': 1}, '10111111000': {'res': 2, 'phase': 0.96875, 'indicator': 1}, '10111111001': {'res': 2, 'phase': 0.97265625, 'indicator': 1}, '10111111010': {'res': 2, 'phase': 0.9765625, 'indicator': 1}, '10111111011': {'res': 2, 'phase': 0.98046875, 'indicator': 1}, '10111111100': {'res': 2, 'phase': 0.984375, 'indicator': 1}, '10111111101': {'res': 2, 'phase': 0.98828125, 'indicator': 1}, '10111111110': {'res': 2, 'phase': 0.9921875, 'indicator': 1}, '10111111111': {'res': 2, 'phase': 0.99609375, 'indicator': 1}, '11000000000': {'res': 3, 'phase': 0.0, 'indicator': 0}, '11000000001': {'res': 3, 'phase': 0.00390625, 'indicator': 0}, '11000000010': {'res': 3, 'phase': 0.0078125, 'indicator': 0}, '11000000011': {'res': 3, 'phase': 0.01171875, 'indicator': 0}, '11000000100': {'res': 3, 'phase': 0.015625, 'indicator': 0}, '11000000101': {'res': 3, 'phase': 0.01953125, 'indicator': 0}, '11000000110': {'res': 3, 'phase': 0.0234375, 'indicator': 0}, '11000000111': {'res': 3, 'phase': 0.02734375, 'indicator': 0}, '11000001000': {'res': 3, 'phase': 0.03125, 'indicator': 0}, '11000001001': {'res': 3, 'phase': 0.03515625, 'indicator': 0}, '11000001010': {'res': 3, 'phase': 0.0390625, 'indicator': 0}, '11000001011': {'res': 3, 'phase': 0.04296875, 'indicator': 0}, '11000001100': {'res': 3, 'phase': 0.046875, 'indicator': 0}, '11000001101': {'res': 3, 'phase': 0.05078125, 'indicator': 0}, '11000001110': {'res': 3, 'phase': 0.0546875, 'indicator': 0}, '11000001111': {'res': 3, 'phase': 0.05859375, 'indicator': 0}, '11000010000': {'res': 3, 'phase': 0.0625, 'indicator': 0}, '11000010001': {'res': 3, 'phase': 0.06640625, 'indicator': 0}, '11000010010': {'res': 3, 'phase': 0.0703125, 'indicator': 0}, '11000010011': {'res': 3, 'phase': 0.07421875, 'indicator': 0}, '11000010100': {'res': 3, 'phase': 0.078125, 'indicator': 0}, '11000010101': {'res': 3, 'phase': 0.08203125, 'indicator': 0}, '11000010110': {'res': 3, 'phase': 0.0859375, 'indicator': 0}, '11000010111': {'res': 3, 'phase': 0.08984375, 'indicator': 0}, '11000011000': {'res': 3, 'phase': 0.09375, 'indicator': 0}, '11000011001': {'res': 3, 'phase': 0.09765625, 'indicator': 0}, '11000011010': {'res': 3, 'phase': 0.1015625, 'indicator': 0}, '11000011011': {'res': 3, 'phase': 0.10546875, 'indicator': 0}, '11000011100': {'res': 3, 'phase': 0.109375, 'indicator': 0}, '11000011101': {'res': 3, 'phase': 0.11328125, 'indicator': 0}, '11000011110': {'res': 3, 'phase': 0.1171875, 'indicator': 0}, '11000011111': {'res': 3, 'phase': 0.12109375, 'indicator': 0}, '11000100000': {'res': 3, 'phase': 0.125, 'indicator': 0}, '11000100001': {'res': 3, 'phase': 0.12890625, 'indicator': 0}, '11000100010': {'res': 3, 'phase': 0.1328125, 'indicator': 0}, '11000100011': {'res': 3, 'phase': 0.13671875, 'indicator': 0}, '11000100100': {'res': 3, 'phase': 0.140625, 'indicator': 0}, '11000100101': {'res': 3, 'phase': 0.14453125, 'indicator': 0}, '11000100110': {'res': 3, 'phase': 0.1484375, 'indicator': 0}, '11000100111': {'res': 3, 'phase': 0.15234375, 'indicator': 0}, '11000101000': {'res': 3, 'phase': 0.15625, 'indicator': 0}, '11000101001': {'res': 3, 'phase': 0.16015625, 'indicator': 0}, '11000101010': {'res': 3, 'phase': 0.1640625, 'indicator': 0}, '11000101011': {'res': 3, 'phase': 0.16796875, 'indicator': 0}, '11000101100': {'res': 3, 'phase': 0.171875, 'indicator': 0}, '11000101101': {'res': 3, 'phase': 0.17578125, 'indicator': 0}, '11000101110': {'res': 3, 'phase': 0.1796875, 'indicator': 0}, '11000101111': {'res': 3, 'phase': 0.18359375, 'indicator': 0}, '11000110000': {'res': 3, 'phase': 0.1875, 'indicator': 0}, '11000110001': {'res': 3, 'phase': 0.19140625, 'indicator': 0}, '11000110010': {'res': 3, 'phase': 0.1953125, 'indicator': 0}, '11000110011': {'res': 3, 'phase': 0.19921875, 'indicator': 0}, '11000110100': {'res': 3, 'phase': 0.203125, 'indicator': 0}, '11000110101': {'res': 3, 'phase': 0.20703125, 'indicator': 0}, '11000110110': {'res': 3, 'phase': 0.2109375, 'indicator': 0}, '11000110111': {'res': 3, 'phase': 0.21484375, 'indicator': 0}, '11000111000': {'res': 3, 'phase': 0.21875, 'indicator': 0}, '11000111001': {'res': 3, 'phase': 0.22265625, 'indicator': 0}, '11000111010': {'res': 3, 'phase': 0.2265625, 'indicator': 0}, '11000111011': {'res': 3, 'phase': 0.23046875, 'indicator': 0}, '11000111100': {'res': 3, 'phase': 0.234375, 'indicator': 0}, '11000111101': {'res': 3, 'phase': 0.23828125, 'indicator': 0}, '11000111110': {'res': 3, 'phase': 0.2421875, 'indicator': 0}, '11000111111': {'res': 3, 'phase': 0.24609375, 'indicator': 0}, '11001000000': {'res': 3, 'phase': 0.25, 'indicator': 0}, '11001000001': {'res': 3, 'phase': 0.25390625, 'indicator': 0}, '11001000010': {'res': 3, 'phase': 0.2578125, 'indicator': 0}, '11001000011': {'res': 3, 'phase': 0.26171875, 'indicator': 0}, '11001000100': {'res': 3, 'phase': 0.265625, 'indicator': 0}, '11001000101': {'res': 3, 'phase': 0.26953125, 'indicator': 0}, '11001000110': {'res': 3, 'phase': 0.2734375, 'indicator': 0}, '11001000111': {'res': 3, 'phase': 0.27734375, 'indicator': 0}, '11001001000': {'res': 3, 'phase': 0.28125, 'indicator': 0}, '11001001001': {'res': 3, 'phase': 0.28515625, 'indicator': 0}, '11001001010': {'res': 3, 'phase': 0.2890625, 'indicator': 0}, '11001001011': {'res': 3, 'phase': 0.29296875, 'indicator': 0}, '11001001100': {'res': 3, 'phase': 0.296875, 'indicator': 0}, '11001001101': {'res': 3, 'phase': 0.30078125, 'indicator': 0}, '11001001110': {'res': 3, 'phase': 0.3046875, 'indicator': 0}, '11001001111': {'res': 3, 'phase': 0.30859375, 'indicator': 0}, '11001010000': {'res': 3, 'phase': 0.3125, 'indicator': 0}, '11001010001': {'res': 3, 'phase': 0.31640625, 'indicator': 0}, '11001010010': {'res': 3, 'phase': 0.3203125, 'indicator': 0}, '11001010011': {'res': 3, 'phase': 0.32421875, 'indicator': 0}, '11001010100': {'res': 3, 'phase': 0.328125, 'indicator': 0}, '11001010101': {'res': 3, 'phase': 0.33203125, 'indicator': 0}, '11001010110': {'res': 3, 'phase': 0.3359375, 'indicator': 0}, '11001010111': {'res': 3, 'phase': 0.33984375, 'indicator': 0}, '11001011000': {'res': 3, 'phase': 0.34375, 'indicator': 0}, '11001011001': {'res': 3, 'phase': 0.34765625, 'indicator': 0}, '11001011010': {'res': 3, 'phase': 0.3515625, 'indicator': 0}, '11001011011': {'res': 3, 'phase': 0.35546875, 'indicator': 0}, '11001011100': {'res': 3, 'phase': 0.359375, 'indicator': 0}, '11001011101': {'res': 3, 'phase': 0.36328125, 'indicator': 0}, '11001011110': {'res': 3, 'phase': 0.3671875, 'indicator': 0}, '11001011111': {'res': 3, 'phase': 0.37109375, 'indicator': 0}, '11001100000': {'res': 3, 'phase': 0.375, 'indicator': 0}, '11001100001': {'res': 3, 'phase': 0.37890625, 'indicator': 0}, '11001100010': {'res': 3, 'phase': 0.3828125, 'indicator': 0}, '11001100011': {'res': 3, 'phase': 0.38671875, 'indicator': 0}, '11001100100': {'res': 3, 'phase': 0.390625, 'indicator': 0}, '11001100101': {'res': 3, 'phase': 0.39453125, 'indicator': 0}, '11001100110': {'res': 3, 'phase': 0.3984375, 'indicator': 0}, '11001100111': {'res': 3, 'phase': 0.40234375, 'indicator': 0}, '11001101000': {'res': 3, 'phase': 0.40625, 'indicator': 0}, '11001101001': {'res': 3, 'phase': 0.41015625, 'indicator': 0}, '11001101010': {'res': 3, 'phase': 0.4140625, 'indicator': 0}, '11001101011': {'res': 3, 'phase': 0.41796875, 'indicator': 0}, '11001101100': {'res': 3, 'phase': 0.421875, 'indicator': 0}, '11001101101': {'res': 3, 'phase': 0.42578125, 'indicator': 0}, '11001101110': {'res': 3, 'phase': 0.4296875, 'indicator': 0}, '11001101111': {'res': 3, 'phase': 0.43359375, 'indicator': 0}, '11001110000': {'res': 3, 'phase': 0.4375, 'indicator': 0}, '11001110001': {'res': 3, 'phase': 0.44140625, 'indicator': 0}, '11001110010': {'res': 3, 'phase': 0.4453125, 'indicator': 0}, '11001110011': {'res': 3, 'phase': 0.44921875, 'indicator': 0}, '11001110100': {'res': 3, 'phase': 0.453125, 'indicator': 0}, '11001110101': {'res': 3, 'phase': 0.45703125, 'indicator': 0}, '11001110110': {'res': 3, 'phase': 0.4609375, 'indicator': 0}, '11001110111': {'res': 3, 'phase': 0.46484375, 'indicator': 0}, '11001111000': {'res': 3, 'phase': 0.46875, 'indicator': 0}, '11001111001': {'res': 3, 'phase': 0.47265625, 'indicator': 0}, '11001111010': {'res': 3, 'phase': 0.4765625, 'indicator': 0}, '11001111011': {'res': 3, 'phase': 0.48046875, 'indicator': 0}, '11001111100': {'res': 3, 'phase': 0.484375, 'indicator': 0}, '11001111101': {'res': 3, 'phase': 0.48828125, 'indicator': 0}, '11001111110': {'res': 3, 'phase': 0.4921875, 'indicator': 0}, '11001111111': {'res': 3, 'phase': 0.49609375, 'indicator': 0}, '11010000000': {'res': 3, 'phase': 0.5, 'indicator': 0}, '11010000001': {'res': 3, 'phase': 0.50390625, 'indicator': 0}, '11010000010': {'res': 3, 'phase': 0.5078125, 'indicator': 0}, '11010000011': {'res': 3, 'phase': 0.51171875, 'indicator': 0}, '11010000100': {'res': 3, 'phase': 0.515625, 'indicator': 0}, '11010000101': {'res': 3, 'phase': 0.51953125, 'indicator': 0}, '11010000110': {'res': 3, 'phase': 0.5234375, 'indicator': 0}, '11010000111': {'res': 3, 'phase': 0.52734375, 'indicator': 0}, '11010001000': {'res': 3, 'phase': 0.53125, 'indicator': 0}, '11010001001': {'res': 3, 'phase': 0.53515625, 'indicator': 0}, '11010001010': {'res': 3, 'phase': 0.5390625, 'indicator': 0}, '11010001011': {'res': 3, 'phase': 0.54296875, 'indicator': 0}, '11010001100': {'res': 3, 'phase': 0.546875, 'indicator': 0}, '11010001101': {'res': 3, 'phase': 0.55078125, 'indicator': 0}, '11010001110': {'res': 3, 'phase': 0.5546875, 'indicator': 0}, '11010001111': {'res': 3, 'phase': 0.55859375, 'indicator': 0}, '11010010000': {'res': 3, 'phase': 0.5625, 'indicator': 0}, '11010010001': {'res': 3, 'phase': 0.56640625, 'indicator': 0}, '11010010010': {'res': 3, 'phase': 0.5703125, 'indicator': 0}, '11010010011': {'res': 3, 'phase': 0.57421875, 'indicator': 0}, '11010010100': {'res': 3, 'phase': 0.578125, 'indicator': 0}, '11010010101': {'res': 3, 'phase': 0.58203125, 'indicator': 0}, '11010010110': {'res': 3, 'phase': 0.5859375, 'indicator': 0}, '11010010111': {'res': 3, 'phase': 0.58984375, 'indicator': 0}, '11010011000': {'res': 3, 'phase': 0.59375, 'indicator': 0}, '11010011001': {'res': 3, 'phase': 0.59765625, 'indicator': 0}, '11010011010': {'res': 3, 'phase': 0.6015625, 'indicator': 0}, '11010011011': {'res': 3, 'phase': 0.60546875, 'indicator': 0}, '11010011100': {'res': 3, 'phase': 0.609375, 'indicator': 0}, '11010011101': {'res': 3, 'phase': 0.61328125, 'indicator': 0}, '11010011110': {'res': 3, 'phase': 0.6171875, 'indicator': 0}, '11010011111': {'res': 3, 'phase': 0.62109375, 'indicator': 0}, '11010100000': {'res': 3, 'phase': 0.625, 'indicator': 0}, '11010100001': {'res': 3, 'phase': 0.62890625, 'indicator': 0}, '11010100010': {'res': 3, 'phase': 0.6328125, 'indicator': 0}, '11010100011': {'res': 3, 'phase': 0.63671875, 'indicator': 0}, '11010100100': {'res': 3, 'phase': 0.640625, 'indicator': 0}, '11010100101': {'res': 3, 'phase': 0.64453125, 'indicator': 0}, '11010100110': {'res': 3, 'phase': 0.6484375, 'indicator': 0}, '11010100111': {'res': 3, 'phase': 0.65234375, 'indicator': 0}, '11010101000': {'res': 3, 'phase': 0.65625, 'indicator': 0}, '11010101001': {'res': 3, 'phase': 0.66015625, 'indicator': 0}, '11010101010': {'res': 3, 'phase': 0.6640625, 'indicator': 0}, '11010101011': {'res': 3, 'phase': 0.66796875, 'indicator': 0}, '11010101100': {'res': 3, 'phase': 0.671875, 'indicator': 0}, '11010101101': {'res': 3, 'phase': 0.67578125, 'indicator': 0}, '11010101110': {'res': 3, 'phase': 0.6796875, 'indicator': 0}, '11010101111': {'res': 3, 'phase': 0.68359375, 'indicator': 0}, '11010110000': {'res': 3, 'phase': 0.6875, 'indicator': 0}, '11010110001': {'res': 3, 'phase': 0.69140625, 'indicator': 0}, '11010110010': {'res': 3, 'phase': 0.6953125, 'indicator': 0}, '11010110011': {'res': 3, 'phase': 0.69921875, 'indicator': 0}, '11010110100': {'res': 3, 'phase': 0.703125, 'indicator': 0}, '11010110101': {'res': 3, 'phase': 0.70703125, 'indicator': 0}, '11010110110': {'res': 3, 'phase': 0.7109375, 'indicator': 0}, '11010110111': {'res': 3, 'phase': 0.71484375, 'indicator': 0}, '11010111000': {'res': 3, 'phase': 0.71875, 'indicator': 0}, '11010111001': {'res': 3, 'phase': 0.72265625, 'indicator': 0}, '11010111010': {'res': 3, 'phase': 0.7265625, 'indicator': 0}, '11010111011': {'res': 3, 'phase': 0.73046875, 'indicator': 0}, '11010111100': {'res': 3, 'phase': 0.734375, 'indicator': 0}, '11010111101': {'res': 3, 'phase': 0.73828125, 'indicator': 0}, '11010111110': {'res': 3, 'phase': 0.7421875, 'indicator': 0}, '11010111111': {'res': 3, 'phase': 0.74609375, 'indicator': 0}, '11011000000': {'res': 3, 'phase': 0.75, 'indicator': 0}, '11011000001': {'res': 3, 'phase': 0.75390625, 'indicator': 0}, '11011000010': {'res': 3, 'phase': 0.7578125, 'indicator': 0}, '11011000011': {'res': 3, 'phase': 0.76171875, 'indicator': 0}, '11011000100': {'res': 3, 'phase': 0.765625, 'indicator': 0}, '11011000101': {'res': 3, 'phase': 0.76953125, 'indicator': 0}, '11011000110': {'res': 3, 'phase': 0.7734375, 'indicator': 0}, '11011000111': {'res': 3, 'phase': 0.77734375, 'indicator': 0}, '11011001000': {'res': 3, 'phase': 0.78125, 'indicator': 0}, '11011001001': {'res': 3, 'phase': 0.78515625, 'indicator': 0}, '11011001010': {'res': 3, 'phase': 0.7890625, 'indicator': 0}, '11011001011': {'res': 3, 'phase': 0.79296875, 'indicator': 0}, '11011001100': {'res': 3, 'phase': 0.796875, 'indicator': 0}, '11011001101': {'res': 3, 'phase': 0.80078125, 'indicator': 0}, '11011001110': {'res': 3, 'phase': 0.8046875, 'indicator': 0}, '11011001111': {'res': 3, 'phase': 0.80859375, 'indicator': 0}, '11011010000': {'res': 3, 'phase': 0.8125, 'indicator': 0}, '11011010001': {'res': 3, 'phase': 0.81640625, 'indicator': 0}, '11011010010': {'res': 3, 'phase': 0.8203125, 'indicator': 0}, '11011010011': {'res': 3, 'phase': 0.82421875, 'indicator': 0}, '11011010100': {'res': 3, 'phase': 0.828125, 'indicator': 0}, '11011010101': {'res': 3, 'phase': 0.83203125, 'indicator': 0}, '11011010110': {'res': 3, 'phase': 0.8359375, 'indicator': 0}, '11011010111': {'res': 3, 'phase': 0.83984375, 'indicator': 0}, '11011011000': {'res': 3, 'phase': 0.84375, 'indicator': 0}, '11011011001': {'res': 3, 'phase': 0.84765625, 'indicator': 0}, '11011011010': {'res': 3, 'phase': 0.8515625, 'indicator': 0}, '11011011011': {'res': 3, 'phase': 0.85546875, 'indicator': 0}, '11011011100': {'res': 3, 'phase': 0.859375, 'indicator': 0}, '11011011101': {'res': 3, 'phase': 0.86328125, 'indicator': 0}, '11011011110': {'res': 3, 'phase': 0.8671875, 'indicator': 0}, '11011011111': {'res': 3, 'phase': 0.87109375, 'indicator': 0}, '11011100000': {'res': 3, 'phase': 0.875, 'indicator': 0}, '11011100001': {'res': 3, 'phase': 0.87890625, 'indicator': 0}, '11011100010': {'res': 3, 'phase': 0.8828125, 'indicator': 0}, '11011100011': {'res': 3, 'phase': 0.88671875, 'indicator': 0}, '11011100100': {'res': 3, 'phase': 0.890625, 'indicator': 0}, '11011100101': {'res': 3, 'phase': 0.89453125, 'indicator': 0}, '11011100110': {'res': 3, 'phase': 0.8984375, 'indicator': 0}, '11011100111': {'res': 3, 'phase': 0.90234375, 'indicator': 0}, '11011101000': {'res': 3, 'phase': 0.90625, 'indicator': 0}, '11011101001': {'res': 3, 'phase': 0.91015625, 'indicator': 0}, '11011101010': {'res': 3, 'phase': 0.9140625, 'indicator': 0}, '11011101011': {'res': 3, 'phase': 0.91796875, 'indicator': 0}, '11011101100': {'res': 3, 'phase': 0.921875, 'indicator': 0}, '11011101101': {'res': 3, 'phase': 0.92578125, 'indicator': 0}, '11011101110': {'res': 3, 'phase': 0.9296875, 'indicator': 0}, '11011101111': {'res': 3, 'phase': 0.93359375, 'indicator': 0}, '11011110000': {'res': 3, 'phase': 0.9375, 'indicator': 0}, '11011110001': {'res': 3, 'phase': 0.94140625, 'indicator': 0}, '11011110010': {'res': 3, 'phase': 0.9453125, 'indicator': 0}, '11011110011': {'res': 3, 'phase': 0.94921875, 'indicator': 0}, '11011110100': {'res': 3, 'phase': 0.953125, 'indicator': 0}, '11011110101': {'res': 3, 'phase': 0.95703125, 'indicator': 0}, '11011110110': {'res': 3, 'phase': 0.9609375, 'indicator': 0}, '11011110111': {'res': 3, 'phase': 0.96484375, 'indicator': 0}, '11011111000': {'res': 3, 'phase': 0.96875, 'indicator': 0}, '11011111001': {'res': 3, 'phase': 0.97265625, 'indicator': 0}, '11011111010': {'res': 3, 'phase': 0.9765625, 'indicator': 0}, '11011111011': {'res': 3, 'phase': 0.98046875, 'indicator': 0}, '11011111100': {'res': 3, 'phase': 0.984375, 'indicator': 0}, '11011111101': {'res': 3, 'phase': 0.98828125, 'indicator': 0}, '11011111110': {'res': 3, 'phase': 0.9921875, 'indicator': 0}, '11011111111': {'res': 3, 'phase': 0.99609375, 'indicator': 0}, '11100000000': {'res': 3, 'phase': 0.0, 'indicator': 1}, '11100000001': {'res': 3, 'phase': 0.00390625, 'indicator': 1}, '11100000010': {'res': 3, 'phase': 0.0078125, 'indicator': 1}, '11100000011': {'res': 3, 'phase': 0.01171875, 'indicator': 1}, '11100000100': {'res': 3, 'phase': 0.015625, 'indicator': 1}, '11100000101': {'res': 3, 'phase': 0.01953125, 'indicator': 1}, '11100000110': {'res': 3, 'phase': 0.0234375, 'indicator': 1}, '11100000111': {'res': 3, 'phase': 0.02734375, 'indicator': 1}, '11100001000': {'res': 3, 'phase': 0.03125, 'indicator': 1}, '11100001001': {'res': 3, 'phase': 0.03515625, 'indicator': 1}, '11100001010': {'res': 3, 'phase': 0.0390625, 'indicator': 1}, '11100001011': {'res': 3, 'phase': 0.04296875, 'indicator': 1}, '11100001100': {'res': 3, 'phase': 0.046875, 'indicator': 1}, '11100001101': {'res': 3, 'phase': 0.05078125, 'indicator': 1}, '11100001110': {'res': 3, 'phase': 0.0546875, 'indicator': 1}, '11100001111': {'res': 3, 'phase': 0.05859375, 'indicator': 1}, '11100010000': {'res': 3, 'phase': 0.0625, 'indicator': 1}, '11100010001': {'res': 3, 'phase': 0.06640625, 'indicator': 1}, '11100010010': {'res': 3, 'phase': 0.0703125, 'indicator': 1}, '11100010011': {'res': 3, 'phase': 0.07421875, 'indicator': 1}, '11100010100': {'res': 3, 'phase': 0.078125, 'indicator': 1}, '11100010101': {'res': 3, 'phase': 0.08203125, 'indicator': 1}, '11100010110': {'res': 3, 'phase': 0.0859375, 'indicator': 1}, '11100010111': {'res': 3, 'phase': 0.08984375, 'indicator': 1}, '11100011000': {'res': 3, 'phase': 0.09375, 'indicator': 1}, '11100011001': {'res': 3, 'phase': 0.09765625, 'indicator': 1}, '11100011010': {'res': 3, 'phase': 0.1015625, 'indicator': 1}, '11100011011': {'res': 3, 'phase': 0.10546875, 'indicator': 1}, '11100011100': {'res': 3, 'phase': 0.109375, 'indicator': 1}, '11100011101': {'res': 3, 'phase': 0.11328125, 'indicator': 1}, '11100011110': {'res': 3, 'phase': 0.1171875, 'indicator': 1}, '11100011111': {'res': 3, 'phase': 0.12109375, 'indicator': 1}, '11100100000': {'res': 3, 'phase': 0.125, 'indicator': 1}, '11100100001': {'res': 3, 'phase': 0.12890625, 'indicator': 1}, '11100100010': {'res': 3, 'phase': 0.1328125, 'indicator': 1}, '11100100011': {'res': 3, 'phase': 0.13671875, 'indicator': 1}, '11100100100': {'res': 3, 'phase': 0.140625, 'indicator': 1}, '11100100101': {'res': 3, 'phase': 0.14453125, 'indicator': 1}, '11100100110': {'res': 3, 'phase': 0.1484375, 'indicator': 1}, '11100100111': {'res': 3, 'phase': 0.15234375, 'indicator': 1}, '11100101000': {'res': 3, 'phase': 0.15625, 'indicator': 1}, '11100101001': {'res': 3, 'phase': 0.16015625, 'indicator': 1}, '11100101010': {'res': 3, 'phase': 0.1640625, 'indicator': 1}, '11100101011': {'res': 3, 'phase': 0.16796875, 'indicator': 1}, '11100101100': {'res': 3, 'phase': 0.171875, 'indicator': 1}, '11100101101': {'res': 3, 'phase': 0.17578125, 'indicator': 1}, '11100101110': {'res': 3, 'phase': 0.1796875, 'indicator': 1}, '11100101111': {'res': 3, 'phase': 0.18359375, 'indicator': 1}, '11100110000': {'res': 3, 'phase': 0.1875, 'indicator': 1}, '11100110001': {'res': 3, 'phase': 0.19140625, 'indicator': 1}, '11100110010': {'res': 3, 'phase': 0.1953125, 'indicator': 1}, '11100110011': {'res': 3, 'phase': 0.19921875, 'indicator': 1}, '11100110100': {'res': 3, 'phase': 0.203125, 'indicator': 1}, '11100110101': {'res': 3, 'phase': 0.20703125, 'indicator': 1}, '11100110110': {'res': 3, 'phase': 0.2109375, 'indicator': 1}, '11100110111': {'res': 3, 'phase': 0.21484375, 'indicator': 1}, '11100111000': {'res': 3, 'phase': 0.21875, 'indicator': 1}, '11100111001': {'res': 3, 'phase': 0.22265625, 'indicator': 1}, '11100111010': {'res': 3, 'phase': 0.2265625, 'indicator': 1}, '11100111011': {'res': 3, 'phase': 0.23046875, 'indicator': 1}, '11100111100': {'res': 3, 'phase': 0.234375, 'indicator': 1}, '11100111101': {'res': 3, 'phase': 0.23828125, 'indicator': 1}, '11100111110': {'res': 3, 'phase': 0.2421875, 'indicator': 1}, '11100111111': {'res': 3, 'phase': 0.24609375, 'indicator': 1}, '11101000000': {'res': 3, 'phase': 0.25, 'indicator': 1}, '11101000001': {'res': 3, 'phase': 0.25390625, 'indicator': 1}, '11101000010': {'res': 3, 'phase': 0.2578125, 'indicator': 1}, '11101000011': {'res': 3, 'phase': 0.26171875, 'indicator': 1}, '11101000100': {'res': 3, 'phase': 0.265625, 'indicator': 1}, '11101000101': {'res': 3, 'phase': 0.26953125, 'indicator': 1}, '11101000110': {'res': 3, 'phase': 0.2734375, 'indicator': 1}, '11101000111': {'res': 3, 'phase': 0.27734375, 'indicator': 1}, '11101001000': {'res': 3, 'phase': 0.28125, 'indicator': 1}, '11101001001': {'res': 3, 'phase': 0.28515625, 'indicator': 1}, '11101001010': {'res': 3, 'phase': 0.2890625, 'indicator': 1}, '11101001011': {'res': 3, 'phase': 0.29296875, 'indicator': 1}, '11101001100': {'res': 3, 'phase': 0.296875, 'indicator': 1}, '11101001101': {'res': 3, 'phase': 0.30078125, 'indicator': 1}, '11101001110': {'res': 3, 'phase': 0.3046875, 'indicator': 1}, '11101001111': {'res': 3, 'phase': 0.30859375, 'indicator': 1}, '11101010000': {'res': 3, 'phase': 0.3125, 'indicator': 1}, '11101010001': {'res': 3, 'phase': 0.31640625, 'indicator': 1}, '11101010010': {'res': 3, 'phase': 0.3203125, 'indicator': 1}, '11101010011': {'res': 3, 'phase': 0.32421875, 'indicator': 1}, '11101010100': {'res': 3, 'phase': 0.328125, 'indicator': 1}, '11101010101': {'res': 3, 'phase': 0.33203125, 'indicator': 1}, '11101010110': {'res': 3, 'phase': 0.3359375, 'indicator': 1}, '11101010111': {'res': 3, 'phase': 0.33984375, 'indicator': 1}, '11101011000': {'res': 3, 'phase': 0.34375, 'indicator': 1}, '11101011001': {'res': 3, 'phase': 0.34765625, 'indicator': 1}, '11101011010': {'res': 3, 'phase': 0.3515625, 'indicator': 1}, '11101011011': {'res': 3, 'phase': 0.35546875, 'indicator': 1}, '11101011100': {'res': 3, 'phase': 0.359375, 'indicator': 1}, '11101011101': {'res': 3, 'phase': 0.36328125, 'indicator': 1}, '11101011110': {'res': 3, 'phase': 0.3671875, 'indicator': 1}, '11101011111': {'res': 3, 'phase': 0.37109375, 'indicator': 1}, '11101100000': {'res': 3, 'phase': 0.375, 'indicator': 1}, '11101100001': {'res': 3, 'phase': 0.37890625, 'indicator': 1}, '11101100010': {'res': 3, 'phase': 0.3828125, 'indicator': 1}, '11101100011': {'res': 3, 'phase': 0.38671875, 'indicator': 1}, '11101100100': {'res': 3, 'phase': 0.390625, 'indicator': 1}, '11101100101': {'res': 3, 'phase': 0.39453125, 'indicator': 1}, '11101100110': {'res': 3, 'phase': 0.3984375, 'indicator': 1}, '11101100111': {'res': 3, 'phase': 0.40234375, 'indicator': 1}, '11101101000': {'res': 3, 'phase': 0.40625, 'indicator': 1}, '11101101001': {'res': 3, 'phase': 0.41015625, 'indicator': 1}, '11101101010': {'res': 3, 'phase': 0.4140625, 'indicator': 1}, '11101101011': {'res': 3, 'phase': 0.41796875, 'indicator': 1}, '11101101100': {'res': 3, 'phase': 0.421875, 'indicator': 1}, '11101101101': {'res': 3, 'phase': 0.42578125, 'indicator': 1}, '11101101110': {'res': 3, 'phase': 0.4296875, 'indicator': 1}, '11101101111': {'res': 3, 'phase': 0.43359375, 'indicator': 1}, '11101110000': {'res': 3, 'phase': 0.4375, 'indicator': 1}, '11101110001': {'res': 3, 'phase': 0.44140625, 'indicator': 1}, '11101110010': {'res': 3, 'phase': 0.4453125, 'indicator': 1}, '11101110011': {'res': 3, 'phase': 0.44921875, 'indicator': 1}, '11101110100': {'res': 3, 'phase': 0.453125, 'indicator': 1}, '11101110101': {'res': 3, 'phase': 0.45703125, 'indicator': 1}, '11101110110': {'res': 3, 'phase': 0.4609375, 'indicator': 1}, '11101110111': {'res': 3, 'phase': 0.46484375, 'indicator': 1}, '11101111000': {'res': 3, 'phase': 0.46875, 'indicator': 1}, '11101111001': {'res': 3, 'phase': 0.47265625, 'indicator': 1}, '11101111010': {'res': 3, 'phase': 0.4765625, 'indicator': 1}, '11101111011': {'res': 3, 'phase': 0.48046875, 'indicator': 1}, '11101111100': {'res': 3, 'phase': 0.484375, 'indicator': 1}, '11101111101': {'res': 3, 'phase': 0.48828125, 'indicator': 1}, '11101111110': {'res': 3, 'phase': 0.4921875, 'indicator': 1}, '11101111111': {'res': 3, 'phase': 0.49609375, 'indicator': 1}, '11110000000': {'res': 3, 'phase': 0.5, 'indicator': 1}, '11110000001': {'res': 3, 'phase': 0.50390625, 'indicator': 1}, '11110000010': {'res': 3, 'phase': 0.5078125, 'indicator': 1}, '11110000011': {'res': 3, 'phase': 0.51171875, 'indicator': 1}, '11110000100': {'res': 3, 'phase': 0.515625, 'indicator': 1}, '11110000101': {'res': 3, 'phase': 0.51953125, 'indicator': 1}, '11110000110': {'res': 3, 'phase': 0.5234375, 'indicator': 1}, '11110000111': {'res': 3, 'phase': 0.52734375, 'indicator': 1}, '11110001000': {'res': 3, 'phase': 0.53125, 'indicator': 1}, '11110001001': {'res': 3, 'phase': 0.53515625, 'indicator': 1}, '11110001010': {'res': 3, 'phase': 0.5390625, 'indicator': 1}, '11110001011': {'res': 3, 'phase': 0.54296875, 'indicator': 1}, '11110001100': {'res': 3, 'phase': 0.546875, 'indicator': 1}, '11110001101': {'res': 3, 'phase': 0.55078125, 'indicator': 1}, '11110001110': {'res': 3, 'phase': 0.5546875, 'indicator': 1}, '11110001111': {'res': 3, 'phase': 0.55859375, 'indicator': 1}, '11110010000': {'res': 3, 'phase': 0.5625, 'indicator': 1}, '11110010001': {'res': 3, 'phase': 0.56640625, 'indicator': 1}, '11110010010': {'res': 3, 'phase': 0.5703125, 'indicator': 1}, '11110010011': {'res': 3, 'phase': 0.57421875, 'indicator': 1}, '11110010100': {'res': 3, 'phase': 0.578125, 'indicator': 1}, '11110010101': {'res': 3, 'phase': 0.58203125, 'indicator': 1}, '11110010110': {'res': 3, 'phase': 0.5859375, 'indicator': 1}, '11110010111': {'res': 3, 'phase': 0.58984375, 'indicator': 1}, '11110011000': {'res': 3, 'phase': 0.59375, 'indicator': 1}, '11110011001': {'res': 3, 'phase': 0.59765625, 'indicator': 1}, '11110011010': {'res': 3, 'phase': 0.6015625, 'indicator': 1}, '11110011011': {'res': 3, 'phase': 0.60546875, 'indicator': 1}, '11110011100': {'res': 3, 'phase': 0.609375, 'indicator': 1}, '11110011101': {'res': 3, 'phase': 0.61328125, 'indicator': 1}, '11110011110': {'res': 3, 'phase': 0.6171875, 'indicator': 1}, '11110011111': {'res': 3, 'phase': 0.62109375, 'indicator': 1}, '11110100000': {'res': 3, 'phase': 0.625, 'indicator': 1}, '11110100001': {'res': 3, 'phase': 0.62890625, 'indicator': 1}, '11110100010': {'res': 3, 'phase': 0.6328125, 'indicator': 1}, '11110100011': {'res': 3, 'phase': 0.63671875, 'indicator': 1}, '11110100100': {'res': 3, 'phase': 0.640625, 'indicator': 1}, '11110100101': {'res': 3, 'phase': 0.64453125, 'indicator': 1}, '11110100110': {'res': 3, 'phase': 0.6484375, 'indicator': 1}, '11110100111': {'res': 3, 'phase': 0.65234375, 'indicator': 1}, '11110101000': {'res': 3, 'phase': 0.65625, 'indicator': 1}, '11110101001': {'res': 3, 'phase': 0.66015625, 'indicator': 1}, '11110101010': {'res': 3, 'phase': 0.6640625, 'indicator': 1}, '11110101011': {'res': 3, 'phase': 0.66796875, 'indicator': 1}, '11110101100': {'res': 3, 'phase': 0.671875, 'indicator': 1}, '11110101101': {'res': 3, 'phase': 0.67578125, 'indicator': 1}, '11110101110': {'res': 3, 'phase': 0.6796875, 'indicator': 1}, '11110101111': {'res': 3, 'phase': 0.68359375, 'indicator': 1}, '11110110000': {'res': 3, 'phase': 0.6875, 'indicator': 1}, '11110110001': {'res': 3, 'phase': 0.69140625, 'indicator': 1}, '11110110010': {'res': 3, 'phase': 0.6953125, 'indicator': 1}, '11110110011': {'res': 3, 'phase': 0.69921875, 'indicator': 1}, '11110110100': {'res': 3, 'phase': 0.703125, 'indicator': 1}, '11110110101': {'res': 3, 'phase': 0.70703125, 'indicator': 1}, '11110110110': {'res': 3, 'phase': 0.7109375, 'indicator': 1}, '11110110111': {'res': 3, 'phase': 0.71484375, 'indicator': 1}, '11110111000': {'res': 3, 'phase': 0.71875, 'indicator': 1}, '11110111001': {'res': 3, 'phase': 0.72265625, 'indicator': 1}, '11110111010': {'res': 3, 'phase': 0.7265625, 'indicator': 1}, '11110111011': {'res': 3, 'phase': 0.73046875, 'indicator': 1}, '11110111100': {'res': 3, 'phase': 0.734375, 'indicator': 1}, '11110111101': {'res': 3, 'phase': 0.73828125, 'indicator': 1}, '11110111110': {'res': 3, 'phase': 0.7421875, 'indicator': 1}, '11110111111': {'res': 3, 'phase': 0.74609375, 'indicator': 1}, '11111000000': {'res': 3, 'phase': 0.75, 'indicator': 1}, '11111000001': {'res': 3, 'phase': 0.75390625, 'indicator': 1}, '11111000010': {'res': 3, 'phase': 0.7578125, 'indicator': 1}, '11111000011': {'res': 3, 'phase': 0.76171875, 'indicator': 1}, '11111000100': {'res': 3, 'phase': 0.765625, 'indicator': 1}, '11111000101': {'res': 3, 'phase': 0.76953125, 'indicator': 1}, '11111000110': {'res': 3, 'phase': 0.7734375, 'indicator': 1}, '11111000111': {'res': 3, 'phase': 0.77734375, 'indicator': 1}, '11111001000': {'res': 3, 'phase': 0.78125, 'indicator': 1}, '11111001001': {'res': 3, 'phase': 0.78515625, 'indicator': 1}, '11111001010': {'res': 3, 'phase': 0.7890625, 'indicator': 1}, '11111001011': {'res': 3, 'phase': 0.79296875, 'indicator': 1}, '11111001100': {'res': 3, 'phase': 0.796875, 'indicator': 1}, '11111001101': {'res': 3, 'phase': 0.80078125, 'indicator': 1}, '11111001110': {'res': 3, 'phase': 0.8046875, 'indicator': 1}, '11111001111': {'res': 3, 'phase': 0.80859375, 'indicator': 1}, '11111010000': {'res': 3, 'phase': 0.8125, 'indicator': 1}, '11111010001': {'res': 3, 'phase': 0.81640625, 'indicator': 1}, '11111010010': {'res': 3, 'phase': 0.8203125, 'indicator': 1}, '11111010011': {'res': 3, 'phase': 0.82421875, 'indicator': 1}, '11111010100': {'res': 3, 'phase': 0.828125, 'indicator': 1}, '11111010101': {'res': 3, 'phase': 0.83203125, 'indicator': 1}, '11111010110': {'res': 3, 'phase': 0.8359375, 'indicator': 1}, '11111010111': {'res': 3, 'phase': 0.83984375, 'indicator': 1}, '11111011000': {'res': 3, 'phase': 0.84375, 'indicator': 1}, '11111011001': {'res': 3, 'phase': 0.84765625, 'indicator': 1}, '11111011010': {'res': 3, 'phase': 0.8515625, 'indicator': 1}, '11111011011': {'res': 3, 'phase': 0.85546875, 'indicator': 1}, '11111011100': {'res': 3, 'phase': 0.859375, 'indicator': 1}, '11111011101': {'res': 3, 'phase': 0.86328125, 'indicator': 1}, '11111011110': {'res': 3, 'phase': 0.8671875, 'indicator': 1}, '11111011111': {'res': 3, 'phase': 0.87109375, 'indicator': 1}, '11111100000': {'res': 3, 'phase': 0.875, 'indicator': 1}, '11111100001': {'res': 3, 'phase': 0.87890625, 'indicator': 1}, '11111100010': {'res': 3, 'phase': 0.8828125, 'indicator': 1}, '11111100011': {'res': 3, 'phase': 0.88671875, 'indicator': 1}, '11111100100': {'res': 3, 'phase': 0.890625, 'indicator': 1}, '11111100101': {'res': 3, 'phase': 0.89453125, 'indicator': 1}, '11111100110': {'res': 3, 'phase': 0.8984375, 'indicator': 1}, '11111100111': {'res': 3, 'phase': 0.90234375, 'indicator': 1}, '11111101000': {'res': 3, 'phase': 0.90625, 'indicator': 1}, '11111101001': {'res': 3, 'phase': 0.91015625, 'indicator': 1}, '11111101010': {'res': 3, 'phase': 0.9140625, 'indicator': 1}, '11111101011': {'res': 3, 'phase': 0.91796875, 'indicator': 1}, '11111101100': {'res': 3, 'phase': 0.921875, 'indicator': 1}, '11111101101': {'res': 3, 'phase': 0.92578125, 'indicator': 1}, '11111101110': {'res': 3, 'phase': 0.9296875, 'indicator': 1}, '11111101111': {'res': 3, 'phase': 0.93359375, 'indicator': 1}, '11111110000': {'res': 3, 'phase': 0.9375, 'indicator': 1}, '11111110001': {'res': 3, 'phase': 0.94140625, 'indicator': 1}, '11111110010': {'res': 3, 'phase': 0.9453125, 'indicator': 1}, '11111110011': {'res': 3, 'phase': 0.94921875, 'indicator': 1}, '11111110100': {'res': 3, 'phase': 0.953125, 'indicator': 1}, '11111110101': {'res': 3, 'phase': 0.95703125, 'indicator': 1}, '11111110110': {'res': 3, 'phase': 0.9609375, 'indicator': 1}, '11111110111': {'res': 3, 'phase': 0.96484375, 'indicator': 1}, '11111111000': {'res': 3, 'phase': 0.96875, 'indicator': 1}, '11111111001': {'res': 3, 'phase': 0.97265625, 'indicator': 1}, '11111111010': {'res': 3, 'phase': 0.9765625, 'indicator': 1}, '11111111011': {'res': 3, 'phase': 0.98046875, 'indicator': 1}, '11111111100': {'res': 3, 'phase': 0.984375, 'indicator': 1}, '11111111101': {'res': 3, 'phase': 0.98828125, 'indicator': 1}, '11111111110': {'res': 3, 'phase': 0.9921875, 'indicator': 1}, '11111111111': {'res': 3, 'phase': 0.99609375, 'indicator': 1}} physical_qubits_map={'res': (9, 10), 'phase': (0, 1, 2, 3, 4, 5, 6, 7), 'indicator': (8,)} num_shots=1 output_type_map={'res': RegisterQuantumType(quantum_types=QuantumNumeric(source_ref=None, back_ref=None, kind='qnum', size=Expression(source_ref=None, back_ref=None, expr='2'), is_signed=Expression(source_ref=None, back_ref=None, expr='False'), fraction_digits=Expression(source_ref=None, back_ref=None, expr='0')), size=2), 'phase': RegisterQuantumType(quantum_types=QuantumNumeric(source_ref=None, back_ref=None, kind='qnum', size=Expression(source_ref=None, back_ref=None, expr='8'), is_signed=Expression(source_ref=None, back_ref=None, expr='False'), fraction_digits=Expression(source_ref=None, back_ref=None, expr='8')), size=8), 'indicator': RegisterQuantumType(quantum_types=QuantumBit(source_ref=None, back_ref=None, kind='qbit'), size=1)}\n"
     ]
    }
   ],
   "source": [
    "print(res_psi_exact)"
   ]
  },
  {
   "cell_type": "code",
   "execution_count": 113,
   "id": "7eb62175",
   "metadata": {},
   "outputs": [
    {
     "name": "stdout",
     "output_type": "stream",
     "text": [
      "Classical Solution:          [-0.07742422 -0.14951781 -0.1301396   0.08071729]\n",
      "Quantum Solution:            [0.14171406 0.63149925 0.58966253 0.48313965]\n",
      "Corrected Quantum Solution:  [-0.06568  0.29268  0.27329 -0.22392]\n",
      "\n",
      "Fidelity:                    76.59 %\n"
     ]
    },
    {
     "data": {
      "image/png": "[encoded data removed]",
      "text/plain": [
       "<Figure size 640x480 with 1 Axes>"
      ]
     },
     "metadata": {},
     "output_type": "display_data"
    }
   ],
   "source": [
    "show_solutions(A_prescale, b, qprog_psi_exact, res_psi_exact, precision, check=False)"
   ]
  },
  {
   "cell_type": "markdown",
   "id": "mg_aclfyA0u9",
   "metadata": {
    "id": "mg_aclfyA0u9"
   },
   "source": [
    "### Example: Approximated Hamiltonian Evolution (Suzuki-Trotter)\n",
    "\n",
    "The approximated Hamiltonian simulation is capable of handling larger and more complex systems, making it more suitable for real-world applications where exact solutions are computationally prohibitive."
   ]
  },
  {
   "cell_type": "markdown",
   "id": "1ffcbdfd-6c23-47ad-8955-ec8fd0861e32",
   "metadata": {
    "id": "1ffcbdfd-6c23-47ad-8955-ec8fd0861e32",
    "lines_to_next_cell": 0,
    "tags": []
   },
   "source": [
    "We will define the inner quantum call to be used within the flexible QPE: a Suzuki Trotter of order 1 [[3](#Trotter)], whose repetitions parameter grows by some constant factor proportional to the evolution coefficient.\n",
    "\n",
    "For the QPE we are going to use Classiq's `suzuki-trotter` function of order 1 for Hamiltonian evolution $e^{-i H t}$. This function is an approximated one, where its `repetitions` parameter controls its error. For a QPE algorithm with size $m$ a series of controlled-unitaries $U^{2^s}$ $0 \\leq s \\leq m-1$ are applied, for each of which we would like to pass a different `repetitions` parameter depth (to keep a roughly same error, the repetitions for approximating $U=e^{2\\pi i 2^s A }$ is expected to be $\\sim 2^s$ larger then the repetitions of $U=e^{2\\pi i A }$). In Classiq this can be done by working with a [`qpe_flexible`](https://github.com/Classiq/classiq-library/blob/main/functions/qmod_library_reference/classiq_open_library/qpe/qpe.ipynb), and passing a \"rule\" for how to exponentiate each step within the QPE in `repetitions` parameter."
   ]
  },
  {
   "cell_type": "code",
   "execution_count": 16,
   "id": "2xfdfSuq2esh",
   "metadata": {
    "id": "2xfdfSuq2esh"
   },
   "outputs": [],
   "source": [
    "from classiq.qmod.symbolic import ceiling, log\n",
    "\n",
    "\n",
    "@qfunc\n",
    "def suzuki_trotter1_with_power_logic(\n",
    "    hamiltonian: CArray[PauliTerm],\n",
    "    pw: CInt,\n",
    "    r0: CInt,\n",
    "    reps_scaling_factor: CReal,\n",
    "    evolution_coefficient: CReal,\n",
    "    target: QArray,\n",
    ") -> None:\n",
    "    suzuki_trotter(\n",
    "        hamiltonian,\n",
    "        evolution_coefficient=evolution_coefficient * pw,\n",
    "        order=1,\n",
    "        repetitions=r0 * ceiling(reps_scaling_factor ** (log(pw, 2))),\n",
    "        qbv=target,\n",
    "    )"
   ]
  },
  {
   "cell_type": "markdown",
   "id": "MLIyHtFJYAG0",
   "metadata": {
    "id": "MLIyHtFJYAG0"
   },
   "source": [
    "The values of the parameters `R0` and `REPS_SCALING_FACTOR` below were chosen by trial and error because they are Hamiltonian dependent. For other examples, one would need to use different values for these parameters, please compare with specific example in [Flexible QPE tutorial](https://github.com/Classiq/classiq-library/blob/main/tutorials/advanced_tutorials/high_level_modeling_flexible_qpe/high_level_modeling_flexible_qpe.ipynb). The relevant literature that discusses the errors of product formulas is available in [[5](#trotter-error)]."
   ]
  },
  {
   "cell_type": "code",
   "execution_count": 17,
   "id": "8a55813c-e4e8-4490-92a0-90816ad220d2",
   "metadata": {
    "id": "8a55813c-e4e8-4490-92a0-90816ad220d2"
   },
   "outputs": [],
   "source": [
    "from classiq.qmod.symbolic import floor\n",
    "\n",
    "# parameters for the amplitude preparation\n",
    "amplitudes = b.tolist()\n",
    "\n",
    "# parameters for the QPE\n",
    "QPE_SIZE = 4\n",
    "\n",
    "R0 = 4\n",
    "REPS_SCALING_FACTOR = 1.8\n",
    "\n",
    "\n",
    "@qfunc\n",
    "def main(\n",
    "    res: Output[QNum],\n",
    "    phase: Output[QNum],\n",
    "    indicator: Output[QBit],\n",
    ") -> None:\n",
    "    hhl(\n",
    "        rhs_vector=amplitudes,\n",
    "        precision=QPE_SIZE,\n",
    "        hamiltonian_evolution_with_power=lambda pw, target: suzuki_trotter1_with_power_logic(\n",
    "            hamiltonian=hamiltonian,\n",
    "            pw=pw,\n",
    "            evolution_coefficient=-2 * np.pi,\n",
    "            r0=R0,\n",
    "            reps_scaling_factor=REPS_SCALING_FACTOR,\n",
    "            target=target,\n",
    "        ),\n",
    "        state=res,\n",
    "        phase=phase,\n",
    "        indicator=indicator,\n",
    "    )\n",
    "\n",
    "\n",
    "# Define model\n",
    "qmod_hhl_trotter = hhl_model(main, backend_preferences)"
   ]
  },
  {
   "cell_type": "code",
   "execution_count": 18,
   "id": "8u01t_lw4Gc6",
   "metadata": {
    "id": "8u01t_lw4Gc6"
   },
   "outputs": [],
   "source": [
    "# Save qmod file\n",
    "write_qmod(qmod_hhl_trotter, \"hhl_trotter\", decimal_precision=10)"
   ]
  },
  {
   "cell_type": "code",
   "execution_count": 19,
   "id": "w3Kh2LRu2JQP",
   "metadata": {
    "colab": {
     "base_uri": "https://localhost:8080/",
     "height": 606
    },
    "id": "w3Kh2LRu2JQP",
    "outputId": "8cd9d835-5cbb-4d66-fa6e-69207ee28c3a"
   },
   "outputs": [
    {
     "name": "stdout",
     "output_type": "stream",
     "text": [
      "Quantum program link: https://platform.classiq.io/circuit/2ymn8IHYuhL9AYTrfvmhPtveFS6\n",
      "Circuit depth =  5066\n",
      "Circuit CX count =  2964\n",
      "\n",
      "Classical Solution:          [1.3814374  2.50585064 3.19890483 2.43147877]\n",
      "Quantum Solution:            [0.28600641 0.5107414  0.64756839 0.48785114]\n",
      "Corrected Quantum Solution:  [1.4399586  2.54984965 3.2534983  2.43124679]\n",
      "\n",
      "Fidelity:                    99.99 %\n"
     ]
    },
    {
     "data": {
      "image/png": "[encoded data removed]",
      "text/plain": [
       "<Figure size 640x480 with 1 Axes>"
      ]
     },
     "metadata": {},
     "output_type": "display_data"
    }
   ],
   "source": [
    "# Synthesize\n",
    "qprog_hhl_trotter = synthesize(qmod_hhl_trotter)\n",
    "show(qprog_hhl_trotter)\n",
    "\n",
    "# Show circuit\n",
    "print(\"Circuit depth = \", qprog_hhl_trotter.transpiled_circuit.depth)\n",
    "print(\"Circuit CX count = \", qprog_hhl_trotter.transpiled_circuit.count_ops[\"cx\"])\n",
    "print()\n",
    "\n",
    "# Show results\n",
    "res_hhl_trotter = execute(qprog_hhl_trotter).result_value()\n",
    "show_solutions(A, b, qprog_hhl_trotter, res_hhl_trotter, precision)"
   ]
  },
  {
   "cell_type": "markdown",
   "id": "fl8Ee2MDdtvR",
   "metadata": {
    "id": "fl8Ee2MDdtvR"
   },
   "source": [
    "We explored the HHL algorithm for solving linear systems using exact and approximated Hamiltonian simulations. The exact method, with a smaller circuit depth, is computationally less intensive but lacks scalability. In contrast, the approximated method, with a greater circuit depth, offers flexibility and can handle larger, more complex systems. This trade-off highlights the importance of choosing the right method based on problem size and complexity."
   ]
  },
  {
   "cell_type": "markdown",
   "id": "c5d5ea31-3ab2-4eb5-8522-9462e6ccfa40",
   "metadata": {
    "id": "c5d5ea31-3ab2-4eb5-8522-9462e6ccfa40",
    "tags": []
   },
   "source": [
    "## 4. Generalizations\n",
    "\n",
    "The usecase treated above is a canonical one, assuming the following properties:\n",
    "- The RHS vector $\\vec{b}$ is normalized.\n",
    "- The matrix $A$ is an Hermitian one.\n",
    "- The matrix $A$ is of size $2^n\\times 2^n $.\n",
    "- The eigenvalues of $A$ are in the range $(0,1)$.\n",
    "\n",
    "However, any general problem that does not follow these conditions can be resolved as follows:\n",
    "\n",
    "1) Normalize $\\vec{b}$ and return the normalization factor\n",
    "\n",
    "2) Symmetrize the problem as follows:\n",
    "$$\n",
    "\\begin{pmatrix}\n",
    "0 & A^T \\\\\n",
    "A & 0\n",
    "\\end{pmatrix}\n",
    "\\begin{pmatrix}\n",
    "\\vec{b}  \\\\\n",
    "0\n",
    "\\end{pmatrix}\n",
    "=\n",
    "\\begin{pmatrix}\n",
    "0  \\\\\n",
    "\\vec{x}\n",
    "\\end{pmatrix}.\n",
    "$$\n",
    "**Note:** This increases the number of qubits by 1.\n",
    "\n",
    "3) Complete the matrix dimension to the closest $2^n$ with an identity matrix. The vector $\\vec{b}$ will be completed with zeros.\n",
    "$$\n",
    "\\begin{pmatrix}\n",
    "A & 0 \\\\\n",
    "0 & I\n",
    "\\end{pmatrix}\n",
    "\\begin{pmatrix}\n",
    "\\vec{b}  \\\\\n",
    "0\n",
    "\\end{pmatrix}\n",
    "=\n",
    "\\begin{pmatrix}\n",
    "\\vec{x}  \\\\\n",
    "0\n",
    "\\end{pmatrix}.\n",
    "$$\n",
    "\n",
    "4) If the eigenvalues of $A$ are in the range $[-w_{\\min},w_{\\max}]$ you can employ transformations to the exponentiated matrix that enters into the Hamiltonian simulation, and then undo them for extracting the results:\n",
    "$$\n",
    "\\tilde{A}=(A+w_{\\min}I)\\left(1-\\frac{1}{2^{m}}\\right)\\frac{1}{w_{\\min}+w_{\\max}}.\n",
    "$$\n",
    "The eigenvalues of this matrix lie in the interval $[0,1)$, and are related to the eigenvalues of the original matrix via\n",
    "$$\n",
    "\\lambda = (w_{\\min}+w_{\\max})\\tilde{\\lambda}\\left[1/\\left(1-\\frac{1}{2^{n_{m}}}\\right)\\right]-w_{\\min},\n",
    "$$\n",
    "with $\\tilde{\\lambda}$ being an eigenvalue of $\\tilde{A}$ resulting from the QPE algorithm. This relation between eigenvalues is then used for the expression inserted into the eigenvalue inversion, via the `AmplitudeLoading` function."
   ]
  },
  {
   "cell_type": "markdown",
   "id": "oZAVXhfEhPTp",
   "metadata": {
    "id": "oZAVXhfEhPTp"
   },
   "source": [
    "## Technical Notes"
   ]
  },
  {
   "cell_type": "markdown",
   "id": "pSqM782xhRGA",
   "metadata": {
    "id": "pSqM782xhRGA"
   },
   "source": [
    "A brief summary of the the HHL algorithm:\n",
    "\n",
    "- **Preparation:** Unitary $U = e^{2\\pi i A}$ is constructed out of matrix $A$ for exact or approximated Hamiltonian simulation.\n",
    "\n",
    "- **Step 1:** Three registers are initialized of $m$, $n$ and 1 qubits respectively and vector $\\vec{b}$ is encoded into initial state:\n",
    "  $|0\\rangle_m |0\\rangle_n|0\\rangle_a \\xrightarrow[]{{\\rm SP}} |0\\rangle_m |b\\rangle_n|0\\rangle_a$.\n",
    "\n",
    "- **Step 2:** Quantum Phase Estimation (QPE) with controlled powers of unitary $U$ is applied to the initial state,\n",
    "  \n",
    "  $\\xrightarrow[]{{\\rm QPE}} \\sum^{2^n-1}_{j=0}\\beta_j |\\tilde{\\lambda}_j\\rangle_m |u_j\\rangle_n |0\\rangle_a$.\n",
    "\n",
    "- **Step 3:** Controlled rotations are applied to auxiliary bit $|0\\rangle_a$ with normalized constant $C = \\frac{1}{2^m}$,\n",
    "\n",
    "  $\\xrightarrow[]{{\\rm \\lambda^{-1}}} \\sum^{2^n-1}_{j=0}{\\beta_j |\\tilde{\\lambda_j}\\rangle_m |u_j\\rangle_n \\left(\\sqrt{1-\\frac{C^2}{\\tilde{\\lambda}^2_j}}|0\\rangle_a + \\frac{C}{\\tilde{\\lambda}_j}|1\\rangle_a \\right)}$.\n",
    "\n",
    "- **Step 4:** Eigenvalues $|\\tilde{\\lambda_j}\\rangle_m$ are uncomputed with QPE $^\\dagger$,\n",
    "\n",
    "  $\\xrightarrow[]{{\\rm QPE^\\dagger}} \\sum^{2^n-1}_{j=0}{\\beta_j |0\\rangle_m |u_j\\rangle_n \\left(\\sqrt{1-\\frac{C^2}{\\tilde{\\lambda}^2_j}}|0\\rangle_a + \\frac{C}{\\tilde{\\lambda}_j}|1\\rangle_a \\right)}$, if eigenvalues are $m$-estimated.\n",
    "\n",
    "- **Step 5:** Auxiliary bit value is observed and if:\n",
    "\n",
    "  - $|0\\rangle_a$ is measured or\n",
    "  - $|0\\rangle_m$ is not measured,\n",
    "  \n",
    "  then return to step 0, otherwise observe the state $|x\\rangle = \\sum^{2^n-1}_{j=0} \\frac{\\beta_j}{\\tilde{\\lambda}_j} |u_j\\rangle_n = |A^{-1}b\\rangle$ and save measured results.\n",
    "\n",
    "- **Step 6:** Repeat steps 1-5 for a fixed number of times ($s$-shots).\n",
    "\n",
    "- **Step 7:** Collect solution from statistical processing $x_s$\n",
    "\n",
    "- **Step 8:** Post-process and calculate approximate solution $x = {\\rm Real} \\left(\\frac{x_s}{e^{i \\phi}}\\right)$, where $\\phi$ is global phase of $x_s$."
   ]
  },
  {
   "cell_type": "markdown",
   "id": "dfa04f60-9f81-49d9-860e-179169bd5cdf",
   "metadata": {
    "id": "dfa04f60-9f81-49d9-860e-179169bd5cdf"
   },
   "source": [
    "## References\n",
    "\n",
    "<a name='HHL'>[1]</a>: [Harrow, A. W., Hassidim, A., & Lloyd, S., Quantum Algorithm for Linear Systems of Equations. Physical Review Letters 103, 150502 (2009)](https://journals.aps.org/prl/abstract/10.1103/PhysRevLett.103.150502).\n",
    "\n",
    "<a name='PauliDecomposition'>[2]</a>: [L. Hantzko, L. Binkowski, S. Gupta, Tensorized Pauli decomposition algorithm (2024)](https://arxiv.org/abs/2310.13421).\n",
    "\n",
    "<a name='Trotter'>[3]</a>: [N. Hatano, M. Suzuki, Finding Exponential Product Formulas of Higher Orders (2005)](https://arxiv.org/abs/math-ph/0506007).\n",
    "\n",
    "<a name='Duda'>[4]</a>: [J.Duda, \"Two-way quantum computers adding CPT analog of state preparation\" (2023)](https://arxiv.org/abs/2308.13522).\n",
    "\n",
    "<a name='trotter-error'>[5]</a>: [A. M. Childs, Y. Su, M. C. Tran, N. Wiebe, S. Zhu, \"Theory of Trotter Error with Commutator Scaling\" (2021)](https://arxiv.org/abs/2308.13522).\n"
   ]
  }
 ],
 "metadata": {
  "colab": {
   "provenance": [],
   "toc_visible": true
  },
  "kernelspec": {
   "display_name": ".venv",
   "language": "python",
   "name": "python3"
  },
  "language_info": {
   "codemirror_mode": {
    "name": "ipython",
    "version": 3
   },
   "file_extension": ".py",
   "mimetype": "text/x-python",
   "name": "python",
   "nbconvert_exporter": "python",
   "pygments_lexer": "ipython3",
   "version": "3.12.10"
  }
 },
 "nbformat": 4,
 "nbformat_minor": 5
}
