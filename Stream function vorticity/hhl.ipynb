{
 "cells": [
  {
   "cell_type": "markdown",
   "id": "39b430ca",
   "metadata": {},
   "source": [
    "# Acknowledgement\n",
    "\n",
    "This document is an expanded and annotated version of Classiq HHL Algorithm tutorial. See here for source."
   ]
  },
  {
   "cell_type": "markdown",
   "id": "3652aca5-46be-454d-9b5e-5b795379c534",
   "metadata": {
    "id": "3652aca5-46be-454d-9b5e-5b795379c534"
   },
   "source": [
    "# HHL Algorithm"
   ]
  },
  {
   "cell_type": "markdown",
   "id": "422c4e26-b10c-4d77-b7ea-5d06d684a752",
   "metadata": {
    "id": "422c4e26-b10c-4d77-b7ea-5d06d684a752"
   },
   "source": [
    "Solving linear equations appears in many research, engineering, and design fields. For example, many physical and financial models, from fluid dynamics to portfolio optimization, are described by partial differential equations, which are typically treated by numerical schemes, most of which are eventually transformed to a set of linear equations.\n",
    "\n",
    "The HHL algorithm [[1](#HHL)] is a quantum algorithm for solving a set of linear equations:\n",
    "$$\n",
    "A\\vec{x} = \\vec{b},\n",
    "$$\n",
    "represented by an $N\\times N$ matrix $A$ and a vector $\\vec{b}$ of size $N = 2^n$. The solution to the problem is designated by variable $\\vec{x}$. The HHL is one of the fundamental quantum algorithms that is expected to give an exponential speedup over its classical counterpart*.\n",
    "\n",
    "The algorithm estimates a quantum state $|x\\rangle = |A^{-1}b\\rangle$ from the initial quantum state $|b\\rangle$, corresponding to $N$-dimensional vector $\\vec{b}$. Estimation is done by inverting eigenvalues encoded in phases of eigenstates with use of Quantum Phase Estimation (QPE) and amplitude encoding.\n",
    "\n",
    "The HHL algorithm treats the problem in the following way:\n",
    "\n",
    "- **Input:** Hermitian matrix $A$ of size $2^n\\times 2^n$, normalized vector $\\vec{b}$, $|\\vec{b}|=1$ and given precision $m$.\n",
    "- **Promise:** Solution vector encoded in the state $|x\\rangle = |A^{-1}b\\rangle = \\sum^{2^n-1}_{j=0} \\frac{\\beta_j}{\\tilde{\\lambda}_j} |u_j\\rangle_n$, where:\n",
    " - $\\lambda_j$ are eigenphases of a unitary $U = e^{2\\pi i A}$, estimated up to $m$ binary digits and\n",
    " - $\\beta_j$ are coefficients in expansion of initial state $|b\\rangle$ into linear combination of eigenvectors of $A$, such that $|b\\rangle = \\sum^{2^n-1}_{j=0}\\beta_j|u_j\\rangle_n$.\n",
    "- **Output:** Approximate solution $\\vec{x}$.\n",
    "\n",
    "More detailed description of the HHL algorithm is available in Technical Notes section, below.\n",
    "\n",
    "For simplicity, the demo below treats a usecase where the matrix A has eigenvalues in the interval (0,1). Generalizations to other usecases, including the case where $|b|\\neq 1$ and A is not an Hermitian matrix of size $2^n \\times 2^n$, are discussed at the end of this demo.\n",
    "\n",
    "***\n",
    "\n",
    "\\* The exponential speedup is in the sparsity of the Hermitian matrix $A$ and its [condition number](https://en.wikipedia.org/wiki/Condition_number). When $\\kappa$ is the condition number of the Hermitian matrix $A$ and the eigenvalues of $A$ are in the interval $(\\frac{1}{\\kappa}, 1)$, the runtime of the HHL algorithm scales as $\\kappa^2 \\log(n) / \\epsilon$, where $\\epsilon$ is the additive error achieved in the output state $|x\\rangle$. The algorithm achieves exponential speedup when both $\\kappa$ and $1/\\epsilon$ are $\\text{poly} \\log(n)$ (i.e., upper bounded by a polynomial expression with argument $\\log(n)$) and the state $|b\\rangle$ is loaded efficiently.\n"
   ]
  },
  {
   "cell_type": "markdown",
   "id": "f367649e",
   "metadata": {},
   "source": [
    "## Importing libraries"
   ]
  },
  {
   "cell_type": "code",
   "execution_count": 20,
   "id": "b595a474",
   "metadata": {},
   "outputs": [],
   "source": [
    "from classiq import *\n",
    "from classiq.execution import (\n",
    "    ClassiqBackendPreferences,\n",
    "    ClassiqSimulatorBackendNames,\n",
    "    ExecutionPreferences,\n",
    "    ExecutionDetails,\n",
    ")\n",
    "\n",
    "import scipy\n",
    "from scipy.sparse import diags, eye, kron, identity, block_diag, csr_matrix\n",
    "import numpy as np\n",
    "from qiskit.visualization import array_to_latex\n",
    "\n",
    "import matplotlib.pyplot as plt"
   ]
  },
  {
   "cell_type": "markdown",
   "id": "280ac9ae",
   "metadata": {},
   "source": [
    "## Preparing examples\n",
    "\n",
    "This section generates $A$ and $b$ for HHL linear solver. \n",
    "\n",
    "Select an $A, b$ pair to use with HHL."
   ]
  },
  {
   "cell_type": "markdown",
   "id": "ca674b34",
   "metadata": {},
   "source": [
    "### Setting parameters"
   ]
  },
  {
   "cell_type": "code",
   "execution_count": 22,
   "id": "ecd7998b",
   "metadata": {},
   "outputs": [],
   "source": [
    "# Parameters\n",
    "nx = 6\n",
    "ny = 6\n",
    "dx = 1.0/(nx-1) # grid spacing (uniform) in both x and y\n",
    "\n",
    "# === HHL (QPE) parameters ===\n",
    "precision = 6\n",
    "dimension = (nx-2)*(ny-2) # Dimension of the A matrix\n",
    "\n",
    "omega = np.ones((nx, ny))\n",
    "psi   = np.zeros((nx, ny))"
   ]
  },
  {
   "cell_type": "markdown",
   "id": "7879ed07",
   "metadata": {},
   "source": [
    "#### Deprecated functions"
   ]
  },
  {
   "cell_type": "code",
   "execution_count": null,
   "id": "90081ba2",
   "metadata": {},
   "outputs": [],
   "source": [
    "# Deprecated\n",
    "def build_sparse_discretized_poisson(nx, ny, dx):\n",
    "    \"\"\"\n",
    "    Build the sparse Poisson system A ψ = b for a 2D grid.\n",
    "\n",
    "    Parameters:\n",
    "        nx (int): Number of grid points in the x-direction.\n",
    "        ny (int): Number of grid points in the y-direction.\n",
    "        dx (float): Grid spacing (assumed equal in x and y).\n",
    "        omega (array_like): 2D array of vorticity values, shape (nx, ny).\n",
    "\n",
    "    Returns:\n",
    "        A (scipy.sparse.csr_matrix): Sparse matrix of shape (N, N),\n",
    "            representing the 5-point Laplacian (∇²) scaled by 1/dx²,\n",
    "            where N = nx * ny.  It enforces ∇²ψ = -ω.\n",
    "            \n",
    "        b (numpy.ndarray): 1D array of length N, the right-hand side\n",
    "            vector with entries -ω[i,j] * dx^2, flattened in row-major order.\n",
    "    \"\"\"\n",
    "    # Create 1D Laplacian matrices in x and y directions\n",
    "    main_x = -2.0 * np.ones(nx)\n",
    "    off_x  = 1.0  * np.ones(nx-1)\n",
    "    Tx = diags([off_x, main_x, off_x], [-1, 0, 1], format='csr')\n",
    "    main_y = -2.0 * np.ones(ny)\n",
    "    off_y  = 1.0  * np.ones(ny-1)\n",
    "    Ty = diags([off_y, main_y, off_y], [-1, 0, 1], format='csr')\n",
    "    # Identity matrices\n",
    "    Ix = eye(nx, format='csr')\n",
    "    Iy = eye(ny, format='csr')\n",
    "    # 2D Laplacian via Kronecker sum: A = I_y ⊗ T_x + T_y ⊗ I_x\n",
    "    A = (kron(Iy, Tx, format='csr') + kron(Ty, Ix, format='csr')) / (dx*dx)\n",
    "    # Right-hand side vector\n",
    "    return A\n",
    "\n",
    "def get_b(omega, dx):\n",
    "    b = -omega.flatten() * dx**2\n",
    "    return b\n",
    "\n",
    "def pad_to_power_of_two(\n",
    "    A: csr_matrix | None   = None,\n",
    "    b: np.ndarray  | None  = None\n",
    ") -> csr_matrix | np.ndarray | tuple[csr_matrix, np.ndarray]:\n",
    "    \n",
    "    \"\"\"\n",
    "    Pad a sparse CSR matrix and/or vector to the next power-of-two dimension\n",
    "    for qubit-based solvers.\n",
    "\n",
    "    You may supply either:\n",
    "        - A only  => returns padded A\n",
    "        - b only  => returns padded b\n",
    "        - A and b => returns (Apad, bpad)\n",
    "\n",
    "    Parameters\n",
    "    ----------\n",
    "    A : scipy.sparse.csr_matrix, optional\n",
    "        Original square matrix of shape (N, N).\n",
    "    b : numpy.ndarray, optional\n",
    "        Original right-hand side vector of length N.\n",
    "\n",
    "    Returns\n",
    "    -------\n",
    "    Apad : scipy.sparse.csr_matrix\n",
    "        Padded matrix of shape (2^n, 2^n) if A was provided.\n",
    "    bpad : numpy.ndarray\n",
    "        Padded RHS vector of length 2^n if b was provided.\n",
    "    (Apad, bpad) : tuple\n",
    "        If both A and b are given.\n",
    "    \"\"\"\n",
    "    # Determine original size N\n",
    "    if A is not None:\n",
    "        N = A.shape[0]\n",
    "    elif b is not None:\n",
    "        b = np.asarray(b).flatten()\n",
    "        N = b.shape[0]\n",
    "    else:\n",
    "        raise ValueError(\"Must provide at least one of A or b to pad.\")\n",
    "\n",
    "    # Compute next power of two ≥ N\n",
    "    n_bits = (N - 1).bit_length()\n",
    "    N2 = 1 << n_bits\n",
    "    M = N2 - N\n",
    "\n",
    "    # If already power-of-two, just return copy(s)\n",
    "    if M == 0:\n",
    "        if A is not None and b is not None:\n",
    "            return A.copy(), b.copy()\n",
    "        elif A is not None:\n",
    "            return A.copy()\n",
    "        else:\n",
    "            return b.copy()\n",
    "\n",
    "    # Build padding structures\n",
    "    pad_id = identity(M, dtype=(A.dtype if A is not None else np.float64), format='csr')\n",
    "\n",
    "    # Pad A if requested\n",
    "    if A is not None:\n",
    "        Apad = block_diag([A, pad_id], format='csr')\n",
    "    # Pad b if requested\n",
    "    if b is not None:\n",
    "        bpad = np.empty(N2, dtype=b.dtype)\n",
    "        bpad[:N] = b\n",
    "        bpad[N:] = 0\n",
    "\n",
    "    # Return according to inputs\n",
    "    if A is not None and b is not None:\n",
    "        return Apad, bpad\n",
    "    elif A is not None:\n",
    "        return Apad\n",
    "    else:\n",
    "        return bpad"
   ]
  },
  {
   "cell_type": "markdown",
   "id": "e3e04066",
   "metadata": {},
   "source": [
    "#### Functions for Streamfunction-Vorticity"
   ]
  },
  {
   "cell_type": "code",
   "execution_count": 102,
   "id": "fabd58a4",
   "metadata": {},
   "outputs": [],
   "source": [
    "# Prompt for generative AI to generate the get_A() function. \n",
    "\"\"\"\n",
    "Given nx, ny and dx, define a function that construct the following symmetric matrix:\n",
    "0. the symmetric matrix has size (nx-2)*(ny-2)\n",
    "1. on the diagonal, we have 4\n",
    "2. on the two sub-diagonal beside the main diagonal, has -1. \n",
    "3. for each row i, (i, i+nx-2) and (i, i-(nx-2)) also has -1. If index is outside of range, ignore. \n",
    "In other words, the diagonal that is shifted left and right from the main diagonal by (nx-2) also has -1.\n",
    "\"\"\"\n",
    "\n",
    "def get_A(nx: int, ny: int):\n",
    "    \"\"\"\n",
    "    Build the (nx-2)*(ny-2) five-point Laplacian matrix\n",
    "    with 4 on the diagonal, -1 on the ±1 sub/super-diagonals\n",
    "    (excluding row-wrap connections), and -1 on the ±(nx-2) diagonals.\n",
    "    Returns a CSR matrix of shape (N, N), where N=(nx-2)*(ny-2).\n",
    "    \n",
    "    We assume that the value of the discretized quantity (streamfunction psi in this case) at the 4 boundaries are 0. \n",
    "    Notice that in Python the indices range from psi[0,0] to psi[nx-1, ny-1], \n",
    "    where as in Engineering, the indices range from psi_(1,1) to psi_(nx,ny)\n",
    "    \"\"\"\n",
    "    N_x = nx - 2\n",
    "    N_y = ny - 2\n",
    "    N   = N_x * N_y\n",
    "\n",
    "    # main diagonal\n",
    "    main =  4 * np.ones(N, dtype=float)\n",
    "\n",
    "    # ---- horizontal neighbors (offset ±1), but zero out wrap-around\n",
    "    # create a length-(N-1) array of -1’s\n",
    "    off1 = -np.ones(N-1, dtype=float)\n",
    "    # mask out entries where (i,i+1) would jump from end of one row to next\n",
    "    idx   = np.arange(N-1)\n",
    "    wrap  = (idx + 1) % N_x == 0\n",
    "    off1[wrap] = 0.0\n",
    "\n",
    "    # ---- vertical neighbors (offset ±N_x), no wrap issues\n",
    "    offNx = -np.ones(N - N_x, dtype=float)\n",
    "\n",
    "    # assemble\n",
    "    diags_data = [ main,\n",
    "                off1, off1,\n",
    "                offNx, offNx ]\n",
    "    offsets    = [  0,\n",
    "                -1,   1,\n",
    "                -N_x, N_x ]\n",
    "\n",
    "    A = diags(diags_data, offsets, shape=(N, N), format='csr')\n",
    "    return A\n",
    "\n",
    "# # After building A as a CSR matrix you can use:\n",
    "#    dense_A = A.toarray()        # convert to NumPy array\n",
    "\n",
    "# # Or use qiskit for better visualization\n",
    "# from qiskit.visualization import array_to_latex\n",
    "# display(array_to_latex(A.toarray()))\n",
    "\n",
    "def get_b(omega, dx):\n",
    "    \"\"\"\n",
    "    Given vorticity omega os size nx x ny,\n",
    "    extract omega from the interior and flatten to a vector.\n",
    "    \"\"\"\n",
    "    b = omega[1:-1, 1:-1].flatten() * dx**2\n",
    "    return b\n",
    "\n",
    "def pad_to_power_of_two(\n",
    "    A: csr_matrix | None   = None,\n",
    "    b: np.ndarray  | None  = None\n",
    ") -> csr_matrix | np.ndarray | tuple[csr_matrix, np.ndarray]:\n",
    "    \n",
    "    \"\"\"\n",
    "    Pad a sparse CSR matrix and/or vector to the next power-of-two dimension\n",
    "    for qubit-based solvers.\n",
    "\n",
    "    You may supply either:\n",
    "        - A only  => returns padded A\n",
    "        - b only  => returns padded b\n",
    "        - A and b => returns (Apad, bpad)\n",
    "\n",
    "    Parameters\n",
    "    ----------\n",
    "    A : scipy.sparse.csr_matrix, optional\n",
    "        Original square matrix of shape (N, N).\n",
    "    b : numpy.ndarray, optional\n",
    "        Original right-hand side vector of length N.\n",
    "\n",
    "    Returns\n",
    "    -------\n",
    "    Apad : scipy.sparse.csr_matrix\n",
    "        Padded matrix of shape (2^n, 2^n) if A was provided.\n",
    "    bpad : numpy.ndarray\n",
    "        Padded RHS vector of length 2^n if b was provided.\n",
    "    (Apad, bpad) : tuple\n",
    "        If both A and b are given.\n",
    "    \"\"\"\n",
    "    # Determine original size N\n",
    "    if A is not None:\n",
    "        N = A.shape[0]\n",
    "    elif b is not None:\n",
    "        b = np.asarray(b).flatten()\n",
    "        N = b.shape[0]\n",
    "    else:\n",
    "        raise ValueError(\"Must provide at least one of A or b to pad.\")\n",
    "\n",
    "    # Compute next power of two ≥ N\n",
    "    n_bits = (N - 1).bit_length()\n",
    "    N2 = 1 << n_bits\n",
    "    M = N2 - N\n",
    "\n",
    "    # If already power-of-two, just return copy(s)\n",
    "    if M == 0:\n",
    "        if A is not None and b is not None:\n",
    "            return A.copy(), b.copy()\n",
    "        elif A is not None:\n",
    "            return A.copy()\n",
    "        else:\n",
    "            return b.copy()\n",
    "\n",
    "    # Build padding structures\n",
    "    pad_id = identity(M, dtype=(A.dtype if A is not None else np.float64), format='csr')\n",
    "\n",
    "    # Pad A if requested\n",
    "    if A is not None:\n",
    "        Apad = block_diag([A, pad_id], format='csr')\n",
    "    # Pad b if requested\n",
    "    if b is not None:\n",
    "        bpad = np.empty(N2, dtype=b.dtype)\n",
    "        bpad[:N] = b\n",
    "        bpad[N:] = 0\n",
    "\n",
    "    # Return according to inputs\n",
    "    if A is not None and b is not None:\n",
    "        return Apad, bpad\n",
    "    elif A is not None:\n",
    "        return Apad\n",
    "    else:\n",
    "        return bpad\n",
    "\n",
    "\n",
    "def recover_full_psi_from_flat(psi_vec: np.ndarray, nx: int, ny: int, boundary: float = 0.0) -> np.ndarray:\n",
    "    \"\"\"\n",
    "    Rebuild a full (nx x ny) array from a flattened interior vector psi_vec.\n",
    "\n",
    "    Parameters\n",
    "    ----------\n",
    "    psi_vec : 1D np.ndarray, length = (nx-2)*(ny-2)\n",
    "        Flattened (row-major) interior values.\n",
    "    nx, ny : int\n",
    "        Full grid dimensions.\n",
    "    boundary : float, optional\n",
    "        Dirichlet boundary value (default 0.0).\n",
    "\n",
    "    Returns\n",
    "    -------\n",
    "    psi_full : 2D np.ndarray, shape (nx, ny)\n",
    "        Full array with psi_full[1:-1,1:-1] filled from psi_vec\n",
    "        and all boundaries set to `boundary`.\n",
    "    \"\"\"\n",
    "    expected = (nx-2) * (ny-2)\n",
    "    if psi_vec.size != expected:\n",
    "        raise ValueError(f\"Expected psi_vec of length {expected}, got {psi_vec.size}\")\n",
    "    \n",
    "    # Reshape back to 2D interior\n",
    "    interior = psi_vec.reshape((nx-2, ny-2))\n",
    "    \n",
    "    # Use psi_vec for the interior nodes\n",
    "    psi_full = np.full((nx, ny), boundary, dtype=psi_vec.dtype)\n",
    "    psi_full[1:-1, 1:-1] = interior\n",
    "    \n",
    "    return psi_full\n",
    "\n",
    "# Claculating eigenvalues of A, using direct formula\n",
    "\n",
    "def eigenvalues_laplacian(nx: int, ny: int) -> np.ndarray:\n",
    "    \"\"\"\n",
    "    Compute the eigenvalues of the 5‑point Laplacian, pentadiagonal matrix on an\n",
    "    (nx-2) by (ny-2) interior grid.\n",
    "\n",
    "    Returns a 2D array of shape ((nx-2), (ny-2)) where\n",
    "        Lambda[p-1, q-1] = 4 - 2*cos(pi*p/(nx-1)) - 2*cos(pi*q/(ny-1))\n",
    "    for p=1..nx-2, q=1..ny-2.\n",
    "    \"\"\"\n",
    "    Nx = nx - 2\n",
    "    Ny = ny - 2\n",
    "\n",
    "    # indices p=1..Nx, q=1..Ny\n",
    "    p = np.arange(1, Nx+1)\n",
    "    q = np.arange(1, Ny+1)\n",
    "\n",
    "    # compute the two cosine terms\n",
    "    cos_p = np.cos(np.pi * p / (Nx + 1))    # shape (Nx,)\n",
    "    cos_q = np.cos(np.pi * q / (Ny + 1))    # shape (Ny,)\n",
    "\n",
    "    # build the full (Nx x Ny) array via broadcasting\n",
    "    Lambda = 4 \\\n",
    "           - 2 * cos_p[:, None] \\\n",
    "           - 2 * cos_q[None, :]\n",
    "\n",
    "    return Lambda\n",
    "\n",
    "def eigenrange_laplacian(nx, ny):\n",
    "    \"\"\"\n",
    "    Compute the minimum and maximum eigenvalues of the discrete 2D Laplacian.\n",
    "\n",
    "    The function calculates an estimate of the eigenvalue range for the\n",
    "    Finite Difference discretization of the 2D Laplacian operator on a\n",
    "    grid of size (nx, ny) with Dirichlet boundary conditions.\n",
    "\n",
    "    Parameters\n",
    "    ----------\n",
    "    nx : int\n",
    "        Number of grid points in the x-direction (including boundaries).\n",
    "    ny : int\n",
    "        Number of grid points in the y-direction (including boundaries).\n",
    "\n",
    "    Returns\n",
    "    -------\n",
    "    tuple of float\n",
    "        (lambda_min, lambda_max)\n",
    "        Minimum and maximum eigenvalues of the discrete Laplacian.\n",
    "    \"\"\"\n",
    "    Nx = nx - 2\n",
    "    Ny = ny - 2\n",
    "\n",
    "    min = (4 \n",
    "    - 2 * np.cos(np.pi / (Nx + 1))\n",
    "    - 2 * np.cos(np.pi / (Ny + 1)))\n",
    "\n",
    "    max = (4 \n",
    "    + 2 * np.cos(np.pi / (Nx + 1))\n",
    "    + 2 * np.cos(np.pi / (Ny + 1)))\n",
    "\n",
    "    return min, max\n",
    "\n",
    "def scale_A(A:csr_matrix, lambda_min, lambda_max, precision):\n",
    "    \"\"\"\n",
    "    Scale sparse matrix A so its eigenvalues fit into:\n",
    "    [1/2^precision, 1]\n",
    "    \n",
    "    Formula:\n",
    "    A_scaled = [(A - min*I)*(1-1/2**precision)/(max-min) \n",
    "    + 1/2**precision *I]\n",
    "    \n",
    "    Returns\n",
    "    scipy.sparse.csr_matrix\n",
    "    The scaled sparse matrix in csr format. \n",
    "    \"\"\"\n",
    "    dim = A.shape[0]\n",
    "    I = identity(dim, format='csr')\n",
    "    scale_factor = (1 - 1 / 2**precision) / (lambda_max - lambda_min)\n",
    "    shift = 1 / 2**precision\n",
    "    A_scaled = (A - lambda_min * I) * scale_factor + shift * I\n",
    "    return A_scaled\n",
    "\n",
    "def scale_b(b_vector: np.ndarray):\n",
    "    \"\"\"\n",
    "    Normalize a vector to have unit L2 norm.\n",
    "    \n",
    "    Parameters\n",
    "    ----------\n",
    "    b_vector : np.ndarray\n",
    "        Input vector to be normalized.\n",
    "        \n",
    "    Returns\n",
    "    -------\n",
    "    np.ndarray\n",
    "        The normalized vector with L2 norm equal to 1.\n",
    "    \"\"\"\n",
    "    \n",
    "    b_norm = np.linalg.norm(b_vector)\n",
    "    if b_norm == 0:\n",
    "        raise ValueError(\"Cannot normalize a zero vector.\")\n",
    "\n",
    "    b_normalized = b_vector / b_norm\n",
    "    return b_normalized\n",
    "    "
   ]
  },
  {
   "cell_type": "markdown",
   "id": "c2fcf999-36cf-4536-9661-bd69c254a198",
   "metadata": {
    "id": "c2fcf999-36cf-4536-9661-bd69c254a198",
    "tags": []
   },
   "source": [
    "### Defining Matrix of a Specific Problem"
   ]
  },
  {
   "cell_type": "code",
   "execution_count": 6,
   "id": "9a570e49",
   "metadata": {},
   "outputs": [],
   "source": [
    "a_matrix = np.array(\n",
    "    [\n",
    "        [0.135, -0.092, -0.011, -0.045, -0.026, -0.033, 0.03, 0.034],\n",
    "        [-0.092, 0.115, 0.02, 0.017, 0.044, -0.009, -0.015, -0.072],\n",
    "        [-0.011, 0.02, 0.073, -0.0, -0.068, -0.042, 0.043, -0.011],\n",
    "        [-0.045, 0.017, -0.0, 0.043, 0.028, 0.027, -0.047, -0.005],\n",
    "        [-0.026, 0.044, -0.068, 0.028, 0.21, 0.079, -0.177, -0.05],\n",
    "        [-0.033, -0.009, -0.042, 0.027, 0.079, 0.121, -0.123, 0.021],\n",
    "        [0.03, -0.015, 0.043, -0.047, -0.177, -0.123, 0.224, 0.011],\n",
    "        [0.034, -0.072, -0.011, -0.005, -0.05, 0.021, 0.011, 0.076],\n",
    "    ]\n",
    ")\n",
    "\n",
    "b_vector = np.array(\n",
    "    [\n",
    "        -0.00885448,\n",
    "        -0.17725898,\n",
    "        -0.15441119,\n",
    "        0.17760157,\n",
    "        0.41428775,\n",
    "        0.44735303,\n",
    "        -0.71137715,\n",
    "        0.1878808,\n",
    "    ]\n",
    ")\n",
    "\n",
    "A = a_matrix\n",
    "\n",
    "# Normalize vector b\n",
    "b = b_vector / np.linalg.norm(b_vector)"
   ]
  },
  {
   "cell_type": "markdown",
   "id": "9d70527b",
   "metadata": {},
   "source": [
    "Another problem"
   ]
  },
  {
   "cell_type": "code",
   "execution_count": 4,
   "id": "44b8318d",
   "metadata": {},
   "outputs": [
    {
     "data": {
      "text/latex": [
       "$$\n",
       "\n",
       "\\begin{bmatrix}\n",
       "\\frac{7}{25} & -0.01 & \\frac{1}{50} & - \\frac{1}{10}  \\\\\n",
       " -0.01 & \\frac{1}{2} & - \\frac{11}{50} & -0.07  \\\\\n",
       " \\frac{1}{50} & - \\frac{11}{50} & 0.43 & - \\frac{1}{20}  \\\\\n",
       " - \\frac{1}{10} & -0.07 & - \\frac{1}{20} & \\frac{21}{50}  \\\\\n",
       " \\end{bmatrix}\n",
       "$$"
      ],
      "text/plain": [
       "<IPython.core.display.Latex object>"
      ]
     },
     "metadata": {},
     "output_type": "display_data"
    }
   ],
   "source": [
    "\n",
    "# Define matrix A\n",
    "A = np.array(\n",
    "    [\n",
    "        [0.28, -0.01, 0.02, -0.1],\n",
    "        [-0.01, 0.5, -0.22, -0.07],\n",
    "        [0.02, -0.22, 0.43, -0.05],\n",
    "        [-0.1, -0.07, -0.05, 0.42],\n",
    "    ]\n",
    ")\n",
    "\n",
    "# Define RHS vector b\n",
    "b = np.array([1, 2, 4, 3])\n",
    "\n",
    "# Normalize vector b\n",
    "b = b / np.linalg.norm(b)\n",
    "\n",
    "display(array_to_latex(A))"
   ]
  },
  {
   "cell_type": "code",
   "execution_count": 5,
   "id": "49fe6fd1",
   "metadata": {},
   "outputs": [
    {
     "name": "stdout",
     "output_type": "stream",
     "text": [
      "[[-0.09406241+0.81490692j  0.03521872-0.02976353j -0.01880072-0.1614288j\n",
      "   0.43769246+0.32705555j]\n",
      " [ 0.03521872-0.02976353j -0.15347248-0.17275282j  0.23117644+0.887207j\n",
      "   0.23971826+0.21548268j]\n",
      " [-0.01880072-0.1614288j   0.23117644+0.887207j   -0.12191317+0.13200138j\n",
      "   0.29584069+0.11488939j]\n",
      " [ 0.43769246+0.32705555j  0.23971826+0.21548268j  0.29584069+0.11488939j\n",
      "  -0.65638279+0.25690989j]]\n"
     ]
    },
    {
     "data": {
      "text/latex": [
       "$$\n",
       "\n",
       "\\begin{bmatrix}\n",
       "-0.0940624095 + 0.8149069223 i & 0.0352187195 - 0.0297635346 i & -0.018800717 - 0.161428798 i & 0.4376924593 + 0.3270555491 i  \\\\\n",
       " 0.0352187195 - 0.0297635346 i & -0.153472483 - 0.1727528247 i & 0.2311764446 + 0.8872069971 i & 0.2397182575 + 0.2154826792 i  \\\\\n",
       " -0.018800717 - 0.161428798 i & 0.2311764446 + 0.8872069971 i & -0.1219131721 + 0.1320013813 i & 0.295840691 + 0.1148893873 i  \\\\\n",
       " 0.4376924593 + 0.3270555491 i & 0.2397182575 + 0.2154826792 i & 0.295840691 + 0.1148893873 i & -0.656382795 + 0.2569098899 i  \\\\\n",
       " \\end{bmatrix}\n",
       "$$"
      ],
      "text/plain": [
       "<IPython.core.display.Latex object>"
      ]
     },
     "metadata": {},
     "output_type": "display_data"
    }
   ],
   "source": [
    "from qiskit.visualization import array_to_latex\n",
    "M = scipy.linalg.expm(2 * np.pi * 1j * A)\n",
    "print(M)\n",
    "display(array_to_latex(M))"
   ]
  },
  {
   "cell_type": "markdown",
   "id": "fdd2c127",
   "metadata": {},
   "source": [
    "### Defining A, b for Streamfunction-Vorticity, Lid Driven Cavity\n",
    "\n",
    "$A$ before and after scaling for eigenvalues. \n",
    "min and max of eigenvalues of $A$.\n",
    "$b$ normalized.\n",
    "\n",
    "All as numpy array. \n",
    "\n",
    "Notice that `get_A()` returns a csr sparse matrix, \n",
    "which needs to be transformed into numpy array.\n",
    "Same for `scale_A()`."
   ]
  },
  {
   "cell_type": "code",
   "execution_count": 282,
   "id": "1e98fe85",
   "metadata": {},
   "outputs": [
    {
     "name": "stdout",
     "output_type": "stream",
     "text": [
      "[[ 4. -1.  0.  0. -1.  0.  0.  0.  0.  0.  0.  0.  0.  0.  0.  0.]\n",
      " [-1.  4. -1.  0.  0. -1.  0.  0.  0.  0.  0.  0.  0.  0.  0.  0.]\n",
      " [ 0. -1.  4. -1.  0.  0. -1.  0.  0.  0.  0.  0.  0.  0.  0.  0.]\n",
      " [ 0.  0. -1.  4.  0.  0.  0. -1.  0.  0.  0.  0.  0.  0.  0.  0.]\n",
      " [-1.  0.  0.  0.  4. -1.  0.  0. -1.  0.  0.  0.  0.  0.  0.  0.]\n",
      " [ 0. -1.  0.  0. -1.  4. -1.  0.  0. -1.  0.  0.  0.  0.  0.  0.]\n",
      " [ 0.  0. -1.  0.  0. -1.  4. -1.  0.  0. -1.  0.  0.  0.  0.  0.]\n",
      " [ 0.  0.  0. -1.  0.  0. -1.  4.  0.  0.  0. -1.  0.  0.  0.  0.]\n",
      " [ 0.  0.  0.  0. -1.  0.  0.  0.  4. -1.  0.  0. -1.  0.  0.  0.]\n",
      " [ 0.  0.  0.  0.  0. -1.  0.  0. -1.  4. -1.  0.  0. -1.  0.  0.]\n",
      " [ 0.  0.  0.  0.  0.  0. -1.  0.  0. -1.  4. -1.  0.  0. -1.  0.]\n",
      " [ 0.  0.  0.  0.  0.  0.  0. -1.  0.  0. -1.  4.  0.  0.  0. -1.]\n",
      " [ 0.  0.  0.  0.  0.  0.  0.  0. -1.  0.  0.  0.  4. -1.  0.  0.]\n",
      " [ 0.  0.  0.  0.  0.  0.  0.  0.  0. -1.  0.  0. -1.  4. -1.  0.]\n",
      " [ 0.  0.  0.  0.  0.  0.  0.  0.  0.  0. -1.  0.  0. -1.  4. -1.]\n",
      " [ 0.  0.  0.  0.  0.  0.  0.  0.  0.  0.  0. -1.  0.  0. -1.  4.]]\n",
      "[-0.00796392 -0.06948844 -0.04893863 -0.06979657 -0.00796392 -0.15943065\n",
      " -0.13888085 -0.15973879 -0.37261958 -0.40235923 -0.63982837 -0.16898415\n",
      " -0.12002429 -0.07963915 -0.13887978 -0.37261958]\n",
      "[[ 0.53125    -0.14485172  0.          0.         -0.14485172  0.\n",
      "   0.          0.          0.          0.          0.          0.\n",
      "   0.          0.          0.          0.        ]\n",
      " [-0.14485172  0.53125    -0.14485172  0.          0.         -0.14485172\n",
      "   0.          0.          0.          0.          0.          0.\n",
      "   0.          0.          0.          0.        ]\n",
      " [ 0.         -0.14485172  0.53125    -0.14485172  0.          0.\n",
      "  -0.14485172  0.          0.          0.          0.          0.\n",
      "   0.          0.          0.          0.        ]\n",
      " [ 0.          0.         -0.14485172  0.53125     0.          0.\n",
      "   0.         -0.14485172  0.          0.          0.          0.\n",
      "   0.          0.          0.          0.        ]\n",
      " [-0.14485172  0.          0.          0.          0.53125    -0.14485172\n",
      "   0.          0.         -0.14485172  0.          0.          0.\n",
      "   0.          0.          0.          0.        ]\n",
      " [ 0.         -0.14485172  0.          0.         -0.14485172  0.53125\n",
      "  -0.14485172  0.          0.         -0.14485172  0.          0.\n",
      "   0.          0.          0.          0.        ]\n",
      " [ 0.          0.         -0.14485172  0.          0.         -0.14485172\n",
      "   0.53125    -0.14485172  0.          0.         -0.14485172  0.\n",
      "   0.          0.          0.          0.        ]\n",
      " [ 0.          0.          0.         -0.14485172  0.          0.\n",
      "  -0.14485172  0.53125     0.          0.          0.         -0.14485172\n",
      "   0.          0.          0.          0.        ]\n",
      " [ 0.          0.          0.          0.         -0.14485172  0.\n",
      "   0.          0.          0.53125    -0.14485172  0.          0.\n",
      "  -0.14485172  0.          0.          0.        ]\n",
      " [ 0.          0.          0.          0.          0.         -0.14485172\n",
      "   0.          0.         -0.14485172  0.53125    -0.14485172  0.\n",
      "   0.         -0.14485172  0.          0.        ]\n",
      " [ 0.          0.          0.          0.          0.          0.\n",
      "  -0.14485172  0.          0.         -0.14485172  0.53125    -0.14485172\n",
      "   0.          0.         -0.14485172  0.        ]\n",
      " [ 0.          0.          0.          0.          0.          0.\n",
      "   0.         -0.14485172  0.          0.         -0.14485172  0.53125\n",
      "   0.          0.          0.         -0.14485172]\n",
      " [ 0.          0.          0.          0.          0.          0.\n",
      "   0.          0.         -0.14485172  0.          0.          0.\n",
      "   0.53125    -0.14485172  0.          0.        ]\n",
      " [ 0.          0.          0.          0.          0.          0.\n",
      "   0.          0.          0.         -0.14485172  0.          0.\n",
      "  -0.14485172  0.53125    -0.14485172  0.        ]\n",
      " [ 0.          0.          0.          0.          0.          0.\n",
      "   0.          0.          0.          0.         -0.14485172  0.\n",
      "   0.         -0.14485172  0.53125    -0.14485172]\n",
      " [ 0.          0.          0.          0.          0.          0.\n",
      "   0.          0.          0.          0.          0.         -0.14485172\n",
      "   0.          0.         -0.14485172  0.53125   ]]\n"
     ]
    }
   ],
   "source": [
    "# Define A and b\n",
    "\n",
    "A_prescale = get_A(nx, ny)\n",
    "\n",
    "# b_prescale = np.array(\n",
    "#     [-0.00885448,\n",
    "#     -0.17725898,\n",
    "#     -0.05441119,\n",
    "#     -0.07760157,\n",
    "#     ])\n",
    "\n",
    "b_prescale = np.array(\n",
    "    [-0.00885448,\n",
    "    -0.07725898,\n",
    "    -0.05441119,\n",
    "    -0.07760157,\n",
    "    -0.00885448,\n",
    "    -0.17725898,\n",
    "    -0.15441119,\n",
    "    -0.17760157,\n",
    "    -0.41428775,\n",
    "    -0.44735303,\n",
    "    -0.71137715,\n",
    "    -0.1878808,\n",
    "    -0.133446,\n",
    "    -0.0885448,\n",
    "    -0.15441,\n",
    "    -0.41428775,\n",
    "    ])\n",
    "\n",
    "b_norm = np.linalg.norm(b_prescale)\n",
    "\n",
    "b = scale_b(b_prescale)\n",
    "\n",
    "print(A_prescale.toarray())\n",
    "\n",
    "print(b)\n",
    "\n",
    "min, max = eigenrange_laplacian(nx, ny)\n",
    "\n",
    "A = scale_A(A_prescale, min, max, precision)\n",
    "print(A.toarray())\n",
    "\n",
    "A = A.toarray()\n",
    "A_prescale = A_prescale.toarray()"
   ]
  },
  {
   "cell_type": "code",
   "execution_count": 283,
   "id": "fc4febf6",
   "metadata": {},
   "outputs": [
    {
     "data": {
      "text/plain": [
       "array([[0.76393202, 1.76393202, 3.        , 4.        ],\n",
       "       [1.76393202, 2.76393202, 4.        , 5.        ],\n",
       "       [3.        , 4.        , 5.23606798, 6.23606798],\n",
       "       [4.        , 5.        , 6.23606798, 7.23606798]])"
      ]
     },
     "execution_count": 283,
     "metadata": {},
     "output_type": "execute_result"
    }
   ],
   "source": [
    "eigenvalues_laplacian(nx, ny)"
   ]
  },
  {
   "cell_type": "code",
   "execution_count": 247,
   "id": "be9d807b-7536-4968-8a18-397f69763964",
   "metadata": {
    "colab": {
     "base_uri": "https://localhost:8080/"
    },
    "id": "be9d807b-7536-4968-8a18-397f69763964",
    "outputId": "ebd3420c-1c0b-48aa-9fa8-03e2565068eb"
   },
   "outputs": [
    {
     "name": "stdout",
     "output_type": "stream",
     "text": [
      "Eigenvalues are not in (0,1)\n",
      "\n",
      "Eigenvalues:\n",
      "0.00111111111111111111111111111111 =~ 0.24999999999999967\n",
      "0.101 =~ 0.625\n",
      "0.101 =~ 0.6250000000000003\n",
      "0.1 =~ 1.0000000000000002\n"
     ]
    }
   ],
   "source": [
    "# Verify if the matrix is symmetric and has eigenvalues in (0,1)\n",
    "if not np.allclose(A, A.T, rtol=1e-6, atol=1e-6):\n",
    "    print(\"The matrix is not symmetric\")\n",
    "w, v = np.linalg.eig(A)\n",
    "for lam in w:\n",
    "    if lam < 0 or lam > 1:\n",
    "        print(\"Eigenvalues are not in (0,1)\")\n",
    "        break\n",
    "\n",
    "# Binary representation of eigenvalues (classically calculated)\n",
    "m = 32  # Precision of a binary representation, e.g. 32 binary digits\n",
    "sign = lambda num: \"-\" if num < 0 else \"\"  # Calculate sign of a number\n",
    "binary = lambda fraction: str(\n",
    "    np.binary_repr(int(np.abs(fraction) * 2 ** (m))).zfill(m)\n",
    ").rstrip(\n",
    "    \"0\"\n",
    ")  # Binary representation of a fraction\n",
    "\n",
    "print()\n",
    "print(\"Eigenvalues:\")\n",
    "for eig in sorted(w):\n",
    "    print(f\"{sign(eig)}0.{binary(eig.real)} =~ {eig.real}\")"
   ]
  },
  {
   "cell_type": "code",
   "execution_count": 248,
   "id": "92d9ea27",
   "metadata": {},
   "outputs": [
    {
     "data": {
      "text/plain": [
       "1.9999999999999998"
      ]
     },
     "execution_count": 248,
     "metadata": {},
     "output_type": "execute_result"
    }
   ],
   "source": [
    "min"
   ]
  },
  {
   "cell_type": "code",
   "execution_count": 249,
   "id": "d2761e4a",
   "metadata": {},
   "outputs": [
    {
     "data": {
      "text/plain": [
       "6.0"
      ]
     },
     "execution_count": 249,
     "metadata": {},
     "output_type": "execute_result"
    }
   ],
   "source": [
    "max"
   ]
  },
  {
   "cell_type": "code",
   "execution_count": 250,
   "id": "aceebb5f",
   "metadata": {},
   "outputs": [
    {
     "data": {
      "text/plain": [
       "3.333333333333333"
      ]
     },
     "execution_count": 250,
     "metadata": {},
     "output_type": "execute_result"
    }
   ],
   "source": [
    "# Testing\n",
    "# input scaled eigenvalues\n",
    "# output prescale eignvalues\n",
    "\n",
    "val = (\n",
    "                (0.5 - 1/2**precision)\n",
    "                * (max - min)\n",
    "                * (2**precision / (2**precision - 1))\n",
    "                + min\n",
    ")\n",
    "val"
   ]
  },
  {
   "cell_type": "code",
   "execution_count": 251,
   "id": "bad41792",
   "metadata": {},
   "outputs": [
    {
     "data": {
      "text/plain": [
       "0.7083333333333333"
      ]
     },
     "execution_count": 251,
     "metadata": {},
     "output_type": "execute_result"
    }
   ],
   "source": [
    "# Should return 2.0\n",
    "val4 = (\n",
    "                (0.0078125 - 1/2**precision)\n",
    "                * (max - min)\n",
    "                * (2**precision / (2**precision - 1))\n",
    "                + min\n",
    ")\n",
    "val4"
   ]
  },
  {
   "cell_type": "code",
   "execution_count": 252,
   "id": "683bf28b",
   "metadata": {},
   "outputs": [
    {
     "data": {
      "text/plain": [
       "0.25"
      ]
     },
     "execution_count": 252,
     "metadata": {},
     "output_type": "execute_result"
    }
   ],
   "source": [
    "1 / 2**precision"
   ]
  },
  {
   "cell_type": "code",
   "execution_count": 253,
   "id": "9a9b2313",
   "metadata": {},
   "outputs": [
    {
     "data": {
      "text/plain": [
       "0.3750000000000001"
      ]
     },
     "execution_count": 253,
     "metadata": {},
     "output_type": "execute_result"
    }
   ],
   "source": [
    "# Testing\n",
    "\n",
    "val3= (1 / 2**precision) / (\n",
    "                (0 - 1/2**precision)\n",
    "                * (max - min)\n",
    "                * (2**precision / (2**precision - 1))\n",
    "                + min\n",
    ")\n",
    "val3"
   ]
  },
  {
   "cell_type": "code",
   "execution_count": 254,
   "id": "5928f286",
   "metadata": {},
   "outputs": [
    {
     "data": {
      "text/plain": [
       "2.823529411764706"
      ]
     },
     "execution_count": 254,
     "metadata": {},
     "output_type": "execute_result"
    }
   ],
   "source": [
    "# C/lambda\n",
    "# input is scaled eigenvalue (est)\n",
    "# ouput should be close but smaller or equal to 1. \n",
    "# min is the C constant.\n",
    "\n",
    "val3= min / (\n",
    "                (0.0078125 - 1/2**precision)\n",
    "                * (max - min)\n",
    "                * (2**precision / (2**precision - 1))\n",
    "                + min\n",
    ")\n",
    "val3"
   ]
  },
  {
   "cell_type": "markdown",
   "id": "xn9Sk0zWIG8P",
   "metadata": {
    "id": "xn9Sk0zWIG8P"
   },
   "source": [
    "## Define Hamiltonian"
   ]
  },
  {
   "cell_type": "markdown",
   "id": "1bd14c32-152e-486c-afdf-cdb5e4658c75",
   "metadata": {
    "id": "1bd14c32-152e-486c-afdf-cdb5e4658c75"
   },
   "source": [
    "The unitary operator is essential for Quantum Phase Estimation (QPE) function code block and can be constructed directly from the Hamiltonian, representing given problem, defined by matrix $A$. Having the matrix or the Hamiltonian defined, the unitary operator can be created with the [`qpe_flexible`](https://github.com/Classiq/classiq-library/blob/main/functions/qmod_library_reference/classiq_open_library/qpe/qpe.ipynb) function by passing in the `unitary_with_power` argument a callable function that applies a unitary operation raised to a given power.\n",
    "\n",
    "\n",
    "The built-in function `matrix_to_hamiltonian` encodes the matrix $A$ into a sum of Pauli strings, which then allows to encode the unitary matrix $U=e^{iA}$ with a product formula (Suzuki-Trotter). The number of qubits is stored in the variable `n`. This is a classical pre-processing that can be done with different methods of decomposition, for example you can compare with method described in [[2](#PauliDecomposition)]."
   ]
  },
  {
   "cell_type": "code",
   "execution_count": null,
   "id": "gyUPCdYxwRu-",
   "metadata": {
    "colab": {
     "base_uri": "https://localhost:8080/"
    },
    "id": "gyUPCdYxwRu-",
    "outputId": "44ddf200-f108-4da0-e12a-b9f3ac46a62a"
   },
   "outputs": [
    {
     "name": "stdout",
     "output_type": "stream",
     "text": [
      "Pauli strings list: \n",
      "\n",
      "[<Pauli.I: 0>, <Pauli.I: 0>] :  0.531\n",
      "[<Pauli.I: 0>, <Pauli.X: 1>] :  -0.234\n",
      "[<Pauli.X: 1>, <Pauli.I: 0>] :  -0.234\n",
      "\n",
      "Number of qubits for matrix representation = 2\n"
     ]
    }
   ],
   "source": [
    "\n",
    "hamiltonian = matrix_to_hamiltonian(A)\n",
    "n = len(hamiltonian[0].pauli)\n",
    "print(\"Pauli strings list: \\n\")\n",
    "for pterm in hamiltonian:\n",
    "    print(pterm.pauli, \": \", np.round(pterm.coefficient, 3))\n",
    "\n",
    "print(\"\\nNumber of qubits for matrix representation =\", n)"
   ]
  },
  {
   "cell_type": "markdown",
   "id": "w6OqgvnoCFW8",
   "metadata": {
    "id": "w6OqgvnoCFW8"
   },
   "source": [
    "## How to Build the Algorithm with Classiq"
   ]
  },
  {
   "cell_type": "markdown",
   "id": "_LZAMICoINZW",
   "metadata": {
    "id": "_LZAMICoINZW"
   },
   "source": [
    "### The Quantum Part"
   ]
  },
  {
   "cell_type": "markdown",
   "id": "EISOx1HoIlpF",
   "metadata": {
    "id": "EISOx1HoIlpF"
   },
   "source": [
    "#### Prepare Initial State for the Vector $\\vec{b}$\n",
    "\n",
    "The first step of the HHL algorithm is to load the elements of normalized RHS vector $\\vec{b}$, into a quantum register:\n",
    "$$\n",
    "|0\\rangle_n \\xrightarrow[{\\rm SP}]{} \\sum^{2^n-1}_{i=0}b_i|i\\rangle_n,\n",
    "$$\n",
    "where $|i\\rangle$ are the states in computational basis.\n",
    "\n",
    "Below, we define the quantum function `load_b` using the built-in function [`prepare_amplitudes`](https://github.com/Classiq/classiq-library/blob/main/functions/qmod_library_reference/qmod_core_library/prepare_state_and_amplitudes/prepare_state_and_amplitudes.ipynb). This function loads $2^n$ elements of the vector $\\vec{b}$ into the `amplitudes` parameter. When we use the `load_b` function, the amplitudes of the state in the output register `state` will correspond to the values of the vector $\\vec{b}$.\n"
   ]
  },
  {
   "cell_type": "code",
   "execution_count": 23,
   "id": "cbpnJEkP_MOz",
   "metadata": {
    "id": "cbpnJEkP_MOz"
   },
   "outputs": [],
   "source": [
    "# Encode b as amplitudes\n",
    "@qfunc\n",
    "def load_b(amplitudes: CArray[CReal], state: Output[QArray]) -> None:\n",
    "    prepare_amplitudes(amplitudes, 0.0, state)"
   ]
  },
  {
   "cell_type": "markdown",
   "id": "4dU1HTL-Nr7j",
   "metadata": {
    "id": "4dU1HTL-Nr7j"
   },
   "source": [
    "#### Define HHL Quantum Function"
   ]
  },
  {
   "cell_type": "markdown",
   "id": "5mqn0qrlzcQ-",
   "metadata": {
    "id": "5mqn0qrlzcQ-"
   },
   "source": [
    "The `hhl` function performs matrix eigenvalue inversion using flexible quantum phase estimation [`qpe_flexible`](https://github.com/Classiq/classiq-library/blob/main/functions/qmod_library_reference/classiq_open_library/qpe/qpe.ipynb), with the use of the [`within_apply`](https://docs.classiq.io/latest/qmod-reference/language-reference/statements/within-apply/) construct and the `assign_amplitude` function (see [amplitude encoding assignment](https://docs.classiq.io/latest/qmod-reference/language-reference/statements/amplitude-encoding-assignment/) built-in).\n",
    "\n",
    "The `hhl` function returns normalized solution, by creating a state:\n",
    "$$\n",
    "\\sum^{2^n-1}_{j=0}{\\beta_j |\\tilde{\\lambda_j}\\rangle_m |u_j\\rangle_n \\left(\\sqrt{1-\\frac{C^2}{\\tilde{\\lambda}^2_j}}|0\\rangle_a + \\frac{C}{\\tilde{\\lambda}_j}|1\\rangle_a \\right)} = \\tilde{C} |{\\rm garbage}\\rangle|0\\rangle + C |A^{-1}b\\rangle|1\\rangle,\n",
    "$$\n",
    "\n",
    "where $\\tilde{C}$ and $|{\\rm garbage}\\rangle$ are irrelevant quantities, as the solution is entangled with the `indicator` output qubit at state $|1\\rangle$. The state entangled with $|1\\rangle$ stores the solution to the specific problem (up to the normalization coefficient):\n",
    "$$\n",
    "\\sum^{2^n-1}_{j=0} \\frac{C}{\\lambda_j}\\beta_j  \\vec{\\psi_j} = C|A^{-1}b\\rangle = C|x\\rangle.\n",
    "$$\n",
    "\n",
    "The normalization coefficient $C = \\frac{1}{\\Vert A^{-1}\\vec{b}\\Vert}$ has to be chosen with $O(1/\\kappa)$, which ensures the amplitudes are normalized. However, here we can use the smallest eigenvalue approximation that the QPE can resolve $C = 1/2^{\\rm precision}$, because it lower bounds the minimum eigenvalue.\n",
    "\n",
    "**Arguments:**\n",
    "- `unitary_with_power`: A callable function that applies a unitary operation raised to a power `k`.\n",
    "- `precision`: An integer representing the precision of the phase estimation process (number of `phase` qubits).\n",
    "- `state`: An array representing the initial quantum state $|b\\rangle$ on which the matrix inversion is to be performed.\n",
    "- `indicator`: An auxiliary qubit that stores result of the inversion and indicates if the phase qubits returns normalized solution."
   ]
  },
  {
   "cell_type": "code",
   "execution_count": 24,
   "id": "eejE_t4cN2dZ",
   "metadata": {
    "id": "eejE_t4cN2dZ"
   },
   "outputs": [],
   "source": [
    "# Function for the main quantum program\n",
    "@qfunc\n",
    "def hhl(\n",
    "    rhs_vector: CArray[CReal],\n",
    "    precision: CInt,\n",
    "    hamiltonian_evolution_with_power: QCallable[CInt, QArray],\n",
    "    state: Output[QArray],\n",
    "    phase: Output[QNum],\n",
    "    indicator: Output[QBit],\n",
    "):\n",
    "    # Allocate \"precision\" number of qubits. All of which are fractions: 0.123456. For comparison consider 12.3456\n",
    "    # The quantum register that holds this info is called \"phase\".\n",
    "    allocate(num_qubits=precision, is_signed=UNSIGNED, fraction_digits=precision, out=phase) \n",
    "\n",
    "    # Prepare \"b\", assigned to a quantum register called \"state\". \n",
    "    load_b(amplitudes=rhs_vector, state=state)\n",
    "\n",
    "    # Allocate a single qubit to the quantum register called \"indicator\". \n",
    "    # We will perform controlled rotations onto this \"indicator\". \n",
    "    allocate(indicator)\n",
    "\n",
    "    # Perform quantum phase estimation and eigenvalue inversion\n",
    "    within_apply(\n",
    "        # Within block: on the outside, i.e., QPE and QPE^-1\n",
    "        lambda: qpe_flexible(\n",
    "            # A function that performs U operation k (or 2^k) times on the quantum register, \"state\", which encodes b. \n",
    "            unitary_with_power =\n",
    "                # hamiltonian_evolution_with_power(k, qreg) is the function that generates U from A, \n",
    "                # and can repeat itself k (or 2^k) times. \n",
    "                lambda k: hamiltonian_evolution_with_power(k, state),\n",
    "            # The outputs (eigenvalues info) are stored in the \"phase\" quantum register\n",
    "            phase=phase,\n",
    "        ),\n",
    "        # Apply block: on the inside\n",
    "        # Generates C/lambda |1>, where C = 1 / 2**phase.size. Note that C must be a lower bound for the smallest eigenvalue.\n",
    "        # However, this also explains why synthesis takes so long. \n",
    "        # We are supposed to perform the controlled rotations with eigenvalues as controls, and the indicator is the target.\n",
    "        # But here, it computes classical arithmetics to obtain C/lambda given variable lambda, then assigns C/lambda to the indicator qubit. \n",
    "        lambda: assign_amplitude(\n",
    "            # This is C/lambda, \n",
    "            # where \"phase\" (lambda), in the form of |10010>,\n",
    "            # is interpreted as a binary decimal, 0.10010\n",
    "            # C is a lowerbound of the lambda's, since we have scaled A.\n",
    "            (1 / 2**phase.size) / phase,\n",
    "            # C/lambda is amplitude assigned to the indicator qubit\n",
    "            indicator\n",
    "        ),\n",
    "    )\n"
   ]
  },
  {
   "cell_type": "markdown",
   "id": "a9012395-5cbf-43b2-8c1a-46f09deff431",
   "metadata": {
    "id": "a9012395-5cbf-43b2-8c1a-46f09deff431"
   },
   "source": [
    "#### Set Execution Preferences\n",
    "\n",
    "We prepare for the quantum program execution stage by providing execution details and constructing a representation of HHL model from a function defined in Quantum Modelling Language [Qmod](https://docs.classiq.io/latest/qmod-reference/). The resulting circuit is executed on a statevector simulator. For other available Classiq simulated backends see [Execution on Classiq simulators](https://docs.classiq.io/latest/user-guide/execution/cloud-providers/classiq-backends/).\n",
    "\n",
    "To define this part of the model, we set the backend preferences by placing `ClassiqBackendPreferences` with the backend name `SIMULATOR_STATEVECTOR` into the `ExecutionPreferences`."
   ]
  },
  {
   "cell_type": "code",
   "execution_count": 25,
   "id": "7cb726cf-05b7-4cde-b906-f2a65002ec55",
   "metadata": {
    "id": "7cb726cf-05b7-4cde-b906-f2a65002ec55"
   },
   "outputs": [],
   "source": [
    "backend_preferences = ClassiqBackendPreferences(\n",
    "    backend_name=ClassiqSimulatorBackendNames.SIMULATOR_STATEVECTOR\n",
    ")\n",
    "\n",
    "synthesis_preferences = Preferences(\n",
    "        optimization_level= 2, timeout_seconds=1000, optimization_timeout_seconds=800\n",
    "        )\n",
    "\n",
    "# Prepare quantum model for simulation\n",
    "# With optional execution preferences.\n",
    "def hhl_model(main, backend_preferences):\n",
    "    qmod_hhl = create_model(\n",
    "        main,\n",
    "        execution_preferences=ExecutionPreferences(\n",
    "            num_shots=1, backend_preferences=backend_preferences\n",
    "        ),\n",
    "        preferences=synthesis_preferences\n",
    "    )\n",
    "    return qmod_hhl"
   ]
  },
  {
   "cell_type": "markdown",
   "id": "6CqLnPaXJciT",
   "metadata": {
    "id": "6CqLnPaXJciT"
   },
   "source": [
    "### The Classical Postprocess"
   ]
  },
  {
   "cell_type": "markdown",
   "id": "6ec5d598-de3d-44b1-866c-39490350f79f",
   "metadata": {
    "id": "6ec5d598-de3d-44b1-866c-39490350f79f"
   },
   "source": [
    "After running the circuit a given number of times and collecting measurement results from the ancillary and phase qubits we need to postprocess the data in order to find solution. Measurement values from circuit execution are denoted here by `res_hhl`."
   ]
  },
  {
   "cell_type": "markdown",
   "id": "iXncSzDskL0n",
   "metadata": {
    "id": "iXncSzDskL0n"
   },
   "source": [
    "#### Postselect Results\n",
    "\n",
    "If all eigenvalues are $m$-estimated (are represented by $m$ binary digits), then eigenvalues uncomputation by inverse-QPE create the state:\n",
    "\n",
    "$$\n",
    "\\sum^{2^n-1}_{j=0}{\\beta_j |0\\rangle_m |u_j\\rangle_n \\left(\\sqrt{1-\\frac{C^2}{\\tilde{\\lambda}^2_j}}|0\\rangle_a + \\frac{C}{\\tilde{\\lambda}_j}|1\\rangle_a \\right)}\n",
    "$$\n",
    "\n",
    "If at least one eigenvalue is not $m$-estimated, then after performing QPE$^\\dagger$, the `phase` register is not reseted in $|0\\rangle_m$.\n",
    "\n",
    "In general case, we postselect only states that return 1 on ancillary qubit in `indicator` register. In this tutorial, we will add another postselection condition on `phase` register, to return $|0\\rangle_m$, in order to increase accuracy of the solution result.\n",
    "\n",
    "**Note:** Postselection can improve HHL algorithm results at the cost of more executions. In the future, when two-way quantum computing is utilized, postselection might be replaced by adjoint-state preparation, as envisioned by Jarek Duda [[4](#Duda)]."
   ]
  },
  {
   "cell_type": "markdown",
   "id": "f520a242-c0d8-49b9-94d1-750da0555fb2",
   "metadata": {
    "id": "f520a242-c0d8-49b9-94d1-750da0555fb2"
   },
   "source": [
    "The `quantum_solution` function defines a run over all the relevant strings holding the solution. The solution vector will be inserted into the variable `qsol`, after normalizing with $C=1/2^m$."
   ]
  },
  {
   "cell_type": "code",
   "execution_count": 26,
   "id": "b8b5ed43-3618-44a0-b0a5-f632c0caef15",
   "metadata": {
    "id": "b8b5ed43-3618-44a0-b0a5-f632c0caef15"
   },
   "outputs": [],
   "source": [
    "# Extracting results using pandas dataframe\n",
    "def quantum_solution(res_hhl, size, precision):\n",
    "\n",
    "    df = res_hhl.dataframe\n",
    "    qsol = np.zeros(2**size, dtype=complex)\n",
    "\n",
    "    # Filter only the successful states.\n",
    "    filtered_st = df[\n",
    "        (df.indicator == 1) & (df.phase_var == 0) & (np.abs(df.amplitude) > 1e-12)\n",
    "    ]\n",
    "\n",
    "    # Allocate values\n",
    "    qsol[filtered_st.res] = filtered_st.amplitude / (1 / 2**precision)\n",
    "\n",
    "    return np.round(qsol, 5)\n",
    "\n",
    "# # Deprecated\n",
    "# def quantum_solution_old(circuit_hhl, res_hhl, precision: int, C=None):\n",
    "#     \"\"\"\n",
    "#     Parameters\n",
    "#     ----------\n",
    "#     circuit_hhl: Classiq qprog\n",
    "    \n",
    "#     res_hhl: Classiq ExecutionDetails\n",
    "    \n",
    "#     precision: int\n",
    "#         precision of eigenvalue (phase) estimation for QPE, in # of phase qubits. \n",
    "    \n",
    "#     C: float\n",
    "#         A lowerbound of the eigenvalues, lambda, in C/lambda.\n",
    "    \n",
    "#     Returns\n",
    "#     -------\n",
    "#     qsol: List\n",
    "#         List of amplitudes\n",
    "    \n",
    "#     \"\"\"\n",
    "#     *_, phase_pos = read_positions(circuit_hhl, res_hhl)\n",
    "    \n",
    "#     # The number of qubits for b, or \"res\". \n",
    "#     n = len(res_hhl.physical_qubits_map[\"res\"])\n",
    "    \n",
    "#     if C == None:\n",
    "#         C = 1/(2**precision)\n",
    "    \n",
    "#     qsol = [ # Returns the solution in pre-measurement amplitudes\n",
    "#         np.round(parsed_state.amplitude / C) # \n",
    "#         for solution in range(2**n)\n",
    "#         for parsed_state in res_hhl.parsed_state_vector\n",
    "#         # Scan over all unique measurement outputs, |rrrIpppp>, that satisfies the following\n",
    "#         if parsed_state[\"indicator\"] == 1.0 # Indicator is |1>\n",
    "#         and parsed_state[\"res\"] == solution # combine outputs with the same \"res\" pattern |rrr>\n",
    "#         and [parsed_state.bitstring[k] for k in phase_pos] == [\"0\"] * precision # all phase qubits are 0.\n",
    "#         # Phase qubits are not 0 after QPE inverse, means QPE did not pick up the best eigen approximation\n",
    "#         # QPE does not return the best approximation 100% of the time\n",
    "#     ]\n",
    "#     return qsol"
   ]
  },
  {
   "cell_type": "markdown",
   "id": "007beff5-5fd8-48cf-a4bc-625afa655456",
   "metadata": {
    "id": "007beff5-5fd8-48cf-a4bc-625afa655456"
   },
   "source": [
    "#### Compare Classical and Quantum Solutions\n",
    "\n",
    "Note that the HHL algorithm returns a statevector result that includes an arbitrary global phase. The global phase can arise due to the transpilation process or from the intrinsic properties of the quantum functions themselves. Therefore, to compare with the classical solution, we need to correct the quantum results by the global phase (normalize). However, even after this normalization, there may still be a minus sign difference between the quantum and classical solutions, due to the inherent ambiguity of a global phase factor of $e^{i\\pi}=-1$. The sign difference does not affect the physical validity of the comparison, as both states $|x\\rangle$ and $-|x\\rangle$ are considered equivalent in terms of their measurement probabilities."
   ]
  },
  {
   "cell_type": "code",
   "execution_count": 27,
   "id": "042ef3f0-5c07-4354-99e5-7809bd1ce51f",
   "metadata": {
    "id": "042ef3f0-5c07-4354-99e5-7809bd1ce51f"
   },
   "outputs": [],
   "source": [
    "def quantum_solution_preprocessed(A, b, res_hhl, precision, disp=True):\n",
    "    # Classical solution\n",
    "    sol_classical = np.linalg.solve(A, b)\n",
    "    if disp:\n",
    "        print(\"Classical Solution:         \", sol_classical)\n",
    "\n",
    "    # Quantum solution with postselection\n",
    "    size = len(b).bit_length() - 1\n",
    "    qsol = quantum_solution(res_hhl, size, precision)\n",
    "    if disp:\n",
    "        print(\"Quantum Solution:           \", np.abs(qsol) / np.linalg.norm(qsol))\n",
    "\n",
    "    # Global phase from one element, e.g. qsol[0]\n",
    "    global_phase = np.angle(qsol[0])\n",
    "\n",
    "    # Preprocessed quantum solution\n",
    "    qsol_corrected = np.real(qsol / np.exp(1j * global_phase))\n",
    "\n",
    "    # Correct ambiguity in the sign\n",
    "    qsol_corrected = (\n",
    "        np.sign(qsol_corrected[0]) * np.sign(sol_classical[0]) * qsol_corrected\n",
    "    )\n",
    "\n",
    "    return sol_classical, qsol_corrected\n",
    "\n",
    "\n",
    "def show_solutions(A, b, res_hhl, precision, check=True, disp=True):\n",
    "    # Classical solution and preprocessed quantum solution\n",
    "    sol_classical, qsol_corrected = quantum_solution_preprocessed(\n",
    "        A, b, res_hhl, precision, disp=disp\n",
    "    )\n",
    "\n",
    "    # Verify is there is no functional error, which might come from changing endianness in Model or Execution\n",
    "    if (\n",
    "        np.linalg.norm(sol_classical - qsol_corrected) / np.linalg.norm(sol_classical)\n",
    "        > 0.1\n",
    "        and check\n",
    "    ):\n",
    "        raise Exception(\n",
    "            \"The HHL solution is too far from the classical one, please verify your algorithm\"\n",
    "        )\n",
    "\n",
    "    if disp:\n",
    "        print(\"Corrected Quantum Solution: \", qsol_corrected)\n",
    "\n",
    "    # Fidelity\n",
    "    state_classical = sol_classical / np.linalg.norm(sol_classical)\n",
    "    state_corrected = qsol_corrected / np.linalg.norm(qsol_corrected)\n",
    "    fidelity = np.abs(np.dot(state_classical, state_corrected)) ** 2\n",
    "    print()\n",
    "    print(\"Fidelity:                   \", f\"{np.round(fidelity * 100,2)} %\")\n",
    "\n",
    "    if disp:\n",
    "        plt.plot(sol_classical, \"bo\", label=\"Classical\")\n",
    "        plt.plot(qsol_corrected, \"ro\", label=\"HHL\")\n",
    "        plt.legend()\n",
    "        plt.xlabel(\"$i$\")\n",
    "        plt.ylabel(\"$x_i$\")\n",
    "        plt.show()"
   ]
  },
  {
   "cell_type": "markdown",
   "id": "IQhM36aCEH6_",
   "metadata": {
    "id": "IQhM36aCEH6_"
   },
   "source": [
    "In the upcoming sections, we will present two different examples of implementing Hamiltonian dynamics by defining the unitary operator using two methods: exact and approximated."
   ]
  },
  {
   "cell_type": "markdown",
   "id": "57fd9798-8faf-4f58-8d5d-5453482b9d8c",
   "metadata": {
    "id": "57fd9798-8faf-4f58-8d5d-5453482b9d8c"
   },
   "source": [
    "### Example: Exact Hamiltonian Evolution\n",
    "\n",
    "While the implementation of exact Hamiltonian simulation provided here is not scalable for large systems due to the exponential growth in computational resources required, it serves as a valuable tool for debugging and studying small quantum systems."
   ]
  },
  {
   "cell_type": "code",
   "execution_count": 28,
   "id": "AE8_ndqidJCb",
   "metadata": {
    "id": "AE8_ndqidJCb"
   },
   "outputs": [],
   "source": [
    "# Parameters for the initial state preparation\n",
    "amplitudes = b.tolist()\n",
    "precision = precision\n",
    "\n",
    "@qfunc\n",
    "def unitary_with_power_logic(\n",
    "    pw: CInt, matrix: CArray[CArray[CReal]], target: QArray[QBit]\n",
    ") -> None:\n",
    "    power(pw, lambda: unitary(elements=matrix, target=target))\n",
    "\n",
    "\n",
    "@qfunc\n",
    "def main(\n",
    "    res: Output[QNum],\n",
    "    phase_var: Output[QNum],\n",
    "    indicator: Output[QBit],\n",
    ") -> None:\n",
    "    hhl(\n",
    "        rhs_vector=amplitudes,\n",
    "        precision=precision,\n",
    "        hamiltonian_evolution_with_power=lambda pw, target: power(\n",
    "            pw,\n",
    "            lambda: unitary(\n",
    "                elements=scipy.linalg.expm(2 * np.pi * 1j * A).tolist(), target=target\n",
    "            ),\n",
    "        ),\n",
    "        state=res,\n",
    "        phase=phase_var,\n",
    "        indicator=indicator,\n",
    "    )"
   ]
  },
  {
   "cell_type": "code",
   "execution_count": 29,
   "id": "ImzQQdUB5Iig",
   "metadata": {
    "id": "ImzQQdUB5Iig"
   },
   "outputs": [],
   "source": [
    "# Construct HHL model\n",
    "qmod_hhl_exact = hhl_model(main, backend_preferences)"
   ]
  },
  {
   "cell_type": "code",
   "execution_count": 30,
   "id": "cc3ba894-8a73-4891-ad55-6f22fa3fdfb5",
   "metadata": {
    "id": "cc3ba894-8a73-4891-ad55-6f22fa3fdfb5"
   },
   "outputs": [],
   "source": [
    "# Save qmod file\n",
    "write_qmod(qmod_hhl_exact, \"hhl_exact\", decimal_precision=20)"
   ]
  },
  {
   "cell_type": "markdown",
   "id": "4e0caed5-950c-43f8-90cf-d841731b4ea5",
   "metadata": {
    "id": "4e0caed5-950c-43f8-90cf-d841731b4ea5"
   },
   "source": [
    "#### Synthesizing the Model (exact)"
   ]
  },
  {
   "cell_type": "code",
   "execution_count": 31,
   "id": "f0ffc6b8-cdb8-468b-932f-89942c639b5d",
   "metadata": {
    "colab": {
     "base_uri": "https://localhost:8080/"
    },
    "id": "f0ffc6b8-cdb8-468b-932f-89942c639b5d",
    "outputId": "a50d5cb4-3c53-4bf4-eac8-007605b735ce"
   },
   "outputs": [
    {
     "name": "stdout",
     "output_type": "stream",
     "text": [
      "Circuit depth =  3275\n",
      "Circuit CX count =  2116\n"
     ]
    }
   ],
   "source": [
    "# Preference setting to speed up qrog synthesis.\n",
    "\n",
    "qprog_hhl_exact = synthesize(qmod_hhl_exact)\n",
    "# show(qprog_hhl_exact)\n",
    "\n",
    "print(\"Circuit depth = \", qprog_hhl_exact.transpiled_circuit.depth)\n",
    "print(\"Circuit CX count = \", qprog_hhl_exact.transpiled_circuit.count_ops[\"cx\"])"
   ]
  },
  {
   "attachments": {
    "38ce9d4a-b299-40e1-92fb-cb15babc46fc.png": {
     "image/png": "[encoded data removed]"
    }
   },
   "cell_type": "markdown",
   "id": "a34e1ae9-168c-4d1c-a3f1-2d1f56bc78c6",
   "metadata": {
    "id": "a34e1ae9-168c-4d1c-a3f1-2d1f56bc78c6"
   },
   "source": [
    "![Screenshot 2025-06-20 at 22.34.35.png](attachment:38ce9d4a-b299-40e1-92fb-cb15babc46fc.png)\n",
    "<center>\n",
    "<figcaption align = \"middle\">Synthesized HHL circuit</figcaption>\n",
    "</center>"
   ]
  },
  {
   "cell_type": "markdown",
   "id": "73bbb2d9-ea89-4b00-b4b9-40689c11a565",
   "metadata": {
    "id": "73bbb2d9-ea89-4b00-b4b9-40689c11a565"
   },
   "source": [
    "#### Statevector Simulation (exact)\n",
    "\n",
    "Execute the quantum program. Recall that you chose a statevector simulator because you want the exact solution."
   ]
  },
  {
   "cell_type": "code",
   "execution_count": 32,
   "id": "14bc85cb-1000-4e2d-b96f-a0c324c60b27",
   "metadata": {
    "id": "14bc85cb-1000-4e2d-b96f-a0c324c60b27"
   },
   "outputs": [],
   "source": [
    "from classiq.execution import ExecutionDetails\n",
    "\n",
    "res_hhl_exact = execute(qprog_hhl_exact).result_value()"
   ]
  },
  {
   "cell_type": "markdown",
   "id": "UKNXW8Fmyd5o",
   "metadata": {
    "id": "UKNXW8Fmyd5o"
   },
   "source": [
    "#### Results (exact)"
   ]
  },
  {
   "cell_type": "code",
   "execution_count": 33,
   "id": "dbIxJ9YdwImO",
   "metadata": {
    "colab": {
     "base_uri": "https://localhost:8080/",
     "height": 537
    },
    "id": "dbIxJ9YdwImO",
    "outputId": "0ef684d6-21e6-4708-b0b7-ad4f36876768"
   },
   "outputs": [
    {
     "name": "stdout",
     "output_type": "stream",
     "text": [
      "Classical Solution:          [-0.40001043 -0.9065818  -0.36092485  0.86946506 -0.72199424 -0.82532217\n",
      " -4.05988704  2.13783195]\n",
      "Quantum Solution:            [0.06643615 0.23091114 0.15178766 0.26822843 0.11101755 0.04492598\n",
      " 0.67564738 0.61354518]\n",
      "Corrected Quantum Solution:  [-0.28727 -0.99846  0.65633  1.15982  0.48004 -0.19426 -2.9215   2.65297]\n",
      "\n",
      "Fidelity:                    81.2 %\n"
     ]
    },
    {
     "data": {
      "image/png": "[encoded data removed]",
      "text/plain": [
       "<Figure size 640x480 with 1 Axes>"
      ]
     },
     "metadata": {},
     "output_type": "display_data"
    }
   ],
   "source": [
    "show_solutions(A, b, res_hhl_exact, precision, check=False)"
   ]
  },
  {
   "cell_type": "markdown",
   "id": "52656df8",
   "metadata": {},
   "source": [
    "## Example Streamfunction-Vorticity Lid Driven Cavity"
   ]
  },
  {
   "cell_type": "markdown",
   "id": "990d8daa",
   "metadata": {},
   "source": [
    "#### Define HHL function\n",
    "\n",
    "For more detailed explanation, refer to the tutorial section above. \n",
    "\n",
    "For streamfunction-vorticity, we modify the CR block. \n",
    "\n",
    "We simulate controlled rotation of the indicator qubit using eigenvalues of the pre-scaled matrix, `A_prescale`, obtained from approximated eigenvalue of the scaled matrix `A`, or, to be more precise, from the phase estimation of the scaled hamiltonian, $U = e^{2\\pi i A}$. \n",
    "\n",
    "The eigenvalues of $U = e^{2\\pi i A}$ are $e^{2\\pi i \\lambda_{i}}$, where $ 0 < \\lambda_{i} \\leq 1$ are eigenvalues of $A$."
   ]
  },
  {
   "cell_type": "markdown",
   "id": "a695ab64",
   "metadata": {},
   "source": [
    "`@qfunc hhl()` designs the whole HHL circuit, composed of both A-Block and b-Block. \n",
    "\n",
    "`@qfunc main()` calls `@qfunc hhl()`, using a chosen method of hamiltonian simulation. \n",
    "\n",
    "`hhl_model()` runs `@qfunc create_model(main, [list of Preferences])` and creates a qmod. \n"
   ]
  },
  {
   "cell_type": "code",
   "execution_count": 284,
   "id": "3b808a70",
   "metadata": {},
   "outputs": [],
   "source": [
    "# Encode b as amplitudes\n",
    "@qfunc\n",
    "def load_b(amplitudes: CArray[CReal], state: Output[QArray]) -> None:\n",
    "    prepare_amplitudes(amplitudes, 0.0, state)\n",
    "\n",
    "# Parameters for the initial state preparation\n",
    "amplitudes = b.tolist()\n",
    "\n",
    "# Function for the main quantum program\n",
    "@qfunc\n",
    "def hhl(\n",
    "    rhs_vector: CArray[CReal],\n",
    "    precision: CInt,\n",
    "    hamiltonian_evolution_with_power: QCallable[CInt, QArray],\n",
    "    state: Output[QArray],\n",
    "    phase: Output[QNum],\n",
    "    indicator: Output[QBit],\n",
    "):\n",
    "    # Allocate \"precision\" number of qubits. All of which are fractions: 0.123456. For comparison consider 12.3456\n",
    "    # The quantum register that holds this info is called \"phase\".\n",
    "    allocate(num_qubits=precision, is_signed=UNSIGNED, fraction_digits=precision, out=phase) \n",
    "\n",
    "    # Prepare \"b\", assigned to a quantum register called \"state\". \n",
    "    load_b(amplitudes=rhs_vector, state=state)\n",
    "\n",
    "    # Allocate a single qubit to the quantum register called \"indicator\". \n",
    "    # We will perform controlled rotations onto this \"indicator\". \n",
    "    allocate(indicator)\n",
    "    \n",
    "    # Perform quantum phase estimation and eigenvalue inversion\n",
    "    within_apply(\n",
    "        # Within block: on the outside, i.e., QPE and QPE^-1\n",
    "        lambda: qpe_flexible(\n",
    "            # A function that performs U operation k (or 2^k) times on the quantum register, \"state\", which encodes b. \n",
    "            unitary_with_power =\n",
    "                # hamiltonian_evolution_with_power(k, qreg) is the function that generates U from A, \n",
    "                # and can repeat itself k (or 2^k) times. \n",
    "                lambda k: hamiltonian_evolution_with_power(k, state),\n",
    "            # The outputs (eigenvalues info) are stored in the \"phase\" quantum register\n",
    "            phase=phase,\n",
    "        ),\n",
    "        # Apply block: CR block (on the inside)\n",
    "        # Generates C/lambda |1>, where C = lambda_min. Note that C must be a lower bound for the smallest eigenvalue.\n",
    "        # However, this also explains why synthesis takes so long. \n",
    "        # We are supposed to perform the controlled rotations with eigenvalues as controls, and the indicator is the target.\n",
    "        # But here, it computes classical arithmetics to obtain C/lambda given variable lambda, \n",
    "        # then assigns C/lambda to the indicator qubit. \n",
    "        lambda: assign_amplitude(\n",
    "            # Here, we assign the correct amplitide based on the original eigenvalues of A, not of A'. \n",
    "            # In other words, A' is rescaled back to A at this step. \n",
    "            min / (\n",
    "                (phase - 1/2**precision)\n",
    "                * (max - min)\n",
    "                * (2**precision / (2**precision - 1))\n",
    "                + min\n",
    "            ),\n",
    "            # C/lambda is amplitude assigned to the indicator qubit\n",
    "            indicator\n",
    "        ),\n",
    "    )\n"
   ]
  },
  {
   "cell_type": "markdown",
   "id": "57628731",
   "metadata": {},
   "source": [
    "#### Classiq Execution and Synthesis preferences"
   ]
  },
  {
   "cell_type": "code",
   "execution_count": 285,
   "id": "7eb21b41",
   "metadata": {},
   "outputs": [],
   "source": [
    "from classiq.execution import (\n",
    "    ClassiqBackendPreferences,\n",
    "    ClassiqSimulatorBackendNames,\n",
    "    ExecutionPreferences,\n",
    ")\n",
    "\n",
    "backend_preferences = ClassiqBackendPreferences(\n",
    "    backend_name=ClassiqSimulatorBackendNames.SIMULATOR_STATEVECTOR\n",
    ")\n",
    "\n",
    "synthesis_preferences = Preferences(\n",
    "        optimization_level= 2, timeout_seconds=1000, optimization_timeout_seconds=800\n",
    "        )\n",
    "\n",
    "# Prepare quantum model for simulation with optional preferences.\n",
    "def hhl_model(main, backend_preferences, synthesis_preferences=None, num_shots=1):\n",
    "    qmod_hhl = create_model(\n",
    "        main,\n",
    "        execution_preferences=ExecutionPreferences(\n",
    "            num_shots=num_shots, backend_preferences=backend_preferences\n",
    "        ),\n",
    "        preferences=synthesis_preferences,\n",
    "    )\n",
    "    return qmod_hhl"
   ]
  },
  {
   "cell_type": "markdown",
   "id": "d0d228c2",
   "metadata": {},
   "source": [
    "#### Exact Hamiltonian for streamfunction vorticity"
   ]
  },
  {
   "cell_type": "code",
   "execution_count": 286,
   "id": "38438e09",
   "metadata": {},
   "outputs": [],
   "source": [
    "# from typing import List\n",
    "# import scipy\n",
    "# from classiq import Output, create_model, power, prepare_amplitudes, synthesize, unitary\n",
    "# from classiq.qmod.symbolic import floor, log\n",
    "\n",
    "@qfunc\n",
    "def unitary_with_power_logic(\n",
    "    pw: CInt, matrix: CArray[CArray[CReal]], target: QArray[QBit]\n",
    ") -> None:\n",
    "    power(pw, lambda: unitary(elements=matrix, target=target))\n",
    "\n",
    "@qfunc\n",
    "def main(\n",
    "    res: Output[QNum],\n",
    "    phase: Output[QNum],\n",
    "    indicator: Output[QBit],\n",
    ") -> None:\n",
    "    # Calling hhl()\n",
    "    hhl(\n",
    "        rhs_vector=amplitudes,\n",
    "        precision=precision,\n",
    "        hamiltonian_evolution_with_power=lambda pw, target: unitary_with_power_logic(\n",
    "            # pw is the power k, target is \"state\" register\n",
    "            matrix=scipy.linalg.expm(2 * np.pi * 1j * A).tolist(), pw=pw, target=target\n",
    "        ),\n",
    "        state=res,\n",
    "        phase=phase,\n",
    "        indicator=indicator,\n",
    "    )"
   ]
  },
  {
   "cell_type": "markdown",
   "id": "c0680d66",
   "metadata": {},
   "source": [
    "#### Post-processing\n",
    "\n",
    "`phase_position()` replaces `read_positions()` in the tutorial, as it has redundant outputs which are misleading. \n",
    "\n",
    "> Important: Although the `phase` register is given qubit indices in the order (q0, q1, q2, q3, q4), the corresponding `phase_pos` are ordered in reverse as (7, 6, 5, 4, 3). \n",
    "\n",
    "This is because `phase_pos` are positions of written bitstrings, ordered from Most Significant Bit (MSB) to Least Significant Bit (LSB) from left to right by natural language conventions. For written bitstrings, the indices are ordered as (0,1,2,3,4,...) where MSB is given the smallest index, 0. However, Classiq follows little-Endian convention for circuit diagrams (like qiskit), where MSB appears at the bottom of circuit diagrams and is given the largest qubit index, following Classiq's syntax. This syntax also applies when coding in Classiq Python library and Qmod programming language. "
   ]
  },
  {
   "cell_type": "code",
   "execution_count": 287,
   "id": "426c7120",
   "metadata": {},
   "outputs": [],
   "source": [
    "def phase_position(circuit_hhl, res_hhl):\n",
    "    \"\"\"\n",
    "    Given a qubit layout ordered as ppppIrrr (physical indices),\n",
    "    return the bitstring positions of the phase qubits in the\n",
    "    measured string ordered rrrIpppp.\n",
    "    \n",
    "    Returns\n",
    "    -------\n",
    "    List[int]\n",
    "        Positions in the bitstring for the phase register (ordered for direct slicing).\n",
    "    \"\"\"\n",
    "    total_q = circuit_hhl.data.width\n",
    "    qubit_pos = res_hhl.physical_qubits_map[\"phase\"]\n",
    "    # Flip order for endianness so bitstring indexing works correctly\n",
    "    phase_pos = [total_q - 1 - k for k in qubit_pos]\n",
    "    return phase_pos\n",
    "\n",
    "# Old read_positions() function is misleading. \n",
    "# Given qubits_map {'res': (6, 7), 'phase': (0, 1, 2, 3, 4), 'indicator': (5,)}\n",
    "# read_positions() gives sol=[6, 7], phase=[7, 6, 5, 4, 3], and target=[5]. "
   ]
  },
  {
   "cell_type": "markdown",
   "id": "69b11ef4",
   "metadata": {},
   "source": [
    "For `quantum_solution_preprocessed_2()` we used:\n",
    "$$\\phi_{\\rm best}\n",
    "=\\arg\\min_\\phi\\;\\bigl\\|\\Im(e^{-i\\phi}qsol)\\bigr\\|_2^2$$\n",
    "\n",
    "to reduce the imaginary part of the quantum output."
   ]
  },
  {
   "cell_type": "code",
   "execution_count": null,
   "id": "5f61a92a",
   "metadata": {},
   "outputs": [],
   "source": [
    "def quantum_solution(\n",
    "    circuit_hhl: QuantumProgram, \n",
    "    res_hhl: ExecutionDetails, \n",
    "    precision: int, \n",
    "    C: float | None = None\n",
    "    ):\n",
    "    \n",
    "    \"\"\"\n",
    "    Extract useful information from Classiq simulation output.\n",
    "    Collect the amplitudes of a selection of basis states.\n",
    "    \n",
    "    Parameters\n",
    "    ----------\n",
    "    circuit_hhl: Classiq QuantumProgram, qprog\n",
    "        Only used for figuring out the position of phase qubits in the ExecutionDetails\n",
    "    \n",
    "    res_hhl: Classiq ExecutionDetails\n",
    "    \n",
    "    precision: int\n",
    "        precision of eigenvalue (phase) estimation for QPE, in # of phase qubits. \n",
    "    \n",
    "    C: float\n",
    "        C is a lowerbound of the eigenvalues of the prescaled A matrix, \n",
    "        or a lowerbound of whichever set of eigenvalues used in C/lambda in the CR block.\n",
    "    \n",
    "    Returns\n",
    "    -------\n",
    "    qsol: List\n",
    "        List of amplitudes\n",
    "    \n",
    "    \"\"\"\n",
    "    # Added safety in case old read_position() function is used. \n",
    "    phase_pos = phase_position(circuit_hhl, res_hhl)\n",
    "    \n",
    "    # The number of qubits for b, or \"res\". \n",
    "    n = len(res_hhl.physical_qubits_map[\"res\"])\n",
    "    \n",
    "    if C == None:\n",
    "        C = 1/(2**precision) # This default value is for the demo written by Classiq developers\n",
    "        # Small enough to be safe, but is inefficient.\n",
    "    \n",
    "    qsol = [ \n",
    "        parsed_state.amplitude / C # Extract amplitudes corresponding to 1/lambda\n",
    "        \n",
    "        for solution in range(2**n)\n",
    "        for parsed_state in res_hhl.parsed_state_vector\n",
    "        # Scan over all unique measurement outputs, |rrrIpppp>, that satisfies the following\n",
    "        \n",
    "        if parsed_state[\"indicator\"] == 1.0 # Indicator is |1>\n",
    "        and parsed_state[\"res\"] == solution # combine outputs with the same \"res\" pattern |rrr>\n",
    "        and [parsed_state.bitstring[k] for k in phase_pos] == [\"0\"] * precision # all phase qubits are 0.\n",
    "        # If phase qubits are not 0 after QPE inverse, this means QPE did not pick the best phase approximation\n",
    "        # Note that QPE does not guarantee the best approximation\n",
    "    ]\n",
    "    return qsol\n",
    "\n",
    "import matplotlib.pyplot as plt\n",
    "\n",
    "# Method 2 Post-processing\n",
    "# To combat noise, minimize imaginary part across all entries, instead of just using the first entry.\n",
    "\n",
    "def quantum_solution_preprocessed_2(\n",
    "    A_prescale:  np.ndarray, \n",
    "    b:           np.ndarray,\n",
    "    circuit_hhl: QuantumProgram, \n",
    "    res_hhl:     ExecutionDetails, \n",
    "    precision:   int, \n",
    "    C:           float | None = None, \n",
    "    disp:        bool = True,\n",
    "    ):\n",
    "    \n",
    "    \"\"\"\n",
    "    Solve A_prescale x = b both classically and via the HHL-based quantum routine, then\n",
    "    preprocess the raw quantum output by choosing the global phase that\n",
    "    minimizes the imaginary norm across all components.\n",
    "    \n",
    "    This uses the fact that for any complex vector q, the φ which minimizes\n",
    "        || Im(e^{-iφ} q) ||₂\n",
    "    is given by\n",
    "        φ_opt = ½ · arg( Σ_j q_j² ).\n",
    "    \n",
    "    After phase‐alignment, we take the real part and fix any overall ± sign\n",
    "    to match the classical solution.\n",
    "    \n",
    "    Parameters\n",
    "    ----------\n",
    "    A : (n, n) ndarray\n",
    "        Real, invertible matrix.\n",
    "    b : (n,) ndarray\n",
    "        Real right‐hand side vector.\n",
    "    circuit_hhl : Classiq QuantumProgram\n",
    "        Encodes the HHL quantum subroutine.\n",
    "    res_hhl : Classsiq ExecutionDetails\n",
    "        Raw output from executing the HHL circuit on Classiq server.\n",
    "    precision : int\n",
    "        Number of qubits in the phase register.\n",
    "    C : float or None, optional, but required for streamfunction vorticity\n",
    "        Constant scaling factor for CR block of HHL, default to 1/(2**precision)\n",
    "    disp : bool, optional\n",
    "        If True, print both classical and (normalized) quantum solutions.\n",
    "    \n",
    "    Returns\n",
    "    -------\n",
    "    sol_classical : (n,) ndarray\n",
    "        Exact solution of A x = b.\n",
    "    qsol_corrected : (n,) ndarray\n",
    "        Real vector obtained from the quantum output after optimal global‐phase\n",
    "        alignment and sign correction, ready for direct comparison to sol_classical.\n",
    "    \"\"\"\n",
    "    # 1) Classical solution\n",
    "    sol_classical = np.linalg.solve(A_prescale, b)\n",
    "    if disp:\n",
    "        print(\"Classical Solution:         \", sol_classical)\n",
    "    \n",
    "    # 2) Raw quantum solution (complex amplitudes)\n",
    "    qsol = quantum_solution(circuit_hhl, res_hhl, precision, C)\n",
    "    if disp:\n",
    "        normed = np.abs(qsol) / np.linalg.norm(qsol)\n",
    "        print(\"Quantum Solution (prob amp):\", normed)\n",
    "    \n",
    "    # 2b) Convert qsol from list to array\n",
    "    qsol = np.array(qsol, dtype=complex)\n",
    "    \n",
    "    # 3) Optimal global‐phase φ that minimizes imaginary parts across all components\n",
    "    # φ_opt = 0.5 * arg( Σ_j qsol[j]^2 )\n",
    "    # np.angle() produces the phase of a complex number \n",
    "    phi_opt = 0.5 * np.angle(np.sum(qsol**2))\n",
    "    \n",
    "    # 4) Phase‐rotate and take real part\n",
    "    qsol_rot   = qsol * np.exp(-1j * phi_opt)\n",
    "    qsol_real  = np.real(qsol_rot)\n",
    "    \n",
    "    # 5) Fix any overall ± sign so first entry matches classical sign\n",
    "    # sign_fix      = np.sign(sol_classical[0]) * np.sign(qsol_real[0])\n",
    "    # qsol_corrected = sign_fix * qsol_real\n",
    "    \n",
    "    # 5) Robust overall sign correction\n",
    "    # Prefer aligning by the inner product; fallback to largest-magnitude component if overlap is too small.\n",
    "    overlap = np.vdot(sol_classical, qsol_real)  # since both are real-valued after rotation, this should be real\n",
    "    overlap_real = overlap.real if np.iscomplexobj(overlap) else overlap\n",
    "    norm_prod = np.linalg.norm(sol_classical) * np.linalg.norm(qsol_real)\n",
    "    # threshold relative to typical scale (avoid division by zero)\n",
    "    eps = 1e-8 * norm_prod\n",
    "    if abs(overlap_real) > eps:\n",
    "        # If the two solutions are nearly perpendicular with cosine less than 1e-8\n",
    "        sign_fix = np.sign(overlap_real)  # +1 if aligned, -1 if flipped\n",
    "    else:\n",
    "        # fallback: pick index of largest magnitude in classical solution\n",
    "        idx = int(np.argmax(np.abs(sol_classical)))\n",
    "        sign_fix = np.sign(sol_classical[idx]) * np.sign(qsol_real[idx])\n",
    "    qsol_corrected = sign_fix * qsol_real\n",
    "    return sol_classical, qsol_corrected\n",
    "\n",
    "\n",
    "def show_solutions(A_prescale, b circuit_hhl, res_hhl, precision, C = None, check=True, disp=True):\n",
    "    # Classical solution and preprocessed quantum solution\n",
    "    # Method 2 is used\n",
    "    sol_classical, qsol_corrected = quantum_solution_preprocessed_2(\n",
    "        A_prescale, b, circuit_hhl, res_hhl, precision, C=C, disp=disp\n",
    "    )\n",
    "    # Verify is there is no functional error, \n",
    "    # which might come from changing endianness in Model or Execution\n",
    "    if (\n",
    "        np.linalg.norm(sol_classical - qsol_corrected) / np.linalg.norm(sol_classical)\n",
    "        > 0.1\n",
    "        and check\n",
    "    ):\n",
    "        raise Exception(\n",
    "            \"The HHL solution is too far from the classical one, please verify your algorithm\"\n",
    "        )\n",
    "    \n",
    "    if disp:\n",
    "        print(\"Corrected Quantum Solution: \", qsol_corrected)\n",
    "    \n",
    "    # Fidelity\n",
    "    state_classical = sol_classical / np.linalg.norm(sol_classical)\n",
    "    state_corrected = qsol_corrected / np.linalg.norm(qsol_corrected)\n",
    "    fidelity = np.abs(np.dot(state_classical, state_corrected)) ** 2\n",
    "    print()\n",
    "    print(\"Fidelity:                   \", f\"{np.round(fidelity * 100,2)} %\")\n",
    "    \n",
    "    if disp:\n",
    "        plt.plot(sol_classical, \"bo\", label=\"Classical\")\n",
    "        plt.plot(qsol_corrected, \"ro\", label=\"HHL\")\n",
    "        plt.legend()\n",
    "        plt.xlabel(\"$i$\")\n",
    "        plt.ylabel(\"$x_i$\")\n",
    "        plt.show()\n",
    "\n",
    "\n",
    "# Deprecated\n",
    "# Basic form of processing\n",
    "def quantum_solution_preprocessed(\n",
    "    A_prescale, b, circuit_hhl:QuantumProgram, res_hhl:ExecutionDetails, \n",
    "    precision:int, C=None, disp=True\n",
    "    ):\n",
    "    \n",
    "    # Classical solution\n",
    "    sol_classical = np.linalg.solve(A_prescale, b)\n",
    "    if disp:\n",
    "        print(\"Classical Solution:         \", sol_classical)\n",
    "    \n",
    "    # Quantum solution with postselection\n",
    "    qsol = quantum_solution(circuit_hhl, res_hhl, precision, C=C)\n",
    "    if disp:\n",
    "        print(\"Quantum Solution:           \", np.abs(qsol) / np.linalg.norm(qsol))\n",
    "    \n",
    "    # Global phase from one element, e.g. qsol[0]\n",
    "    global_phase = np.angle(qsol[0])\n",
    "    \n",
    "    # Preprocessed quantum solution\n",
    "    qsol_corrected = np.real(qsol / np.exp(1j * global_phase))\n",
    "    \n",
    "    # Correct ambiguity in the sign\n",
    "    qsol_corrected = (\n",
    "        np.sign(qsol_corrected[0]) * np.sign(sol_classical[0]) * qsol_corrected\n",
    "    )\n",
    "    return sol_classical, qsol_corrected"
   ]
  },
  {
   "cell_type": "markdown",
   "id": "cdaba207",
   "metadata": {},
   "source": [
    "#### Model creation and processing"
   ]
  },
  {
   "cell_type": "code",
   "execution_count": 289,
   "id": "4e2bee4d",
   "metadata": {},
   "outputs": [],
   "source": [
    "# Construct HHL model for streamfunction, psi\n",
    "qmod_psi_exact = hhl_model(main, backend_preferences, synthesis_preferences)"
   ]
  },
  {
   "cell_type": "code",
   "execution_count": 290,
   "id": "cf645345",
   "metadata": {},
   "outputs": [],
   "source": [
    "# Save qmod file\n",
    "write_qmod(qmod_psi_exact, \"psi_exact\", decimal_precision=50)"
   ]
  },
  {
   "cell_type": "code",
   "execution_count": 291,
   "id": "3af12abe",
   "metadata": {},
   "outputs": [
    {
     "name": "stdout",
     "output_type": "stream",
     "text": [
      "Quantum program link: https://platform.classiq.io/circuit/31ssstNWfxRnkKSKu3YJPFUN6rv\n",
      "Circuit depth =  36090\n",
      "Circuit CX count =  23436\n"
     ]
    }
   ],
   "source": [
    "qprog_psi_exact = synthesize(qmod_psi_exact)\n",
    "show(qprog_psi_exact)\n",
    "\n",
    "print(\"Circuit depth = \", qprog_psi_exact.transpiled_circuit.depth)\n",
    "print(\"Circuit CX count = \", qprog_psi_exact.transpiled_circuit.count_ops[\"cx\"])"
   ]
  },
  {
   "cell_type": "markdown",
   "id": "07f52e43",
   "metadata": {},
   "source": [
    "Statevector simulation in classiq, for exact solution of psi"
   ]
  },
  {
   "cell_type": "code",
   "execution_count": 292,
   "id": "a2ea90d5",
   "metadata": {},
   "outputs": [
    {
     "data": {
      "text/plain": [
       "[(-0.10944462556086386-1.5341974337206264e-15j),\n",
       " (-0.10689837512902678-5.4214932440451365e-17j),\n",
       " (-0.20595853512398582-4.84620468737663e-15j),\n",
       " (-0.08325265073369562-1.3338008771606334e-15j),\n",
       " (-0.12265400095956717+3.223943469416998e-15j),\n",
       " (-0.3838654609677648-7.84101200908392e-15j),\n",
       " (-0.2513813491348443+2.112679278294657e-15j),\n",
       " (-0.26591135989088965-2.7067727526290276e-15j),\n",
       " (-0.3324594828799852+1.3428840072030127e-15j),\n",
       " (-0.3572100519029367+1.1263081252550315e-15j),\n",
       " (-0.5712866071221433+2.2182706650373166e-15j),\n",
       " (-0.23046646303385424+2.217986817223492e-15j),\n",
       " (-0.13246329112389124-9.27898503391809e-16j),\n",
       " (-0.28401331448333855-2.2755192209880156e-15j),\n",
       " (-0.22625853765939233+1.7541794894344997e-15j),\n",
       " (-0.26613625132405894-2.1501471897194718e-16j)]"
      ]
     },
     "execution_count": 292,
     "metadata": {},
     "output_type": "execute_result"
    }
   ],
   "source": [
    "res_psi_exact = execute(qprog_psi_exact).result_value()\n",
    "qsol = quantum_solution(qprog_psi_exact, res_psi_exact, precision, C=min)\n",
    "qsol"
   ]
  },
  {
   "cell_type": "code",
   "execution_count": 293,
   "id": "7eb62175",
   "metadata": {},
   "outputs": [
    {
     "name": "stdout",
     "output_type": "stream",
     "text": [
      "Classical Solution:          [-0.08430012 -0.15712992 -0.16235597 -0.11303371 -0.17210663 -0.31237517\n",
      " -0.33032161 -0.21998229 -0.28378734 -0.43051185 -0.48769216 -0.27683505\n",
      " -0.15991129 -0.23583351 -0.27327176 -0.2306816 ]\n",
      "Quantum Solution (prob amp): [0.09962296 0.09730521 0.18747561 0.07578148 0.11164691 0.349417\n",
      " 0.22882214 0.24204821 0.30262424 0.32515367 0.52001879 0.20978418\n",
      " 0.12057591 0.25852568 0.20595388 0.24225292]\n",
      "Corrected Quantum Solution:  [-0.10944463 -0.10689838 -0.20595854 -0.08325265 -0.122654   -0.38386546\n",
      " -0.25138135 -0.26591136 -0.33245948 -0.35721005 -0.57128661 -0.23046646\n",
      " -0.13246329 -0.28401331 -0.22625854 -0.26613625]\n",
      "\n",
      "Fidelity:                    96.25 %\n"
     ]
    },
    {
     "data": {
      "image/png": "[encoded data removed]",
      "text/plain": [
       "<Figure size 640x480 with 1 Axes>"
      ]
     },
     "metadata": {},
     "output_type": "display_data"
    }
   ],
   "source": [
    "show_solutions(A_prescale, b, qprog_psi_exact, res_psi_exact, precision, C=min, check=False)"
   ]
  },
  {
   "cell_type": "code",
   "execution_count": 294,
   "id": "b40e9346",
   "metadata": {},
   "outputs": [
    {
     "data": {
      "text/plain": [
       "array([[ 4., -1.,  0.,  0., -1.,  0.,  0.,  0.,  0.,  0.,  0.,  0.,  0.,\n",
       "         0.,  0.,  0.],\n",
       "       [-1.,  4., -1.,  0.,  0., -1.,  0.,  0.,  0.,  0.,  0.,  0.,  0.,\n",
       "         0.,  0.,  0.],\n",
       "       [ 0., -1.,  4., -1.,  0.,  0., -1.,  0.,  0.,  0.,  0.,  0.,  0.,\n",
       "         0.,  0.,  0.],\n",
       "       [ 0.,  0., -1.,  4.,  0.,  0.,  0., -1.,  0.,  0.,  0.,  0.,  0.,\n",
       "         0.,  0.,  0.],\n",
       "       [-1.,  0.,  0.,  0.,  4., -1.,  0.,  0., -1.,  0.,  0.,  0.,  0.,\n",
       "         0.,  0.,  0.],\n",
       "       [ 0., -1.,  0.,  0., -1.,  4., -1.,  0.,  0., -1.,  0.,  0.,  0.,\n",
       "         0.,  0.,  0.],\n",
       "       [ 0.,  0., -1.,  0.,  0., -1.,  4., -1.,  0.,  0., -1.,  0.,  0.,\n",
       "         0.,  0.,  0.],\n",
       "       [ 0.,  0.,  0., -1.,  0.,  0., -1.,  4.,  0.,  0.,  0., -1.,  0.,\n",
       "         0.,  0.,  0.],\n",
       "       [ 0.,  0.,  0.,  0., -1.,  0.,  0.,  0.,  4., -1.,  0.,  0., -1.,\n",
       "         0.,  0.,  0.],\n",
       "       [ 0.,  0.,  0.,  0.,  0., -1.,  0.,  0., -1.,  4., -1.,  0.,  0.,\n",
       "        -1.,  0.,  0.],\n",
       "       [ 0.,  0.,  0.,  0.,  0.,  0., -1.,  0.,  0., -1.,  4., -1.,  0.,\n",
       "         0., -1.,  0.],\n",
       "       [ 0.,  0.,  0.,  0.,  0.,  0.,  0., -1.,  0.,  0., -1.,  4.,  0.,\n",
       "         0.,  0., -1.],\n",
       "       [ 0.,  0.,  0.,  0.,  0.,  0.,  0.,  0., -1.,  0.,  0.,  0.,  4.,\n",
       "        -1.,  0.,  0.],\n",
       "       [ 0.,  0.,  0.,  0.,  0.,  0.,  0.,  0.,  0., -1.,  0.,  0., -1.,\n",
       "         4., -1.,  0.],\n",
       "       [ 0.,  0.,  0.,  0.,  0.,  0.,  0.,  0.,  0.,  0., -1.,  0.,  0.,\n",
       "        -1.,  4., -1.],\n",
       "       [ 0.,  0.,  0.,  0.,  0.,  0.,  0.,  0.,  0.,  0.,  0., -1.,  0.,\n",
       "         0., -1.,  4.]])"
      ]
     },
     "execution_count": 294,
     "metadata": {},
     "output_type": "execute_result"
    }
   ],
   "source": [
    "A_prescale"
   ]
  },
  {
   "cell_type": "code",
   "execution_count": 295,
   "id": "5f257f8f",
   "metadata": {},
   "outputs": [
    {
     "data": {
      "text/plain": [
       "array([-0.00796392, -0.06948844, -0.04893863, -0.06979657, -0.00796392,\n",
       "       -0.15943065, -0.13888085, -0.15973879, -0.37261958, -0.40235923,\n",
       "       -0.63982837, -0.16898415, -0.12002429, -0.07963915, -0.13887978,\n",
       "       -0.37261958])"
      ]
     },
     "execution_count": 295,
     "metadata": {},
     "output_type": "execute_result"
    }
   ],
   "source": [
    "b"
   ]
  },
  {
   "cell_type": "code",
   "execution_count": 296,
   "id": "8d5c29c0",
   "metadata": {},
   "outputs": [
    {
     "data": {
      "text/plain": [
       "array([-0.12485941, -0.30403639, -0.15139306, -0.21028044])"
      ]
     },
     "execution_count": 296,
     "metadata": {},
     "output_type": "execute_result"
    }
   ],
   "source": [
    "classical_sol = np.array([-0.12485941, -0.30403639, -0.15139306, -0.21028044])\n",
    "classical_sol"
   ]
  },
  {
   "cell_type": "code",
   "execution_count": 297,
   "id": "592eca59",
   "metadata": {},
   "outputs": [
    {
     "ename": "ValueError",
     "evalue": "shapes (16,16) and (4,) not aligned: 16 (dim 1) != 4 (dim 0)",
     "output_type": "error",
     "traceback": [
      "\u001b[31m---------------------------------------------------------------------------\u001b[39m",
      "\u001b[31mValueError\u001b[39m                                Traceback (most recent call last)",
      "\u001b[36mCell\u001b[39m\u001b[36m \u001b[39m\u001b[32mIn[297]\u001b[39m\u001b[32m, line 2\u001b[39m\n\u001b[32m      1\u001b[39m \u001b[38;5;66;03m# should  = b\u001b[39;00m\n\u001b[32m----> \u001b[39m\u001b[32m2\u001b[39m \u001b[43mA_prescale\u001b[49m\u001b[43m.\u001b[49m\u001b[43mdot\u001b[49m\u001b[43m(\u001b[49m\u001b[43mclassical_sol\u001b[49m\u001b[43m)\u001b[49m\n",
      "\u001b[31mValueError\u001b[39m: shapes (16,16) and (4,) not aligned: 16 (dim 1) != 4 (dim 0)"
     ]
    }
   ],
   "source": [
    "# should  = b\n",
    "A_prescale.dot(classical_sol)"
   ]
  },
  {
   "cell_type": "code",
   "execution_count": null,
   "id": "4e244421",
   "metadata": {},
   "outputs": [
    {
     "data": {
      "text/plain": [
       "array([ 5.58078481e-10, -1.73522841e-09, -1.13702926e-09,  1.60335620e-10])"
      ]
     },
     "execution_count": 269,
     "metadata": {},
     "output_type": "execute_result"
    }
   ],
   "source": [
    "A_prescale.dot(classical_sol * b_norm) - b_prescale"
   ]
  },
  {
   "cell_type": "code",
   "execution_count": null,
   "id": "b536bfb1",
   "metadata": {},
   "outputs": [
    {
     "name": "stdout",
     "output_type": "stream",
     "text": [
      "Classical Solution:          [-0.12485941 -0.30403639 -0.15139306 -0.21028044]\n",
      "Quantum Solution (prob amp): [0.12536299 0.82359527 0.4333903  0.34372635]\n"
     ]
    }
   ],
   "source": [
    "_, quantum_sol = quantum_solution_preprocessed_2(A_prescale, b, qprog_psi_exact, res_psi_exact, precision, min)"
   ]
  },
  {
   "cell_type": "code",
   "execution_count": null,
   "id": "2dc5b410",
   "metadata": {},
   "outputs": [
    {
     "data": {
      "text/plain": [
       "array([-0.06470114, -0.36420526, -0.21151379, -0.15014911])"
      ]
     },
     "execution_count": 271,
     "metadata": {},
     "output_type": "execute_result"
    }
   ],
   "source": [
    "quantum_sol = np.array([-0.06470114, -0.36420526, -0.21151379, -0.15014911])\n",
    "quantum_sol"
   ]
  },
  {
   "cell_type": "code",
   "execution_count": null,
   "id": "7379b5cf",
   "metadata": {},
   "outputs": [
    {
     "data": {
      "text/plain": [
       "array([ 0.36092268, -0.36096509, -0.36077253,  0.36081492])"
      ]
     },
     "execution_count": 272,
     "metadata": {},
     "output_type": "execute_result"
    }
   ],
   "source": [
    "# should close to b\n",
    "A_prescale.dot(quantum_sol) - b"
   ]
  },
  {
   "cell_type": "code",
   "execution_count": null,
   "id": "9f4cf2a7",
   "metadata": {},
   "outputs": [
    {
     "data": {
      "text/plain": [
       "array([ 0.0726179 , -0.07262644, -0.07258769,  0.07259622])"
      ]
     },
     "execution_count": 273,
     "metadata": {},
     "output_type": "execute_result"
    }
   ],
   "source": [
    "# should close to 0\n",
    "A_prescale.dot(quantum_sol*b_norm) - b_prescale"
   ]
  },
  {
   "cell_type": "code",
   "execution_count": null,
   "id": "137568aa",
   "metadata": {},
   "outputs": [
    {
     "data": {
      "text/plain": [
       "2"
      ]
     },
     "execution_count": 274,
     "metadata": {},
     "output_type": "execute_result"
    }
   ],
   "source": [
    "precision"
   ]
  },
  {
   "cell_type": "code",
   "execution_count": null,
   "id": "4085cf56",
   "metadata": {},
   "outputs": [
    {
     "data": {
      "text/plain": [
       "{'res': (3, 4), 'phase': (0, 1), 'indicator': (2,)}"
      ]
     },
     "execution_count": 276,
     "metadata": {},
     "output_type": "execute_result"
    }
   ],
   "source": [
    "res_psi_exact.physical_qubits_map"
   ]
  },
  {
   "cell_type": "markdown",
   "id": "7374301f",
   "metadata": {},
   "source": [
    "Can obtain the pandas dataframe as the following"
   ]
  },
  {
   "cell_type": "code",
   "execution_count": null,
   "id": "2ab8ec51",
   "metadata": {},
   "outputs": [
    {
     "data": {
      "text/html": [
       "<div>\n",
       "<style scoped>\n",
       "    .dataframe tbody tr th:only-of-type {\n",
       "        vertical-align: middle;\n",
       "    }\n",
       "\n",
       "    .dataframe tbody tr th {\n",
       "        vertical-align: top;\n",
       "    }\n",
       "\n",
       "    .dataframe thead th {\n",
       "        text-align: right;\n",
       "    }\n",
       "</style>\n",
       "<table border=\"1\" class=\"dataframe\">\n",
       "  <thead>\n",
       "    <tr style=\"text-align: right;\">\n",
       "      <th></th>\n",
       "      <th>res</th>\n",
       "      <th>phase</th>\n",
       "      <th>indicator</th>\n",
       "      <th>amplitude</th>\n",
       "      <th>probability</th>\n",
       "      <th>bitstring</th>\n",
       "    </tr>\n",
       "  </thead>\n",
       "  <tbody>\n",
       "    <tr>\n",
       "      <th>0</th>\n",
       "      <td>2</td>\n",
       "      <td>0.00</td>\n",
       "      <td>0</td>\n",
       "      <td>0.221949+0.000000j</td>\n",
       "      <td>0.049261</td>\n",
       "      <td>10000</td>\n",
       "    </tr>\n",
       "    <tr>\n",
       "      <th>1</th>\n",
       "      <td>0</td>\n",
       "      <td>0.00</td>\n",
       "      <td>0</td>\n",
       "      <td>0.124205+0.000000j</td>\n",
       "      <td>0.015427</td>\n",
       "      <td>00000</td>\n",
       "    </tr>\n",
       "    <tr>\n",
       "      <th>2</th>\n",
       "      <td>1</td>\n",
       "      <td>0.75</td>\n",
       "      <td>0</td>\n",
       "      <td>0.091934+0.000000j</td>\n",
       "      <td>0.008452</td>\n",
       "      <td>01011</td>\n",
       "    </tr>\n",
       "    <tr>\n",
       "      <th>3</th>\n",
       "      <td>2</td>\n",
       "      <td>0.75</td>\n",
       "      <td>1</td>\n",
       "      <td>0.052426-0.000000j</td>\n",
       "      <td>0.002748</td>\n",
       "      <td>10111</td>\n",
       "    </tr>\n",
       "    <tr>\n",
       "      <th>4</th>\n",
       "      <td>3</td>\n",
       "      <td>0.75</td>\n",
       "      <td>0</td>\n",
       "      <td>0.051447+0.000000j</td>\n",
       "      <td>0.002647</td>\n",
       "      <td>11011</td>\n",
       "    </tr>\n",
       "    <tr>\n",
       "      <th>5</th>\n",
       "      <td>0</td>\n",
       "      <td>0.75</td>\n",
       "      <td>1</td>\n",
       "      <td>0.029338-0.000000j</td>\n",
       "      <td>0.000861</td>\n",
       "      <td>00111</td>\n",
       "    </tr>\n",
       "    <tr>\n",
       "      <th>6</th>\n",
       "      <td>0</td>\n",
       "      <td>0.50</td>\n",
       "      <td>0</td>\n",
       "      <td>0.000000-0.007547j</td>\n",
       "      <td>0.000057</td>\n",
       "      <td>00010</td>\n",
       "    </tr>\n",
       "    <tr>\n",
       "      <th>7</th>\n",
       "      <td>2</td>\n",
       "      <td>0.50</td>\n",
       "      <td>1</td>\n",
       "      <td>0.000000+0.022335j</td>\n",
       "      <td>0.000499</td>\n",
       "      <td>10110</td>\n",
       "    </tr>\n",
       "    <tr>\n",
       "      <th>8</th>\n",
       "      <td>2</td>\n",
       "      <td>0.50</td>\n",
       "      <td>0</td>\n",
       "      <td>0.000000-0.013486j</td>\n",
       "      <td>0.000182</td>\n",
       "      <td>10010</td>\n",
       "    </tr>\n",
       "    <tr>\n",
       "      <th>9</th>\n",
       "      <td>0</td>\n",
       "      <td>0.25</td>\n",
       "      <td>0</td>\n",
       "      <td>0.000000-0.003126j</td>\n",
       "      <td>0.000010</td>\n",
       "      <td>00001</td>\n",
       "    </tr>\n",
       "    <tr>\n",
       "      <th>10</th>\n",
       "      <td>2</td>\n",
       "      <td>0.25</td>\n",
       "      <td>1</td>\n",
       "      <td>0.000000+0.009252j</td>\n",
       "      <td>0.000086</td>\n",
       "      <td>10101</td>\n",
       "    </tr>\n",
       "    <tr>\n",
       "      <th>11</th>\n",
       "      <td>3</td>\n",
       "      <td>0.50</td>\n",
       "      <td>1</td>\n",
       "      <td>-0.000000-0.012499j</td>\n",
       "      <td>0.000156</td>\n",
       "      <td>11110</td>\n",
       "    </tr>\n",
       "    <tr>\n",
       "      <th>12</th>\n",
       "      <td>1</td>\n",
       "      <td>0.25</td>\n",
       "      <td>0</td>\n",
       "      <td>-0.000000+0.005586j</td>\n",
       "      <td>0.000031</td>\n",
       "      <td>01001</td>\n",
       "    </tr>\n",
       "    <tr>\n",
       "      <th>13</th>\n",
       "      <td>3</td>\n",
       "      <td>0.25</td>\n",
       "      <td>0</td>\n",
       "      <td>-0.000000+0.003126j</td>\n",
       "      <td>0.000010</td>\n",
       "      <td>11001</td>\n",
       "    </tr>\n",
       "    <tr>\n",
       "      <th>14</th>\n",
       "      <td>1</td>\n",
       "      <td>0.50</td>\n",
       "      <td>0</td>\n",
       "      <td>-0.000000+0.013486j</td>\n",
       "      <td>0.000182</td>\n",
       "      <td>01010</td>\n",
       "    </tr>\n",
       "    <tr>\n",
       "      <th>15</th>\n",
       "      <td>1</td>\n",
       "      <td>0.50</td>\n",
       "      <td>1</td>\n",
       "      <td>-0.000000-0.022335j</td>\n",
       "      <td>0.000499</td>\n",
       "      <td>01110</td>\n",
       "    </tr>\n",
       "    <tr>\n",
       "      <th>16</th>\n",
       "      <td>0</td>\n",
       "      <td>0.25</td>\n",
       "      <td>1</td>\n",
       "      <td>-0.000000+0.005177j</td>\n",
       "      <td>0.000027</td>\n",
       "      <td>00101</td>\n",
       "    </tr>\n",
       "    <tr>\n",
       "      <th>17</th>\n",
       "      <td>3</td>\n",
       "      <td>0.25</td>\n",
       "      <td>1</td>\n",
       "      <td>-0.000000-0.005177j</td>\n",
       "      <td>0.000027</td>\n",
       "      <td>11101</td>\n",
       "    </tr>\n",
       "    <tr>\n",
       "      <th>18</th>\n",
       "      <td>3</td>\n",
       "      <td>0.50</td>\n",
       "      <td>0</td>\n",
       "      <td>-0.000000+0.007547j</td>\n",
       "      <td>0.000057</td>\n",
       "      <td>11010</td>\n",
       "    </tr>\n",
       "    <tr>\n",
       "      <th>19</th>\n",
       "      <td>2</td>\n",
       "      <td>0.25</td>\n",
       "      <td>0</td>\n",
       "      <td>-0.000000-0.005586j</td>\n",
       "      <td>0.000031</td>\n",
       "      <td>10001</td>\n",
       "    </tr>\n",
       "    <tr>\n",
       "      <th>20</th>\n",
       "      <td>0</td>\n",
       "      <td>0.50</td>\n",
       "      <td>1</td>\n",
       "      <td>-0.000000+0.012499j</td>\n",
       "      <td>0.000156</td>\n",
       "      <td>00110</td>\n",
       "    </tr>\n",
       "    <tr>\n",
       "      <th>21</th>\n",
       "      <td>1</td>\n",
       "      <td>0.25</td>\n",
       "      <td>1</td>\n",
       "      <td>-0.000000-0.009252j</td>\n",
       "      <td>0.000086</td>\n",
       "      <td>01101</td>\n",
       "    </tr>\n",
       "    <tr>\n",
       "      <th>22</th>\n",
       "      <td>3</td>\n",
       "      <td>0.75</td>\n",
       "      <td>1</td>\n",
       "      <td>-0.029338+0.000000j</td>\n",
       "      <td>0.000861</td>\n",
       "      <td>11111</td>\n",
       "    </tr>\n",
       "    <tr>\n",
       "      <th>23</th>\n",
       "      <td>0</td>\n",
       "      <td>0.75</td>\n",
       "      <td>0</td>\n",
       "      <td>-0.051447-0.000000j</td>\n",
       "      <td>0.002647</td>\n",
       "      <td>00011</td>\n",
       "    </tr>\n",
       "    <tr>\n",
       "      <th>24</th>\n",
       "      <td>1</td>\n",
       "      <td>0.75</td>\n",
       "      <td>1</td>\n",
       "      <td>-0.052426+0.000000j</td>\n",
       "      <td>0.002748</td>\n",
       "      <td>01111</td>\n",
       "    </tr>\n",
       "    <tr>\n",
       "      <th>25</th>\n",
       "      <td>2</td>\n",
       "      <td>0.75</td>\n",
       "      <td>0</td>\n",
       "      <td>-0.091934+0.000000j</td>\n",
       "      <td>0.008452</td>\n",
       "      <td>10011</td>\n",
       "    </tr>\n",
       "    <tr>\n",
       "      <th>26</th>\n",
       "      <td>0</td>\n",
       "      <td>0.00</td>\n",
       "      <td>1</td>\n",
       "      <td>-0.114836-0.000000j</td>\n",
       "      <td>0.013187</td>\n",
       "      <td>00100</td>\n",
       "    </tr>\n",
       "    <tr>\n",
       "      <th>27</th>\n",
       "      <td>3</td>\n",
       "      <td>0.00</td>\n",
       "      <td>0</td>\n",
       "      <td>-0.124205+0.000000j</td>\n",
       "      <td>0.015427</td>\n",
       "      <td>11000</td>\n",
       "    </tr>\n",
       "    <tr>\n",
       "      <th>28</th>\n",
       "      <td>1</td>\n",
       "      <td>0.00</td>\n",
       "      <td>0</td>\n",
       "      <td>-0.221949+0.000000j</td>\n",
       "      <td>0.049261</td>\n",
       "      <td>01000</td>\n",
       "    </tr>\n",
       "    <tr>\n",
       "      <th>29</th>\n",
       "      <td>3</td>\n",
       "      <td>0.00</td>\n",
       "      <td>1</td>\n",
       "      <td>-0.314864+0.000000j</td>\n",
       "      <td>0.099139</td>\n",
       "      <td>11100</td>\n",
       "    </tr>\n",
       "    <tr>\n",
       "      <th>30</th>\n",
       "      <td>2</td>\n",
       "      <td>0.00</td>\n",
       "      <td>1</td>\n",
       "      <td>-0.396999+0.000000j</td>\n",
       "      <td>0.157608</td>\n",
       "      <td>10100</td>\n",
       "    </tr>\n",
       "    <tr>\n",
       "      <th>31</th>\n",
       "      <td>1</td>\n",
       "      <td>0.00</td>\n",
       "      <td>1</td>\n",
       "      <td>-0.754439+0.000000j</td>\n",
       "      <td>0.569178</td>\n",
       "      <td>01100</td>\n",
       "    </tr>\n",
       "  </tbody>\n",
       "</table>\n",
       "</div>"
      ],
      "text/plain": [
       "    res  phase  indicator           amplitude  probability bitstring\n",
       "0     2   0.00          0  0.221949+0.000000j     0.049261     10000\n",
       "1     0   0.00          0  0.124205+0.000000j     0.015427     00000\n",
       "2     1   0.75          0  0.091934+0.000000j     0.008452     01011\n",
       "3     2   0.75          1  0.052426-0.000000j     0.002748     10111\n",
       "4     3   0.75          0  0.051447+0.000000j     0.002647     11011\n",
       "5     0   0.75          1  0.029338-0.000000j     0.000861     00111\n",
       "6     0   0.50          0  0.000000-0.007547j     0.000057     00010\n",
       "7     2   0.50          1  0.000000+0.022335j     0.000499     10110\n",
       "8     2   0.50          0  0.000000-0.013486j     0.000182     10010\n",
       "9     0   0.25          0  0.000000-0.003126j     0.000010     00001\n",
       "10    2   0.25          1  0.000000+0.009252j     0.000086     10101\n",
       "11    3   0.50          1 -0.000000-0.012499j     0.000156     11110\n",
       "12    1   0.25          0 -0.000000+0.005586j     0.000031     01001\n",
       "13    3   0.25          0 -0.000000+0.003126j     0.000010     11001\n",
       "14    1   0.50          0 -0.000000+0.013486j     0.000182     01010\n",
       "15    1   0.50          1 -0.000000-0.022335j     0.000499     01110\n",
       "16    0   0.25          1 -0.000000+0.005177j     0.000027     00101\n",
       "17    3   0.25          1 -0.000000-0.005177j     0.000027     11101\n",
       "18    3   0.50          0 -0.000000+0.007547j     0.000057     11010\n",
       "19    2   0.25          0 -0.000000-0.005586j     0.000031     10001\n",
       "20    0   0.50          1 -0.000000+0.012499j     0.000156     00110\n",
       "21    1   0.25          1 -0.000000-0.009252j     0.000086     01101\n",
       "22    3   0.75          1 -0.029338+0.000000j     0.000861     11111\n",
       "23    0   0.75          0 -0.051447-0.000000j     0.002647     00011\n",
       "24    1   0.75          1 -0.052426+0.000000j     0.002748     01111\n",
       "25    2   0.75          0 -0.091934+0.000000j     0.008452     10011\n",
       "26    0   0.00          1 -0.114836-0.000000j     0.013187     00100\n",
       "27    3   0.00          0 -0.124205+0.000000j     0.015427     11000\n",
       "28    1   0.00          0 -0.221949+0.000000j     0.049261     01000\n",
       "29    3   0.00          1 -0.314864+0.000000j     0.099139     11100\n",
       "30    2   0.00          1 -0.396999+0.000000j     0.157608     10100\n",
       "31    1   0.00          1 -0.754439+0.000000j     0.569178     01100"
      ]
     },
     "execution_count": 277,
     "metadata": {},
     "output_type": "execute_result"
    }
   ],
   "source": [
    "res_psi_exact.dataframe"
   ]
  },
  {
   "cell_type": "code",
   "execution_count": null,
   "id": "2f846758",
   "metadata": {},
   "outputs": [
    {
     "data": {
      "text/plain": [
       "[SimulatedState(state={'res': 1, 'phase': 0.0, 'indicator': 1}, bitstring='01100', amplitude=(-0.7544390196010777+2.8015784137025435e-16j)),\n",
       " SimulatedState(state={'res': 2, 'phase': 0.0, 'indicator': 1}, bitstring='10100', amplitude=(-0.396999066123336+9.367506770274758e-17j)),\n",
       " SimulatedState(state={'res': 3, 'phase': 0.0, 'indicator': 1}, bitstring='11100', amplitude=(-0.3148640845589057+1.46150452851046e-16j)),\n",
       " SimulatedState(state={'res': 1, 'phase': 0.0, 'indicator': 0}, bitstring='01000', amplitude=(-0.22194873507825713+5.2909066017292616e-17j)),\n",
       " SimulatedState(state={'res': 2, 'phase': 0.0, 'indicator': 0}, bitstring='10000', amplitude=(0.22194873507825677+2.90132501357121e-16j)),\n",
       " SimulatedState(state={'res': 3, 'phase': 0.0, 'indicator': 0}, bitstring='11000', amplitude=(-0.12420516206120712+5.204170427930421e-17j)),\n",
       " SimulatedState(state={'res': 0, 'phase': 0.0, 'indicator': 0}, bitstring='00000', amplitude=(0.12420516206120666+3.9920323990916273e-16j)),\n",
       " SimulatedState(state={'res': 0, 'phase': 0.0, 'indicator': 1}, bitstring='00100', amplitude=(-0.11483641901172675-1.691355389077387e-16j)),\n",
       " SimulatedState(state={'res': 1, 'phase': 0.75, 'indicator': 0}, bitstring='01011', amplitude=(0.09193417622096711+3.9898639947466563e-17j)),\n",
       " SimulatedState(state={'res': 2, 'phase': 0.75, 'indicator': 0}, bitstring='10011', amplitude=(-0.09193417622096707+1.6132928326584306e-16j)),\n",
       " SimulatedState(state={'res': 1, 'phase': 0.75, 'indicator': 1}, bitstring='01111', amplitude=(-0.05242563613558057+3.0184188481996443e-16j)),\n",
       " SimulatedState(state={'res': 2, 'phase': 0.75, 'indicator': 1}, bitstring='10111', amplitude=(0.052425636135580406-3.5908775952719907e-16j)),\n",
       " SimulatedState(state={'res': 3, 'phase': 0.75, 'indicator': 0}, bitstring='11011', amplitude=(0.05144746264250016+9.324138683375338e-17j)),\n",
       " SimulatedState(state={'res': 0, 'phase': 0.75, 'indicator': 0}, bitstring='00011', amplitude=(-0.05144746264250003-6.5052130349130266e-18j)),\n",
       " SimulatedState(state={'res': 3, 'phase': 0.75, 'indicator': 1}, bitstring='11111', amplitude=(-0.029338011906604435+5.204170427930421e-18j)),\n",
       " SimulatedState(state={'res': 0, 'phase': 0.75, 'indicator': 1}, bitstring='00111', amplitude=(0.029338011906604105-1.5178830414797062e-16j)),\n",
       " SimulatedState(state={'res': 1, 'phase': 0.5, 'indicator': 1}, bitstring='01110', amplitude=(-1.3183898417423734e-16-0.022335296783745073j)),\n",
       " SimulatedState(state={'res': 2, 'phase': 0.5, 'indicator': 1}, bitstring='10110', amplitude=(1.0408340855860843e-16+0.022335296783745046j)),\n",
       " SimulatedState(state={'res': 2, 'phase': 0.5, 'indicator': 0}, bitstring='10010', amplitude=(8.326672684688674e-17-0.013485965096635837j)),\n",
       " SimulatedState(state={'res': 1, 'phase': 0.5, 'indicator': 0}, bitstring='01010', amplitude=(-1.249000902703301e-16+0.013485965096635641j)),\n",
       " SimulatedState(state={'res': 0, 'phase': 0.5, 'indicator': 1}, bitstring='00110', amplitude=(-2.914335439641036e-16+0.012499098747880308j)),\n",
       " SimulatedState(state={'res': 3, 'phase': 0.5, 'indicator': 1}, bitstring='11110', amplitude=(-2.949029909160572e-17-0.012499098747879776j)),\n",
       " SimulatedState(state={'res': 2, 'phase': 0.25, 'indicator': 1}, bitstring='10101', amplitude=(2.7755575615628914e-17+0.009251582847455336j)),\n",
       " SimulatedState(state={'res': 1, 'phase': 0.25, 'indicator': 1}, bitstring='01101', amplitude=(-6.106226635438361e-16-0.009251582847455201j)),\n",
       " SimulatedState(state={'res': 0, 'phase': 0.5, 'indicator': 0}, bitstring='00010', amplitude=(4.128641872824801e-16-0.0075469070809926j)),\n",
       " SimulatedState(state={'res': 3, 'phase': 0.5, 'indicator': 0}, bitstring='11010', amplitude=(-2.0469737016526324e-16+0.007546907080992022j)),\n",
       " SimulatedState(state={'res': 2, 'phase': 0.25, 'indicator': 0}, bitstring='10001', amplitude=(-2.3592239273284576e-16-0.00558606964471672j)),\n",
       " SimulatedState(state={'res': 1, 'phase': 0.25, 'indicator': 0}, bitstring='01001', amplitude=(-6.938893903907228e-17+0.0055860696447166125j)),\n",
       " SimulatedState(state={'res': 0, 'phase': 0.25, 'indicator': 1}, bitstring='00101', amplitude=(-1.8735013540549517e-16+0.005177296218812515j)),\n",
       " SimulatedState(state={'res': 3, 'phase': 0.25, 'indicator': 1}, bitstring='11101', amplitude=(-1.942890293094024e-16-0.005177296218812237j)),\n",
       " SimulatedState(state={'res': 0, 'phase': 0.25, 'indicator': 0}, bitstring='00001', amplitude=(6.245004513516506e-17-0.003126031266916779j)),\n",
       " SimulatedState(state={'res': 3, 'phase': 0.25, 'indicator': 0}, bitstring='11001', amplitude=(-1.1796119636642288e-16+0.0031260312669165826j))]"
      ]
     },
     "execution_count": 278,
     "metadata": {},
     "output_type": "execute_result"
    }
   ],
   "source": [
    "# Testing\n",
    "res_psi_exact.parsed_state_vector\n",
    "# rrIpp"
   ]
  },
  {
   "cell_type": "markdown",
   "id": "mg_aclfyA0u9",
   "metadata": {
    "id": "mg_aclfyA0u9"
   },
   "source": [
    "### Example: Approximated Hamiltonian Evolution (Suzuki-Trotter)\n",
    "\n",
    "The approximated Hamiltonian simulation is capable of handling larger and more complex systems, making it more suitable for real-world applications where exact solutions are computationally prohibitive."
   ]
  },
  {
   "cell_type": "markdown",
   "id": "1ffcbdfd-6c23-47ad-8955-ec8fd0861e32",
   "metadata": {
    "id": "1ffcbdfd-6c23-47ad-8955-ec8fd0861e32",
    "lines_to_next_cell": 0,
    "tags": []
   },
   "source": [
    "We will define the inner quantum call to be used within the flexible QPE: a Suzuki Trotter of order 1 [[3](#Trotter)], whose repetitions parameter grows by some constant factor proportional to the evolution coefficient.\n",
    "\n",
    "For the QPE we are going to use Classiq's `suzuki-trotter` function of order 1 for Hamiltonian evolution $e^{-i H t}$. This function is an approximated one, where its `repetitions` parameter controls its error. For a QPE algorithm with size $m$ a series of controlled-unitaries $U^{2^s}$ $0 \\leq s \\leq m-1$ are applied, for each of which we would like to pass a different `repetitions` parameter depth (to keep a roughly same error, the repetitions for approximating $U=e^{2\\pi i 2^s A }$ is expected to be $\\sim 2^s$ larger then the repetitions of $U=e^{2\\pi i A }$). In Classiq this can be done by working with a [`qpe_flexible`](https://github.com/Classiq/classiq-library/blob/main/functions/qmod_library_reference/classiq_open_library/qpe/qpe.ipynb), and passing a \"rule\" for how to exponentiate each step within the QPE in `repetitions` parameter."
   ]
  },
  {
   "cell_type": "code",
   "execution_count": null,
   "id": "2xfdfSuq2esh",
   "metadata": {
    "id": "2xfdfSuq2esh"
   },
   "outputs": [],
   "source": [
    "from classiq.qmod.symbolic import ceiling, log\n",
    "\n",
    "@qfunc\n",
    "def suzuki_trotter1_with_power_logic(\n",
    "    hamiltonian: CArray[PauliTerm],\n",
    "    pw: CInt,\n",
    "    r0: CInt,\n",
    "    reps_scaling_factor: CReal,\n",
    "    evolution_coefficient: CReal,\n",
    "    target: QArray,\n",
    ") -> None:\n",
    "    suzuki_trotter(\n",
    "        hamiltonian,\n",
    "        evolution_coefficient=evolution_coefficient * pw,\n",
    "        order=1,\n",
    "        repetitions=r0 * ceiling(reps_scaling_factor ** (log(pw, 2))),\n",
    "        qbv=target,\n",
    "    )"
   ]
  },
  {
   "cell_type": "markdown",
   "id": "MLIyHtFJYAG0",
   "metadata": {
    "id": "MLIyHtFJYAG0"
   },
   "source": [
    "The values of the parameters `R0` and `REPS_SCALING_FACTOR` below were chosen by trial and error because they are Hamiltonian dependent. For other examples, one would need to use different values for these parameters, please compare with specific example in [Flexible QPE tutorial](https://github.com/Classiq/classiq-library/blob/main/tutorials/advanced_tutorials/high_level_modeling_flexible_qpe/high_level_modeling_flexible_qpe.ipynb). The relevant literature that discusses the errors of product formulas is available in [[5](#trotter-error)]."
   ]
  },
  {
   "cell_type": "code",
   "execution_count": null,
   "id": "8a55813c-e4e8-4490-92a0-90816ad220d2",
   "metadata": {
    "id": "8a55813c-e4e8-4490-92a0-90816ad220d2"
   },
   "outputs": [
    {
     "ename": "ClassiqExpansionError",
     "evalue": "\n\tNameError: name 'hamiltonian' is not defined\n\t\tat file 3203858489.py line 23 character 24 in function <lambda>\nIf you need further assistance, please reach out on our Community Slack channel at: https://short.classiq.io/join-slack or open a support ticket at: https://classiq-community.freshdesk.com/support/tickets/new",
     "output_type": "error",
     "traceback": [
      "\u001b[31m---------------------------------------------------------------------------\u001b[39m",
      "\u001b[31mClassiqExpansionError\u001b[39m                     Traceback (most recent call last)",
      "\u001b[36mCell\u001b[39m\u001b[36m \u001b[39m\u001b[32mIn[280]\u001b[39m\u001b[32m, line 37\u001b[39m\n\u001b[32m     19\u001b[39m     hhl(\n\u001b[32m     20\u001b[39m         rhs_vector=amplitudes,\n\u001b[32m     21\u001b[39m         precision=QPE_SIZE,\n\u001b[32m   (...)\u001b[39m\u001b[32m     32\u001b[39m         indicator=indicator,\n\u001b[32m     33\u001b[39m     )\n\u001b[32m     36\u001b[39m \u001b[38;5;66;03m# Define model\u001b[39;00m\n\u001b[32m---> \u001b[39m\u001b[32m37\u001b[39m qmod_hhl_trotter = \u001b[43mhhl_model\u001b[49m\u001b[43m(\u001b[49m\u001b[43mmain\u001b[49m\u001b[43m,\u001b[49m\u001b[43m \u001b[49m\u001b[43mbackend_preferences\u001b[49m\u001b[43m)\u001b[49m\n",
      "\u001b[36mCell\u001b[39m\u001b[36m \u001b[39m\u001b[32mIn[256]\u001b[39m\u001b[32m, line 17\u001b[39m, in \u001b[36mhhl_model\u001b[39m\u001b[34m(main, backend_preferences, synthesis_preferences, num_shots)\u001b[39m\n\u001b[32m     16\u001b[39m \u001b[38;5;28;01mdef\u001b[39;00m\u001b[38;5;250m \u001b[39m\u001b[34mhhl_model\u001b[39m(main, backend_preferences, synthesis_preferences=\u001b[38;5;28;01mNone\u001b[39;00m, num_shots=\u001b[32m1\u001b[39m):\n\u001b[32m---> \u001b[39m\u001b[32m17\u001b[39m     qmod_hhl = \u001b[43mcreate_model\u001b[49m\u001b[43m(\u001b[49m\n\u001b[32m     18\u001b[39m \u001b[43m        \u001b[49m\u001b[43mmain\u001b[49m\u001b[43m,\u001b[49m\n\u001b[32m     19\u001b[39m \u001b[43m        \u001b[49m\u001b[43mexecution_preferences\u001b[49m\u001b[43m=\u001b[49m\u001b[43mExecutionPreferences\u001b[49m\u001b[43m(\u001b[49m\n\u001b[32m     20\u001b[39m \u001b[43m            \u001b[49m\u001b[43mnum_shots\u001b[49m\u001b[43m=\u001b[49m\u001b[43mnum_shots\u001b[49m\u001b[43m,\u001b[49m\u001b[43m \u001b[49m\u001b[43mbackend_preferences\u001b[49m\u001b[43m=\u001b[49m\u001b[43mbackend_preferences\u001b[49m\n\u001b[32m     21\u001b[39m \u001b[43m        \u001b[49m\u001b[43m)\u001b[49m\u001b[43m,\u001b[49m\n\u001b[32m     22\u001b[39m \u001b[43m        \u001b[49m\u001b[43mpreferences\u001b[49m\u001b[43m=\u001b[49m\u001b[43msynthesis_preferences\u001b[49m\u001b[43m,\u001b[49m\n\u001b[32m     23\u001b[39m \u001b[43m    \u001b[49m\u001b[43m)\u001b[49m\n\u001b[32m     24\u001b[39m     \u001b[38;5;28;01mreturn\u001b[39;00m qmod_hhl\n",
      "\u001b[36mFile \u001b[39m\u001b[32mc:\\Users\\Weidong\\OneDrive - University of Calgary\\Desktop\\CFD\\Quantum_Computing_Collaboration\\.venv\\Lib\\site-packages\\classiq\\qmod\\create_model_function.py:61\u001b[39m, in \u001b[36mcreate_model\u001b[39m\u001b[34m(entry_point, constraints, execution_preferences, preferences, classical_execution_function, out_file)\u001b[39m\n\u001b[32m     56\u001b[39m \u001b[38;5;28;01mif\u001b[39;00m entry_point.func_decl.name != MAIN_FUNCTION_NAME:\n\u001b[32m     57\u001b[39m     \u001b[38;5;28;01mraise\u001b[39;00m ClassiqError(\n\u001b[32m     58\u001b[39m         \u001b[33mf\u001b[39m\u001b[33m\"\u001b[39m\u001b[33mThe entry point function must be named \u001b[39m\u001b[33m'\u001b[39m\u001b[33mmain\u001b[39m\u001b[33m'\u001b[39m\u001b[33m, got \u001b[39m\u001b[33m'\u001b[39m\u001b[38;5;132;01m{\u001b[39;00mentry_point.func_decl.name\u001b[38;5;132;01m}\u001b[39;00m\u001b[33m'\u001b[39m\u001b[33m\"\u001b[39m\n\u001b[32m     59\u001b[39m     )\n\u001b[32m---> \u001b[39m\u001b[32m61\u001b[39m model = \u001b[43mentry_point\u001b[49m\u001b[43m.\u001b[49m\u001b[43mcreate_model\u001b[49m\u001b[43m(\u001b[49m\n\u001b[32m     62\u001b[39m \u001b[43m    \u001b[49m\u001b[43mconstraints\u001b[49m\u001b[43m,\u001b[49m\n\u001b[32m     63\u001b[39m \u001b[43m    \u001b[49m\u001b[43mexecution_preferences\u001b[49m\u001b[43m,\u001b[49m\n\u001b[32m     64\u001b[39m \u001b[43m    \u001b[49m\u001b[43mpreferences\u001b[49m\u001b[43m,\u001b[49m\n\u001b[32m     65\u001b[39m \u001b[43m    \u001b[49m\u001b[43mclassical_execution_function\u001b[49m\u001b[43m,\u001b[49m\n\u001b[32m     66\u001b[39m \u001b[43m\u001b[49m\u001b[43m)\u001b[49m\n\u001b[32m     67\u001b[39m serialized_model = _EntryPointWrapper(model.get_model())\n\u001b[32m     68\u001b[39m serialized_model.entry_point = entry_point\n",
      "\u001b[36mFile \u001b[39m\u001b[32mc:\\Users\\Weidong\\OneDrive - University of Calgary\\Desktop\\CFD\\Quantum_Computing_Collaboration\\.venv\\Lib\\site-packages\\classiq\\qmod\\quantum_function.py:341\u001b[39m, in \u001b[36mGenerativeQFunc.create_model\u001b[39m\u001b[34m(self, constraints, execution_preferences, preferences, classical_execution_function)\u001b[39m\n\u001b[32m    337\u001b[39m     \u001b[38;5;28mself\u001b[39m(*args, **kwargs)\n\u001b[32m    339\u001b[39m _dec_main.\u001b[34m__annotations__\u001b[39m = \u001b[38;5;28mself\u001b[39m._py_callable.\u001b[34m__annotations__\u001b[39m\n\u001b[32m--> \u001b[39m\u001b[32m341\u001b[39m \u001b[38;5;28;01mreturn\u001b[39;00m \u001b[43mQFunc\u001b[49m\u001b[43m(\u001b[49m\u001b[43m_dec_main\u001b[49m\u001b[43m)\u001b[49m\u001b[43m.\u001b[49m\u001b[43mcreate_model\u001b[49m\u001b[43m(\u001b[49m\n\u001b[32m    342\u001b[39m \u001b[43m    \u001b[49m\u001b[43mconstraints\u001b[49m\u001b[43m=\u001b[49m\u001b[43mconstraints\u001b[49m\u001b[43m,\u001b[49m\n\u001b[32m    343\u001b[39m \u001b[43m    \u001b[49m\u001b[43mexecution_preferences\u001b[49m\u001b[43m=\u001b[49m\u001b[43mexecution_preferences\u001b[49m\u001b[43m,\u001b[49m\n\u001b[32m    344\u001b[39m \u001b[43m    \u001b[49m\u001b[43mpreferences\u001b[49m\u001b[43m=\u001b[49m\u001b[43mpreferences\u001b[49m\u001b[43m,\u001b[49m\n\u001b[32m    345\u001b[39m \u001b[43m    \u001b[49m\u001b[43mclassical_execution_function\u001b[49m\u001b[43m=\u001b[49m\u001b[43mclassical_execution_function\u001b[49m\u001b[43m,\u001b[49m\n\u001b[32m    346\u001b[39m \u001b[43m\u001b[49m\u001b[43m)\u001b[49m\n",
      "\u001b[36mFile \u001b[39m\u001b[32mc:\\Users\\Weidong\\OneDrive - University of Calgary\\Desktop\\CFD\\Quantum_Computing_Collaboration\\.venv\\Lib\\site-packages\\classiq\\qmod\\quantum_function.py:156\u001b[39m, in \u001b[36mQFunc.create_model\u001b[39m\u001b[34m(self, constraints, execution_preferences, preferences, classical_execution_function)\u001b[39m\n\u001b[32m    143\u001b[39m model = Model(\n\u001b[32m    144\u001b[39m     constants=\u001b[38;5;28mlist\u001b[39m(\u001b[38;5;28mself\u001b[39m._qmodule.constants.values()),\n\u001b[32m    145\u001b[39m     functions=\u001b[38;5;28mlist\u001b[39m(\u001b[38;5;28mself\u001b[39m._qmodule.native_defs.values()),\n\u001b[32m   (...)\u001b[39m\u001b[32m    150\u001b[39m     **{key: value \u001b[38;5;28;01mfor\u001b[39;00m key, value \u001b[38;5;129;01min\u001b[39;00m model_extra_settings \u001b[38;5;28;01mif\u001b[39;00m value},\n\u001b[32m    151\u001b[39m )\n\u001b[32m    152\u001b[39m \u001b[38;5;28;01mif\u001b[39;00m (\n\u001b[32m    153\u001b[39m     \u001b[38;5;129;01mnot\u001b[39;00m get_global_declarative_switch()\n\u001b[32m    154\u001b[39m     \u001b[38;5;129;01mand\u001b[39;00m \u001b[38;5;28mlen\u001b[39m(\u001b[38;5;28mself\u001b[39m._qmodule.generative_functions) > \u001b[32m0\u001b[39m\n\u001b[32m    155\u001b[39m ):\n\u001b[32m--> \u001b[39m\u001b[32m156\u001b[39m     \u001b[38;5;28;01mreturn\u001b[39;00m \u001b[38;5;28;43mself\u001b[39;49m\u001b[43m.\u001b[49m\u001b[43m_create_generative_model\u001b[49m\u001b[43m(\u001b[49m\u001b[43mmodel\u001b[49m\u001b[43m)\u001b[49m\n\u001b[32m    157\u001b[39m \u001b[38;5;28;01mreturn\u001b[39;00m model\n",
      "\u001b[36mFile \u001b[39m\u001b[32mc:\\Users\\Weidong\\OneDrive - University of Calgary\\Desktop\\CFD\\Quantum_Computing_Collaboration\\.venv\\Lib\\site-packages\\classiq\\qmod\\quantum_function.py:181\u001b[39m, in \u001b[36mQFunc._create_generative_model\u001b[39m\u001b[34m(self, model_stub)\u001b[39m\n\u001b[32m    179\u001b[39m interpreter = FrontendGenerativeInterpreter(model_stub, generative_functions)\n\u001b[32m    180\u001b[39m set_frontend_interpreter(interpreter)\n\u001b[32m--> \u001b[39m\u001b[32m181\u001b[39m \u001b[38;5;28;01mreturn\u001b[39;00m \u001b[43minterpreter\u001b[49m\u001b[43m.\u001b[49m\u001b[43mexpand\u001b[49m\u001b[43m(\u001b[49m\u001b[43m)\u001b[49m\n",
      "\u001b[36mFile \u001b[39m\u001b[32mc:\\Users\\Weidong\\OneDrive - University of Calgary\\Desktop\\CFD\\Quantum_Computing_Collaboration\\.venv\\Lib\\site-packages\\classiq\\model_expansions\\interpreters\\base_interpreter.py:163\u001b[39m, in \u001b[36mBaseInterpreter.expand\u001b[39m\u001b[34m(self)\u001b[39m\n\u001b[32m    161\u001b[39m     \u001b[38;5;28mself\u001b[39m.process_exception(e)\n\u001b[32m    162\u001b[39m \u001b[38;5;28;01mfinally\u001b[39;00m:\n\u001b[32m--> \u001b[39m\u001b[32m163\u001b[39m     \u001b[38;5;28;43mself\u001b[39;49m\u001b[43m.\u001b[49m\u001b[43m_error_manager\u001b[49m\u001b[43m.\u001b[49m\u001b[43mreport_errors\u001b[49m\u001b[43m(\u001b[49m\u001b[43mClassiqExpansionError\u001b[49m\u001b[43m)\u001b[49m\n\u001b[32m    165\u001b[39m \u001b[38;5;28;01mreturn\u001b[39;00m Model(\n\u001b[32m    166\u001b[39m     constraints=\u001b[38;5;28mself\u001b[39m._model.constraints,\n\u001b[32m    167\u001b[39m     preferences=\u001b[38;5;28mself\u001b[39m._model.preferences,\n\u001b[32m   (...)\u001b[39m\u001b[32m    188\u001b[39m     functions_compilation_metadata=\u001b[38;5;28mself\u001b[39m._expanded_functions_compilation_metadata,\n\u001b[32m    189\u001b[39m )\n",
      "\u001b[36mFile \u001b[39m\u001b[32mc:\\Users\\Weidong\\OneDrive - University of Calgary\\Desktop\\CFD\\Quantum_Computing_Collaboration\\.venv\\Lib\\site-packages\\classiq\\qmod\\semantics\\error_manager.py:86\u001b[39m, in \u001b[36mErrorManager.report_errors\u001b[39m\u001b[34m(self, error_type, mask)\u001b[39m\n\u001b[32m     80\u001b[39m errors = (\n\u001b[32m     81\u001b[39m     \u001b[38;5;28mself\u001b[39m.annotated_errors\n\u001b[32m     82\u001b[39m     \u001b[38;5;28;01mif\u001b[39;00m mask \u001b[38;5;129;01mis\u001b[39;00m \u001b[38;5;28;01mNone\u001b[39;00m\n\u001b[32m     83\u001b[39m     \u001b[38;5;28;01melse\u001b[39;00m [\u001b[38;5;28mself\u001b[39m.annotated_errors[idx] \u001b[38;5;28;01mfor\u001b[39;00m idx \u001b[38;5;129;01min\u001b[39;00m mask]\n\u001b[32m     84\u001b[39m )\n\u001b[32m     85\u001b[39m \u001b[38;5;28mself\u001b[39m.clear()\n\u001b[32m---> \u001b[39m\u001b[32m86\u001b[39m \u001b[38;5;28;01mraise\u001b[39;00m error_type(\u001b[33m\"\u001b[39m\u001b[38;5;130;01m\\n\u001b[39;00m\u001b[38;5;130;01m\\t\u001b[39;00m\u001b[33m\"\u001b[39m + \u001b[33m\"\u001b[39m\u001b[38;5;130;01m\\n\u001b[39;00m\u001b[38;5;130;01m\\t\u001b[39;00m\u001b[33m\"\u001b[39m.join(errors))\n",
      "\u001b[31mClassiqExpansionError\u001b[39m: \n\tNameError: name 'hamiltonian' is not defined\n\t\tat file 3203858489.py line 23 character 24 in function <lambda>\nIf you need further assistance, please reach out on our Community Slack channel at: https://short.classiq.io/join-slack or open a support ticket at: https://classiq-community.freshdesk.com/support/tickets/new"
     ]
    }
   ],
   "source": [
    "from classiq.qmod.symbolic import floor\n",
    "\n",
    "# parameters for the amplitude preparation\n",
    "amplitudes = b.tolist()\n",
    "\n",
    "# parameters for the QPE\n",
    "QPE_SIZE = 4\n",
    "\n",
    "R0 = 4\n",
    "REPS_SCALING_FACTOR = 1.8\n",
    "\n",
    "\n",
    "@qfunc\n",
    "def main(\n",
    "    res: Output[QNum],\n",
    "    phase: Output[QNum],\n",
    "    indicator: Output[QBit],\n",
    ") -> None:\n",
    "    hhl(\n",
    "        rhs_vector=amplitudes,\n",
    "        precision=QPE_SIZE,\n",
    "        hamiltonian_evolution_with_power=lambda pw, target: suzuki_trotter1_with_power_logic(\n",
    "            hamiltonian=hamiltonian,\n",
    "            pw=pw,\n",
    "            evolution_coefficient=-2 * np.pi,\n",
    "            r0=R0,\n",
    "            reps_scaling_factor=REPS_SCALING_FACTOR,\n",
    "            target=target,\n",
    "        ),\n",
    "        state=res,\n",
    "        phase=phase,\n",
    "        indicator=indicator,\n",
    "    )\n",
    "\n",
    "\n",
    "# Define model\n",
    "qmod_hhl_trotter = hhl_model(main, backend_preferences)"
   ]
  },
  {
   "cell_type": "code",
   "execution_count": null,
   "id": "8u01t_lw4Gc6",
   "metadata": {
    "id": "8u01t_lw4Gc6"
   },
   "outputs": [],
   "source": [
    "# Save qmod file\n",
    "write_qmod(qmod_hhl_trotter, \"hhl_trotter\", decimal_precision=10)"
   ]
  },
  {
   "cell_type": "code",
   "execution_count": null,
   "id": "w3Kh2LRu2JQP",
   "metadata": {
    "colab": {
     "base_uri": "https://localhost:8080/",
     "height": 606
    },
    "id": "w3Kh2LRu2JQP",
    "outputId": "8cd9d835-5cbb-4d66-fa6e-69207ee28c3a"
   },
   "outputs": [
    {
     "name": "stdout",
     "output_type": "stream",
     "text": [
      "Quantum program link: https://platform.classiq.io/circuit/2ymn8IHYuhL9AYTrfvmhPtveFS6\n",
      "Circuit depth =  5066\n",
      "Circuit CX count =  2964\n",
      "\n",
      "Classical Solution:          [1.3814374  2.50585064 3.19890483 2.43147877]\n",
      "Quantum Solution:            [0.28600641 0.5107414  0.64756839 0.48785114]\n",
      "Corrected Quantum Solution:  [1.4399586  2.54984965 3.2534983  2.43124679]\n",
      "\n",
      "Fidelity:                    99.99 %\n"
     ]
    },
    {
     "data": {
      "image/png": "[encoded data removed]",
      "text/plain": [
       "<Figure size 640x480 with 1 Axes>"
      ]
     },
     "metadata": {},
     "output_type": "display_data"
    }
   ],
   "source": [
    "# Synthesize\n",
    "qprog_hhl_trotter = synthesize(qmod_hhl_trotter)\n",
    "show(qprog_hhl_trotter)\n",
    "\n",
    "# Show circuit\n",
    "print(\"Circuit depth = \", qprog_hhl_trotter.transpiled_circuit.depth)\n",
    "print(\"Circuit CX count = \", qprog_hhl_trotter.transpiled_circuit.count_ops[\"cx\"])\n",
    "print()\n",
    "\n",
    "# Show results\n",
    "res_hhl_trotter = execute(qprog_hhl_trotter).result_value()\n",
    "show_solutions(A, b, qprog_hhl_trotter, res_hhl_trotter, precision)"
   ]
  },
  {
   "cell_type": "markdown",
   "id": "fl8Ee2MDdtvR",
   "metadata": {
    "id": "fl8Ee2MDdtvR"
   },
   "source": [
    "We explored the HHL algorithm for solving linear systems using exact and approximated Hamiltonian simulations. The exact method, with a smaller circuit depth, is computationally less intensive but lacks scalability. In contrast, the approximated method, with a greater circuit depth, offers flexibility and can handle larger, more complex systems. This trade-off highlights the importance of choosing the right method based on problem size and complexity."
   ]
  },
  {
   "cell_type": "markdown",
   "id": "c5d5ea31-3ab2-4eb5-8522-9462e6ccfa40",
   "metadata": {
    "id": "c5d5ea31-3ab2-4eb5-8522-9462e6ccfa40",
    "tags": []
   },
   "source": [
    "## 4. Generalizations\n",
    "\n",
    "The usecase treated above is a canonical one, assuming the following properties:\n",
    "- The RHS vector $\\vec{b}$ is normalized.\n",
    "- The matrix $A$ is an Hermitian one.\n",
    "- The matrix $A$ is of size $2^n\\times 2^n $.\n",
    "- The eigenvalues of $A$ are in the range $(0,1)$.\n",
    "\n",
    "However, any general problem that does not follow these conditions can be resolved as follows:\n",
    "\n",
    "1) Normalize $\\vec{b}$ and return the normalization factor\n",
    "\n",
    "2) Symmetrize the problem as follows:\n",
    "$$\n",
    "\\begin{pmatrix}\n",
    "0 & A^T \\\\\n",
    "A & 0\n",
    "\\end{pmatrix}\n",
    "\\begin{pmatrix}\n",
    "\\vec{b}  \\\\\n",
    "0\n",
    "\\end{pmatrix}\n",
    "=\n",
    "\\begin{pmatrix}\n",
    "0  \\\\\n",
    "\\vec{x}\n",
    "\\end{pmatrix}.\n",
    "$$\n",
    "**Note:** This increases the number of qubits by 1.\n",
    "\n",
    "3) Complete the matrix dimension to the closest $2^n$ with an identity matrix. The vector $\\vec{b}$ will be completed with zeros.\n",
    "$$\n",
    "\\begin{pmatrix}\n",
    "A & 0 \\\\\n",
    "0 & I\n",
    "\\end{pmatrix}\n",
    "\\begin{pmatrix}\n",
    "\\vec{b}  \\\\\n",
    "0\n",
    "\\end{pmatrix}\n",
    "=\n",
    "\\begin{pmatrix}\n",
    "\\vec{x}  \\\\\n",
    "0\n",
    "\\end{pmatrix}.\n",
    "$$\n",
    "\n",
    "4) If the eigenvalues of $A$ are in the range $[-w_{\\min},w_{\\max}]$ you can employ transformations to the exponentiated matrix that enters into the Hamiltonian simulation, and then undo them for extracting the results:\n",
    "$$\n",
    "\\tilde{A}=(A+w_{\\min}I)\\left(1-\\frac{1}{2^{m}}\\right)\\frac{1}{w_{\\min}+w_{\\max}}.\n",
    "$$\n",
    "The eigenvalues of this matrix lie in the interval $[0,1)$, and are related to the eigenvalues of the original matrix via\n",
    "$$\n",
    "\\lambda = (w_{\\min}+w_{\\max})\\tilde{\\lambda}\\left[1/\\left(1-\\frac{1}{2^{n_{m}}}\\right)\\right]-w_{\\min},\n",
    "$$\n",
    "with $\\tilde{\\lambda}$ being an eigenvalue of $\\tilde{A}$ resulting from the QPE algorithm. This relation between eigenvalues is then used for the expression inserted into the eigenvalue inversion, via the `AmplitudeLoading` function."
   ]
  },
  {
   "cell_type": "markdown",
   "id": "oZAVXhfEhPTp",
   "metadata": {
    "id": "oZAVXhfEhPTp"
   },
   "source": [
    "## Technical Notes"
   ]
  },
  {
   "cell_type": "markdown",
   "id": "pSqM782xhRGA",
   "metadata": {
    "id": "pSqM782xhRGA"
   },
   "source": [
    "A brief summary of the the HHL algorithm:\n",
    "\n",
    "- **Preparation:** Unitary $U = e^{2\\pi i A}$ is constructed out of matrix $A$ for exact or approximated Hamiltonian simulation.\n",
    "\n",
    "- **Step 1:** Three registers are initialized of $m$, $n$ and 1 qubits respectively and vector $\\vec{b}$ is encoded into initial state:\n",
    "  $|0\\rangle_m |0\\rangle_n|0\\rangle_a \\xrightarrow[]{{\\rm SP}} |0\\rangle_m |b\\rangle_n|0\\rangle_a$.\n",
    "\n",
    "- **Step 2:** Quantum Phase Estimation (QPE) with controlled powers of unitary $U$ is applied to the initial state,\n",
    "  \n",
    "  $\\xrightarrow[]{{\\rm QPE}} \\sum^{2^n-1}_{j=0}\\beta_j |\\tilde{\\lambda}_j\\rangle_m |u_j\\rangle_n |0\\rangle_a$.\n",
    "\n",
    "- **Step 3:** Controlled rotations are applied to auxiliary bit $|0\\rangle_a$ with normalized constant $C = \\frac{1}{2^m}$,\n",
    "\n",
    "  $\\xrightarrow[]{{\\rm \\lambda^{-1}}} \\sum^{2^n-1}_{j=0}{\\beta_j |\\tilde{\\lambda_j}\\rangle_m |u_j\\rangle_n \\left(\\sqrt{1-\\frac{C^2}{\\tilde{\\lambda}^2_j}}|0\\rangle_a + \\frac{C}{\\tilde{\\lambda}_j}|1\\rangle_a \\right)}$.\n",
    "\n",
    "- **Step 4:** Eigenvalues $|\\tilde{\\lambda_j}\\rangle_m$ are uncomputed with QPE $^\\dagger$,\n",
    "\n",
    "  $\\xrightarrow[]{{\\rm QPE^\\dagger}} \\sum^{2^n-1}_{j=0}{\\beta_j |0\\rangle_m |u_j\\rangle_n \\left(\\sqrt{1-\\frac{C^2}{\\tilde{\\lambda}^2_j}}|0\\rangle_a + \\frac{C}{\\tilde{\\lambda}_j}|1\\rangle_a \\right)}$, if eigenvalues are $m$-estimated.\n",
    "\n",
    "- **Step 5:** Auxiliary bit value is observed and if:\n",
    "\n",
    "  - $|0\\rangle_a$ is measured or\n",
    "  - $|0\\rangle_m$ is not measured,\n",
    "  \n",
    "  then return to step 0, otherwise observe the state $|x\\rangle = \\sum^{2^n-1}_{j=0} \\frac{\\beta_j}{\\tilde{\\lambda}_j} |u_j\\rangle_n = |A^{-1}b\\rangle$ and save measured results.\n",
    "\n",
    "- **Step 6:** Repeat steps 1-5 for a fixed number of times ($s$-shots).\n",
    "\n",
    "- **Step 7:** Collect solution from statistical processing $x_s$\n",
    "\n",
    "- **Step 8:** Post-process and calculate approximate solution $x = {\\rm Real} \\left(\\frac{x_s}{e^{i \\phi}}\\right)$, where $\\phi$ is global phase of $x_s$."
   ]
  },
  {
   "cell_type": "markdown",
   "id": "dfa04f60-9f81-49d9-860e-179169bd5cdf",
   "metadata": {
    "id": "dfa04f60-9f81-49d9-860e-179169bd5cdf"
   },
   "source": [
    "## References\n",
    "\n",
    "<a name='HHL'>[1]</a>: [Harrow, A. W., Hassidim, A., & Lloyd, S., Quantum Algorithm for Linear Systems of Equations. Physical Review Letters 103, 150502 (2009)](https://journals.aps.org/prl/abstract/10.1103/PhysRevLett.103.150502).\n",
    "\n",
    "<a name='PauliDecomposition'>[2]</a>: [L. Hantzko, L. Binkowski, S. Gupta, Tensorized Pauli decomposition algorithm (2024)](https://arxiv.org/abs/2310.13421).\n",
    "\n",
    "<a name='Trotter'>[3]</a>: [N. Hatano, M. Suzuki, Finding Exponential Product Formulas of Higher Orders (2005)](https://arxiv.org/abs/math-ph/0506007).\n",
    "\n",
    "<a name='Duda'>[4]</a>: [J.Duda, \"Two-way quantum computers adding CPT analog of state preparation\" (2023)](https://arxiv.org/abs/2308.13522).\n",
    "\n",
    "<a name='trotter-error'>[5]</a>: [A. M. Childs, Y. Su, M. C. Tran, N. Wiebe, S. Zhu, \"Theory of Trotter Error with Commutator Scaling\" (2021)](https://arxiv.org/abs/2308.13522).\n"
   ]
  }
 ],
 "metadata": {
  "colab": {
   "provenance": [],
   "toc_visible": true
  },
  "kernelspec": {
   "display_name": ".venv (3.12.10)",
   "language": "python",
   "name": "python3"
  },
  "language_info": {
   "codemirror_mode": {
    "name": "ipython",
    "version": 3
   },
   "file_extension": ".py",
   "mimetype": "text/x-python",
   "name": "python",
   "nbconvert_exporter": "python",
   "pygments_lexer": "ipython3",
   "version": "3.12.10"
  }
 },
 "nbformat": 4,
 "nbformat_minor": 5
}
