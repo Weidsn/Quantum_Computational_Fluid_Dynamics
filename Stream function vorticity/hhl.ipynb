{
 "cells": [
  {
   "cell_type": "markdown",
   "id": "3652aca5-46be-454d-9b5e-5b795379c534",
   "metadata": {
    "id": "3652aca5-46be-454d-9b5e-5b795379c534"
   },
   "source": [
    "# HHL Algorithm"
   ]
  },
  {
   "cell_type": "markdown",
   "id": "422c4e26-b10c-4d77-b7ea-5d06d684a752",
   "metadata": {
    "id": "422c4e26-b10c-4d77-b7ea-5d06d684a752"
   },
   "source": [
    "Solving linear equations appears in many research, engineering, and design fields. For example, many physical and financial models, from fluid dynamics to portfolio optimization, are described by partial differential equations, which are typically treated by numerical schemes, most of which are eventually transformed to a set of linear equations.\n",
    "\n",
    "The HHL algorithm [[1](#HHL)] is a quantum algorithm for solving a set of linear equations:\n",
    "$$\n",
    "A\\vec{x} = \\vec{b},\n",
    "$$\n",
    "represented by an $N\\times N$ matrix $A$ and a vector $\\vec{b}$ of size $N = 2^n$. The solution to the problem is designated by variable $\\vec{x}$. The HHL is one of the fundamental quantum algorithms that is expected to give an exponential speedup over its classical counterpart*.\n",
    "\n",
    "The algorithm estimates a quantum state $|x\\rangle = |A^{-1}b\\rangle$ from the initial quantum state $|b\\rangle$, corresponding to $N$-dimensional vector $\\vec{b}$. Estimation is done by inverting eigenvalues encoded in phases of eigenstates with use of Quantum Phase Estimation (QPE) and amplitude encoding.\n",
    "\n",
    "The HHL algorithm treats the problem in the following way:\n",
    "\n",
    "- **Input:** Hermitian matrix $A$ of size $2^n\\times 2^n$, normalized vector $\\vec{b}$, $|\\vec{b}|=1$ and given precision $m$.\n",
    "- **Promise:** Solution vector encoded in the state $|x\\rangle = |A^{-1}b\\rangle = \\sum^{2^n-1}_{j=0} \\frac{\\beta_j}{\\tilde{\\lambda}_j} |u_j\\rangle_n$, where:\n",
    " - $\\lambda_j$ are eigenphases of a unitary $U = e^{2\\pi i A}$, estimated up to $m$ binary digits and\n",
    " - $\\beta_j$ are coefficients in expansion of initial state $|b\\rangle$ into linear combination of eigenvectors of $A$, such that $|b\\rangle = \\sum^{2^n-1}_{j=0}\\beta_j|u_j\\rangle_n$.\n",
    "- **Output:** Approximate solution $\\vec{x}$.\n",
    "\n",
    "More detailed description of the HHL algorithm is available in Technical Notes section, below.\n",
    "\n",
    "For simplicity, the demo below treats a usecase where the matrix A has eigenvalues in the interval (0,1). Generalizations to other usecases, including the case where $|b|\\neq 1$ and A is not an Hermitian matrix of size $2^n \\times 2^n$, are discussed at the end of this demo.\n",
    "\n",
    "***\n",
    "\n",
    "\\* The exponential speedup is in the sparsity of the Hermitian matrix $A$ and its [condition number](https://en.wikipedia.org/wiki/Condition_number). When $\\kappa$ is the condition number of the Hermitian matrix $A$ and the eigenvalues of $A$ are in the interval $(\\frac{1}{\\kappa}, 1)$, the runtime of the HHL algorithm scales as $\\kappa^2 \\log(n) / \\epsilon$, where $\\epsilon$ is the additive error achieved in the output state $|x\\rangle$. The algorithm achieves exponential speedup when both $\\kappa$ and $1/\\epsilon$ are $\\text{poly} \\log(n)$ (i.e., upper bounded by a polynomial expression with argument $\\log(n)$) and the state $|b\\rangle$ is loaded efficiently.\n"
   ]
  },
  {
   "cell_type": "markdown",
   "id": "f367649e",
   "metadata": {},
   "source": [
    "## Importing libraries"
   ]
  },
  {
   "cell_type": "code",
   "execution_count": 22,
   "id": "b595a474",
   "metadata": {},
   "outputs": [],
   "source": [
    "from scipy.sparse import diags, eye, kron, identity, block_diag, csr_matrix\n",
    "import numpy as np\n",
    "import scipy\n",
    "from qiskit.visualization import array_to_latex\n",
    "from typing import List\n",
    "\n",
    "from classiq import *"
   ]
  },
  {
   "cell_type": "markdown",
   "id": "280ac9ae",
   "metadata": {},
   "source": [
    "## Preparing examples\n",
    "\n",
    "This section generates $A$ and $b$ for HHL linear solver. \n",
    "\n",
    "Select an $A, b$ pair to use with HHL."
   ]
  },
  {
   "cell_type": "markdown",
   "id": "ca674b34",
   "metadata": {},
   "source": [
    "### Setting parameters"
   ]
  },
  {
   "cell_type": "code",
   "execution_count": 9,
   "id": "ecd7998b",
   "metadata": {},
   "outputs": [],
   "source": [
    "# Parameters\n",
    "nx = 4\n",
    "ny = 4\n",
    "dx = 1.0/(nx-1) # grid spacing (uniform) in both x and y\n",
    "\n",
    "# === HHL (QPE) parameters ===\n",
    "precision = 5\n",
    "dimension = (nx-2)*(ny-2) # Dimension of the A matrix\n",
    "\n",
    "omega = np.ones((nx, ny))\n",
    "psi   = np.zeros((nx, ny)) "
   ]
  },
  {
   "cell_type": "markdown",
   "id": "7879ed07",
   "metadata": {},
   "source": [
    "#### Deprecated functions"
   ]
  },
  {
   "cell_type": "code",
   "execution_count": null,
   "id": "90081ba2",
   "metadata": {},
   "outputs": [],
   "source": [
    "# Deprecated\n",
    "def build_sparse_discretized_poisson(nx, ny, dx):\n",
    "    \"\"\"\n",
    "    Build the sparse Poisson system A ψ = b for a 2D grid.\n",
    "\n",
    "    Parameters:\n",
    "        nx (int): Number of grid points in the x-direction.\n",
    "        ny (int): Number of grid points in the y-direction.\n",
    "        dx (float): Grid spacing (assumed equal in x and y).\n",
    "        omega (array_like): 2D array of vorticity values, shape (nx, ny).\n",
    "\n",
    "    Returns:\n",
    "        A (scipy.sparse.csr_matrix): Sparse matrix of shape (N, N),\n",
    "            representing the 5-point Laplacian (∇²) scaled by 1/dx²,\n",
    "            where N = nx * ny.  It enforces ∇²ψ = -ω.\n",
    "            \n",
    "        b (numpy.ndarray): 1D array of length N, the right-hand side\n",
    "            vector with entries -ω[i,j] * dx^2, flattened in row-major order.\n",
    "    \"\"\"\n",
    "    # Create 1D Laplacian matrices in x and y directions\n",
    "    main_x = -2.0 * np.ones(nx)\n",
    "    off_x  = 1.0  * np.ones(nx-1)\n",
    "    Tx = diags([off_x, main_x, off_x], [-1, 0, 1], format='csr')\n",
    "    main_y = -2.0 * np.ones(ny)\n",
    "    off_y  = 1.0  * np.ones(ny-1)\n",
    "    Ty = diags([off_y, main_y, off_y], [-1, 0, 1], format='csr')\n",
    "    # Identity matrices\n",
    "    Ix = eye(nx, format='csr')\n",
    "    Iy = eye(ny, format='csr')\n",
    "    # 2D Laplacian via Kronecker sum: A = I_y ⊗ T_x + T_y ⊗ I_x\n",
    "    A = (kron(Iy, Tx, format='csr') + kron(Ty, Ix, format='csr')) / (dx*dx)\n",
    "    # Right-hand side vector\n",
    "    return A\n",
    "\n",
    "def get_b(omega, dx):\n",
    "    b = -omega.flatten() * dx**2\n",
    "    return b\n",
    "\n",
    "def pad_to_power_of_two(\n",
    "    A: csr_matrix | None   = None,\n",
    "    b: np.ndarray  | None  = None\n",
    ") -> csr_matrix | np.ndarray | tuple[csr_matrix, np.ndarray]:\n",
    "    \n",
    "    \"\"\"\n",
    "    Pad a sparse CSR matrix and/or vector to the next power-of-two dimension\n",
    "    for qubit-based solvers.\n",
    "\n",
    "    You may supply either:\n",
    "        - A only  => returns padded A\n",
    "        - b only  => returns padded b\n",
    "        - A and b => returns (Apad, bpad)\n",
    "\n",
    "    Parameters\n",
    "    ----------\n",
    "    A : scipy.sparse.csr_matrix, optional\n",
    "        Original square matrix of shape (N, N).\n",
    "    b : numpy.ndarray, optional\n",
    "        Original right-hand side vector of length N.\n",
    "\n",
    "    Returns\n",
    "    -------\n",
    "    Apad : scipy.sparse.csr_matrix\n",
    "        Padded matrix of shape (2^n, 2^n) if A was provided.\n",
    "    bpad : numpy.ndarray\n",
    "        Padded RHS vector of length 2^n if b was provided.\n",
    "    (Apad, bpad) : tuple\n",
    "        If both A and b are given.\n",
    "    \"\"\"\n",
    "    # Determine original size N\n",
    "    if A is not None:\n",
    "        N = A.shape[0]\n",
    "    elif b is not None:\n",
    "        b = np.asarray(b).flatten()\n",
    "        N = b.shape[0]\n",
    "    else:\n",
    "        raise ValueError(\"Must provide at least one of A or b to pad.\")\n",
    "\n",
    "    # Compute next power of two ≥ N\n",
    "    n_bits = (N - 1).bit_length()\n",
    "    N2 = 1 << n_bits\n",
    "    M = N2 - N\n",
    "\n",
    "    # If already power-of-two, just return copy(s)\n",
    "    if M == 0:\n",
    "        if A is not None and b is not None:\n",
    "            return A.copy(), b.copy()\n",
    "        elif A is not None:\n",
    "            return A.copy()\n",
    "        else:\n",
    "            return b.copy()\n",
    "\n",
    "    # Build padding structures\n",
    "    pad_id = identity(M, dtype=(A.dtype if A is not None else np.float64), format='csr')\n",
    "\n",
    "    # Pad A if requested\n",
    "    if A is not None:\n",
    "        Apad = block_diag([A, pad_id], format='csr')\n",
    "    # Pad b if requested\n",
    "    if b is not None:\n",
    "        bpad = np.empty(N2, dtype=b.dtype)\n",
    "        bpad[:N] = b\n",
    "        bpad[N:] = 0\n",
    "\n",
    "    # Return according to inputs\n",
    "    if A is not None and b is not None:\n",
    "        return Apad, bpad\n",
    "    elif A is not None:\n",
    "        return Apad\n",
    "    else:\n",
    "        return bpad"
   ]
  },
  {
   "cell_type": "markdown",
   "id": "e3e04066",
   "metadata": {},
   "source": [
    "#### New functions"
   ]
  },
  {
   "cell_type": "code",
   "execution_count": 10,
   "id": "fabd58a4",
   "metadata": {},
   "outputs": [],
   "source": [
    "# Prompt for generative AI to generate the get_A() function. \n",
    "\"\"\"\n",
    "Given nx, ny and dx, define a function that construct the following symmetric matrix:\n",
    "0. the symmetric matrix has size (nx-2)*(ny-2)\n",
    "1. on the diagonal, we have 4\n",
    "2. on the two sub-diagonal beside the main diagonal, has -1. \n",
    "3. for each row i, (i, i+nx-2) and (i, i-(nx-2)) also has -1. If index is outside of range, ignore. \n",
    "In other words, the diagonal that is shifted left and right from the main diagonal by (nx-2) also has -1.\n",
    "\"\"\"\n",
    "\n",
    "def get_A(nx: int, ny: int):\n",
    "    \"\"\"\n",
    "    Build the (nx-2)*(ny-2) five-point Laplacian matrix\n",
    "    with 4 on the diagonal, -1 on the ±1 sub/super-diagonals\n",
    "    (excluding row-wrap connections), and -1 on the ±(nx-2) diagonals.\n",
    "    Returns a CSR matrix of shape (N, N), where N=(nx-2)*(ny-2).\n",
    "    \n",
    "    We assume that the value of the discretized quantity (streamfunction psi in this case) at the 4 boundaries are 0. \n",
    "    Notice that in Python the indices range from psi[0,0] to psi[nx-1, ny-1], \n",
    "    where as in Engineering, the indices range from psi_(1,1) to psi_(nx,ny)\n",
    "    \"\"\"\n",
    "    N_x = nx - 2\n",
    "    N_y = ny - 2\n",
    "    N   = N_x * N_y\n",
    "\n",
    "    # main diagonal\n",
    "    main =  4 * np.ones(N, dtype=float)\n",
    "\n",
    "    # ---- horizontal neighbors (offset ±1), but zero out wrap-around\n",
    "    # create a length-(N-1) array of -1’s\n",
    "    off1 = -np.ones(N-1, dtype=float)\n",
    "    # mask out entries where (i,i+1) would jump from end of one row to next\n",
    "    idx   = np.arange(N-1)\n",
    "    wrap  = (idx + 1) % N_x == 0\n",
    "    off1[wrap] = 0.0\n",
    "\n",
    "    # ---- vertical neighbors (offset ±N_x), no wrap issues\n",
    "    offNx = -np.ones(N - N_x, dtype=float)\n",
    "\n",
    "    # assemble\n",
    "    diags_data = [ main,\n",
    "                off1, off1,\n",
    "                offNx, offNx ]\n",
    "    offsets    = [  0,\n",
    "                -1,   1,\n",
    "                -N_x, N_x ]\n",
    "\n",
    "    A = diags(diags_data, offsets, shape=(N, N), format='csr')\n",
    "    return A\n",
    "\n",
    "# # After building A as a CSR matrix you can use:\n",
    "#    dense_A = A.toarray()        # convert to NumPy array\n",
    "\n",
    "# # Or use qiskit for better visualization\n",
    "# from qiskit.visualization import array_to_latex\n",
    "# display(array_to_latex(A.toarray()))\n",
    "\n",
    "def get_b(omega, dx):\n",
    "    \"\"\"\n",
    "    Given vorticity omega os size nx x ny,\n",
    "    extract omega from the interior and flatten to a vector.\n",
    "    \"\"\"\n",
    "    b = omega[1:-1, 1:-1].flatten() * dx**2\n",
    "    return b\n",
    "\n",
    "def pad_to_power_of_two(\n",
    "    A: csr_matrix | None   = None,\n",
    "    b: np.ndarray  | None  = None\n",
    ") -> csr_matrix | np.ndarray | tuple[csr_matrix, np.ndarray]:\n",
    "    \n",
    "    \"\"\"\n",
    "    Pad a sparse CSR matrix and/or vector to the next power-of-two dimension\n",
    "    for qubit-based solvers.\n",
    "\n",
    "    You may supply either:\n",
    "        - A only  => returns padded A\n",
    "        - b only  => returns padded b\n",
    "        - A and b => returns (Apad, bpad)\n",
    "\n",
    "    Parameters\n",
    "    ----------\n",
    "    A : scipy.sparse.csr_matrix, optional\n",
    "        Original square matrix of shape (N, N).\n",
    "    b : numpy.ndarray, optional\n",
    "        Original right-hand side vector of length N.\n",
    "\n",
    "    Returns\n",
    "    -------\n",
    "    Apad : scipy.sparse.csr_matrix\n",
    "        Padded matrix of shape (2^n, 2^n) if A was provided.\n",
    "    bpad : numpy.ndarray\n",
    "        Padded RHS vector of length 2^n if b was provided.\n",
    "    (Apad, bpad) : tuple\n",
    "        If both A and b are given.\n",
    "    \"\"\"\n",
    "    # Determine original size N\n",
    "    if A is not None:\n",
    "        N = A.shape[0]\n",
    "    elif b is not None:\n",
    "        b = np.asarray(b).flatten()\n",
    "        N = b.shape[0]\n",
    "    else:\n",
    "        raise ValueError(\"Must provide at least one of A or b to pad.\")\n",
    "\n",
    "    # Compute next power of two ≥ N\n",
    "    n_bits = (N - 1).bit_length()\n",
    "    N2 = 1 << n_bits\n",
    "    M = N2 - N\n",
    "\n",
    "    # If already power-of-two, just return copy(s)\n",
    "    if M == 0:\n",
    "        if A is not None and b is not None:\n",
    "            return A.copy(), b.copy()\n",
    "        elif A is not None:\n",
    "            return A.copy()\n",
    "        else:\n",
    "            return b.copy()\n",
    "\n",
    "    # Build padding structures\n",
    "    pad_id = identity(M, dtype=(A.dtype if A is not None else np.float64), format='csr')\n",
    "\n",
    "    # Pad A if requested\n",
    "    if A is not None:\n",
    "        Apad = block_diag([A, pad_id], format='csr')\n",
    "    # Pad b if requested\n",
    "    if b is not None:\n",
    "        bpad = np.empty(N2, dtype=b.dtype)\n",
    "        bpad[:N] = b\n",
    "        bpad[N:] = 0\n",
    "\n",
    "    # Return according to inputs\n",
    "    if A is not None and b is not None:\n",
    "        return Apad, bpad\n",
    "    elif A is not None:\n",
    "        return Apad\n",
    "    else:\n",
    "        return bpad\n",
    "\n",
    "\n",
    "def recover_full_psi_from_flat(psi_vec: np.ndarray, nx: int, ny: int, boundary: float = 0.0) -> np.ndarray:\n",
    "    \"\"\"\n",
    "    Rebuild a full (nx x ny) array from a flattened interior vector psi_vec.\n",
    "\n",
    "    Parameters\n",
    "    ----------\n",
    "    psi_vec : 1D np.ndarray, length = (nx-2)*(ny-2)\n",
    "        Flattened (row-major) interior values.\n",
    "    nx, ny : int\n",
    "        Full grid dimensions.\n",
    "    boundary : float, optional\n",
    "        Dirichlet boundary value (default 0.0).\n",
    "\n",
    "    Returns\n",
    "    -------\n",
    "    psi_full : 2D np.ndarray, shape (nx, ny)\n",
    "        Full array with psi_full[1:-1,1:-1] filled from psi_vec\n",
    "        and all boundaries set to `boundary`.\n",
    "    \"\"\"\n",
    "    expected = (nx-2) * (ny-2)\n",
    "    if psi_vec.size != expected:\n",
    "        raise ValueError(f\"Expected psi_vec of length {expected}, got {psi_vec.size}\")\n",
    "    \n",
    "    # Reshape back to 2D interior\n",
    "    interior = psi_vec.reshape((nx-2, ny-2))\n",
    "    \n",
    "    # Use psi_vec for the interior nodes\n",
    "    psi_full = np.full((nx, ny), boundary, dtype=psi_vec.dtype)\n",
    "    psi_full[1:-1, 1:-1] = interior\n",
    "    \n",
    "    return psi_full\n",
    "\n",
    "# Claculating eigenvalues of A, using direct formula\n",
    "\n",
    "def eigenvalues_laplacian(nx: int, ny: int) -> np.ndarray:\n",
    "    \"\"\"\n",
    "    Compute the eigenvalues of the 5‑point Laplacian, pentadiagonal matrix on an\n",
    "    (nx-2) by (ny-2) interior grid.\n",
    "\n",
    "    Returns a 2D array of shape ((nx-2), (ny-2)) where\n",
    "        Lambda[p-1, q-1] = 4 - 2*cos(pi*p/(nx-1)) - 2*cos(pi*q/(ny-1))\n",
    "    for p=1..nx-2, q=1..ny-2.\n",
    "    \"\"\"\n",
    "    Nx = nx - 2\n",
    "    Ny = ny - 2\n",
    "\n",
    "    # indices p=1..Nx, q=1..Ny\n",
    "    p = np.arange(1, Nx+1)\n",
    "    q = np.arange(1, Ny+1)\n",
    "\n",
    "    # compute the two cosine terms\n",
    "    cos_p = np.cos(np.pi * p / (Nx + 1))    # shape (Nx,)\n",
    "    cos_q = np.cos(np.pi * q / (Ny + 1))    # shape (Ny,)\n",
    "\n",
    "    # build the full (Nx x Ny) array via broadcasting\n",
    "    Lambda = 4 \\\n",
    "           - 2 * cos_p[:, None] \\\n",
    "           - 2 * cos_q[None, :]\n",
    "\n",
    "    return Lambda\n",
    "\n",
    "def eigenrange_laplacian(nx, ny):\n",
    "    \"\"\"\n",
    "    Compute the minimum and maximum eigenvalues of the discrete 2D Laplacian.\n",
    "\n",
    "    The function calculates an estimate of the eigenvalue range for the\n",
    "    Finite Difference discretization of the 2D Laplacian operator on a\n",
    "    grid of size (nx, ny) with Dirichlet boundary conditions.\n",
    "\n",
    "    Parameters\n",
    "    ----------\n",
    "    nx : int\n",
    "        Number of grid points in the x-direction (including boundaries).\n",
    "    ny : int\n",
    "        Number of grid points in the y-direction (including boundaries).\n",
    "\n",
    "    Returns\n",
    "    -------\n",
    "    tuple of float\n",
    "        (lambda_min, lambda_max)\n",
    "        Minimum and maximum eigenvalues of the discrete Laplacian.\n",
    "    \"\"\"\n",
    "    Nx = nx - 2\n",
    "    Ny = ny - 2\n",
    "\n",
    "    min = (4 \n",
    "    - 2 * np.cos(np.pi / (Nx + 1))\n",
    "    - 2 * np.cos(np.pi / (Ny + 1)))\n",
    "\n",
    "    max = (4 \n",
    "    + 2 * np.cos(np.pi / (Nx + 1))\n",
    "    + 2 * np.cos(np.pi / (Ny + 1)))\n",
    "\n",
    "    return min, max\n",
    "\n",
    "def scale_A(A:csr_matrix, lambda_min, lambda_max, precision):\n",
    "    \"\"\"\n",
    "    Scale sparse matrix A so its eigenvalues fit into:\n",
    "    [1/2^precision, 1]\n",
    "    \n",
    "    Formula:\n",
    "    A_scaled = [(A - min*I)*(1-1/2**precision)/(max-min) \n",
    "    + 1/2**precision *I]\n",
    "    \n",
    "    Returns\n",
    "    scipy.sparse.csr_matrix\n",
    "    The scaled sparse matrix in csr format. \n",
    "    \"\"\"\n",
    "    dim = A.shape[0]\n",
    "    I = identity(dim, format='csr')\n",
    "    scale_factor = (1 - 1 / 2**precision) / (lambda_max - lambda_min)\n",
    "    shift = 1 / 2**precision\n",
    "    A_scaled = (A - lambda_min * I) * scale_factor + shift * I\n",
    "    return A_scaled\n",
    "\n",
    "def scale_b(b_vector: np.ndarray):\n",
    "    \"\"\"\n",
    "    Normalize a vector to have unit L2 norm.\n",
    "    \n",
    "    Parameters\n",
    "    ----------\n",
    "    b_vector : np.ndarray\n",
    "        Input vector to be normalized.\n",
    "        \n",
    "    Returns\n",
    "    -------\n",
    "    np.ndarray\n",
    "        The normalized vector with L2 norm equal to 1.\n",
    "    \"\"\"\n",
    "    if np.linalg.norm(b_vector) == 0:\n",
    "        raise ValueError(\"Cannot normalize a zero vector.\")\n",
    "\n",
    "    b_normalized = b_vector / np.linalg.norm(b_vector)\n",
    "    return b_normalized\n",
    "    "
   ]
  },
  {
   "cell_type": "markdown",
   "id": "c2fcf999-36cf-4536-9661-bd69c254a198",
   "metadata": {
    "id": "c2fcf999-36cf-4536-9661-bd69c254a198",
    "tags": []
   },
   "source": [
    "### Defining Matrix of a Specific Problem"
   ]
  },
  {
   "cell_type": "code",
   "execution_count": 69,
   "id": "9a570e49",
   "metadata": {},
   "outputs": [],
   "source": [
    "a_matrix = np.array(\n",
    "    [\n",
    "        [0.135, -0.092, -0.011, -0.045, -0.026, -0.033, 0.03, 0.034],\n",
    "        [-0.092, 0.115, 0.02, 0.017, 0.044, -0.009, -0.015, -0.072],\n",
    "        [-0.011, 0.02, 0.073, -0.0, -0.068, -0.042, 0.043, -0.011],\n",
    "        [-0.045, 0.017, -0.0, 0.043, 0.028, 0.027, -0.047, -0.005],\n",
    "        [-0.026, 0.044, -0.068, 0.028, 0.21, 0.079, -0.177, -0.05],\n",
    "        [-0.033, -0.009, -0.042, 0.027, 0.079, 0.121, -0.123, 0.021],\n",
    "        [0.03, -0.015, 0.043, -0.047, -0.177, -0.123, 0.224, 0.011],\n",
    "        [0.034, -0.072, -0.011, -0.005, -0.05, 0.021, 0.011, 0.076],\n",
    "    ]\n",
    ")\n",
    "\n",
    "b_vector = np.array(\n",
    "    [\n",
    "        -0.00885448,\n",
    "        -0.17725898,\n",
    "        -0.15441119,\n",
    "        0.17760157,\n",
    "        0.41428775,\n",
    "        0.44735303,\n",
    "        -0.71137715,\n",
    "        0.1878808,\n",
    "    ]\n",
    ")\n",
    "\n",
    "A = a_matrix\n",
    "\n",
    "# Normalize vector b\n",
    "b = b_vector / np.linalg.norm(b_vector)"
   ]
  },
  {
   "cell_type": "markdown",
   "id": "9d70527b",
   "metadata": {},
   "source": [
    "Another problem"
   ]
  },
  {
   "cell_type": "code",
   "execution_count": 16,
   "id": "44b8318d",
   "metadata": {},
   "outputs": [
    {
     "data": {
      "text/latex": [
       "$$\n",
       "\n",
       "\\begin{bmatrix}\n",
       "\\frac{7}{25} & -0.01 & \\frac{1}{50} & - \\frac{1}{10}  \\\\\n",
       " -0.01 & \\frac{1}{2} & - \\frac{11}{50} & -0.07  \\\\\n",
       " \\frac{1}{50} & - \\frac{11}{50} & 0.43 & - \\frac{1}{20}  \\\\\n",
       " - \\frac{1}{10} & -0.07 & - \\frac{1}{20} & \\frac{21}{50}  \\\\\n",
       " \\end{bmatrix}\n",
       "$$"
      ],
      "text/plain": [
       "<IPython.core.display.Latex object>"
      ]
     },
     "metadata": {},
     "output_type": "display_data"
    }
   ],
   "source": [
    "\n",
    "# Define matrix A\n",
    "A = np.array(\n",
    "    [\n",
    "        [0.28, -0.01, 0.02, -0.1],\n",
    "        [-0.01, 0.5, -0.22, -0.07],\n",
    "        [0.02, -0.22, 0.43, -0.05],\n",
    "        [-0.1, -0.07, -0.05, 0.42],\n",
    "    ]\n",
    ")\n",
    "\n",
    "# Define RHS vector b\n",
    "b = np.array([1, 2, 4, 3])\n",
    "\n",
    "# Normalize vector b\n",
    "b = b / np.linalg.norm(b)\n",
    "\n",
    "display(array_to_latex(A))"
   ]
  },
  {
   "cell_type": "code",
   "execution_count": 70,
   "id": "49fe6fd1",
   "metadata": {},
   "outputs": [
    {
     "name": "stdout",
     "output_type": "stream",
     "text": [
      "[[ 0.53488792+0.53862658j  0.3870809 -0.29780241j  0.06740768-0.09562663j\n",
      "   0.15521179-0.15111597j  0.13930567+0.1569899j   0.08930752-0.04262952j\n",
      "  -0.13163075-0.12047571j -0.19237476+0.04415123j]\n",
      " [ 0.3870809 -0.29780241j  0.56453595+0.43379776j -0.08794762+0.12533674j\n",
      "  -0.09712003+0.00361892j -0.17107548+0.01066225j  0.03813674-0.14375349j\n",
      "   0.06106325+0.12424707j  0.28719727-0.26184533j]\n",
      " [ 0.06740768-0.09562663j -0.08794762+0.12533674j  0.82787029+0.31855851j\n",
      "   0.01129763+0.06472478j  0.24565003-0.08256257j  0.16927575-0.03397971j\n",
      "  -0.23596234-0.10407557j  0.04372146-0.07944217j]\n",
      " [ 0.15521179-0.15111597j -0.09712003+0.00361892j  0.01129763+0.06472478j\n",
      "   0.91161941+0.18855076j -0.13423035-0.08733589j -0.11490157+0.00425733j\n",
      "   0.17628759-0.01366995j  0.03920736+0.03228556j]\n",
      " [ 0.13930567+0.1569899j  -0.17107548+0.01066225j  0.24565003-0.08256257j\n",
      "  -0.13423035-0.08733589j  0.22372109+0.18932574j -0.37042464-0.17021709j\n",
      "   0.73266096+0.06042367j  0.17185374-0.1081725j ]\n",
      " [ 0.08930752-0.04262952j  0.03813674-0.14375349j  0.16927575-0.03397971j\n",
      "  -0.11490157+0.00425733j -0.37042464-0.17021709j  0.61310545+0.29808353j\n",
      "   0.50354191-0.02780088j -0.06396045+0.18894282j]\n",
      " [-0.13163075-0.12047571j  0.06106325+0.12424707j -0.23596234-0.10407557j\n",
      "   0.17628759-0.01366995j  0.73266096+0.06042367j  0.50354191-0.02780088j\n",
      "   0.15609357+0.14452411j -0.04972797-0.09339711j]\n",
      " [-0.19237476+0.04415123j  0.28719727-0.26184533j  0.04372146-0.07944217j\n",
      "   0.03920736+0.03228556j  0.17185374-0.1081725j  -0.06396045+0.18894282j\n",
      "  -0.04972797-0.09339711j  0.76846843+0.34121874j]]\n"
     ]
    },
    {
     "data": {
      "text/latex": [
       "$$\n",
       "\n",
       "\\begin{bmatrix}\n",
       "0.5348879237 + 0.5386265786 i & 0.3870808963 - 0.2978024132 i & 0.0674076848 - 0.095626627 i & 0.155211793 - 0.1511159672 i & 0.1393056691 + 0.156989897 i & 0.0893075172 - 0.0426295188 i & -0.1316307463 - 0.1204757143 i & -0.192374761 + 0.0441512273 i  \\\\\n",
       " 0.3870808963 - 0.2978024132 i & 0.5645359465 + 0.4337977647 i & -0.0879476214 + 0.1253367369 i & -0.0971200327 + 0.0036189239 i & -0.171075479 + 0.0106622494 i & 0.0381367359 - 0.143753491 i & 0.0610632462 + 0.1242470738 i & 0.2871972726 - 0.2618453343 i  \\\\\n",
       " 0.0674076848 - 0.095626627 i & -0.0879476214 + 0.1253367369 i & 0.8278702907 + 0.3185585144 i & 0.0112976297 + 0.0647247751 i & 0.2456500291 - 0.0825625748 i & 0.1692757488 - 0.0339797079 i & -0.2359623427 - 0.1040755738 i & 0.0437214552 - 0.0794421745 i  \\\\\n",
       " 0.155211793 - 0.1511159672 i & -0.0971200327 + 0.0036189239 i & 0.0112976297 + 0.0647247751 i & 0.9116194108 + 0.188550755 i & -0.1342303493 - 0.0873358932 i & -0.1149015669 + 0.0042573281 i & 0.1762875899 - 0.0136699488 i & 0.0392073592 + 0.0322855596 i  \\\\\n",
       " 0.1393056691 + 0.156989897 i & -0.171075479 + 0.0106622494 i & 0.2456500291 - 0.0825625748 i & -0.1342303493 - 0.0873358932 i & 0.2237210942 + 0.1893257392 i & -0.3704246398 - 0.1702170894 i & 0.7326609628 + 0.0604236746 i & 0.1718537421 - 0.1081724959 i  \\\\\n",
       " 0.0893075172 - 0.0426295188 i & 0.0381367359 - 0.143753491 i & 0.1692757488 - 0.0339797079 i & -0.1149015669 + 0.0042573281 i & -0.3704246398 - 0.1702170894 i & 0.6131054453 + 0.2980835331 i & 0.5035419069 - 0.027800875 i & -0.0639604464 + 0.1889428214 i  \\\\\n",
       " -0.1316307463 - 0.1204757143 i & 0.0610632462 + 0.1242470738 i & -0.2359623427 - 0.1040755738 i & 0.1762875899 - 0.0136699488 i & 0.7326609628 + 0.0604236746 i & 0.5035419069 - 0.027800875 i & 0.1560935696 + 0.1445241079 i & -0.0497279738 - 0.0933971107 i  \\\\\n",
       " -0.192374761 + 0.0441512273 i & 0.2871972726 - 0.2618453343 i & 0.0437214552 - 0.0794421745 i & 0.0392073592 + 0.0322855596 i & 0.1718537421 - 0.1081724959 i & -0.0639604464 + 0.1889428214 i & -0.0497279738 - 0.0933971107 i & 0.7684684263 + 0.3412187406 i  \\\\\n",
       " \\end{bmatrix}\n",
       "$$"
      ],
      "text/plain": [
       "<IPython.core.display.Latex object>"
      ]
     },
     "metadata": {},
     "output_type": "display_data"
    }
   ],
   "source": [
    "from qiskit.visualization import array_to_latex\n",
    "M = scipy.linalg.expm(2 * np.pi * 1j * A)\n",
    "print(M)\n",
    "display(array_to_latex(M))"
   ]
  },
  {
   "cell_type": "markdown",
   "id": "fdd2c127",
   "metadata": {},
   "source": [
    "### Defining A, b for Streamfunction-Vorticity, Lid Driven Cavity\n",
    "\n",
    "We also need to scale A and obtain the max and min of eigenvalues."
   ]
  },
  {
   "cell_type": "code",
   "execution_count": 12,
   "id": "1e98fe85",
   "metadata": {},
   "outputs": [
    {
     "name": "stdout",
     "output_type": "stream",
     "text": [
      "[[ 4. -1. -1.  0.]\n",
      " [-1.  4.  0. -1.]\n",
      " [-1.  0.  4. -1.]\n",
      " [ 0. -1. -1.  4.]] [-0.00885448 -0.17725898 -0.15441119  0.17760157]\n",
      "[[ 0.515625  -0.2421875 -0.2421875  0.       ]\n",
      " [-0.2421875  0.515625   0.        -0.2421875]\n",
      " [-0.2421875  0.         0.515625  -0.2421875]\n",
      " [ 0.        -0.2421875 -0.2421875  0.515625 ]]\n"
     ]
    }
   ],
   "source": [
    "# Define A and b\n",
    "\n",
    "A = get_A(nx, ny)\n",
    "b = np.array(\n",
    "    [-0.00885448,\n",
    "    -0.17725898,\n",
    "    -0.15441119,\n",
    "    0.17760157,])\n",
    "\n",
    "print(A.toarray(),b)\n",
    "\n",
    "min, max = eigenrange_laplacian(nx, ny)\n",
    "\n",
    "A_scaled = scale_A(A, min, max, precision)\n",
    "print(A_scaled.toarray())\n",
    "\n",
    "A = A_scaled.toarray()"
   ]
  },
  {
   "cell_type": "code",
   "execution_count": 13,
   "id": "be9d807b-7536-4968-8a18-397f69763964",
   "metadata": {
    "colab": {
     "base_uri": "https://localhost:8080/"
    },
    "id": "be9d807b-7536-4968-8a18-397f69763964",
    "outputId": "ebd3420c-1c0b-48aa-9fa8-03e2565068eb"
   },
   "outputs": [
    {
     "name": "stdout",
     "output_type": "stream",
     "text": [
      "Eigenvalues are not in (0,1)\n",
      "\n",
      "Eigenvalues:\n",
      "0.00000111111111111111111111111111 =~ 0.031249999999999976\n",
      "0.100001 =~ 0.515625\n",
      "0.100001 =~ 0.5156250000000004\n",
      "0.1 =~ 1.000000000000001\n"
     ]
    }
   ],
   "source": [
    "# Verify if the matrix is symmetric and has eigenvalues in (0,1)\n",
    "if not np.allclose(A, A.T, rtol=1e-6, atol=1e-6):\n",
    "    print(\"The matrix is not symmetric\")\n",
    "w, v = np.linalg.eig(A)\n",
    "for lam in w:\n",
    "    if lam < 0 or lam > 1:\n",
    "        print(\"Eigenvalues are not in (0,1)\")\n",
    "        break\n",
    "\n",
    "# Binary representation of eigenvalues (classically calculated)\n",
    "m = 32  # Precision of a binary representation, e.g. 32 binary digits\n",
    "sign = lambda num: \"-\" if num < 0 else \"\"  # Calculate sign of a number\n",
    "binary = lambda fraction: str(\n",
    "    np.binary_repr(int(np.abs(fraction) * 2 ** (m))).zfill(m)\n",
    ").rstrip(\n",
    "    \"0\"\n",
    ")  # Binary representation of a fraction\n",
    "\n",
    "print()\n",
    "print(\"Eigenvalues:\")\n",
    "for eig in sorted(w):\n",
    "    print(f\"{sign(eig)}0.{binary(eig.real)} =~ {eig.real}\")"
   ]
  },
  {
   "cell_type": "markdown",
   "id": "xn9Sk0zWIG8P",
   "metadata": {
    "id": "xn9Sk0zWIG8P"
   },
   "source": [
    "## Define Hamiltonian"
   ]
  },
  {
   "cell_type": "markdown",
   "id": "1bd14c32-152e-486c-afdf-cdb5e4658c75",
   "metadata": {
    "id": "1bd14c32-152e-486c-afdf-cdb5e4658c75"
   },
   "source": [
    "The unitary operator is essential for Quantum Phase Estimation (QPE) function code block and can be constructed directly from the Hamiltonian, representing given problem, defined by matrix $A$. Having the matrix or the Hamiltonian defined, the unitary operator can be created with the [`qpe_flexible`](https://github.com/Classiq/classiq-library/blob/main/functions/qmod_library_reference/classiq_open_library/qpe/qpe.ipynb) function by passing in the `unitary_with_power` argument a callable function that applies a unitary operation raised to a given power.\n",
    "\n",
    "\n",
    "The built-in function `matrix_to_hamiltonian` encodes the matrix $A$ into a sum of Pauli strings, which then allows to encode the unitary matrix $U=e^{iA}$ with a product formula (Suzuki-Trotter). The number of qubits is stored in the variable `n`. This is a classical pre-processing that can be done with different methods of decomposition, for example you can compare with method described in [[2](#PauliDecomposition)]."
   ]
  },
  {
   "cell_type": "code",
   "execution_count": 71,
   "id": "gyUPCdYxwRu-",
   "metadata": {
    "colab": {
     "base_uri": "https://localhost:8080/"
    },
    "id": "gyUPCdYxwRu-",
    "outputId": "44ddf200-f108-4da0-e12a-b9f3ac46a62a"
   },
   "outputs": [
    {
     "name": "stdout",
     "output_type": "stream",
     "text": [
      "Pauli strings list: \n",
      "\n",
      "[<Pauli.I: 0>, <Pauli.I: 0>, <Pauli.I: 0>] :  0.125\n",
      "[<Pauli.I: 0>, <Pauli.I: 0>, <Pauli.Z: 3>] :  0.036\n",
      "[<Pauli.I: 0>, <Pauli.Z: 3>, <Pauli.I: 0>] :  0.021\n",
      "[<Pauli.I: 0>, <Pauli.Z: 3>, <Pauli.Z: 3>] :  -0.009\n",
      "[<Pauli.Z: 3>, <Pauli.I: 0>, <Pauli.I: 0>] :  -0.033\n",
      "[<Pauli.Z: 3>, <Pauli.I: 0>, <Pauli.Z: 3>] :  -0.023\n",
      "[<Pauli.Z: 3>, <Pauli.Z: 3>, <Pauli.I: 0>] :  0.013\n",
      "[<Pauli.Z: 3>, <Pauli.Z: 3>, <Pauli.Z: 3>] :  0.006\n",
      "[<Pauli.I: 0>, <Pauli.I: 0>, <Pauli.X: 1>] :  -0.001\n",
      "[<Pauli.I: 0>, <Pauli.Z: 3>, <Pauli.X: 1>] :  -0.006\n",
      "[<Pauli.Z: 3>, <Pauli.I: 0>, <Pauli.X: 1>] :  -0.046\n",
      "[<Pauli.Z: 3>, <Pauli.Z: 3>, <Pauli.X: 1>] :  -0.04\n",
      "[<Pauli.I: 0>, <Pauli.X: 1>, <Pauli.I: 0>] :  -0.038\n",
      "[<Pauli.I: 0>, <Pauli.X: 1>, <Pauli.Z: 3>] :  -0.056\n",
      "[<Pauli.Z: 3>, <Pauli.X: 1>, <Pauli.I: 0>] :  0.04\n",
      "[<Pauli.Z: 3>, <Pauli.X: 1>, <Pauli.Z: 3>] :  0.042\n",
      "[<Pauli.I: 0>, <Pauli.X: 1>, <Pauli.X: 1>] :  -0.049\n",
      "[<Pauli.I: 0>, <Pauli.Y: 2>, <Pauli.Y: 2>] :  -0.002\n",
      "[<Pauli.Z: 3>, <Pauli.X: 1>, <Pauli.X: 1>] :  0.037\n",
      "[<Pauli.Z: 3>, <Pauli.Y: 2>, <Pauli.Y: 2>] :  0.034\n",
      "[<Pauli.X: 1>, <Pauli.I: 0>, <Pauli.I: 0>] :  0.001\n",
      "[<Pauli.X: 1>, <Pauli.I: 0>, <Pauli.Z: 3>] :  0.008\n",
      "[<Pauli.X: 1>, <Pauli.Z: 3>, <Pauli.I: 0>] :  -0.018\n",
      "[<Pauli.X: 1>, <Pauli.Z: 3>, <Pauli.Z: 3>] :  -0.016\n",
      "[<Pauli.X: 1>, <Pauli.I: 0>, <Pauli.X: 1>] :  -0.012\n",
      "[<Pauli.X: 1>, <Pauli.Z: 3>, <Pauli.X: 1>] :  0.017\n",
      "[<Pauli.Y: 2>, <Pauli.I: 0>, <Pauli.Y: 2>] :  0.01\n",
      "[<Pauli.Y: 2>, <Pauli.Z: 3>, <Pauli.Y: 2>] :  0.028\n",
      "[<Pauli.X: 1>, <Pauli.X: 1>, <Pauli.I: 0>] :  -0.021\n",
      "[<Pauli.X: 1>, <Pauli.X: 1>, <Pauli.Z: 3>] :  0.002\n",
      "[<Pauli.Y: 2>, <Pauli.Y: 2>, <Pauli.I: 0>] :  0.0\n",
      "[<Pauli.Y: 2>, <Pauli.Y: 2>, <Pauli.Z: 3>] :  -0.049\n",
      "[<Pauli.X: 1>, <Pauli.X: 1>, <Pauli.X: 1>] :  0.001\n",
      "[<Pauli.X: 1>, <Pauli.Y: 2>, <Pauli.Y: 2>] :  -0.03\n",
      "[<Pauli.Y: 2>, <Pauli.X: 1>, <Pauli.Y: 2>] :  0.005\n",
      "[<Pauli.Y: 2>, <Pauli.Y: 2>, <Pauli.X: 1>] :  -0.008\n",
      "\n",
      "Number of qubits for matrix representation = 3\n"
     ]
    }
   ],
   "source": [
    "from classiq import *\n",
    "\n",
    "hamiltonian = matrix_to_hamiltonian(A)\n",
    "n = len(hamiltonian[0].pauli)\n",
    "print(\"Pauli strings list: \\n\")\n",
    "for pterm in hamiltonian:\n",
    "    print(pterm.pauli, \": \", np.round(pterm.coefficient, 3))\n",
    "\n",
    "print(\"\\nNumber of qubits for matrix representation =\", n)"
   ]
  },
  {
   "cell_type": "markdown",
   "id": "w6OqgvnoCFW8",
   "metadata": {
    "id": "w6OqgvnoCFW8"
   },
   "source": [
    "## How to Build the Algorithm with Classiq"
   ]
  },
  {
   "cell_type": "markdown",
   "id": "_LZAMICoINZW",
   "metadata": {
    "id": "_LZAMICoINZW"
   },
   "source": [
    "### The Quantum Part"
   ]
  },
  {
   "cell_type": "markdown",
   "id": "EISOx1HoIlpF",
   "metadata": {
    "id": "EISOx1HoIlpF"
   },
   "source": [
    "#### Prepare Initial State for the Vector $\\vec{b}$\n",
    "\n",
    "The first step of the HHL algorithm is to load the elements of normalized RHS vector $\\vec{b}$, into a quantum register:\n",
    "$$\n",
    "|0\\rangle_n \\xrightarrow[{\\rm SP}]{} \\sum^{2^n-1}_{i=0}b_i|i\\rangle_n,\n",
    "$$\n",
    "where $|i\\rangle$ are the states in computational basis.\n",
    "\n",
    "Below, we define the quantum function `load_b` using the built-in function [`prepare_amplitudes`](https://github.com/Classiq/classiq-library/blob/main/functions/qmod_library_reference/qmod_core_library/prepare_state_and_amplitudes/prepare_state_and_amplitudes.ipynb). This function loads $2^n$ elements of the vector $\\vec{b}$ into the `amplitudes` parameter. When we use the `load_b` function, the amplitudes of the state in the output register `state` will correspond to the values of the vector $\\vec{b}$.\n"
   ]
  },
  {
   "cell_type": "code",
   "execution_count": 72,
   "id": "cbpnJEkP_MOz",
   "metadata": {
    "id": "cbpnJEkP_MOz"
   },
   "outputs": [],
   "source": [
    "# Encode b as amplitudes\n",
    "@qfunc\n",
    "def load_b(amplitudes: CArray[CReal], state: Output[QArray]) -> None:\n",
    "    prepare_amplitudes(amplitudes, 0.0, state)"
   ]
  },
  {
   "cell_type": "markdown",
   "id": "4dU1HTL-Nr7j",
   "metadata": {
    "id": "4dU1HTL-Nr7j"
   },
   "source": [
    "#### Define HHL Quantum Function"
   ]
  },
  {
   "cell_type": "markdown",
   "id": "5mqn0qrlzcQ-",
   "metadata": {
    "id": "5mqn0qrlzcQ-"
   },
   "source": [
    "The `hhl` function performs matrix eigenvalue inversion using flexible quantum phase estimation [`qpe_flexible`](https://github.com/Classiq/classiq-library/blob/main/functions/qmod_library_reference/classiq_open_library/qpe/qpe.ipynb), with the use of the [`within_apply`](https://docs.classiq.io/latest/qmod-reference/language-reference/statements/within-apply/) construct and the `assign_amplitude` function (see [amplitude encoding assignment](https://docs.classiq.io/latest/qmod-reference/language-reference/statements/amplitude-encoding-assignment/) built-in).\n",
    "\n",
    "The `hhl` function returns normalized solution, by creating a state:\n",
    "$$\n",
    "\\sum^{2^n-1}_{j=0}{\\beta_j |\\tilde{\\lambda_j}\\rangle_m |u_j\\rangle_n \\left(\\sqrt{1-\\frac{C^2}{\\tilde{\\lambda}^2_j}}|0\\rangle_a + \\frac{C}{\\tilde{\\lambda}_j}|1\\rangle_a \\right)} = \\tilde{C} |{\\rm garbage}\\rangle|0\\rangle + C |A^{-1}b\\rangle|1\\rangle,\n",
    "$$\n",
    "\n",
    "where $\\tilde{C}$ and $|{\\rm garbage}\\rangle$ are irrelevant quantities, as the solution is entangled with the `indicator` output qubit at state $|1\\rangle$. The state entangled with $|1\\rangle$ stores the solution to the specific problem (up to the normalization coefficient):\n",
    "$$\n",
    "\\sum^{2^n-1}_{j=0} \\frac{C}{\\lambda_j}\\beta_j  \\vec{\\psi_j} = C|A^{-1}b\\rangle = C|x\\rangle.\n",
    "$$\n",
    "\n",
    "The normalization coefficient $C = \\frac{1}{\\Vert A^{-1}\\vec{b}\\Vert}$ has to be chosen with $O(1/\\kappa)$, which ensures the amplitudes are normalized. However, here we can use the smallest eigenvalue approximation that the QPE can resolve $C = 1/2^{\\rm precision}$, because it lower bounds the minimum eigenvalue.\n",
    "\n",
    "**Arguments:**\n",
    "- `unitary_with_power`: A callable function that applies a unitary operation raised to a power `k`.\n",
    "- `precision`: An integer representing the precision of the phase estimation process (number of `phase` qubits).\n",
    "- `state`: An array representing the initial quantum state $|b\\rangle$ on which the matrix inversion is to be performed.\n",
    "- `indicator`: An auxiliary qubit that stores result of the inversion and indicates if the phase qubits returns normalized solution."
   ]
  },
  {
   "cell_type": "code",
   "execution_count": 73,
   "id": "eejE_t4cN2dZ",
   "metadata": {
    "id": "eejE_t4cN2dZ"
   },
   "outputs": [],
   "source": [
    "# Parameters for the initial state preparation\n",
    "amplitudes = b.tolist()\n",
    "\n",
    "precision = precision\n",
    "\n",
    "# Function for the main quantum program\n",
    "@qfunc\n",
    "def hhl(\n",
    "    rhs_vector: CArray[CReal],\n",
    "    precision: CInt,\n",
    "    hamiltonian_evolution_with_power: QCallable[CInt, QArray],\n",
    "    state: Output[QArray],\n",
    "    phase: Output[QNum],\n",
    "    indicator: Output[QBit],\n",
    "):\n",
    "    # Allocate \"precision\" number of qubits. All of which are fractions: 0.123456. For comparison consider 12.3456\n",
    "    # The quantum register that holds this info is called \"phase\".\n",
    "    allocate(num_qubits=precision, is_signed=UNSIGNED, fraction_digits=precision, out=phase) \n",
    "\n",
    "    # Prepare \"b\", assigned to a quantum register called \"state\". \n",
    "    load_b(amplitudes=amplitudes, state=state)\n",
    "\n",
    "    # Allocate a single qubit to the quantum register called \"indicator\". \n",
    "    # We will perform controlled rotations onto this \"indicator\". \n",
    "    allocate(indicator)\n",
    "\n",
    "    # Perform quantum phase estimation and eigenvalue inversion\n",
    "    within_apply(\n",
    "        # Within block: on the outside, i.e., QPE and QPE^-1\n",
    "        lambda: qpe_flexible(\n",
    "            # A function that performs U operation k (or 2^k) times on the quantum register, \"state\", which encodes b. \n",
    "            unitary_with_power =\n",
    "                # hamiltonian_evolution_with_power(k, qreg) is the function that generates U from A, \n",
    "                # and can repeat itself k (or 2^k) times. \n",
    "                lambda k: hamiltonian_evolution_with_power(k, state),\n",
    "            # The outputs (eigenvalues info) are stored in the \"phase\" quantum register\n",
    "            phase=phase,\n",
    "        ),\n",
    "        # Apply block: on the inside\n",
    "        # Generates C/lambda |1>, where C = 1 / 2**phase.size. Note that C must be a lower bound for the smallest eigenvalue.\n",
    "        # However, this also explains why synthesis takes so long. \n",
    "        # We are supposed to perform the controlled rotations with eigenvalues as controls, and the indicator is the target.\n",
    "        # But here, it computes classical arithmetics to obtain C/lambda given variable lambda, then assigns C/lambda to the indicator qubit. \n",
    "        lambda: assign_amplitude(\n",
    "            # This is C/lambda, \n",
    "            # where \"phase\" (lambda), in the form of |10010>,\n",
    "            # is interpreted as a binary decimal, 0.10010\n",
    "            # C is a lowerbound of the lambda's, since we have scaled A.\n",
    "            (1 / 2**phase.size) / phase,\n",
    "            # C/lambda is amplitude assigned to the indicator qubit\n",
    "            indicator\n",
    "        ),\n",
    "    )\n"
   ]
  },
  {
   "cell_type": "markdown",
   "id": "a9012395-5cbf-43b2-8c1a-46f09deff431",
   "metadata": {
    "id": "a9012395-5cbf-43b2-8c1a-46f09deff431"
   },
   "source": [
    "#### Set Execution Preferences\n",
    "\n",
    "We prepare for the quantum program execution stage by providing execution details and constructing a representation of HHL model from a function defined in Quantum Modelling Language [Qmod](https://docs.classiq.io/latest/qmod-reference/). The resulting circuit is executed on a statevector simulator. For other available Classiq simulated backends see [Execution on Classiq simulators](https://docs.classiq.io/latest/user-guide/execution/cloud-providers/classiq-backends/).\n",
    "\n",
    "To define this part of the model, we set the backend preferences by placing `ClassiqBackendPreferences` with the backend name `SIMULATOR_STATEVECTOR` into the `ExecutionPreferences`."
   ]
  },
  {
   "cell_type": "code",
   "execution_count": 74,
   "id": "7cb726cf-05b7-4cde-b906-f2a65002ec55",
   "metadata": {
    "id": "7cb726cf-05b7-4cde-b906-f2a65002ec55"
   },
   "outputs": [],
   "source": [
    "from classiq.execution import (\n",
    "    ClassiqBackendPreferences,\n",
    "    ClassiqSimulatorBackendNames,\n",
    "    ExecutionPreferences,\n",
    ")\n",
    "\n",
    "backend_preferences = ClassiqBackendPreferences(\n",
    "    backend_name=ClassiqSimulatorBackendNames.SIMULATOR_STATEVECTOR\n",
    ")\n",
    "\n",
    "\n",
    "# Prepare quantum model for simulation\n",
    "# With optional execution preferences.\n",
    "def hhl_model(main, backend_preferences):\n",
    "    qmod_hhl = create_model(\n",
    "        main,\n",
    "        execution_preferences=ExecutionPreferences(\n",
    "            num_shots=1, backend_preferences=backend_preferences\n",
    "        ),\n",
    "    )\n",
    "    return qmod_hhl"
   ]
  },
  {
   "cell_type": "markdown",
   "id": "6CqLnPaXJciT",
   "metadata": {
    "id": "6CqLnPaXJciT"
   },
   "source": [
    "### The Classical Postprocess"
   ]
  },
  {
   "cell_type": "markdown",
   "id": "6ec5d598-de3d-44b1-866c-39490350f79f",
   "metadata": {
    "id": "6ec5d598-de3d-44b1-866c-39490350f79f"
   },
   "source": [
    "After running the circuit a given number of times and collecting measurement results from the ancillary and phase qubits we need to postprocess the data in order to find solution. Measurement values from circuit execution are denoted here by `res_hhl`.\n",
    "\n",
    "We will create helper function `read_positions` that will return:\n",
    "- `target_pos`: the position of the control qubit (ancilla) `indicator`,\n",
    "- `sol_pos`: the positions of the solution register `res` and\n",
    "- `phase_pos`: the positions of the phase qubits."
   ]
  },
  {
   "cell_type": "code",
   "execution_count": 75,
   "id": "648879af-eda8-4259-9f7e-006d126872c6",
   "metadata": {
    "id": "648879af-eda8-4259-9f7e-006d126872c6"
   },
   "outputs": [],
   "source": [
    "def read_positions(circuit_hhl, res_hhl):\n",
    "    # positions of control qubit\n",
    "    target_pos = res_hhl.physical_qubits_map[\"indicator\"][0]\n",
    "\n",
    "    # positions of solution\n",
    "    sol_pos = list(res_hhl.physical_qubits_map[\"res\"])\n",
    "\n",
    "    # Finds the position of the \"phase\" register and flips for endianness, as you will use the indices to read directly from the string\n",
    "    total_q = circuit_hhl.data.width  # total number of qubits of the whole circuit\n",
    "    phase_pos = [\n",
    "        total_q - k - 1 for k in range(total_q) if k not in sol_pos + [target_pos]\n",
    "    ]\n",
    "    return target_pos, sol_pos, phase_pos"
   ]
  },
  {
   "cell_type": "code",
   "execution_count": null,
   "id": "dea19a8f",
   "metadata": {},
   "outputs": [
    {
     "data": {
      "text/plain": [
       "{'res': (6, 7), 'phase': (0, 1, 2, 3, 4), 'indicator': (5,)}"
      ]
     },
     "execution_count": 42,
     "metadata": {},
     "output_type": "execute_result"
    }
   ],
   "source": [
    "res_psi_exact.physical_qubits_map"
   ]
  },
  {
   "cell_type": "code",
   "execution_count": 44,
   "id": "3a922e4f",
   "metadata": {},
   "outputs": [
    {
     "data": {
      "text/plain": [
       "[6, 7]"
      ]
     },
     "execution_count": 44,
     "metadata": {},
     "output_type": "execute_result"
    }
   ],
   "source": [
    "list(res_psi_exact.physical_qubits_map[\"res\"])"
   ]
  },
  {
   "cell_type": "code",
   "execution_count": 47,
   "id": "242d453e",
   "metadata": {},
   "outputs": [
    {
     "data": {
      "text/plain": [
       "5"
      ]
     },
     "execution_count": 47,
     "metadata": {},
     "output_type": "execute_result"
    }
   ],
   "source": [
    "res_psi_exact.physical_qubits_map[\"indicator\"][0]"
   ]
  },
  {
   "cell_type": "code",
   "execution_count": 51,
   "id": "2d75b9d1",
   "metadata": {},
   "outputs": [
    {
     "data": {
      "text/plain": [
       "(5, [6, 7], [7, 6, 5, 4, 3])"
      ]
     },
     "execution_count": 51,
     "metadata": {},
     "output_type": "execute_result"
    }
   ],
   "source": [
    "read_positions(qprog_psi_exact,res_psi_exact)"
   ]
  },
  {
   "cell_type": "code",
   "execution_count": 88,
   "id": "58a7329a",
   "metadata": {},
   "outputs": [
    {
     "data": {
      "text/plain": [
       "9"
      ]
     },
     "execution_count": 88,
     "metadata": {},
     "output_type": "execute_result"
    }
   ],
   "source": [
    "qprog_hhl_exact.data.width"
   ]
  },
  {
   "cell_type": "code",
   "execution_count": 86,
   "id": "1233e2e0",
   "metadata": {},
   "outputs": [
    {
     "data": {
      "text/plain": [
       "{'res': (6, 7, 8), 'phase': (0, 1, 2, 3, 4), 'indicator': (5,)}"
      ]
     },
     "execution_count": 86,
     "metadata": {},
     "output_type": "execute_result"
    }
   ],
   "source": [
    "res_hhl_exact.physical_qubits_map"
   ]
  },
  {
   "cell_type": "code",
   "execution_count": null,
   "id": "f537dee1",
   "metadata": {},
   "outputs": [
    {
     "data": {
      "text/plain": [
       "[SimulatedState(state={'res': 6, 'phase': 0.0, 'indicator': 0}, bitstring='110000000', amplitude=(-0.6981152737103573-1.1102230246251565e-15j)),\n",
       " SimulatedState(state={'res': 5, 'phase': 0.0, 'indicator': 0}, bitstring='101000000', amplitude=(0.48199208192360415-6.106226635438361e-16j)),\n",
       " SimulatedState(state={'res': 4, 'phase': 0.0, 'indicator': 0}, bitstring='100000000', amplitude=(0.4071863852589702-3.0808688933348094e-15j)),\n",
       " SimulatedState(state={'res': 7, 'phase': 0.0, 'indicator': 0}, bitstring='111000000', amplitude=(0.1664596437359431-6.800116025829084e-16j)),\n",
       " SimulatedState(state={'res': 1, 'phase': 0.0, 'indicator': 0}, bitstring='001000000', amplitude=(-0.16190157731556573+7.355227538141662e-16j)),\n",
       " SimulatedState(state={'res': 2, 'phase': 0.0, 'indicator': 0}, bitstring='010000000', amplitude=(-0.15858877444523972+4.0245584642661925e-16j)),\n",
       " SimulatedState(state={'res': 3, 'phase': 0.0, 'indicator': 0}, bitstring='011000000', amplitude=(0.14123577131348028+1.3183898417423734e-16j)),\n",
       " SimulatedState(state={'res': 6, 'phase': 0.0, 'indicator': 1}, bitstring='110100000', amplitude=(-0.07986606366940885+5.551115123125783e-17j)),\n",
       " SimulatedState(state={'res': 3, 'phase': 0.0, 'indicator': 1}, bitstring='011100000', amplitude=(0.05606053788955576-3.8510861166685117e-16j)),\n",
       " SimulatedState(state={'res': 7, 'phase': 0.0, 'indicator': 1}, bitstring='111100000', amplitude=(0.052526675440261274+4.371503159461554e-16j)),\n",
       " SimulatedState(state={'res': 1, 'phase': 0.0, 'indicator': 1}, bitstring='001100000', amplitude=(-0.045923206632864644+6.591949208711867e-17j)),\n",
       " SimulatedState(state={'res': 2, 'phase': 0.0, 'indicator': 1}, bitstring='010100000', amplitude=(0.020690557723917542+8.291978215169138e-16j)),\n",
       " SimulatedState(state={'res': 4, 'phase': 0.0, 'indicator': 1}, bitstring='100100000', amplitude=(0.011672386192878874+4.163336342344337e-17j)),\n",
       " SimulatedState(state={'res': 5, 'phase': 0.0, 'indicator': 1}, bitstring='101100000', amplitude=(0.011364987843455786-1.6479873021779667e-17j)),\n",
       " SimulatedState(state={'res': 7, 'phase': 0.5, 'indicator': 0}, bitstring='111010000', amplitude=(-7.298849025172416e-16+0.008019628904145211j)),\n",
       " SimulatedState(state={'res': 7, 'phase': 0.5, 'indicator': 1}, bitstring='111110000', amplitude=(1.1475195793586579e-15-0.007693048693909349j)),\n",
       " SimulatedState(state={'res': 5, 'phase': 0.5, 'indicator': 0}, bitstring='101010000', amplitude=(3.1858196636314062e-15-0.004995940272176254j)),\n",
       " SimulatedState(state={'res': 5, 'phase': 0.5, 'indicator': 1}, bitstring='101110000', amplitude=(5.767955557622884e-17+0.00481375102569979j)),\n",
       " SimulatedState(state={'res': 3, 'phase': 0.5, 'indicator': 1}, bitstring='011110000', amplitude=(-6.925883477837402e-16+0.004496999369087107j)),\n",
       " SimulatedState(state={'res': 3, 'phase': 0.5, 'indicator': 0}, bitstring='011010000', amplitude=(2.074295596399267e-15-0.004496508361898389j)),\n",
       " SimulatedState(state={'res': 7, 'phase': 0.25, 'indicator': 1}, bitstring='111101000', amplitude=(3.8250652645288596e-16-0.004191197124992135j)),\n",
       " SimulatedState(state={'res': 7, 'phase': 0.25, 'indicator': 0}, bitstring='111001000', amplitude=(-9.280770596475918e-17+0.003684484601024855j)),\n",
       " SimulatedState(state={'res': 1, 'phase': 0.5, 'indicator': 1}, bitstring='001110000', amplitude=(8.977193988179977e-17-0.0035414019381045207j)),\n",
       " SimulatedState(state={'res': 1, 'phase': 0.5, 'indicator': 0}, bitstring='001010000', amplitude=(4.0115480381963664e-17+0.003535961602295149j)),\n",
       " SimulatedState(state={'res': 6, 'phase': 0.5, 'indicator': 0}, bitstring='110010000', amplitude=(-4.580103657447765e-15-0.003529411886378758j)),\n",
       " SimulatedState(state={'res': 6, 'phase': 0.5, 'indicator': 1}, bitstring='110110000', amplitude=(1.3704315460216776e-16+0.0033697643465247233j)),\n",
       " SimulatedState(state={'res': 7, 'phase': 0.75, 'indicator': 0}, bitstring='111011000', amplitude=(0.002948195829431267+4.521123059264553e-16j)),\n",
       " SimulatedState(state={'res': 0, 'phase': 0.0, 'indicator': 1}, bitstring='000100000', amplitude=(-0.002825059884799793+5.074066167232161e-17j)),\n",
       " SimulatedState(state={'res': 5, 'phase': 0.25, 'indicator': 1}, bitstring='101101000', amplitude=(8.868773770931426e-17+0.0024449899484198655j)),\n",
       " SimulatedState(state={'res': 3, 'phase': 0.25, 'indicator': 1}, bitstring='011101000', amplitude=(-3.4932993997482953e-16+0.002431986881030264j)),\n",
       " SimulatedState(state={'res': 5, 'phase': 0.25, 'indicator': 0}, bitstring='101001000', amplitude=(1.7599853865957193e-15-0.0021878622335505258j)),\n",
       " SimulatedState(state={'res': 3, 'phase': 0.25, 'indicator': 0}, bitstring='011001000', amplitude=(3.3263322651855276e-16-0.0020403678006305354j)),\n",
       " SimulatedState(state={'res': 7, 'phase': 0.125, 'indicator': 1}, bitstring='111100100', amplitude=(-2.4969176032341167e-16-0.0019993428947790923j)),\n",
       " SimulatedState(state={'res': 3, 'phase': 0.75, 'indicator': 0}, bitstring='011011000', amplitude=(-0.0019519712497010223-4.711942641622002e-16j)),\n",
       " SimulatedState(state={'res': 1, 'phase': 0.25, 'indicator': 1}, bitstring='001101000', amplitude=(3.961674738262033e-16-0.0018267536684170062j)),\n",
       " SimulatedState(state={'res': 0, 'phase': 0.5, 'indicator': 0}, bitstring='000010000', amplitude=(-7.222954873098431e-16-0.0017463529492558563j)),\n",
       " SimulatedState(state={'res': 7, 'phase': 0.125, 'indicator': 0}, bitstring='111000100', amplitude=(-3.122502256758253e-16+0.0017323562147645577j)),\n",
       " SimulatedState(state={'res': 5, 'phase': 0.75, 'indicator': 0}, bitstring='101011000', amplitude=(-0.0016798994451013615+2.7863995832877464e-16j)),\n",
       " SimulatedState(state={'res': 0, 'phase': 0.5, 'indicator': 1}, bitstring='000110000', amplitude=(-4.0440741033709315e-16+0.0016630653476778755j)),\n",
       " SimulatedState(state={'res': 1, 'phase': 0.75, 'indicator': 0}, bitstring='001011000', amplitude=(0.001639992534919853-2.409097227262791e-16j)),\n",
       " SimulatedState(state={'res': 7, 'phase': 0.75, 'indicator': 1}, bitstring='111111000', amplitude=(-0.001616887018850362-1.2609271266006417e-16j)),\n",
       " SimulatedState(state={'res': 6, 'phase': 0.25, 'indicator': 1}, bitstring='110101000', amplitude=(-3.7025504190379976e-16+0.0015589316656284447j)),\n",
       " SimulatedState(state={'res': 1, 'phase': 0.25, 'indicator': 0}, bitstring='001001000', amplitude=(2.3787395664331967e-16+0.0015006893386688598j)),\n",
       " SimulatedState(state={'res': 5, 'phase': 0.125, 'indicator': 1}, bitstring='101100100', amplitude=(-7.079840186330344e-17+0.0014205945387238972j)),\n",
       " SimulatedState(state={'res': 6, 'phase': 0.75, 'indicator': 0}, bitstring='110011000', amplitude=(-0.001400965977998143-4.649058915617843e-16j)),\n",
       " SimulatedState(state={'res': 3, 'phase': 0.125, 'indicator': 1}, bitstring='011100100', amplitude=(-3.3263322651855276e-16+0.0013514420596470378j)),\n",
       " SimulatedState(state={'res': 3, 'phase': 0.75, 'indicator': 1}, bitstring='011111000', amplitude=(0.0013363045205617003-7.24247051220317e-17j)),\n",
       " SimulatedState(state={'res': 6, 'phase': 0.25, 'indicator': 0}, bitstring='110001000', amplitude=(-1.859948826898883e-15-0.0012761751745200057j)),\n",
       " SimulatedState(state={'res': 5, 'phase': 0.625, 'indicator': 0}, bitstring='101010100', amplitude=(-0.001259244417118475-4.850720519700147e-16j)),\n",
       " SimulatedState(state={'res': 3, 'phase': 0.625, 'indicator': 0}, bitstring='011010100', amplitude=(-0.001214835971663727+7.947201924318748e-17j)),\n",
       " SimulatedState(state={'res': 1, 'phase': 0.75, 'indicator': 1}, bitstring='001111000', amplitude=(-0.0012101694831072936-1.9938477952008427e-16j)),\n",
       " SimulatedState(state={'res': 5, 'phase': 0.75, 'indicator': 1}, bitstring='101111000', amplitude=(0.001149689854459543+1.0196921432226169e-16j)),\n",
       " SimulatedState(state={'res': 7, 'phase': 0.625, 'indicator': 0}, bitstring='111010100', amplitude=(0.001122137577651674+8.435635003023467e-16j)),\n",
       " SimulatedState(state={'res': 5, 'phase': 0.125, 'indicator': 0}, bitstring='101000100', amplitude=(2.6573795247619714e-16-0.0011089830483042443j)),\n",
       " SimulatedState(state={'res': 5, 'phase': 0.625, 'indicator': 1}, bitstring='101110100', amplitude=(0.0010350622281874878-1.0787811616230769e-17j)),\n",
       " SimulatedState(state={'res': 3, 'phase': 0.125, 'indicator': 0}, bitstring='011000100', amplitude=(-1.0136748211653224e-15-0.0010110413287870905j)),\n",
       " SimulatedState(state={'res': 0, 'phase': 0.25, 'indicator': 1}, bitstring='000101000', amplitude=(-4.92227786308419e-17+0.0010073856451963774j)),\n",
       " SimulatedState(state={'res': 3, 'phase': 0.625, 'indicator': 1}, bitstring='011110100', amplitude=(0.0009716562072400529+1.8106176280507924e-17j)),\n",
       " SimulatedState(state={'res': 7, 'phase': 0.0625, 'indicator': 1}, bitstring='111100010', amplitude=(2.0946785972419946e-16-0.0009589746216063567j)),\n",
       " SimulatedState(state={'res': 1, 'phase': 0.125, 'indicator': 1}, bitstring='001100100', amplitude=(1.8014019095846656e-16-0.0009552943593128979j)),\n",
       " SimulatedState(state={'res': 6, 'phase': 0.75, 'indicator': 1}, bitstring='110111000', amplitude=(0.000954913444399932+1.2880321809127793e-16j)),\n",
       " SimulatedState(state={'res': 1, 'phase': 0.625, 'indicator': 0}, bitstring='001010100', amplitude=(0.000907579996908935-3.01950305037213e-17j)),\n",
       " SimulatedState(state={'res': 0, 'phase': 0.25, 'indicator': 0}, bitstring='000001000', amplitude=(-3.603345920255574e-16-0.0009006356048522048j)),\n",
       " SimulatedState(state={'res': 2, 'phase': 0.75, 'indicator': 0}, bitstring='010011000', amplitude=(-0.0008659023757952728+2.2442984970449942e-17j)),\n",
       " SimulatedState(state={'res': 7, 'phase': 0.0625, 'indicator': 0}, bitstring='111000010', amplitude=(1.895456448047783e-15+0.0008476183172934507j)),\n",
       " SimulatedState(state={'res': 1, 'phase': 0.625, 'indicator': 1}, bitstring='001110100', amplitude=(-0.0007779914210683471+1.2419535885821453e-16j)),\n",
       " SimulatedState(state={'res': 2, 'phase': 0.75, 'indicator': 1}, bitstring='010111000', amplitude=(0.0007457371095023671-3.061244834012822e-16j)),\n",
       " SimulatedState(state={'res': 6, 'phase': 0.125, 'indicator': 1}, bitstring='110100100', amplitude=(7.8984128265569e-17+0.0007448841249712505j)),\n",
       " SimulatedState(state={'res': 5, 'phase': 0.0625, 'indicator': 1}, bitstring='101100010', amplitude=(9.009720053354542e-17+0.0007327211172183406j)),\n",
       " SimulatedState(state={'res': 1, 'phase': 0.125, 'indicator': 0}, bitstring='001000100', amplitude=(2.4448758989548125e-17+0.0007203155036549966j)),\n",
       " SimulatedState(state={'res': 1, 'phase': 0.5625, 'indicator': 0}, bitstring='001010010', amplitude=(0.0007120170025865527-2.1708437998591013e-15j)),\n",
       " SimulatedState(state={'res': 5, 'phase': 0.375, 'indicator': 1}, bitstring='101101100', amplitude=(0.0007096284635236405+1.02619735625753e-16j)),\n",
       " SimulatedState(state={'res': 1, 'phase': 0.5625, 'indicator': 1}, bitstring='001110010', amplitude=(-0.0006939554154800873-3.163701939312702e-16j)),\n",
       " SimulatedState(state={'res': 0, 'phase': 0.75, 'indicator': 0}, bitstring='000011000', amplitude=(-0.0006878017776414069+2.4015078120553923e-17j)),\n",
       " SimulatedState(state={'res': 7, 'phase': 0.375, 'indicator': 0}, bitstring='111001100', amplitude=(0.0006691465818198849-2.321276851291465e-16j)),\n",
       " SimulatedState(state={'res': 3, 'phase': 0.0625, 'indicator': 1}, bitstring='011100010', amplitude=(7.361732751176575e-17+0.0006610475803578427j)),\n",
       " SimulatedState(state={'res': 7, 'phase': 0.625, 'indicator': 1}, bitstring='111110100', amplitude=(-0.000647096211878292-8.673617379884035e-18j)),\n",
       " SimulatedState(state={'res': 3, 'phase': 0.375, 'indicator': 1}, bitstring='011101100', amplitude=(0.000645915634219605+2.198762005800603e-16j)),\n",
       " SimulatedState(state={'res': 5, 'phase': 0.5625, 'indicator': 0}, bitstring='101010010', amplitude=(-0.000642313752897444+4.949382917396328e-17j)),\n",
       " SimulatedState(state={'res': 5, 'phase': 0.875, 'indicator': 0}, bitstring='101011100', amplitude=(-1.566672139241554e-17+0.0006420856956688837j)),\n",
       " SimulatedState(state={'res': 6, 'phase': 0.625, 'indicator': 0}, bitstring='110010100', amplitude=(-0.0006203895375067246-1.0787811616230769e-16j)),\n",
       " SimulatedState(state={'res': 5, 'phase': 0.53125, 'indicator': 1}, bitstring='101110001', amplitude=(0.0006021410255412806+2.93086952277144e-16j)),\n",
       " SimulatedState(state={'res': 5, 'phase': 0.53125, 'indicator': 0}, bitstring='101010001', amplitude=(-0.0006013326248063542-6.970064716366187e-16j)),\n",
       " SimulatedState(state={'res': 6, 'phase': 0.125, 'indicator': 0}, bitstring='110000100', amplitude=(8.998878031629687e-18-0.0005833291986090052j)),\n",
       " SimulatedState(state={'res': 4, 'phase': 0.5, 'indicator': 0}, bitstring='100010000', amplitude=(2.8906185171179155e-15+0.0005730257912062827j)),\n",
       " SimulatedState(state={'res': 4, 'phase': 0.53125, 'indicator': 1}, bitstring='100110001', amplitude=(0.0005708862772883089+2.1684043449710089e-16j)),\n",
       " SimulatedState(state={'res': 4, 'phase': 0.5, 'indicator': 1}, bitstring='100110000', amplitude=(9.059593353288875e-16-0.0005691087756148345j)),\n",
       " SimulatedState(state={'res': 1, 'phase': 0.0625, 'indicator': 1}, bitstring='001100010', amplitude=(2.99781900692242e-17-0.0005605185523050257j)),\n",
       " SimulatedState(state={'res': 5, 'phase': 0.5625, 'indicator': 1}, bitstring='101110010', amplitude=(0.0005594808016745796+5.0903291998194433e-17j)),\n",
       " SimulatedState(state={'res': 5, 'phase': 0.0625, 'indicator': 0}, bitstring='101000010', amplitude=(-1.016168486162039e-16-0.0005501085479438537j)),\n",
       " SimulatedState(state={'res': 3, 'phase': 0.375, 'indicator': 0}, bitstring='011001100', amplitude=(-0.0005461393964291563+4.75287127363333e-16j)),\n",
       " SimulatedState(state={'res': 5, 'phase': 0.375, 'indicator': 0}, bitstring='101001100', amplitude=(-0.0005324332054161946-5.643272307787051e-16j)),\n",
       " SimulatedState(state={'res': 4, 'phase': 0.25, 'indicator': 0}, bitstring='100001000', amplitude=(1.3929016360464397e-15+0.0005265793693189347j)),\n",
       " SimulatedState(state={'res': 1, 'phase': 0.375, 'indicator': 1}, bitstring='001101100', amplitude=(-0.000525797801113792-2.158375474875518e-16j)),\n",
       " SimulatedState(state={'res': 7, 'phase': 0.375, 'indicator': 1}, bitstring='111101100', amplitude=(-0.0005158250481348247+1.4972832002024816e-16j)),\n",
       " SimulatedState(state={'res': 3, 'phase': 0.5625, 'indicator': 0}, bitstring='011010010', amplitude=(-0.0005137965054727759-1.811701830223278e-16j)),\n",
       " SimulatedState(state={'res': 4, 'phase': 0.25, 'indicator': 1}, bitstring='100101000', amplitude=(7.209944447028604e-17-0.0005077647681269321j)),\n",
       " SimulatedState(state={'res': 4, 'phase': 0.125, 'indicator': 1}, bitstring='100100100', amplitude=(9.250955036732567e-17-0.0005072221668808109j)),\n",
       " SimulatedState(state={'res': 6, 'phase': 0.625, 'indicator': 1}, bitstring='110110100', amplitude=(0.0005033353404000531+4.450649918052996e-17j)),\n",
       " SimulatedState(state={'res': 7, 'phase': 0.03125, 'indicator': 1}, bitstring='111100001', amplitude=(-5.824876171678373e-17-0.0004969890002838541j)),\n",
       " SimulatedState(state={'res': 3, 'phase': 0.0625, 'indicator': 0}, bitstring='011000010', amplitude=(3.2938062000109625e-16-0.0004939854385352067j)),\n",
       " SimulatedState(state={'res': 4, 'phase': 0.78125, 'indicator': 0}, bitstring='100011001', amplitude=(6.099179321317205e-16+0.0004902379633089492j)),\n",
       " SimulatedState(state={'res': 7, 'phase': 0.875, 'indicator': 1}, bitstring='111111100', amplitude=(-1.0790522121661983e-16-0.0004839575681669265j)),\n",
       " SimulatedState(state={'res': 2, 'phase': 0.625, 'indicator': 0}, bitstring='010010100', amplitude=(-0.0004815281354250087+1.421931149214739e-16j)),\n",
       " SimulatedState(state={'res': 4, 'phase': 0.78125, 'indicator': 1}, bitstring='100111001', amplitude=(2.49556235051851e-16-0.00047487059918255894j)),\n",
       " SimulatedState(state={'res': 6, 'phase': 0.53125, 'indicator': 1}, bitstring='110110001', amplitude=(-0.0004744000084428027-4.073889663114283e-16j)),\n",
       " SimulatedState(state={'res': 4, 'phase': 0.53125, 'indicator': 0}, bitstring='100010001', amplitude=(-0.00047162187878446813-2.530636290798416e-15j)),\n",
       " SimulatedState(state={'res': 7, 'phase': 0.5625, 'indicator': 0}, bitstring='111010010', amplitude=(0.0004630297236061459+4.663966695489519e-16j)),\n",
       " SimulatedState(state={'res': 1, 'phase': 0.3125, 'indicator': 1}, bitstring='001101010', amplitude=(-0.0004412585468826364-2.9362905336338674e-16j)),\n",
       " SimulatedState(state={'res': 2, 'phase': 0.625, 'indicator': 1}, bitstring='010110100', amplitude=(0.00043231375014116493-1.7780915628762273e-16j)),\n",
       " SimulatedState(state={'res': 2, 'phase': 0.5, 'indicator': 1}, bitstring='010110000', amplitude=(4.775910569798647e-17+0.000429591214096512j)),\n",
       " SimulatedState(state={'res': 7, 'phase': 0.03125, 'indicator': 0}, bitstring='111000001', amplitude=(-2.4794619482571e-15+0.00042595731274798346j)),\n",
       " SimulatedState(state={'res': 5, 'phase': 0.78125, 'indicator': 0}, bitstring='101011001', amplitude=(-3.6857452853644723e-16+0.00042106728743080725j)),\n",
       " SimulatedState(state={'res': 4, 'phase': 0.65625, 'indicator': 1}, bitstring='100110101', amplitude=(1.3847972248071105e-16-0.00041928334202298275j)),\n",
       " SimulatedState(state={'res': 5, 'phase': 0.03125, 'indicator': 1}, bitstring='101100001', amplitude=(2.040197438074598e-16+0.0004154231147650018j)),\n",
       " SimulatedState(state={'res': 3, 'phase': 0.875, 'indicator': 0}, bitstring='011011100', amplitude=(-3.735889635841927e-16+0.0004142128098742078j)),\n",
       " SimulatedState(state={'res': 3, 'phase': 0.5625, 'indicator': 1}, bitstring='011110010', amplitude=(0.000413731042734175-1.256861368453821e-16j)),\n",
       " SimulatedState(state={'res': 6, 'phase': 0.375, 'indicator': 1}, bitstring='110101100', amplitude=(0.00041106936414502746+7.868597266813548e-17j)),\n",
       " SimulatedState(state={'res': 1, 'phase': 0.375, 'indicator': 0}, bitstring='001001100', amplitude=(0.0004090435614387827-1.5875430310618999e-16j)),\n",
       " SimulatedState(state={'res': 1, 'phase': 0.8125, 'indicator': 0}, bitstring='001011010', amplitude=(-4.046784608802145e-17-0.00040651304521813376j)),\n",
       " SimulatedState(state={'res': 6, 'phase': 0.78125, 'indicator': 0}, bitstring='110011001', amplitude=(-5.750337272319994e-16-0.00040174916129796816j)),\n",
       " SimulatedState(state={'res': 5, 'phase': 0.3125, 'indicator': 1}, bitstring='101101010', amplitude=(0.000400493895521668-6.58652819784944e-17j)),\n",
       " SimulatedState(state={'res': 6, 'phase': 0.875, 'indicator': 0}, bitstring='110011100', amplitude=(1.8257964584655895e-16+0.0004002719372083706j)),\n",
       " SimulatedState(state={'res': 3, 'phase': 0.53125, 'indicator': 0}, bitstring='011010001', amplitude=(-0.0003969663515278866+6.288372600415926e-17j)),\n",
       " SimulatedState(state={'res': 6, 'phase': 0.53125, 'indicator': 0}, bitstring='110010001', amplitude=(0.00039293244632551504-1.3522440545782333e-15j)),\n",
       " SimulatedState(state={'res': 4, 'phase': 0.6875, 'indicator': 1}, bitstring='100110110', amplitude=(-1.5598958756635195e-16-0.0003885484530568269j)),\n",
       " SimulatedState(state={'res': 0, 'phase': 0.125, 'indicator': 0}, bitstring='000000100', amplitude=(2.907017074976759e-16-0.0003825687542867147j)),\n",
       " SimulatedState(state={'res': 7, 'phase': 0.53125, 'indicator': 0}, bitstring='111010001', amplitude=(0.0003819727493205605+1.591879839751842e-16j)),\n",
       " SimulatedState(state={'res': 6, 'phase': 0.78125, 'indicator': 1}, bitstring='110111001', amplitude=(-3.405750074320091e-16+0.0003732262477339369j)),\n",
       " SimulatedState(state={'res': 3, 'phase': 0.53125, 'indicator': 1}, bitstring='011110001', amplitude=(0.00036976149623330767+1.282882220593473e-16j)),\n",
       " SimulatedState(state={'res': 1, 'phase': 0.0625, 'indicator': 0}, bitstring='001000010', amplitude=(1.3683173517853309e-15+0.0003675741574404247j)),\n",
       " SimulatedState(state={'res': 5, 'phase': 0.28125, 'indicator': 1}, bitstring='101101001', amplitude=(0.00036668945990356804+1.1684988913962524e-16j)),\n",
       " SimulatedState(state={'res': 0, 'phase': 0.6875, 'indicator': 0}, bitstring='000010110', amplitude=(1.4755991567527715e-16+0.00035817657145626673j)),\n",
       " SimulatedState(state={'res': 1, 'phase': 0.875, 'indicator': 0}, bitstring='001011100', amplitude=(-1.2555061157382141e-16-0.0003554489754491122j)),\n",
       " SimulatedState(state={'res': 0, 'phase': 0.875, 'indicator': 0}, bitstring='000011100', amplitude=(1.355523766150002e-16-0.00035431317897625947j)),\n",
       " SimulatedState(state={'res': 4, 'phase': 0.65625, 'indicator': 0}, bitstring='100010101', amplitude=(-1.3983226469088672e-15+0.0003535443832574032j)),\n",
       " SimulatedState(state={'res': 3, 'phase': 0.03125, 'indicator': 1}, bitstring='011100001', amplitude=(4.461491939777851e-17+0.00035238464562008557j)),\n",
       " SimulatedState(state={'res': 6, 'phase': 0.0625, 'indicator': 1}, bitstring='110100010', amplitude=(-2.290377089375628e-16+0.00034873744275786716j)),\n",
       " SimulatedState(state={'res': 4, 'phase': 0.625, 'indicator': 0}, bitstring='100010100', amplitude=(0.00033965365172247626-1.0359009657012752e-15j)),\n",
       " SimulatedState(state={'res': 4, 'phase': 0.125, 'indicator': 0}, bitstring='100000100', amplitude=(2.9429583769946532e-15+0.0003371251256567919j)),\n",
       " SimulatedState(state={'res': 2, 'phase': 0.25, 'indicator': 1}, bitstring='010101000', amplitude=(-3.063684288900914e-16+0.00033563969652988817j)),\n",
       " SimulatedState(state={'res': 6, 'phase': 0.375, 'indicator': 0}, bitstring='110001100', amplitude=(-0.0003334226532706353-1.8108886785939138e-16j)),\n",
       " SimulatedState(state={'res': 0, 'phase': 0.125, 'indicator': 1}, bitstring='000100100', amplitude=(1.3644684340730073e-16+0.0003302246347718574j)),\n",
       " SimulatedState(state={'res': 5, 'phase': 0.8125, 'indicator': 0}, bitstring='101011010', amplitude=(-7.345469718589293e-18+0.0003275542628282061j)),\n",
       " SimulatedState(state={'res': 0, 'phase': 0.6875, 'indicator': 1}, bitstring='000110110', amplitude=(1.2349062744609896e-16-0.000325017279326744j)),\n",
       " SimulatedState(state={'res': 7, 'phase': 0.3125, 'indicator': 0}, bitstring='111001010', amplitude=(0.0003131250206572883-3.6000933137381175e-16j)),\n",
       " SimulatedState(state={'res': 0, 'phase': 0.9375, 'indicator': 0}, bitstring='000011110', amplitude=(0.00030589910911297884+3.685474234821351e-16j)),\n",
       " SimulatedState(state={'res': 7, 'phase': 0.53125, 'indicator': 1}, bitstring='111110001', amplitude=(-0.0003047377424362664-5.285485590866834e-18j)),\n",
       " SimulatedState(state={'res': 3, 'phase': 0.3125, 'indicator': 1}, bitstring='011101010', amplitude=(0.0003029849999661621+7.109655746073695e-17j)),\n",
       " SimulatedState(state={'res': 0, 'phase': 0.875, 'indicator': 1}, bitstring='000111100', amplitude=(-1.7293024651143796e-17+0.0002992062319512154j)),\n",
       " SimulatedState(state={'res': 4, 'phase': 0.6875, 'indicator': 0}, bitstring='100010110', amplitude=(-1.4682807920884944e-16+0.00029695626495123643j)),\n",
       " SimulatedState(state={'res': 5, 'phase': 0.9375, 'indicator': 1}, bitstring='101111110', amplitude=(0.00029589922482274475-5.937362147073744e-17j)),\n",
       " SimulatedState(state={'res': 1, 'phase': 0.59375, 'indicator': 1}, bitstring='001110011', amplitude=(4.472333961502706e-18-0.0002909174126006871j)),\n",
       " SimulatedState(state={'res': 4, 'phase': 0.40625, 'indicator': 1}, bitstring='100101101', amplitude=(1.2344996986463075e-16-0.00029090015491151056j)),\n",
       " SimulatedState(state={'res': 0, 'phase': 0.5625, 'indicator': 0}, bitstring='000010010', amplitude=(-0.00028963080996501214+5.642459156157686e-16j)),\n",
       " SimulatedState(state={'res': 4, 'phase': 0.75, 'indicator': 1}, bitstring='100111000', amplitude=(0.00028641989662540174-1.336821278674627e-16j)),\n",
       " SimulatedState(state={'res': 5, 'phase': 0.03125, 'indicator': 0}, bitstring='101000001', amplitude=(1.3381765313902338e-15-0.00028329419160622396j)),\n",
       " SimulatedState(state={'res': 0, 'phase': 0.75, 'indicator': 1}, bitstring='000111000', amplitude=(0.0002805180604985389-2.951198313505543e-16j)),\n",
       " SimulatedState(state={'res': 6, 'phase': 0.0625, 'indicator': 0}, bitstring='110000010', amplitude=(-2.373860656657012e-16-0.000280475725378263j)),\n",
       " SimulatedState(state={'res': 4, 'phase': 0.90625, 'indicator': 0}, bitstring='100011101', amplitude=(0.0002802373004900236-7.675067179024886e-16j)),\n",
       " SimulatedState(state={'res': 5, 'phase': 0.3125, 'indicator': 0}, bitstring='101001010', amplitude=(-0.00027518015603483916+3.2511157394693457e-16j)),\n",
       " SimulatedState(state={'res': 4, 'phase': 0.28125, 'indicator': 1}, bitstring='100101001', amplitude=(0.0002740014369523307+1.3823577699190182e-17j)),\n",
       " SimulatedState(state={'res': 7, 'phase': 0.8125, 'indicator': 1}, bitstring='111111010', amplitude=(2.8514517136368767e-17-0.00027272061736277023j)),\n",
       " SimulatedState(state={'res': 4, 'phase': 0.0625, 'indicator': 1}, bitstring='100100010', amplitude=(1.7658942884357653e-17-0.00026873775651174676j)),\n",
       " SimulatedState(state={'res': 0, 'phase': 0.5625, 'indicator': 1}, bitstring='000110010', amplitude=(0.00026569622103895054+7.026985330421676e-17j)),\n",
       " SimulatedState(state={'res': 5, 'phase': 0.6875, 'indicator': 1}, bitstring='101110110', amplitude=(-2.2510747606230286e-17+0.0002605138710408327j)),\n",
       " SimulatedState(state={'res': 3, 'phase': 0.3125, 'indicator': 0}, bitstring='011001010', amplitude=(-0.00025971081222791266+9.291748143472334e-16j)),\n",
       " SimulatedState(state={'res': 1, 'phase': 0.3125, 'indicator': 0}, bitstring='001001010', amplitude=(0.00025715744671110327-5.093175230522218e-16j)),\n",
       " SimulatedState(state={'res': 7, 'phase': 0.5625, 'indicator': 1}, bitstring='111110010', amplitude=(-0.00025681950326027464-6.696303667813597e-17j)),\n",
       " SimulatedState(state={'res': 4, 'phase': 0.9375, 'indicator': 0}, bitstring='100011110', amplitude=(0.00025541673857445686-5.3044591288853304e-17j)),\n",
       " SimulatedState(state={'res': 1, 'phase': 0.03125, 'indicator': 1}, bitstring='001100001', amplitude=(1.3704315460216776e-16-0.0002539907046655032j)),\n",
       " SimulatedState(state={'res': 0, 'phase': 0.0625, 'indicator': 1}, bitstring='000100010', amplitude=(3.302208766847725e-16+0.00025239905716751025j)),\n",
       " SimulatedState(state={'res': 7, 'phase': 0.1875, 'indicator': 1}, bitstring='111100110', amplitude=(-0.0002514970930213846-1.2872190292834151e-16j)),\n",
       " SimulatedState(state={'res': 3, 'phase': 0.03125, 'indicator': 0}, bitstring='011000001', amplitude=(2.3249766912050718e-15-0.00025006788764567574j)),\n",
       " SimulatedState(state={'res': 7, 'phase': 0.6875, 'indicator': 0}, bitstring='111010110', amplitude=(6.330792010414421e-16-0.0002443843486586117j)),\n",
       " SimulatedState(state={'res': 1, 'phase': 0.1875, 'indicator': 1}, bitstring='001100110', amplitude=(-0.0002430907395870013-7.738493006115288e-18j)),\n",
       " SimulatedState(state={'res': 6, 'phase': 0.5625, 'indicator': 0}, bitstring='110010010', amplitude=(-0.00024276452488721753+2.168810920785691e-16j)),\n",
       " SimulatedState(state={'res': 0, 'phase': 0.59375, 'indicator': 1}, bitstring='000110011', amplitude=(-1.463672932855431e-17+0.00023490457977230007j)),\n",
       " SimulatedState(state={'res': 3, 'phase': 0.28125, 'indicator': 1}, bitstring='011101001', amplitude=(0.00023440380164232695-4.233809483555895e-17j)),\n",
       " SimulatedState(state={'res': 4, 'phase': 0.4375, 'indicator': 1}, bitstring='100101110', amplitude=(-3.1265680149050734e-17-0.00023383173827585372j)),\n",
       " SimulatedState(state={'res': 1, 'phase': 0.59375, 'indicator': 0}, bitstring='001010011', amplitude=(-2.1134352948259938e-15+0.00022974146065290105j)),\n",
       " SimulatedState(state={'res': 1, 'phase': 0.84375, 'indicator': 0}, bitstring='001011011', amplitude=(0.00022695317613366468+2.5844669286623212e-17j)),\n",
       " SimulatedState(state={'res': 7, 'phase': 0.3125, 'indicator': 1}, bitstring='111101010', amplitude=(-0.00022660961438918643+1.2774612097310456e-16j)),\n",
       " SimulatedState(state={'res': 3, 'phase': 0.6875, 'indicator': 1}, bitstring='011110110', amplitude=(-9.626360038955672e-17+0.00022512619736724071j)),\n",
       " SimulatedState(state={'res': 3, 'phase': 0.9375, 'indicator': 1}, bitstring='011111110', amplitude=(0.00021405561380663383+6.040361353459867e-17j)),\n",
       " SimulatedState(state={'res': 4, 'phase': 0.625, 'indicator': 1}, bitstring='100110100', amplitude=(-0.00021240286787300248-1.8259319837371502e-16j)),\n",
       " SimulatedState(state={'res': 7, 'phase': 0.59375, 'indicator': 0}, bitstring='111010011', amplitude=(-7.503356659957494e-16-0.0002096250816038481j)),\n",
       " SimulatedState(state={'res': 6, 'phase': 0.65625, 'indicator': 1}, bitstring='110110101', amplitude=(-1.9270338363214234e-16+0.00020939081760236797j)),\n",
       " SimulatedState(state={'res': 5, 'phase': 0.78125, 'indicator': 1}, bitstring='101111001', amplitude=(1.183406671267928e-16-0.00020929150061626704j)),\n",
       " SimulatedState(state={'res': 0, 'phase': 0.625, 'indicator': 1}, bitstring='000110100', amplitude=(-0.00020875048070186132-4.1061446777457267e-16j)),\n",
       " SimulatedState(state={'res': 1, 'phase': 0.84375, 'indicator': 1}, bitstring='001111011', amplitude=(-0.00020842659888676337-6.032229837166225e-17j)),\n",
       " SimulatedState(state={'res': 0, 'phase': 0.0625, 'indicator': 0}, bitstring='000000010', amplitude=(1.5900502485857726e-15-0.00020572672970813402j)),\n",
       " SimulatedState(state={'res': 4, 'phase': 0.75, 'indicator': 0}, bitstring='100011000', amplitude=(-0.0002027932591862732-2.526868688249029e-16j)),\n",
       " SimulatedState(state={'res': 7, 'phase': 0.28125, 'indicator': 1}, bitstring='111101001', amplitude=(-0.00020178355777338548-5.040184849341989e-17j)),\n",
       " SimulatedState(state={'res': 6, 'phase': 0.5625, 'indicator': 1}, bitstring='110110010', amplitude=(0.0002009347922570083+9.005654295207721e-17j)),\n",
       " SimulatedState(state={'res': 4, 'phase': 0.59375, 'indicator': 1}, bitstring='100110011', amplitude=(2.55858160179423e-16-0.000200552608015446j)),\n",
       " SimulatedState(state={'res': 5, 'phase': 0.9375, 'indicator': 0}, bitstring='101011110', amplitude=(-0.00020006498040909873-6.231723036903558e-16j)),\n",
       " SimulatedState(state={'res': 6, 'phase': 0.28125, 'indicator': 1}, bitstring='110101001', amplitude=(-0.0001979512612085779+4.933119884809045e-18j)),\n",
       " SimulatedState(state={'res': 2, 'phase': 0.125, 'indicator': 1}, bitstring='010100100', amplitude=(-3.6456298049825087e-17+0.00019666780227622135j)),\n",
       " SimulatedState(state={'res': 0, 'phase': 0.59375, 'indicator': 0}, bitstring='000010011', amplitude=(7.315925209389063e-16-0.0001960106044636872j)),\n",
       " SimulatedState(state={'res': 3, 'phase': 0.78125, 'indicator': 0}, bitstring='011011001', amplitude=(2.517652969782902e-16+0.0001923030891952437j)),\n",
       " SimulatedState(state={'res': 7, 'phase': 0.1875, 'indicator': 0}, bitstring='111000110', amplitude=(0.000192133905119126+6.70484175992192e-16j)),\n",
       " SimulatedState(state={'res': 7, 'phase': 0.59375, 'indicator': 1}, bitstring='111110011', amplitude=(-2.9097275804079725e-17+0.00019150976611790612j)),\n",
       " SimulatedState(state={'res': 0, 'phase': 0.71875, 'indicator': 1}, bitstring='000110111', amplitude=(0.00018919973552878613+6.047137617037901e-17j)),\n",
       " SimulatedState(state={'res': 0, 'phase': 0.4375, 'indicator': 1}, bitstring='000101110', amplitude=(6.572975670693371e-18-0.00018509958277914998j)),\n",
       " SimulatedState(state={'res': 5, 'phase': 0.28125, 'indicator': 0}, bitstring='101001001', amplitude=(-0.00018498407892197834+1.4776862459348061e-15j)),\n",
       " SimulatedState(state={'res': 0, 'phase': 0.1875, 'indicator': 1}, bitstring='000100110', amplitude=(0.00018181816113198328-1.510158101000747e-16j)),\n",
       " SimulatedState(state={'res': 6, 'phase': 0.3125, 'indicator': 1}, bitstring='110101010', amplitude=(0.00018124807427946898+5.898059818321144e-17j)),\n",
       " SimulatedState(state={'res': 0, 'phase': 0.84375, 'indicator': 0}, bitstring='000011011', amplitude=(-0.00018078391981152803+3.2955680285412514e-16j)),\n",
       " SimulatedState(state={'res': 7, 'phase': 0.28125, 'indicator': 0}, bitstring='111001001', amplitude=(0.00018000107963389431-1.3528268132459442e-15j)),\n",
       " SimulatedState(state={'res': 4, 'phase': 0.8125, 'indicator': 1}, bitstring='100111010', amplitude=(6.098637220230962e-19-0.0001771617891515916j)),\n",
       " SimulatedState(state={'res': 1, 'phase': 0.03125, 'indicator': 0}, bitstring='001000001', amplitude=(2.856628779010495e-15+0.00017685370259651852j)),\n",
       " SimulatedState(state={'res': 7, 'phase': 0.65625, 'indicator': 0}, bitstring='111010101', amplitude=(7.189615656294501e-16-0.0001755840563429278j)),\n",
       " SimulatedState(state={'res': 0, 'phase': 0.71875, 'indicator': 0}, bitstring='000010111', amplitude=(-0.0001751969737890743-1.2364648150839375e-15j)),\n",
       " SimulatedState(state={'res': 4, 'phase': 0.15625, 'indicator': 1}, bitstring='100100101', amplitude=(0.00017435522606288484-2.545977751539086e-16j)),\n",
       " SimulatedState(state={'res': 4, 'phase': 0.9375, 'indicator': 1}, bitstring='100111110', amplitude=(-0.000172870637997575+7.888926057547652e-17j)),\n",
       " SimulatedState(state={'res': 6, 'phase': 0.40625, 'indicator': 1}, bitstring='110101101', amplitude=(-2.774744409933527e-16+0.00016867329604276213j)),\n",
       " SimulatedState(state={'res': 7, 'phase': 0.15625, 'indicator': 1}, bitstring='111100101', amplitude=(-0.00016814771850232692-1.9325903724554117e-17j)),\n",
       " SimulatedState(state={'res': 4, 'phase': 0.0625, 'indicator': 0}, bitstring='100000010', amplitude=(2.137341952729299e-15+0.00016774870171294863j)),\n",
       " SimulatedState(state={'res': 1, 'phase': 0.9375, 'indicator': 1}, bitstring='001111110', amplitude=(-0.00016608266638740529+1.228672111969198e-16j)),\n",
       " SimulatedState(state={'res': 5, 'phase': 0.15625, 'indicator': 1}, bitstring='101100101', amplitude=(0.00016329699935294762-1.0476103491641187e-17j)),\n",
       " SimulatedState(state={'res': 7, 'phase': 0.84375, 'indicator': 0}, bitstring='111011011', amplitude=(-0.0001594674223196618-3.771126206447706e-16j)),\n",
       " SimulatedState(state={'res': 4, 'phase': 0.34375, 'indicator': 1}, bitstring='100101011', amplitude=(1.3983497519631793e-16-0.00015873546291883604j)),\n",
       " SimulatedState(state={'res': 6, 'phase': 0.65625, 'indicator': 0}, bitstring='110010101', amplitude=(-3.1655992931145516e-16-0.00015742339887831353j)),\n",
       " SimulatedState(state={'res': 6, 'phase': 0.90625, 'indicator': 0}, bitstring='110011101', amplitude=(-0.00015638004757540633-9.746706480101563e-16j)),\n",
       " SimulatedState(state={'res': 0, 'phase': 0.78125, 'indicator': 0}, bitstring='000011001', amplitude=(6.043613959977323e-16-0.00015519650011797502j)),\n",
       " SimulatedState(state={'res': 0, 'phase': 0.78125, 'indicator': 1}, bitstring='000111001', amplitude=(-3.5236570605778894e-17+0.0001551362740850397j)),\n",
       " SimulatedState(state={'res': 1, 'phase': 0.34375, 'indicator': 1}, bitstring='001101011', amplitude=(-2.839254439196415e-17-0.00015460907246980793j)),\n",
       " SimulatedState(state={'res': 3, 'phase': 0.28125, 'indicator': 0}, bitstring='011001001', amplitude=(-0.00015265069894486837-4.935423814425577e-16j)),\n",
       " SimulatedState(state={'res': 0, 'phase': 0.84375, 'indicator': 1}, bitstring='000111011', amplitude=(0.00015225929190306823+5.689350900117685e-17j)),\n",
       " SimulatedState(state={'res': 4, 'phase': 0.875, 'indicator': 1}, bitstring='100111100', amplitude=(-5.766600304907277e-17-0.00015219520077600765j)),\n",
       " SimulatedState(state={'res': 6, 'phase': 0.3125, 'indicator': 0}, bitstring='110001010', amplitude=(-0.00015212332515407158+4.362287440995427e-16j)),\n",
       " SimulatedState(state={'res': 5, 'phase': 0.1875, 'indicator': 1}, bitstring='101100110', amplitude=(0.00014940572181375902-8.670229248095018e-17j)),\n",
       " SimulatedState(state={'res': 4, 'phase': 0.96875, 'indicator': 1}, bitstring='100111111', amplitude=(1.742177365912645e-17-0.00014694044477464685j)),\n",
       " SimulatedState(state={'res': 0, 'phase': 0.96875, 'indicator': 0}, bitstring='000011111', amplitude=(-1.9181569310341984e-16+0.00014605828621631661j)),\n",
       " SimulatedState(state={'res': 5, 'phase': 0.90625, 'indicator': 1}, bitstring='101111101', amplitude=(0.0001456194950703485-7.269575566515307e-17j)),\n",
       " SimulatedState(state={'res': 3, 'phase': 0.9375, 'indicator': 0}, bitstring='011011110', amplitude=(-0.00014456316641344623-7.746624522408929e-17j)),\n",
       " SimulatedState(state={'res': 2, 'phase': 0.78125, 'indicator': 0}, bitstring='010011001', amplitude=(1.928517838045013e-15-0.00014219144585529358j)),\n",
       " SimulatedState(state={'res': 1, 'phase': 0.53125, 'indicator': 0}, bitstring='001010001', amplitude=(0.0001417331386571328+1.7687538716656959e-15j)),\n",
       " SimulatedState(state={'res': 6, 'phase': 0.8125, 'indicator': 0}, bitstring='110011010', amplitude=(-1.6382972452613775e-16+0.00014150710159219608j)),\n",
       " SimulatedState(state={'res': 3, 'phase': 0.1875, 'indicator': 1}, bitstring='011100110', amplitude=(0.00014108294393675222+4.868067754459915e-17j)),\n",
       " SimulatedState(state={'res': 4, 'phase': 0.59375, 'indicator': 0}, bitstring='100010011', amplitude=(6.504941984369905e-16+0.0001409986194998463j)),\n",
       " SimulatedState(state={'res': 2, 'phase': 0.375, 'indicator': 1}, bitstring='010101100', amplitude=(0.000134789675337309+1.657677359094556e-16j)),\n",
       " SimulatedState(state={'res': 1, 'phase': 0.6875, 'indicator': 0}, bitstring='001010110', amplitude=(-2.1770101997151126e-16-0.00013394003140855805j)),\n",
       " SimulatedState(state={'res': 6, 'phase': 0.1875, 'indicator': 1}, bitstring='110100110', amplitude=(0.00013305413769879032+5.1154013750581706e-17j)),\n",
       " SimulatedState(state={'res': 5, 'phase': 0.4375, 'indicator': 1}, bitstring='101101110', amplitude=(-8.466263714396183e-17+0.00013232948151178475j)),\n",
       " SimulatedState(state={'res': 4, 'phase': 0.375, 'indicator': 1}, bitstring='100101100', amplitude=(-0.00013125348424766517-9.519972700780532e-17j)),\n",
       " SimulatedState(state={'res': 2, 'phase': 0.78125, 'indicator': 1}, bitstring='010111001', amplitude=(1.2313826174004117e-16+0.00013113043933865492j)),\n",
       " SimulatedState(state={'res': 0, 'phase': 0.3125, 'indicator': 1}, bitstring='000101010', amplitude=(0.00013064629202228357-3.853661096828165e-17j)),\n",
       " SimulatedState(state={'res': 3, 'phase': 0.8125, 'indicator': 1}, bitstring='011111010', amplitude=(-1.9260173967847183e-16+0.00013036704084733725j)),\n",
       " SimulatedState(state={'res': 7, 'phase': 0.9375, 'indicator': 0}, bitstring='111011110', amplitude=(-0.0001295128439299606+3.160991433881488e-16j)),\n",
       " SimulatedState(state={'res': 0, 'phase': 0.9375, 'indicator': 1}, bitstring='000111110', amplitude=(-0.00012660975687849883+1.3701604954785562e-17j)),\n",
       " SimulatedState(state={'res': 0, 'phase': 0.8125, 'indicator': 0}, bitstring='000011010', amplitude=(-2.0055707311908422e-16+0.00012643241365984048j)),\n",
       " SimulatedState(state={'res': 6, 'phase': 0.6875, 'indicator': 0}, bitstring='110010110', amplitude=(2.490886728649666e-16+0.0001260202078378886j)),\n",
       " SimulatedState(state={'res': 7, 'phase': 0.09375, 'indicator': 1}, bitstring='111100011', amplitude=(-0.00012502561589640296-4.967001202699217e-17j)),\n",
       " SimulatedState(state={'res': 1, 'phase': 0.8125, 'indicator': 1}, bitstring='001111010', amplitude=(-1.3808669919318506e-16+0.0001245786636163637j)),\n",
       " SimulatedState(state={'res': 3, 'phase': 0.8125, 'indicator': 0}, bitstring='011011010', amplitude=(-2.569897961969547e-16+0.00012453833379249968j)),\n",
       " SimulatedState(state={'res': 0, 'phase': 0.53125, 'indicator': 1}, bitstring='000110001', amplitude=(-0.00012313760674896308+3.481644226394076e-17j)),\n",
       " SimulatedState(state={'res': 3, 'phase': 0.875, 'indicator': 1}, bitstring='011111100', amplitude=(-3.4835415801959257e-16+0.00012308779950153108j)),\n",
       " SimulatedState(state={'res': 3, 'phase': 0.4375, 'indicator': 1}, bitstring='011101110', amplitude=(-2.8324781756183803e-17+0.00012284256646598926j)),\n",
       " SimulatedState(state={'res': 0, 'phase': 0.375, 'indicator': 1}, bitstring='000101100', amplitude=(-0.00012259865421190692-2.572201891586079e-16j)),\n",
       " SimulatedState(state={'res': 6, 'phase': 0.03125, 'indicator': 0}, bitstring='110000001', amplitude=(-5.478812390748156e-15-0.00012234931240108398j)),\n",
       " SimulatedState(state={'res': 5, 'phase': 0.6875, 'indicator': 0}, bitstring='101010110', amplitude=(-2.9378490742568153e-16-0.00012196278216246431j)),\n",
       " SimulatedState(state={'res': 4, 'phase': 0.375, 'indicator': 0}, bitstring='100001100', amplitude=(0.00012112285384782123-9.126678362711416e-16j)),\n",
       " SimulatedState(state={'res': 0, 'phase': 0.34375, 'indicator': 1}, bitstring='000101011', amplitude=(-2.3967644275507682e-17+0.00011966239012995314j)),\n",
       " SimulatedState(state={'res': 3, 'phase': 0.1875, 'indicator': 0}, bitstring='011000110', amplitude=(-0.00011895468951356029+3.0347496434227073e-16j)),\n",
       " SimulatedState(state={'res': 0, 'phase': 0.46875, 'indicator': 1}, bitstring='000101111', amplitude=(0.00011748784769719118+8.677683138030856e-17j)),\n",
       " SimulatedState(state={'res': 1, 'phase': 0.53125, 'indicator': 1}, bitstring='001110001', amplitude=(-0.00011731372070479874+1.4565578560984949e-16j)),\n",
       " SimulatedState(state={'res': 7, 'phase': 0.78125, 'indicator': 0}, bitstring='111011001', amplitude=(-2.563324986298854e-16-0.00011710399858443218j)),\n",
       " SimulatedState(state={'res': 1, 'phase': 0.28125, 'indicator': 1}, bitstring='001101001', amplitude=(-0.00011661271941044602+1.1243854155032484e-16j)),\n",
       " SimulatedState(state={'res': 1, 'phase': 0.1875, 'indicator': 0}, bitstring='001000110', amplitude=(0.00011581032608443771-8.397891214893816e-16j)),\n",
       " SimulatedState(state={'res': 1, 'phase': 0.71875, 'indicator': 1}, bitstring='001110111', amplitude=(-0.00011510716606510535-6.621087142097415e-17j)),\n",
       " SimulatedState(state={'res': 2, 'phase': 0.6875, 'indicator': 1}, bitstring='010110110', amplitude=(-1.0388012065126739e-16+0.00011509199851524287j)),\n",
       " SimulatedState(state={'res': 3, 'phase': 0.15625, 'indicator': 1}, bitstring='011100101', amplitude=(0.00011443366033832488-4.595661958622932e-17j)),\n",
       " SimulatedState(state={'res': 2, 'phase': 0.5, 'indicator': 0}, bitstring='010010000', amplitude=(-2.0104157596491368e-15-0.00010958200644991003j)),\n",
       " SimulatedState(state={'res': 4, 'phase': 0.84375, 'indicator': 0}, bitstring='100011011', amplitude=(0.00010939408657366457-1.0020060952839471e-16j)),\n",
       " SimulatedState(state={'res': 1, 'phase': 0.78125, 'indicator': 1}, bitstring='001111001', amplitude=(-6.042394232533277e-17-0.00010907763932155084j)),\n",
       " SimulatedState(state={'res': 5, 'phase': 0.1875, 'indicator': 0}, bitstring='101000110', amplitude=(-0.0001088847867404534-4.466032036375134e-16j)),\n",
       " SimulatedState(state={'res': 5, 'phase': 0.84375, 'indicator': 1}, bitstring='101111011', amplitude=(0.0001083777614680616+2.4909544912854464e-17j)),\n",
       " SimulatedState(state={'res': 7, 'phase': 0.34375, 'indicator': 1}, bitstring='111101011', amplitude=(-1.2663481374630692e-16+0.00010753166589377736j)),\n",
       " SimulatedState(state={'res': 2, 'phase': 0.5625, 'indicator': 0}, bitstring='010010010', amplitude=(-0.00010734023452174068-3.8870680762678744e-16j)),\n",
       " SimulatedState(state={'res': 2, 'phase': 0.65625, 'indicator': 1}, bitstring='010110101', amplitude=(5.421010862427522e-18+0.00010707154451245342j)),\n",
       " SimulatedState(state={'res': 7, 'phase': 0.65625, 'indicator': 1}, bitstring='111110101', amplitude=(2.1093153265705489e-16+0.00010555482951374831j)),\n",
       " SimulatedState(state={'res': 3, 'phase': 0.90625, 'indicator': 1}, bitstring='011111101', amplitude=(0.00010366515886087986-4.9629354445523965e-17j)),\n",
       " SimulatedState(state={'res': 7, 'phase': 0.90625, 'indicator': 0}, bitstring='111011101', amplitude=(-0.00010351685750209491-1.646835337369701e-16j)),\n",
       " SimulatedState(state={'res': 2, 'phase': 0.53125, 'indicator': 1}, bitstring='010110001', amplitude=(-0.00010290433588032075-3.0054761847655986e-16j)),\n",
       " SimulatedState(state={'res': 4, 'phase': 0.875, 'indicator': 0}, bitstring='100011100', amplitude=(5.79289220759005e-16-0.00010271377485718123j)),\n",
       " SimulatedState(state={'res': 7, 'phase': 0.15625, 'indicator': 0}, bitstring='111000101', amplitude=(0.00010222552458057481+2.621871903613071e-16j)),\n",
       " SimulatedState(state={'res': 1, 'phase': 0.90625, 'indicator': 1}, bitstring='001111101', amplitude=(-9.93680976692609e-05-2.376435636816665e-17j)),\n",
       " SimulatedState(state={'res': 2, 'phase': 0.6875, 'indicator': 0}, bitstring='010010110', amplitude=(-1.1430879029786234e-16-9.923536823693131e-05j)),\n",
       " SimulatedState(state={'res': 2, 'phase': 0.875, 'indicator': 0}, bitstring='010011100', amplitude=(-5.213250621124987e-16+9.880788442405708e-05j)),\n",
       " SimulatedState(state={'res': 1, 'phase': 0.46875, 'indicator': 1}, bitstring='001101111', amplitude=(-9.803649818476133e-05-3.9302328752599536e-17j)),\n",
       " SimulatedState(state={'res': 2, 'phase': 0.65625, 'indicator': 0}, bitstring='010010101', amplitude=(2.9177913340658335e-16-9.796978709546865e-05j)),\n",
       " SimulatedState(state={'res': 1, 'phase': 0.28125, 'indicator': 0}, bitstring='001001001', amplitude=(9.643102296718887e-05+1.8965542027474247e-15j)),\n",
       " SimulatedState(state={'res': 4, 'phase': 0.40625, 'indicator': 0}, bitstring='100001101', amplitude=(-2.1305250315697966e-16+9.593897931092698e-05j)),\n",
       " SimulatedState(state={'res': 0, 'phase': 0.03125, 'indicator': 0}, bitstring='000000001', amplitude=(2.933884960063665e-15-9.588094745742993e-05j)),\n",
       " SimulatedState(state={'res': 0, 'phase': 0.03125, 'indicator': 1}, bitstring='000100001', amplitude=(-1.4040418133687282e-17+9.526100753127624e-05j)),\n",
       " SimulatedState(state={'res': 0, 'phase': 0.625, 'indicator': 0}, bitstring='000010100', amplitude=(9.345765826239374e-05-6.931914352421853e-16j)),\n",
       " SimulatedState(state={'res': 4, 'phase': 0.21875, 'indicator': 1}, bitstring='100100111', amplitude=(3.9918968738200666e-17-9.287644486561814e-05j)),\n",
       " SimulatedState(state={'res': 1, 'phase': 0.65625, 'indicator': 1}, bitstring='001110101', amplitude=(-2.330357044486031e-17-9.137581918532245e-05j)),\n",
       " SimulatedState(state={'res': 3, 'phase': 0.6875, 'indicator': 0}, bitstring='011010110', amplitude=(-2.4962399768763133e-16-9.130094422452701e-05j)),\n",
       " SimulatedState(state={'res': 2, 'phase': 0.8125, 'indicator': 1}, bitstring='010111010', amplitude=(3.242442122089462e-17+9.081083737129453e-05j)),\n",
       " SimulatedState(state={'res': 0, 'phase': 0.53125, 'indicator': 0}, bitstring='000010001', amplitude=(8.99553638618011e-05+1.639557630286892e-15j)),\n",
       " SimulatedState(state={'res': 6, 'phase': 0.03125, 'indicator': 1}, bitstring='110100001', amplitude=(-3.135173869649177e-16+8.776876614130393e-05j)),\n",
       " SimulatedState(state={'res': 0, 'phase': 0.4375, 'indicator': 0}, bitstring='000001110', amplitude=(-3.541343108516559e-16+8.704616751883659e-05j)),\n",
       " SimulatedState(state={'res': 7, 'phase': 0.6875, 'indicator': 1}, bitstring='111110110', amplitude=(1.5682984425002822e-16+8.662173854069114e-05j)),\n",
       " SimulatedState(state={'res': 0, 'phase': 0.21875, 'indicator': 1}, bitstring='000100111', amplitude=(3.412526337898125e-17+8.611126298192267e-05j)),\n",
       " SimulatedState(state={'res': 1, 'phase': 0.71875, 'indicator': 0}, bitstring='001010111', amplitude=(8.573276862735291e-05-8.277951349562607e-16j)),\n",
       " SimulatedState(state={'res': 0, 'phase': 0.3125, 'indicator': 0}, bitstring='000001010', amplitude=(-8.290561045482889e-05-9.870983154122714e-17j)),\n",
       " SimulatedState(state={'res': 6, 'phase': 0.1875, 'indicator': 0}, bitstring='110000110', amplitude=(-8.279847794691124e-05-5.468715758016884e-16j)),\n",
       " SimulatedState(state={'res': 4, 'phase': 0.5625, 'indicator': 0}, bitstring='100010010', amplitude=(8.262829621464584e-05-1.1401063470042883e-16j)),\n",
       " SimulatedState(state={'res': 7, 'phase': 0.4375, 'indicator': 0}, bitstring='111001110', amplitude=(6.118491672514603e-16-8.021232846438131e-05j)),\n",
       " SimulatedState(state={'res': 4, 'phase': 0.09375, 'indicator': 1}, bitstring='100100011', amplitude=(8.004928183049455e-05-8.151167458017583e-17j)),\n",
       " SimulatedState(state={'res': 6, 'phase': 0.875, 'indicator': 1}, bitstring='110111100', amplitude=(-1.2278589603398338e-16-7.856290073711089e-05j)),\n",
       " SimulatedState(state={'res': 1, 'phase': 0.15625, 'indicator': 1}, bitstring='001100101', amplitude=(-7.816791938413112e-05-2.9083723276923656e-17j)),\n",
       " SimulatedState(state={'res': 4, 'phase': 0.90625, 'indicator': 1}, bitstring='100111101', amplitude=(-7.76872232233788e-05+1.41420620873578e-17j)),\n",
       " SimulatedState(state={'res': 6, 'phase': 0.15625, 'indicator': 1}, bitstring='110100101', amplitude=(-7.647201981279914e-05+1.4629953064976275e-16j)),\n",
       " SimulatedState(state={'res': 2, 'phase': 0.5625, 'indicator': 1}, bitstring='010110010', amplitude=(7.594601629895833e-05-1.780802068307441e-16j)),\n",
       " SimulatedState(state={'res': 1, 'phase': 0.21875, 'indicator': 1}, bitstring='001100111', amplitude=(-6.919242739530929e-17-7.591533259546227e-05j)),\n",
       " SimulatedState(state={'res': 2, 'phase': 0.28125, 'indicator': 1}, bitstring='010101001', amplitude=(-7.555725929397396e-05-1.6365354167310886e-16j)),\n",
       " SimulatedState(state={'res': 5, 'phase': 0.09375, 'indicator': 1}, bitstring='101100011', amplitude=(7.549700889045581e-05+1.4247771799175135e-16j)),\n",
       " SimulatedState(state={'res': 4, 'phase': 0.71875, 'indicator': 1}, bitstring='100110111', amplitude=(7.511030896718105e-05-3.526706379188005e-17j)),\n",
       " SimulatedState(state={'res': 3, 'phase': 0.09375, 'indicator': 1}, bitstring='011100011', amplitude=(7.504833666543524e-05-1.4153242922261555e-16j)),\n",
       " SimulatedState(state={'res': 5, 'phase': 0.875, 'indicator': 1}, bitstring='101111100', amplitude=(-1.9430596996834748e-16-7.250456684778489e-05j)),\n",
       " SimulatedState(state={'res': 5, 'phase': 0.65625, 'indicator': 0}, bitstring='101010101', amplitude=(1.2274252794708396e-15+7.13719667515625e-05j)),\n",
       " SimulatedState(state={'res': 2, 'phase': 0.375, 'indicator': 0}, bitstring='010001100', amplitude=(-7.135327503349616e-05+1.1471062272803978e-15j)),\n",
       " SimulatedState(state={'res': 1, 'phase': 0.4375, 'indicator': 0}, bitstring='001001110', amplitude=(1.5352980388752546e-16-7.131415287299603e-05j)),\n",
       " SimulatedState(state={'res': 2, 'phase': 0.25, 'indicator': 0}, bitstring='010001000', amplitude=(-7.648910801613673e-16-7.072472222704157e-05j)),\n",
       " SimulatedState(state={'res': 5, 'phase': 0.15625, 'indicator': 0}, bitstring='101000101', amplitude=(-6.998895734410072e-05+1.7487334009243932e-15j)),\n",
       " SimulatedState(state={'res': 2, 'phase': 0.53125, 'indicator': 0}, bitstring='010010001', amplitude=(6.995196013813727e-05-1.9912389337232994e-15j)),\n",
       " SimulatedState(state={'res': 6, 'phase': 0.9375, 'indicator': 1}, bitstring='110111110', amplitude=(6.966479025011466e-05-6.846059092888157e-17j)),\n",
       " SimulatedState(state={'res': 2, 'phase': 0.84375, 'indicator': 1}, bitstring='010111011', amplitude=(-6.840920232568286e-05-1.2109183013947478e-17j)),\n",
       " SimulatedState(state={'res': 4, 'phase': 0.1875, 'indicator': 1}, bitstring='100100110', amplitude=(6.792504109408594e-05+4.329015986827278e-17j)),\n",
       " SimulatedState(state={'res': 4, 'phase': 0.03125, 'indicator': 0}, bitstring='100000001', amplitude=(-5.6282798246206495e-15+6.774994435042526e-05j)),\n",
       " SimulatedState(state={'res': 5, 'phase': 0.71875, 'indicator': 0}, bitstring='101010111', amplitude=(6.751796037562771e-05+1.1267333908330374e-15j)),\n",
       " SimulatedState(state={'res': 3, 'phase': 0.71875, 'indicator': 0}, bitstring='011010111', amplitude=(6.722882272416198e-05+5.578491227981042e-16j)),\n",
       " SimulatedState(state={'res': 7, 'phase': 0.96875, 'indicator': 1}, bitstring='111111111', amplitude=(3.6181859374914693e-17+6.716145753241548e-05j)),\n",
       " SimulatedState(state={'res': 3, 'phase': 0.15625, 'indicator': 0}, bitstring='011000101', amplitude=(-6.67275585420817e-05+1.5953662273627406e-15j)),\n",
       " SimulatedState(state={'res': 0, 'phase': 0.1875, 'indicator': 0}, bitstring='000000110', amplitude=(-6.655289110076168e-05+1.8007920458626425e-16j)),\n",
       " SimulatedState(state={'res': 0, 'phase': 0.65625, 'indicator': 0}, bitstring='000010101', amplitude=(-1.0784796178938544e-15+6.56026365906531e-05j)),\n",
       " SimulatedState(state={'res': 3, 'phase': 0.59375, 'indicator': 0}, bitstring='011010011', amplitude=(-2.9910766246622755e-16+6.533474657966858e-05j)),\n",
       " SimulatedState(state={'res': 2, 'phase': 0.71875, 'indicator': 1}, bitstring='010110111', amplitude=(-6.415543211085248e-05-1.9081958235744878e-17j)),\n",
       " SimulatedState(state={'res': 6, 'phase': 0.34375, 'indicator': 1}, bitstring='110101011', amplitude=(-1.1384122811097797e-16+6.409614131096838e-05j)),\n",
       " SimulatedState(state={'res': 2, 'phase': 0.0625, 'indicator': 1}, bitstring='010100010', amplitude=(-2.6087598335895745e-16+6.278723062958508e-05j)),\n",
       " SimulatedState(state={'res': 1, 'phase': 0.96875, 'indicator': 0}, bitstring='001011111', amplitude=(-2.184769021511962e-16-6.258230276935534e-05j)),\n",
       " SimulatedState(state={'res': 4, 'phase': 0.4375, 'indicator': 0}, bitstring='100001110', amplitude=(-1.0018366886944963e-16+6.207482570981895e-05j)),\n",
       " SimulatedState(state={'res': 0, 'phase': 0.90625, 'indicator': 0}, bitstring='000011101', amplitude=(6.174983449354022e-05+5.356941290297207e-16j)),\n",
       " SimulatedState(state={'res': 2, 'phase': 0.8125, 'indicator': 0}, bitstring='010011010', amplitude=(-2.746317984223673e-16-6.0964059350714604e-05j)),\n",
       " SimulatedState(state={'res': 7, 'phase': 0.40625, 'indicator': 1}, bitstring='111101101', amplitude=(-6.513005738027766e-17+6.087179112149566e-05j)),\n",
       " SimulatedState(state={'res': 2, 'phase': 0.40625, 'indicator': 1}, bitstring='010101101', amplitude=(8.835231266220156e-17+6.005454482488827e-05j)),\n",
       " SimulatedState(state={'res': 0, 'phase': 0.8125, 'indicator': 1}, bitstring='000111010', amplitude=(4.508248158466288e-17-5.985482493632731e-05j)),\n",
       " SimulatedState(state={'res': 2, 'phase': 0.84375, 'indicator': 0}, bitstring='010011011', amplitude=(5.925938784046431e-05+3.0164537317620144e-16j)),\n",
       " SimulatedState(state={'res': 1, 'phase': 0.40625, 'indicator': 1}, bitstring='001101101', amplitude=(5.4037313903035344e-17-5.850822492215305e-05j)),\n",
       " SimulatedState(state={'res': 4, 'phase': 0.28125, 'indicator': 0}, bitstring='100001001', amplitude=(-5.833435384899721e-05-7.771730578965547e-16j)),\n",
       " SimulatedState(state={'res': 7, 'phase': 0.40625, 'indicator': 0}, bitstring='111001101', amplitude=(5.248826004909668e-16-5.8284125586253066e-05j)),\n",
       " SimulatedState(state={'res': 7, 'phase': 0.875, 'indicator': 0}, bitstring='111011100', amplitude=(-8.725455796255999e-17-5.822163757836091e-05j)),\n",
       " SimulatedState(state={'res': 6, 'phase': 0.21875, 'indicator': 1}, bitstring='110100111', amplitude=(-1.754035827174205e-17+5.8117407116162694e-05j)),\n",
       " SimulatedState(state={'res': 4, 'phase': 0.03125, 'indicator': 1}, bitstring='100100001', amplitude=(-1.4718044491490723e-17-5.795435879146366e-05j)),\n",
       " SimulatedState(state={'res': 7, 'phase': 0.09375, 'indicator': 0}, bitstring='111000011', amplitude=(5.600627243305841e-05-1.8589188348350216e-15j)),\n",
       " SimulatedState(state={'res': 7, 'phase': 0.71875, 'indicator': 1}, bitstring='111110111', amplitude=(-5.593939457744425e-05+1.1037855742260239e-16j)),\n",
       " SimulatedState(state={'res': 5, 'phase': 0.96875, 'indicator': 0}, bitstring='101011111', amplitude=(5.218061768265392e-17-5.507520864667693e-05j)),\n",
       " SimulatedState(state={'res': 4, 'phase': 0.96875, 'indicator': 0}, bitstring='100011111', amplitude=(-5.404002440846656e-16+5.380526639478861e-05j)),\n",
       " SimulatedState(state={'res': 0, 'phase': 0.28125, 'indicator': 1}, bitstring='000101001', amplitude=(-5.309951372257942e-05-9.799493573374451e-17j)),\n",
       " SimulatedState(state={'res': 7, 'phase': 0.34375, 'indicator': 0}, bitstring='111001011', amplitude=(7.17555490937008e-16-5.303387769064565e-05j)),\n",
       " SimulatedState(state={'res': 2, 'phase': 0.15625, 'indicator': 1}, bitstring='010100101', amplitude=(-5.259602801294056e-05+5.922454367202068e-18j)),\n",
       " SimulatedState(state={'res': 4, 'phase': 0.3125, 'indicator': 0}, bitstring='100001010', amplitude=(5.2245916195728956e-05+2.9849441061241544e-16j)),\n",
       " SimulatedState(state={'res': 0, 'phase': 0.96875, 'indicator': 1}, bitstring='000111111', amplitude=(2.3405214398530827e-17-5.224387524194925e-05j)),\n",
       " SimulatedState(state={'res': 3, 'phase': 0.96875, 'indicator': 0}, bitstring='011011111', amplitude=(-1.4382280631199118e-16-5.2233778942723704e-05j)),\n",
       " SimulatedState(state={'res': 7, 'phase': 0.84375, 'indicator': 1}, bitstring='111111011', amplitude=(5.199204042893768e-05+7.49454751730605e-18j)),\n",
       " SimulatedState(state={'res': 6, 'phase': 0.59375, 'indicator': 1}, bitstring='110110011', amplitude=(-1.3016524707046284e-16+5.176595243292791e-05j)),\n",
       " SimulatedState(state={'res': 1, 'phase': 0.90625, 'indicator': 0}, bitstring='001011101', amplitude=(5.15894326172851e-05-4.2412294921738425e-16j)),\n",
       " SimulatedState(state={'res': 2, 'phase': 0.71875, 'indicator': 0}, bitstring='010010111', amplitude=(4.9446715605032303e-05+4.0738219004785026e-16j)),\n",
       " SimulatedState(state={'res': 1, 'phase': 0.15625, 'indicator': 0}, bitstring='001000101', amplitude=(4.9373479910619473e-05+1.4710861652098006e-15j)),\n",
       " SimulatedState(state={'res': 2, 'phase': 0.90625, 'indicator': 0}, bitstring='010011101', amplitude=(-4.865628536143616e-05+1.874778679739411e-15j)),\n",
       " SimulatedState(state={'res': 7, 'phase': 0.8125, 'indicator': 0}, bitstring='111011010', amplitude=(2.130999370020259e-16+4.8277378900021105e-05j)),\n",
       " SimulatedState(state={'res': 6, 'phase': 0.96875, 'indicator': 1}, bitstring='110111111', amplitude=(1.8081104105269197e-16+4.7464738151886584e-05j)),\n",
       " SimulatedState(state={'res': 6, 'phase': 0.6875, 'indicator': 1}, bitstring='110110110', amplitude=(-2.1835154127500256e-16-4.68321241930312e-05j)),\n",
       " SimulatedState(state={'res': 5, 'phase': 0.59375, 'indicator': 1}, bitstring='101110011', amplitude=(8.590608151053114e-17+4.569816674701403e-05j)),\n",
       " SimulatedState(state={'res': 5, 'phase': 0.84375, 'indicator': 0}, bitstring='101011011', amplitude=(-4.520466980927457e-05-1.107546400511833e-16j)),\n",
       " SimulatedState(state={'res': 5, 'phase': 0.40625, 'indicator': 0}, bitstring='101001101', amplitude=(4.272027610136009e-16+4.517178477643957e-05j)),\n",
       " SimulatedState(state={'res': 6, 'phase': 0.40625, 'indicator': 0}, bitstring='110001101', amplitude=(-2.189122770860849e-15-4.4999300024374106e-05j)),\n",
       " SimulatedState(state={'res': 4, 'phase': 0.34375, 'indicator': 0}, bitstring='100001011', amplitude=(3.163498651405361e-17+4.407268041847031e-05j)),\n",
       " SimulatedState(state={'res': 2, 'phase': 0.59375, 'indicator': 0}, bitstring='010010011', amplitude=(-1.7436003812640322e-16+4.3536094161068385e-05j)),\n",
       " SimulatedState(state={'res': 6, 'phase': 0.4375, 'indicator': 0}, bitstring='110001110', amplitude=(5.829788962772448e-16+4.3447503681252196e-05j)),\n",
       " SimulatedState(state={'res': 0, 'phase': 0.375, 'indicator': 0}, bitstring='000001100', amplitude=(-4.305838233768884e-05-6.011596114571111e-16j)),\n",
       " SimulatedState(state={'res': 0, 'phase': 0.46875, 'indicator': 0}, bitstring='000001111', amplitude=(-4.2775494568837594e-05-8.162687106100242e-17j)),\n",
       " SimulatedState(state={'res': 2, 'phase': 0.4375, 'indicator': 1}, bitstring='010101110', amplitude=(-5.657163648122021e-17+4.2412462640862726e-05j)),\n",
       " SimulatedState(state={'res': 2, 'phase': 0.59375, 'indicator': 1}, bitstring='010110011', amplitude=(3.4050724479622874e-18-4.127268738386372e-05j)),\n",
       " SimulatedState(state={'res': 7, 'phase': 0.21875, 'indicator': 1}, bitstring='111100111', amplitude=(1.8865117801247777e-17+4.0943653516171236e-05j)),\n",
       " SimulatedState(state={'res': 3, 'phase': 0.59375, 'indicator': 1}, bitstring='011110011', amplitude=(1.440633636690114e-17-4.082404763598122e-05j)),\n",
       " SimulatedState(state={'res': 3, 'phase': 0.65625, 'indicator': 1}, bitstring='011110101', amplitude=(1.1407839733620917e-16+4.05349668999537e-05j)),\n",
       " SimulatedState(state={'res': 3, 'phase': 0.78125, 'indicator': 1}, bitstring='011111001', amplitude=(-5.183841637196318e-19-4.038289921315834e-05j)),\n",
       " SimulatedState(state={'res': 3, 'phase': 0.84375, 'indicator': 0}, bitstring='011011011', amplitude=(3.9324834726605163e-05+3.436073853831795e-16j)),\n",
       " SimulatedState(state={'res': 2, 'phase': 0.96875, 'indicator': 0}, bitstring='010011111', amplitude=(-6.902945825625756e-16-3.8189451923300434e-05j)),\n",
       " SimulatedState(state={'res': 2, 'phase': 0.46875, 'indicator': 1}, bitstring='010101111', amplitude=(-3.7945788563287846e-05+1.255472234420324e-16j)),\n",
       " SimulatedState(state={'res': 2, 'phase': 0.875, 'indicator': 1}, bitstring='010111100', amplitude=(1.2484588016170584e-16+3.788959752684478e-05j)),\n",
       " SimulatedState(state={'res': 6, 'phase': 0.90625, 'indicator': 1}, bitstring='110111101', amplitude=(3.784678759084908e-05-4.587530442329291e-18j)),\n",
       " SimulatedState(state={'res': 0, 'phase': 0.65625, 'indicator': 1}, bitstring='000110101', amplitude=(-1.3077849892427496e-16-3.670280239405997e-05j)),\n",
       " SimulatedState(state={'res': 0, 'phase': 0.90625, 'indicator': 1}, bitstring='000111101', amplitude=(-3.6447427016192566e-05+1.020877989348773e-16j)),\n",
       " SimulatedState(state={'res': 0, 'phase': 0.15625, 'indicator': 1}, bitstring='000100101', amplitude=(3.5968944024325445e-05-3.4389537658524594e-19j)),\n",
       " SimulatedState(state={'res': 1, 'phase': 0.9375, 'indicator': 0}, bitstring='001011110', amplitude=(-3.506579464193948e-05-3.016419850444124e-16j)),\n",
       " SimulatedState(state={'res': 3, 'phase': 0.09375, 'indicator': 0}, bitstring='011000011', amplitude=(-3.487519093803063e-05-1.1197995791268137e-15j)),\n",
       " SimulatedState(state={'res': 4, 'phase': 0.8125, 'indicator': 0}, bitstring='100011010', amplitude=(4.3066543170197646e-16+3.457146962498007e-05j)),\n",
       " SimulatedState(state={'res': 2, 'phase': 0.125, 'indicator': 0}, bitstring='010000100', amplitude=(-4.039229074912637e-16-3.347645579075193e-05j)),\n",
       " SimulatedState(state={'res': 1, 'phase': 0.4375, 'indicator': 1}, bitstring='001101110', amplitude=(-1.744549058164957e-16+3.2623617226429515e-05j)),\n",
       " SimulatedState(state={'res': 1, 'phase': 0.34375, 'indicator': 0}, bitstring='001001011', amplitude=(-1.0292737799219576e-15+3.178137436099902e-05j)),\n",
       " SimulatedState(state={'res': 5, 'phase': 0.96875, 'indicator': 1}, bitstring='101111111', amplitude=(-1.1924868644624942e-16+3.152393775078707e-05j)),\n",
       " SimulatedState(state={'res': 5, 'phase': 0.40625, 'indicator': 1}, bitstring='101101101', amplitude=(-4.193321308677139e-17-3.125187441094259e-05j)),\n",
       " SimulatedState(state={'res': 2, 'phase': 0.96875, 'indicator': 1}, bitstring='010111111', amplitude=(2.6132660488689674e-17+3.125158094503975e-05j)),\n",
       " SimulatedState(state={'res': 5, 'phase': 0.09375, 'indicator': 0}, bitstring='101000011', amplitude=(-3.0967682992266655e-05+7.891009758597897e-16j)),\n",
       " SimulatedState(state={'res': 1, 'phase': 0.46875, 'indicator': 0}, bitstring='001001111', amplitude=(3.083564459117947e-05-4.496745451042575e-16j)),\n",
       " SimulatedState(state={'res': 4, 'phase': 0.3125, 'indicator': 1}, bitstring='100101010', amplitude=(-3.080371731806427e-05+2.462324777668251e-17j)),\n",
       " SimulatedState(state={'res': 3, 'phase': 0.71875, 'indicator': 1}, bitstring='011110111', amplitude=(-3.0487847348071352e-05+1.8023167051677003e-17j)),\n",
       " SimulatedState(state={'res': 6, 'phase': 0.71875, 'indicator': 0}, bitstring='110010111', amplitude=(-3.0422925589537376e-05+1.611988401919659e-16j)),\n",
       " SimulatedState(state={'res': 4, 'phase': 0.71875, 'indicator': 0}, bitstring='100010111', amplitude=(-3.012337543691558e-05-1.1953024019791675e-15j)),\n",
       " SimulatedState(state={'res': 0, 'phase': 0.34375, 'indicator': 0}, bitstring='000001011', amplitude=(6.25957348020928e-17-2.984074271571784e-05j)),\n",
       " SimulatedState(state={'res': 2, 'phase': 0.1875, 'indicator': 1}, bitstring='010100110', amplitude=(-2.8961380026305884e-05-5.985304211888337e-17j)),\n",
       " SimulatedState(state={'res': 5, 'phase': 0.21875, 'indicator': 1}, bitstring='101100111', amplitude=(-1.4249974084837996e-16-2.848596014406283e-05j)),\n",
       " SimulatedState(state={'res': 3, 'phase': 0.21875, 'indicator': 1}, bitstring='011100111', amplitude=(-4.653599012215126e-17-2.770687067184692e-05j)),\n",
       " SimulatedState(state={'res': 2, 'phase': 0.9375, 'indicator': 0}, bitstring='010011110', amplitude=(-2.7656446138002136e-05+3.213947933743827e-16j)),\n",
       " SimulatedState(state={'res': 7, 'phase': 0.46875, 'indicator': 1}, bitstring='111101111', amplitude=(-2.700304040899774e-05-7.065779439405923e-17j)),\n",
       " SimulatedState(state={'res': 0, 'phase': 0.0, 'indicator': 0}, bitstring='000000000', amplitude=(-2.6682476875490945e-05+2.690159699820713e-16j)),\n",
       " SimulatedState(state={'res': 4, 'phase': 0.46875, 'indicator': 1}, bitstring='100101111', amplitude=(2.637419439647399e-05-9.023272580510611e-17j)),\n",
       " SimulatedState(state={'res': 3, 'phase': 0.40625, 'indicator': 0}, bitstring='011001101', amplitude=(9.692377786864673e-16+2.6083213524333096e-05j)),\n",
       " SimulatedState(state={'res': 1, 'phase': 0.96875, 'indicator': 1}, bitstring='001111111', amplitude=(1.243274959979862e-17-2.521242422994525e-05j)),\n",
       " SimulatedState(state={'res': 3, 'phase': 0.96875, 'indicator': 1}, bitstring='011111111', amplitude=(-9.011075306070149e-17+2.5124191832387105e-05j)),\n",
       " SimulatedState(state={'res': 7, 'phase': 0.9375, 'indicator': 1}, bitstring='111111110', amplitude=(-2.502492255891293e-05-8.529960592029706e-17j)),\n",
       " SimulatedState(state={'res': 3, 'phase': 0.34375, 'indicator': 1}, bitstring='011101011', amplitude=(1.5576935900006583e-17-2.341526468214716e-05j)),\n",
       " SimulatedState(state={'res': 0, 'phase': 0.15625, 'indicator': 0}, bitstring='000000101', amplitude=(-2.2883280877541912e-05-6.66140591038672e-16j)),\n",
       " SimulatedState(state={'res': 7, 'phase': 0.90625, 'indicator': 1}, bitstring='111111101', amplitude=(-2.2176896581252877e-05+2.797919231370405e-17j)),\n",
       " SimulatedState(state={'res': 4, 'phase': 0.15625, 'indicator': 0}, bitstring='100000101', amplitude=(-2.2011750781248372e-05-2.601053527835455e-15j)),\n",
       " SimulatedState(state={'res': 3, 'phase': 0.34375, 'indicator': 0}, bitstring='011001011', amplitude=(3.8882878037119206e-16+2.2003480109223688e-05j)),\n",
       " SimulatedState(state={'res': 7, 'phase': 0.96875, 'indicator': 0}, bitstring='111011111', amplitude=(-4.0257104290744583e-16-2.1956521499079425e-05j)),\n",
       " SimulatedState(state={'res': 3, 'phase': 0.65625, 'indicator': 0}, bitstring='011010101', amplitude=(2.796377631406402e-16+2.1909327966783597e-05j)),\n",
       " SimulatedState(state={'res': 6, 'phase': 0.84375, 'indicator': 0}, bitstring='110011011', amplitude=(-2.1644037353404706e-05-4.92414133556815e-16j)),\n",
       " SimulatedState(state={'res': 1, 'phase': 0.65625, 'indicator': 0}, bitstring='001010101', amplitude=(-6.595913322905017e-16+2.0844928033932663e-05j)),\n",
       " SimulatedState(state={'res': 3, 'phase': 0.90625, 'indicator': 0}, bitstring='011011101', amplitude=(-2.0220441518498045e-05+1.0276593351244909e-15j)),\n",
       " SimulatedState(state={'res': 2, 'phase': 0.40625, 'indicator': 0}, bitstring='010001101', amplitude=(1.940742217539787e-15-2.011450595649739e-05j)),\n",
       " SimulatedState(state={'res': 7, 'phase': 0.4375, 'indicator': 1}, bitstring='111101110', amplitude=(1.40438062654763e-18+1.9919812814457454e-05j)),\n",
       " SimulatedState(state={'res': 0, 'phase': 0.09375, 'indicator': 1}, bitstring='000100011', amplitude=(-1.9711237863617964e-05-8.030041746560218e-17j)),\n",
       " SimulatedState(state={'res': 5, 'phase': 0.46875, 'indicator': 1}, bitstring='101101111', amplitude=(1.958056754110226e-05-7.430511826493624e-17j)),\n",
       " SimulatedState(state={'res': 3, 'phase': 0.84375, 'indicator': 1}, bitstring='011111011', amplitude=(1.945720974303053e-05-2.0445681280824302e-17j)),\n",
       " SimulatedState(state={'res': 6, 'phase': 0.9375, 'indicator': 0}, bitstring='110011110', amplitude=(1.9083178271446728e-05+5.549709048433341e-16j)),\n",
       " SimulatedState(state={'res': 7, 'phase': 0.21875, 'indicator': 0}, bitstring='111000111', amplitude=(-5.569411034786476e-16-1.8939726905925185e-05j)),\n",
       " SimulatedState(state={'res': 1, 'phase': 0.875, 'indicator': 1}, bitstring='001111100', amplitude=(-8.638041996099355e-17-1.8276395703943156e-05j)),\n",
       " SimulatedState(state={'res': 1, 'phase': 0.6875, 'indicator': 1}, bitstring='001110110', amplitude=(-1.8586952181369465e-16+1.792906082191174e-05j)),\n",
       " SimulatedState(state={'res': 1, 'phase': 0.09375, 'indicator': 0}, bitstring='001000011', amplitude=(1.723970517818261e-05-9.728368216793508e-16j)),\n",
       " SimulatedState(state={'res': 6, 'phase': 0.09375, 'indicator': 1}, bitstring='110100011', amplitude=(-1.721431511995395e-05-1.5978853033478749e-16j)),\n",
       " SimulatedState(state={'res': 2, 'phase': 0.28125, 'indicator': 0}, bitstring='010001001', amplitude=(1.646361142552929e-05-3.713948941409199e-15j)),\n",
       " SimulatedState(state={'res': 5, 'phase': 0.59375, 'indicator': 0}, bitstring='101010011', amplitude=(1.6270291659640536e-15-1.6438581555560603e-05j)),\n",
       " SimulatedState(state={'res': 5, 'phase': 0.21875, 'indicator': 0}, bitstring='101000111', amplitude=(-1.3856586573144682e-15+1.6025086782555907e-05j)),\n",
       " SimulatedState(state={'res': 6, 'phase': 0.84375, 'indicator': 1}, bitstring='110111011', amplitude=(-1.5931127096835647e-05+4.337486316299821e-17j)),\n",
       " SimulatedState(state={'res': 4, 'phase': 0.21875, 'indicator': 0}, bitstring='100000111', amplitude=(2.5253948509208063e-16+1.569631946979023e-05j)),\n",
       " SimulatedState(state={'res': 7, 'phase': 0.78125, 'indicator': 1}, bitstring='111111001', amplitude=(-2.4347962068824863e-17-1.5427719888805875e-05j)),\n",
       " SimulatedState(state={'res': 5, 'phase': 0.71875, 'indicator': 1}, bitstring='101110111', amplitude=(-1.53342916278602e-05+1.2016009389749505e-16j)),\n",
       " SimulatedState(state={'res': 3, 'phase': 0.21875, 'indicator': 0}, bitstring='011000111', amplitude=(-7.38583083852596e-16+1.4781332158126919e-05j)),\n",
       " SimulatedState(state={'res': 6, 'phase': 0.15625, 'indicator': 0}, bitstring='110000101', amplitude=(-1.4661629696298787e-05-1.8579591465057825e-15j)),\n",
       " SimulatedState(state={'res': 0, 'phase': 0.21875, 'indicator': 0}, bitstring='000000111', amplitude=(1.3466231439402537e-15-1.4110742471831945e-05j)),\n",
       " SimulatedState(state={'res': 5, 'phase': 0.8125, 'indicator': 1}, bitstring='101111010', amplitude=(-6.928729508540177e-17-1.3799315204812878e-05j)),\n",
       " SimulatedState(state={'res': 3, 'phase': 0.4375, 'indicator': 0}, bitstring='011001110', amplitude=(1.5506801571973927e-16+1.341552085127407e-05j)),\n",
       " SimulatedState(state={'res': 6, 'phase': 0.09375, 'indicator': 0}, bitstring='110000011', amplitude=(-1.3354781080983867e-05-7.910118821887954e-16j)),\n",
       " SimulatedState(state={'res': 6, 'phase': 0.59375, 'indicator': 0}, bitstring='110010011', amplitude=(-5.875901436420972e-16-1.3083874830611673e-05j)),\n",
       " SimulatedState(state={'res': 2, 'phase': 0.34375, 'indicator': 1}, bitstring='010101011', amplitude=(7.630835118519266e-17-1.2967207093175733e-05j)),\n",
       " SimulatedState(state={'res': 0, 'phase': 0.40625, 'indicator': 0}, bitstring='000001101', amplitude=(-3.4495924996699734e-16+1.2937656283978508e-05j)),\n",
       " SimulatedState(state={'res': 5, 'phase': 0.4375, 'indicator': 0}, bitstring='101001110', amplitude=(9.056476272042979e-18+1.2853480187337715e-05j)),\n",
       " SimulatedState(state={'res': 3, 'phase': 0.46875, 'indicator': 0}, bitstring='011001111', amplitude=(1.2825851826885047e-05+4.373036289096084e-16j)),\n",
       " SimulatedState(state={'res': 5, 'phase': 0.34375, 'indicator': 0}, bitstring='101001011', amplitude=(-4.625892564510438e-16+1.253778195550456e-05j)),\n",
       " SimulatedState(state={'res': 4, 'phase': 0.5625, 'indicator': 1}, bitstring='100110010', amplitude=(-1.2349504182418349e-05+4.8323229640857834e-18j)),\n",
       " SimulatedState(state={'res': 6, 'phase': 0.46875, 'indicator': 0}, bitstring='110001111', amplitude=(-1.2272958906202133e-05-5.441263420196372e-16j)),\n",
       " SimulatedState(state={'res': 4, 'phase': 0.84375, 'indicator': 1}, bitstring='100111011', amplitude=(-1.2232433312218726e-05-4.691376681662668e-17j)),\n",
       " SimulatedState(state={'res': 6, 'phase': 0.71875, 'indicator': 1}, bitstring='110110111', amplitude=(1.2170122944597137e-05+6.727050963798928e-17j)),\n",
       " SimulatedState(state={'res': 4, 'phase': 0.46875, 'indicator': 0}, bitstring='100001111', amplitude=(1.1625141906363018e-05-5.127895111030172e-16j)),\n",
       " SimulatedState(state={'res': 3, 'phase': 0.40625, 'indicator': 1}, bitstring='011101101', amplitude=(1.7021381184959342e-16+1.0988165125694836e-05j)),\n",
       " SimulatedState(state={'res': 6, 'phase': 0.96875, 'indicator': 0}, bitstring='110011111', amplitude=(4.2165638927497973e-16+1.0838712195415601e-05j)),\n",
       " SimulatedState(state={'res': 2, 'phase': 0.3125, 'indicator': 0}, bitstring='010001010', amplitude=(-1.0644817136440372e-05+4.3147604223249883e-16j)),\n",
       " SimulatedState(state={'res': 5, 'phase': 0.46875, 'indicator': 0}, bitstring='101001111', amplitude=(1.0419773262510981e-05-2.1533610398277725e-16j)),\n",
       " SimulatedState(state={'res': 6, 'phase': 0.34375, 'indicator': 0}, bitstring='110001011', amplitude=(-1.2393074576549229e-15-1.0414021308816045e-05j)),\n",
       " SimulatedState(state={'res': 5, 'phase': 0.34375, 'indicator': 1}, bitstring='101101011', amplitude=(5.832245358319485e-17+1.0366436521340808e-05j)),\n",
       " SimulatedState(state={'res': 1, 'phase': 0.40625, 'indicator': 0}, bitstring='001001101', amplitude=(-6.602232188691534e-16-1.0172502059916402e-05j)),\n",
       " SimulatedState(state={'res': 6, 'phase': 0.28125, 'indicator': 0}, bitstring='110001001', amplitude=(9.922416301063831e-06+1.3382781753439044e-16j)),\n",
       " SimulatedState(state={'res': 2, 'phase': 0.46875, 'indicator': 0}, bitstring='010001111', amplitude=(9.580210213996682e-06+6.396437063826629e-16j)),\n",
       " SimulatedState(state={'res': 2, 'phase': 0.09375, 'indicator': 1}, bitstring='010100011', amplitude=(-9.02565296997202e-06-4.5695733438474995e-17j)),\n",
       " SimulatedState(state={'res': 7, 'phase': 0.46875, 'indicator': 0}, bitstring='111001111', amplitude=(-8.41388962270273e-06-2.0237141769210293e-16j)),\n",
       " SimulatedState(state={'res': 2, 'phase': 0.15625, 'indicator': 0}, bitstring='010000101', amplitude=(8.412577531765617e-06-3.266159044612582e-18j)),\n",
       " SimulatedState(state={'res': 2, 'phase': 0.0625, 'indicator': 0}, bitstring='010000010', amplitude=(-1.5538179907504963e-15-8.410721547586551e-06j)),\n",
       " SimulatedState(state={'res': 2, 'phase': 0.03125, 'indicator': 1}, bitstring='010100001', amplitude=(-2.0307869020306027e-16+8.404720736621099e-06j)),\n",
       " SimulatedState(state={'res': 2, 'phase': 0.4375, 'indicator': 0}, bitstring='010001110', amplitude=(2.623693024449668e-16-8.249399219697006e-06j)),\n",
       " SimulatedState(state={'res': 5, 'phase': 0.65625, 'indicator': 1}, bitstring='101110101', amplitude=(1.165995909037116e-16-7.359415337732411e-06j)),\n",
       " SimulatedState(state={'res': 6, 'phase': 0.21875, 'indicator': 0}, bitstring='110000111', amplitude=(-1.3602713858193623e-16-6.9591755303181085e-06j)),\n",
       " SimulatedState(state={'res': 2, 'phase': 0.90625, 'indicator': 1}, bitstring='010111101', amplitude=(-6.89111665856893e-06+1.2881888820080213e-16j)),\n",
       " SimulatedState(state={'res': 6, 'phase': 0.4375, 'indicator': 1}, bitstring='110101110', amplitude=(-6.032102782224137e-17-6.844466284233914e-06j)),\n",
       " SimulatedState(state={'res': 6, 'phase': 0.46875, 'indicator': 1}, bitstring='110101111', amplitude=(6.840747858161721e-06+1.4183312591889083e-16j)),\n",
       " SimulatedState(state={'res': 6, 'phase': 0.8125, 'indicator': 1}, bitstring='110111010', amplitude=(-1.7592831962824455e-16-6.130219621801919e-06j)),\n",
       " SimulatedState(state={'res': 0, 'phase': 0.28125, 'indicator': 0}, bitstring='000001001', amplitude=(-5.897067421672484e-06+1.3234758510741618e-15j)),\n",
       " SimulatedState(state={'res': 4, 'phase': 0.1875, 'indicator': 0}, bitstring='100000110', amplitude=(5.83849035109321e-06+5.458318428589338e-16j)),\n",
       " SimulatedState(state={'res': 1, 'phase': 0.21875, 'indicator': 0}, bitstring='001000111', amplitude=(-2.546795138333186e-16+5.681479879859815e-06j)),\n",
       " SimulatedState(state={'res': 4, 'phase': 0.09375, 'indicator': 0}, bitstring='100000011', amplitude=(-5.525639526123004e-06-1.1552813657708227e-15j)),\n",
       " SimulatedState(state={'res': 0, 'phase': 0.40625, 'indicator': 1}, bitstring='000101101', amplitude=(-1.5729825346985984e-17-5.393748128147159e-06j)),\n",
       " SimulatedState(state={'res': 2, 'phase': 0.34375, 'indicator': 0}, bitstring='010001011', amplitude=(8.596918546510159e-16+4.896954376583393e-06j)),\n",
       " SimulatedState(state={'res': 2, 'phase': 0.21875, 'indicator': 1}, bitstring='010100111', amplitude=(-6.475757464172258e-17-4.3451542364194346e-06j)),\n",
       " SimulatedState(state={'res': 0, 'phase': 0.09375, 'indicator': 0}, bitstring='000000011', amplitude=(-4.325948779737597e-06-1.1183342121280637e-15j)),\n",
       " SimulatedState(state={'res': 7, 'phase': 0.71875, 'indicator': 0}, bitstring='111010111', amplitude=(3.817978992676664e-06+9.996176741309268e-16j)),\n",
       " SimulatedState(state={'res': 1, 'phase': 0.78125, 'indicator': 0}, bitstring='001011001', amplitude=(-5.797591122864943e-16-3.6749056284931077e-06j)),\n",
       " SimulatedState(state={'res': 2, 'phase': 0.3125, 'indicator': 1}, bitstring='010101010', amplitude=(-3.2966180199171158e-06+8.734963741088928e-17j)),\n",
       " SimulatedState(state={'res': 1, 'phase': 0.09375, 'indicator': 1}, bitstring='001100011', amplitude=(-3.0745568744076535e-06-2.2548927616327773e-16j)),\n",
       " SimulatedState(state={'res': 2, 'phase': 0.1875, 'indicator': 0}, bitstring='010000110', amplitude=(2.82428319709779e-06-9.332778419437332e-17j)),\n",
       " SimulatedState(state={'res': 2, 'phase': 0.9375, 'indicator': 1}, bitstring='010111110', amplitude=(2.0029531493297587e-06-8.984626702292133e-17j)),\n",
       " SimulatedState(state={'res': 2, 'phase': 0.21875, 'indicator': 0}, bitstring='010000111', amplitude=(-1.2854692709726246e-15+1.3702500483950001e-06j)),\n",
       " SimulatedState(state={'res': 3, 'phase': 0.46875, 'indicator': 1}, bitstring='011101111', amplitude=(-1.358293068527187e-06+3.0326320610545715e-17j)),\n",
       " SimulatedState(state={'res': 5, 'phase': 0.90625, 'indicator': 0}, bitstring='101011101', amplitude=(6.518720877660906e-07-2.736400816598101e-16j)),\n",
       " SimulatedState(state={'res': 2, 'phase': 0.03125, 'indicator': 0}, bitstring='010000001', amplitude=(-2.1704130041960836e-15+3.170298773947454e-07j)),\n",
       " SimulatedState(state={'res': 2, 'phase': 0.09375, 'indicator': 0}, bitstring='010000011', amplitude=(6.170508826663922e-08+1.2714832912494106e-15j))]"
      ]
     },
     "execution_count": 89,
     "metadata": {},
     "output_type": "execute_result"
    }
   ],
   "source": [
    "res_hhl_exact.parsed_state_vector\n",
    "# Has form \"rrrIppppp\", where r is \"result\", \"I\" is indicator, p is \"phase\""
   ]
  },
  {
   "cell_type": "code",
   "execution_count": 87,
   "id": "d3146fb6",
   "metadata": {},
   "outputs": [
    {
     "data": {
      "text/plain": [
       "(5, [6, 7, 8], [8, 7, 6, 5, 4])"
      ]
     },
     "execution_count": 87,
     "metadata": {},
     "output_type": "execute_result"
    }
   ],
   "source": [
    "read_positions(qprog_hhl_exact,res_hhl_exact)"
   ]
  },
  {
   "cell_type": "markdown",
   "id": "iXncSzDskL0n",
   "metadata": {
    "id": "iXncSzDskL0n"
   },
   "source": [
    "#### Postselect Results\n",
    "\n",
    "If all eigenvalues are $m$-estimated (are represented by $m$ binary digits), then eigenvalues uncomputation by inverse-QPE create the state:\n",
    "\n",
    "$$\n",
    "\\sum^{2^n-1}_{j=0}{\\beta_j |0\\rangle_m |u_j\\rangle_n \\left(\\sqrt{1-\\frac{C^2}{\\tilde{\\lambda}^2_j}}|0\\rangle_a + \\frac{C}{\\tilde{\\lambda}_j}|1\\rangle_a \\right)}\n",
    "$$\n",
    "\n",
    "If at least one eigenvalue is not $m$-estimated, then after performing QPE$^\\dagger$, the `phase` register is not reseted in $|0\\rangle_m$.\n",
    "\n",
    "In general case, we postselect only states that return 1 on ancillary qubit in `indicator` register. In this tutorial, we will add another postselection condition on `phase` register, to return $|0\\rangle_m$, in order to increase accuracy of the solution result.\n",
    "\n",
    "**Note:** Postselection can improve HHL algorithm results at the cost of more executions. In the future, when two-way quantum computing is utilized, postselection might be replaced by adjoint-state preparation, as envisioned by Jarek Duda [[4](#Duda)]."
   ]
  },
  {
   "cell_type": "markdown",
   "id": "f520a242-c0d8-49b9-94d1-750da0555fb2",
   "metadata": {
    "id": "f520a242-c0d8-49b9-94d1-750da0555fb2"
   },
   "source": [
    "The `quantum_solution` function defines a run over all the relevant strings holding the solution. The solution vector will be inserted into the variable `qsol`, after normalizing with $C=1/2^m$."
   ]
  },
  {
   "cell_type": "code",
   "execution_count": null,
   "id": "b8b5ed43-3618-44a0-b0a5-f632c0caef15",
   "metadata": {
    "id": "b8b5ed43-3618-44a0-b0a5-f632c0caef15"
   },
   "outputs": [],
   "source": [
    "def quantum_solution(circuit_hhl, res_hhl, precision):\n",
    "    target_pos, sol_pos, phase_pos = read_positions(circuit_hhl, res_hhl)\n",
    "\n",
    "    # Read Quantum solution from the entries of `res` registers, \n",
    "    # where the target register `indicator` is 1 and the `phase` register is in state |0>^m\n",
    "    qsol = [\n",
    "        np.round(parsed_state.amplitude / (1 / 2**precision), 5)\n",
    "        # We scan all solution and parse_state_vector, and keep all\n",
    "        for solution in range(2**n)\n",
    "        for parsed_state in res_hhl.parsed_state_vector\n",
    "        # that satisfies the following conditions\n",
    "        if parsed_state[\"indicator\"] == 1.0 # Indicator is |1>\n",
    "        and parsed_state[\"res\"] == solution # \n",
    "        and [parsed_state.bitstring[k] for k in phase_pos] == [\"0\"] * precision # all phase qubits are 0.\n",
    "    ]\n",
    "\n",
    "    return qsol"
   ]
  },
  {
   "cell_type": "markdown",
   "id": "007beff5-5fd8-48cf-a4bc-625afa655456",
   "metadata": {
    "id": "007beff5-5fd8-48cf-a4bc-625afa655456"
   },
   "source": [
    "#### Compare Classical and Quantum Solutions\n",
    "\n",
    "Note that the HHL algorithm returns a statevector result that includes an arbitrary global phase. The global phase can arise due to the transpilation process or from the intrinsic properties of the quantum functions themselves. Therefore, to compare with the classical solution, we need to correct the quantum results by the global phase (normalize). However, even after this normalization, there may still be a minus sign difference between the quantum and classical solutions, due to the inherent ambiguity of a global phase factor of $e^{i\\pi}=-1$. The sign difference does not affect the physical validity of the comparison, as both states $|x\\rangle$ and $-|x\\rangle$ are considered equivalent in terms of their measurement probabilities."
   ]
  },
  {
   "cell_type": "code",
   "execution_count": 77,
   "id": "042ef3f0-5c07-4354-99e5-7809bd1ce51f",
   "metadata": {
    "id": "042ef3f0-5c07-4354-99e5-7809bd1ce51f"
   },
   "outputs": [],
   "source": [
    "import matplotlib.pyplot as plt\n",
    "\n",
    "\n",
    "def quantum_solution_preprocessed(A, b, circuit_hhl, res_hhl, precision, disp=True):\n",
    "    # Classical solution\n",
    "    sol_classical = np.linalg.solve(A, b)\n",
    "    if disp:\n",
    "        print(\"Classical Solution:         \", sol_classical)\n",
    "\n",
    "    # Quantum solution with postselection\n",
    "    qsol = quantum_solution(circuit_hhl, res_hhl, precision)\n",
    "    if disp:\n",
    "        print(\"Quantum Solution:           \", np.abs(qsol) / np.linalg.norm(qsol))\n",
    "\n",
    "    # Global phase from one element, e.g. qsol[0]\n",
    "    global_phase = np.angle(qsol[0])\n",
    "\n",
    "    # Preprocessed quantum solution\n",
    "    qsol_corrected = np.real(qsol / np.exp(1j * global_phase))\n",
    "\n",
    "    # Correct ambiguity in the sign\n",
    "    qsol_corrected = (\n",
    "        np.sign(qsol_corrected[0]) * np.sign(sol_classical[0]) * qsol_corrected\n",
    "    )\n",
    "\n",
    "    return sol_classical, qsol_corrected\n",
    "\n",
    "\n",
    "def show_solutions(A, b, circuit_hhl, res_hhl, precision, check=True, disp=True):\n",
    "    # Classical solution and preprocessed quantum solution\n",
    "    sol_classical, qsol_corrected = quantum_solution_preprocessed(\n",
    "        A, b, circuit_hhl, res_hhl, precision, disp=disp\n",
    "    )\n",
    "\n",
    "    # Verify is there is no functional error, which might come from changing endianness in Model or Execution\n",
    "    if (\n",
    "        np.linalg.norm(sol_classical - qsol_corrected) / np.linalg.norm(sol_classical)\n",
    "        > 0.1\n",
    "        and check\n",
    "    ):\n",
    "        raise Exception(\n",
    "            \"The HHL solution is too far from the classical one, please verify your algorithm\"\n",
    "        )\n",
    "\n",
    "    if disp:\n",
    "        print(\"Corrected Quantum Solution: \", qsol_corrected)\n",
    "\n",
    "    # Fidelity\n",
    "    state_classical = sol_classical / np.linalg.norm(sol_classical)\n",
    "    state_corrected = qsol_corrected / np.linalg.norm(qsol_corrected)\n",
    "    fidelity = np.abs(np.dot(state_classical, state_corrected)) ** 2\n",
    "    print()\n",
    "    print(\"Fidelity:                   \", f\"{np.round(fidelity * 100,2)} %\")\n",
    "\n",
    "    if disp:\n",
    "        plt.plot(sol_classical, \"bo\", label=\"Classical\")\n",
    "        plt.plot(qsol_corrected, \"ro\", label=\"HHL\")\n",
    "        plt.legend()\n",
    "        plt.xlabel(\"$i$\")\n",
    "        plt.ylabel(\"$x_i$\")\n",
    "        plt.show()"
   ]
  },
  {
   "cell_type": "markdown",
   "id": "IQhM36aCEH6_",
   "metadata": {
    "id": "IQhM36aCEH6_"
   },
   "source": [
    "In the upcoming sections, we will present two different examples of implementing Hamiltonian dynamics by defining the unitary operator using two methods: exact and approximated."
   ]
  },
  {
   "cell_type": "markdown",
   "id": "57fd9798-8faf-4f58-8d5d-5453482b9d8c",
   "metadata": {
    "id": "57fd9798-8faf-4f58-8d5d-5453482b9d8c"
   },
   "source": [
    "### Example: Exact Hamiltonian Evolution\n",
    "\n",
    "While the implementation of exact Hamiltonian simulation provided here is not scalable for large systems due to the exponential growth in computational resources required, it serves as a valuable tool for debugging and studying small quantum systems."
   ]
  },
  {
   "cell_type": "code",
   "execution_count": 78,
   "id": "AE8_ndqidJCb",
   "metadata": {
    "id": "AE8_ndqidJCb"
   },
   "outputs": [],
   "source": [
    "# Original code\n",
    "from typing import List\n",
    "\n",
    "import scipy\n",
    "\n",
    "from classiq import Output, create_model, power, prepare_amplitudes, synthesize, unitary\n",
    "from classiq.qmod.symbolic import floor, log\n",
    "\n",
    "# Parameters for the initial state preparation\n",
    "amplitudes = b.tolist()\n",
    "\n",
    "@qfunc\n",
    "def unitary_with_power_logic(\n",
    "    pw: CInt, matrix: CArray[CArray[CReal]], target: QArray[QBit]\n",
    ") -> None:\n",
    "    power(pw, lambda: unitary(elements=matrix, target=target))\n",
    "\n",
    "\n",
    "@qfunc\n",
    "def main(\n",
    "    res: Output[QNum],\n",
    "    phase: Output[QNum],\n",
    "    indicator: Output[QBit],\n",
    ") -> None:\n",
    "    hhl(\n",
    "        rhs_vector=amplitudes,\n",
    "        precision=precision,\n",
    "        hamiltonian_evolution_with_power=lambda arg0, arg1: unitary_with_power_logic(\n",
    "            # arg0 is the power k, arg1 is \"state\"\n",
    "            matrix=scipy.linalg.expm(2 * np.pi * 1j * A).tolist(), pw=arg0, target=arg1\n",
    "        ),\n",
    "        state=res,\n",
    "        phase=phase,\n",
    "        indicator=indicator,\n",
    "    )"
   ]
  },
  {
   "cell_type": "code",
   "execution_count": 79,
   "id": "ImzQQdUB5Iig",
   "metadata": {
    "id": "ImzQQdUB5Iig"
   },
   "outputs": [],
   "source": [
    "# Construct HHL model\n",
    "qmod_hhl_exact = hhl_model(main, backend_preferences)"
   ]
  },
  {
   "cell_type": "code",
   "execution_count": 80,
   "id": "cc3ba894-8a73-4891-ad55-6f22fa3fdfb5",
   "metadata": {
    "id": "cc3ba894-8a73-4891-ad55-6f22fa3fdfb5"
   },
   "outputs": [],
   "source": [
    "from classiq import write_qmod\n",
    "\n",
    "# Save qmod file\n",
    "write_qmod(qmod_hhl_exact, \"hhl_exact\", decimal_precision=20)"
   ]
  },
  {
   "cell_type": "markdown",
   "id": "4e0caed5-950c-43f8-90cf-d841731b4ea5",
   "metadata": {
    "id": "4e0caed5-950c-43f8-90cf-d841731b4ea5"
   },
   "source": [
    "#### Synthesizing the Model (exact)"
   ]
  },
  {
   "cell_type": "code",
   "execution_count": 82,
   "id": "f0ffc6b8-cdb8-468b-932f-89942c639b5d",
   "metadata": {
    "colab": {
     "base_uri": "https://localhost:8080/"
    },
    "id": "f0ffc6b8-cdb8-468b-932f-89942c639b5d",
    "outputId": "a50d5cb4-3c53-4bf4-eac8-007605b735ce"
   },
   "outputs": [
    {
     "name": "stdout",
     "output_type": "stream",
     "text": [
      "Quantum program link: https://platform.classiq.io/circuit/30Klvl0HpRqHFccJRx9J2a9xiVv\n",
      "Circuit depth =  16038\n",
      "Circuit CX count =  10258\n"
     ]
    }
   ],
   "source": [
    "# Preference setting to speed up qrog synthesis.\n",
    "pref = Preferences(optimization_level= 1, timeout_seconds=10000, optimization_timeout_seconds=8000)\n",
    "\n",
    "qprog_hhl_exact = synthesize(qmod_hhl_exact, preferences=pref)\n",
    "show(qprog_hhl_exact)\n",
    "\n",
    "print(\"Circuit depth = \", qprog_hhl_exact.transpiled_circuit.depth)\n",
    "print(\"Circuit CX count = \", qprog_hhl_exact.transpiled_circuit.count_ops[\"cx\"])"
   ]
  },
  {
   "attachments": {
    "38ce9d4a-b299-40e1-92fb-cb15babc46fc.png": {
     "image/png": "[encoded data removed]"
    }
   },
   "cell_type": "markdown",
   "id": "a34e1ae9-168c-4d1c-a3f1-2d1f56bc78c6",
   "metadata": {
    "id": "a34e1ae9-168c-4d1c-a3f1-2d1f56bc78c6"
   },
   "source": [
    "![Screenshot 2025-06-20 at 22.34.35.png](attachment:38ce9d4a-b299-40e1-92fb-cb15babc46fc.png)\n",
    "<center>\n",
    "<figcaption align = \"middle\">Synthesized HHL circuit</figcaption>\n",
    "</center>"
   ]
  },
  {
   "cell_type": "markdown",
   "id": "73bbb2d9-ea89-4b00-b4b9-40689c11a565",
   "metadata": {
    "id": "73bbb2d9-ea89-4b00-b4b9-40689c11a565"
   },
   "source": [
    "#### Statevector Simulation (exact)\n",
    "\n",
    "Execute the quantum program. Recall that you chose a statevector simulator because you want the exact solution."
   ]
  },
  {
   "cell_type": "code",
   "execution_count": 83,
   "id": "14bc85cb-1000-4e2d-b96f-a0c324c60b27",
   "metadata": {
    "id": "14bc85cb-1000-4e2d-b96f-a0c324c60b27"
   },
   "outputs": [],
   "source": [
    "from classiq.execution import ExecutionDetails\n",
    "\n",
    "res_hhl_exact = execute(qprog_hhl_exact).result_value()"
   ]
  },
  {
   "cell_type": "code",
   "execution_count": 84,
   "id": "CsiJ81SjNQPr",
   "metadata": {
    "colab": {
     "base_uri": "https://localhost:8080/"
    },
    "id": "CsiJ81SjNQPr",
    "outputId": "fb569a7d-50ce-47d1-a7ba-b4571c8aba3b"
   },
   "outputs": [
    {
     "data": {
      "text/plain": [
       "[(-0.0904+0j),\n",
       " (-1.46954+0j),\n",
       " (0.6621+0j),\n",
       " (1.79394-0j),\n",
       " (0.37352+0j),\n",
       " (0.36368-0j),\n",
       " (-2.55571+0j),\n",
       " (1.68085+0j)]"
      ]
     },
     "execution_count": 84,
     "metadata": {},
     "output_type": "execute_result"
    }
   ],
   "source": [
    "qsol_hhl_exact = quantum_solution(qprog_hhl_exact, res_hhl_exact, precision)\n",
    "qsol_hhl_exact"
   ]
  },
  {
   "cell_type": "markdown",
   "id": "UKNXW8Fmyd5o",
   "metadata": {
    "id": "UKNXW8Fmyd5o"
   },
   "source": [
    "#### Results (exact)"
   ]
  },
  {
   "cell_type": "code",
   "execution_count": 85,
   "id": "dbIxJ9YdwImO",
   "metadata": {
    "colab": {
     "base_uri": "https://localhost:8080/",
     "height": 537
    },
    "id": "dbIxJ9YdwImO",
    "outputId": "0ef684d6-21e6-4708-b0b7-ad4f36876768"
   },
   "outputs": [
    {
     "name": "stdout",
     "output_type": "stream",
     "text": [
      "Classical Solution:          [-0.40001043 -0.9065818  -0.36092485  0.86946506 -0.72199424 -0.82532217\n",
      " -4.05988704  2.13783195]\n",
      "Quantum Solution:            [0.02299651 0.37383065 0.16842908 0.45635352 0.09501832 0.09251516\n",
      " 0.65013727 0.42758499]\n",
      "Corrected Quantum Solution:  [-0.0904  -1.46954  0.6621   1.79394  0.37352  0.36368 -2.55571  1.68085]\n",
      "\n",
      "Fidelity:                    69.44 %\n"
     ]
    },
    {
     "data": {
      "image/png": "[encoded data removed]",
      "text/plain": [
       "<Figure size 640x480 with 1 Axes>"
      ]
     },
     "metadata": {},
     "output_type": "display_data"
    }
   ],
   "source": [
    "show_solutions(A, b, qprog_hhl_exact, res_hhl_exact, precision, check=False)"
   ]
  },
  {
   "cell_type": "markdown",
   "id": "52656df8",
   "metadata": {},
   "source": [
    "### Example Streamfunction-Vorticity Lid Driven Cavity"
   ]
  },
  {
   "cell_type": "markdown",
   "id": "990d8daa",
   "metadata": {},
   "source": [
    "#### Define HHL function\n",
    "\n",
    "For streamfunction-vorticity, we modify the CR block."
   ]
  },
  {
   "cell_type": "code",
   "execution_count": 21,
   "id": "3b808a70",
   "metadata": {},
   "outputs": [],
   "source": [
    "from classiq.qmod.symbolic import floor, log\n",
    "\n",
    "# Parameters for the initial state preparation\n",
    "amplitudes = b.tolist()\n",
    "\n",
    "# Function for the main quantum program\n",
    "@qfunc\n",
    "def hhl(\n",
    "    rhs_vector: CArray[CReal],\n",
    "    precision: CInt,\n",
    "    hamiltonian_evolution_with_power: QCallable[CInt, QArray],\n",
    "    state: Output[QArray],\n",
    "    phase: Output[QNum],\n",
    "    indicator: Output[QBit],\n",
    "):\n",
    "    # Allocate \"precision\" number of qubits. All of which are fractions: 0.123456. For comparison consider 12.3456\n",
    "    # The quantum register that holds this info is called \"phase\".\n",
    "    allocate(num_qubits=precision, is_signed=UNSIGNED, fraction_digits=precision, out=phase) \n",
    "\n",
    "    # Prepare \"b\", assigned to a quantum register called \"state\". \n",
    "    load_b(amplitudes=amplitudes, state=state)\n",
    "\n",
    "    # Allocate a single qubit to the quantum register called \"indicator\". \n",
    "    # We will perform controlled rotations onto this \"indicator\". \n",
    "    allocate(indicator)\n",
    "    \n",
    "    # Perform quantum phase estimation and eigenvalue inversion\n",
    "    within_apply(\n",
    "        # Within block: on the outside, i.e., QPE and QPE^-1\n",
    "        lambda: qpe_flexible(\n",
    "            # A function that performs U operation k (or 2^k) times on the quantum register, \"state\", which encodes b. \n",
    "            unitary_with_power =\n",
    "                # hamiltonian_evolution_with_power(k, qreg) is the function that generates U from A, \n",
    "                # and can repeat itself k (or 2^k) times. \n",
    "                lambda k: hamiltonian_evolution_with_power(k, state),\n",
    "            # The outputs (eigenvalues info) are stored in the \"phase\" quantum register\n",
    "            phase=phase,\n",
    "        ),\n",
    "        # Apply block: on the inside\n",
    "        # Generates C/lambda |1>, where C = 1 / 2**precision. Note that C must be a lower bound for the smallest eigenvalue.\n",
    "        # However, this also explains why synthesis takes so long. \n",
    "        # We are supposed to perform the controlled rotations with eigenvalues as controls, and the indicator is the target.\n",
    "        # But here, it computes classical arithmetics to obtain C/lambda given variable lambda, then assigns C/lambda to the indicator qubit. \n",
    "        lambda: assign_amplitude(\n",
    "            # Here, we assign the correct amplitide based on the original eigenvalues of A, not of A'. \n",
    "            # In other words, A' is rescaled back to A at this step. \n",
    "            (1 / 2**precision) / (\n",
    "                (phase - 1/2**precision)\n",
    "                * (max - min)\n",
    "                * (2**precision / (2**precision - 1))\n",
    "                + min\n",
    "            ),\n",
    "            # C/lambda is amplitude assigned to the indicator qubit\n",
    "            indicator\n",
    "        ),\n",
    "    )\n",
    "    "
   ]
  },
  {
   "cell_type": "markdown",
   "id": "d0d228c2",
   "metadata": {},
   "source": [
    "#### Exact Hamiltonian for streamfunction vorticity"
   ]
  },
  {
   "cell_type": "code",
   "execution_count": 23,
   "id": "38438e09",
   "metadata": {},
   "outputs": [],
   "source": [
    "# from typing import List\n",
    "# import scipy\n",
    "# from classiq import Output, create_model, power, prepare_amplitudes, synthesize, unitary\n",
    "# from classiq.qmod.symbolic import floor, log\n",
    "\n",
    "@qfunc\n",
    "def unitary_with_power_logic(\n",
    "    pw: CInt, matrix: CArray[CArray[CReal]], target: QArray[QBit]\n",
    ") -> None:\n",
    "    power(pw, lambda: unitary(elements=matrix, target=target))\n",
    "\n",
    "@qfunc\n",
    "def main(\n",
    "    res: Output[QNum],\n",
    "    phase: Output[QNum],\n",
    "    indicator: Output[QBit],\n",
    ") -> None:\n",
    "    # Calling hhl()\n",
    "    hhl(\n",
    "        rhs_vector=amplitudes,\n",
    "        precision=precision,\n",
    "        hamiltonian_evolution_with_power=lambda arg0, arg1: unitary_with_power_logic(\n",
    "            # arg0 is the power k, arg1 is \"state\"\n",
    "            matrix=scipy.linalg.expm(2 * np.pi * 1j * A).tolist(), pw=arg0, target=arg1\n",
    "        ),\n",
    "        state=res,\n",
    "        phase=phase,\n",
    "        indicator=indicator,\n",
    "    )"
   ]
  },
  {
   "cell_type": "markdown",
   "id": "cdaba207",
   "metadata": {},
   "source": [
    "#### Model creation and processing"
   ]
  },
  {
   "cell_type": "code",
   "execution_count": 24,
   "id": "4e2bee4d",
   "metadata": {},
   "outputs": [],
   "source": [
    "# Construct HHL model for streamfunction, psi\n",
    "qmod_psi_exact = hhl_model(main, backend_preferences)"
   ]
  },
  {
   "cell_type": "code",
   "execution_count": 25,
   "id": "cf645345",
   "metadata": {},
   "outputs": [],
   "source": [
    "# Save qmod file\n",
    "write_qmod(qmod_psi_exact, \"psi_exact\", decimal_precision=20)"
   ]
  },
  {
   "cell_type": "code",
   "execution_count": 33,
   "id": "3af12abe",
   "metadata": {},
   "outputs": [
    {
     "name": "stdout",
     "output_type": "stream",
     "text": [
      "Quantum program link: https://platform.classiq.io/circuit/30KWvd9g1vOf6jlwNzbWpU35hxN\n",
      "Circuit depth =  2155\n",
      "Circuit CX count =  1388\n"
     ]
    }
   ],
   "source": [
    "# Preference setting to speed up qrog synthesis.\n",
    "pref = Preferences(optimization_level= 2, timeout_seconds=100000, optimization_timeout_seconds=8000)\n",
    "\n",
    "qprog_psi_exact = synthesize(qmod_psi_exact, preferences=pref)\n",
    "show(qprog_psi_exact)\n",
    "\n",
    "print(\"Circuit depth = \", qprog_psi_exact.transpiled_circuit.depth)\n",
    "print(\"Circuit CX count = \", qprog_psi_exact.transpiled_circuit.count_ops[\"cx\"])"
   ]
  },
  {
   "cell_type": "markdown",
   "id": "07f52e43",
   "metadata": {},
   "source": [
    "Statevector simulation in classiq, for exact solution of psi"
   ]
  },
  {
   "cell_type": "code",
   "execution_count": 29,
   "id": "a2ea90d5",
   "metadata": {},
   "outputs": [
    {
     "data": {
      "text/plain": [
       "[(0.07815+0j), (-0.30569+0j), (-0.28618-0j), (0.23736+0j)]"
      ]
     },
     "execution_count": 29,
     "metadata": {},
     "output_type": "execute_result"
    }
   ],
   "source": [
    "res_psi_exact = execute(qprog_psi_exact).result_value()\n",
    "qsol = quantum_solution(qprog_psi_exact, res_psi_exact, precision)\n",
    "qsol"
   ]
  },
  {
   "cell_type": "code",
   "execution_count": 41,
   "id": "2441c675",
   "metadata": {},
   "outputs": [
    {
     "name": "stdout",
     "output_type": "stream",
     "text": [
      "<class 'classiq.interface.executor.result.ExecutionDetails'>\n"
     ]
    }
   ],
   "source": [
    "print(type(res_psi_exact))\n"
   ]
  },
  {
   "cell_type": "code",
   "execution_count": 40,
   "id": "d1118943",
   "metadata": {},
   "outputs": [
    {
     "name": "stdout",
     "output_type": "stream",
     "text": [
      "{ \"vendor_format_result={} counts={'00000001': 1} counts_lsb_right=True probabilities={} parsed_states={'00000001': \"\n",
      "  \"{'res': 1, 'phase': 0.0, 'indicator': 0}} histogram=None output_qubits_map={'res': (0, 1), 'phase': (2, 3, 4, 5, \"\n",
      "  \"6), 'indicator': (7,)} state_vector={'00000000': (-0.030071960545480652+1.0737938316296436e-15j), '00000001': \"\n",
      "  \"(7.510752051680412e-16+5.246787616902565e-07j), '00000010': (7.758573642665625e-17+1.031440917788135e-07j), \"\n",
      "  \"'00000011': (3.2979621617498397e-07+5.516286716521462e-16j), '00000100': \"\n",
      "  \"(1.8442037417239565e-16+1.4686323798945595e-07j), '00000101': (4.770121360783064e-07+4.60577606140874e-16j), \"\n",
      "  \"'00000110': (1.2967749811137547e-07+7.647944522309313e-17j), '00000111': \"\n",
      "  \"(1.206368940374604e-16+2.5766461127600096e-07j), '00001000': (1.3346451980935715e-16+1.8208971877975216e-07j), \"\n",
      "  \"'00001001': (6.892904726128657e-07+2.706730840642559e-16j), '00001010': \"\n",
      "  \"(1.328590849174164e-07+3.8796425089962104e-18j), '00001011': (5.97958276902743e-17+3.257421545261557e-07j), \"\n",
      "  \"'00001100': (1.526342687780178e-07+3.6464074209327575e-16j), '00001101': \"\n",
      "  \"(-1.5945919333698317e-16+5.117673135882869e-07j), '00001110': (-3.3919235187706954e-16+8.338067702109557e-08j), \"\n",
      "  \"'00001111': (2.2088369862113598e-07+1.845567001547893e-17j), '00010000': \"\n",
      "  \"(6.651730808895605e-16+2.1924351997869083e-07j), '00010001': (1.1755011277568887e-06-1.1673841960376657e-15j), \"\n",
      "  \"'00010010': (1.3131311669939905e-07+1.0900486850550292e-17j), '00010011': \"\n",
      "  \"(-4.706326813181706e-18+3.9969942839003205e-07j), '00010100': (1.4932378059713805e-07+1.7242612294147874e-16j), \"\n",
      "  \"'00010101': (1.8115414233588916e-16+6.575667158737409e-07j), '00010110': \"\n",
      "  \"(3.033276600187873e-17+8.449490436606953e-08j), '00010111': (2.1414722545595597e-07+1.5447497354265305e-16j), \"\n",
      "  \"'00011000': (1.4911260879861014e-07+7.438562014389439e-16j), '00011001': \"\n",
      "  \"(3.729464890937003e-17+1.0031802020073922e-06j), '00011010': (-6.272245225449102e-17+9.313265179447676e-08j), \"\n",
      "  \"'00011011': (2.1240201269955767e-07-4.5829577879030975e-17j), '00011100': \"\n",
      "  \"(-2.0791859675900194e-16+1.2734923483470622e-07j), '00011101': (2.4100145685108165e-07+3.014577686132744e-16j), \"\n",
      "  \"'00011110': (1.3026288816710877e-07+1.4791999070464394e-16j), '00011111': \"\n",
      "  \"(-1.4129375121994705e-16+2.1890564632228346e-07j), '00100000': (0.002442272725128841+3.9898639947466563e-17j), \"\n",
      "  \"'00100001': (-2.6651044652409306e-17-6.245699440805206e-05j), '00100010': \"\n",
      "  \"(4.8181775138666366e-17-1.5721277920402316e-05j), '00100011': (-2.5807911322613397e-05-9.58638008384527e-17j), \"\n",
      "  \"'00100100': (7.37443824538539e-17-2.0374325555284664e-05j), '00100101': \"\n",
      "  \"(-3.7256325646514044e-05-1.7892046351442037e-16j), '00100110': (-1.0655860591337371e-05-4.047123421981047e-18j), \"\n",
      "  \"'00100111': (8.697503708996607e-17-3.301439064582409e-05j), '00101000': \"\n",
      "  \"(9.020223261900495e-17-2.3790352959958144e-05j), '00101001': (-5.529581307781504e-05-3.1567562691452167e-16j), \"\n",
      "  \"'00101010': (-1.0825202270482955e-05+3.344933108707232e-18j), '00101011': \"\n",
      "  \"(1.0978055216184085e-16-3.9594588457847426e-05j), '00101100': (-1.2057158778111213e-05+8.285676290041566e-18j), \"\n",
      "  \"'00101101': (1.9967954698572876e-16-5.8255113808460645e-05j), '00101110': \"\n",
      "  \"(1.678988708047474e-17-1.3787189526052867e-05j), '00101111': (-1.6644761464671697e-05+2.2254943656159487e-17j), \"\n",
      "  \"'00110000': (-3.42726471118035e-17-2.7239780671279684e-05j), '00110001': \"\n",
      "  \"(-9.896381278664874e-05+1.3740907283538162e-16j), '00110010': (-1.066117630934408e-05+1.3090047166867957e-17j), \"\n",
      "  \"'00110011': (-4.4631860056723593e-17-4.645846284081956e-05j), '00110100': \"\n",
      "  \"(-1.1714707424538518e-05+1.4781571962534795e-17j), '00110101': (-7.523007824333794e-17-7.177196278474664e-05j), \"\n",
      "  \"'00110110': (-1.6927106417929938e-17-1.3898318439528877e-05j), '00110111': \"\n",
      "  \"(-1.5952282915617517e-05+1.380155484256157e-17j), '00111000': (-1.1440576958907354e-05+2.2626791120004125e-17j), \"\n",
      "  \"'00111001': (-1.253134423485902e-16-0.00010424463965592767j), '00111010': \"\n",
      "  \"(-2.0024705906038914e-17-1.4786806396263736e-05j), '00111011': (-1.5320279611799266e-05+9.157273192766241e-18j), \"\n",
      "  \"'00111100': (-3.320284449942132e-17-1.8556093371062065e-05j), '00111101': \"\n",
      "  \"(-1.6138880525180666e-05+8.476258703173783e-18j), '00111110': (-1.072532551039136e-05+7.738493006115288e-18j), \"\n",
      "  \"'00111111': (-2.1777217073908062e-17-2.9404771679549154e-05j), '01000000': \"\n",
      "  \"(-0.601287012629424+9.159339953157541e-16j), '01000001': (-6.789687528236056e-16+6.429263233315048e-08j), \"\n",
      "  \"'01000010': (-1.377383808818645e-16+1.263898155263346e-08j), '01000011': \"\n",
      "  \"(4.041228267643688e-08+9.370195934446168e-17j), '01000100': (-8.125642566829605e-17+1.799620014397685e-08j), \"\n",
      "  \"'01000101': (5.845169910265018e-08-2.9075794585316213e-16j), '01000110': \"\n",
      "  \"(1.5890308891798166e-08-2.1404712828657057e-17j), '01000111': (2.5635635782747387e-17+3.1573482932051446e-08j), \"\n",
      "  \"'01001000': (-1.3422997289587902e-16+2.231275292067133e-08j), '01001001': \"\n",
      "  \"(8.446367913511862e-08-2.5052137615568805e-16j), '01001010': (1.6280171425262975e-08+3.6377637309474356e-17j), \"\n",
      "  \"'01001011': (-4.331120334305613e-17+3.9915510283084295e-08j), '01001100': \"\n",
      "  \"(1.870336544794078e-08+4.2459237669654993e-16j), '01001101': (1.82573428757075e-16+6.271050005733864e-08j), \"\n",
      "  \"'01001110': (-1.6897974150731586e-16+1.0217229427794627e-08j), '01001111': \"\n",
      "  \"(2.7066455627786276e-08+1.2384574766359655e-16j), '01010000': (3.758562821868128e-16+2.686547365089315e-08j), \"\n",
      "  \"'01010001': (1.440425389125598e-07+4.739664507973308e-16j), '01010010': \"\n",
      "  \"(1.6090733252359956e-08-1.423596768367982e-16j), '01010011': (-2.5845046480982536e-17+4.897802250567664e-08j), \"\n",
      "  \"'01010100': (1.829770789618192e-08+1.262340654190403e-16j), '01010101': \"\n",
      "  \"(-1.5421209223526125e-16+8.057634072253629e-08j), '01010110': (-1.6338507689658232e-16+1.0353763388135059e-08j), \"\n",
      "  \"'01010111': (2.6240986990291986e-08+9.391535539888811e-17j), '01011000': \"\n",
      "  \"(1.8271831329483755e-08+1.693254082911829e-16j), '01011001': (-7.610039136175193e-17+1.2292682694457613e-07j), \"\n",
      "  \"'01011010': (4.264434935836997e-17+1.141220834755724e-08j), '01011011': \"\n",
      "  \"(2.6027134022451735e-08+1.818427205650028e-16j), '01011100': (-5.818716323092813e-17+1.5605010192461238e-08j), \"\n",
      "  \"'01011101': (2.953162760272099e-08-1.016291901509432e-16j), '01011110': \"\n",
      "  \"(1.5962040829996144e-08+2.861943076956458e-16j), '01011111': (2.9916934036142196e-17+2.682407041904545e-08j), \"\n",
      "  \"'01100000': (-0.009552931449157826+3.382710778154774e-17j), '01100001': \"\n",
      "  \"(-9.925532075925891e-17-7.653301098971501e-06j), '01100010': (4.134960738611318e-17-1.9264403404933176e-06j), \"\n",
      "  \"'01100011': (-3.162427489960841e-06-1.6376450298919917e-16j), '01100100': \"\n",
      "  \"(6.371688878690227e-17-2.4966114624343634e-06j), '01100101': (-4.565283370906619e-06-3.0166146680219927e-16j), \"\n",
      "  \"'01100110': (-1.3057386180357217e-06+2.3176939019245793e-19j), '01100111': \"\n",
      "  \"(1.1690028759998687e-16-4.0454888133163546e-06j), '01101000': (7.241517600137509e-17-2.915201670603023e-06j), \"\n",
      "  \"'01101001': (-6.775790461081587e-06-4.717744817310694e-16j), '01101010': \"\n",
      "  \"(-1.326489262083145e-06+6.532741605698791e-19j), '01101011': (1.3914887850904195e-16-4.851807394981847e-06j), \"\n",
      "  \"'01101100': (-1.477449681829402e-06+6.2451739201059564e-18j), '01101101': \"\n",
      "  \"(2.4583056063335294e-16-7.138414692009481e-06j), '01101110': (1.4085522638128574e-17-1.6894426916387584e-06j), \"\n",
      "  \"'01101111': (-2.039601367321014e-06+7.93256943015493e-18j), '01110000': \"\n",
      "  \"(-3.223193298363108e-17-3.337884656757986e-06j), '01110001': (-1.2126741997543921e-05+2.6015515832084404e-16j), \"\n",
      "  \"'01110010': (-1.3063899908836684e-06+8.114681513814604e-18j), '01110011': \"\n",
      "  \"(-7.80638269683772e-17-5.692886890832412e-06j), '01110100': (-1.4354866743831956e-06+1.1879954722596783e-17j), \"\n",
      "  \"'01110101': (-1.3555745881268372e-16-8.794730627877371e-06j), '01110110': \"\n",
      "  \"(-1.1857720107731357e-17-1.7030601102387915e-06j), '01110111': (-1.9547470304580676e-06+9.245046981925468e-18j), \"\n",
      "  \"'01111000': (-1.4018955127165466e-06+1.5678473974558692e-17j), '01111001': \"\n",
      "  \"(-2.2891827729199996e-16-1.277383938822867e-05j), '01111010': (-1.4698456854585467e-17-1.8119328781286522e-06j), \"\n",
      "  \"'01111011': (-1.8773031567943556e-06+7.595026800674091e-18j), '01111100': \"\n",
      "  \"(-2.4845170408863138e-17-2.2738105015763115e-06j), '01111101': (-1.977612166498532e-06+4.149720287717224e-18j), \"\n",
      "  \"'01111110': (-1.3142506501515323e-06+4.9179791708768746e-18j), '01111111': \"\n",
      "  \"(-3.236830528813902e-17-3.603176450113495e-06j), '10000000': (-0.5237765992343975+3.3306690738754696e-16j), \"\n",
      "  \"'10000001': (1.1354944213513336e-15-6.429263113430539e-08j), '10000010': \"\n",
      "  \"(-3.50016135923779e-16-1.2638980902998537e-08j), '10000011': (-4.0412282490206675e-08-3.7262761427628356e-16j), \"\n",
      "  \"'10000100': (-8.755940958705212e-17-1.7996199845988534e-08j), '10000101': \"\n",
      "  \"(-5.8451699478659794e-08-4.797271053279951e-16j), '10000110': (-1.5890309052031548e-08+5.4647687168315773e-17j), \"\n",
      "  \"'10000111': (2.6973850562969145e-16-3.157348252469737e-08j), '10001000': \"\n",
      "  \"(-8.322062145390426e-17-2.231275144818166e-08j), '10001001': (-8.446367879756838e-08-3.489113932023226e-16j), \"\n",
      "  \"'10001010': (-1.628017184436923e-08+3.5303968620345225e-16j), '10001011': \"\n",
      "  \"(1.6513175974985542e-16-3.991551031161593e-08j), '10001100': (-1.8703365969638332e-08+2.3511115189069663e-16j), \"\n",
      "  \"'10001101': (-4.252469685558356e-17-6.27105001905836e-08j), '10001110': \"\n",
      "  \"(-8.168560377962582e-17-1.021722878853518e-08j), '10001111': (-2.706645500595254e-08-5.09409750381799e-18j), \"\n",
      "  \"'10010000': (-2.1300619427756649e-16-2.6865471534385067e-08j), '10010001': \"\n",
      "  \"(-1.440425388177822e-07+7.553462430731179e-16j), '10010010': (-1.6090733131925354e-08+7.279984311035307e-18j), \"\n",
      "  \"'10010011': (1.7615556268612512e-16-4.8978022553043955e-08j), '10010100': \"\n",
      "  \"(-1.8297708369913237e-08+3.03073590666461e-16j), '10010101': (1.3763228917804028e-16-8.05763411915901e-08j), \"\n",
      "  \"'10010110': (8.304029029010341e-17-1.0353763365807916e-08j), '10010111': \"\n",
      "  \"(-2.6240987190424093e-08+1.4701984779898006e-16j), '10011000': (-1.8271832232605755e-08+3.280456133581622e-16j), \"\n",
      "  \"'10011001': (-6.429569684000767e-17-1.2292682694240815e-07j), '10011010': \"\n",
      "  \"(-2.544379233277133e-16-1.1412208241238075e-08j), '10011011': (-2.6027134067496984e-08+2.999936754726678e-17j), \"\n",
      "  \"'10011100': (-1.361503140469515e-17-1.5605010364917348e-08j), '10011101': \"\n",
      "  \"(-2.9531627518041148e-08-5.163538819933449e-17j), '10011110': (-1.596204138850986e-08+1.3687974755369975e-16j), \"\n",
      "  \"'10011111': (-1.9496618086553423e-16-2.6824070563788185e-08j), '10100000': \"\n",
      "  \"(-0.008943275425718137-1.8214596497756474e-17j), '10100001': (1.029115384760821e-16+7.65330109903329e-06j), \"\n",
      "  \"'10100010': (-5.204445713638279e-17+1.926440340561673e-06j), '10100011': \"\n",
      "  \"(3.1624274899733684e-06+1.6325840080321473e-16j), '10100100': (-6.855662328927653e-17+2.496611462524451e-06j), \"\n",
      "  \"'10100101': (4.565283370916766e-06+3.033231336864754e-16j), '10100110': \"\n",
      "  \"(1.3057386180498483e-06+1.0198382564060183e-17j), '10100111': (-1.2713308087752926e-16+4.045488813324291e-06j), \"\n",
      "  \"'10101000': (-7.421385046486959e-17+2.9152016706774417e-06j), '10101001': \"\n",
      "  \"(6.775790461088812e-06+4.718227626090629e-16j), '10101010': (1.3264892620789288e-06+3.6905225511869866e-18j), \"\n",
      "  \"'10101011': (-1.385210153368897e-16+4.851807394986144e-06j), '10101100': \"\n",
      "  \"(1.4774496818211787e-06+5.580253056511331e-18j), '10101101': (-2.516310422561504e-16+7.138414692007625e-06j), \"\n",
      "  \"'10101110': (-1.6528471537128383e-17+1.6894426916399641e-06j), '10101111': \"\n",
      "  \"(2.039601367325197e-06-7.447219551378215e-18j), '10110000': (4.855679897606321e-17+3.337884656725101e-06j), \"\n",
      "  \"'10110001': (1.2126741997535881e-05-2.560843179763399e-16j), '10110010': \"\n",
      "  \"(1.3063899908714726e-06-8.368156123280453e-18j), '10110011': (7.733919028200115e-17+5.6928868908139375e-06j), \"\n",
      "  \"'10110100': (1.435486674358196e-06-1.0127549433846042e-17j), '10110101': \"\n",
      "  \"(1.3550663683584846e-16+8.794730627858067e-06j), '10110110': (1.4493263123113113e-17+1.703060110203516e-06j), \"\n",
      "  \"'10110111': (1.9547470304523688e-06-1.1132977542236897e-17j), '10111000': \"\n",
      "  \"(1.4018955126927718e-06-5.896408104073998e-19j), '10111001': (2.234811728035746e-16+1.2773839388202416e-05j), \"\n",
      "  \"'10111010': (1.226598998830793e-17+1.8119328780892923e-06j), '10111011': \"\n",
      "  \"(1.877303156792267e-06-1.0728519309922968e-17j), '10111100': (1.6109401986474318e-17+2.2738105015274305e-06j), \"\n",
      "  \"'10111101': (1.977612166494927e-06-8.27170024641187e-18j), '10111110': \"\n",
      "  \"(1.3142506501472636e-06-1.1528965445078282e-17j), '10111111': (3.612193179389645e-17+3.603176450100916e-06j), \"\n",
      "  \"'11000000': (0.6024743608056744+1.0269562977782698e-15j), '11000001': \"\n",
      "  \"(-3.0504865097310673e-15-5.246787618101779e-07j), '11000010': (-1.5175481325932957e-16-1.0314409126500655e-07j), \"\n",
      "  \"'11000011': (-3.2979621659683454e-07-3.3145378607906035e-17j), '11000100': \"\n",
      "  \"(-1.944077595058058e-17-1.4686323781728118e-07j), '11000101': (-4.770121360617729e-07-3.903938060901424e-16j), \"\n",
      "  \"'11000110': (-1.2967749787797306e-07-6.402964908523102e-17j), '11000111': \"\n",
      "  \"(-7.867076577975431e-17-2.576646111837779e-07j), '11001000': (3.412838416599629e-16-1.820897177020496e-07j), \"\n",
      "  \"'11001001': (-6.892904737865574e-07+3.800394371148894e-16j), '11001010': \"\n",
      "  \"(-1.3285908493657865e-07+1.2505373410602816e-16j), '11001011': (-1.468742822091442e-16-3.2574215447335185e-07j), \"\n",
      "  \"'11001100': (-1.5263426906989616e-07+2.266021715768515e-16j), '11001101': \"\n",
      "  \"(1.112085967713524e-16-5.117673135893932e-07j), '11001110': (-5.088708190516635e-16-8.338067666550655e-08j), \"\n",
      "  \"'11001111': (-2.208836989355758e-07+5.5743238258805505e-18j), '11010000': \"\n",
      "  \"(1.4074760158091422e-15-2.1924352090390846e-07j), '11010001': (-1.1755011290262188e-06+1.0762779675057036e-15j), \"\n",
      "  \"'11010010': (-1.313131169228432e-07-3.147977235868069e-16j), '11010011': \"\n",
      "  \"(-2.1333186521089596e-17-3.9969942855189205e-07j), '11010100': (-1.493237806126331e-07-7.957765351613295e-17j), \"\n",
      "  \"'11010101': (-7.603237726306537e-17-6.57566715861559e-07j), '11010110': \"\n",
      "  \"(-1.3338050472890136e-16-8.4494904196493e-08j), '11010111': (-2.141472252191403e-07+2.360474359716842e-16j), \"\n",
      "  \"'11011000': (-1.4911260933925975e-07+4.2903164411306583e-16j), '11011001': \"\n",
      "  \"(-7.677245641886106e-16-1.003180201575211e-06j), '11011010': (1.9040002973331698e-16-9.313265186600297e-08j), \"\n",
      "  \"'11011011': (-2.124020129792986e-07-1.001706986774448e-16j), '11011100': \"\n",
      "  \"(-1.8870229777433355e-16-1.2734923551593562e-07j), '11011101': (-2.410014569810578e-07-2.2907242405351044e-16j), \"\n",
      "  \"'11011110': (-1.3026288807936638e-07+7.621763263305275e-17j), '11011111': \"\n",
      "  \"(-1.3205012037123027e-16-2.189056464129854e-07j), '11100000': (0.007417548407780163+1.214306433183765e-17j), \"\n",
      "  \"'11100001': (-2.087089182034596e-18+6.245699440807077e-05j), '11100010': \"\n",
      "  \"(-1.1533200609814553e-17+1.5721277920438488e-05j), '11100011': (2.580791132258711e-05+8.32599505833087e-17j), \"\n",
      "  \"'11100100': (-1.8985396479757888e-17+2.0374325555343268e-05j), '11100101': \"\n",
      "  \"(3.725632564647041e-05+1.7117350017883254e-16j), '11100110': (1.0655860591280012e-05-8.063753657860939e-18j), \"\n",
      "  \"'11100111': (-7.806255641895632e-17+3.3014390645829953e-05j), '11101000': \"\n",
      "  \"(-1.5261839643627984e-17+2.37903529600522e-05j), '11101001': (5.529581307776915e-05+3.089434090497445e-16j), \"\n",
      "  \"'11101010': (1.082520227042252e-05-5.663262285342252e-18j), '11101011': \"\n",
      "  \"(-1.0171849256987442e-16+3.959458845785271e-05j), '11101100': (1.2057158778019188e-05-1.5228805358685066e-17j), \"\n",
      "  \"'11101101': (-1.861575130157611e-16+5.825511380847274e-05j), '11101110': \"\n",
      "  \"(-2.4462311516704194e-18+1.3787189526062892e-05j), '11101111': (1.6644761464653256e-05-2.782164418551475e-17j), \"\n",
      "  \"'11110000': (6.945670167485263e-18+2.7239780671415145e-05j), '11110001': \"\n",
      "  \"(9.896381278661103e-05-1.3812058051107523e-16j), '11110010': (1.0661176309282315e-05+9.402065714522734e-19j), \"\n",
      "  \"'11110011': (3.488081676793209e-17+4.645846284083764e-05j), '11110100': \"\n",
      "  \"(1.1714707424445456e-05+2.574980159653073e-18j), '11110101': (6.522831320215916e-17+7.177196278476618e-05j), \"\n",
      "  \"'11110110': (-4.149614408598817e-18+1.3898318439549935e-05j), '11110111': \"\n",
      "  \"(1.5952282915602376e-05-7.722399380117456e-18j), '11111000': (1.144057695876056e-05+8.506751889274938e-18j), \"\n",
      "  \"'11111001': (1.1259439561261964e-16+0.00010424463965594464j), '11111010': \"\n",
      "  \"(-5.894502279942676e-18+1.478680639628347e-05j), '11111011': (1.5320279611780834e-05-2.4064206031494673e-18j), \"\n",
      "  \"'11111100': (-1.666960840196463e-17+1.8556093371084166e-05j), '11111101': \"\n",
      "  \"(1.6138880525158344e-05-2.3022355506371883e-18j), '11111110': (1.0725325510356952e-05-2.0549019300389326e-18j), \"\n",
      "  \"'11111111': (1.0987711391782784e-17+2.940477167956229e-05j)} parsed_state_vector_states={'00000000': {'res': 0, \"\n",
      "  \"'phase': 0.0, 'indicator': 0}, '00000001': {'res': 0, 'phase': 0.03125, 'indicator': 0}, '00000010': {'res': 0, \"\n",
      "  \"'phase': 0.0625, 'indicator': 0}, '00000011': {'res': 0, 'phase': 0.09375, 'indicator': 0}, '00000100': {'res': 0, \"\n",
      "  \"'phase': 0.125, 'indicator': 0}, '00000101': {'res': 0, 'phase': 0.15625, 'indicator': 0}, '00000110': {'res': 0, \"\n",
      "  \"'phase': 0.1875, 'indicator': 0}, '00000111': {'res': 0, 'phase': 0.21875, 'indicator': 0}, '00001000': {'res': 0, \"\n",
      "  \"'phase': 0.25, 'indicator': 0}, '00001001': {'res': 0, 'phase': 0.28125, 'indicator': 0}, '00001010': {'res': 0, \"\n",
      "  \"'phase': 0.3125, 'indicator': 0}, '00001011': {'res': 0, 'phase': 0.34375, 'indicator': 0}, '00001100': {'res': 0, \"\n",
      "  \"'phase': 0.375, 'indicator': 0}, '00001101': {'res': 0, 'phase': 0.40625, 'indicator': 0}, '00001110': {'res': 0, \"\n",
      "  \"'phase': 0.4375, 'indicator': 0}, '00001111': {'res': 0, 'phase': 0.46875, 'indicator': 0}, '00010000': {'res': 0, \"\n",
      "  \"'phase': 0.5, 'indicator': 0}, '00010001': {'res': 0, 'phase': 0.53125, 'indicator': 0}, '00010010': {'res': 0, \"\n",
      "  \"'phase': 0.5625, 'indicator': 0}, '00010011': {'res': 0, 'phase': 0.59375, 'indicator': 0}, '00010100': {'res': 0, \"\n",
      "  \"'phase': 0.625, 'indicator': 0}, '00010101': {'res': 0, 'phase': 0.65625, 'indicator': 0}, '00010110': {'res': 0, \"\n",
      "  \"'phase': 0.6875, 'indicator': 0}, '00010111': {'res': 0, 'phase': 0.71875, 'indicator': 0}, '00011000': {'res': 0, \"\n",
      "  \"'phase': 0.75, 'indicator': 0}, '00011001': {'res': 0, 'phase': 0.78125, 'indicator': 0}, '00011010': {'res': 0, \"\n",
      "  \"'phase': 0.8125, 'indicator': 0}, '00011011': {'res': 0, 'phase': 0.84375, 'indicator': 0}, '00011100': {'res': 0, \"\n",
      "  \"'phase': 0.875, 'indicator': 0}, '00011101': {'res': 0, 'phase': 0.90625, 'indicator': 0}, '00011110': {'res': 0, \"\n",
      "  \"'phase': 0.9375, 'indicator': 0}, '00011111': {'res': 0, 'phase': 0.96875, 'indicator': 0}, '00100000': {'res': 0, \"\n",
      "  \"'phase': 0.0, 'indicator': 1}, '00100001': {'res': 0, 'phase': 0.03125, 'indicator': 1}, '00100010': {'res': 0, \"\n",
      "  \"'phase': 0.0625, 'indicator': 1}, '00100011': {'res': 0, 'phase': 0.09375, 'indicator': 1}, '00100100': {'res': 0, \"\n",
      "  \"'phase': 0.125, 'indicator': 1}, '00100101': {'res': 0, 'phase': 0.15625, 'indicator': 1}, '00100110': {'res': 0, \"\n",
      "  \"'phase': 0.1875, 'indicator': 1}, '00100111': {'res': 0, 'phase': 0.21875, 'indicator': 1}, '00101000': {'res': 0, \"\n",
      "  \"'phase': 0.25, 'indicator': 1}, '00101001': {'res': 0, 'phase': 0.28125, 'indicator': 1}, '00101010': {'res': 0, \"\n",
      "  \"'phase': 0.3125, 'indicator': 1}, '00101011': {'res': 0, 'phase': 0.34375, 'indicator': 1}, '00101100': {'res': 0, \"\n",
      "  \"'phase': 0.375, 'indicator': 1}, '00101101': {'res': 0, 'phase': 0.40625, 'indicator': 1}, '00101110': {'res': 0, \"\n",
      "  \"'phase': 0.4375, 'indicator': 1}, '00101111': {'res': 0, 'phase': 0.46875, 'indicator': 1}, '00110000': {'res': 0, \"\n",
      "  \"'phase': 0.5, 'indicator': 1}, '00110001': {'res': 0, 'phase': 0.53125, 'indicator': 1}, '00110010': {'res': 0, \"\n",
      "  \"'phase': 0.5625, 'indicator': 1}, '00110011': {'res': 0, 'phase': 0.59375, 'indicator': 1}, '00110100': {'res': 0, \"\n",
      "  \"'phase': 0.625, 'indicator': 1}, '00110101': {'res': 0, 'phase': 0.65625, 'indicator': 1}, '00110110': {'res': 0, \"\n",
      "  \"'phase': 0.6875, 'indicator': 1}, '00110111': {'res': 0, 'phase': 0.71875, 'indicator': 1}, '00111000': {'res': 0, \"\n",
      "  \"'phase': 0.75, 'indicator': 1}, '00111001': {'res': 0, 'phase': 0.78125, 'indicator': 1}, '00111010': {'res': 0, \"\n",
      "  \"'phase': 0.8125, 'indicator': 1}, '00111011': {'res': 0, 'phase': 0.84375, 'indicator': 1}, '00111100': {'res': 0, \"\n",
      "  \"'phase': 0.875, 'indicator': 1}, '00111101': {'res': 0, 'phase': 0.90625, 'indicator': 1}, '00111110': {'res': 0, \"\n",
      "  \"'phase': 0.9375, 'indicator': 1}, '00111111': {'res': 0, 'phase': 0.96875, 'indicator': 1}, '01000000': {'res': 1, \"\n",
      "  \"'phase': 0.0, 'indicator': 0}, '01000001': {'res': 1, 'phase': 0.03125, 'indicator': 0}, '01000010': {'res': 1, \"\n",
      "  \"'phase': 0.0625, 'indicator': 0}, '01000011': {'res': 1, 'phase': 0.09375, 'indicator': 0}, '01000100': {'res': 1, \"\n",
      "  \"'phase': 0.125, 'indicator': 0}, '01000101': {'res': 1, 'phase': 0.15625, 'indicator': 0}, '01000110': {'res': 1, \"\n",
      "  \"'phase': 0.1875, 'indicator': 0}, '01000111': {'res': 1, 'phase': 0.21875, 'indicator': 0}, '01001000': {'res': 1, \"\n",
      "  \"'phase': 0.25, 'indicator': 0}, '01001001': {'res': 1, 'phase': 0.28125, 'indicator': 0}, '01001010': {'res': 1, \"\n",
      "  \"'phase': 0.3125, 'indicator': 0}, '01001011': {'res': 1, 'phase': 0.34375, 'indicator': 0}, '01001100': {'res': 1, \"\n",
      "  \"'phase': 0.375, 'indicator': 0}, '01001101': {'res': 1, 'phase': 0.40625, 'indicator': 0}, '01001110': {'res': 1, \"\n",
      "  \"'phase': 0.4375, 'indicator': 0}, '01001111': {'res': 1, 'phase': 0.46875, 'indicator': 0}, '01010000': {'res': 1, \"\n",
      "  \"'phase': 0.5, 'indicator': 0}, '01010001': {'res': 1, 'phase': 0.53125, 'indicator': 0}, '01010010': {'res': 1, \"\n",
      "  \"'phase': 0.5625, 'indicator': 0}, '01010011': {'res': 1, 'phase': 0.59375, 'indicator': 0}, '01010100': {'res': 1, \"\n",
      "  \"'phase': 0.625, 'indicator': 0}, '01010101': {'res': 1, 'phase': 0.65625, 'indicator': 0}, '01010110': {'res': 1, \"\n",
      "  \"'phase': 0.6875, 'indicator': 0}, '01010111': {'res': 1, 'phase': 0.71875, 'indicator': 0}, '01011000': {'res': 1, \"\n",
      "  \"'phase': 0.75, 'indicator': 0}, '01011001': {'res': 1, 'phase': 0.78125, 'indicator': 0}, '01011010': {'res': 1, \"\n",
      "  \"'phase': 0.8125, 'indicator': 0}, '01011011': {'res': 1, 'phase': 0.84375, 'indicator': 0}, '01011100': {'res': 1, \"\n",
      "  \"'phase': 0.875, 'indicator': 0}, '01011101': {'res': 1, 'phase': 0.90625, 'indicator': 0}, '01011110': {'res': 1, \"\n",
      "  \"'phase': 0.9375, 'indicator': 0}, '01011111': {'res': 1, 'phase': 0.96875, 'indicator': 0}, '01100000': {'res': 1, \"\n",
      "  \"'phase': 0.0, 'indicator': 1}, '01100001': {'res': 1, 'phase': 0.03125, 'indicator': 1}, '01100010': {'res': 1, \"\n",
      "  \"'phase': 0.0625, 'indicator': 1}, '01100011': {'res': 1, 'phase': 0.09375, 'indicator': 1}, '01100100': {'res': 1, \"\n",
      "  \"'phase': 0.125, 'indicator': 1}, '01100101': {'res': 1, 'phase': 0.15625, 'indicator': 1}, '01100110': {'res': 1, \"\n",
      "  \"'phase': 0.1875, 'indicator': 1}, '01100111': {'res': 1, 'phase': 0.21875, 'indicator': 1}, '01101000': {'res': 1, \"\n",
      "  \"'phase': 0.25, 'indicator': 1}, '01101001': {'res': 1, 'phase': 0.28125, 'indicator': 1}, '01101010': {'res': 1, \"\n",
      "  \"'phase': 0.3125, 'indicator': 1}, '01101011': {'res': 1, 'phase': 0.34375, 'indicator': 1}, '01101100': {'res': 1, \"\n",
      "  \"'phase': 0.375, 'indicator': 1}, '01101101': {'res': 1, 'phase': 0.40625, 'indicator': 1}, '01101110': {'res': 1, \"\n",
      "  \"'phase': 0.4375, 'indicator': 1}, '01101111': {'res': 1, 'phase': 0.46875, 'indicator': 1}, '01110000': {'res': 1, \"\n",
      "  \"'phase': 0.5, 'indicator': 1}, '01110001': {'res': 1, 'phase': 0.53125, 'indicator': 1}, '01110010': {'res': 1, \"\n",
      "  \"'phase': 0.5625, 'indicator': 1}, '01110011': {'res': 1, 'phase': 0.59375, 'indicator': 1}, '01110100': {'res': 1, \"\n",
      "  \"'phase': 0.625, 'indicator': 1}, '01110101': {'res': 1, 'phase': 0.65625, 'indicator': 1}, '01110110': {'res': 1, \"\n",
      "  \"'phase': 0.6875, 'indicator': 1}, '01110111': {'res': 1, 'phase': 0.71875, 'indicator': 1}, '01111000': {'res': 1, \"\n",
      "  \"'phase': 0.75, 'indicator': 1}, '01111001': {'res': 1, 'phase': 0.78125, 'indicator': 1}, '01111010': {'res': 1, \"\n",
      "  \"'phase': 0.8125, 'indicator': 1}, '01111011': {'res': 1, 'phase': 0.84375, 'indicator': 1}, '01111100': {'res': 1, \"\n",
      "  \"'phase': 0.875, 'indicator': 1}, '01111101': {'res': 1, 'phase': 0.90625, 'indicator': 1}, '01111110': {'res': 1, \"\n",
      "  \"'phase': 0.9375, 'indicator': 1}, '01111111': {'res': 1, 'phase': 0.96875, 'indicator': 1}, '10000000': {'res': 2, \"\n",
      "  \"'phase': 0.0, 'indicator': 0}, '10000001': {'res': 2, 'phase': 0.03125, 'indicator': 0}, '10000010': {'res': 2, \"\n",
      "  \"'phase': 0.0625, 'indicator': 0}, '10000011': {'res': 2, 'phase': 0.09375, 'indicator': 0}, '10000100': {'res': 2, \"\n",
      "  \"'phase': 0.125, 'indicator': 0}, '10000101': {'res': 2, 'phase': 0.15625, 'indicator': 0}, '10000110': {'res': 2, \"\n",
      "  \"'phase': 0.1875, 'indicator': 0}, '10000111': {'res': 2, 'phase': 0.21875, 'indicator': 0}, '10001000': {'res': 2, \"\n",
      "  \"'phase': 0.25, 'indicator': 0}, '10001001': {'res': 2, 'phase': 0.28125, 'indicator': 0}, '10001010': {'res': 2, \"\n",
      "  \"'phase': 0.3125, 'indicator': 0}, '10001011': {'res': 2, 'phase': 0.34375, 'indicator': 0}, '10001100': {'res': 2, \"\n",
      "  \"'phase': 0.375, 'indicator': 0}, '10001101': {'res': 2, 'phase': 0.40625, 'indicator': 0}, '10001110': {'res': 2, \"\n",
      "  \"'phase': 0.4375, 'indicator': 0}, '10001111': {'res': 2, 'phase': 0.46875, 'indicator': 0}, '10010000': {'res': 2, \"\n",
      "  \"'phase': 0.5, 'indicator': 0}, '10010001': {'res': 2, 'phase': 0.53125, 'indicator': 0}, '10010010': {'res': 2, \"\n",
      "  \"'phase': 0.5625, 'indicator': 0}, '10010011': {'res': 2, 'phase': 0.59375, 'indicator': 0}, '10010100': {'res': 2, \"\n",
      "  \"'phase': 0.625, 'indicator': 0}, '10010101': {'res': 2, 'phase': 0.65625, 'indicator': 0}, '10010110': {'res': 2, \"\n",
      "  \"'phase': 0.6875, 'indicator': 0}, '10010111': {'res': 2, 'phase': 0.71875, 'indicator': 0}, '10011000': {'res': 2, \"\n",
      "  \"'phase': 0.75, 'indicator': 0}, '10011001': {'res': 2, 'phase': 0.78125, 'indicator': 0}, '10011010': {'res': 2, \"\n",
      "  \"'phase': 0.8125, 'indicator': 0}, '10011011': {'res': 2, 'phase': 0.84375, 'indicator': 0}, '10011100': {'res': 2, \"\n",
      "  \"'phase': 0.875, 'indicator': 0}, '10011101': {'res': 2, 'phase': 0.90625, 'indicator': 0}, '10011110': {'res': 2, \"\n",
      "  \"'phase': 0.9375, 'indicator': 0}, '10011111': {'res': 2, 'phase': 0.96875, 'indicator': 0}, '10100000': {'res': 2, \"\n",
      "  \"'phase': 0.0, 'indicator': 1}, '10100001': {'res': 2, 'phase': 0.03125, 'indicator': 1}, '10100010': {'res': 2, \"\n",
      "  \"'phase': 0.0625, 'indicator': 1}, '10100011': {'res': 2, 'phase': 0.09375, 'indicator': 1}, '10100100': {'res': 2, \"\n",
      "  \"'phase': 0.125, 'indicator': 1}, '10100101': {'res': 2, 'phase': 0.15625, 'indicator': 1}, '10100110': {'res': 2, \"\n",
      "  \"'phase': 0.1875, 'indicator': 1}, '10100111': {'res': 2, 'phase': 0.21875, 'indicator': 1}, '10101000': {'res': 2, \"\n",
      "  \"'phase': 0.25, 'indicator': 1}, '10101001': {'res': 2, 'phase': 0.28125, 'indicator': 1}, '10101010': {'res': 2, \"\n",
      "  \"'phase': 0.3125, 'indicator': 1}, '10101011': {'res': 2, 'phase': 0.34375, 'indicator': 1}, '10101100': {'res': 2, \"\n",
      "  \"'phase': 0.375, 'indicator': 1}, '10101101': {'res': 2, 'phase': 0.40625, 'indicator': 1}, '10101110': {'res': 2, \"\n",
      "  \"'phase': 0.4375, 'indicator': 1}, '10101111': {'res': 2, 'phase': 0.46875, 'indicator': 1}, '10110000': {'res': 2, \"\n",
      "  \"'phase': 0.5, 'indicator': 1}, '10110001': {'res': 2, 'phase': 0.53125, 'indicator': 1}, '10110010': {'res': 2, \"\n",
      "  \"'phase': 0.5625, 'indicator': 1}, '10110011': {'res': 2, 'phase': 0.59375, 'indicator': 1}, '10110100': {'res': 2, \"\n",
      "  \"'phase': 0.625, 'indicator': 1}, '10110101': {'res': 2, 'phase': 0.65625, 'indicator': 1}, '10110110': {'res': 2, \"\n",
      "  \"'phase': 0.6875, 'indicator': 1}, '10110111': {'res': 2, 'phase': 0.71875, 'indicator': 1}, '10111000': {'res': 2, \"\n",
      "  \"'phase': 0.75, 'indicator': 1}, '10111001': {'res': 2, 'phase': 0.78125, 'indicator': 1}, '10111010': {'res': 2, \"\n",
      "  \"'phase': 0.8125, 'indicator': 1}, '10111011': {'res': 2, 'phase': 0.84375, 'indicator': 1}, '10111100': {'res': 2, \"\n",
      "  \"'phase': 0.875, 'indicator': 1}, '10111101': {'res': 2, 'phase': 0.90625, 'indicator': 1}, '10111110': {'res': 2, \"\n",
      "  \"'phase': 0.9375, 'indicator': 1}, '10111111': {'res': 2, 'phase': 0.96875, 'indicator': 1}, '11000000': {'res': 3, \"\n",
      "  \"'phase': 0.0, 'indicator': 0}, '11000001': {'res': 3, 'phase': 0.03125, 'indicator': 0}, '11000010': {'res': 3, \"\n",
      "  \"'phase': 0.0625, 'indicator': 0}, '11000011': {'res': 3, 'phase': 0.09375, 'indicator': 0}, '11000100': {'res': 3, \"\n",
      "  \"'phase': 0.125, 'indicator': 0}, '11000101': {'res': 3, 'phase': 0.15625, 'indicator': 0}, '11000110': {'res': 3, \"\n",
      "  \"'phase': 0.1875, 'indicator': 0}, '11000111': {'res': 3, 'phase': 0.21875, 'indicator': 0}, '11001000': {'res': 3, \"\n",
      "  \"'phase': 0.25, 'indicator': 0}, '11001001': {'res': 3, 'phase': 0.28125, 'indicator': 0}, '11001010': {'res': 3, \"\n",
      "  \"'phase': 0.3125, 'indicator': 0}, '11001011': {'res': 3, 'phase': 0.34375, 'indicator': 0}, '11001100': {'res': 3, \"\n",
      "  \"'phase': 0.375, 'indicator': 0}, '11001101': {'res': 3, 'phase': 0.40625, 'indicator': 0}, '11001110': {'res': 3, \"\n",
      "  \"'phase': 0.4375, 'indicator': 0}, '11001111': {'res': 3, 'phase': 0.46875, 'indicator': 0}, '11010000': {'res': 3, \"\n",
      "  \"'phase': 0.5, 'indicator': 0}, '11010001': {'res': 3, 'phase': 0.53125, 'indicator': 0}, '11010010': {'res': 3, \"\n",
      "  \"'phase': 0.5625, 'indicator': 0}, '11010011': {'res': 3, 'phase': 0.59375, 'indicator': 0}, '11010100': {'res': 3, \"\n",
      "  \"'phase': 0.625, 'indicator': 0}, '11010101': {'res': 3, 'phase': 0.65625, 'indicator': 0}, '11010110': {'res': 3, \"\n",
      "  \"'phase': 0.6875, 'indicator': 0}, '11010111': {'res': 3, 'phase': 0.71875, 'indicator': 0}, '11011000': {'res': 3, \"\n",
      "  \"'phase': 0.75, 'indicator': 0}, '11011001': {'res': 3, 'phase': 0.78125, 'indicator': 0}, '11011010': {'res': 3, \"\n",
      "  \"'phase': 0.8125, 'indicator': 0}, '11011011': {'res': 3, 'phase': 0.84375, 'indicator': 0}, '11011100': {'res': 3, \"\n",
      "  \"'phase': 0.875, 'indicator': 0}, '11011101': {'res': 3, 'phase': 0.90625, 'indicator': 0}, '11011110': {'res': 3, \"\n",
      "  \"'phase': 0.9375, 'indicator': 0}, '11011111': {'res': 3, 'phase': 0.96875, 'indicator': 0}, '11100000': {'res': 3, \"\n",
      "  \"'phase': 0.0, 'indicator': 1}, '11100001': {'res': 3, 'phase': 0.03125, 'indicator': 1}, '11100010': {'res': 3, \"\n",
      "  \"'phase': 0.0625, 'indicator': 1}, '11100011': {'res': 3, 'phase': 0.09375, 'indicator': 1}, '11100100': {'res': 3, \"\n",
      "  \"'phase': 0.125, 'indicator': 1}, '11100101': {'res': 3, 'phase': 0.15625, 'indicator': 1}, '11100110': {'res': 3, \"\n",
      "  \"'phase': 0.1875, 'indicator': 1}, '11100111': {'res': 3, 'phase': 0.21875, 'indicator': 1}, '11101000': {'res': 3, \"\n",
      "  \"'phase': 0.25, 'indicator': 1}, '11101001': {'res': 3, 'phase': 0.28125, 'indicator': 1}, '11101010': {'res': 3, \"\n",
      "  \"'phase': 0.3125, 'indicator': 1}, '11101011': {'res': 3, 'phase': 0.34375, 'indicator': 1}, '11101100': {'res': 3, \"\n",
      "  \"'phase': 0.375, 'indicator': 1}, '11101101': {'res': 3, 'phase': 0.40625, 'indicator': 1}, '11101110': {'res': 3, \"\n",
      "  \"'phase': 0.4375, 'indicator': 1}, '11101111': {'res': 3, 'phase': 0.46875, 'indicator': 1}, '11110000': {'res': 3, \"\n",
      "  \"'phase': 0.5, 'indicator': 1}, '11110001': {'res': 3, 'phase': 0.53125, 'indicator': 1}, '11110010': {'res': 3, \"\n",
      "  \"'phase': 0.5625, 'indicator': 1}, '11110011': {'res': 3, 'phase': 0.59375, 'indicator': 1}, '11110100': {'res': 3, \"\n",
      "  \"'phase': 0.625, 'indicator': 1}, '11110101': {'res': 3, 'phase': 0.65625, 'indicator': 1}, '11110110': {'res': 3, \"\n",
      "  \"'phase': 0.6875, 'indicator': 1}, '11110111': {'res': 3, 'phase': 0.71875, 'indicator': 1}, '11111000': {'res': 3, \"\n",
      "  \"'phase': 0.75, 'indicator': 1}, '11111001': {'res': 3, 'phase': 0.78125, 'indicator': 1}, '11111010': {'res': 3, \"\n",
      "  \"'phase': 0.8125, 'indicator': 1}, '11111011': {'res': 3, 'phase': 0.84375, 'indicator': 1}, '11111100': {'res': 3, \"\n",
      "  \"'phase': 0.875, 'indicator': 1}, '11111101': {'res': 3, 'phase': 0.90625, 'indicator': 1}, '11111110': {'res': 3, \"\n",
      "  \"'phase': 0.9375, 'indicator': 1}, '11111111': {'res': 3, 'phase': 0.96875, 'indicator': 1}} \"\n",
      "  \"physical_qubits_map={'res': (6, 7), 'phase': (0, 1, 2, 3, 4), 'indicator': (5,)} num_shots=1 \"\n",
      "  \"output_type_map={'res': RegisterQuantumType(quantum_types=QuantumNumeric(source_ref=None, back_ref=None, \"\n",
      "  \"kind='qnum', size=Expression(source_ref=None, back_ref=None, expr='2'), is_signed=Expression(source_ref=None, \"\n",
      "  \"back_ref=None, expr='False'), fraction_digits=Expression(source_ref=None, back_ref=None, expr='0')), size=2), \"\n",
      "  \"'phase': RegisterQuantumType(quantum_types=QuantumNumeric(source_ref=None, back_ref=None, kind='qnum', \"\n",
      "  \"size=Expression(source_ref=None, back_ref=None, expr='5'), is_signed=Expression(source_ref=None, back_ref=None, \"\n",
      "  \"expr='False'), fraction_digits=Expression(source_ref=None, back_ref=None, expr='5')), size=5), 'indicator': \"\n",
      "  \"RegisterQuantumType(quantum_types=QuantumBit(source_ref=None, back_ref=None, kind='qbit'), size=1)}\"}\n"
     ]
    }
   ],
   "source": [
    "import pprint\n",
    "\n",
    "results = {\"vendor_format_result={} counts={'00000001': 1} counts_lsb_right=True probabilities={} parsed_states={'00000001': {'res': 1, 'phase': 0.0, 'indicator': 0}} histogram=None output_qubits_map={'res': (0, 1), 'phase': (2, 3, 4, 5, 6), 'indicator': (7,)} state_vector={'00000000': (-0.030071960545480652+1.0737938316296436e-15j), '00000001': (7.510752051680412e-16+5.246787616902565e-07j), '00000010': (7.758573642665625e-17+1.031440917788135e-07j), '00000011': (3.2979621617498397e-07+5.516286716521462e-16j), '00000100': (1.8442037417239565e-16+1.4686323798945595e-07j), '00000101': (4.770121360783064e-07+4.60577606140874e-16j), '00000110': (1.2967749811137547e-07+7.647944522309313e-17j), '00000111': (1.206368940374604e-16+2.5766461127600096e-07j), '00001000': (1.3346451980935715e-16+1.8208971877975216e-07j), '00001001': (6.892904726128657e-07+2.706730840642559e-16j), '00001010': (1.328590849174164e-07+3.8796425089962104e-18j), '00001011': (5.97958276902743e-17+3.257421545261557e-07j), '00001100': (1.526342687780178e-07+3.6464074209327575e-16j), '00001101': (-1.5945919333698317e-16+5.117673135882869e-07j), '00001110': (-3.3919235187706954e-16+8.338067702109557e-08j), '00001111': (2.2088369862113598e-07+1.845567001547893e-17j), '00010000': (6.651730808895605e-16+2.1924351997869083e-07j), '00010001': (1.1755011277568887e-06-1.1673841960376657e-15j), '00010010': (1.3131311669939905e-07+1.0900486850550292e-17j), '00010011': (-4.706326813181706e-18+3.9969942839003205e-07j), '00010100': (1.4932378059713805e-07+1.7242612294147874e-16j), '00010101': (1.8115414233588916e-16+6.575667158737409e-07j), '00010110': (3.033276600187873e-17+8.449490436606953e-08j), '00010111': (2.1414722545595597e-07+1.5447497354265305e-16j), '00011000': (1.4911260879861014e-07+7.438562014389439e-16j), '00011001': (3.729464890937003e-17+1.0031802020073922e-06j), '00011010': (-6.272245225449102e-17+9.313265179447676e-08j), '00011011': (2.1240201269955767e-07-4.5829577879030975e-17j), '00011100': (-2.0791859675900194e-16+1.2734923483470622e-07j), '00011101': (2.4100145685108165e-07+3.014577686132744e-16j), '00011110': (1.3026288816710877e-07+1.4791999070464394e-16j), '00011111': (-1.4129375121994705e-16+2.1890564632228346e-07j), '00100000': (0.002442272725128841+3.9898639947466563e-17j), '00100001': (-2.6651044652409306e-17-6.245699440805206e-05j), '00100010': (4.8181775138666366e-17-1.5721277920402316e-05j), '00100011': (-2.5807911322613397e-05-9.58638008384527e-17j), '00100100': (7.37443824538539e-17-2.0374325555284664e-05j), '00100101': (-3.7256325646514044e-05-1.7892046351442037e-16j), '00100110': (-1.0655860591337371e-05-4.047123421981047e-18j), '00100111': (8.697503708996607e-17-3.301439064582409e-05j), '00101000': (9.020223261900495e-17-2.3790352959958144e-05j), '00101001': (-5.529581307781504e-05-3.1567562691452167e-16j), '00101010': (-1.0825202270482955e-05+3.344933108707232e-18j), '00101011': (1.0978055216184085e-16-3.9594588457847426e-05j), '00101100': (-1.2057158778111213e-05+8.285676290041566e-18j), '00101101': (1.9967954698572876e-16-5.8255113808460645e-05j), '00101110': (1.678988708047474e-17-1.3787189526052867e-05j), '00101111': (-1.6644761464671697e-05+2.2254943656159487e-17j), '00110000': (-3.42726471118035e-17-2.7239780671279684e-05j), '00110001': (-9.896381278664874e-05+1.3740907283538162e-16j), '00110010': (-1.066117630934408e-05+1.3090047166867957e-17j), '00110011': (-4.4631860056723593e-17-4.645846284081956e-05j), '00110100': (-1.1714707424538518e-05+1.4781571962534795e-17j), '00110101': (-7.523007824333794e-17-7.177196278474664e-05j), '00110110': (-1.6927106417929938e-17-1.3898318439528877e-05j), '00110111': (-1.5952282915617517e-05+1.380155484256157e-17j), '00111000': (-1.1440576958907354e-05+2.2626791120004125e-17j), '00111001': (-1.253134423485902e-16-0.00010424463965592767j), '00111010': (-2.0024705906038914e-17-1.4786806396263736e-05j), '00111011': (-1.5320279611799266e-05+9.157273192766241e-18j), '00111100': (-3.320284449942132e-17-1.8556093371062065e-05j), '00111101': (-1.6138880525180666e-05+8.476258703173783e-18j), '00111110': (-1.072532551039136e-05+7.738493006115288e-18j), '00111111': (-2.1777217073908062e-17-2.9404771679549154e-05j), '01000000': (-0.601287012629424+9.159339953157541e-16j), '01000001': (-6.789687528236056e-16+6.429263233315048e-08j), '01000010': (-1.377383808818645e-16+1.263898155263346e-08j), '01000011': (4.041228267643688e-08+9.370195934446168e-17j), '01000100': (-8.125642566829605e-17+1.799620014397685e-08j), '01000101': (5.845169910265018e-08-2.9075794585316213e-16j), '01000110': (1.5890308891798166e-08-2.1404712828657057e-17j), '01000111': (2.5635635782747387e-17+3.1573482932051446e-08j), '01001000': (-1.3422997289587902e-16+2.231275292067133e-08j), '01001001': (8.446367913511862e-08-2.5052137615568805e-16j), '01001010': (1.6280171425262975e-08+3.6377637309474356e-17j), '01001011': (-4.331120334305613e-17+3.9915510283084295e-08j), '01001100': (1.870336544794078e-08+4.2459237669654993e-16j), '01001101': (1.82573428757075e-16+6.271050005733864e-08j), '01001110': (-1.6897974150731586e-16+1.0217229427794627e-08j), '01001111': (2.7066455627786276e-08+1.2384574766359655e-16j), '01010000': (3.758562821868128e-16+2.686547365089315e-08j), '01010001': (1.440425389125598e-07+4.739664507973308e-16j), '01010010': (1.6090733252359956e-08-1.423596768367982e-16j), '01010011': (-2.5845046480982536e-17+4.897802250567664e-08j), '01010100': (1.829770789618192e-08+1.262340654190403e-16j), '01010101': (-1.5421209223526125e-16+8.057634072253629e-08j), '01010110': (-1.6338507689658232e-16+1.0353763388135059e-08j), '01010111': (2.6240986990291986e-08+9.391535539888811e-17j), '01011000': (1.8271831329483755e-08+1.693254082911829e-16j), '01011001': (-7.610039136175193e-17+1.2292682694457613e-07j), '01011010': (4.264434935836997e-17+1.141220834755724e-08j), '01011011': (2.6027134022451735e-08+1.818427205650028e-16j), '01011100': (-5.818716323092813e-17+1.5605010192461238e-08j), '01011101': (2.953162760272099e-08-1.016291901509432e-16j), '01011110': (1.5962040829996144e-08+2.861943076956458e-16j), '01011111': (2.9916934036142196e-17+2.682407041904545e-08j), '01100000': (-0.009552931449157826+3.382710778154774e-17j), '01100001': (-9.925532075925891e-17-7.653301098971501e-06j), '01100010': (4.134960738611318e-17-1.9264403404933176e-06j), '01100011': (-3.162427489960841e-06-1.6376450298919917e-16j), '01100100': (6.371688878690227e-17-2.4966114624343634e-06j), '01100101': (-4.565283370906619e-06-3.0166146680219927e-16j), '01100110': (-1.3057386180357217e-06+2.3176939019245793e-19j), '01100111': (1.1690028759998687e-16-4.0454888133163546e-06j), '01101000': (7.241517600137509e-17-2.915201670603023e-06j), '01101001': (-6.775790461081587e-06-4.717744817310694e-16j), '01101010': (-1.326489262083145e-06+6.532741605698791e-19j), '01101011': (1.3914887850904195e-16-4.851807394981847e-06j), '01101100': (-1.477449681829402e-06+6.2451739201059564e-18j), '01101101': (2.4583056063335294e-16-7.138414692009481e-06j), '01101110': (1.4085522638128574e-17-1.6894426916387584e-06j), '01101111': (-2.039601367321014e-06+7.93256943015493e-18j), '01110000': (-3.223193298363108e-17-3.337884656757986e-06j), '01110001': (-1.2126741997543921e-05+2.6015515832084404e-16j), '01110010': (-1.3063899908836684e-06+8.114681513814604e-18j), '01110011': (-7.80638269683772e-17-5.692886890832412e-06j), '01110100': (-1.4354866743831956e-06+1.1879954722596783e-17j), '01110101': (-1.3555745881268372e-16-8.794730627877371e-06j), '01110110': (-1.1857720107731357e-17-1.7030601102387915e-06j), '01110111': (-1.9547470304580676e-06+9.245046981925468e-18j), '01111000': (-1.4018955127165466e-06+1.5678473974558692e-17j), '01111001': (-2.2891827729199996e-16-1.277383938822867e-05j), '01111010': (-1.4698456854585467e-17-1.8119328781286522e-06j), '01111011': (-1.8773031567943556e-06+7.595026800674091e-18j), '01111100': (-2.4845170408863138e-17-2.2738105015763115e-06j), '01111101': (-1.977612166498532e-06+4.149720287717224e-18j), '01111110': (-1.3142506501515323e-06+4.9179791708768746e-18j), '01111111': (-3.236830528813902e-17-3.603176450113495e-06j), '10000000': (-0.5237765992343975+3.3306690738754696e-16j), '10000001': (1.1354944213513336e-15-6.429263113430539e-08j), '10000010': (-3.50016135923779e-16-1.2638980902998537e-08j), '10000011': (-4.0412282490206675e-08-3.7262761427628356e-16j), '10000100': (-8.755940958705212e-17-1.7996199845988534e-08j), '10000101': (-5.8451699478659794e-08-4.797271053279951e-16j), '10000110': (-1.5890309052031548e-08+5.4647687168315773e-17j), '10000111': (2.6973850562969145e-16-3.157348252469737e-08j), '10001000': (-8.322062145390426e-17-2.231275144818166e-08j), '10001001': (-8.446367879756838e-08-3.489113932023226e-16j), '10001010': (-1.628017184436923e-08+3.5303968620345225e-16j), '10001011': (1.6513175974985542e-16-3.991551031161593e-08j), '10001100': (-1.8703365969638332e-08+2.3511115189069663e-16j), '10001101': (-4.252469685558356e-17-6.27105001905836e-08j), '10001110': (-8.168560377962582e-17-1.021722878853518e-08j), '10001111': (-2.706645500595254e-08-5.09409750381799e-18j), '10010000': (-2.1300619427756649e-16-2.6865471534385067e-08j), '10010001': (-1.440425388177822e-07+7.553462430731179e-16j), '10010010': (-1.6090733131925354e-08+7.279984311035307e-18j), '10010011': (1.7615556268612512e-16-4.8978022553043955e-08j), '10010100': (-1.8297708369913237e-08+3.03073590666461e-16j), '10010101': (1.3763228917804028e-16-8.05763411915901e-08j), '10010110': (8.304029029010341e-17-1.0353763365807916e-08j), '10010111': (-2.6240987190424093e-08+1.4701984779898006e-16j), '10011000': (-1.8271832232605755e-08+3.280456133581622e-16j), '10011001': (-6.429569684000767e-17-1.2292682694240815e-07j), '10011010': (-2.544379233277133e-16-1.1412208241238075e-08j), '10011011': (-2.6027134067496984e-08+2.999936754726678e-17j), '10011100': (-1.361503140469515e-17-1.5605010364917348e-08j), '10011101': (-2.9531627518041148e-08-5.163538819933449e-17j), '10011110': (-1.596204138850986e-08+1.3687974755369975e-16j), '10011111': (-1.9496618086553423e-16-2.6824070563788185e-08j), '10100000': (-0.008943275425718137-1.8214596497756474e-17j), '10100001': (1.029115384760821e-16+7.65330109903329e-06j), '10100010': (-5.204445713638279e-17+1.926440340561673e-06j), '10100011': (3.1624274899733684e-06+1.6325840080321473e-16j), '10100100': (-6.855662328927653e-17+2.496611462524451e-06j), '10100101': (4.565283370916766e-06+3.033231336864754e-16j), '10100110': (1.3057386180498483e-06+1.0198382564060183e-17j), '10100111': (-1.2713308087752926e-16+4.045488813324291e-06j), '10101000': (-7.421385046486959e-17+2.9152016706774417e-06j), '10101001': (6.775790461088812e-06+4.718227626090629e-16j), '10101010': (1.3264892620789288e-06+3.6905225511869866e-18j), '10101011': (-1.385210153368897e-16+4.851807394986144e-06j), '10101100': (1.4774496818211787e-06+5.580253056511331e-18j), '10101101': (-2.516310422561504e-16+7.138414692007625e-06j), '10101110': (-1.6528471537128383e-17+1.6894426916399641e-06j), '10101111': (2.039601367325197e-06-7.447219551378215e-18j), '10110000': (4.855679897606321e-17+3.337884656725101e-06j), '10110001': (1.2126741997535881e-05-2.560843179763399e-16j), '10110010': (1.3063899908714726e-06-8.368156123280453e-18j), '10110011': (7.733919028200115e-17+5.6928868908139375e-06j), '10110100': (1.435486674358196e-06-1.0127549433846042e-17j), '10110101': (1.3550663683584846e-16+8.794730627858067e-06j), '10110110': (1.4493263123113113e-17+1.703060110203516e-06j), '10110111': (1.9547470304523688e-06-1.1132977542236897e-17j), '10111000': (1.4018955126927718e-06-5.896408104073998e-19j), '10111001': (2.234811728035746e-16+1.2773839388202416e-05j), '10111010': (1.226598998830793e-17+1.8119328780892923e-06j), '10111011': (1.877303156792267e-06-1.0728519309922968e-17j), '10111100': (1.6109401986474318e-17+2.2738105015274305e-06j), '10111101': (1.977612166494927e-06-8.27170024641187e-18j), '10111110': (1.3142506501472636e-06-1.1528965445078282e-17j), '10111111': (3.612193179389645e-17+3.603176450100916e-06j), '11000000': (0.6024743608056744+1.0269562977782698e-15j), '11000001': (-3.0504865097310673e-15-5.246787618101779e-07j), '11000010': (-1.5175481325932957e-16-1.0314409126500655e-07j), '11000011': (-3.2979621659683454e-07-3.3145378607906035e-17j), '11000100': (-1.944077595058058e-17-1.4686323781728118e-07j), '11000101': (-4.770121360617729e-07-3.903938060901424e-16j), '11000110': (-1.2967749787797306e-07-6.402964908523102e-17j), '11000111': (-7.867076577975431e-17-2.576646111837779e-07j), '11001000': (3.412838416599629e-16-1.820897177020496e-07j), '11001001': (-6.892904737865574e-07+3.800394371148894e-16j), '11001010': (-1.3285908493657865e-07+1.2505373410602816e-16j), '11001011': (-1.468742822091442e-16-3.2574215447335185e-07j), '11001100': (-1.5263426906989616e-07+2.266021715768515e-16j), '11001101': (1.112085967713524e-16-5.117673135893932e-07j), '11001110': (-5.088708190516635e-16-8.338067666550655e-08j), '11001111': (-2.208836989355758e-07+5.5743238258805505e-18j), '11010000': (1.4074760158091422e-15-2.1924352090390846e-07j), '11010001': (-1.1755011290262188e-06+1.0762779675057036e-15j), '11010010': (-1.313131169228432e-07-3.147977235868069e-16j), '11010011': (-2.1333186521089596e-17-3.9969942855189205e-07j), '11010100': (-1.493237806126331e-07-7.957765351613295e-17j), '11010101': (-7.603237726306537e-17-6.57566715861559e-07j), '11010110': (-1.3338050472890136e-16-8.4494904196493e-08j), '11010111': (-2.141472252191403e-07+2.360474359716842e-16j), '11011000': (-1.4911260933925975e-07+4.2903164411306583e-16j), '11011001': (-7.677245641886106e-16-1.003180201575211e-06j), '11011010': (1.9040002973331698e-16-9.313265186600297e-08j), '11011011': (-2.124020129792986e-07-1.001706986774448e-16j), '11011100': (-1.8870229777433355e-16-1.2734923551593562e-07j), '11011101': (-2.410014569810578e-07-2.2907242405351044e-16j), '11011110': (-1.3026288807936638e-07+7.621763263305275e-17j), '11011111': (-1.3205012037123027e-16-2.189056464129854e-07j), '11100000': (0.007417548407780163+1.214306433183765e-17j), '11100001': (-2.087089182034596e-18+6.245699440807077e-05j), '11100010': (-1.1533200609814553e-17+1.5721277920438488e-05j), '11100011': (2.580791132258711e-05+8.32599505833087e-17j), '11100100': (-1.8985396479757888e-17+2.0374325555343268e-05j), '11100101': (3.725632564647041e-05+1.7117350017883254e-16j), '11100110': (1.0655860591280012e-05-8.063753657860939e-18j), '11100111': (-7.806255641895632e-17+3.3014390645829953e-05j), '11101000': (-1.5261839643627984e-17+2.37903529600522e-05j), '11101001': (5.529581307776915e-05+3.089434090497445e-16j), '11101010': (1.082520227042252e-05-5.663262285342252e-18j), '11101011': (-1.0171849256987442e-16+3.959458845785271e-05j), '11101100': (1.2057158778019188e-05-1.5228805358685066e-17j), '11101101': (-1.861575130157611e-16+5.825511380847274e-05j), '11101110': (-2.4462311516704194e-18+1.3787189526062892e-05j), '11101111': (1.6644761464653256e-05-2.782164418551475e-17j), '11110000': (6.945670167485263e-18+2.7239780671415145e-05j), '11110001': (9.896381278661103e-05-1.3812058051107523e-16j), '11110010': (1.0661176309282315e-05+9.402065714522734e-19j), '11110011': (3.488081676793209e-17+4.645846284083764e-05j), '11110100': (1.1714707424445456e-05+2.574980159653073e-18j), '11110101': (6.522831320215916e-17+7.177196278476618e-05j), '11110110': (-4.149614408598817e-18+1.3898318439549935e-05j), '11110111': (1.5952282915602376e-05-7.722399380117456e-18j), '11111000': (1.144057695876056e-05+8.506751889274938e-18j), '11111001': (1.1259439561261964e-16+0.00010424463965594464j), '11111010': (-5.894502279942676e-18+1.478680639628347e-05j), '11111011': (1.5320279611780834e-05-2.4064206031494673e-18j), '11111100': (-1.666960840196463e-17+1.8556093371084166e-05j), '11111101': (1.6138880525158344e-05-2.3022355506371883e-18j), '11111110': (1.0725325510356952e-05-2.0549019300389326e-18j), '11111111': (1.0987711391782784e-17+2.940477167956229e-05j)} parsed_state_vector_states={'00000000': {'res': 0, 'phase': 0.0, 'indicator': 0}, '00000001': {'res': 0, 'phase': 0.03125, 'indicator': 0}, '00000010': {'res': 0, 'phase': 0.0625, 'indicator': 0}, '00000011': {'res': 0, 'phase': 0.09375, 'indicator': 0}, '00000100': {'res': 0, 'phase': 0.125, 'indicator': 0}, '00000101': {'res': 0, 'phase': 0.15625, 'indicator': 0}, '00000110': {'res': 0, 'phase': 0.1875, 'indicator': 0}, '00000111': {'res': 0, 'phase': 0.21875, 'indicator': 0}, '00001000': {'res': 0, 'phase': 0.25, 'indicator': 0}, '00001001': {'res': 0, 'phase': 0.28125, 'indicator': 0}, '00001010': {'res': 0, 'phase': 0.3125, 'indicator': 0}, '00001011': {'res': 0, 'phase': 0.34375, 'indicator': 0}, '00001100': {'res': 0, 'phase': 0.375, 'indicator': 0}, '00001101': {'res': 0, 'phase': 0.40625, 'indicator': 0}, '00001110': {'res': 0, 'phase': 0.4375, 'indicator': 0}, '00001111': {'res': 0, 'phase': 0.46875, 'indicator': 0}, '00010000': {'res': 0, 'phase': 0.5, 'indicator': 0}, '00010001': {'res': 0, 'phase': 0.53125, 'indicator': 0}, '00010010': {'res': 0, 'phase': 0.5625, 'indicator': 0}, '00010011': {'res': 0, 'phase': 0.59375, 'indicator': 0}, '00010100': {'res': 0, 'phase': 0.625, 'indicator': 0}, '00010101': {'res': 0, 'phase': 0.65625, 'indicator': 0}, '00010110': {'res': 0, 'phase': 0.6875, 'indicator': 0}, '00010111': {'res': 0, 'phase': 0.71875, 'indicator': 0}, '00011000': {'res': 0, 'phase': 0.75, 'indicator': 0}, '00011001': {'res': 0, 'phase': 0.78125, 'indicator': 0}, '00011010': {'res': 0, 'phase': 0.8125, 'indicator': 0}, '00011011': {'res': 0, 'phase': 0.84375, 'indicator': 0}, '00011100': {'res': 0, 'phase': 0.875, 'indicator': 0}, '00011101': {'res': 0, 'phase': 0.90625, 'indicator': 0}, '00011110': {'res': 0, 'phase': 0.9375, 'indicator': 0}, '00011111': {'res': 0, 'phase': 0.96875, 'indicator': 0}, '00100000': {'res': 0, 'phase': 0.0, 'indicator': 1}, '00100001': {'res': 0, 'phase': 0.03125, 'indicator': 1}, '00100010': {'res': 0, 'phase': 0.0625, 'indicator': 1}, '00100011': {'res': 0, 'phase': 0.09375, 'indicator': 1}, '00100100': {'res': 0, 'phase': 0.125, 'indicator': 1}, '00100101': {'res': 0, 'phase': 0.15625, 'indicator': 1}, '00100110': {'res': 0, 'phase': 0.1875, 'indicator': 1}, '00100111': {'res': 0, 'phase': 0.21875, 'indicator': 1}, '00101000': {'res': 0, 'phase': 0.25, 'indicator': 1}, '00101001': {'res': 0, 'phase': 0.28125, 'indicator': 1}, '00101010': {'res': 0, 'phase': 0.3125, 'indicator': 1}, '00101011': {'res': 0, 'phase': 0.34375, 'indicator': 1}, '00101100': {'res': 0, 'phase': 0.375, 'indicator': 1}, '00101101': {'res': 0, 'phase': 0.40625, 'indicator': 1}, '00101110': {'res': 0, 'phase': 0.4375, 'indicator': 1}, '00101111': {'res': 0, 'phase': 0.46875, 'indicator': 1}, '00110000': {'res': 0, 'phase': 0.5, 'indicator': 1}, '00110001': {'res': 0, 'phase': 0.53125, 'indicator': 1}, '00110010': {'res': 0, 'phase': 0.5625, 'indicator': 1}, '00110011': {'res': 0, 'phase': 0.59375, 'indicator': 1}, '00110100': {'res': 0, 'phase': 0.625, 'indicator': 1}, '00110101': {'res': 0, 'phase': 0.65625, 'indicator': 1}, '00110110': {'res': 0, 'phase': 0.6875, 'indicator': 1}, '00110111': {'res': 0, 'phase': 0.71875, 'indicator': 1}, '00111000': {'res': 0, 'phase': 0.75, 'indicator': 1}, '00111001': {'res': 0, 'phase': 0.78125, 'indicator': 1}, '00111010': {'res': 0, 'phase': 0.8125, 'indicator': 1}, '00111011': {'res': 0, 'phase': 0.84375, 'indicator': 1}, '00111100': {'res': 0, 'phase': 0.875, 'indicator': 1}, '00111101': {'res': 0, 'phase': 0.90625, 'indicator': 1}, '00111110': {'res': 0, 'phase': 0.9375, 'indicator': 1}, '00111111': {'res': 0, 'phase': 0.96875, 'indicator': 1}, '01000000': {'res': 1, 'phase': 0.0, 'indicator': 0}, '01000001': {'res': 1, 'phase': 0.03125, 'indicator': 0}, '01000010': {'res': 1, 'phase': 0.0625, 'indicator': 0}, '01000011': {'res': 1, 'phase': 0.09375, 'indicator': 0}, '01000100': {'res': 1, 'phase': 0.125, 'indicator': 0}, '01000101': {'res': 1, 'phase': 0.15625, 'indicator': 0}, '01000110': {'res': 1, 'phase': 0.1875, 'indicator': 0}, '01000111': {'res': 1, 'phase': 0.21875, 'indicator': 0}, '01001000': {'res': 1, 'phase': 0.25, 'indicator': 0}, '01001001': {'res': 1, 'phase': 0.28125, 'indicator': 0}, '01001010': {'res': 1, 'phase': 0.3125, 'indicator': 0}, '01001011': {'res': 1, 'phase': 0.34375, 'indicator': 0}, '01001100': {'res': 1, 'phase': 0.375, 'indicator': 0}, '01001101': {'res': 1, 'phase': 0.40625, 'indicator': 0}, '01001110': {'res': 1, 'phase': 0.4375, 'indicator': 0}, '01001111': {'res': 1, 'phase': 0.46875, 'indicator': 0}, '01010000': {'res': 1, 'phase': 0.5, 'indicator': 0}, '01010001': {'res': 1, 'phase': 0.53125, 'indicator': 0}, '01010010': {'res': 1, 'phase': 0.5625, 'indicator': 0}, '01010011': {'res': 1, 'phase': 0.59375, 'indicator': 0}, '01010100': {'res': 1, 'phase': 0.625, 'indicator': 0}, '01010101': {'res': 1, 'phase': 0.65625, 'indicator': 0}, '01010110': {'res': 1, 'phase': 0.6875, 'indicator': 0}, '01010111': {'res': 1, 'phase': 0.71875, 'indicator': 0}, '01011000': {'res': 1, 'phase': 0.75, 'indicator': 0}, '01011001': {'res': 1, 'phase': 0.78125, 'indicator': 0}, '01011010': {'res': 1, 'phase': 0.8125, 'indicator': 0}, '01011011': {'res': 1, 'phase': 0.84375, 'indicator': 0}, '01011100': {'res': 1, 'phase': 0.875, 'indicator': 0}, '01011101': {'res': 1, 'phase': 0.90625, 'indicator': 0}, '01011110': {'res': 1, 'phase': 0.9375, 'indicator': 0}, '01011111': {'res': 1, 'phase': 0.96875, 'indicator': 0}, '01100000': {'res': 1, 'phase': 0.0, 'indicator': 1}, '01100001': {'res': 1, 'phase': 0.03125, 'indicator': 1}, '01100010': {'res': 1, 'phase': 0.0625, 'indicator': 1}, '01100011': {'res': 1, 'phase': 0.09375, 'indicator': 1}, '01100100': {'res': 1, 'phase': 0.125, 'indicator': 1}, '01100101': {'res': 1, 'phase': 0.15625, 'indicator': 1}, '01100110': {'res': 1, 'phase': 0.1875, 'indicator': 1}, '01100111': {'res': 1, 'phase': 0.21875, 'indicator': 1}, '01101000': {'res': 1, 'phase': 0.25, 'indicator': 1}, '01101001': {'res': 1, 'phase': 0.28125, 'indicator': 1}, '01101010': {'res': 1, 'phase': 0.3125, 'indicator': 1}, '01101011': {'res': 1, 'phase': 0.34375, 'indicator': 1}, '01101100': {'res': 1, 'phase': 0.375, 'indicator': 1}, '01101101': {'res': 1, 'phase': 0.40625, 'indicator': 1}, '01101110': {'res': 1, 'phase': 0.4375, 'indicator': 1}, '01101111': {'res': 1, 'phase': 0.46875, 'indicator': 1}, '01110000': {'res': 1, 'phase': 0.5, 'indicator': 1}, '01110001': {'res': 1, 'phase': 0.53125, 'indicator': 1}, '01110010': {'res': 1, 'phase': 0.5625, 'indicator': 1}, '01110011': {'res': 1, 'phase': 0.59375, 'indicator': 1}, '01110100': {'res': 1, 'phase': 0.625, 'indicator': 1}, '01110101': {'res': 1, 'phase': 0.65625, 'indicator': 1}, '01110110': {'res': 1, 'phase': 0.6875, 'indicator': 1}, '01110111': {'res': 1, 'phase': 0.71875, 'indicator': 1}, '01111000': {'res': 1, 'phase': 0.75, 'indicator': 1}, '01111001': {'res': 1, 'phase': 0.78125, 'indicator': 1}, '01111010': {'res': 1, 'phase': 0.8125, 'indicator': 1}, '01111011': {'res': 1, 'phase': 0.84375, 'indicator': 1}, '01111100': {'res': 1, 'phase': 0.875, 'indicator': 1}, '01111101': {'res': 1, 'phase': 0.90625, 'indicator': 1}, '01111110': {'res': 1, 'phase': 0.9375, 'indicator': 1}, '01111111': {'res': 1, 'phase': 0.96875, 'indicator': 1}, '10000000': {'res': 2, 'phase': 0.0, 'indicator': 0}, '10000001': {'res': 2, 'phase': 0.03125, 'indicator': 0}, '10000010': {'res': 2, 'phase': 0.0625, 'indicator': 0}, '10000011': {'res': 2, 'phase': 0.09375, 'indicator': 0}, '10000100': {'res': 2, 'phase': 0.125, 'indicator': 0}, '10000101': {'res': 2, 'phase': 0.15625, 'indicator': 0}, '10000110': {'res': 2, 'phase': 0.1875, 'indicator': 0}, '10000111': {'res': 2, 'phase': 0.21875, 'indicator': 0}, '10001000': {'res': 2, 'phase': 0.25, 'indicator': 0}, '10001001': {'res': 2, 'phase': 0.28125, 'indicator': 0}, '10001010': {'res': 2, 'phase': 0.3125, 'indicator': 0}, '10001011': {'res': 2, 'phase': 0.34375, 'indicator': 0}, '10001100': {'res': 2, 'phase': 0.375, 'indicator': 0}, '10001101': {'res': 2, 'phase': 0.40625, 'indicator': 0}, '10001110': {'res': 2, 'phase': 0.4375, 'indicator': 0}, '10001111': {'res': 2, 'phase': 0.46875, 'indicator': 0}, '10010000': {'res': 2, 'phase': 0.5, 'indicator': 0}, '10010001': {'res': 2, 'phase': 0.53125, 'indicator': 0}, '10010010': {'res': 2, 'phase': 0.5625, 'indicator': 0}, '10010011': {'res': 2, 'phase': 0.59375, 'indicator': 0}, '10010100': {'res': 2, 'phase': 0.625, 'indicator': 0}, '10010101': {'res': 2, 'phase': 0.65625, 'indicator': 0}, '10010110': {'res': 2, 'phase': 0.6875, 'indicator': 0}, '10010111': {'res': 2, 'phase': 0.71875, 'indicator': 0}, '10011000': {'res': 2, 'phase': 0.75, 'indicator': 0}, '10011001': {'res': 2, 'phase': 0.78125, 'indicator': 0}, '10011010': {'res': 2, 'phase': 0.8125, 'indicator': 0}, '10011011': {'res': 2, 'phase': 0.84375, 'indicator': 0}, '10011100': {'res': 2, 'phase': 0.875, 'indicator': 0}, '10011101': {'res': 2, 'phase': 0.90625, 'indicator': 0}, '10011110': {'res': 2, 'phase': 0.9375, 'indicator': 0}, '10011111': {'res': 2, 'phase': 0.96875, 'indicator': 0}, '10100000': {'res': 2, 'phase': 0.0, 'indicator': 1}, '10100001': {'res': 2, 'phase': 0.03125, 'indicator': 1}, '10100010': {'res': 2, 'phase': 0.0625, 'indicator': 1}, '10100011': {'res': 2, 'phase': 0.09375, 'indicator': 1}, '10100100': {'res': 2, 'phase': 0.125, 'indicator': 1}, '10100101': {'res': 2, 'phase': 0.15625, 'indicator': 1}, '10100110': {'res': 2, 'phase': 0.1875, 'indicator': 1}, '10100111': {'res': 2, 'phase': 0.21875, 'indicator': 1}, '10101000': {'res': 2, 'phase': 0.25, 'indicator': 1}, '10101001': {'res': 2, 'phase': 0.28125, 'indicator': 1}, '10101010': {'res': 2, 'phase': 0.3125, 'indicator': 1}, '10101011': {'res': 2, 'phase': 0.34375, 'indicator': 1}, '10101100': {'res': 2, 'phase': 0.375, 'indicator': 1}, '10101101': {'res': 2, 'phase': 0.40625, 'indicator': 1}, '10101110': {'res': 2, 'phase': 0.4375, 'indicator': 1}, '10101111': {'res': 2, 'phase': 0.46875, 'indicator': 1}, '10110000': {'res': 2, 'phase': 0.5, 'indicator': 1}, '10110001': {'res': 2, 'phase': 0.53125, 'indicator': 1}, '10110010': {'res': 2, 'phase': 0.5625, 'indicator': 1}, '10110011': {'res': 2, 'phase': 0.59375, 'indicator': 1}, '10110100': {'res': 2, 'phase': 0.625, 'indicator': 1}, '10110101': {'res': 2, 'phase': 0.65625, 'indicator': 1}, '10110110': {'res': 2, 'phase': 0.6875, 'indicator': 1}, '10110111': {'res': 2, 'phase': 0.71875, 'indicator': 1}, '10111000': {'res': 2, 'phase': 0.75, 'indicator': 1}, '10111001': {'res': 2, 'phase': 0.78125, 'indicator': 1}, '10111010': {'res': 2, 'phase': 0.8125, 'indicator': 1}, '10111011': {'res': 2, 'phase': 0.84375, 'indicator': 1}, '10111100': {'res': 2, 'phase': 0.875, 'indicator': 1}, '10111101': {'res': 2, 'phase': 0.90625, 'indicator': 1}, '10111110': {'res': 2, 'phase': 0.9375, 'indicator': 1}, '10111111': {'res': 2, 'phase': 0.96875, 'indicator': 1}, '11000000': {'res': 3, 'phase': 0.0, 'indicator': 0}, '11000001': {'res': 3, 'phase': 0.03125, 'indicator': 0}, '11000010': {'res': 3, 'phase': 0.0625, 'indicator': 0}, '11000011': {'res': 3, 'phase': 0.09375, 'indicator': 0}, '11000100': {'res': 3, 'phase': 0.125, 'indicator': 0}, '11000101': {'res': 3, 'phase': 0.15625, 'indicator': 0}, '11000110': {'res': 3, 'phase': 0.1875, 'indicator': 0}, '11000111': {'res': 3, 'phase': 0.21875, 'indicator': 0}, '11001000': {'res': 3, 'phase': 0.25, 'indicator': 0}, '11001001': {'res': 3, 'phase': 0.28125, 'indicator': 0}, '11001010': {'res': 3, 'phase': 0.3125, 'indicator': 0}, '11001011': {'res': 3, 'phase': 0.34375, 'indicator': 0}, '11001100': {'res': 3, 'phase': 0.375, 'indicator': 0}, '11001101': {'res': 3, 'phase': 0.40625, 'indicator': 0}, '11001110': {'res': 3, 'phase': 0.4375, 'indicator': 0}, '11001111': {'res': 3, 'phase': 0.46875, 'indicator': 0}, '11010000': {'res': 3, 'phase': 0.5, 'indicator': 0}, '11010001': {'res': 3, 'phase': 0.53125, 'indicator': 0}, '11010010': {'res': 3, 'phase': 0.5625, 'indicator': 0}, '11010011': {'res': 3, 'phase': 0.59375, 'indicator': 0}, '11010100': {'res': 3, 'phase': 0.625, 'indicator': 0}, '11010101': {'res': 3, 'phase': 0.65625, 'indicator': 0}, '11010110': {'res': 3, 'phase': 0.6875, 'indicator': 0}, '11010111': {'res': 3, 'phase': 0.71875, 'indicator': 0}, '11011000': {'res': 3, 'phase': 0.75, 'indicator': 0}, '11011001': {'res': 3, 'phase': 0.78125, 'indicator': 0}, '11011010': {'res': 3, 'phase': 0.8125, 'indicator': 0}, '11011011': {'res': 3, 'phase': 0.84375, 'indicator': 0}, '11011100': {'res': 3, 'phase': 0.875, 'indicator': 0}, '11011101': {'res': 3, 'phase': 0.90625, 'indicator': 0}, '11011110': {'res': 3, 'phase': 0.9375, 'indicator': 0}, '11011111': {'res': 3, 'phase': 0.96875, 'indicator': 0}, '11100000': {'res': 3, 'phase': 0.0, 'indicator': 1}, '11100001': {'res': 3, 'phase': 0.03125, 'indicator': 1}, '11100010': {'res': 3, 'phase': 0.0625, 'indicator': 1}, '11100011': {'res': 3, 'phase': 0.09375, 'indicator': 1}, '11100100': {'res': 3, 'phase': 0.125, 'indicator': 1}, '11100101': {'res': 3, 'phase': 0.15625, 'indicator': 1}, '11100110': {'res': 3, 'phase': 0.1875, 'indicator': 1}, '11100111': {'res': 3, 'phase': 0.21875, 'indicator': 1}, '11101000': {'res': 3, 'phase': 0.25, 'indicator': 1}, '11101001': {'res': 3, 'phase': 0.28125, 'indicator': 1}, '11101010': {'res': 3, 'phase': 0.3125, 'indicator': 1}, '11101011': {'res': 3, 'phase': 0.34375, 'indicator': 1}, '11101100': {'res': 3, 'phase': 0.375, 'indicator': 1}, '11101101': {'res': 3, 'phase': 0.40625, 'indicator': 1}, '11101110': {'res': 3, 'phase': 0.4375, 'indicator': 1}, '11101111': {'res': 3, 'phase': 0.46875, 'indicator': 1}, '11110000': {'res': 3, 'phase': 0.5, 'indicator': 1}, '11110001': {'res': 3, 'phase': 0.53125, 'indicator': 1}, '11110010': {'res': 3, 'phase': 0.5625, 'indicator': 1}, '11110011': {'res': 3, 'phase': 0.59375, 'indicator': 1}, '11110100': {'res': 3, 'phase': 0.625, 'indicator': 1}, '11110101': {'res': 3, 'phase': 0.65625, 'indicator': 1}, '11110110': {'res': 3, 'phase': 0.6875, 'indicator': 1}, '11110111': {'res': 3, 'phase': 0.71875, 'indicator': 1}, '11111000': {'res': 3, 'phase': 0.75, 'indicator': 1}, '11111001': {'res': 3, 'phase': 0.78125, 'indicator': 1}, '11111010': {'res': 3, 'phase': 0.8125, 'indicator': 1}, '11111011': {'res': 3, 'phase': 0.84375, 'indicator': 1}, '11111100': {'res': 3, 'phase': 0.875, 'indicator': 1}, '11111101': {'res': 3, 'phase': 0.90625, 'indicator': 1}, '11111110': {'res': 3, 'phase': 0.9375, 'indicator': 1}, '11111111': {'res': 3, 'phase': 0.96875, 'indicator': 1}} physical_qubits_map={'res': (6, 7), 'phase': (0, 1, 2, 3, 4), 'indicator': (5,)} num_shots=1 output_type_map={'res': RegisterQuantumType(quantum_types=QuantumNumeric(source_ref=None, back_ref=None, kind='qnum', size=Expression(source_ref=None, back_ref=None, expr='2'), is_signed=Expression(source_ref=None, back_ref=None, expr='False'), fraction_digits=Expression(source_ref=None, back_ref=None, expr='0')), size=2), 'phase': RegisterQuantumType(quantum_types=QuantumNumeric(source_ref=None, back_ref=None, kind='qnum', size=Expression(source_ref=None, back_ref=None, expr='5'), is_signed=Expression(source_ref=None, back_ref=None, expr='False'), fraction_digits=Expression(source_ref=None, back_ref=None, expr='5')), size=5), 'indicator': RegisterQuantumType(quantum_types=QuantumBit(source_ref=None, back_ref=None, kind='qbit'), size=1)}\"}  # your giant dict\n",
    "pprint.pprint(results, width=120, indent=2)\n"
   ]
  },
  {
   "cell_type": "code",
   "execution_count": 31,
   "id": "7eb62175",
   "metadata": {},
   "outputs": [
    {
     "name": "stdout",
     "output_type": "stream",
     "text": [
      "Classical Solution:          [-1.35908619 -1.45064439 -1.40633352 -0.99747446]\n",
      "Quantum Solution:            [0.16026174 0.62687666 0.58686762 0.48675274]\n",
      "Corrected Quantum Solution:  [-0.07815  0.30569  0.28618 -0.23736]\n",
      "\n",
      "Fidelity:                    15.36 %\n"
     ]
    },
    {
     "data": {
      "image/png": "[encoded data removed]",
      "text/plain": [
       "<Figure size 640x480 with 1 Axes>"
      ]
     },
     "metadata": {},
     "output_type": "display_data"
    }
   ],
   "source": [
    "show_solutions(A, b, qprog_psi_exact, res_psi_exact, precision, check=False)"
   ]
  },
  {
   "cell_type": "markdown",
   "id": "mg_aclfyA0u9",
   "metadata": {
    "id": "mg_aclfyA0u9"
   },
   "source": [
    "### Example: Approximated Hamiltonian Evolution (Suzuki-Trotter)\n",
    "\n",
    "The approximated Hamiltonian simulation is capable of handling larger and more complex systems, making it more suitable for real-world applications where exact solutions are computationally prohibitive."
   ]
  },
  {
   "cell_type": "markdown",
   "id": "1ffcbdfd-6c23-47ad-8955-ec8fd0861e32",
   "metadata": {
    "id": "1ffcbdfd-6c23-47ad-8955-ec8fd0861e32",
    "lines_to_next_cell": 0,
    "tags": []
   },
   "source": [
    "We will define the inner quantum call to be used within the flexible QPE: a Suzuki Trotter of order 1 [[3](#Trotter)], whose repetitions parameter grows by some constant factor proportional to the evolution coefficient.\n",
    "\n",
    "For the QPE we are going to use Classiq's `suzuki-trotter` function of order 1 for Hamiltonian evolution $e^{-i H t}$. This function is an approximated one, where its `repetitions` parameter controls its error. For a QPE algorithm with size $m$ a series of controlled-unitaries $U^{2^s}$ $0 \\leq s \\leq m-1$ are applied, for each of which we would like to pass a different `repetitions` parameter depth (to keep a roughly same error, the repetitions for approximating $U=e^{2\\pi i 2^s A }$ is expected to be $\\sim 2^s$ larger then the repetitions of $U=e^{2\\pi i A }$). In Classiq this can be done by working with a [`qpe_flexible`](https://github.com/Classiq/classiq-library/blob/main/functions/qmod_library_reference/classiq_open_library/qpe/qpe.ipynb), and passing a \"rule\" for how to exponentiate each step within the QPE in `repetitions` parameter."
   ]
  },
  {
   "cell_type": "code",
   "execution_count": 16,
   "id": "2xfdfSuq2esh",
   "metadata": {
    "id": "2xfdfSuq2esh"
   },
   "outputs": [],
   "source": [
    "from classiq.qmod.symbolic import ceiling, log\n",
    "\n",
    "\n",
    "@qfunc\n",
    "def suzuki_trotter1_with_power_logic(\n",
    "    hamiltonian: CArray[PauliTerm],\n",
    "    pw: CInt,\n",
    "    r0: CInt,\n",
    "    reps_scaling_factor: CReal,\n",
    "    evolution_coefficient: CReal,\n",
    "    target: QArray,\n",
    ") -> None:\n",
    "    suzuki_trotter(\n",
    "        hamiltonian,\n",
    "        evolution_coefficient=evolution_coefficient * pw,\n",
    "        order=1,\n",
    "        repetitions=r0 * ceiling(reps_scaling_factor ** (log(pw, 2))),\n",
    "        qbv=target,\n",
    "    )"
   ]
  },
  {
   "cell_type": "markdown",
   "id": "MLIyHtFJYAG0",
   "metadata": {
    "id": "MLIyHtFJYAG0"
   },
   "source": [
    "The values of the parameters `R0` and `REPS_SCALING_FACTOR` below were chosen by trial and error because they are Hamiltonian dependent. For other examples, one would need to use different values for these parameters, please compare with specific example in [Flexible QPE tutorial](https://github.com/Classiq/classiq-library/blob/main/tutorials/advanced_tutorials/high_level_modeling_flexible_qpe/high_level_modeling_flexible_qpe.ipynb). The relevant literature that discusses the errors of product formulas is available in [[5](#trotter-error)]."
   ]
  },
  {
   "cell_type": "code",
   "execution_count": 17,
   "id": "8a55813c-e4e8-4490-92a0-90816ad220d2",
   "metadata": {
    "id": "8a55813c-e4e8-4490-92a0-90816ad220d2"
   },
   "outputs": [],
   "source": [
    "from classiq.qmod.symbolic import floor\n",
    "\n",
    "# parameters for the amplitude preparation\n",
    "amplitudes = b.tolist()\n",
    "\n",
    "# parameters for the QPE\n",
    "QPE_SIZE = 4\n",
    "\n",
    "R0 = 4\n",
    "REPS_SCALING_FACTOR = 1.8\n",
    "\n",
    "\n",
    "@qfunc\n",
    "def main(\n",
    "    res: Output[QNum],\n",
    "    phase: Output[QNum],\n",
    "    indicator: Output[QBit],\n",
    ") -> None:\n",
    "    hhl(\n",
    "        rhs_vector=amplitudes,\n",
    "        precision=QPE_SIZE,\n",
    "        hamiltonian_evolution_with_power=lambda pw, target: suzuki_trotter1_with_power_logic(\n",
    "            hamiltonian=hamiltonian,\n",
    "            pw=pw,\n",
    "            evolution_coefficient=-2 * np.pi,\n",
    "            r0=R0,\n",
    "            reps_scaling_factor=REPS_SCALING_FACTOR,\n",
    "            target=target,\n",
    "        ),\n",
    "        state=res,\n",
    "        phase=phase,\n",
    "        indicator=indicator,\n",
    "    )\n",
    "\n",
    "\n",
    "# Define model\n",
    "qmod_hhl_trotter = hhl_model(main, backend_preferences)"
   ]
  },
  {
   "cell_type": "code",
   "execution_count": 18,
   "id": "8u01t_lw4Gc6",
   "metadata": {
    "id": "8u01t_lw4Gc6"
   },
   "outputs": [],
   "source": [
    "# Save qmod file\n",
    "write_qmod(qmod_hhl_trotter, \"hhl_trotter\", decimal_precision=10)"
   ]
  },
  {
   "cell_type": "code",
   "execution_count": 19,
   "id": "w3Kh2LRu2JQP",
   "metadata": {
    "colab": {
     "base_uri": "https://localhost:8080/",
     "height": 606
    },
    "id": "w3Kh2LRu2JQP",
    "outputId": "8cd9d835-5cbb-4d66-fa6e-69207ee28c3a"
   },
   "outputs": [
    {
     "name": "stdout",
     "output_type": "stream",
     "text": [
      "Quantum program link: https://platform.classiq.io/circuit/2ymn8IHYuhL9AYTrfvmhPtveFS6\n",
      "Circuit depth =  5066\n",
      "Circuit CX count =  2964\n",
      "\n",
      "Classical Solution:          [1.3814374  2.50585064 3.19890483 2.43147877]\n",
      "Quantum Solution:            [0.28600641 0.5107414  0.64756839 0.48785114]\n",
      "Corrected Quantum Solution:  [1.4399586  2.54984965 3.2534983  2.43124679]\n",
      "\n",
      "Fidelity:                    99.99 %\n"
     ]
    },
    {
     "data": {
      "image/png": "[encoded data removed]",
      "text/plain": [
       "<Figure size 640x480 with 1 Axes>"
      ]
     },
     "metadata": {},
     "output_type": "display_data"
    }
   ],
   "source": [
    "# Synthesize\n",
    "qprog_hhl_trotter = synthesize(qmod_hhl_trotter)\n",
    "show(qprog_hhl_trotter)\n",
    "\n",
    "# Show circuit\n",
    "print(\"Circuit depth = \", qprog_hhl_trotter.transpiled_circuit.depth)\n",
    "print(\"Circuit CX count = \", qprog_hhl_trotter.transpiled_circuit.count_ops[\"cx\"])\n",
    "print()\n",
    "\n",
    "# Show results\n",
    "res_hhl_trotter = execute(qprog_hhl_trotter).result_value()\n",
    "show_solutions(A, b, qprog_hhl_trotter, res_hhl_trotter, precision)"
   ]
  },
  {
   "cell_type": "markdown",
   "id": "fl8Ee2MDdtvR",
   "metadata": {
    "id": "fl8Ee2MDdtvR"
   },
   "source": [
    "We explored the HHL algorithm for solving linear systems using exact and approximated Hamiltonian simulations. The exact method, with a smaller circuit depth, is computationally less intensive but lacks scalability. In contrast, the approximated method, with a greater circuit depth, offers flexibility and can handle larger, more complex systems. This trade-off highlights the importance of choosing the right method based on problem size and complexity."
   ]
  },
  {
   "cell_type": "markdown",
   "id": "c5d5ea31-3ab2-4eb5-8522-9462e6ccfa40",
   "metadata": {
    "id": "c5d5ea31-3ab2-4eb5-8522-9462e6ccfa40",
    "tags": []
   },
   "source": [
    "## 4. Generalizations\n",
    "\n",
    "The usecase treated above is a canonical one, assuming the following properties:\n",
    "- The RHS vector $\\vec{b}$ is normalized.\n",
    "- The matrix $A$ is an Hermitian one.\n",
    "- The matrix $A$ is of size $2^n\\times 2^n $.\n",
    "- The eigenvalues of $A$ are in the range $(0,1)$.\n",
    "\n",
    "However, any general problem that does not follow these conditions can be resolved as follows:\n",
    "\n",
    "1) Normalize $\\vec{b}$ and return the normalization factor\n",
    "\n",
    "2) Symmetrize the problem as follows:\n",
    "$$\n",
    "\\begin{pmatrix}\n",
    "0 & A^T \\\\\n",
    "A & 0\n",
    "\\end{pmatrix}\n",
    "\\begin{pmatrix}\n",
    "\\vec{b}  \\\\\n",
    "0\n",
    "\\end{pmatrix}\n",
    "=\n",
    "\\begin{pmatrix}\n",
    "0  \\\\\n",
    "\\vec{x}\n",
    "\\end{pmatrix}.\n",
    "$$\n",
    "**Note:** This increases the number of qubits by 1.\n",
    "\n",
    "3) Complete the matrix dimension to the closest $2^n$ with an identity matrix. The vector $\\vec{b}$ will be completed with zeros.\n",
    "$$\n",
    "\\begin{pmatrix}\n",
    "A & 0 \\\\\n",
    "0 & I\n",
    "\\end{pmatrix}\n",
    "\\begin{pmatrix}\n",
    "\\vec{b}  \\\\\n",
    "0\n",
    "\\end{pmatrix}\n",
    "=\n",
    "\\begin{pmatrix}\n",
    "\\vec{x}  \\\\\n",
    "0\n",
    "\\end{pmatrix}.\n",
    "$$\n",
    "\n",
    "4) If the eigenvalues of $A$ are in the range $[-w_{\\min},w_{\\max}]$ you can employ transformations to the exponentiated matrix that enters into the Hamiltonian simulation, and then undo them for extracting the results:\n",
    "$$\n",
    "\\tilde{A}=(A+w_{\\min}I)\\left(1-\\frac{1}{2^{m}}\\right)\\frac{1}{w_{\\min}+w_{\\max}}.\n",
    "$$\n",
    "The eigenvalues of this matrix lie in the interval $[0,1)$, and are related to the eigenvalues of the original matrix via\n",
    "$$\n",
    "\\lambda = (w_{\\min}+w_{\\max})\\tilde{\\lambda}\\left[1/\\left(1-\\frac{1}{2^{n_{m}}}\\right)\\right]-w_{\\min},\n",
    "$$\n",
    "with $\\tilde{\\lambda}$ being an eigenvalue of $\\tilde{A}$ resulting from the QPE algorithm. This relation between eigenvalues is then used for the expression inserted into the eigenvalue inversion, via the `AmplitudeLoading` function."
   ]
  },
  {
   "cell_type": "markdown",
   "id": "oZAVXhfEhPTp",
   "metadata": {
    "id": "oZAVXhfEhPTp"
   },
   "source": [
    "## Technical Notes"
   ]
  },
  {
   "cell_type": "markdown",
   "id": "pSqM782xhRGA",
   "metadata": {
    "id": "pSqM782xhRGA"
   },
   "source": [
    "A brief summary of the the HHL algorithm:\n",
    "\n",
    "- **Preparation:** Unitary $U = e^{2\\pi i A}$ is constructed out of matrix $A$ for exact or approximated Hamiltonian simulation.\n",
    "\n",
    "- **Step 1:** Three registers are initialized of $m$, $n$ and 1 qubits respectively and vector $\\vec{b}$ is encoded into initial state:\n",
    "  $|0\\rangle_m |0\\rangle_n|0\\rangle_a \\xrightarrow[]{{\\rm SP}} |0\\rangle_m |b\\rangle_n|0\\rangle_a$.\n",
    "\n",
    "- **Step 2:** Quantum Phase Estimation (QPE) with controlled powers of unitary $U$ is applied to the initial state,\n",
    "  \n",
    "  $\\xrightarrow[]{{\\rm QPE}} \\sum^{2^n-1}_{j=0}\\beta_j |\\tilde{\\lambda}_j\\rangle_m |u_j\\rangle_n |0\\rangle_a$.\n",
    "\n",
    "- **Step 3:** Controlled rotations are applied to auxiliary bit $|0\\rangle_a$ with normalized constant $C = \\frac{1}{2^m}$,\n",
    "\n",
    "  $\\xrightarrow[]{{\\rm \\lambda^{-1}}} \\sum^{2^n-1}_{j=0}{\\beta_j |\\tilde{\\lambda_j}\\rangle_m |u_j\\rangle_n \\left(\\sqrt{1-\\frac{C^2}{\\tilde{\\lambda}^2_j}}|0\\rangle_a + \\frac{C}{\\tilde{\\lambda}_j}|1\\rangle_a \\right)}$.\n",
    "\n",
    "- **Step 4:** Eigenvalues $|\\tilde{\\lambda_j}\\rangle_m$ are uncomputed with QPE $^\\dagger$,\n",
    "\n",
    "  $\\xrightarrow[]{{\\rm QPE^\\dagger}} \\sum^{2^n-1}_{j=0}{\\beta_j |0\\rangle_m |u_j\\rangle_n \\left(\\sqrt{1-\\frac{C^2}{\\tilde{\\lambda}^2_j}}|0\\rangle_a + \\frac{C}{\\tilde{\\lambda}_j}|1\\rangle_a \\right)}$, if eigenvalues are $m$-estimated.\n",
    "\n",
    "- **Step 5:** Auxiliary bit value is observed and if:\n",
    "\n",
    "  - $|0\\rangle_a$ is measured or\n",
    "  - $|0\\rangle_m$ is not measured,\n",
    "  \n",
    "  then return to step 0, otherwise observe the state $|x\\rangle = \\sum^{2^n-1}_{j=0} \\frac{\\beta_j}{\\tilde{\\lambda}_j} |u_j\\rangle_n = |A^{-1}b\\rangle$ and save measured results.\n",
    "\n",
    "- **Step 6:** Repeat steps 1-5 for a fixed number of times ($s$-shots).\n",
    "\n",
    "- **Step 7:** Collect solution from statistical processing $x_s$\n",
    "\n",
    "- **Step 8:** Post-process and calculate approximate solution $x = {\\rm Real} \\left(\\frac{x_s}{e^{i \\phi}}\\right)$, where $\\phi$ is global phase of $x_s$."
   ]
  },
  {
   "cell_type": "markdown",
   "id": "dfa04f60-9f81-49d9-860e-179169bd5cdf",
   "metadata": {
    "id": "dfa04f60-9f81-49d9-860e-179169bd5cdf"
   },
   "source": [
    "## References\n",
    "\n",
    "<a name='HHL'>[1]</a>: [Harrow, A. W., Hassidim, A., & Lloyd, S., Quantum Algorithm for Linear Systems of Equations. Physical Review Letters 103, 150502 (2009)](https://journals.aps.org/prl/abstract/10.1103/PhysRevLett.103.150502).\n",
    "\n",
    "<a name='PauliDecomposition'>[2]</a>: [L. Hantzko, L. Binkowski, S. Gupta, Tensorized Pauli decomposition algorithm (2024)](https://arxiv.org/abs/2310.13421).\n",
    "\n",
    "<a name='Trotter'>[3]</a>: [N. Hatano, M. Suzuki, Finding Exponential Product Formulas of Higher Orders (2005)](https://arxiv.org/abs/math-ph/0506007).\n",
    "\n",
    "<a name='Duda'>[4]</a>: [J.Duda, \"Two-way quantum computers adding CPT analog of state preparation\" (2023)](https://arxiv.org/abs/2308.13522).\n",
    "\n",
    "<a name='trotter-error'>[5]</a>: [A. M. Childs, Y. Su, M. C. Tran, N. Wiebe, S. Zhu, \"Theory of Trotter Error with Commutator Scaling\" (2021)](https://arxiv.org/abs/2308.13522).\n"
   ]
  }
 ],
 "metadata": {
  "colab": {
   "provenance": [],
   "toc_visible": true
  },
  "kernelspec": {
   "display_name": ".venv",
   "language": "python",
   "name": "python3"
  },
  "language_info": {
   "codemirror_mode": {
    "name": "ipython",
    "version": 3
   },
   "file_extension": ".py",
   "mimetype": "text/x-python",
   "name": "python",
   "nbconvert_exporter": "python",
   "pygments_lexer": "ipython3",
   "version": "3.12.10"
  }
 },
 "nbformat": 4,
 "nbformat_minor": 5
}
