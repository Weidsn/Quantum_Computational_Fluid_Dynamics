{
 "cells": [
  {
   "cell_type": "markdown",
   "metadata": {},
   "source": [
    "# LCU decomposition\n",
    "\n",
    "Decomposing a tridiagonal matrix into LCU, specifically, as a linear combination of Pauli strings (tensor products of Pauli matrices)\n",
    "\n",
    "To do this, we use `SparsePauliOp` function from qiskit."
   ]
  },
  {
   "cell_type": "code",
   "execution_count": 8,
   "metadata": {},
   "outputs": [
    {
     "name": "stdout",
     "output_type": "stream",
     "text": [
      "An example matrix to decompose:\n"
     ]
    },
    {
     "data": {
      "text/latex": [
       "$$\n",
       "\n",
       "\\begin{bmatrix}\n",
       "2 & -1 & 0 & 0  \\\\\n",
       " -1 & 2 & -1 & 0  \\\\\n",
       " 0 & -1 & 2 & -1  \\\\\n",
       " 0 & 0 & -1 & 2  \\\\\n",
       " \\end{bmatrix}\n",
       "$$"
      ],
      "text/plain": [
       "<IPython.core.display.Latex object>"
      ]
     },
     "metadata": {},
     "output_type": "display_data"
    }
   ],
   "source": [
    "import numpy as np\n",
    "from IPython.display import display\n",
    "from qiskit.visualization import array_to_latex, plot_histogram\n",
    "\n",
    "A = np.array([[2,-1,0,0],\n",
    "                    [-1,2,-1,0],\n",
    "                    [0,-1,2,-1],\n",
    "                    [0,0,-1,2]])\n",
    "\n",
    "print(\"An example matrix to decompose:\")\n",
    "display(array_to_latex(A))\n"
   ]
  },
  {
   "cell_type": "code",
   "execution_count": 9,
   "metadata": {},
   "outputs": [
    {
     "name": "stdout",
     "output_type": "stream",
     "text": [
      "SparsePauliOp(['II', 'IX', 'XX', 'YY'],\n",
      "              coeffs=[ 2. +0.j, -1. +0.j, -0.5+0.j, -0.5+0.j])\n"
     ]
    }
   ],
   "source": [
    "from qiskit.quantum_info import Operator, SparsePauliOp\n",
    "\n",
    "# Apply SparsePauliOp()\n",
    "triPauli1 = SparsePauliOp.from_operator(A)\n",
    "print(triPauli1)"
   ]
  },
  {
   "cell_type": "markdown",
   "metadata": {},
   "source": [
    "To obtain Pauli strings and their corresponding coefficients, use `.paulis` and `.coeffs` on `SparsePauliOp` class object."
   ]
  },
  {
   "cell_type": "code",
   "execution_count": 14,
   "metadata": {},
   "outputs": [
    {
     "data": {
      "text/plain": [
       "PauliList(['II', 'IX', 'XX', 'YY'])"
      ]
     },
     "execution_count": 14,
     "metadata": {},
     "output_type": "execute_result"
    }
   ],
   "source": [
    "triPauli1.paulis"
   ]
  },
  {
   "cell_type": "code",
   "execution_count": 15,
   "metadata": {},
   "outputs": [
    {
     "data": {
      "text/plain": [
       "array([ 2. +0.j, -1. +0.j, -0.5+0.j, -0.5+0.j])"
      ]
     },
     "execution_count": 15,
     "metadata": {},
     "output_type": "execute_result"
    }
   ],
   "source": [
    "triPauli1.coeffs"
   ]
  },
  {
   "cell_type": "code",
   "execution_count": 5,
   "metadata": {},
   "outputs": [
    {
     "name": "stdout",
     "output_type": "stream",
     "text": [
      "True\n"
     ]
    },
    {
     "data": {
      "text/latex": [
       "$$\n",
       "\n",
       "\\begin{bmatrix}\n",
       "0 & 0 & 0 & 1  \\\\\n",
       " 0 & 0 & 1 & 0  \\\\\n",
       " 0 & 1 & 0 & 0  \\\\\n",
       " 1 & 0 & 0 & 0  \\\\\n",
       " \\end{bmatrix}\n",
       "$$"
      ],
      "text/plain": [
       "<IPython.core.display.Latex object>"
      ]
     },
     "metadata": {},
     "output_type": "display_data"
    },
    {
     "data": {
      "text/latex": [
       "$$\n",
       "\n",
       "\\begin{bmatrix}\n",
       "0 & 0 & 0 & -1  \\\\\n",
       " 0 & 0 & 1 & 0  \\\\\n",
       " 0 & 1 & 0 & 0  \\\\\n",
       " -1 & 0 & 0 & 0  \\\\\n",
       " \\end{bmatrix}\n",
       "$$"
      ],
      "text/plain": [
       "<IPython.core.display.Latex object>"
      ]
     },
     "metadata": {},
     "output_type": "display_data"
    }
   ],
   "source": [
    "A_op = Operator(A)\n",
    "\n",
    "XX = Operator.from_label(\"XX\")\n",
    "YY = Operator.from_label(\"YY\")\n",
    "print(XX.is_unitary())\n",
    "display(XX.draw(output='latex'))\n",
    "display(YY.draw(output='latex'))"
   ]
  },
  {
   "cell_type": "markdown",
   "metadata": {},
   "source": [
    "Using `.to_matrix()` method on `SparsePauliOp` class object to obtain the sum of the Pauli strings multiplied by their corresponding coefficients."
   ]
  },
  {
   "cell_type": "code",
   "execution_count": 6,
   "metadata": {},
   "outputs": [
    {
     "data": {
      "text/latex": [
       "$$\n",
       "\n",
       "\\begin{bmatrix}\n",
       "2 & -1 & 0 & 0  \\\\\n",
       " -1 & 2 & -1 & 0  \\\\\n",
       " 0 & -1 & 2 & -1  \\\\\n",
       " 0 & 0 & -1 & 2  \\\\\n",
       " \\end{bmatrix}\n",
       "$$"
      ],
      "text/plain": [
       "<IPython.core.display.Latex object>"
      ]
     },
     "metadata": {},
     "output_type": "display_data"
    }
   ],
   "source": [
    "\n",
    "display(array_to_latex(triPauli1.to_matrix()))"
   ]
  },
  {
   "cell_type": "markdown",
   "metadata": {},
   "source": [
    "Results verified by hand calculation."
   ]
  }
 ],
 "metadata": {
  "kernelspec": {
   "display_name": ".venv",
   "language": "python",
   "name": "python3"
  },
  "language_info": {
   "codemirror_mode": {
    "name": "ipython",
    "version": 3
   },
   "file_extension": ".py",
   "mimetype": "text/x-python",
   "name": "python",
   "nbconvert_exporter": "python",
   "pygments_lexer": "ipython3",
   "version": "3.11.2"
  }
 },
 "nbformat": 4,
 "nbformat_minor": 2
}
