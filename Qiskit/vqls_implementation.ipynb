{
 "cells": [
  {
   "cell_type": "markdown",
   "metadata": {
    "tags": [
     "remove_cell"
    ]
   },
   "source": [
    "# The Variational Quantum Linear Solver"
   ]
  },
  {
   "cell_type": "markdown",
   "metadata": {},
   "source": [
    "#### Editor's note:\n",
    "\n",
    "Consulted Pennylane tutorial on VQLS, found [here](https://pennylane.ai/qml/demos/tutorial_vqls).\n",
    "\n",
    "Qiskit version: `1.4.1`"
   ]
  },
  {
   "cell_type": "markdown",
   "metadata": {},
   "source": [
    "## 1. Introduction\n",
    "\n",
    "The Variational Quantum Linear Solver (VQLS) is a kind of variational quantum algorithm (VQA) that solves systems of linear equations. \n",
    "\n",
    "Given a matrix $A$, such that $A |x\\rangle \\ = \\ |b\\rangle$, where $|b\\rangle$ is some known vector, the VQLS algorithm finds a normalized $|x\\rangle$ that is proportional to $|x\\rangle$, which makes the above equation true.\n",
    "\n"
   ]
  },
  {
   "cell_type": "markdown",
   "metadata": {},
   "source": [
    "## 2. The Algorithm\n",
    "\n",
    "We start off with a qubit register, with each qubit initialized to $|0\\rangle$. \n",
    "\n",
    "First, we prepare a candidate solution, $|x(\\alpha)\\rangle$ conditioned on a set of parameters $\\alpha$. This is done using an ansatz $V(\\alpha)$, where $|x(\\alpha)\\rangle = V(\\alpha) |0\\rangle$. Next, prepare $|b\\rangle = U|0\\rangle$ for some unitary $U$.\n",
    "\n",
    "Second, we design a quantum circuit to compute a cost, $C(\\alpha)$, that captures the idea of the difference between $| x(\\alpha) \\rangle$ and the real solution, $|x_0\\rangle$, to $A {|x\\rangle} = {|b\\rangle}$.\n",
    "\n",
    "If the cost is greater than some parameter $\\gamma$, the algorithm is run again with updated parameters, and if not, the algorithm terminates.\n",
    "\n",
    "Next, using classical methods, we find a new parameter, $\\alpha$, that reduces $C(\\alpha)$.\n",
    "\n",
    "We repeat this process until $C(\\alpha)$ falls within a reasonable limit, at which point we settle with $|x(\\alpha)\\rangle$ as the final solution.\n",
    "\n",
    "![alt text](images/bro.png)"
   ]
  },
  {
   "cell_type": "markdown",
   "metadata": {},
   "source": [
    "## 3. Qiskit Implementation\n",
    "\n"
   ]
  },
  {
   "cell_type": "markdown",
   "metadata": {},
   "source": [
    "### Importing libraries"
   ]
  },
  {
   "cell_type": "code",
   "execution_count": 1,
   "metadata": {},
   "outputs": [
    {
     "name": "stdout",
     "output_type": "stream",
     "text": [
      "Note: you may need to restart the kernel to use updated packages.\n"
     ]
    }
   ],
   "source": [
    "%pip install --upgrade -r requirements.txt -q"
   ]
  },
  {
   "cell_type": "code",
   "execution_count": 114,
   "metadata": {},
   "outputs": [
    {
     "name": "stdout",
     "output_type": "stream",
     "text": [
      "Qiskit version: 1.4.1\n"
     ]
    }
   ],
   "source": [
    "from IPython.display import display\n",
    "\n",
    "import qiskit as qk\n",
    "from qiskit import QuantumCircuit, QuantumRegister, ClassicalRegister\n",
    "from qiskit import transpile, assemble\n",
    "from qiskit.circuit.library import UGate\n",
    "from qiskit.quantum_info import Statevector, Operator, PauliList, Operator, SparsePauliOp, Pauli\n",
    "from qiskit.visualization import array_to_latex, plot_histogram\n",
    "from qiskit_ibm_runtime import QiskitRuntimeService\n",
    "from qiskit.exceptions import QiskitError\n",
    "import math\n",
    "import random\n",
    "import numpy as np\n",
    "from numpy import pi\n",
    "from numpy import array, sqrt\n",
    "from scipy.optimize import minimize\n",
    "import matplotlib.pyplot as plt\n",
    "\n",
    "# For high-performance simulation\n",
    "from qiskit_aer import AerSimulator, Aer\n",
    "\n",
    "print(f\"Qiskit version: {qk.__version__}\")"
   ]
  },
  {
   "cell_type": "markdown",
   "metadata": {},
   "source": [
    "### Consider an Example\n",
    "\n",
    "Let us construct a 4x4 tridiagonal matrix, $A$. We generate a random vector $|x_0\\rangle$ and obtain $|b\\rangle$ from the equation $A |x_0\\rangle =|b\\rangle$. \n",
    "\n",
    "We apply VQLS, using $A$ and $|b\\rangle$ as inputs, to solve for $|x\\rangle$ in $A |x\\rangle =|b\\rangle$. We then compare our solution with the real solution $|x_0\\rangle$."
   ]
  },
  {
   "cell_type": "code",
   "execution_count": 3,
   "metadata": {},
   "outputs": [
    {
     "name": "stdout",
     "output_type": "stream",
     "text": [
      "Define the matrix, A, to be the following:\n"
     ]
    },
    {
     "data": {
      "text/latex": [
       "$$\n",
       "\n",
       "\\begin{bmatrix}\n",
       "2 & -1 & 0 & 0  \\\\\n",
       " -1 & 2 & -1 & 0  \\\\\n",
       " 0 & -1 & 2 & -1  \\\\\n",
       " 0 & 0 & -1 & 2  \\\\\n",
       " \\end{bmatrix}\n",
       "$$"
      ],
      "text/plain": [
       "<IPython.core.display.Latex object>"
      ]
     },
     "metadata": {},
     "output_type": "display_data"
    }
   ],
   "source": [
    "A = np.array([[2,-1,0,0],\n",
    "                    [-1,2,-1,0],\n",
    "                    [0,-1,2,-1],\n",
    "                    [0,0,-1,2]])\n",
    "\n",
    "print(\"Define the matrix, A, to be the following:\")\n",
    "display(array_to_latex(A))"
   ]
  },
  {
   "cell_type": "markdown",
   "metadata": {},
   "source": [
    "### Decomposing A into LCU\n",
    "\n",
    "We decompose $A$ into a Linear Combination of Pauli Strings (LCU). This is done by writing $A$ as a sum of Pauli operators, each multiplied by a coefficient."
   ]
  },
  {
   "cell_type": "code",
   "execution_count": 51,
   "metadata": {},
   "outputs": [
    {
     "name": "stdout",
     "output_type": "stream",
     "text": [
      "SparsePauliOp(['II', 'IX', 'XX', 'YY'],\n",
      "              coeffs=[ 2. +0.j, -1. +0.j, -0.5+0.j, -0.5+0.j])\n",
      "\n",
      "The Pauli strings are:\n",
      "['II', 'IX', 'XX', 'YY']\n",
      "\n",
      "The coefficients are:\n",
      "[ 2. +0.j -1. +0.j -0.5+0.j -0.5+0.j]\n"
     ]
    }
   ],
   "source": [
    "# Apply SparsePauliOp()\n",
    "LCU = SparsePauliOp.from_operator(A)\n",
    "print(LCU, end=\"\\n\\n\")\n",
    "\n",
    "print(\"The Pauli strings are:\")\n",
    "print(LCU.paulis, end=\"\\n\\n\")\n",
    "\n",
    "print(\"The coefficients are:\")\n",
    "print(LCU.coeffs)"
   ]
  },
  {
   "cell_type": "markdown",
   "metadata": {},
   "source": [
    "Hence, we have\n",
    "\n",
    "$$\n",
    "A = 2II - 1IX - 0.5XX - 0.5YY\n",
    "$$\n",
    "\n",
    "where $I$, $X$, $Y$ are Pauli matrices. \n",
    "\n",
    "### Defining Controlled-A Circuits\n",
    "For the Hadamard Test, let us define the function `CA()` that creates controlled circuits for each Pauli string in the LCU. "
   ]
  },
  {
   "cell_type": "code",
   "execution_count": 128,
   "metadata": {},
   "outputs": [
    {
     "data": {
      "image/png": "[encoded data removed]",
      "text/plain": [
       "<Figure size 261.567x284.278 with 1 Axes>"
      ]
     },
     "metadata": {},
     "output_type": "display_data"
    },
    {
     "data": {
      "image/png": "[encoded data removed]",
      "text/plain": [
       "<Figure size 345.178x367.889 with 1 Axes>"
      ]
     },
     "metadata": {},
     "output_type": "display_data"
    }
   ],
   "source": [
    "from qiskit import QuantumCircuit, QuantumRegister\n",
    "from qiskit.quantum_info import Pauli, PauliList\n",
    "from qiskit.exceptions import QiskitError\n",
    "\n",
    "def CA(pauli_input):\n",
    "    \"\"\"\n",
    "    Creates a controlled-Pauli circuit using an ancilla qubit as the control.\n",
    "\n",
    "    Parameters:\n",
    "        pauli_input (str, Pauli, or PauliList): \n",
    "            - A Pauli string (e.g., \"IXY\").\n",
    "            - A Qiskit Pauli object (e.g., from SparsePauliOp.paulis[0]).\n",
    "            - A Qiskit PauliList object, where the first Pauli will be used.\n",
    "    \n",
    "    The circuit uses two registers:\n",
    "        - An ancilla register of size 1 named \"ancilla\" (the control qubit).\n",
    "        - A data register of size nqubits named \"q\" (the target qubits).\n",
    "    \n",
    "    For each position in the Pauli operator:\n",
    "        - 'I': Do nothing.\n",
    "        - 'X': Apply a controlled-X (CX) gate.\n",
    "        - 'Z': Apply a controlled-Z (CZ) gate.\n",
    "        - 'Y': Apply a controlled-Y (CY) gate.\n",
    "    \n",
    "    Returns:\n",
    "        QuantumCircuit: The constructed controlled-Pauli circuit.\n",
    "    \"\"\"\n",
    "\n",
    "    # Convert input to a Pauli object if it is a string\n",
    "    if isinstance(pauli_input, str):\n",
    "        try:\n",
    "            pauli = Pauli(pauli_input)  # Convert string to Pauli object\n",
    "        except QiskitError:\n",
    "            raise ValueError(f\"Invalid Pauli string '{pauli_input}'. Allowed characters: I, X, Y, Z.\")\n",
    "    \n",
    "    # If input is already a Pauli object, use it directly\n",
    "    elif isinstance(pauli_input, Pauli):\n",
    "        pauli = pauli_input\n",
    "    \n",
    "    # If input is a PauliList, extract the first Pauli (document states pauli_list[0] returns Pauli)\n",
    "    elif isinstance(pauli_input, PauliList):\n",
    "        if len(pauli_input) == 0:\n",
    "            raise ValueError(\"PauliList must contain at least one Pauli operator.\")\n",
    "        pauli = pauli_input[0]  # Extract first Pauli object\n",
    "    \n",
    "    # Reject invalid types\n",
    "    else:\n",
    "        raise TypeError(f\"Expected input type str, Pauli, or PauliList, but received {type(pauli_input)}.\")\n",
    "    \n",
    "    # Determine the number of qubits\n",
    "    nqubits = pauli.num_qubits\n",
    "    \n",
    "    # Create registers\n",
    "    ancilla = QuantumRegister(1, name=\"ancilla\")\n",
    "    data = QuantumRegister(nqubits, name=\"q\")\n",
    "    \n",
    "    # Create circuit\n",
    "    circ = QuantumCircuit(ancilla, data, name=\"CA\")\n",
    "    \n",
    "    # Loop over each Pauli term directly from the Pauli object\n",
    "    for i, p in enumerate(pauli.to_label()):  # Ensure compatibility with string indexing\n",
    "        \n",
    "        # Qiskit follows little Endian convention for qubit ordering. \n",
    "        # The most signifcant qubit is the one on the left in hand-written form. \n",
    "        # Hence, we need to reverse the index to match qubit numbering.\n",
    "        i = nqubits - i - 1\n",
    "        # E.g. nqubits =3, [0,1,2] becomes [2,1,0]\n",
    "        \n",
    "        if p == \"I\":\n",
    "            continue\n",
    "        elif p == \"X\":\n",
    "            circ.cx(ancilla[0], data[i])\n",
    "        elif p == \"Z\":\n",
    "            circ.cz(ancilla[0], data[i])\n",
    "        elif p == \"Y\":\n",
    "            circ.cy(ancilla[0], data[i])\n",
    "        else:\n",
    "            raise ValueError(f\"Unsupported Pauli operator: {p}\")\n",
    "    \n",
    "    return circ\n",
    "display(CA(LCU.paulis[1]).draw(\"mpl\"))\n",
    "display(CA(\"IXY\").draw(\"mpl\"))"
   ]
  },
  {
   "cell_type": "markdown",
   "metadata": {},
   "source": [
    "### Implement $|b\\rangle$ with $U |0\\rangle$\n",
    "\n",
    "For simplicity, let use a $|b\\rangle$ that is easy to implement. Let\n",
    "$$|b\\rangle = \\frac{1}{2} \\begin{pmatrix} 1 \\\\ 1 \\\\ 1 \\\\ 1 \\end{pmatrix}$$\n",
    "\n",
    "$|b\\rangle$ can be prepared by applying a Hadamard gate to each qubit."
   ]
  },
  {
   "cell_type": "code",
   "execution_count": 110,
   "metadata": {},
   "outputs": [
    {
     "data": {
      "image/png": "[encoded data removed]",
      "text/plain": [
       "<Figure size 203.683x200.667 with 1 Axes>"
      ]
     },
     "metadata": {},
     "output_type": "display_data"
    }
   ],
   "source": [
    "def U_hadamard(nqubits):\n",
    "    \"\"\"\n",
    "    Creates a circuit of size 'nqubits' that represents U_hadamard.\n",
    "    For our problem, we only need to apply Hadamard on each qubit to prepare |b>.\n",
    "    \n",
    "    In general, U_b would be a unitary that maps |0> to |b> (or vice versa).\n",
    "\n",
    "    Returns:\n",
    "        circuit (QuantumCircuit): A quantum circuit of size 'nqubits'.\n",
    "    \"\"\"\n",
    "    circ = QuantumCircuit(nqubits, name=\"U_hadamard\")\n",
    "    # Example placeholder: apply H on each qubit\n",
    "    for i in range(nqubits):\n",
    "        circ.h(i)\n",
    "    return circ\n",
    "\n",
    "# |b> with two qubits:\n",
    "display(U_hadamard(2).draw(\"mpl\"))"
   ]
  },
  {
   "cell_type": "markdown",
   "metadata": {},
   "source": [
    "### Fixed Structure Ansatz for $|x(\\alpha)\\rangle$\n",
    "Consider the ansatz $V(\\alpha)$, quantum a circuit that prepares a state $|x(\\alpha)\\rangle$ given a set of parameters, $\\alpha$. \n",
    "\n",
    "There different techniques for preparing the ansatz, including fixed ansatz, variable ansatz and Quantum Alternating Operator Ansatz (QAOA). \n",
    "\n",
    "Here, we use a very basic fixed ansatz."
   ]
  },
  {
   "cell_type": "code",
   "execution_count": 120,
   "metadata": {},
   "outputs": [
    {
     "data": {
      "image/png": "[encoded data removed]",
      "text/plain": [
       "<Figure size 370.906x200.667 with 1 Axes>"
      ]
     },
     "metadata": {},
     "output_type": "display_data"
    },
    {
     "data": {
      "image/png": "[encoded data removed]",
      "text/plain": [
       "<Figure size 705.552x367.889 with 1 Axes>"
      ]
     },
     "metadata": {},
     "output_type": "display_data"
    }
   ],
   "source": [
    "\n",
    "def fixed_ansatz(parameters, nqubits=None):\n",
    "    \"\"\"\n",
    "    Creates a parameterized \"ansatz circuit\" on 'nqubits' data qubits.\n",
    "    'parameters' is a list of layers, for example [[θ₀, θ₁, ...], [θ₂, θ₃, ...], ...].\n",
    "    The number of layers is the circuit depth.\n",
    "    \n",
    "    Between each layer (except the last), a CZ entangling layer is inserted.\n",
    "    The entangling pattern alternates:\n",
    "    - For even layers (0, 2, ...): apply CZ on pairs (0,1), (2,3), ...\n",
    "    - For odd layers (1, 3, ...): apply CZ on pairs (1,2), (3,4), ...\n",
    "    \n",
    "    In a non-final layer, Ry gates are only applied to qubits that will be entangled in the next CZ layer.\n",
    "    \n",
    "    Returns:\n",
    "        QuantumCircuit: The constructed ansatz circuit.\n",
    "    \"\"\"\n",
    "    num_layers = len(parameters)\n",
    "    # If nqubits is not specified, determine it from the parameters.\n",
    "    if nqubits is None:\n",
    "        nqubits = max(len(parameters[i]) for i in range(num_layers))\n",
    "    \n",
    "    # Initialize the ansatz circuit.\n",
    "    ansatz = QuantumCircuit(nqubits, name=\"ansatz\")\n",
    "    \n",
    "    for layer_idx, layer in enumerate(parameters):\n",
    "        # For non-final layers, determine qubits that will be entangled in the next layer.\n",
    "        if layer_idx < num_layers - 1:\n",
    "            if layer_idx % 2 == 0:\n",
    "                # Even layer: entangle pairs (0,1), (2,3), ...\n",
    "                entangled = {i for pair in range(0, nqubits - 1, 2) for i in (pair, pair + 1)}\n",
    "            else:\n",
    "                # Odd layer: entangle pairs (1,2), (3,4), ...\n",
    "                entangled = {i for pair in range(1, nqubits - 1, 2) for i in (pair, pair + 1)}\n",
    "            # Apply Ry only on qubits that will be involved in the next CZ layer.\n",
    "            for i, theta in enumerate(layer[:nqubits]):\n",
    "                if i in entangled:\n",
    "                    ansatz.rx(theta, i)\n",
    "        else:\n",
    "            # For the final layer, apply Ry to all qubits.\n",
    "            for i, theta in enumerate(layer[:nqubits]):\n",
    "                ansatz.rx(theta, i)\n",
    "                \n",
    "        # After each layer (except the final one) insert the alternating CZ entangling layer.\n",
    "        if layer_idx < num_layers - 1:\n",
    "            if layer_idx % 2 == 0:\n",
    "                for i in range(0, nqubits - 1, 2):\n",
    "                    ansatz.cz(i, i + 1)\n",
    "            else:\n",
    "                for i in range(1, nqubits - 1, 2):\n",
    "                    ansatz.cz(i, i + 1)\n",
    "                    \n",
    "    return ansatz\n",
    "\n",
    "params1 = [[pi/1, pi/2], [pi/1, pi/2]]\n",
    "params2 = [[pi/1, pi/2, pi/3, pi/4], \n",
    "            [pi/1, pi/2, pi/3, pi/4], \n",
    "            [pi/1, pi/2, pi/3, pi/4], \n",
    "            [pi/1, pi/2, pi/3, pi/4]]\n",
    "\n",
    "# Display the circuits with modified parameters\n",
    "display(fixed_ansatz(parameters=params1, nqubits=2).draw(\"mpl\"))\n",
    "display(fixed_ansatz(params2).draw(\"mpl\"))"
   ]
  },
  {
   "cell_type": "code",
   "execution_count": 150,
   "metadata": {},
   "outputs": [
    {
     "data": {
      "image/png": "[encoded data removed]",
      "text/plain": [
       "<Figure size 763.234x367.889 with 1 Axes>"
      ]
     },
     "metadata": {},
     "output_type": "display_data"
    }
   ],
   "source": [
    "# Testing the function for circuit composition\n",
    "\n",
    "ancilla = QuantumRegister(1, name=\"ancilla\")\n",
    "data = QuantumRegister(3, name=\"q\")\n",
    "test_circ = QuantumCircuit(ancilla, data)\n",
    "\n",
    "test_circ.compose(CA(\"XYZ\"), inplace=True)\n",
    "test_circ.barrier()\n",
    "test_circ.compose(fixed_ansatz(parameters=params1, nqubits=2), qubits=data[0:2], inplace=True)\n",
    "\n",
    "display(test_circ.draw(\"mpl\"))"
   ]
  },
  {
   "cell_type": "markdown",
   "metadata": {},
   "source": [
    "Only the parameters change for each run of the circuit. The $Ry$ gates search the state space, while the $CZ$ gates create \"interference\" between qubits. \n",
    "\n",
    "Rx and CZ gates are native to IBM Heron Computers\\\n",
    " that is why they are chosen.\n"
   ]
  },
  {
   "cell_type": "markdown",
   "metadata": {},
   "source": [
    "### Cost Function\n",
    "\n",
    "Several cost functions are proposed:\n",
    "\n",
    "1. $C_G$\n",
    "\n",
    "$$C_G = 1 - | \\langle b| \\frac{|\\psi\\rangle}{\\|\\psi\\|} \\rangle |^2$$\n",
    "\n",
    "We project $|\\psi\\rangle = A |x(\\alpha)\\rangle$ onto the subspace orthogonal to $|b\\rangle$.\n",
    "$C_G(\\alpha)$ equals the norm squared of the projection.\n",
    "\n",
    "Note that $|\\psi\\rangle$ is not normalized, so we need to normalize it before computing the projection.\n",
    "\n",
    "As the number of qubits increases, the gradient of $C_G$ vanishes so we introduce the local cost function.\n",
    "\n",
    "<br>\n",
    "\n",
    "2. $C_L$, a local version of $C_G$.\n",
    "\n",
    "First, let us define\n",
    "\n",
    "$$P_1 = \\left( \\mathbb{1} - \\frac{1}{n} \\sum_{j=1}^{n} |0_j \\rangle \\langle 0_{j} | \\otimes \\mathbb{1}_{\\bar{j}} \\right)$$\n",
    "\n",
    "where $\\mathbb{1}_{\\bar{j}}$ is the identity on all qubits except the j-th qubit.\n",
    "\n",
    "Also,\n",
    "\n",
    "$$P_0 = \\frac{1}{2} + \\frac{1}{2n} \\sum_{j=1}^{n} Z_j\n",
    "$$\n",
    "where $Z_j$ is the Pauli-Z operator on the j-th qubit and identity on every other qubit.\n",
    "\n",
    "When multipled by a standard-basis vector, $P_0$ counts the number of 0's in the vector, and $P_1$ counts the number of 1's. For example, if $|a \\rangle$ has $m$ 1's and $n$ qubits, then $P_1 |a\\rangle = \\frac{m}{n} |a\\rangle$, and $P_0 |a\\rangle = \\frac{n-m}{n} |a\\rangle$.\n",
    "\n",
    "Notice that\n",
    "\n",
    "$$P_1 = \\mathbb{1} - P_0 $$\n",
    "\n",
    "Therefore,\n",
    "\n",
    "$$C_L = \\frac{\\hat{C}_L} {\\| \\psi\\|^2} = \\frac{\\langle x | H_L | x \\rangle} {\\| \\psi\\|^2}$$\n",
    "\n",
    "$$ = \\frac{\\langle x | A^\\dagger U P_1 U^\\dagger A | x \\rangle} {\\langle x | A^\\dagger A | x \\rangle}$$\n",
    "\n",
    "$$ = \\frac{\\langle x | A^\\dagger U P_1 U^\\dagger A | x \\rangle} {\\langle x | A^\\dagger U \\mathbb{1} U^\\dagger A | x \\rangle}$$\n",
    "\n",
    "$$ = \\frac{\\langle x | A^\\dagger U \\mathbb{1} U^\\dagger A | x \\rangle - \\langle x | A^\\dagger U P_0 U^\\dagger A | x \\rangle} {\\langle x | A^\\dagger U \\mathbb{1} U^\\dagger A | x \\rangle}$$\n",
    "\n",
    "$$ = 1 - \\frac{\\langle x | A^\\dagger U P_0 U^\\dagger A | x \\rangle} {\\langle x | A^\\dagger A | x \\rangle}$$\n",
    "\n",
    "$$ = \\frac{1}{2} - \\frac{1}{2n} \\frac{\\sum_{j=1}^{n}\\langle x | A^\\dagger U Z_j U^\\dagger A | x \\rangle} {\\langle x | A^\\dagger A | x \\rangle}$$\n",
    "\n",
    "$$ = \\frac{1}{2} - \\frac{1}{2n} \\frac{\\sum_{j=1}^{n}\\langle 0|V^\\dagger A^\\dagger U Z_j U^\\dagger A V|0 \\rangle} {\\langle 0|V^\\dagger A^\\dagger A  V|0 \\rangle}$$\n",
    "\n",
    "\n",
    "Since controlled-Z gate is native to IBM Heron processor, we can directly implement $Z_j$ gates to improve efficiency of the algorithm running on IBM Heron processors.\n",
    "\n",
    "Since\n",
    "\n",
    "$$A = \\sum_{l=1}^{L} c_lA_l$$\n",
    "where $c_l \\in \\mathbb{C}$, we can expand $A$ to get:\n",
    "\n",
    "$$ C_L = \\frac{1}{2} - \\frac{1}{2n} \\frac{\\sum_{j=1}^{n} \\sum_{l=1}^{L} \\sum_{l'=1}^{L} c_lc_{l'}^*\\langle 0|V^\\dagger A_{l'}^\\dagger U Z_j U^\\dagger A_l V|0 \\rangle} {\\sum_{l=1}^{L} \\sum_{l'=1}^{L} \\langle 0|V^\\dagger A_{l'}^\\dagger A_l  V|0 \\rangle}$$\n"
   ]
  },
  {
   "cell_type": "markdown",
   "metadata": {},
   "source": [
    "### Cost Function Circuit\n",
    "\n",
    "To calculate the cost function, we can use `Hadamard Test` circuit. The paper [5] introduces a new circuit, `Hadamard-Overlap Test`, to compute $C_L$. \n",
    "\n",
    "Here, we use a basic `Hadamard Test`. \n",
    "\n",
    "![Hadamard test](images\\Hadamard_test.webp)\n",
    "\n",
    "![Image from Pennylane](images\\vqls_hadamard_test_circuit.png)"
   ]
  },
  {
   "cell_type": "code",
   "execution_count": 165,
   "metadata": {},
   "outputs": [
    {
     "name": "stdout",
     "output_type": "stream",
     "text": [
      "A_l is: IX\n",
      "A_l' is: XX\n",
      "j = 0\n",
      "\n",
      "For the real part:\n"
     ]
    },
    {
     "data": {
      "image/png": "[encoded data removed]",
      "text/plain": [
       "<Figure size 1515.73x367.889 with 1 Axes>"
      ]
     },
     "metadata": {},
     "output_type": "display_data"
    },
    {
     "name": "stdout",
     "output_type": "stream",
     "text": [
      "For the imaginary part:\n"
     ]
    },
    {
     "data": {
      "image/png": "[encoded data removed]",
      "text/plain": [
       "<Figure size 1515.73x367.889 with 1 Axes>"
      ]
     },
     "metadata": {},
     "output_type": "display_data"
    }
   ],
   "source": [
    "import numpy as np\n",
    "from qiskit import QuantumCircuit, QuantumRegister, ClassicalRegister\n",
    "\n",
    "def local_hadamard_test(parameters, nqubits, l, j, lp, part=\"Re\"):\n",
    "    \"\"\"\n",
    "    Builds the main circuit for the local Hadamard test as in your diagram.\n",
    "\n",
    "    Args:\n",
    "        parameters (list): Parameters for fixed_ansatz, e.g. [[1,1],[1,1]].\n",
    "        nqubits (int): Number of data qubits (not counting the ancilla).\n",
    "        l (str): Pauli string for A_l (e.g. \"IX\").\n",
    "        j (int): Index of the data qubit for the controlled-Z. If j = -1, skip the CZ.\n",
    "        lp (str): Pauli string for A_{l'}.\n",
    "        part (str): \"Re\" or \"Im\". If \"Im\", apply a phase shift Rz(-pi/2) on the ancilla\n",
    "                    to measure the imaginary part.\n",
    "\n",
    "    Returns:\n",
    "        QuantumCircuit: The complete Hadamard test circuit with measurement on the ancilla.\n",
    "    \"\"\"\n",
    "    # 0) Create registers: 1 ancilla + nqubits data + 1 classical bit for measurement\n",
    "    ancilla = QuantumRegister(1, name=\"ancilla\")\n",
    "    data = QuantumRegister(nqubits, name=\"q\")\n",
    "    cbit = ClassicalRegister(1, name=\"c\")\n",
    "    \n",
    "    main_circuit = QuantumCircuit(ancilla, data, cbit, name=\"LocalHadamardTest\")\n",
    "\n",
    "    # 1) Hadamard on ancilla\n",
    "    main_circuit.h(ancilla[0])\n",
    "\n",
    "    # 1.5) (Optional) Phase shift for measuring imaginary part\n",
    "    if part.lower().strip() in [\"im\", \"imag\", \"imaginary\"]:\n",
    "        main_circuit.rz(-np.pi / 2, ancilla)\n",
    "\n",
    "    # 2) Apply the fixed ansatz V(w) to the data qubits\n",
    "    ansatz_circ = fixed_ansatz(parameters, nqubits)\n",
    "    # Map data qubits of ansatz onto the 'data' register in main_circuit\n",
    "    main_circuit.compose(ansatz_circ, qubits=data, inplace=True)\n",
    "    main_circuit.barrier()\n",
    "    \n",
    "    # 3) Controlled A_l\n",
    "    ca_l = CA(l)  # This subcircuit has 1 ancilla + nqubits data\n",
    "    # Map the ancilla -> ancilla, data -> data[:]\n",
    "    main_circuit.compose(\n",
    "        ca_l,\n",
    "        # qubits=[ancilla] + list(data),\n",
    "        inplace=True\n",
    "    )\n",
    "    main_circuit.barrier()\n",
    "    \n",
    "    # 4) U_hadamard^\\dagger\n",
    "    ub_circ = U_hadamard(nqubits)\n",
    "    main_circuit.compose(\n",
    "        ub_circ.inverse(),\n",
    "        qubits=data,  # apply to the data qubits\n",
    "        inplace=True\n",
    "    )\n",
    "    main_circuit.barrier()\n",
    "    \n",
    "    # 5) Controlled-Z(ancilla, j) if j != -1\n",
    "    if j != -1:\n",
    "        main_circuit.cz(ancilla, data[j])\n",
    "    main_circuit.barrier()\n",
    "    \n",
    "    # 6) U_hadamard\n",
    "    main_circuit.compose(\n",
    "        ub_circ,\n",
    "        qubits=data,\n",
    "        inplace=True\n",
    "    )\n",
    "    main_circuit.barrier()\n",
    "    \n",
    "    # 7) Controlled A_{l'}^\\dagger\n",
    "    # First build the subcircuit for A_{l'}, then invert it\n",
    "    ca_lp = CA(lp)\n",
    "    ca_lp_inv = ca_lp.inverse()\n",
    "    main_circuit.compose(\n",
    "        ca_lp_inv,\n",
    "        qubits=[ancilla[0]] + list(data),\n",
    "        inplace=True\n",
    "    )\n",
    "    main_circuit.barrier()\n",
    "    \n",
    "    # 8) Hadamard on ancilla\n",
    "    main_circuit.h(ancilla)\n",
    "\n",
    "    # 9) Measure ancilla in classical bit 0\n",
    "    # main_circuit.measure(ancilla, cbit)\n",
    "\n",
    "    return main_circuit\n",
    "\n",
    "\n",
    "print(f\"A_l is: {LCU.paulis[1]}\")\n",
    "print(f\"A_l' is: {LCU.paulis[2]}\")\n",
    "print(\"j = 0\", end=\"\\n\\n\")\n",
    "\n",
    "print(\"For the real part:\")\n",
    "test_circ = local_hadamard_test(params1, nqubits=2, l=LCU.paulis[1], j=0, lp=LCU.paulis[2], part=\"Re\")\n",
    "display(test_circ.draw(\"mpl\"))\n",
    "\n",
    "print(\"For the imaginary part:\")\n",
    "test_circ2 = local_hadamard_test(params1, nqubits=2, l=LCU.paulis[1], j=0, lp=LCU.paulis[2], part=\"Im\")\n",
    "display(test_circ2.draw(\"mpl\"))"
   ]
  },
  {
   "cell_type": "markdown",
   "metadata": {},
   "source": [
    "To get the real (and imaginary) part, one inefficient way is to measure the ancilla qubit. \n",
    "\n",
    "Let the probability of measuring $|0\\rangle$ is $p_0$ and the probability of measuring $|1\\rangle$ is $p_1$. The real part would be $Re = p_0 - p_1$. \n",
    "\n",
    "A more efficient way is to use one of the qiskit primitives, `Estimator` or `EstimatorV2` (the other one is `Sampler`). \n",
    "\n",
    "In our case, we want to measure the expectation value of Pauli-Z on the ancilla qubit. \n",
    "\n",
    "Suppose the ancilla qubit is $|\\psi\\rangle$, then the expectation value is $\\langle \\psi | Z | \\psi \\rangle = p_0 - p_1 = Re$"
   ]
  },
  {
   "cell_type": "markdown",
   "metadata": {},
   "source": [
    "## 4. Acknowledgements\n",
    "\n",
    "This implementation is based on the work presented in the research paper [5] by Carlos Bravo-Prieto, Ryan LaRose, M. Cerezo, Yiğit Subaşı, Lukasz Cincio, and Patrick J. Coles."
   ]
  }
 ],
 "metadata": {
  "kernelspec": {
   "display_name": ".venv",
   "language": "python",
   "name": "python3"
  },
  "language_info": {
   "codemirror_mode": {
    "name": "ipython",
    "version": 3
   },
   "file_extension": ".py",
   "mimetype": "text/x-python",
   "name": "python",
   "nbconvert_exporter": "python",
   "pygments_lexer": "ipython3",
   "version": "3.11.2"
  }
 },
 "nbformat": 4,
 "nbformat_minor": 2
}
