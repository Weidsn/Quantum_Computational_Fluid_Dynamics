{
 "cells": [
  {
   "cell_type": "markdown",
   "metadata": {
    "tags": [
     "remove_cell"
    ]
   },
   "source": [
    "# The Variational Quantum Linear Solver"
   ]
  },
  {
   "cell_type": "markdown",
   "metadata": {},
   "source": [
    "#### Editor's note:\n",
    "\n",
    "Consulted Pennylane tutorial on VQLS, found [here](https://pennylane.ai/qml/demos/tutorial_vqls).\n",
    "\n",
    "Qiskit version: `1.4.2`"
   ]
  },
  {
   "cell_type": "markdown",
   "metadata": {},
   "source": [
    "## 1. Introduction\n",
    "\n",
    "The Variational Quantum Linear Solver (VQLS) is a kind of variational quantum algorithm (VQA) that solves systems of linear equations. \n",
    "\n",
    "Given a matrix $A$, such that $A |x\\rangle \\ = \\ |b\\rangle$, where $|b\\rangle$ is some known vector, the VQLS algorithm finds a normalized $|x\\rangle$ that is proportional to $|x\\rangle$, which makes the above equation true.\n",
    "\n"
   ]
  },
  {
   "cell_type": "markdown",
   "metadata": {},
   "source": [
    "## 2. The Algorithm\n",
    "\n",
    "We start off with a qubit register, with each qubit initialized to $|0\\rangle$. \n",
    "\n",
    "First, we prepare a candidate solution, $|x(\\alpha)\\rangle$ conditioned on a set of parameters $\\alpha$. This is done using an ansatz $V(\\alpha)$, where $|x(\\alpha)\\rangle = V(\\alpha) |0\\rangle$. Next, prepare $|b\\rangle = U|0\\rangle$ for some unitary $U$.\n",
    "\n",
    "Second, we design a quantum circuit to compute a cost, $C(\\alpha)$, that captures the idea of the difference between $| x(\\alpha) \\rangle$ and the real solution, $|x_0\\rangle$, to $A {|x\\rangle} = {|b\\rangle}$.\n",
    "\n",
    "If the cost is greater than some parameter $\\gamma$, the algorithm is run again with updated parameters, and if not, the algorithm terminates.\n",
    "\n",
    "Next, using classical methods, we find a new parameter, $\\alpha$, that reduces $C(\\alpha)$.\n",
    "\n",
    "We repeat this process until $C(\\alpha)$ falls within a reasonable limit, at which point we settle with $|x(\\alpha)\\rangle$ as the final solution.\n",
    "\n",
    "![alt text](images/bro.png)"
   ]
  },
  {
   "cell_type": "markdown",
   "metadata": {},
   "source": [
    "### Cost Function\n",
    "\n",
    "Several cost functions are proposed:\n",
    "\n",
    "1. $C_G$\n",
    "\n",
    "$$C_G = 1 - | \\langle b| \\frac{|\\psi\\rangle}{\\|\\psi\\|} \\rangle |^2$$\n",
    "\n",
    "We project $|\\psi\\rangle = A |x(\\alpha)\\rangle$ onto the subspace orthogonal to $|b\\rangle$.\n",
    "$C_G(\\alpha)$ equals the norm squared of the projection.\n",
    "\n",
    "Note that $|\\psi\\rangle$ is not normalized, so we need to normalize it before computing the projection.\n",
    "\n",
    "As the number of qubits increases, the gradient of $C_G$ vanishes so we introduce the local cost function.\n",
    "\n",
    "<br>\n",
    "\n",
    "2. $C_L$, a local version of $C_G$.\n",
    "\n",
    "First, let us define\n",
    "\n",
    "$$P_1 = \\left( \\mathbb{1} - \\frac{1}{n} \\sum_{j=1}^{n} |0_j \\rangle \\langle 0_{j} | \\otimes \\mathbb{1}_{\\bar{j}} \\right)$$\n",
    "\n",
    "where $\\mathbb{1}_{\\bar{j}}$ is the identity on all qubits except the j-th qubit.\n",
    "\n",
    "Also,\n",
    "\n",
    "$$P_0 = \\frac{1}{2} + \\frac{1}{2n} \\sum_{j=1}^{n} Z_j\n",
    "$$\n",
    "where $Z_j$ is the Pauli-Z operator on the j-th qubit and identity on every other qubit.\n",
    "\n",
    "When multipled by a standard-basis vector, $P_0$ counts the number of 0's in the vector, and $P_1$ counts the number of 1's. For example, if $|a \\rangle$ has $m$ 1's and $n$ qubits, then $P_1 |a\\rangle = \\frac{m}{n} |a\\rangle$, and $P_0 |a\\rangle = \\frac{n-m}{n} |a\\rangle$.\n",
    "\n",
    "Notice that\n",
    "\n",
    "$$P_1 = \\mathbb{1} - P_0 $$\n",
    "\n",
    "Therefore,\n",
    "\n",
    "$$C_L = \\frac{\\hat{C}_L} {\\| \\psi\\|^2} = \\frac{\\langle x | H_L | x \\rangle} {\\| \\psi\\|^2}$$\n",
    "\n",
    "$$ = \\frac{\\langle x | A^\\dagger U P_1 U^\\dagger A | x \\rangle} {\\langle x | A^\\dagger A | x \\rangle}$$\n",
    "\n",
    "$$ = \\frac{\\langle x | A^\\dagger U P_1 U^\\dagger A | x \\rangle} {\\langle x | A^\\dagger U \\mathbb{1} U^\\dagger A | x \\rangle}$$\n",
    "\n",
    "$$ = \\frac{\\langle x | A^\\dagger U \\mathbb{1} U^\\dagger A | x \\rangle - \\langle x | A^\\dagger U P_0 U^\\dagger A | x \\rangle} {\\langle x | A^\\dagger U \\mathbb{1} U^\\dagger A | x \\rangle}$$\n",
    "\n",
    "$$ = 1 - \\frac{\\langle x | A^\\dagger U P_0 U^\\dagger A | x \\rangle} {\\langle x | A^\\dagger A | x \\rangle}$$\n",
    "\n",
    "$$ = \\frac{1}{2} - \\frac{1}{2n} \\frac{\\sum_{j=1}^{n}\\langle x | A^\\dagger U Z_j U^\\dagger A | x \\rangle} {\\langle x | A^\\dagger A | x \\rangle}$$\n",
    "\n",
    "$$ = \\frac{1}{2} - \\frac{1}{2n} \\frac{\\sum_{j=1}^{n}\\langle 0|V^\\dagger A^\\dagger U Z_j U^\\dagger A V|0 \\rangle} {\\langle 0|V^\\dagger A^\\dagger A  V|0 \\rangle}$$\n",
    "\n",
    "\n",
    "Since controlled-Z gate is native to IBM Heron processor, we can directly implement Controlled-$Z_j$ gates to improve efficiency of the algorithm for IBM Heron processors.\n",
    "\n",
    "Since\n",
    "\n",
    "$$A = \\sum_{l=1}^{L} c_lA_l$$\n",
    "where $c_l \\in \\mathbb{C}$, we can expand $A$ to obtain\n",
    "\n",
    "$$ C_L = \\frac{1}{2} - \\frac{1}{2n} \\frac{\\sum_{j=1}^{n} \\sum_{l=1}^{L} \\sum_{l'=1}^{L} c_lc_{l'}^*\\langle 0|V^\\dagger A_{l'}^\\dagger U Z_j U^\\dagger A_l V|0 \\rangle} {\\sum_{l=1}^{L} \\sum_{l'=1}^{L} c_lc_{l'}^* \\langle 0|V^\\dagger A_{l'}^\\dagger A_l  V|0 \\rangle}$$\n"
   ]
  },
  {
   "cell_type": "markdown",
   "metadata": {},
   "source": [
    "## 3. Building Quantum Circuit with Qiskit\n",
    "\n"
   ]
  },
  {
   "cell_type": "markdown",
   "metadata": {},
   "source": [
    "### Importing libraries"
   ]
  },
  {
   "cell_type": "code",
   "execution_count": null,
   "metadata": {},
   "outputs": [
    {
     "name": "stdout",
     "output_type": "stream",
     "text": [
      "Note: you may need to restart the kernel to use updated packages.\n"
     ]
    }
   ],
   "source": [
    "%pip install --upgrade -r requirements.txt -q"
   ]
  },
  {
   "cell_type": "code",
   "execution_count": 1,
   "metadata": {},
   "outputs": [
    {
     "name": "stdout",
     "output_type": "stream",
     "text": [
      "Qiskit version: 1.4.2\n"
     ]
    }
   ],
   "source": [
    "from IPython.display import display\n",
    "\n",
    "import qiskit as qk\n",
    "from qiskit import transpile\n",
    "from qiskit import QuantumCircuit, QuantumRegister, ClassicalRegister\n",
    "from qiskit import transpile, assemble\n",
    "from qiskit.circuit.library import UGate\n",
    "from qiskit.exceptions import QiskitError\n",
    "from qiskit_ibm_runtime import QiskitRuntimeService, EstimatorV2, EstimatorOptions\n",
    "from qiskit.quantum_info import Statevector, Operator, PauliList, Operator, SparsePauliOp, Pauli\n",
    "from qiskit.transpiler.passes import RemoveBarriers\n",
    "from qiskit.visualization import array_to_latex, plot_histogram\n",
    "\n",
    "import math\n",
    "import random\n",
    "import numpy as np\n",
    "from numpy import pi\n",
    "from numpy import array, sqrt\n",
    "from scipy.optimize import minimize\n",
    "import matplotlib.pyplot as plt\n",
    "\n",
    "# For high-performance simulation\n",
    "from qiskit_aer import AerSimulator\n",
    "from qiskit_aer.primitives import EstimatorV2 as AerEstimatorV2\n",
    "\n",
    "print(f\"Qiskit version: {qk.__version__}\")"
   ]
  },
  {
   "cell_type": "markdown",
   "metadata": {},
   "source": [
    "### Consider an Example\n",
    "\n",
    "Let us construct a 4x4 tridiagonal matrix, $A$. We generate a random vector $|x_0\\rangle$ and obtain $|b\\rangle$ from the equation $A |x_0\\rangle =|b\\rangle$. \n",
    "\n",
    "We apply VQLS, using $A$ and $|b\\rangle$ as inputs, to solve for $|x\\rangle$ in $A |x\\rangle =|b\\rangle$. We then compare our solution with the real solution $|x_0\\rangle$."
   ]
  },
  {
   "cell_type": "code",
   "execution_count": 2,
   "metadata": {},
   "outputs": [
    {
     "name": "stdout",
     "output_type": "stream",
     "text": [
      "Define the matrix, A, to be the following:\n"
     ]
    },
    {
     "data": {
      "text/latex": [
       "$$\n",
       "\n",
       "\\begin{bmatrix}\n",
       "2 & -1 & 0 & 0  \\\\\n",
       " -1 & 2 & -1 & 0  \\\\\n",
       " 0 & -1 & 2 & -1  \\\\\n",
       " 0 & 0 & -1 & 2  \\\\\n",
       " \\end{bmatrix}\n",
       "$$"
      ],
      "text/plain": [
       "<IPython.core.display.Latex object>"
      ]
     },
     "metadata": {},
     "output_type": "display_data"
    }
   ],
   "source": [
    "A = np.array([[2,-1,0,0],\n",
    "            [-1,2,-1,0],\n",
    "            [0,-1,2,-1],\n",
    "            [0,0,-1,2]])\n",
    "\n",
    "print(\"Define the matrix, A, to be the following:\")\n",
    "display(array_to_latex(A))"
   ]
  },
  {
   "cell_type": "markdown",
   "metadata": {},
   "source": [
    "### Decomposing A into LCU\n",
    "\n",
    "We decompose $A$ into a Linear Combination of Pauli Strings (LCU). This is done by writing $A$ as a sum of Pauli operators, each multiplied by a coefficient."
   ]
  },
  {
   "cell_type": "code",
   "execution_count": 3,
   "metadata": {},
   "outputs": [
    {
     "name": "stdout",
     "output_type": "stream",
     "text": [
      "SparsePauliOp(['II', 'IX', 'XX', 'YY'],\n",
      "              coeffs=[ 2. +0.j, -1. +0.j, -0.5+0.j, -0.5+0.j])\n",
      "\n",
      "The Pauli strings are:\n",
      "['II', 'IX', 'XX', 'YY']\n",
      "\n",
      "The coefficients are:\n",
      "[ 2. +0.j -1. +0.j -0.5+0.j -0.5+0.j]\n",
      "\n",
      "The number of qubits is 2.\n"
     ]
    }
   ],
   "source": [
    "# Apply SparsePauliOp()\n",
    "LCU = SparsePauliOp.from_operator(A)\n",
    "print(LCU, end=\"\\n\\n\")\n",
    "\n",
    "print(\"The Pauli strings are:\")\n",
    "print(LCU.paulis, end=\"\\n\\n\")\n",
    "\n",
    "print(\"The coefficients are:\")\n",
    "print(LCU.coeffs)\n",
    "\n",
    "print(f\"\\nThe number of qubits is {LCU.num_qubits}.\")"
   ]
  },
  {
   "cell_type": "markdown",
   "metadata": {},
   "source": [
    "Hence, we have\n",
    "\n",
    "$$\n",
    "A = 2II - 1IX - 0.5XX - 0.5YY\n",
    "$$\n",
    "\n",
    "where $I$, $X$, $Y$ are Pauli matrices. \n",
    "\n",
    "### Defining Controlled-A Circuits\n",
    "For the Hadamard Test, let us define the function `CA()` that creates controlled circuits for each Pauli string in the LCU. "
   ]
  },
  {
   "cell_type": "code",
   "execution_count": null,
   "metadata": {},
   "outputs": [
    {
     "name": "stdout",
     "output_type": "stream",
     "text": [
      "IX\n"
     ]
    },
    {
     "data": {
      "image/png": "[encoded data removed]",
      "text/plain": [
       "<Figure size 261.567x284.278 with 1 Axes>"
      ]
     },
     "metadata": {},
     "output_type": "display_data"
    },
    {
     "data": {
      "image/png": "[encoded data removed]",
      "text/plain": [
       "<Figure size 345.178x367.889 with 1 Axes>"
      ]
     },
     "metadata": {},
     "output_type": "display_data"
    }
   ],
   "source": [
    "from qiskit import QuantumCircuit, QuantumRegister\n",
    "from qiskit.quantum_info import Pauli, PauliList\n",
    "from qiskit.exceptions import QiskitError\n",
    "\n",
    "def CA(pauli_input, l=None):\n",
    "    \"\"\"\n",
    "    Creates a controlled-Pauli circuit using an ancilla qubit as the control.\n",
    "    \n",
    "    Parameters:\n",
    "        pauli_input (str, Pauli, PauliList or SparsePauliOp): \n",
    "            - A Pauli string (e.g., \"IXY\").\n",
    "            - A Qiskit Pauli object (e.g., from SparsePauliOp.paulis[0]).\n",
    "            - A Qiskit PauliList object, where the l-th Pauli will be used.\n",
    "            - A Qiskit SparsePauliOp object, where the l-th Pauli will be used.\n",
    "    \n",
    "    The circuit uses two registers:\n",
    "        - An ancilla register of size 1 named \"ancilla\" (the control qubit).\n",
    "        - A data register of size nqubits named \"q\" (the target qubits).\n",
    "    \n",
    "    For each position in the Pauli operator:\n",
    "        - 'I': Do nothing.\n",
    "        - 'X': Apply a controlled-X (CX) gate.\n",
    "        - 'Z': Apply a controlled-Z (CZ) gate.\n",
    "        - 'Y': Apply a controlled-Y (CY) gate.\n",
    "    \n",
    "    Returns:\n",
    "        QuantumCircuit: The constructed controlled-Pauli circuit.\n",
    "    \"\"\"\n",
    "    \n",
    "    # Convert input to a Pauli object if it is a string\n",
    "    if isinstance(pauli_input, str):\n",
    "        try:\n",
    "            pauli = Pauli(pauli_input)  # Convert string to Pauli object\n",
    "        except QiskitError:\n",
    "            raise ValueError(f\"Invalid Pauli string '{pauli_input}'. Allowed characters: I, X, Y, Z.\")\n",
    "    \n",
    "    # If input is already a Pauli object, use it directly\n",
    "    elif isinstance(pauli_input, Pauli):\n",
    "        pauli = pauli_input\n",
    "    \n",
    "    # If input is PauliList or SparsePauliOp, extract the l-th pauli string\n",
    "    elif isinstance(pauli_input, PauliList):\n",
    "        try:\n",
    "            pauli = pauli_input[l]  # Extract l-th pauli string\n",
    "        except QiskitError:\n",
    "            raise ValueError(\"The index, l, must be supplied if pauli_input contains more than one pauli string.\")\n",
    "        except IndexError:\n",
    "            raise ValueError(\"The index, l, is out of bounds for the given PauliList.\")\n",
    "    \n",
    "    elif isinstance(pauli_input, SparsePauliOp):\n",
    "        try:\n",
    "            pauli = pauli_input.paulis[l]  # Extract l-th pauli string\n",
    "        except QiskitError:\n",
    "            raise ValueError(\"The index, l, must be supplied if pauli_input contains more than one pauli string.\")\n",
    "        except IndexError:\n",
    "            raise ValueError(\"The index, l, is out of bounds for the given PauliList.\")\n",
    "    \n",
    "    # Reject invalid types\n",
    "    else:\n",
    "        raise TypeError(f\"Expected input type str, Pauli, PauliList, or SparsePauliOp, but received {type(pauli_input)}.\")\n",
    "    \n",
    "    # Determine the number of qubits\n",
    "    nqubits = pauli.num_qubits\n",
    "    \n",
    "    # Create registers\n",
    "    ancilla = QuantumRegister(1, name=\"ancilla\")\n",
    "    data = QuantumRegister(nqubits, name=\"q\")\n",
    "    \n",
    "    # Create circuit\n",
    "    circ = QuantumCircuit(ancilla, data, name=\"CA\")\n",
    "    \n",
    "    # Loop over each Pauli term directly from the Pauli object\n",
    "    for i, p in enumerate(pauli.to_label()):  # Ensure compatibility with string indexing. \n",
    "        # pauli.to_lable() converts Pauli Object to a string, e.g. \"IXY\"\n",
    "        \n",
    "        # Qiskit follows little Endian convention for qubit ordering. \n",
    "        # The most signifcant qubit is the one on the left in hand-written form. \n",
    "        # Hence, we need to reverse the index to match qubit numbering.\n",
    "        i = nqubits - i - 1\n",
    "        # E.g. nqubits =3, [0,1,2] becomes [2,1,0]\n",
    "        \n",
    "        if p == \"I\":\n",
    "            continue\n",
    "        elif p == \"X\":\n",
    "            circ.cx(ancilla[0], data[i])\n",
    "        elif p == \"Z\":\n",
    "            circ.cz(ancilla[0], data[i])\n",
    "        elif p == \"Y\":\n",
    "            circ.cy(ancilla[0], data[i])\n",
    "        else:\n",
    "            raise ValueError(f\"Unsupported Pauli operator: {p}\")\n",
    "    \n",
    "    return circ\n",
    "print(LCU.paulis[1])\n",
    "display(CA(LCU.paulis[1]).draw(\"mpl\"))\n",
    "display(CA(\"IXY\").draw(\"mpl\"))"
   ]
  },
  {
   "cell_type": "markdown",
   "metadata": {},
   "source": [
    "### Implement $|b\\rangle$ with $U |0\\rangle$\n",
    "\n",
    "For simplicity, let use a $|b\\rangle$ that is easy to implement. Let\n",
    "$$|b\\rangle = \\frac{1}{2} \\begin{pmatrix} 1 \\\\ 1 \\\\ 1 \\\\ 1 \\end{pmatrix}$$\n",
    "\n",
    "$|b\\rangle$ can be prepared by applying a Hadamard gate to each qubit."
   ]
  },
  {
   "cell_type": "code",
   "execution_count": 5,
   "metadata": {},
   "outputs": [
    {
     "data": {
      "image/png": "[encoded data removed]",
      "text/plain": [
       "<Figure size 203.683x200.667 with 1 Axes>"
      ]
     },
     "metadata": {},
     "output_type": "display_data"
    }
   ],
   "source": [
    "def U_hadamard(nqubits):\n",
    "    \"\"\"\n",
    "    Creates a circuit of size 'nqubits' that represents U_hadamard.\n",
    "    For our problem, we only need to apply Hadamard on each qubit to prepare |b>.\n",
    "    \n",
    "    In general, U_b would be a unitary that maps |0> to |b> (or vice versa).\n",
    "\n",
    "    Returns:\n",
    "        circuit (QuantumCircuit): A quantum circuit of size 'nqubits'.\n",
    "    \"\"\"\n",
    "    circ = QuantumCircuit(nqubits, name=\"U_hadamard\")\n",
    "    # Example placeholder: apply H on each qubit\n",
    "    for i in range(nqubits):\n",
    "        circ.h(i)\n",
    "    return circ\n",
    "\n",
    "# |b> with two qubits:\n",
    "display(U_hadamard(2).draw(\"mpl\"))"
   ]
  },
  {
   "cell_type": "markdown",
   "metadata": {},
   "source": [
    "### Fixed Structure Ansatz for $|x(\\alpha)\\rangle$\n",
    "Consider the ansatz $V(\\alpha)$, quantum a circuit that prepares a state $|x(\\alpha)\\rangle$ given a set of parameters, $\\alpha$. \n",
    "\n",
    "There different techniques for preparing the ansatz, including fixed ansatz, variable ansatz and Quantum Alternating Operator Ansatz (QAOA). \n",
    "\n",
    "Here, we use a very basic fixed ansatz."
   ]
  },
  {
   "cell_type": "code",
   "execution_count": 6,
   "metadata": {},
   "outputs": [
    {
     "data": {
      "image/png": "[encoded data removed]",
      "text/plain": [
       "<Figure size 370.906x200.667 with 1 Axes>"
      ]
     },
     "metadata": {},
     "output_type": "display_data"
    },
    {
     "data": {
      "image/png": "[encoded data removed]",
      "text/plain": [
       "<Figure size 705.552x367.889 with 1 Axes>"
      ]
     },
     "metadata": {},
     "output_type": "display_data"
    }
   ],
   "source": [
    "\n",
    "def apply_single_qubit_rotation(circuit, gate_type, angle, qubit_idx):\n",
    "    gate_type = gate_type.strip().lower()\n",
    "    if gate_type == \"rx\":\n",
    "        circuit.rx(angle, qubit_idx)\n",
    "    elif gate_type == \"ry\":\n",
    "        circuit.ry(angle, qubit_idx)\n",
    "    elif gate_type == \"rz\":\n",
    "        circuit.rz(angle, qubit_idx)\n",
    "    else:\n",
    "        raise ValueError(f\"Unsupported rotational gate: {gate_type}. Available gates are 'rx', 'ry', 'rz'.\")\n",
    "\n",
    "# Helper to apply two-qubit entangling gates\n",
    "def apply_two_qubit_entangling(circuit, gate_type, ctrl, tgt):\n",
    "    gate_type = gate_type.strip().lower()\n",
    "    if gate_type == \"cz\":\n",
    "        circuit.cz(ctrl, tgt)\n",
    "    elif gate_type == \"cx\":\n",
    "        circuit.cx(ctrl, tgt)\n",
    "    elif gate_type == \"cy\":\n",
    "        circuit.cy(ctrl, tgt)\n",
    "    else:\n",
    "        raise ValueError(f\"Unsupported entangling gate: {gate_type}. Available gates are 'cz', 'cx', 'cy'.\")\n",
    "\n",
    "\n",
    "def fixed_ansatz(parameters, nqubits=None, rotational_gates = \"Rx\", entangling_gates = \"CZ\"):\n",
    "    \"\"\"\n",
    "    Creates a parameterized \"ansatz circuit\" on 'nqubits' data qubits.\n",
    "    \n",
    "    Input:\n",
    "    parameters (list of list): A list of layers of rotational gates, for example [[θ₀, θ₁, ...], [θ₂, θ₃, ...], ...].\n",
    "        Each inner-list must have length equal to nqubits.\n",
    "    nqubits (int): The number of data qubits in the circuit. If not specified, it will be determined from the parameters.\n",
    "    rotational_gates (str): The type of rotational gate to use. Default is \"Rx\".\n",
    "    entangling_gates (str): The type of entangling gate to use. Default is \"CZ\".\n",
    "    \n",
    "    Between each layer (except the last), an entangling layer is inserted.\n",
    "    The entangling pattern alternates:\n",
    "    - For even layers (0, 2, ...): apply entangling gates on pairs (0,1), (2,3), ...\n",
    "    - For odd layers (1, 3, ...): apply entangling gates on pairs (1,2), (3,4), ...\n",
    "    \n",
    "    In a non-final layer, rotational gates are only applied to qubits that will be entangled in the next layer.\n",
    "    \n",
    "    Output:\n",
    "    QuantumCircuit: The constructed ansatz circuit.\n",
    "    \"\"\"\n",
    "    num_layers = len(parameters)\n",
    "    \n",
    "    # If nqubits is not specified, determine it from the parameters.\n",
    "    if nqubits is None:\n",
    "        nqubits = max(len(parameters[i]) for i in range(num_layers))\n",
    "    \n",
    "    # Initialize the ansatz circuit.\n",
    "    ansatz = QuantumCircuit(nqubits, name=\"ansatz\")\n",
    "    \n",
    "    for layer_idx, layer in enumerate(parameters):\n",
    "        # For non-final layers, determine qubits that will be entangled in the next layer.\n",
    "        if layer_idx < num_layers - 1:\n",
    "            if layer_idx % 2 == 0:\n",
    "                # Even layer: entangle pairs (0,1), (2,3), ...\n",
    "                entangled = {i for pair in range(0, nqubits - 1, 2) for i in (pair, pair + 1)}        \n",
    "            else:\n",
    "                # Odd layer: entangle pairs (1,2), (3,4), ...\n",
    "                entangled = {i for pair in range(1, nqubits - 1, 2) for i in (pair, pair + 1)}\n",
    "            # Apply Ry only on qubits that will be involved in the next CZ layer.\n",
    "            for i, theta in enumerate(layer[:nqubits]):\n",
    "                if i in entangled:\n",
    "                    apply_single_qubit_rotation(ansatz, rotational_gates, theta, i)\n",
    "                    # ansatz.rx(theta, i)\n",
    "        else:\n",
    "            # For the final layer, apply Ry to all qubits.\n",
    "            for i, theta in enumerate(layer[:nqubits]):\n",
    "                apply_single_qubit_rotation(ansatz, rotational_gates, theta, i)\n",
    "                # ansatz.rx(theta, i)\n",
    "                \n",
    "        # After each layer (except the final one) insert the alternating CZ entangling layer.\n",
    "        if layer_idx < num_layers - 1:\n",
    "            if layer_idx % 2 == 0:\n",
    "                for i in range(0, nqubits - 1, 2):\n",
    "                    apply_two_qubit_entangling(ansatz, entangling_gates, i, i + 1)\n",
    "                    # ansatz.cz(i, i + 1)\n",
    "            else:\n",
    "                for i in range(1, nqubits - 1, 2):\n",
    "                    apply_two_qubit_entangling(ansatz, entangling_gates, i, i + 1)\n",
    "                    # ansatz.cz(i, i + 1)\n",
    "                    \n",
    "    return ansatz\n",
    "\n",
    "params1 = [[pi/1, pi/2], [pi/1, pi/2]]\n",
    "\n",
    "params2 = [[pi/1, pi/2, pi/3, pi/4], \n",
    "            [pi/1, pi/2, pi/3, pi/4], \n",
    "            [pi/1, pi/2, pi/3, pi/4], \n",
    "            [pi/1, pi/2, pi/3, pi/4]]\n",
    "\n",
    "# Display the circuits with modified parameters\n",
    "display(fixed_ansatz(parameters=params1, nqubits=2).draw(\"mpl\"))\n",
    "display(fixed_ansatz(params2).draw(\"mpl\"))"
   ]
  },
  {
   "cell_type": "markdown",
   "metadata": {},
   "source": [
    "Only the parameters change for each run of the circuit. The $Rx$ gates search the state space, while the $CZ$ gates create \"interference\" between qubits. \n",
    "\n",
    "\n",
    "> Correction: Rz and CZ gates are native to IBM Heron processors. Rx is not. "
   ]
  },
  {
   "cell_type": "code",
   "execution_count": 7,
   "metadata": {},
   "outputs": [
    {
     "data": {
      "image/png": "[encoded data removed]",
      "text/plain": [
       "<Figure size 763.234x367.889 with 1 Axes>"
      ]
     },
     "metadata": {},
     "output_type": "display_data"
    }
   ],
   "source": [
    "# Testing circuit composition\n",
    "\n",
    "ancilla = QuantumRegister(1, name=\"ancilla\")\n",
    "data = QuantumRegister(3, name=\"q\")\n",
    "test_circ = QuantumCircuit(ancilla, data)\n",
    "\n",
    "test_circ.compose(CA(\"XYZ\"), inplace=True)\n",
    "test_circ.barrier()\n",
    "test_circ.compose(fixed_ansatz(parameters=params1, nqubits=2), qubits=data[0:2], inplace=True)\n",
    "\n",
    "display(test_circ.draw(\"mpl\"))"
   ]
  },
  {
   "cell_type": "markdown",
   "metadata": {},
   "source": [
    "### Hadamard Test for $C_L$\n",
    "\n",
    "To calculate the local cost, we can use `Hadamard Test` circuit. The paper [5] introduces a new circuit, `Hadamard-Overlap Test`, to compute $C_L$. \n",
    "\n",
    "Recall the local cost, $C_L$:\n",
    "\n",
    "$$ C_L = \\frac{1}{2} - \\frac{1}{2n} \\frac{\\sum_{j=1}^{n} \\sum_{l=1}^{L} \\sum_{l'=1}^{L} c_lc_{l'}^*\\langle 0|V^\\dagger A_{l'}^\\dagger U Z_j U^\\dagger A_l V|0 \\rangle} {\\sum_{l=1}^{L} \\sum_{l'=1}^{L} c_lc_{l'}^* \\langle 0|V^\\dagger A_{l'}^\\dagger A_l  V|0 \\rangle}$$\n",
    "\n",
    "A basic `Hadamard Test` looks like this, where $|\\psi \\rangle$ is the state of the data qubits and $|0\\rangle$ is the ancilla qubit. \n",
    "\n",
    "This Hadamard test is designed to calculate $\\langle \\psi|U|\\psi \\rangle$. Let the probability of measuring $|0\\rangle$ be $p_0$ and the probability of measuring $|1\\rangle$ be $p_1$. According the theory on the Hadamard Test, the real part would be $Re = p_0 - p_1$. The imaginary part can also be calculated using a slight different circuit. \n",
    "\n",
    "To get the real (and imaginary) part, measuring the ancilla qubit is not the most efficient method. \n",
    "\n",
    "A more efficient method is to use one of the qiskit primitives, `Estimator` or `EstimatorV2` (the other one is `Sampler`). \n",
    "\n",
    "Suppose the ancilla qubit is $|\\psi\\rangle$, then the expectation value is $\\langle \\psi | Z | \\psi \\rangle = p_0 - p_1 = Re$\n",
    "\n",
    "Hence, in our case, we want to measure the expectation value of Pauli-Z on the ancilla qubit. \n",
    "\n",
    "![Hadamard test](images\\Hadamard_test.webp)\n",
    "\n",
    "Below is the circuit we want to build using Hadamard Test: \n",
    "\n",
    "Notice that for Pauli matrices, $A_l = A_{l}^\\dagger$.\n",
    "\n",
    "![Image from Pennylane](images\\vqls_hadamard_test_circuit.png)"
   ]
  },
  {
   "cell_type": "markdown",
   "metadata": {},
   "source": [
    "#### Constructing the Hadamard Test circuit"
   ]
  },
  {
   "cell_type": "code",
   "execution_count": null,
   "metadata": {},
   "outputs": [
    {
     "name": "stdout",
     "output_type": "stream",
     "text": [
      "A_l is: IX\n",
      "A_l' is: XX\n",
      "j = 0\n",
      "\n",
      "For the real part:\n"
     ]
    },
    {
     "data": {
      "image/png": "[encoded data removed]",
      "text/plain": [
       "<Figure size 1515.73x284.278 with 1 Axes>"
      ]
     },
     "metadata": {},
     "output_type": "display_data"
    },
    {
     "name": "stdout",
     "output_type": "stream",
     "text": [
      "For the imaginary part:\n"
     ]
    },
    {
     "data": {
      "image/png": "[encoded data removed]",
      "text/plain": [
       "<Figure size 1515.73x284.278 with 1 Axes>"
      ]
     },
     "metadata": {},
     "output_type": "display_data"
    }
   ],
   "source": [
    "\n",
    "def local_hadamard_test(parameters, l, j, lp, part=\"Re\", nqubits=None, lcu = None):\n",
    "    \"\"\"\n",
    "    Builds the main circuit for the local Hadamard test as in your diagram.\n",
    "\n",
    "    Args:\n",
    "        parameters (list): Parameters for fixed_ansatz, e.g. [[1,1],[1,1]].\n",
    "        nqubits (int): Number of data qubits (not counting the ancilla).\n",
    "        l (str): Pauli string for A_l (e.g. \"IX\").\n",
    "        j (int): Index of the data qubit for the controlled-Z. If j = -1, skip the CZ.\n",
    "        lp (str): Pauli string for A_{l'}.\n",
    "        part (str): \"Re\" or \"Im\". If \"Im\", apply a phase shift Rz(-pi/2) on the ancilla\n",
    "                    to measure the imaginary part.\n",
    "\n",
    "    Returns:\n",
    "        QuantumCircuit: The complete Hadamard test circuit with measurement on the ancilla.\n",
    "    \"\"\"\n",
    "    # 0) If nqubits is not specified, determine it from the parameters.\n",
    "    num_layers = len(parameters)\n",
    "    \n",
    "    if nqubits is None:\n",
    "        nqubits = max(len(parameters[i]) for i in range(num_layers))\n",
    "    \n",
    "    # 0.5) If lcu is specified, use it to determine l and lp.\n",
    "    if lcu is not None and isinstance(l,int) and isinstance(lp, int):\n",
    "        # Check if l and lp are integers\n",
    "        if not isinstance(l, int) or not isinstance(lp, int):\n",
    "            raise TypeError(\"Indices l and lp must be integers.\")\n",
    "        \n",
    "        # Check if l and lp are within the valid range\n",
    "        if not (0 <= l < len(lcu)) or not (0 <= lp < len(lcu)):\n",
    "            raise IndexError(\"Indices l and lp are out of range.\")\n",
    "        \n",
    "        # Check if lcu is an instance of PauliList\n",
    "        if isinstance(lcu, PauliList):\n",
    "            pauli_l = lcu[l]\n",
    "            pauli_lp = lcu[lp]\n",
    "        # Check if lcu is an instance of SparsePauliOp\n",
    "        elif isinstance(lcu, SparsePauliOp):\n",
    "            pauli_l = lcu.paulis[l]\n",
    "            pauli_lp = lcu.paulis[lp]\n",
    "        else:\n",
    "            raise TypeError(\"lcu must be an instance of PauliList or SparsePauliOp.\")\n",
    "    else:\n",
    "        pauli_l = l\n",
    "        pauli_lp = lp\n",
    "    \n",
    "    # 1) Create registers: 1 ancilla + nqubits data + 1 classical bit for measurement\n",
    "    ancilla = QuantumRegister(1, name=\"ancilla\")\n",
    "    data = QuantumRegister(nqubits, name=\"q\")\n",
    "    # cbit = ClassicalRegister(1, name=\"c\") # We are not taking measurements. \n",
    "    \n",
    "    main_circuit = QuantumCircuit(ancilla, data, name=\"LocalHadamardTest\")\n",
    "\n",
    "    # 2) Hadamard on ancilla\n",
    "    main_circuit.h(ancilla[0])\n",
    "\n",
    "    # 2.5) (Optional) Phase shift for measuring imaginary part\n",
    "    if part.lower().strip() in [\"im\", \"imag\", \"imaginary\"]:\n",
    "        main_circuit.rz(-np.pi / 2, ancilla)\n",
    "\n",
    "    # 3) Apply the fixed ansatz V(w) to the data qubits\n",
    "    ansatz_circ = fixed_ansatz(parameters, nqubits)\n",
    "    # Map data qubits of ansatz onto the 'data' register in main_circuit\n",
    "    main_circuit.compose(ansatz_circ, qubits=data, inplace=True)\n",
    "    main_circuit.barrier()\n",
    "    \n",
    "    # 4) Controlled A_l\n",
    "    ca_l = CA(pauli_l)  # This subcircuit has 1 ancilla + nqubits data\n",
    "    # Map the ancilla -> ancilla, data -> data[:]\n",
    "    main_circuit.compose(\n",
    "        ca_l,\n",
    "        # qubits=[ancilla] + list(data),\n",
    "        inplace=True\n",
    "    )\n",
    "    main_circuit.barrier()\n",
    "    \n",
    "    # 5) U_hadamard^\\dagger\n",
    "    ub_circ = U_hadamard(nqubits)\n",
    "    main_circuit.compose(\n",
    "        ub_circ.inverse(),\n",
    "        qubits=data,  # apply to the data qubits\n",
    "        inplace=True\n",
    "    )\n",
    "    main_circuit.barrier()\n",
    "    \n",
    "    # 6) Controlled-Z(ancilla, j) if j != -1\n",
    "    if j != -1:\n",
    "        main_circuit.cz(ancilla, data[j])\n",
    "    main_circuit.barrier()\n",
    "    \n",
    "    # 7) U_hadamard\n",
    "    main_circuit.compose(\n",
    "        ub_circ,\n",
    "        qubits=data,\n",
    "        inplace=True\n",
    "    )\n",
    "    main_circuit.barrier()\n",
    "    \n",
    "    # 8) Controlled A_{l'}^\\dagger\n",
    "    # First build the subcircuit for A_{l'}, then invert it\n",
    "    ca_lp = CA(pauli_lp)\n",
    "    ca_lp_inv = ca_lp.inverse()\n",
    "    main_circuit.compose(\n",
    "        ca_lp_inv,\n",
    "        qubits=[ancilla[0]] + list(data),\n",
    "        inplace=True\n",
    "    )\n",
    "    main_circuit.barrier()\n",
    "    \n",
    "    # 9) Hadamard on ancilla\n",
    "    main_circuit.h(ancilla)\n",
    "\n",
    "    return main_circuit\n",
    "\n",
    "\n",
    "print(f\"A_l is: {LCU.paulis[1]}\")\n",
    "print(f\"A_l' is: {LCU.paulis[2]}\")\n",
    "print(\"j = 0\", end=\"\\n\\n\")\n",
    "\n",
    "print(\"For the real part:\")\n",
    "test_circ = local_hadamard_test(params1, nqubits=2, l=LCU.paulis[1], j=0, lp=LCU.paulis[2], part=\"Re\")\n",
    "display(test_circ.draw(\"mpl\"))\n",
    "\n",
    "print(\"For the imaginary part:\")\n",
    "test_circ2 = local_hadamard_test(params1, nqubits=2, l=LCU.paulis[1], j=0, lp=LCU.paulis[2], part=\"Im\")\n",
    "display(test_circ2.draw(\"mpl\"))"
   ]
  },
  {
   "cell_type": "markdown",
   "metadata": {},
   "source": [
    "## Evaluating the Quantum Circuit"
   ]
  },
  {
   "cell_type": "markdown",
   "metadata": {},
   "source": [
    "### Aer Simulation\n",
    "\n",
    "Here is a tutorial on [improving estimation of expectation values with Operator Backpropagation](https://learning.quantum.ibm.com/tutorial/improving-estimation-of-expectation-values-with-operator-backpropagation) from qiskit. "
   ]
  },
  {
   "cell_type": "markdown",
   "metadata": {},
   "source": [
    "#### Choosing a backend\n",
    "For the backend, I will use `ibm_fez`, which is a Heron r2 machine. I do not have access to the real one. I will use `FakeFez()` to obtain a snapshot of the real machine.\n",
    "\n",
    "If accessible, we can also choose a real device for backend, such as `ibm_brisbane`, though we need to connect to IBM Runtime Service. For instructions, search online or check out [Qiskit_Sample_Run](https://github.com/Weidsn/Quantum_Computing_Collaboration/blob/main/Qiskit/Qiskit_Sample_Run.ipynb) on Github. \n",
    "\n",
    "We only need calibration data from the quantum device for Aer Simulation. There is no rumtime cost from choosing so.\n"
   ]
  },
  {
   "cell_type": "code",
   "execution_count": 9,
   "metadata": {},
   "outputs": [],
   "source": [
    "from qiskit_ibm_runtime.fake_provider import FakeFez\n",
    "\n",
    "# For fake backend\n",
    "backend = FakeFez()\n",
    "\n",
    "# For real backend (ibm_brisbane)\n",
    "# backend = QiskitRuntimeService().backend(\"ibm_brisbane\")\n",
    "\n",
    "# In general, to construct a AerSimulator from a backend\n",
    "# simulator = AerSimulator().from_backend(backend)"
   ]
  },
  {
   "cell_type": "markdown",
   "metadata": {},
   "source": [
    "#### Defining the observables\n",
    "\n",
    "To calculate expectation values, we need to define the observables as qiskit `Pauli` objects, using `SparsePauliOp`. \n",
    "\n",
    "We are calculating the expectation value of $I \\otimes I \\otimes I \\otimes \\cdots \\otimes Z$ with respect to the output of the Hadamard test. Hence, we need Pauli-Z operator on the ancilla qubit, and Identity operator on the data qubits. \n",
    "\n",
    "By the little Endian notation, the ancilla qubit is the least significant (LSB) so it comes last. "
   ]
  },
  {
   "cell_type": "code",
   "execution_count": 10,
   "metadata": {},
   "outputs": [],
   "source": [
    "nqubits = 2\n",
    "\n",
    "# Use Pauli-Z on the ancilla qubit, I on other qubits.\n",
    "observable = SparsePauliOp(\"I\"* nqubits + \"Z\")"
   ]
  },
  {
   "cell_type": "markdown",
   "metadata": {},
   "source": [
    "#### Optimizing the circuit\n",
    "\n",
    "Using qiskit `transpiler` or `pass_manager` to optimize and transpile the circuit for the quantum backend. \n",
    "\n",
    "The backend we are using, ibm_fez, has 156 qubits and has limited connectivity between qubits. It also supports a limited number of quantum gates, e.g., Rz, X, CZ and sqrt(X) a.k.a. SX.\n"
   ]
  },
  {
   "cell_type": "code",
   "execution_count": 11,
   "metadata": {},
   "outputs": [
    {
     "data": {
      "image/png": "[encoded data removed]",
      "text/plain": [
       "<Figure size 2375x618.722 with 1 Axes>"
      ]
     },
     "metadata": {},
     "output_type": "display_data"
    }
   ],
   "source": [
    "L = len(LCU.paulis)\n",
    "n = nqubits\n",
    "l = LCU.paulis[1]\n",
    "lp = LCU.paulis[2] # from 1 to\n",
    "j = 0 # from -1 to nqubits\n",
    "part = \"Re\"\n",
    "\n",
    "qc = local_hadamard_test(params1, nqubits=2, l=l, j=j, lp=lp, part=part)\n",
    "\n",
    "qc_transpiled = transpile(qc, backend = backend, layout_method=\"dense\",)\n",
    "# display(new_dense.draw(\"mpl\", idle_wires= False))\n",
    "display(qc_transpiled.draw(\"mpl\", idle_wires=False))"
   ]
  },
  {
   "cell_type": "markdown",
   "metadata": {},
   "source": [
    "#### Removing barriers\n",
    "\n",
    "We want to remove the barriers (gray dashed lines) from the circuit, which prevents full circuit optimization during transpilation, using `RemoveBarriers`. \n",
    "\n",
    "Here is a demostration. "
   ]
  },
  {
   "cell_type": "code",
   "execution_count": 12,
   "metadata": {},
   "outputs": [
    {
     "data": {
      "image/png": "[encoded data removed]",
      "text/plain": [
       "<Figure size 1538.89x284.278 with 1 Axes>"
      ]
     },
     "metadata": {},
     "output_type": "display_data"
    }
   ],
   "source": [
    "qc_nb = RemoveBarriers()(qc)\n",
    "qc_transpiled_nb = transpile(qc_nb, backend, layout_method=\"dense\")\n",
    "display(qc_transpiled_nb.draw(\"mpl\", idle_wires=False))"
   ]
  },
  {
   "cell_type": "markdown",
   "metadata": {},
   "source": [
    "#### Transpiling the observables\n",
    "\n",
    "We need to apply the layout of the transpiled circuit to the observables as well. The observables should be mapped to the corresponding physical qubits."
   ]
  },
  {
   "cell_type": "code",
   "execution_count": 13,
   "metadata": {},
   "outputs": [],
   "source": [
    "transpiled_obs = observable.apply_layout(qc_transpiled_nb.layout)"
   ]
  },
  {
   "cell_type": "markdown",
   "metadata": {},
   "source": [
    "#### Building the Estimator\n",
    "\n",
    "We import properties of the selected backend for Aer Simulation."
   ]
  },
  {
   "cell_type": "code",
   "execution_count": null,
   "metadata": {},
   "outputs": [],
   "source": [
    "from qiskit_aer.primitives import EstimatorV2 as AerEstimatorV2\n",
    "\n",
    "# We import properties of the selected backend for Aer Simulation. \n",
    "estimator = AerEstimatorV2().from_backend(backend)\n",
    "estimator.options.resilience_level = 2\n"
   ]
  },
  {
   "cell_type": "code",
   "execution_count": 15,
   "metadata": {},
   "outputs": [],
   "source": [
    "job = estimator.run([(qc_transpiled_nb, transpiled_obs)])\n",
    "result = job.result()"
   ]
  },
  {
   "cell_type": "code",
   "execution_count": 16,
   "metadata": {},
   "outputs": [
    {
     "name": "stdout",
     "output_type": "stream",
     "text": [
      "PrimitiveResult([PubResult(data=DataBin(evs=np.ndarray(<shape=(), dtype=float64>), stds=np.ndarray(<shape=(), dtype=float64>)), metadata={'target_precision': 0.0, 'circuit_metadata': {}, 'simulator_metadata': {'omp_enabled': True, 'parallel_experiments': 1, 'max_memory_mb': 40133, 'max_gpu_memory_mb': 0, 'time_taken_execute': 0.0835631, 'time_taken_parameter_binding': 6.66e-05}})], metadata={'version': 2})\n"
     ]
    }
   ],
   "source": [
    "print(result)"
   ]
  },
  {
   "cell_type": "markdown",
   "metadata": {},
   "source": [
    "#### Extracting the result"
   ]
  },
  {
   "cell_type": "code",
   "execution_count": 17,
   "metadata": {},
   "outputs": [
    {
     "name": "stdout",
     "output_type": "stream",
     "text": [
      "0.00018047125267706132\n"
     ]
    }
   ],
   "source": [
    "exp_value_list = result[0].data.evs\n",
    "print(exp_value_list)"
   ]
  },
  {
   "cell_type": "markdown",
   "metadata": {},
   "source": [
    "### Putting everything together"
   ]
  },
  {
   "cell_type": "markdown",
   "metadata": {},
   "source": [
    "The `eval_circ()` function transpiles and evaluates a circuit using Aer EstimatorV2. It returns the expectation value of Pauli-Z on the ancilla qubit."
   ]
  },
  {
   "cell_type": "code",
   "execution_count": 18,
   "metadata": {},
   "outputs": [],
   "source": [
    "\n",
    "def eval_circ(circ, backend):\n",
    "    \"\"\"This circuit evaluates the Hadamard test for a given parameter using Aer EstimatorV2.\n",
    "    \n",
    "    The circuit has a single ancilla qubit as the LSB.\n",
    "    The circuit is transpiled and optimized for the backend.\n",
    "    We evaluate the expectation value of Pauli-Z on the ancilla qubit.\n",
    "    \n",
    "    Estimator Options:\n",
    "    resilience level = 2\n",
    "    layout_method = \"dense\"\n",
    "    \n",
    "    Args:\n",
    "        circ: QuantumCircuit\n",
    "            The Hadamard test circuit\n",
    "        backend: Backend\n",
    "        \n",
    "    Returns:\n",
    "        The expectation value of Pauli-Z on the ancilla qubit.\n",
    "    \"\"\"\n",
    "    \n",
    "    nqubits = circ.num_qubits - 1\n",
    "    # Remove barriers\n",
    "    circ = RemoveBarriers()(circ)\n",
    "    \n",
    "    # Construct the observables\n",
    "    obs = SparsePauliOp(\"I\"* nqubits + \"Z\")\n",
    "    \n",
    "    # Transpile the circuit and observables\n",
    "    circ_transpiled = transpile(circ, backend=backend, layout_method=\"dense\")\n",
    "    transpiled_obs = obs.apply_layout(circ_transpiled.layout)\n",
    "    \n",
    "    # Define the estimator\n",
    "    estimator = AerEstimatorV2().from_backend(backend)\n",
    "    estimator.options.resilience_level = 2\n",
    "    \n",
    "    result = estimator.run([(circ_transpiled, transpiled_obs)]).result()\n",
    "    exp_value = result[0].data.evs\n",
    "    return exp_value.item()\n",
    "    "
   ]
  },
  {
   "cell_type": "code",
   "execution_count": 41,
   "metadata": {},
   "outputs": [
    {
     "name": "stdout",
     "output_type": "stream",
     "text": [
      "<class 'float'>\n",
      "0.00032737914165148485\n"
     ]
    }
   ],
   "source": [
    "result_eval_circ = eval_circ(qc, backend=backend)\n",
    "print(type(result_eval_circ))\n",
    "print(result_eval_circ)"
   ]
  },
  {
   "cell_type": "code",
   "execution_count": 40,
   "metadata": {},
   "outputs": [
    {
     "name": "stdout",
     "output_type": "stream",
     "text": [
      "<class 'float'>\n",
      "-0.0012671671176523005\n"
     ]
    }
   ],
   "source": [
    "result_eval_circ2 = eval_circ(local_hadamard_test(params1, nqubits=2, l=l, j=j, lp=lp, part=\"IM\", lcu=LCU), backend=backend)\n",
    "print(type(result_eval_circ2))\n",
    "print(result_eval_circ2)"
   ]
  },
  {
   "cell_type": "markdown",
   "metadata": {},
   "source": [
    "The `eval_hadamard()` function combines every quantum step. It evaluates the local cost, given a set of parameters, $\\alpha$."
   ]
  },
  {
   "cell_type": "code",
   "execution_count": 44,
   "metadata": {},
   "outputs": [],
   "source": [
    "def local_cost(param, LCU, Im_part=False): \n",
    "    \"\"\"This function evaluates the Hadamard test for a given parameter and LCU.\n",
    "\n",
    "    Args:\n",
    "        param: float\n",
    "            The parameter for the Hadamard test\n",
    "        LCU: PauliList or SparsePauliOp object\n",
    "            The Pauli decomposition of the matrix A. \n",
    "\n",
    "    Returns:\n",
    "        exp_value_list: list\n",
    "    \"\"\"\n",
    "    L = len(LCU.paulis)\n",
    "    nqubits = LCU.num_qubits\n",
    "    \n",
    "    # Evaluate the denominator\n",
    "    Denominator = 0\n",
    "    # For the real part\n",
    "    for l in range(L):\n",
    "        for lp in range(L):\n",
    "            circ = local_hadamard_test(param, l, -1, lp, part = \"Re\", lcu=LCU)\n",
    "            # Multiplying coefficients with the expectation value.\n",
    "            Denominator += abs(LCU.coeffs[l] * np.conjugate(LCU.coeffs[lp]) * eval_circ(circ, backend=backend))\n",
    "    # Imaginary part\n",
    "    if Im_part:\n",
    "        for l in range(L):\n",
    "            for lp in range(L):\n",
    "                circ = local_hadamard_test(param, l, -1, lp, part = \"Im\", lcu=LCU)\n",
    "                Denominator += abs(LCU.coeffs[l] * np.conjugate(LCU.coeffs[lp]) * eval_circ(circ, backend=backend)) * 1.0j\n",
    "    \n",
    "    # Evaluate the Numerator\n",
    "    Numerator = 0\n",
    "    for l in range(L):\n",
    "        for lp in range(L):\n",
    "            for j in range(nqubits): # j is from 0 to nqubits-1\n",
    "                circ = local_hadamard_test(param, l, j, lp, nqubits=nqubits, part = \"Re\", lcu=LCU)\n",
    "                Numerator += abs(LCU.coeffs[l] * np.conjugate(LCU.coeffs[lp]) * eval_circ(circ, backend=backend))\n",
    "    # Imaginary part\n",
    "    if Im_part:\n",
    "        for l in range(L):\n",
    "            for lp in range(L):\n",
    "                for j in range(nqubits):\n",
    "                    circ = local_hadamard_test(param, l, j, lp, nqubits=nqubits, part = \"Im\", lcu=LCU)\n",
    "                    Numerator += abs(LCU.coeffs[l] * np.conjugate(LCU.coeffs[lp]) * eval_circ(circ, backend=backend)) * 1.0j\n",
    "    \n",
    "    # The final result\n",
    "    local_cost = 1/2 + ( 1/(2*nqubits) * (Numerator / Denominator))\n",
    "    return abs(local_cost)"
   ]
  },
  {
   "cell_type": "markdown",
   "metadata": {},
   "source": [
    "Testing the function, `eval_hadamard` with respect to parameters [[pi/1, pi/2], [pi/1, pi/2]]."
   ]
  },
  {
   "cell_type": "code",
   "execution_count": null,
   "metadata": {},
   "outputs": [
    {
     "name": "stdout",
     "output_type": "stream",
     "text": [
      "<class 'numpy.complex128'>\n",
      "(0.30172346452748977+0j)\n"
     ]
    }
   ],
   "source": [
    "params1 = [[pi/1, pi/2], [pi/1, pi/2]]\n",
    "\n",
    "# Testing with only real part.\n",
    "result_local_cost = local_cost(params1, LCU, Im_part=False)\n",
    "print(type(result_local_cost))\n",
    "print(result_local_cost)"
   ]
  },
  {
   "cell_type": "code",
   "execution_count": null,
   "metadata": {},
   "outputs": [
    {
     "name": "stdout",
     "output_type": "stream",
     "text": [
      "<class 'numpy.complex128'>\n",
      "(0.3017345708895015-0.00012960831150646062j)\n"
     ]
    }
   ],
   "source": [
    "# Testing with combined imaginary part.\n",
    "result_local_cost2 = local_cost(params1, LCU, Im_part=True)\n",
    "print(type(result_local_cost2))\n",
    "print(result_local_cost2)"
   ]
  },
  {
   "cell_type": "code",
   "execution_count": 45,
   "metadata": {},
   "outputs": [
    {
     "name": "stdout",
     "output_type": "stream",
     "text": [
      "<class 'numpy.float64'>\n",
      "0.7493433128679315\n"
     ]
    }
   ],
   "source": [
    "result_local_cost3 = local_cost(params1, LCU, Im_part=False)\n",
    "print(type(result_local_cost3))\n",
    "print(result_local_cost3)"
   ]
  },
  {
   "cell_type": "markdown",
   "metadata": {},
   "source": [
    "### Iterating over parameters"
   ]
  },
  {
   "cell_type": "code",
   "execution_count": null,
   "metadata": {},
   "outputs": [],
   "source": [
    "from scipy.optimize import minimize\n"
   ]
  },
  {
   "cell_type": "code",
   "execution_count": null,
   "metadata": {},
   "outputs": [],
   "source": []
  },
  {
   "cell_type": "markdown",
   "metadata": {},
   "source": [
    "## 4. Acknowledgements\n",
    "\n",
    "This implementation is based on the work presented in the research paper [5] by Carlos Bravo-Prieto, Ryan LaRose, M. Cerezo, Yiğit Subaşı, Lukasz Cincio, and Patrick J. Coles."
   ]
  }
 ],
 "metadata": {
  "kernelspec": {
   "display_name": ".venv",
   "language": "python",
   "name": "python3"
  },
  "language_info": {
   "codemirror_mode": {
    "name": "ipython",
    "version": 3
   },
   "file_extension": ".py",
   "mimetype": "text/x-python",
   "name": "python",
   "nbconvert_exporter": "python",
   "pygments_lexer": "ipython3",
   "version": "3.11.2"
  }
 },
 "nbformat": 4,
 "nbformat_minor": 2
}
