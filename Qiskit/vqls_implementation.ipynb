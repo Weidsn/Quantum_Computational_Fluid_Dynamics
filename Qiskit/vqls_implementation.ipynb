{
 "cells": [
  {
   "cell_type": "markdown",
   "metadata": {
    "tags": [
     "remove_cell"
    ]
   },
   "source": [
    "# The Variational Quantum Linear Solver"
   ]
  },
  {
   "cell_type": "markdown",
   "metadata": {},
   "source": [
    "#### Editor's note:\n",
    "\n",
    "Consulted Pennylane tutorial on VQLS, found [here](https://pennylane.ai/qml/demos/tutorial_vqls).\n",
    "\n",
    "Qiskit version: `2.0.0`"
   ]
  },
  {
   "cell_type": "code",
   "execution_count": 21,
   "metadata": {},
   "outputs": [
    {
     "name": "stdout",
     "output_type": "stream",
     "text": [
      "Note: you may need to restart the kernel to use updated packages.\n"
     ]
    }
   ],
   "source": [
    "%pip install --upgrade -r requirements.txt -q"
   ]
  },
  {
   "cell_type": "markdown",
   "metadata": {},
   "source": [
    "### Importing libraries"
   ]
  },
  {
   "cell_type": "code",
   "execution_count": 1,
   "metadata": {},
   "outputs": [
    {
     "name": "stdout",
     "output_type": "stream",
     "text": [
      "Qiskit version: 2.0.0\n"
     ]
    }
   ],
   "source": [
    "from IPython.display import display\n",
    "\n",
    "import qiskit as qk\n",
    "from qiskit import QuantumCircuit, QuantumRegister, ClassicalRegister\n",
    "from qiskit import transpile\n",
    "from qiskit.circuit.library import UGate\n",
    "from qiskit.exceptions import QiskitError\n",
    "from qiskit_ibm_runtime import QiskitRuntimeService, EstimatorV2, EstimatorOptions\n",
    "from qiskit.quantum_info import Statevector, Operator, PauliList, Operator, SparsePauliOp, Pauli\n",
    "from qiskit.transpiler.passes import RemoveBarriers\n",
    "from qiskit.visualization import array_to_latex, plot_histogram\n",
    "\n",
    "import math\n",
    "import random\n",
    "import numpy as np\n",
    "from numpy import pi\n",
    "from numpy import array, sqrt\n",
    "\n",
    "from scipy.optimize import minimize\n",
    "import matplotlib.pyplot as plt\n",
    "\n",
    "import tqdm\n",
    "\n",
    "# For high-performance simulation\n",
    "from qiskit_aer import AerSimulator\n",
    "from qiskit_aer.primitives import EstimatorV2 as AerEstimatorV2\n",
    "\n",
    "print(f\"Qiskit version: {qk.__version__}\")"
   ]
  },
  {
   "cell_type": "markdown",
   "metadata": {},
   "source": [
    "## 1. Introduction\n",
    "\n",
    "The Variational Quantum Linear Solver (VQLS) is a kind of variational quantum algorithm (VQA) that solves systems of linear equations. \n",
    "\n",
    "Given a matrix $A$, such that $Ax = b$, where $b$ is some known vector, the VQLS algorithm finds a normalized $|x\\rangle$ proportional to $x$ that satisfies $Ax=b$.\n",
    "\n"
   ]
  },
  {
   "cell_type": "markdown",
   "metadata": {},
   "source": [
    "## 2. The Algorithm\n",
    "\n",
    "First, we prepare a candidate solution, $|x(\\alpha)\\rangle$ conditioned on a set of parameters $\\alpha$, using a quantum circuit $V(\\alpha)$, conditioned on a set of parameters $\\alpha$. This quantum circuit is called the `ansatz`.\n",
    "\n",
    "From the ansatz, we obtain $|x(\\alpha)\\rangle = V(\\alpha) |0\\rangle$. \n",
    "\n",
    "Next, we prepare $|b\\rangle = U|0\\rangle$ for some unitary matrix $U$. Hence, $|b\\rangle$ is a unitary vector proportional to the vector $b$ in $Ax=b$. To do this, we need to figure out a quantum circuit representation of $U$.\n",
    "\n",
    "Second, we design a quantum circuit to compute a cost value, $C(\\alpha)$, conditioned on ansatz parameters $\\alpha$, which we used to prepare our candidate solution, $| x(\\alpha) \\rangle$. The cost value should represent the difference between our candidate solution and the real solution.\n",
    "\n",
    "Next, we iteratively improve our ansatz parameters $\\alpha$ by minimizing $C(\\alpha)$ using classical optimization methods.\n",
    "\n",
    "We repeat this process until $C(\\alpha)$ stablizes, at which point we use the $\\alpha$ parameters to recover our desired solution.\n",
    "\n",
    "![alt text](images/bro.png)"
   ]
  },
  {
   "cell_type": "markdown",
   "metadata": {},
   "source": [
    "### Cost Function\n",
    "\n",
    "Several cost functions are proposed:\n",
    "\n",
    "1. $C_G$\n",
    "\n",
    "Let $|\\psi\\rangle$ = $A |x(\\alpha)\\rangle$.\n",
    "\n",
    "$$C_G = 1 - | \\langle b| \\frac{|\\psi\\rangle}{\\|\\psi\\|} \\rangle |^2$$\n",
    "\n",
    "$$C_G = 1 - \\frac{ \\langle x | A^\\dagger U | 0 \\rangle \\langle 0 | U^\\dagger A | x \\rangle }{\\langle x | A^\\dagger A | x \\rangle}$$\n",
    "\n",
    "We project $|\\psi\\rangle = A |x(\\alpha)\\rangle$ onto the subspace orthogonal to $|b\\rangle$.\n",
    "$C_G(\\alpha)$ equals the norm squared of the projection.\n",
    "\n",
    "Note that $|\\psi\\rangle$ is not normalized, so we need to normalize it before computing the projection.\n",
    "\n",
    "As the number of qubits increases, the gradient of $C_G$ vanishes so we introduce the local cost function.\n",
    "\n",
    "<br>\n",
    "\n",
    "1. $C_L$, a local version of $C_G$.\n",
    "\n",
    "First, let us define\n",
    "\n",
    "$$P_1 = \\left( \\mathbb{1} - \\frac{1}{n} \\sum_{j=1}^{n} |0_j \\rangle \\langle 0_{j} | \\otimes \\mathbb{1}_{\\bar{j}} \\right)$$\n",
    "\n",
    "where $\\mathbb{1}_{\\bar{j}}$ is the identity on all qubits except the j-th qubit.\n",
    "\n",
    "Also,\n",
    "\n",
    "$$P_0 = \\frac{1}{2} + \\frac{1}{2n} \\sum_{j=1}^{n} Z_j$$\n",
    "\n",
    "where $Z_j$ is the Pauli-Z operator on the j-th qubit and identity on every other qubit.\n",
    "\n",
    "When multipled by a standard-basis vector, $P_0$ counts the number of 0's in the vector, and $P_1$ counts the number of 1's. For example, if $|a \\rangle$ is a standard basis vector having $m$ 1's and $n$ qubits, then $P_1 |a\\rangle = \\frac{m}{n} |a\\rangle$, and $P_0 |a\\rangle = \\frac{n-m}{n} |a\\rangle$.\n",
    "\n",
    "Notice that\n",
    "\n",
    "$$P_1 = \\mathbb{1} - P_0 $$\n",
    "\n",
    "Therefore,\n",
    "\n",
    "$$C_L = \\frac{\\hat{C}_L} {\\| \\psi\\|^2} = \\frac{\\langle x | H_L | x \\rangle} {\\| \\psi\\|^2}$$\n",
    "\n",
    "$$ = \\frac{\\langle x | A^\\dagger U P_1 U^\\dagger A | x \\rangle} {\\langle x | A^\\dagger A | x \\rangle}$$\n",
    "\n",
    "$$ = \\frac{\\langle x | A^\\dagger U P_1 U^\\dagger A | x \\rangle} {\\langle x | A^\\dagger U \\mathbb{1} U^\\dagger A | x \\rangle}$$\n",
    "\n",
    "$$ = \\frac{\\langle x | A^\\dagger U \\mathbb{1} U^\\dagger A | x \\rangle - \\langle x | A^\\dagger U P_0 U^\\dagger A | x \\rangle} {\\langle x | A^\\dagger U \\mathbb{1} U^\\dagger A | x \\rangle}$$\n",
    "\n",
    "$$ = 1 - \\frac{\\langle x | A^\\dagger U P_0 U^\\dagger A | x \\rangle} {\\langle x | A^\\dagger A | x \\rangle}$$\n",
    "\n",
    "We can see the $C_G$ and $C_L$ differes by the middle term: $|0\\rangle \\langle 0|$ in $C_G$ compared to $P_0$ in $C_L$.\n",
    "\n",
    "$$ = \\frac{1}{2} - \\frac{1}{2n} \\frac{\\sum_{j=1}^{n}\\langle x | A^\\dagger U Z_j U^\\dagger A | x \\rangle} {\\langle x | A^\\dagger A | x \\rangle}$$\n",
    "\n",
    "$$ = \\frac{1}{2} - \\frac{1}{2n} \\frac{\\sum_{j=1}^{n}\\langle 0|V^\\dagger A^\\dagger U Z_j U^\\dagger A V|0 \\rangle} {\\langle 0|V^\\dagger A^\\dagger A  V|0 \\rangle}$$\n",
    "\n",
    "\n",
    "Since controlled-Z gate is native to IBM Heron processor, we can directly implement Controlled-$Z_j$ gates to improve efficiency of the algorithm for IBM Heron processors.\n",
    "\n",
    "Since\n",
    "\n",
    "$$A = \\sum_{l=1}^{L} c_lA_l$$\n",
    "where $c_l \\in \\mathbb{C}$, we can expand $A$ to obtain\n",
    "\n",
    "$$ C_L = \\frac{1}{2} - \\frac{1}{2n} \\frac{\\sum_{j=1}^{n} \\sum_{l=1}^{L} \\sum_{l'=1}^{L} c_lc_{l'}^*\\langle 0|V^\\dagger A_{l'}^\\dagger U Z_j U^\\dagger A_l V|0 \\rangle} {\\sum_{l=1}^{L} \\sum_{l'=1}^{L} c_lc_{l'}^* \\langle 0|V^\\dagger A_{l'}^\\dagger A_l  V|0 \\rangle}$$\n"
   ]
  },
  {
   "cell_type": "markdown",
   "metadata": {},
   "source": [
    "## 3. Building Quantum Circuit with Qiskit\n",
    "\n"
   ]
  },
  {
   "cell_type": "markdown",
   "metadata": {},
   "source": [
    "### Consider an Example\n",
    "\n",
    "Let us construct a 4x4 tridiagonal matrix, $A$. We generate a random vector $|x_0\\rangle$ and obtain $|b\\rangle$ from the equation $A |x_0\\rangle =|b\\rangle$. \n",
    "\n",
    "We apply VQLS, using $A$ and $|b\\rangle$ as inputs, to solve for $|x\\rangle$ in $A |x\\rangle =|b\\rangle$. We then compare our solution with the real solution $|x_0\\rangle$."
   ]
  },
  {
   "cell_type": "code",
   "execution_count": 2,
   "metadata": {},
   "outputs": [
    {
     "name": "stdout",
     "output_type": "stream",
     "text": [
      "Define the matrix, A, to be the following:\n"
     ]
    },
    {
     "data": {
      "text/latex": [
       "$$\n",
       "\n",
       "\\begin{bmatrix}\n",
       "2 & -1 & 0 & 0  \\\\\n",
       " -1 & 2 & -1 & 0  \\\\\n",
       " 0 & -1 & 2 & -1  \\\\\n",
       " 0 & 0 & -1 & 2  \\\\\n",
       " \\end{bmatrix}\n",
       "$$"
      ],
      "text/plain": [
       "<IPython.core.display.Latex object>"
      ]
     },
     "metadata": {},
     "output_type": "display_data"
    }
   ],
   "source": [
    "A = np.array([[2,-1,0,0],\n",
    "            [-1,2,-1,0],\n",
    "            [0,-1,2,-1],\n",
    "            [0,0,-1,2]])\n",
    "\n",
    "print(\"Define the matrix, A, to be the following:\")\n",
    "display(array_to_latex(A))"
   ]
  },
  {
   "cell_type": "markdown",
   "metadata": {},
   "source": [
    "### Decomposing A into LCU\n",
    "\n",
    "We decompose $A$ into a Linear Combination of Pauli Strings (LCU). This is done by writing $A$ as a sum of Pauli operators, each multiplied by a coefficient."
   ]
  },
  {
   "cell_type": "code",
   "execution_count": 3,
   "metadata": {},
   "outputs": [
    {
     "name": "stdout",
     "output_type": "stream",
     "text": [
      "SparsePauliOp(['II', 'IX', 'XX', 'YY'],\n",
      "              coeffs=[ 2. +0.j, -1. +0.j, -0.5+0.j, -0.5+0.j])\n",
      "\n",
      "The Pauli strings are:\n",
      "['II', 'IX', 'XX', 'YY']\n",
      "\n",
      "The coefficients are:\n",
      "[ 2. +0.j -1. +0.j -0.5+0.j -0.5+0.j]\n",
      "\n",
      "The number of qubits is 2.\n"
     ]
    }
   ],
   "source": [
    "# Apply SparsePauliOp()\n",
    "LCU = SparsePauliOp.from_operator(A)\n",
    "print(LCU, end=\"\\n\\n\")\n",
    "\n",
    "print(\"The Pauli strings are:\")\n",
    "print(LCU.paulis, end=\"\\n\\n\")\n",
    "\n",
    "print(\"The coefficients are:\")\n",
    "print(LCU.coeffs)\n",
    "\n",
    "print(f\"\\nThe number of qubits is {LCU.num_qubits}.\")"
   ]
  },
  {
   "cell_type": "markdown",
   "metadata": {},
   "source": [
    "Hence, we have\n",
    "\n",
    "$$\n",
    "A = 2II - 1IX - 0.5XX - 0.5YY\n",
    "$$\n",
    "\n",
    "where $I$, $X$, $Y$ are Pauli matrices. \n",
    "\n",
    "### Defining Controlled-A Circuits\n",
    "For the Hadamard Test, let us define the function `CA()` that creates controlled circuits for each Pauli string in the LCU. "
   ]
  },
  {
   "cell_type": "code",
   "execution_count": 4,
   "metadata": {},
   "outputs": [
    {
     "name": "stdout",
     "output_type": "stream",
     "text": [
      "IX\n"
     ]
    },
    {
     "data": {
      "image/png": "[encoded data removed]",
      "text/plain": [
       "<Figure size 261.567x284.278 with 1 Axes>"
      ]
     },
     "metadata": {},
     "output_type": "display_data"
    },
    {
     "data": {
      "image/png": "[encoded data removed]",
      "text/plain": [
       "<Figure size 345.178x367.889 with 1 Axes>"
      ]
     },
     "metadata": {},
     "output_type": "display_data"
    }
   ],
   "source": [
    "from qiskit import QuantumCircuit, QuantumRegister\n",
    "from qiskit.quantum_info import Pauli, PauliList\n",
    "from qiskit.exceptions import QiskitError\n",
    "\n",
    "def CA(pauli_input, l=None):\n",
    "    \"\"\"\n",
    "    Creates a controlled-Pauli circuit using an ancilla qubit as the control.\n",
    "    \n",
    "    Parameters:\n",
    "        pauli_input (str, Pauli, PauliList or SparsePauliOp): \n",
    "            - A Pauli string (e.g., \"IXY\").\n",
    "            - A Qiskit Pauli object (e.g., from SparsePauliOp.paulis[0]).\n",
    "            - A Qiskit PauliList object, where the l-th Pauli will be used.\n",
    "            - A Qiskit SparsePauliOp object, where the l-th Pauli will be used.\n",
    "    \n",
    "    The circuit uses two registers:\n",
    "        - An ancilla register of size 1 named \"ancilla\" (the control qubit).\n",
    "        - A data register of size nqubits named \"q\" (the target qubits).\n",
    "    \n",
    "    For each position in the Pauli operator:\n",
    "        - 'I': Do nothing.\n",
    "        - 'X': Apply a controlled-X (CX) gate.\n",
    "        - 'Z': Apply a controlled-Z (CZ) gate.\n",
    "        - 'Y': Apply a controlled-Y (CY) gate.\n",
    "    \n",
    "    Returns:\n",
    "        QuantumCircuit: The constructed controlled-Pauli circuit.\n",
    "    \"\"\"\n",
    "    \n",
    "    # Convert input to a Pauli object if it is a string\n",
    "    if isinstance(pauli_input, str):\n",
    "        try:\n",
    "            pauli = Pauli(pauli_input)  # Convert string to Pauli object\n",
    "        except QiskitError:\n",
    "            raise ValueError(f\"Invalid Pauli string '{pauli_input}'. Allowed characters: I, X, Y, Z.\")\n",
    "    \n",
    "    # If input is already a Pauli object, use it directly\n",
    "    elif isinstance(pauli_input, Pauli):\n",
    "        pauli = pauli_input\n",
    "    \n",
    "    # If input is PauliList or SparsePauliOp, extract the l-th pauli string\n",
    "    elif isinstance(pauli_input, PauliList):\n",
    "        try:\n",
    "            pauli = pauli_input[l]  # Extract l-th pauli string\n",
    "        except QiskitError:\n",
    "            raise ValueError(\"The index, l, must be supplied if pauli_input contains more than one pauli string.\")\n",
    "        except IndexError:\n",
    "            raise ValueError(\"The index, l, is out of bounds for the given PauliList.\")\n",
    "    \n",
    "    elif isinstance(pauli_input, SparsePauliOp):\n",
    "        try:\n",
    "            pauli = pauli_input.paulis[l]  # Extract l-th pauli string\n",
    "        except QiskitError:\n",
    "            raise ValueError(\"The index, l, must be supplied if pauli_input contains more than one pauli string.\")\n",
    "        except IndexError:\n",
    "            raise ValueError(\"The index, l, is out of bounds for the given PauliList.\")\n",
    "    \n",
    "    # Reject invalid types\n",
    "    else:\n",
    "        raise TypeError(f\"Expected input type str, Pauli, PauliList, or SparsePauliOp, but received {type(pauli_input)}.\")\n",
    "    \n",
    "    # Determine the number of qubits\n",
    "    nqubits = pauli.num_qubits\n",
    "    \n",
    "    # Create registers\n",
    "    ancilla = QuantumRegister(1, name=\"ancilla\")\n",
    "    data = QuantumRegister(nqubits, name=\"q\")\n",
    "    \n",
    "    # Create circuit\n",
    "    circ = QuantumCircuit(ancilla, data, name=\"CA\")\n",
    "    \n",
    "    # Loop over each Pauli term directly from the Pauli object\n",
    "    for i, p in enumerate(pauli.to_label()):  # Ensure compatibility with string indexing. \n",
    "        # pauli.to_lable() converts Pauli Object to a string, e.g. \"IXY\"\n",
    "        \n",
    "        # Qiskit follows little Endian convention for qubit ordering. \n",
    "        # The most signifcant qubit is the one on the left in hand-written form. \n",
    "        # Hence, we need to reverse the index to match qubit numbering.\n",
    "        i = nqubits - i - 1\n",
    "        # E.g. nqubits =3, [0,1,2] becomes [2,1,0]\n",
    "        \n",
    "        if p == \"I\":\n",
    "            continue\n",
    "        elif p == \"X\":\n",
    "            circ.cx(ancilla[0], data[i])\n",
    "        elif p == \"Z\":\n",
    "            circ.cz(ancilla[0], data[i])\n",
    "        elif p == \"Y\":\n",
    "            circ.cy(ancilla[0], data[i])\n",
    "        else:\n",
    "            raise ValueError(f\"Unsupported Pauli operator: {p}\")\n",
    "    \n",
    "    return circ\n",
    "print(LCU.paulis[1])\n",
    "display(CA(LCU.paulis[1]).draw(\"mpl\"))\n",
    "display(CA(\"IXY\").draw(\"mpl\"))"
   ]
  },
  {
   "cell_type": "markdown",
   "metadata": {},
   "source": [
    "### Implement $|b\\rangle$ with $U |0\\rangle$\n",
    "\n",
    "For simplicity, let use a $|b\\rangle$ that is easy to implement. Let\n",
    "$$|b\\rangle = \\frac{1}{2} \\begin{pmatrix} 1 \\\\ 1 \\\\ 1 \\\\ 1 \\end{pmatrix}$$\n",
    "\n",
    "$|b\\rangle$ can be prepared by applying a Hadamard gate to each qubit.\n",
    "\n",
    "Given $A$ and $b$, we can easily obtain the solution x for validating the result.\n",
    "\n",
    "$$|x\\rangle = \\begin{pmatrix} 1 \\\\ 1.5 \\\\ 1.5 \\\\ 1 \\end{pmatrix}$$"
   ]
  },
  {
   "cell_type": "code",
   "execution_count": 5,
   "metadata": {},
   "outputs": [
    {
     "name": "stdout",
     "output_type": "stream",
     "text": [
      "Normalized x:  [0.39223227 0.58834841 0.58834841 0.39223227]\n"
     ]
    },
    {
     "data": {
      "text/latex": [
       "$$\n",
       "\n",
       "\\begin{bmatrix}\n",
       "\\frac{\\sqrt{26}}{13} & \\frac{3 \\sqrt{26}}{26} & \\frac{3 \\sqrt{26}}{26} & \\frac{\\sqrt{26}}{13}  \\\\\n",
       " \\end{bmatrix}\n",
       "$$"
      ],
      "text/plain": [
       "<IPython.core.display.Latex object>"
      ]
     },
     "metadata": {},
     "output_type": "display_data"
    }
   ],
   "source": [
    "# Solution to Ax = b\n",
    "x = np.array([1,1.5,1.5,1])\n",
    "np.matmul(A,x)\n",
    "\n",
    "# The normalized solution x_0\n",
    "x_0 = x/np.linalg.norm(x)\n",
    "print(\"Normalized x: \", x_0)\n",
    "display(array_to_latex(x_0))"
   ]
  },
  {
   "cell_type": "code",
   "execution_count": 6,
   "metadata": {},
   "outputs": [
    {
     "data": {
      "image/png": "[encoded data removed]",
      "text/plain": [
       "<Figure size 203.683x200.667 with 1 Axes>"
      ]
     },
     "metadata": {},
     "output_type": "display_data"
    }
   ],
   "source": [
    "def U_hadamard(nqubits):\n",
    "    \"\"\"\n",
    "    Creates a circuit of size 'nqubits' that represents U_hadamard.\n",
    "    For our problem, we only need to apply Hadamard on each qubit to prepare |b>.\n",
    "    \n",
    "    In general, U_b would be a unitary that maps |0> to |b> (or vice versa).\n",
    "    \n",
    "    Returns:\n",
    "        circuit (QuantumCircuit): A quantum circuit of size 'nqubits'.\n",
    "    \"\"\"\n",
    "    circ = QuantumCircuit(nqubits, name=\"U_hadamard\")\n",
    "    # Example placeholder: apply H on each qubit\n",
    "    for i in range(nqubits):\n",
    "        circ.h(i)\n",
    "    return circ\n",
    "\n",
    "# |b> with two qubits:\n",
    "display(U_hadamard(2).draw(\"mpl\"))"
   ]
  },
  {
   "cell_type": "markdown",
   "metadata": {},
   "source": [
    "### Fixed Structure Ansatz for $|x(\\alpha)\\rangle$\n",
    "Consider the ansatz $V(\\alpha)$, quantum a circuit that prepares a state $|x(\\alpha)\\rangle$ given a set of parameters, $\\alpha$. \n",
    "\n",
    "There different techniques for preparing the ansatz, including fixed ansatz, variable ansatz and Quantum Alternating Operator Ansatz (QAOA). \n",
    "\n",
    "Here, we use a very basic fixed ansatz."
   ]
  },
  {
   "cell_type": "code",
   "execution_count": 7,
   "metadata": {},
   "outputs": [
    {
     "data": {
      "image/png": "[encoded data removed]",
      "text/plain": [
       "<Figure size 370.906x200.667 with 1 Axes>"
      ]
     },
     "metadata": {},
     "output_type": "display_data"
    },
    {
     "data": {
      "image/png": "[encoded data removed]",
      "text/plain": [
       "<Figure size 872.774x367.889 with 1 Axes>"
      ]
     },
     "metadata": {},
     "output_type": "display_data"
    }
   ],
   "source": [
    "\n",
    "def apply_single_qubit_rotation(circuit, gate_type, angle, qubit_idx):\n",
    "    gate_type = gate_type.strip().lower()\n",
    "    if gate_type == \"rx\":\n",
    "        circuit.rx(angle, qubit_idx)\n",
    "    elif gate_type == \"ry\":\n",
    "        circuit.ry(angle, qubit_idx)\n",
    "    elif gate_type == \"rz\":\n",
    "        circuit.rz(angle, qubit_idx)\n",
    "    else:\n",
    "        raise ValueError(f\"Unsupported rotational gate: {gate_type}. Available gates are 'rx', 'ry', 'rz'.\")\n",
    "\n",
    "# Helper to apply two-qubit entangling gates\n",
    "def apply_two_qubit_entangling(circuit, gate_type, ctrl, tgt):\n",
    "    gate_type = gate_type.strip().lower()\n",
    "    if gate_type == \"cz\":\n",
    "        circuit.cz(ctrl, tgt)\n",
    "    elif gate_type == \"cx\":\n",
    "        circuit.cx(ctrl, tgt)\n",
    "    elif gate_type == \"cy\":\n",
    "        circuit.cy(ctrl, tgt)\n",
    "    else:\n",
    "        raise ValueError(f\"Unsupported entangling gate: {gate_type}. Available gates are 'cz', 'cx', 'cy'.\")\n",
    "\n",
    "def fixed_ansatz(param, nqubits, rot_gates = \"Ry\", ent_gates = \"CX\"):\n",
    "    \"\"\"\n",
    "    Creates a parameterized \"ansatz circuit\" on 'nqubits' data qubits.\n",
    "    \n",
    "    The circuit is built by first applying a layer of single-qubit rotation gates,\n",
    "    followed by alternating layers of two-qubit entangling gates and additional\n",
    "    single-qubit rotation layers. The entangling layers follow an alternating pattern:\n",
    "    \n",
    "    - Even-numbered layers (0, 2, ...): Apply entangling gates on qubit pairs (0,1), (2,3), ...\n",
    "    - Odd-numbered layers (1, 3, ...):  Apply entangling gates on qubit pairs (1,2), (3,4), ...\n",
    "    \n",
    "    In non-final layers, the rotation gates are applied only to the qubits that will be entangled in the next layer.\n",
    "    \n",
    "    Input:\n",
    "        param (list): A flat list of rotation angles. The list is partitioned into layers,\n",
    "            with the first 'nqubits' elements used for the initial rotation layer.\n",
    "        nqubits (int): The number of data qubits in the circuit.\n",
    "        rot_gates (str, optional): The type of single-qubit rotation gate to apply \n",
    "            (e.g., \"Rx\", \"Ry\", or \"Rz\"). Default is \"Ry\".\n",
    "        ent_gates (str, optional): The type of two-qubit entangling gate to apply \n",
    "            (e.g., \"CX\", \"CZ\", or \"CY\"). Default is \"CX\".\n",
    "    \n",
    "    Output:\n",
    "    QuantumCircuit: The parameterized ansatz circuit.\n",
    "    \"\"\"\n",
    "    \n",
    "    # Initialize the ansatz circuit.\n",
    "    ansatz = QuantumCircuit(nqubits, name=\"ansatz\")\n",
    "    \n",
    "    layer_idx = 0\n",
    "    \n",
    "    # Populate the first layer of rotational gates\n",
    "    for i in range(nqubits):\n",
    "        try:\n",
    "            apply_single_qubit_rotation(ansatz, rot_gates, param[i], i)\n",
    "        except IndexError:\n",
    "            raise IndexError(\"Index out of range for the first layer\")\n",
    "    param = param[nqubits:] # Remove the first layer from the parameters\n",
    "    \n",
    "    while True:\n",
    "        # Even layer: entangle pairs (0,1), (2,3), ...\n",
    "        if layer_idx % 2 == 0:\n",
    "            if len(param) >= nqubits:\n",
    "                for i in range(0, nqubits, 2):\n",
    "                    apply_two_qubit_entangling(ansatz, ent_gates, i, i + 1)\n",
    "                for i in range(0, nqubits):\n",
    "                    apply_single_qubit_rotation(ansatz, rot_gates, param[i], i)\n",
    "                param = param[nqubits:] # Remove this layer from the parameters\n",
    "                layer_idx += 1\n",
    "            else:\n",
    "                return ansatz\n",
    "        # Odd layer: entangle pairs (1,2), (3,4), ...\n",
    "        elif layer_idx % 2 == 1:\n",
    "            if len(param) >= max(nqubits - 2, 1):\n",
    "                for i in range(1, nqubits - 1, 2):\n",
    "                    apply_two_qubit_entangling(ansatz, ent_gates, i, i + 1)\n",
    "                for param_idx, i in enumerate(range(1, nqubits - 1)):\n",
    "                    apply_single_qubit_rotation(ansatz, rot_gates, param[param_idx], i)\n",
    "                param = param[nqubits - 2:] # Remove this layer from the parameters\n",
    "                layer_idx += 1\n",
    "            else:\n",
    "                return ansatz\n",
    "\n",
    "param1 = [pi/1, pi/2, pi/3, pi/4]\n",
    "\n",
    "param2 = [  pi/1, pi/2, pi/3, pi/4, \n",
    "            pi/1, pi/2, pi/3, pi/4, \n",
    "            pi/1, pi/2, \n",
    "            pi/3, pi/4, pi/1, pi/2, \n",
    "            pi/3, pi/4]\n",
    "\n",
    "# Display the circuits with modified parameters\n",
    "display(fixed_ansatz(param1, nqubits=2).draw(\"mpl\"))\n",
    "display(fixed_ansatz(param2, nqubits=4, ent_gates=\"cz\").draw(\"mpl\"))"
   ]
  },
  {
   "cell_type": "code",
   "execution_count": 8,
   "metadata": {},
   "outputs": [],
   "source": [
    "    # Deprecated fixed_ansatz() that takes a list of list as parameters (as opposed to a flat list).\n",
    "    # \n",
    "    # for layer_idx, layer in enumerate(parameters):\n",
    "    #     # For non-final layers, determine qubits that will be entangled in the next layer.\n",
    "    #     if layer_idx < num_layers - 1:\n",
    "    #         if layer_idx % 2 == 0:\n",
    "    #             # Even layer: entangle pairs (0,1), (2,3), ...\n",
    "    #             entangled = {i for pair in range(0, nqubits - 1, 2) for i in (pair, pair + 1)}        \n",
    "    #         else:\n",
    "    #             # Odd layer: entangle pairs (1,2), (3,4), ...\n",
    "    #             entangled = {i for pair in range(1, nqubits - 1, 2) for i in (pair, pair + 1)}\n",
    "    #         # Apply Ry only on qubits that will be involved in the next CZ layer.\n",
    "    #         for i, theta in enumerate(layer[:nqubits]):\n",
    "    #             if i in entangled:\n",
    "    #                 apply_single_qubit_rotation(ansatz, rotational_gates, theta, i)\n",
    "    #                 # ansatz.rx(theta, i)\n",
    "    #     else:\n",
    "    #         # For the final layer, apply Ry to all qubits.\n",
    "    #         for i, theta in enumerate(layer[:nqubits]):\n",
    "    #             apply_single_qubit_rotation(ansatz, rotational_gates, theta, i)\n",
    "    #             # ansatz.rx(theta, i)\n",
    "                \n",
    "    #     # After each layer (except the final one) insert the alternating CZ entangling layer.\n",
    "    #     if layer_idx < num_layers - 1:\n",
    "    #         if layer_idx % 2 == 0:\n",
    "    #             for i in range(0, nqubits - 1, 2):\n",
    "    #                 apply_two_qubit_entangling(ansatz, entangling_gates, i, i + 1)\n",
    "    #                 # ansatz.cz(i, i + 1)\n",
    "    #         else:\n",
    "    #             for i in range(1, nqubits - 1, 2):\n",
    "    #                 apply_two_qubit_entangling(ansatz, entangling_gates, i, i + 1)\n",
    "    #                 # ansatz.cz(i, i + 1)\n",
    "                    \n",
    "    # return ansatz\n",
    "\n",
    "# params1 = [[pi/1, pi/2], [pi/1, pi/2]]\n",
    "\n",
    "# params2 = [[pi/1, pi/2, pi/3, pi/4], \n",
    "#             [pi/1, pi/2, pi/3, pi/4], \n",
    "#             [pi/1, pi/2, pi/3, pi/4], \n",
    "#             [pi/1, pi/2, pi/3, pi/4]]"
   ]
  },
  {
   "cell_type": "markdown",
   "metadata": {},
   "source": [
    "Only the parameters change for each run of the circuit. The $Rx$ gates search the state space, while the $CZ$ gates create \"interference\" between qubits. \n",
    "\n",
    "\n",
    "> Correction: Rz and CZ gates are native to IBM Heron processors. Rx is not. "
   ]
  },
  {
   "cell_type": "code",
   "execution_count": 9,
   "metadata": {},
   "outputs": [
    {
     "data": {
      "image/png": "[encoded data removed]",
      "text/plain": [
       "<Figure size 679.623x284.278 with 1 Axes>"
      ]
     },
     "metadata": {},
     "output_type": "display_data"
    }
   ],
   "source": [
    "# Testing circuit composition\n",
    "\n",
    "ancilla = QuantumRegister(1, name=\"ancilla\")\n",
    "data = QuantumRegister(2, name=\"q\")\n",
    "test_circ = QuantumCircuit(ancilla, data)\n",
    "\n",
    "test_circ.compose(CA(\"YZ\"), inplace=True)\n",
    "test_circ.barrier()\n",
    "test_circ.compose(fixed_ansatz(param=param1, nqubits=2), qubits=data[0:2], inplace=True)\n",
    "\n",
    "display(test_circ.draw(\"mpl\"))"
   ]
  },
  {
   "cell_type": "markdown",
   "metadata": {},
   "source": [
    "### Hadamard Test for $C_L$\n",
    "\n",
    "To calculate the local cost, we can use `Hadamard Test` circuit. The paper [5] introduces a new circuit, `Hadamard-Overlap Test`, to compute $C_L$. \n",
    "\n",
    "Recall the local cost, $C_L$:\n",
    "\n",
    "$$ C_L = \\frac{1}{2} - \\frac{1}{2n} \\frac{\\sum_{j=1}^{n} \\sum_{l=1}^{L} \\sum_{l'=1}^{L} c_lc_{l'}^*\\langle 0|V^\\dagger A_{l'}^\\dagger U Z_j U^\\dagger A_l V|0 \\rangle} {\\sum_{l=1}^{L} \\sum_{l'=1}^{L} c_lc_{l'}^* \\langle 0|V^\\dagger A_{l'}^\\dagger A_l  V|0 \\rangle}$$\n",
    "\n",
    "A basic `Hadamard Test` looks like this, where $|\\psi \\rangle$ is the state of the data qubits and $|0\\rangle$ is the ancilla qubit. \n",
    "\n",
    "This Hadamard test is designed to calculate $\\langle \\psi|U|\\psi \\rangle$. Let the probability of measuring $|0\\rangle$ be $p_0$ and the probability of measuring $|1\\rangle$ be $p_1$. According the theory on the Hadamard Test, the real part would be $Re = p_0 - p_1$. The imaginary part can also be calculated using a slight different circuit. \n",
    "\n",
    "To get the real (and imaginary) part, measuring the ancilla qubit is not the most efficient method. \n",
    "\n",
    "A more efficient method is to use one of the qiskit primitives, `Estimator` or `EstimatorV2` (the other one is `Sampler`). \n",
    "\n",
    "Suppose the ancilla qubit is $|\\psi\\rangle$, then the expectation value is $\\langle \\psi | Z | \\psi \\rangle = p_0 - p_1 = Re$\n",
    "\n",
    "Hence, in our case, we want to measure the expectation value of Pauli-Z on the ancilla qubit. \n",
    "\n",
    "![Hadamard test](images\\Hadamard_test.webp)\n",
    "\n",
    "Below is the circuit we want to build using Hadamard Test: \n",
    "\n",
    "Notice that for Pauli matrices, $A_l = A_{l}^\\dagger$.\n",
    "\n",
    "![Image from Pennylane](images\\vqls_hadamard_test_circuit.png)"
   ]
  },
  {
   "cell_type": "markdown",
   "metadata": {},
   "source": [
    "#### Constructing the Hadamard Test circuit"
   ]
  },
  {
   "cell_type": "code",
   "execution_count": 10,
   "metadata": {},
   "outputs": [
    {
     "name": "stdout",
     "output_type": "stream",
     "text": [
      "A_l is: IX\n",
      "A_lp is: XX\n",
      "j = 0\n",
      "\n",
      "For the real part:\n"
     ]
    },
    {
     "data": {
      "image/png": "[encoded data removed]",
      "text/plain": [
       "<Figure size 1515.73x284.278 with 1 Axes>"
      ]
     },
     "metadata": {},
     "output_type": "display_data"
    },
    {
     "name": "stdout",
     "output_type": "stream",
     "text": [
      "For the imaginary part:\n"
     ]
    },
    {
     "data": {
      "image/png": "[encoded data removed]",
      "text/plain": [
       "<Figure size 1515.73x284.278 with 1 Axes>"
      ]
     },
     "metadata": {},
     "output_type": "display_data"
    }
   ],
   "source": [
    "\n",
    "def local_hadamard_test(param, nqubits, l, j, lp, lcu = None, part=\"Re\", rot_gates=\"Ry\", ent_gates=\"CX\"):\n",
    "    \"\"\"\n",
    "    Builds the main circuit for the local Hadamard test as in your diagram.\n",
    "\n",
    "    Args:\n",
    "        param (list): Parameters for fixed_ansatz, e.g. [1, 2, 3, 3].\n",
    "        nqubits (int): Number of data qubits (not counting the ancilla).\n",
    "        l (int or Pauli_object): The l's pauli string in lcu (if lcu is provided), otherwise, Pauli_object for A_l (e.g. \"IX\").\n",
    "        j (int): Index of the data qubit for the controlled-Z. If j = -1, skip the CZ.\n",
    "        lp (int or Pauli_object): The l's pauli string in lcu (if lcu is provided), otherwise, Pauli_object for A_{l'} (e.g. \"XX\").\n",
    "        nqubits (int): Number of data qubits (not counting the ancilla).\n",
    "\n",
    "        part (str): \"Re\" or \"Im\". If \"Im\", apply a phase shift Rz(-pi/2) on the ancilla\n",
    "                    to measure the imaginary part.\n",
    "        lcu (PauliList or SparsePauliOp): PauliList or SparsePauliOp to use for l and lp. If lcu is None, then lp and l are \n",
    "        rot_gates (str): rotational gates for building the ansatz, \"Ry\" or \"Rx\" or \"Rz\".\n",
    "        ent_gates (str): entangling gates for building the ansatz, \"CX\" or \"CZ\" or \"CY\".\n",
    "\n",
    "    Returns:\n",
    "        QuantumCircuit: The complete Hadamard test circuit with measurement on the ancilla.\n",
    "    \"\"\"\n",
    "    # 0) If n_layers is not specified, determine it from the parameters and nqubits.\n",
    "    \n",
    "    # 0.5) If lcu is specified, use it to determine l and lp.\n",
    "    if lcu is not None and isinstance(l,int) and isinstance(lp, int):\n",
    "        # Check if l and lp are integers\n",
    "        if not isinstance(l, int) or not isinstance(lp, int):\n",
    "            raise TypeError(\"Indices l and lp must be integers.\")\n",
    "        \n",
    "        # Check if l and lp are within the valid range\n",
    "        if not (0 <= l < len(lcu)) or not (0 <= lp < len(lcu)):\n",
    "            raise IndexError(\"Indices l and lp are out of range.\")\n",
    "        \n",
    "        # Check if lcu is an instance of PauliList\n",
    "        if isinstance(lcu, PauliList):\n",
    "            pauli_l = lcu[l]\n",
    "            pauli_lp = lcu[lp]\n",
    "        # Check if lcu is an instance of SparsePauliOp\n",
    "        elif isinstance(lcu, SparsePauliOp):\n",
    "            pauli_l = lcu.paulis[l]\n",
    "            pauli_lp = lcu.paulis[lp]\n",
    "        else:\n",
    "            raise TypeError(\"lcu must be an instance of PauliList or SparsePauliOp.\")\n",
    "    else:\n",
    "        pauli_l = l\n",
    "        pauli_lp = lp\n",
    "    \n",
    "    # 1) Create registers: 1 ancilla + nqubits data + 1 classical bit for measurement\n",
    "    ancilla = QuantumRegister(1, name=\"ancilla\")\n",
    "    data = QuantumRegister(nqubits, name=\"q\")\n",
    "    # cbit = ClassicalRegister(1, name=\"c\") # We are not taking measurements. \n",
    "    \n",
    "    main_circuit = QuantumCircuit(ancilla, data, name=\"LocalHadamardTest\")\n",
    "\n",
    "    # 2) Hadamard on ancilla\n",
    "    main_circuit.h(ancilla[0])\n",
    "\n",
    "    # 2.5) (Optional) Phase shift for measuring imaginary part\n",
    "    if part.lower().strip() in [\"im\", \"imag\", \"imaginary\"]:\n",
    "        main_circuit.rz(-np.pi / 2, ancilla)\n",
    "\n",
    "    # 3) Apply the fixed ansatz V(w) to the data qubits\n",
    "    ansatz_circ = fixed_ansatz(param, nqubits, rot_gates, ent_gates)\n",
    "    # Map data qubits of ansatz onto the 'data' register in main_circuit\n",
    "    main_circuit.compose(ansatz_circ, qubits=data, inplace=True)\n",
    "    main_circuit.barrier()\n",
    "    \n",
    "    # 4) Controlled A_l\n",
    "    ca_l = CA(pauli_l)  # This subcircuit has 1 ancilla + nqubits data\n",
    "    # Map the ancilla -> ancilla, data -> data[:]\n",
    "    main_circuit.compose(\n",
    "        ca_l,\n",
    "        # qubits=[ancilla] + list(data),\n",
    "        inplace=True\n",
    "    )\n",
    "    main_circuit.barrier()\n",
    "    \n",
    "    # 5) U_hadamard^\\dagger\n",
    "    ub_circ = U_hadamard(nqubits)\n",
    "    main_circuit.compose(\n",
    "        ub_circ.inverse(),\n",
    "        qubits=data,  # apply to the data qubits\n",
    "        inplace=True\n",
    "    )\n",
    "    main_circuit.barrier()\n",
    "    \n",
    "    # 6) Controlled-Z(ancilla, j) if j != -1\n",
    "    if j != -1:\n",
    "        main_circuit.cz(ancilla, data[j])\n",
    "    main_circuit.barrier()\n",
    "    \n",
    "    # 7) U_hadamard\n",
    "    main_circuit.compose(\n",
    "        ub_circ,\n",
    "        qubits=data,\n",
    "        inplace=True\n",
    "    )\n",
    "    main_circuit.barrier()\n",
    "    \n",
    "    # 8) Controlled A_{l'}^\\dagger\n",
    "    # First build the subcircuit for A_{l'}, then invert it\n",
    "    ca_lp = CA(pauli_lp)\n",
    "    ca_lp_inv = ca_lp.inverse()\n",
    "    main_circuit.compose(\n",
    "        ca_lp_inv,\n",
    "        qubits=[ancilla[0]] + list(data),\n",
    "        inplace=True\n",
    "    )\n",
    "    main_circuit.barrier()\n",
    "    \n",
    "    # 9) Hadamard on ancilla\n",
    "    main_circuit.h(ancilla)\n",
    "\n",
    "    return main_circuit\n",
    "\n",
    "\n",
    "print(f\"A_l is: {LCU.paulis[1]}\")\n",
    "print(f\"A_lp is: {LCU.paulis[2]}\")\n",
    "print(\"j = 0\", end=\"\\n\\n\")\n",
    "\n",
    "print(\"For the real part:\")\n",
    "test_circ = local_hadamard_test(param1, nqubits=2, l=1, j=0, lp=2, lcu=LCU, part=\"Re\")\n",
    "display(test_circ.draw(\"mpl\"))\n",
    "\n",
    "print(\"For the imaginary part:\")\n",
    "test_circ2 = local_hadamard_test(param1, nqubits=2, l=1, j=0, lp=2, lcu=LCU, part=\"Im\")\n",
    "display(test_circ2.draw(\"mpl\"))"
   ]
  },
  {
   "cell_type": "markdown",
   "metadata": {},
   "source": [
    "## Evaluating the Quantum Circuit"
   ]
  },
  {
   "cell_type": "markdown",
   "metadata": {},
   "source": [
    "### Aer Simulation\n",
    "\n",
    "Here is a tutorial on [improving estimation of expectation values with Operator Backpropagation](https://learning.quantum.ibm.com/tutorial/improving-estimation-of-expectation-values-with-operator-backpropagation) from qiskit. "
   ]
  },
  {
   "cell_type": "markdown",
   "metadata": {},
   "source": [
    "#### Choosing a backend\n",
    "For the backend, I will use `ibm_fez`, which is a Heron r2 machine. I do not have access to the real one. I will use `FakeFez()` to obtain a snapshot of the real machine.\n",
    "\n",
    "If accessible, we can also choose a real device for backend, such as `ibm_brisbane`, though we need to connect to IBM Runtime Service. For instructions, search online or check out [Qiskit_Sample_Run](https://github.com/Weidsn/Quantum_Computing_Collaboration/blob/main/Qiskit/Qiskit_Sample_Run.ipynb) on Github. \n",
    "\n",
    "We only need calibration data from the quantum device for Aer Simulation. There is no rumtime cost from choosing so.\n"
   ]
  },
  {
   "cell_type": "code",
   "execution_count": 11,
   "metadata": {},
   "outputs": [],
   "source": [
    "from qiskit_ibm_runtime.fake_provider import FakeFez\n",
    "\n",
    "# For fake backend\n",
    "backend = FakeFez()\n",
    "\n",
    "# For real backend (ibm_brisbane)\n",
    "# backend = QiskitRuntimeService().backend(\"ibm_brisbane\")\n",
    "\n",
    "# In general, to construct a AerSimulator from a backend\n",
    "# simulator = AerSimulator().from_backend(backend)\n",
    "\n",
    "simulator = AerSimulator()"
   ]
  },
  {
   "cell_type": "markdown",
   "metadata": {},
   "source": [
    "#### Defining the observables\n",
    "\n",
    "To calculate expectation values, we need to define the observables as qiskit `Pauli` objects, using `SparsePauliOp`. \n",
    "\n",
    "We are calculating the expectation value of $I \\otimes I \\otimes I \\otimes \\cdots \\otimes Z$ with respect to the output of the Hadamard test. Hence, we need Pauli-Z operator on the ancilla qubit, and Identity operator on the data qubits. \n",
    "\n",
    "By the little Endian notation, the ancilla qubit is the least significant (LSB) so it comes last. "
   ]
  },
  {
   "cell_type": "code",
   "execution_count": 12,
   "metadata": {},
   "outputs": [],
   "source": [
    "nqubits = 2\n",
    "\n",
    "# Use Pauli-Z on the ancilla qubit, I on other qubits.\n",
    "observable = SparsePauliOp(\"I\"* nqubits + \"Z\")"
   ]
  },
  {
   "cell_type": "markdown",
   "metadata": {},
   "source": [
    "#### Optimizing the circuit\n",
    "\n",
    "Using qiskit `transpiler` or `pass_manager` to optimize and transpile the circuit for the quantum backend. \n",
    "\n",
    "The backend we are using, ibm_fez, has 156 qubits and has limited connectivity between qubits. It also supports a limited number of quantum gates, e.g., Rz, X, CZ and sqrt(X) a.k.a. SX.\n"
   ]
  },
  {
   "cell_type": "code",
   "execution_count": 13,
   "metadata": {},
   "outputs": [
    {
     "data": {
      "image/png": "[encoded data removed]",
      "text/plain": [
       "<Figure size 1515.73x284.278 with 1 Axes>"
      ]
     },
     "metadata": {},
     "output_type": "display_data"
    }
   ],
   "source": [
    "L = len(LCU.paulis)\n",
    "n = nqubits\n",
    "l = LCU.paulis[1]\n",
    "lp = LCU.paulis[2] # from 1 to\n",
    "j = 0 # from -1 to nqubits\n",
    "\n",
    "qc = local_hadamard_test(param1, nqubits=2, l=l, j=j, lp=lp, part=\"Re\")\n",
    "\n",
    "qc_transpiled = transpile(circuits=qc, backend=simulator, optimization_level=1, layout_method=\"dense\")\n",
    "display(qc_transpiled.draw(\"mpl\", idle_wires=False))"
   ]
  },
  {
   "cell_type": "markdown",
   "metadata": {},
   "source": [
    "#### Removing barriers\n",
    "\n",
    "We want to remove the barriers (gray dashed lines) from the circuit, which prevents full circuit optimization during transpilation, using `RemoveBarriers`. \n",
    "\n",
    "Here is a demostration. "
   ]
  },
  {
   "cell_type": "code",
   "execution_count": 14,
   "metadata": {},
   "outputs": [
    {
     "data": {
      "image/png": "[encoded data removed]",
      "text/plain": [
       "<Figure size 1014.07x284.278 with 1 Axes>"
      ]
     },
     "metadata": {},
     "output_type": "display_data"
    }
   ],
   "source": [
    "qc_nb = RemoveBarriers()(qc)\n",
    "qc_transpiled_nb = transpile(qc_nb, backend=simulator, layout_method=\"dense\", optimization_level=1)\n",
    "display(qc_transpiled_nb.draw(\"mpl\", idle_wires=False))"
   ]
  },
  {
   "cell_type": "code",
   "execution_count": 15,
   "metadata": {},
   "outputs": [
    {
     "data": {
      "image/png": "[encoded data removed]",
      "text/plain": [
       "<Figure size 763.234x284.278 with 1 Axes>"
      ]
     },
     "metadata": {},
     "output_type": "display_data"
    }
   ],
   "source": [
    "qc_nb = RemoveBarriers()(qc)\n",
    "qc_transpiled_nb = transpile(qc_nb, backend=simulator, layout_method=\"dense\", optimization_level=3)\n",
    "display(qc_transpiled_nb.draw(\"mpl\", idle_wires=False))"
   ]
  },
  {
   "cell_type": "markdown",
   "metadata": {},
   "source": [
    "#### Transpiling the observables\n",
    "\n",
    "We need to apply the layout of the transpiled circuit to the observables as well. The observables should be mapped to the corresponding physical qubits."
   ]
  },
  {
   "cell_type": "code",
   "execution_count": 16,
   "metadata": {},
   "outputs": [],
   "source": [
    "transpiled_obs = observable.apply_layout(qc_transpiled_nb.layout)"
   ]
  },
  {
   "cell_type": "markdown",
   "metadata": {},
   "source": [
    "#### Building the Estimator\n",
    "\n",
    "We import properties of the selected backend for Aer Simulation."
   ]
  },
  {
   "cell_type": "code",
   "execution_count": 17,
   "metadata": {},
   "outputs": [],
   "source": [
    "from qiskit_aer.primitives import EstimatorV2 as AerEstimatorV2\n",
    "\n",
    "# We import properties of the selected backend for Aer Simulation. \n",
    "estimator = AerEstimatorV2().from_backend(simulator)\n",
    "estimator.options.resilience_level = 2\n"
   ]
  },
  {
   "cell_type": "code",
   "execution_count": 18,
   "metadata": {},
   "outputs": [],
   "source": [
    "job = estimator.run([(qc_transpiled_nb, transpiled_obs)])\n",
    "result = job.result()"
   ]
  },
  {
   "cell_type": "code",
   "execution_count": 19,
   "metadata": {},
   "outputs": [
    {
     "name": "stdout",
     "output_type": "stream",
     "text": [
      "PrimitiveResult([PubResult(data=DataBin(evs=np.ndarray(<shape=(), dtype=float64>), stds=np.ndarray(<shape=(), dtype=float64>)), metadata={'target_precision': 0.0, 'circuit_metadata': {}, 'simulator_metadata': {'omp_enabled': True, 'parallel_experiments': 1, 'max_memory_mb': 40132, 'max_gpu_memory_mb': 0, 'time_taken_execute': 0.0004354, 'time_taken_parameter_binding': 2.49e-05}})], metadata={'version': 2})\n"
     ]
    }
   ],
   "source": [
    "print(result)"
   ]
  },
  {
   "cell_type": "markdown",
   "metadata": {},
   "source": [
    "#### Extracting the result"
   ]
  },
  {
   "cell_type": "code",
   "execution_count": 20,
   "metadata": {},
   "outputs": [
    {
     "name": "stdout",
     "output_type": "stream",
     "text": [
      "-0.6123724356957949\n"
     ]
    }
   ],
   "source": [
    "exp_value_list = result[0].data.evs\n",
    "print(exp_value_list)"
   ]
  },
  {
   "cell_type": "markdown",
   "metadata": {},
   "source": [
    "#### Generating the pipline\n",
    "\n",
    "The `eval_circ()` function transpiles and evaluates a circuit using Aer EstimatorV2. It returns the expectation value of Pauli-Z on the ancilla qubit."
   ]
  },
  {
   "cell_type": "code",
   "execution_count": 22,
   "metadata": {},
   "outputs": [],
   "source": [
    "\n",
    "def eval_circ(circ, backend, opt_lv=3, res_lv=2):\n",
    "    \"\"\"This circuit evaluates circ using Aer EstimatorV2 with observable Z for LSB and I for every other qubit.\n",
    "    It is intended to be used on Hadamard test circuits, where LSB is the ancilla.\n",
    "    In that case, it evaluates the expecation value of Pauli-Z for the ancilla.  \n",
    "    \n",
    "    Estimator Options:\n",
    "    resilience level = res_lv\n",
    "    \n",
    "    Transpiler Options:\n",
    "    optimization_level = opt_lv\n",
    "    layout_method = \"dense\"\n",
    "    \n",
    "    Args:\n",
    "        circ (QuantumCircuit): The Hadamard test circuit.\n",
    "        backend (Backend): Backend to run the circuit on.\n",
    "        opt_lv (int, optional): Transpiler optimization level (1 to 3). Defaults to 3.\n",
    "        res_lv (int, optional): Estimator resilience level (0 to 2), which controls error mitigation. Defaults to 2.\n",
    "        \n",
    "    Returns:\n",
    "        float: Expectation value of Pauli-Z on the ancilla (LSB).\n",
    "    \"\"\"\n",
    "    \n",
    "    nqubits = circ.num_qubits - 1\n",
    "    # Remove barriers\n",
    "    circ = RemoveBarriers()(circ)\n",
    "    \n",
    "    # Construct the observables\n",
    "    obs = SparsePauliOp(\"I\"* nqubits + \"Z\")\n",
    "    \n",
    "    # Transpile the circuit and observables\n",
    "    circ_transpiled = transpile(circ, backend=backend, layout_method=\"dense\", optimization_level=opt_lv)\n",
    "    transpiled_obs = obs.apply_layout(circ_transpiled.layout)\n",
    "    \n",
    "    # Building the Estimator using Aer Simulation with backend as the backend. \n",
    "    estimator = AerEstimatorV2().from_backend(backend)\n",
    "    estimator.options.resilience_level = res_lv\n",
    "    \n",
    "    result = estimator.run([(circ_transpiled, transpiled_obs)]).result()\n",
    "    exp_value = result[0].data.evs\n",
    "    return exp_value.item()\n",
    "    "
   ]
  },
  {
   "cell_type": "markdown",
   "metadata": {},
   "source": [
    "#### Testing eval_circ() function. \n",
    "\n",
    "> Negative values are to be expected since we are not calculating the local cost yet, just a single expectation value term."
   ]
  },
  {
   "cell_type": "code",
   "execution_count": null,
   "metadata": {},
   "outputs": [
    {
     "name": "stdout",
     "output_type": "stream",
     "text": [
      "<class 'float'>\n",
      "-0.6123724356957949\n"
     ]
    }
   ],
   "source": [
    "# Testing eval_circ\n",
    "\n",
    "# Building two Hadamard Test circuits with or without the imaginary part.\n",
    "qc = local_hadamard_test(param1, nqubits=2, l=1, j=0, lp=2, lcu = LCU, part=\"re\")\n",
    "qc_im = local_hadamard_test(param1, nqubits=2, l=1, j=0, lp=2, lcu = LCU, part=\"im\")\n",
    "\n",
    "# Ideal backend, real part\n",
    "result_eval_circ_ideal = eval_circ(qc, backend=simulator)\n",
    "print(type(result_eval_circ_ideal))\n",
    "print(result_eval_circ_ideal)"
   ]
  },
  {
   "cell_type": "code",
   "execution_count": 41,
   "metadata": {},
   "outputs": [
    {
     "name": "stdout",
     "output_type": "stream",
     "text": [
      "-0.5973018531064792\n"
     ]
    }
   ],
   "source": [
    "# FakeFez backend, real part\n",
    "result_eval_circ = eval_circ(qc, backend=FakeFez(), opt_lv=3, res_lv=2)\n",
    "print(result_eval_circ)"
   ]
  },
  {
   "cell_type": "code",
   "execution_count": 44,
   "metadata": {},
   "outputs": [
    {
     "name": "stdout",
     "output_type": "stream",
     "text": [
      "0.0003981960548581076\n"
     ]
    }
   ],
   "source": [
    "# FakeFex backend, combining the imaginary part\n",
    "result_eval_circ2 = eval_circ(qc_im, backend=FakeFez(), opt_lv=3, res_lv=2)\n",
    "print(result_eval_circ2)"
   ]
  },
  {
   "cell_type": "markdown",
   "metadata": {},
   "source": [
    "#### Defining local cost function\n",
    "\n",
    "The `local_cost()` function combines every quantum step. It evaluates the local cost, given a set of parameters, $\\alpha$."
   ]
  },
  {
   "cell_type": "code",
   "execution_count": 23,
   "metadata": {},
   "outputs": [],
   "source": [
    "def local_cost(param, nqubits, lcu, backend, Im_part=False, opt_lv=3, res_lv=2): \n",
    "    \"\"\"This function evaluates the Hadamard test for a given parameter and LCU.\n",
    "\n",
    "    Args:\n",
    "        param: float\n",
    "            The parameter for the Hadamard test\n",
    "        lcu: PauliList or SparsePauliOp object\n",
    "            The Pauli decomposition of the matrix A. \n",
    "\n",
    "    Returns:\n",
    "        exp_value_list: list\n",
    "    \"\"\"\n",
    "    L = len(lcu.paulis)\n",
    "    nqubits = lcu.num_qubits\n",
    "    \n",
    "    # Evaluate the denominator\n",
    "    Denominator = 0\n",
    "    # For the real part\n",
    "    for l in range(L):\n",
    "        for lp in range(L):\n",
    "            circ = local_hadamard_test(param, nqubits, l, -1, lp, part = \"Re\", lcu=lcu)\n",
    "            # Multiplying coefficients with the expectation value.\n",
    "            Denominator += (lcu.coeffs[l] * np.conjugate(lcu.coeffs[lp]) * \n",
    "                            eval_circ(circ, backend=backend, opt_lv=opt_lv, res_lv=res_lv))\n",
    "    # Imaginary part\n",
    "    if Im_part:\n",
    "        for l in range(L):\n",
    "            for lp in range(L):\n",
    "                circ = local_hadamard_test(param, nqubits, l, -1, lp, part = \"Im\", lcu=lcu)\n",
    "                # Multiplying coefficients with the expectation value.\n",
    "                Denominator += (lcu.coeffs[l] * np.conjugate(lcu.coeffs[lp]) * \n",
    "                                   eval_circ(circ, backend=backend, opt_lv=opt_lv, res_lv=res_lv)) * 1.0j\n",
    "    \n",
    "    # Evaluate the Numerator\n",
    "    Numerator = 0\n",
    "    for l in range(L):\n",
    "        for lp in range(L):\n",
    "            for j in range(nqubits): # j is from 0 to nqubits-1\n",
    "                circ = local_hadamard_test(param, nqubits, l, j, lp, part = \"Re\", lcu=lcu)\n",
    "                # Multiplying coefficients with the expectation value.\n",
    "                Numerator += (lcu.coeffs[l] * np.conjugate(lcu.coeffs[lp]) * \n",
    "                                eval_circ(circ, backend, opt_lv, res_lv))\n",
    "    # Imaginary part\n",
    "    if Im_part:\n",
    "        for l in range(L):\n",
    "            for lp in range(L):\n",
    "                for j in range(nqubits):\n",
    "                    circ = local_hadamard_test(param, nqubits, l, j, lp, part = \"Im\", lcu=lcu)\n",
    "                    # Multiplying coefficients with the expectation value.\n",
    "                    Numerator += (lcu.coeffs[l] * np.conjugate(lcu.coeffs[lp]) * \n",
    "                                    eval_circ(circ, backend, opt_lv, res_lv)) * 1.0j\n",
    "    \n",
    "    # The final result\n",
    "    local_cost = 1/2 - ( 1/(2*nqubits) * (Numerator / Denominator))\n",
    "    return abs(local_cost)"
   ]
  },
  {
   "cell_type": "code",
   "execution_count": null,
   "metadata": {},
   "outputs": [
    {
     "name": "stdout",
     "output_type": "stream",
     "text": [
      "Ideal simulation result:\n",
      "0.5594881973370138\n"
     ]
    }
   ],
   "source": [
    "# Testing local_cost() function\n",
    "\n",
    "param3 = [pi/6, pi/2, pi/2, pi/6]\n",
    "\n",
    "# Ideal simulator, real part only.\n",
    "result_local_cost = local_cost(param3, nqubits = 2, lcu = LCU, backend=simulator, Im_part=True)\n",
    "print(\"Ideal simulation result:\")\n",
    "print(result_local_cost)"
   ]
  },
  {
   "cell_type": "code",
   "execution_count": null,
   "metadata": {},
   "outputs": [
    {
     "name": "stdout",
     "output_type": "stream",
     "text": [
      "0.5555210846218074\n"
     ]
    }
   ],
   "source": [
    "# FakeFez, with imaginary part. \n",
    "result_local_cost2 = local_cost(param3, nqubits=2, lcu=LCU, backend=FakeFez(), Im_part=True)\n",
    "print(result_local_cost2)"
   ]
  },
  {
   "cell_type": "code",
   "execution_count": 35,
   "metadata": {},
   "outputs": [
    {
     "name": "stdout",
     "output_type": "stream",
     "text": [
      "0.5531358364262174\n"
     ]
    }
   ],
   "source": [
    "# FakeFez, real part only.\n",
    "result_local_cost3 = local_cost(param3, nqubits=2, lcu=LCU, backend=FakeFez(), Im_part=False)\n",
    "print(result_local_cost3)"
   ]
  },
  {
   "cell_type": "markdown",
   "metadata": {},
   "source": [
    "### Classical Optimization\n",
    "\n",
    "We use scipy's `minimize` function to find the optimal parameters.\n",
    "\n",
    "We define a CostTracker object to track the local cost at each iteration. "
   ]
  },
  {
   "cell_type": "code",
   "execution_count": 55,
   "metadata": {},
   "outputs": [],
   "source": [
    "from scipy.optimize import minimize\n",
    "\n",
    "class CostTracker:\n",
    "    # Initializes the CostTracker object.\n",
    "    # We initialize with a cost function, e.g., local_cost(),\n",
    "    # combined with all necessary configuration of the cost function, except param. \n",
    "    def __init__(self, cost_fn, *args, **kwargs):\n",
    "        self.cost_fn = cost_fn\n",
    "        # Positional arguments to be passed to cost_fn (e.g., nqubits, lcu, backend).\n",
    "        self.args = args\n",
    "        # Keyword arguments to be passed to cost_fn (e.g., Im_part=True, opt_lv=2).\n",
    "        self.kwargs = kwargs\n",
    "        self.latest_cost = None\n",
    "\n",
    "    # Allows the CostTracker object to be called like a function.\n",
    "    # It takes only one argument (representing the ansatz parameters), as required by minimize().\n",
    "    # Return the cost value.  \n",
    "    def __call__(self, param):\n",
    "        # Evaluate the cost function with the given parameters and args/kwargs stored when initializing the object. \n",
    "        cost = self.cost_fn(param, *self.args, **self.kwargs)\n",
    "        self.latest_cost = cost\n",
    "        return cost\n",
    "\n",
    "    def callback(self, xk):\n",
    "        print(f\"Step: params = {xk}, cost = {self.latest_cost}\")"
   ]
  },
  {
   "cell_type": "code",
   "execution_count": 26,
   "metadata": {},
   "outputs": [],
   "source": [
    "# Testing optimization loop with 2 iterations. \n",
    "\n",
    "tracked_cost = CostTracker(local_cost, 2, LCU, simulator)"
   ]
  },
  {
   "cell_type": "code",
   "execution_count": null,
   "metadata": {},
   "outputs": [
    {
     "name": "stdout",
     "output_type": "stream",
     "text": [
      "Step: params = [1.52359878 1.57079633 1.57079633 0.52359878], cost = 0.5594881973370138\n",
      "Step: params = [1.52359878 2.57079633 1.57079633 0.52359878], cost = 0.5377362521169787\n",
      "Step: params = [1.52359878 1.57079633 1.57079633 0.52359878], cost = 0.5377362521169787\n",
      " message: Maximum number of function evaluations has been exceeded.\n",
      " success: False\n",
      "  status: 2\n",
      "     fun: 0.5377362521169787\n",
      "       x: [ 1.524e+00  1.571e+00  1.571e+00  5.236e-01]\n",
      "    nfev: 2\n",
      "   maxcv: 0.0\n"
     ]
    }
   ],
   "source": [
    "# Perform 2 iterations using minimize\n",
    "result = minimize(tracked_cost, x0=param3, method=\"COBYLA\", options={'maxiter': 2}, callback=tracked_cost.callback)\n",
    "print(result)\n",
    "x_1 = result.x"
   ]
  },
  {
   "cell_type": "markdown",
   "metadata": {},
   "source": [
    "Defining a callback function to print the progress of the optimization."
   ]
  },
  {
   "cell_type": "code",
   "execution_count": 73,
   "metadata": {},
   "outputs": [
    {
     "name": "stdout",
     "output_type": "stream",
     "text": [
      "Step: params = [1.52359878 1.57079633 1.57079633 0.52359878], cost = 0.5594881973370138\n",
      "Step: params = [1.52359878 2.57079633 1.57079633 0.52359878], cost = 0.5377362521169787\n",
      "Step: params = [1.52359878 2.57079633 2.57079633 0.52359878], cost = 0.4987675781085687\n",
      "Step: params = [1.52359878 2.57079633 1.57079633 1.52359878], cost = 0.505559892975801\n",
      "Step: params = [ 1.92740018  3.29420774  1.44470433 -0.02203953], cost = 0.528159983373574\n",
      "Step: params = [1.02498896 2.60025898 1.56566093 0.50137635], cost = 0.719983853418278\n",
      "Step: params = [0.92814064 2.78250906 1.53389439 0.36391291], cost = 0.4866061490545586\n",
      "Step: params = [1.02498896 2.52498735 1.56566093 0.40158065], cost = 0.4944165905671424\n",
      "Step: params = [0.90768225 2.31077408 1.53699529 0.44663717], cost = 0.4838509602658574\n",
      "Step: params = [1.05234346 2.17629005 1.3841967  0.4348148 ], cost = 0.48002728409454526\n",
      "Step: params = [1.14703341 2.00182781 1.53481396 0.41453721], cost = 0.47741202146270934\n",
      "Step: params = [0.92127203 2.21372587 1.19535593 0.34394125], cost = 0.4974854264255543\n",
      "Step: params = [0.81120154 2.22692935 1.07019594 0.15807803], cost = 0.4373880763442432\n",
      "Step: params = [ 0.77302924  2.18480308  1.07981324 -0.08518265], cost = 0.35696425273847954\n",
      "Step: params = [ 0.67615432  2.17987024  1.05982313 -0.31472853], cost = 0.27107595518386973\n",
      "Step: params = [ 0.45503831  2.28742221  1.06825384 -0.35910425], cost = 0.09153631707197052\n",
      "Step: params = [ 0.61967765  2.07253598  1.07740365 -0.29011821], cost = 0.23092689276566114\n",
      "Step: params = [ 0.80396165  2.15980136  1.17056799 -0.4977534 ], cost = 0.14126448359539867\n",
      "Step: params = [ 0.70165668  2.14808119  0.81660169 -0.35574584], cost = 0.3246111898261603\n",
      "Step: params = [ 0.71660628  2.21667731  1.05410945 -0.20247332], cost = 0.13820392977507234\n",
      "Step: params = [ 0.68164987  2.17119582  0.99946272 -0.32727541], cost = 0.16856158805273952\n",
      "Step: params = [ 0.71730532  2.16185883  0.97778878 -0.37286049], cost = 0.0488742771544774\n",
      "Step: params = [ 0.68798708  2.18718028  0.94276066 -0.40719044], cost = 0.028327579374058776\n",
      "Step: params = [ 0.70376755  2.21222818  0.93869687 -0.39804564], cost = 0.026076881588232348\n",
      "Step: params = [ 0.70472364  2.15544075  0.89232835 -0.39851166], cost = 0.029262278721626844\n",
      "Step: params = [ 0.70312178  2.18804321  0.97448215 -0.45886435], cost = 0.04309949642888661\n",
      "Step: params = [ 0.69762603  2.19388168  1.01694606 -0.50401715], cost = 0.004261365033162046\n",
      "Step: params = [ 0.72325024  2.17480411  0.95902641 -0.47140445], cost = 0.01771103257759049\n",
      "Step: params = [ 0.71896757  2.18494476  0.95009266 -0.47797369], cost = 0.003495732653480077\n",
      "Step: params = [ 0.74096344  2.20539285  0.95524316 -0.47103884], cost = 0.0004688464668507475\n",
      "Step: params = [ 0.71836326  2.18394093  0.94031973 -0.46583871], cost = 0.007946119720963207\n",
      "Step: params = [ 0.69888247  2.18161295  0.93912374 -0.49899113], cost = 0.0018585937603760039\n",
      "Step: params = [ 0.72577438  2.17134926  0.95366502 -0.47751679], cost = 0.010292954280265665\n",
      "Step: params = [ 0.71027383  2.18553751  0.96089074 -0.4707897 ], cost = 0.00304467770605088\n",
      "Step: params = [ 0.72390505  2.19072256  0.95185033 -0.47754466], cost = 0.0016365394558713886\n",
      "Step: params = [ 0.71573988  2.18854348  0.94754606 -0.4835577 ], cost = 0.0005317491314641987\n",
      "Step: params = [ 0.72122746  2.18266658  0.9509096  -0.48004593], cost = 0.0007278048141929894\n",
      "Step: params = [ 0.71973021  2.18481096  0.94832167 -0.47769307], cost = 0.0005394839712500876\n",
      "Step: params = [ 0.71983426  2.18383859  0.94733465 -0.47404228], cost = 0.0004332738705165595\n",
      "Step: params = [ 0.7189847   2.18558654  0.94722598 -0.47890008], cost = 0.0005923694673136137\n",
      "Step: params = [ 0.72005845  2.18568698  0.94843727 -0.47743785], cost = 0.0004702034183197701\n",
      "Step: params = [ 0.7218513   2.18597247  0.94873251 -0.47809491], cost = 0.00039294429338748715\n",
      "Step: params = [ 0.72361668  2.18673257  0.94882051 -0.47775929], cost = 0.00029709397371263657\n",
      "Step: params = [ 0.72356117  2.18724557  0.94853513 -0.47853775], cost = 0.0002959702920995455\n",
      "Step: params = [ 0.72348811  2.18751613  0.94936605 -0.47896751], cost = 0.0002473750502927641\n",
      "Step: params = [ 0.72376561  2.18688289  0.94853927 -0.47879284], cost = 0.0002728039714209318\n",
      "Step: params = [ 0.72354642  2.18758724  0.94772985 -0.47897162], cost = 0.00024865471611595913\n",
      "Step: params = [ 0.72368029  2.18793259  0.9468774  -0.47927131], cost = 0.0001995539325472806\n",
      "Step: params = [ 0.72391745  2.18837652  0.94654708 -0.47850239], cost = 0.000169862500968454\n",
      "Step: params = [ 0.72340618  2.187635    0.94665697 -0.47910965], cost = 0.00018962939313965643\n",
      "Step: params = [ 0.72318886  2.18848466  0.94672075 -0.47989005], cost = 0.00017622289018121018\n",
      "Step: params = [ 0.72371012  2.18830861  0.94633029 -0.4805961 ], cost = 0.00016210111429793006\n",
      "Step: params = [ 0.72417549  2.18814053  0.94617137 -0.4814229 ], cost = 0.0001289584923791498\n",
      "Step: params = [ 0.72446828  2.18811464  0.9460677  -0.48234839], cost = 9.952730852014202e-05\n",
      "Step: params = [ 0.72394481  2.18866211  0.94602428 -0.48296324], cost = 7.588587258400281e-05\n",
      "Step: params = [ 0.72423948  2.18903247  0.94612027 -0.48289113], cost = 7.2242221947183e-05\n",
      "Step: params = [ 0.72459087  2.18905528  0.94527832 -0.48323869], cost = 7.195987745733934e-05\n",
      "Step: params = [ 0.72506533  2.18884443  0.94536489 -0.48406125], cost = 6.207507260180822e-05\n",
      "Step: params = [ 0.72553998  2.18865231  0.94539897 -0.4848921 ], cost = 3.979897760880702e-05\n",
      "Step: params = [ 0.72591475  2.18868074  0.94465641 -0.48540299], cost = 2.7232821042610933e-05\n",
      "Step: params = [ 0.72662607  2.18928075  0.94468874 -0.48569733], cost = 1.622403680834328e-05\n",
      "Step: params = [ 0.72558806  2.18894588  0.94467182 -0.48565029], cost = 2.495718027734073e-05\n",
      "Step: params = [ 0.72579125  2.18795972  0.94432349 -0.48595771], cost = 1.666954446610802e-05\n",
      "Step: params = [ 0.72553021  2.18785163  0.94342145 -0.48571241], cost = 9.4143978366934e-06\n",
      "Step: params = [ 0.72560471  2.18740879  0.94507642 -0.48617784], cost = 2.400251778172935e-05\n",
      "Step: params = [ 0.72613813  2.18807175  0.94428427 -0.4862802 ], cost = 1.7881614418402414e-05\n",
      "Step: params = [ 0.72628003  2.18804792  0.94385218 -0.48645631], cost = 6.0182752832926845e-06\n",
      "Step: params = [ 0.72648033  2.187842    0.94383033 -0.48685054], cost = 3.8334857545008205e-06\n",
      "Step: params = [ 0.7269124   2.18771988  0.94378722 -0.48666356], cost = 2.1298637725708502e-06\n",
      "Step: params = [ 0.72657303  2.18805321  0.94387592 -0.48691629], cost = 4.289614422670063e-06\n",
      "Step: params = [ 0.72641083  2.18812549  0.94364537 -0.48730838], cost = 1.8945977295903305e-06\n",
      "Step: params = [ 0.72628382  2.18807229  0.94400876 -0.48760403], cost = 1.009609886803986e-06\n",
      "Step: params = [ 0.72643611  2.18803578  0.94394411 -0.48777981], cost = 8.360576981836232e-07\n",
      "Step: params = [ 0.72636224  2.18816988  0.94385818 -0.48794946], cost = 6.784929700298648e-07\n",
      "Step: params = [ 0.72626224  2.18824247  0.9437501  -0.48813016], cost = 2.477221838770305e-07\n",
      "Step: params = [ 0.72633792  2.18815267  0.94396254 -0.48800533], cost = 8.729935144224932e-07\n",
      "Step: params = [ 0.72648713  2.1883681   0.94392008 -0.48791976], cost = 3.4909787299808315e-07\n",
      "Step: params = [ 0.72647886  2.18843202  0.94385659 -0.48796235], cost = 1.2078431665951683e-07\n",
      "Step: params = [ 0.72656682  2.18841286  0.94382481 -0.48799211], cost = 8.175015736577862e-08\n",
      "Step: params = [ 0.72648272  2.18843216  0.94382857 -0.48792112], cost = 1.2286337131017788e-07\n",
      "Step: params = [ 0.72645061  2.18850543  0.94390166 -0.48800456], cost = 1.1310547126663906e-07\n",
      "Step: params = [ 0.72642135  2.18837651  0.94381833 -0.48800867], cost = 1.469348858140762e-07\n",
      "Step: params = [ 0.72642135  2.18837651  0.94381833 -0.48800867], cost = 7.014033165386735e-08\n",
      " message: Optimization terminated successfully.\n",
      " success: True\n",
      "  status: 1\n",
      "     fun: 7.014033165386735e-08\n",
      "       x: [ 7.264e-01  2.188e+00  9.438e-01 -4.880e-01]\n",
      "    nfev: 83\n",
      "   maxcv: 0.0\n"
     ]
    }
   ],
   "source": [
    "# Optimization run\n",
    "\n",
    "# Initial condition\n",
    "param3 = [pi/6, pi/2, pi/2, pi/6]\n",
    "\n",
    "result2 = minimize(tracked_cost, x0=param3, method=\"COBYLA\", options={'maxiter': 400}, callback=tracked_cost.callback)\n",
    "print(result2)\n",
    "x_2 = result2.x"
   ]
  },
  {
   "cell_type": "markdown",
   "metadata": {},
   "source": [
    "### Verifying the output"
   ]
  },
  {
   "cell_type": "code",
   "execution_count": 74,
   "metadata": {},
   "outputs": [
    {
     "name": "stdout",
     "output_type": "stream",
     "text": [
      "The output parameters are: [ 0.72642135  2.18837651  0.94381833 -0.48800867]\n"
     ]
    }
   ],
   "source": [
    "# The optimized parameters obtained from the optimization loop are inserted directly.\n",
    "output_parameter = result2.x\n",
    "\n",
    "# Normally, we extract the result directly from minimize().\n",
    "# output_parameter = result2.x\n",
    "\n",
    "print(\"The output parameters are:\", output_parameter)"
   ]
  },
  {
   "cell_type": "markdown",
   "metadata": {},
   "source": [
    "### Post Processing\n",
    "\n",
    "Extract final solution and compare it with the real solution. \n",
    "\n",
    "First, we need to extract the solution from the anzatz circuit using output parameters. \n",
    "\n",
    "This involves quantum state readout. However, we can perform this step classically so long as the ansatz circuit can be efficiently simulated. \n",
    "\n",
    "We use Aer Simulater to simulate the ansatz to obtain the hidden quantum statevector. "
   ]
  },
  {
   "cell_type": "code",
   "execution_count": null,
   "metadata": {},
   "outputs": [],
   "source": [
    "# Defining a function that return the ideal statevector obtained from the ansatz using parameters as input. \n",
    "# We use Aer Simulator for this procedure. \n",
    "def evaluate_ansatz(param, rot_gates=\"Ry\", ent_gates = \"CX\"):\n",
    "    \"\"\"Using Aer Simulater, evaluate the ansatz circuit and return the statevector before readout.\n",
    "\n",
    "    Args:\n",
    "        param (array): Parameters for the ansatz.\n",
    "        rot_gates (str, optional): Rotational gates used by the ansatz generator. Defaults to \"Ry\".\n",
    "        ent_gates (str, optional): Entangling gates used by the ansatz generator. Defaults to \"CX\".\n",
    "\n",
    "    Returns:\n",
    "        Statevector: The ideal quantum statevector before state readout. \n",
    "    \"\"\"\n",
    "    circ = fixed_ansatz(param, nqubits=nqubits, rot_gates=rot_gates, ent_gates=ent_gates)\n",
    "    circ.save_statevector() # To tell Aer simulator to save the statevector.\n",
    "    \n",
    "    simulator = AerSimulator()  # Set up the simulator\n",
    "    \n",
    "    circ = transpile(circ, simulator) # transpile the circuit\n",
    "    \n",
    "    result = simulator.run(circ).result() # Obtain the result\n",
    "    \n",
    "    statevector = result.get_statevector() # Get the statevector\n",
    "    \n",
    "    return statevector"
   ]
  },
  {
   "cell_type": "code",
   "execution_count": 75,
   "metadata": {},
   "outputs": [
    {
     "name": "stdout",
     "output_type": "stream",
     "text": [
      "Statevector before readout:\n"
     ]
    },
    {
     "data": {
      "text/latex": [
       "$$\n",
       "\n",
       "\\begin{bmatrix}\n",
       "0.3922273745 & 0.5883125476 & 0.5883834795 & 0.3922383383  \\\\\n",
       " \\end{bmatrix}\n",
       "$$"
      ],
      "text/plain": [
       "<IPython.core.display.Latex object>"
      ]
     },
     "metadata": {},
     "output_type": "display_data"
    }
   ],
   "source": [
    "statevector = evaluate_ansatz(output_parameter, rot_gates=\"Ry\", ent_gates = \"CX\")\n",
    "\n",
    "print(\"Statevector before readout:\")\n",
    "display(array_to_latex(statevector))"
   ]
  },
  {
   "cell_type": "code",
   "execution_count": 76,
   "metadata": {},
   "outputs": [
    {
     "name": "stdout",
     "output_type": "stream",
     "text": [
      "Readout results: [0.15384231 0.34611165 0.34619512 0.15385091]\n"
     ]
    }
   ],
   "source": [
    "# To readout the probabilites.\n",
    "x_readout = statevector.probabilities()\n",
    "print(\"Readout results:\", x_readout)"
   ]
  },
  {
   "cell_type": "code",
   "execution_count": 80,
   "metadata": {},
   "outputs": [
    {
     "name": "stdout",
     "output_type": "stream",
     "text": [
      "[0.1961422 +0.j 0.19601424+0.j 0.19621607+0.j 0.1960932 +0.j]\n"
     ]
    }
   ],
   "source": [
    "# Multiplying A with the statevector obtained from the ansatz.\n",
    "print(np.matmul(A, np.array(statevector)))\n",
    "\n",
    "# print(f\"Obtained result: \\n{np.matmul(A, np.array(statevector).real)}\")\n",
    "# ketb = np.array((1/np.sqrt(2)) * np.array([1, 1, 1, 1]))\n",
    "# print(f\"Normalized target vector, b: \\n{ketb}\")"
   ]
  },
  {
   "cell_type": "code",
   "execution_count": 78,
   "metadata": {},
   "outputs": [
    {
     "name": "stdout",
     "output_type": "stream",
     "text": [
      "[-0.5  0.5  0.5 -0.5] \n",
      "\n"
     ]
    }
   ],
   "source": [
    "qstate_readout = np.array([0, 0.5, 0.5, 0])\n",
    "print(np.matmul(A, np.array(qstate_readout)), \"\\n\")\n",
    "\n",
    "# print(f\"Obtained result: \\n{np.matmul(A, np.array(statevector).real)}\")\n",
    "# ketb = np.array((1/np.sqrt(2)) * np.array([1, 1, 1, 1]))\n",
    "# print(f\"Normalized target vector, b: \\n{ketb}\")"
   ]
  },
  {
   "cell_type": "markdown",
   "metadata": {},
   "source": [
    "## 4. Acknowledgements\n",
    "\n",
    "This implementation is based on the work presented in the research paper [5] by Carlos Bravo-Prieto, Ryan LaRose, M. Cerezo, Yiğit Subaşı, Lukasz Cincio, and Patrick J. Coles."
   ]
  }
 ],
 "metadata": {
  "kernelspec": {
   "display_name": ".venv",
   "language": "python",
   "name": "python3"
  },
  "language_info": {
   "codemirror_mode": {
    "name": "ipython",
    "version": 3
   },
   "file_extension": ".py",
   "mimetype": "text/x-python",
   "name": "python",
   "nbconvert_exporter": "python",
   "pygments_lexer": "ipython3",
   "version": "3.11.2"
  }
 },
 "nbformat": 4,
 "nbformat_minor": 2
}
