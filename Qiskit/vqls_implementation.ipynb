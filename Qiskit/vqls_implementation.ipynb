{
 "cells": [
  {
   "cell_type": "markdown",
   "metadata": {
    "tags": [
     "remove_cell"
    ]
   },
   "source": [
    "# The Variational Quantum Linear Solver"
   ]
  },
  {
   "cell_type": "markdown",
   "metadata": {},
   "source": [
    "#### Editor's note:\n",
    "\n",
    "Consulted Pennylane tutorial on VQLS, found [here](https://pennylane.ai/qml/demos/tutorial_vqls).\n",
    "\n",
    "Qiskit version: `2.0.0`"
   ]
  },
  {
   "cell_type": "code",
   "execution_count": 3,
   "metadata": {},
   "outputs": [
    {
     "name": "stdout",
     "output_type": "stream",
     "text": [
      "Note: you may need to restart the kernel to use updated packages.\n"
     ]
    },
    {
     "name": "stderr",
     "output_type": "stream",
     "text": [
      "WARNING: Retrying (Retry(total=4, connect=None, read=None, redirect=None, status=None)) after connection broken by 'ReadTimeoutError(\"HTTPSConnectionPool(host='pypi.org', port=443): Read timed out. (read timeout=15)\")': /simple/matplotlib/\n"
     ]
    }
   ],
   "source": [
    "%pip install --upgrade -r requirements.txt -q"
   ]
  },
  {
   "cell_type": "markdown",
   "metadata": {},
   "source": [
    "### Importing libraries"
   ]
  },
  {
   "cell_type": "code",
   "execution_count": 54,
   "metadata": {},
   "outputs": [
    {
     "name": "stdout",
     "output_type": "stream",
     "text": [
      "Qiskit version: 2.0.0\n"
     ]
    }
   ],
   "source": [
    "from IPython.display import display\n",
    "\n",
    "import qiskit as qk\n",
    "from qiskit import QuantumCircuit, QuantumRegister, ClassicalRegister\n",
    "from qiskit import transpile\n",
    "from qiskit.circuit.library import UGate\n",
    "from qiskit.exceptions import QiskitError\n",
    "from qiskit_ibm_runtime import QiskitRuntimeService, EstimatorV2, EstimatorOptions\n",
    "from qiskit.quantum_info import Statevector, Operator, PauliList, Operator, SparsePauliOp, Pauli\n",
    "from qiskit.transpiler.passes import RemoveBarriers\n",
    "from qiskit.visualization import array_to_latex, plot_histogram\n",
    "\n",
    "import math\n",
    "import random\n",
    "import numpy as np\n",
    "from numpy import pi\n",
    "from numpy import array, sqrt\n",
    "\n",
    "from scipy.optimize import minimize\n",
    "import matplotlib.pyplot as plt\n",
    "\n",
    "import tqdm\n",
    "\n",
    "# For high-performance simulation\n",
    "from qiskit_aer import AerSimulator\n",
    "from qiskit_aer.primitives import EstimatorV2 as AerEstimatorV2\n",
    "\n",
    "print(f\"Qiskit version: {qk.__version__}\")"
   ]
  },
  {
   "cell_type": "markdown",
   "metadata": {},
   "source": [
    "## 1. Introduction\n",
    "\n",
    "The Variational Quantum Linear Solver (VQLS) is a kind of variational quantum algorithm (VQA) that solves systems of linear equations. \n",
    "\n",
    "Given a matrix $A$, such that $A |x\\rangle \\ = \\ |b\\rangle$, where $|b\\rangle$ is some known vector, the VQLS algorithm finds a normalized $|x\\rangle$ that is proportional to $|x\\rangle$, which makes the above equation true.\n",
    "\n"
   ]
  },
  {
   "cell_type": "markdown",
   "metadata": {},
   "source": [
    "## 2. The Algorithm\n",
    "\n",
    "We start off with a qubit register, with each qubit initialized to $|0\\rangle$. \n",
    "\n",
    "First, we prepare a candidate solution, $|x(\\alpha)\\rangle$ conditioned on a set of parameters $\\alpha$. This is done using an ansatz $V(\\alpha)$, where $|x(\\alpha)\\rangle = V(\\alpha) |0\\rangle$. Next, prepare $|b\\rangle = U|0\\rangle$ for some unitary $U$.\n",
    "\n",
    "Second, we design a quantum circuit to compute a cost, $C(\\alpha)$, that captures the idea of the difference between $| x(\\alpha) \\rangle$ and the real solution, $|x_0\\rangle$, to $A {|x\\rangle} = {|b\\rangle}$.\n",
    "\n",
    "If the cost is greater than some parameter $\\gamma$, the algorithm is run again with updated parameters, and if not, the algorithm terminates.\n",
    "\n",
    "Next, using classical methods, we find a new parameter, $\\alpha$, that reduces $C(\\alpha)$.\n",
    "\n",
    "We repeat this process until $C(\\alpha)$ falls within a reasonable limit, at which point we settle with $|x(\\alpha)\\rangle$ as the final solution.\n",
    "\n",
    "![alt text](images/bro.png)"
   ]
  },
  {
   "cell_type": "markdown",
   "metadata": {},
   "source": [
    "### Cost Function\n",
    "\n",
    "Several cost functions are proposed:\n",
    "\n",
    "1. $C_G$\n",
    "\n",
    "$$C_G = 1 - | \\langle b| \\frac{|\\psi\\rangle}{\\|\\psi\\|} \\rangle |^2$$\n",
    "\n",
    "$$C_G = 1 - \\frac{ \\langle x | A^\\dagger U | 0 \\rangle \\langle 0 | U^\\dagger A | x \\rangle }{\\langle x | A^\\dagger A | x \\rangle}$$\n",
    "\n",
    "We project $|\\psi\\rangle = A |x(\\alpha)\\rangle$ onto the subspace orthogonal to $|b\\rangle$.\n",
    "$C_G(\\alpha)$ equals the norm squared of the projection.\n",
    "\n",
    "Note that $|\\psi\\rangle$ is not normalized, so we need to normalize it before computing the projection.\n",
    "\n",
    "As the number of qubits increases, the gradient of $C_G$ vanishes so we introduce the local cost function.\n",
    "\n",
    "<br>\n",
    "\n",
    "2. $C_L$, a local version of $C_G$.\n",
    "\n",
    "First, let us define\n",
    "\n",
    "$$P_1 = \\left( \\mathbb{1} - \\frac{1}{n} \\sum_{j=1}^{n} |0_j \\rangle \\langle 0_{j} | \\otimes \\mathbb{1}_{\\bar{j}} \\right)$$\n",
    "\n",
    "where $\\mathbb{1}_{\\bar{j}}$ is the identity on all qubits except the j-th qubit.\n",
    "\n",
    "Also,\n",
    "\n",
    "$$P_0 = \\frac{1}{2} + \\frac{1}{2n} \\sum_{j=1}^{n} Z_j$$\n",
    "\n",
    "where $Z_j$ is the Pauli-Z operator on the j-th qubit and identity on every other qubit.\n",
    "\n",
    "When multipled by a standard-basis vector, $P_0$ counts the number of 0's in the vector, and $P_1$ counts the number of 1's. For example, if $|a \\rangle$ is a standard basis vector having $m$ 1's and $n$ qubits, then $P_1 |a\\rangle = \\frac{m}{n} |a\\rangle$, and $P_0 |a\\rangle = \\frac{n-m}{n} |a\\rangle$.\n",
    "\n",
    "Notice that\n",
    "\n",
    "$$P_1 = \\mathbb{1} - P_0 $$\n",
    "\n",
    "Therefore,\n",
    "\n",
    "$$C_L = \\frac{\\hat{C}_L} {\\| \\psi\\|^2} = \\frac{\\langle x | H_L | x \\rangle} {\\| \\psi\\|^2}$$\n",
    "\n",
    "$$ = \\frac{\\langle x | A^\\dagger U P_1 U^\\dagger A | x \\rangle} {\\langle x | A^\\dagger A | x \\rangle}$$\n",
    "\n",
    "$$ = \\frac{\\langle x | A^\\dagger U P_1 U^\\dagger A | x \\rangle} {\\langle x | A^\\dagger U \\mathbb{1} U^\\dagger A | x \\rangle}$$\n",
    "\n",
    "$$ = \\frac{\\langle x | A^\\dagger U \\mathbb{1} U^\\dagger A | x \\rangle - \\langle x | A^\\dagger U P_0 U^\\dagger A | x \\rangle} {\\langle x | A^\\dagger U \\mathbb{1} U^\\dagger A | x \\rangle}$$\n",
    "\n",
    "$$ = 1 - \\frac{\\langle x | A^\\dagger U P_0 U^\\dagger A | x \\rangle} {\\langle x | A^\\dagger A | x \\rangle}$$\n",
    "\n",
    "We can see the $C_G$ and $C_L$ differes by the middle term: $|0\\rangle \\langle 0|$ in $C_G$ compared to $P_0$ in $C_L$.\n",
    "\n",
    "$$ = \\frac{1}{2} - \\frac{1}{2n} \\frac{\\sum_{j=1}^{n}\\langle x | A^\\dagger U Z_j U^\\dagger A | x \\rangle} {\\langle x | A^\\dagger A | x \\rangle}$$\n",
    "\n",
    "$$ = \\frac{1}{2} - \\frac{1}{2n} \\frac{\\sum_{j=1}^{n}\\langle 0|V^\\dagger A^\\dagger U Z_j U^\\dagger A V|0 \\rangle} {\\langle 0|V^\\dagger A^\\dagger A  V|0 \\rangle}$$\n",
    "\n",
    "\n",
    "Since controlled-Z gate is native to IBM Heron processor, we can directly implement Controlled-$Z_j$ gates to improve efficiency of the algorithm for IBM Heron processors.\n",
    "\n",
    "Since\n",
    "\n",
    "$$A = \\sum_{l=1}^{L} c_lA_l$$\n",
    "where $c_l \\in \\mathbb{C}$, we can expand $A$ to obtain\n",
    "\n",
    "$$ C_L = \\frac{1}{2} - \\frac{1}{2n} \\frac{\\sum_{j=1}^{n} \\sum_{l=1}^{L} \\sum_{l'=1}^{L} c_lc_{l'}^*\\langle 0|V^\\dagger A_{l'}^\\dagger U Z_j U^\\dagger A_l V|0 \\rangle} {\\sum_{l=1}^{L} \\sum_{l'=1}^{L} c_lc_{l'}^* \\langle 0|V^\\dagger A_{l'}^\\dagger A_l  V|0 \\rangle}$$\n"
   ]
  },
  {
   "cell_type": "markdown",
   "metadata": {},
   "source": [
    "## 3. Building Quantum Circuit with Qiskit\n",
    "\n"
   ]
  },
  {
   "cell_type": "markdown",
   "metadata": {},
   "source": [
    "### Consider an Example\n",
    "\n",
    "Let us construct a 4x4 tridiagonal matrix, $A$. We generate a random vector $|x_0\\rangle$ and obtain $|b\\rangle$ from the equation $A |x_0\\rangle =|b\\rangle$. \n",
    "\n",
    "We apply VQLS, using $A$ and $|b\\rangle$ as inputs, to solve for $|x\\rangle$ in $A |x\\rangle =|b\\rangle$. We then compare our solution with the real solution $|x_0\\rangle$."
   ]
  },
  {
   "cell_type": "code",
   "execution_count": 55,
   "metadata": {},
   "outputs": [
    {
     "name": "stdout",
     "output_type": "stream",
     "text": [
      "Define the matrix, A, to be the following:\n"
     ]
    },
    {
     "data": {
      "text/latex": [
       "$$\n",
       "\n",
       "\\begin{bmatrix}\n",
       "2 & -1 & 0 & 0  \\\\\n",
       " -1 & 2 & -1 & 0  \\\\\n",
       " 0 & -1 & 2 & -1  \\\\\n",
       " 0 & 0 & -1 & 2  \\\\\n",
       " \\end{bmatrix}\n",
       "$$"
      ],
      "text/plain": [
       "<IPython.core.display.Latex object>"
      ]
     },
     "metadata": {},
     "output_type": "display_data"
    }
   ],
   "source": [
    "A = np.array([[2,-1,0,0],\n",
    "            [-1,2,-1,0],\n",
    "            [0,-1,2,-1],\n",
    "            [0,0,-1,2]])\n",
    "\n",
    "print(\"Define the matrix, A, to be the following:\")\n",
    "display(array_to_latex(A))"
   ]
  },
  {
   "cell_type": "markdown",
   "metadata": {},
   "source": [
    "### Decomposing A into LCU\n",
    "\n",
    "We decompose $A$ into a Linear Combination of Pauli Strings (LCU). This is done by writing $A$ as a sum of Pauli operators, each multiplied by a coefficient."
   ]
  },
  {
   "cell_type": "code",
   "execution_count": 56,
   "metadata": {},
   "outputs": [
    {
     "name": "stdout",
     "output_type": "stream",
     "text": [
      "SparsePauliOp(['II', 'IX', 'XX', 'YY'],\n",
      "              coeffs=[ 2. +0.j, -1. +0.j, -0.5+0.j, -0.5+0.j])\n",
      "\n",
      "The Pauli strings are:\n",
      "['II', 'IX', 'XX', 'YY']\n",
      "\n",
      "The coefficients are:\n",
      "[ 2. +0.j -1. +0.j -0.5+0.j -0.5+0.j]\n",
      "\n",
      "The number of qubits is 2.\n"
     ]
    }
   ],
   "source": [
    "# Apply SparsePauliOp()\n",
    "LCU = SparsePauliOp.from_operator(A)\n",
    "print(LCU, end=\"\\n\\n\")\n",
    "\n",
    "print(\"The Pauli strings are:\")\n",
    "print(LCU.paulis, end=\"\\n\\n\")\n",
    "\n",
    "print(\"The coefficients are:\")\n",
    "print(LCU.coeffs)\n",
    "\n",
    "print(f\"\\nThe number of qubits is {LCU.num_qubits}.\")"
   ]
  },
  {
   "cell_type": "markdown",
   "metadata": {},
   "source": [
    "Hence, we have\n",
    "\n",
    "$$\n",
    "A = 2II - 1IX - 0.5XX - 0.5YY\n",
    "$$\n",
    "\n",
    "where $I$, $X$, $Y$ are Pauli matrices. \n",
    "\n",
    "### Defining Controlled-A Circuits\n",
    "For the Hadamard Test, let us define the function `CA()` that creates controlled circuits for each Pauli string in the LCU. "
   ]
  },
  {
   "cell_type": "code",
   "execution_count": 57,
   "metadata": {},
   "outputs": [
    {
     "name": "stdout",
     "output_type": "stream",
     "text": [
      "IX\n"
     ]
    },
    {
     "data": {
      "image/png": "[encoded data removed]",
      "text/plain": [
       "<Figure size 261.567x284.278 with 1 Axes>"
      ]
     },
     "metadata": {},
     "output_type": "display_data"
    },
    {
     "data": {
      "image/png": "[encoded data removed]",
      "text/plain": [
       "<Figure size 345.178x367.889 with 1 Axes>"
      ]
     },
     "metadata": {},
     "output_type": "display_data"
    }
   ],
   "source": [
    "from qiskit import QuantumCircuit, QuantumRegister\n",
    "from qiskit.quantum_info import Pauli, PauliList\n",
    "from qiskit.exceptions import QiskitError\n",
    "\n",
    "def CA(pauli_input, l=None):\n",
    "    \"\"\"\n",
    "    Creates a controlled-Pauli circuit using an ancilla qubit as the control.\n",
    "    \n",
    "    Parameters:\n",
    "        pauli_input (str, Pauli, PauliList or SparsePauliOp): \n",
    "            - A Pauli string (e.g., \"IXY\").\n",
    "            - A Qiskit Pauli object (e.g., from SparsePauliOp.paulis[0]).\n",
    "            - A Qiskit PauliList object, where the l-th Pauli will be used.\n",
    "            - A Qiskit SparsePauliOp object, where the l-th Pauli will be used.\n",
    "    \n",
    "    The circuit uses two registers:\n",
    "        - An ancilla register of size 1 named \"ancilla\" (the control qubit).\n",
    "        - A data register of size nqubits named \"q\" (the target qubits).\n",
    "    \n",
    "    For each position in the Pauli operator:\n",
    "        - 'I': Do nothing.\n",
    "        - 'X': Apply a controlled-X (CX) gate.\n",
    "        - 'Z': Apply a controlled-Z (CZ) gate.\n",
    "        - 'Y': Apply a controlled-Y (CY) gate.\n",
    "    \n",
    "    Returns:\n",
    "        QuantumCircuit: The constructed controlled-Pauli circuit.\n",
    "    \"\"\"\n",
    "    \n",
    "    # Convert input to a Pauli object if it is a string\n",
    "    if isinstance(pauli_input, str):\n",
    "        try:\n",
    "            pauli = Pauli(pauli_input)  # Convert string to Pauli object\n",
    "        except QiskitError:\n",
    "            raise ValueError(f\"Invalid Pauli string '{pauli_input}'. Allowed characters: I, X, Y, Z.\")\n",
    "    \n",
    "    # If input is already a Pauli object, use it directly\n",
    "    elif isinstance(pauli_input, Pauli):\n",
    "        pauli = pauli_input\n",
    "    \n",
    "    # If input is PauliList or SparsePauliOp, extract the l-th pauli string\n",
    "    elif isinstance(pauli_input, PauliList):\n",
    "        try:\n",
    "            pauli = pauli_input[l]  # Extract l-th pauli string\n",
    "        except QiskitError:\n",
    "            raise ValueError(\"The index, l, must be supplied if pauli_input contains more than one pauli string.\")\n",
    "        except IndexError:\n",
    "            raise ValueError(\"The index, l, is out of bounds for the given PauliList.\")\n",
    "    \n",
    "    elif isinstance(pauli_input, SparsePauliOp):\n",
    "        try:\n",
    "            pauli = pauli_input.paulis[l]  # Extract l-th pauli string\n",
    "        except QiskitError:\n",
    "            raise ValueError(\"The index, l, must be supplied if pauli_input contains more than one pauli string.\")\n",
    "        except IndexError:\n",
    "            raise ValueError(\"The index, l, is out of bounds for the given PauliList.\")\n",
    "    \n",
    "    # Reject invalid types\n",
    "    else:\n",
    "        raise TypeError(f\"Expected input type str, Pauli, PauliList, or SparsePauliOp, but received {type(pauli_input)}.\")\n",
    "    \n",
    "    # Determine the number of qubits\n",
    "    nqubits = pauli.num_qubits\n",
    "    \n",
    "    # Create registers\n",
    "    ancilla = QuantumRegister(1, name=\"ancilla\")\n",
    "    data = QuantumRegister(nqubits, name=\"q\")\n",
    "    \n",
    "    # Create circuit\n",
    "    circ = QuantumCircuit(ancilla, data, name=\"CA\")\n",
    "    \n",
    "    # Loop over each Pauli term directly from the Pauli object\n",
    "    for i, p in enumerate(pauli.to_label()):  # Ensure compatibility with string indexing. \n",
    "        # pauli.to_lable() converts Pauli Object to a string, e.g. \"IXY\"\n",
    "        \n",
    "        # Qiskit follows little Endian convention for qubit ordering. \n",
    "        # The most signifcant qubit is the one on the left in hand-written form. \n",
    "        # Hence, we need to reverse the index to match qubit numbering.\n",
    "        i = nqubits - i - 1\n",
    "        # E.g. nqubits =3, [0,1,2] becomes [2,1,0]\n",
    "        \n",
    "        if p == \"I\":\n",
    "            continue\n",
    "        elif p == \"X\":\n",
    "            circ.cx(ancilla[0], data[i])\n",
    "        elif p == \"Z\":\n",
    "            circ.cz(ancilla[0], data[i])\n",
    "        elif p == \"Y\":\n",
    "            circ.cy(ancilla[0], data[i])\n",
    "        else:\n",
    "            raise ValueError(f\"Unsupported Pauli operator: {p}\")\n",
    "    \n",
    "    return circ\n",
    "print(LCU.paulis[1])\n",
    "display(CA(LCU.paulis[1]).draw(\"mpl\"))\n",
    "display(CA(\"IXY\").draw(\"mpl\"))"
   ]
  },
  {
   "cell_type": "markdown",
   "metadata": {},
   "source": [
    "### Implement $|b\\rangle$ with $U |0\\rangle$\n",
    "\n",
    "For simplicity, let use a $|b\\rangle$ that is easy to implement. Let\n",
    "$$|b\\rangle = \\frac{1}{2} \\begin{pmatrix} 1 \\\\ 1 \\\\ 1 \\\\ 1 \\end{pmatrix}$$\n",
    "\n",
    "$|b\\rangle$ can be prepared by applying a Hadamard gate to each qubit.\n",
    "\n",
    "Given $A$ and $b$, we can easily obtain the solution x for validating the result.\n",
    "\n",
    "$$|x\\rangle = \\begin{pmatrix} 1 \\\\ 1.5 \\\\ 1.5 \\\\ 1 \\end{pmatrix}$$"
   ]
  },
  {
   "cell_type": "code",
   "execution_count": 58,
   "metadata": {},
   "outputs": [
    {
     "name": "stdout",
     "output_type": "stream",
     "text": [
      "Normalized x:  [0.39223227 0.58834841 0.58834841 0.39223227]\n"
     ]
    },
    {
     "data": {
      "text/latex": [
       "$$\n",
       "\n",
       "\\begin{bmatrix}\n",
       "\\frac{\\sqrt{26}}{13} & \\frac{3 \\sqrt{26}}{26} & \\frac{3 \\sqrt{26}}{26} & \\frac{\\sqrt{26}}{13}  \\\\\n",
       " \\end{bmatrix}\n",
       "$$"
      ],
      "text/plain": [
       "<IPython.core.display.Latex object>"
      ]
     },
     "metadata": {},
     "output_type": "display_data"
    }
   ],
   "source": [
    "# Solution to Ax = b\n",
    "x = np.array([1,1.5,1.5,1])\n",
    "np.matmul(A,x)\n",
    "\n",
    "# The normalized solution x_0\n",
    "x_0 = x/np.linalg.norm(x)\n",
    "print(\"Normalized x: \", x_0)\n",
    "display(array_to_latex(x_0))"
   ]
  },
  {
   "cell_type": "code",
   "execution_count": 59,
   "metadata": {},
   "outputs": [
    {
     "data": {
      "image/png": "[encoded data removed]",
      "text/plain": [
       "<Figure size 203.683x200.667 with 1 Axes>"
      ]
     },
     "metadata": {},
     "output_type": "display_data"
    }
   ],
   "source": [
    "def U_hadamard(nqubits):\n",
    "    \"\"\"\n",
    "    Creates a circuit of size 'nqubits' that represents U_hadamard.\n",
    "    For our problem, we only need to apply Hadamard on each qubit to prepare |b>.\n",
    "    \n",
    "    In general, U_b would be a unitary that maps |0> to |b> (or vice versa).\n",
    "    \n",
    "    Returns:\n",
    "        circuit (QuantumCircuit): A quantum circuit of size 'nqubits'.\n",
    "    \"\"\"\n",
    "    circ = QuantumCircuit(nqubits, name=\"U_hadamard\")\n",
    "    # Example placeholder: apply H on each qubit\n",
    "    for i in range(nqubits):\n",
    "        circ.h(i)\n",
    "    return circ\n",
    "\n",
    "# |b> with two qubits:\n",
    "display(U_hadamard(2).draw(\"mpl\"))"
   ]
  },
  {
   "cell_type": "markdown",
   "metadata": {},
   "source": [
    "### Fixed Structure Ansatz for $|x(\\alpha)\\rangle$\n",
    "Consider the ansatz $V(\\alpha)$, quantum a circuit that prepares a state $|x(\\alpha)\\rangle$ given a set of parameters, $\\alpha$. \n",
    "\n",
    "There different techniques for preparing the ansatz, including fixed ansatz, variable ansatz and Quantum Alternating Operator Ansatz (QAOA). \n",
    "\n",
    "Here, we use a very basic fixed ansatz."
   ]
  },
  {
   "cell_type": "code",
   "execution_count": 195,
   "metadata": {},
   "outputs": [
    {
     "data": {
      "image/png": "[encoded data removed]",
      "text/plain": [
       "<Figure size 370.906x200.667 with 1 Axes>"
      ]
     },
     "metadata": {},
     "output_type": "display_data"
    },
    {
     "data": {
      "image/png": "[encoded data removed]",
      "text/plain": [
       "<Figure size 872.774x367.889 with 1 Axes>"
      ]
     },
     "metadata": {},
     "output_type": "display_data"
    }
   ],
   "source": [
    "\n",
    "def apply_single_qubit_rotation(circuit, gate_type, angle, qubit_idx):\n",
    "    gate_type = gate_type.strip().lower()\n",
    "    if gate_type == \"rx\":\n",
    "        circuit.rx(angle, qubit_idx)\n",
    "    elif gate_type == \"ry\":\n",
    "        circuit.ry(angle, qubit_idx)\n",
    "    elif gate_type == \"rz\":\n",
    "        circuit.rz(angle, qubit_idx)\n",
    "    else:\n",
    "        raise ValueError(f\"Unsupported rotational gate: {gate_type}. Available gates are 'rx', 'ry', 'rz'.\")\n",
    "\n",
    "# Helper to apply two-qubit entangling gates\n",
    "def apply_two_qubit_entangling(circuit, gate_type, ctrl, tgt):\n",
    "    gate_type = gate_type.strip().lower()\n",
    "    if gate_type == \"cz\":\n",
    "        circuit.cz(ctrl, tgt)\n",
    "    elif gate_type == \"cx\":\n",
    "        circuit.cx(ctrl, tgt)\n",
    "    elif gate_type == \"cy\":\n",
    "        circuit.cy(ctrl, tgt)\n",
    "    else:\n",
    "        raise ValueError(f\"Unsupported entangling gate: {gate_type}. Available gates are 'cz', 'cx', 'cy'.\")\n",
    "\n",
    "def fixed_ansatz(param, nqubits, rot_gates = \"Ry\", ent_gates = \"CX\"):\n",
    "    \"\"\"\n",
    "    Creates a parameterized \"ansatz circuit\" on 'nqubits' data qubits.\n",
    "    \n",
    "    The circuit is built by first applying a layer of single-qubit rotation gates,\n",
    "    followed by alternating layers of two-qubit entangling gates and additional\n",
    "    single-qubit rotation layers. The entangling layers follow an alternating pattern:\n",
    "    \n",
    "    - Even-numbered layers (0, 2, ...): Apply entangling gates on qubit pairs (0,1), (2,3), ...\n",
    "    - Odd-numbered layers (1, 3, ...):  Apply entangling gates on qubit pairs (1,2), (3,4), ...\n",
    "    \n",
    "    In non-final layers, the rotation gates are applied only to the qubits that will be entangled in the next layer.\n",
    "    \n",
    "    Input:\n",
    "        param (list): A flat list of rotation angles. The list is partitioned into layers,\n",
    "            with the first 'nqubits' elements used for the initial rotation layer.\n",
    "        nqubits (int): The number of data qubits in the circuit.\n",
    "        rot_gates (str, optional): The type of single-qubit rotation gate to apply \n",
    "            (e.g., \"Rx\", \"Ry\", or \"Rz\"). Default is \"Ry\".\n",
    "        ent_gates (str, optional): The type of two-qubit entangling gate to apply \n",
    "            (e.g., \"CX\", \"CZ\", or \"CY\"). Default is \"CX\".\n",
    "    \n",
    "    Output:\n",
    "    QuantumCircuit: The parameterized ansatz circuit.\n",
    "    \"\"\"\n",
    "    \n",
    "    # Initialize the ansatz circuit.\n",
    "    ansatz = QuantumCircuit(nqubits, name=\"ansatz\")\n",
    "    \n",
    "    layer_idx = 0\n",
    "    \n",
    "    # Populate the first layer of rotational gates\n",
    "    for i in range(nqubits):\n",
    "        try:\n",
    "            apply_single_qubit_rotation(ansatz, rot_gates, param[i], i)\n",
    "        except IndexError:\n",
    "            raise IndexError(\"Index out of range for the first layer\")\n",
    "    param = param[nqubits:] # Remove the first layer from the parameters\n",
    "    \n",
    "    while True:\n",
    "        # Even layer: entangle pairs (0,1), (2,3), ...\n",
    "        if layer_idx % 2 == 0:\n",
    "            if len(param) >= nqubits:\n",
    "                for i in range(0, nqubits, 2):\n",
    "                    apply_two_qubit_entangling(ansatz, ent_gates, i, i + 1)\n",
    "                for i in range(0, nqubits):\n",
    "                    apply_single_qubit_rotation(ansatz, rot_gates, param[i], i)\n",
    "                param = param[nqubits:] # Remove this layer from the parameters\n",
    "                layer_idx += 1\n",
    "            else:\n",
    "                return ansatz\n",
    "        # Odd layer: entangle pairs (1,2), (3,4), ...\n",
    "        elif layer_idx % 2 == 1:\n",
    "            if len(param) >= max(nqubits - 2, 1):\n",
    "                for i in range(1, nqubits - 1, 2):\n",
    "                    apply_two_qubit_entangling(ansatz, ent_gates, i, i + 1)\n",
    "                for param_idx, i in enumerate(range(1, nqubits - 1)):\n",
    "                    apply_single_qubit_rotation(ansatz, rot_gates, param[param_idx], i)\n",
    "                param = param[nqubits - 2:] # Remove this layer from the parameters\n",
    "                layer_idx += 1\n",
    "            else:\n",
    "                return ansatz\n",
    "\n",
    "param1 = [pi/1, pi/2, pi/3, pi/4]\n",
    "\n",
    "param2 = [  pi/1, pi/2, pi/3, pi/4, \n",
    "            pi/1, pi/2, pi/3, pi/4, \n",
    "            pi/1, pi/2, \n",
    "            pi/3, pi/4, pi/1, pi/2, \n",
    "            pi/3, pi/4]\n",
    "\n",
    "# Display the circuits with modified parameters\n",
    "display(fixed_ansatz(param1, nqubits=2).draw(\"mpl\"))\n",
    "display(fixed_ansatz(param2, nqubits=4, ent_gates=\"cz\").draw(\"mpl\"))"
   ]
  },
  {
   "cell_type": "code",
   "execution_count": null,
   "metadata": {},
   "outputs": [],
   "source": [
    "    # Deprecated fixed_ansatz() that takes a list of list as parameters (as opposed to a flat list).\n",
    "    # \n",
    "    # for layer_idx, layer in enumerate(parameters):\n",
    "    #     # For non-final layers, determine qubits that will be entangled in the next layer.\n",
    "    #     if layer_idx < num_layers - 1:\n",
    "    #         if layer_idx % 2 == 0:\n",
    "    #             # Even layer: entangle pairs (0,1), (2,3), ...\n",
    "    #             entangled = {i for pair in range(0, nqubits - 1, 2) for i in (pair, pair + 1)}        \n",
    "    #         else:\n",
    "    #             # Odd layer: entangle pairs (1,2), (3,4), ...\n",
    "    #             entangled = {i for pair in range(1, nqubits - 1, 2) for i in (pair, pair + 1)}\n",
    "    #         # Apply Ry only on qubits that will be involved in the next CZ layer.\n",
    "    #         for i, theta in enumerate(layer[:nqubits]):\n",
    "    #             if i in entangled:\n",
    "    #                 apply_single_qubit_rotation(ansatz, rotational_gates, theta, i)\n",
    "    #                 # ansatz.rx(theta, i)\n",
    "    #     else:\n",
    "    #         # For the final layer, apply Ry to all qubits.\n",
    "    #         for i, theta in enumerate(layer[:nqubits]):\n",
    "    #             apply_single_qubit_rotation(ansatz, rotational_gates, theta, i)\n",
    "    #             # ansatz.rx(theta, i)\n",
    "                \n",
    "    #     # After each layer (except the final one) insert the alternating CZ entangling layer.\n",
    "    #     if layer_idx < num_layers - 1:\n",
    "    #         if layer_idx % 2 == 0:\n",
    "    #             for i in range(0, nqubits - 1, 2):\n",
    "    #                 apply_two_qubit_entangling(ansatz, entangling_gates, i, i + 1)\n",
    "    #                 # ansatz.cz(i, i + 1)\n",
    "    #         else:\n",
    "    #             for i in range(1, nqubits - 1, 2):\n",
    "    #                 apply_two_qubit_entangling(ansatz, entangling_gates, i, i + 1)\n",
    "    #                 # ansatz.cz(i, i + 1)\n",
    "                    \n",
    "    # return ansatz\n",
    "\n",
    "# params1 = [[pi/1, pi/2], [pi/1, pi/2]]\n",
    "\n",
    "# params2 = [[pi/1, pi/2, pi/3, pi/4], \n",
    "#             [pi/1, pi/2, pi/3, pi/4], \n",
    "#             [pi/1, pi/2, pi/3, pi/4], \n",
    "#             [pi/1, pi/2, pi/3, pi/4]]"
   ]
  },
  {
   "cell_type": "markdown",
   "metadata": {},
   "source": [
    "Only the parameters change for each run of the circuit. The $Rx$ gates search the state space, while the $CZ$ gates create \"interference\" between qubits. \n",
    "\n",
    "\n",
    "> Correction: Rz and CZ gates are native to IBM Heron processors. Rx is not. "
   ]
  },
  {
   "cell_type": "code",
   "execution_count": 196,
   "metadata": {},
   "outputs": [
    {
     "data": {
      "image/png": "[encoded data removed]",
      "text/plain": [
       "<Figure size 679.623x284.278 with 1 Axes>"
      ]
     },
     "metadata": {},
     "output_type": "display_data"
    }
   ],
   "source": [
    "# Testing circuit composition\n",
    "\n",
    "ancilla = QuantumRegister(1, name=\"ancilla\")\n",
    "data = QuantumRegister(2, name=\"q\")\n",
    "test_circ = QuantumCircuit(ancilla, data)\n",
    "\n",
    "test_circ.compose(CA(\"YZ\"), inplace=True)\n",
    "test_circ.barrier()\n",
    "test_circ.compose(fixed_ansatz(param=param1, nqubits=2), qubits=data[0:2], inplace=True)\n",
    "\n",
    "display(test_circ.draw(\"mpl\"))"
   ]
  },
  {
   "cell_type": "markdown",
   "metadata": {},
   "source": [
    "### Hadamard Test for $C_L$\n",
    "\n",
    "To calculate the local cost, we can use `Hadamard Test` circuit. The paper [5] introduces a new circuit, `Hadamard-Overlap Test`, to compute $C_L$. \n",
    "\n",
    "Recall the local cost, $C_L$:\n",
    "\n",
    "$$ C_L = \\frac{1}{2} - \\frac{1}{2n} \\frac{\\sum_{j=1}^{n} \\sum_{l=1}^{L} \\sum_{l'=1}^{L} c_lc_{l'}^*\\langle 0|V^\\dagger A_{l'}^\\dagger U Z_j U^\\dagger A_l V|0 \\rangle} {\\sum_{l=1}^{L} \\sum_{l'=1}^{L} c_lc_{l'}^* \\langle 0|V^\\dagger A_{l'}^\\dagger A_l  V|0 \\rangle}$$\n",
    "\n",
    "A basic `Hadamard Test` looks like this, where $|\\psi \\rangle$ is the state of the data qubits and $|0\\rangle$ is the ancilla qubit. \n",
    "\n",
    "This Hadamard test is designed to calculate $\\langle \\psi|U|\\psi \\rangle$. Let the probability of measuring $|0\\rangle$ be $p_0$ and the probability of measuring $|1\\rangle$ be $p_1$. According the theory on the Hadamard Test, the real part would be $Re = p_0 - p_1$. The imaginary part can also be calculated using a slight different circuit. \n",
    "\n",
    "To get the real (and imaginary) part, measuring the ancilla qubit is not the most efficient method. \n",
    "\n",
    "A more efficient method is to use one of the qiskit primitives, `Estimator` or `EstimatorV2` (the other one is `Sampler`). \n",
    "\n",
    "Suppose the ancilla qubit is $|\\psi\\rangle$, then the expectation value is $\\langle \\psi | Z | \\psi \\rangle = p_0 - p_1 = Re$\n",
    "\n",
    "Hence, in our case, we want to measure the expectation value of Pauli-Z on the ancilla qubit. \n",
    "\n",
    "![Hadamard test](images\\Hadamard_test.webp)\n",
    "\n",
    "Below is the circuit we want to build using Hadamard Test: \n",
    "\n",
    "Notice that for Pauli matrices, $A_l = A_{l}^\\dagger$.\n",
    "\n",
    "![Image from Pennylane](images\\vqls_hadamard_test_circuit.png)"
   ]
  },
  {
   "cell_type": "markdown",
   "metadata": {},
   "source": [
    "#### Constructing the Hadamard Test circuit"
   ]
  },
  {
   "cell_type": "code",
   "execution_count": 131,
   "metadata": {},
   "outputs": [
    {
     "name": "stdout",
     "output_type": "stream",
     "text": [
      "A_l is: IX\n",
      "A_lp is: XX\n",
      "j = 0\n",
      "\n",
      "For the real part:\n"
     ]
    },
    {
     "data": {
      "image/png": "[encoded data removed]",
      "text/plain": [
       "<Figure size 1515.73x284.278 with 1 Axes>"
      ]
     },
     "metadata": {},
     "output_type": "display_data"
    },
    {
     "name": "stdout",
     "output_type": "stream",
     "text": [
      "For the imaginary part:\n"
     ]
    },
    {
     "data": {
      "image/png": "[encoded data removed]",
      "text/plain": [
       "<Figure size 1515.73x284.278 with 1 Axes>"
      ]
     },
     "metadata": {},
     "output_type": "display_data"
    }
   ],
   "source": [
    "\n",
    "def local_hadamard_test(param, nqubits, l, j, lp, lcu = None, part=\"Re\", rot_gates=\"Ry\", ent_gates=\"CX\"):\n",
    "    \"\"\"\n",
    "    Builds the main circuit for the local Hadamard test as in your diagram.\n",
    "\n",
    "    Args:\n",
    "        param (list): Parameters for fixed_ansatz, e.g. [1, 2, 3, 3].\n",
    "        nqubits (int): Number of data qubits (not counting the ancilla).\n",
    "        l (int or Pauli_object): The l's pauli string in lcu (if lcu is provided), otherwise, Pauli_object for A_l (e.g. \"IX\").\n",
    "        j (int): Index of the data qubit for the controlled-Z. If j = -1, skip the CZ.\n",
    "        lp (int or Pauli_object): The l's pauli string in lcu (if lcu is provided), otherwise, Pauli_object for A_{l'} (e.g. \"XX\").\n",
    "        nqubits (int): Number of data qubits (not counting the ancilla).\n",
    "\n",
    "        part (str): \"Re\" or \"Im\". If \"Im\", apply a phase shift Rz(-pi/2) on the ancilla\n",
    "                    to measure the imaginary part.\n",
    "        lcu (PauliList or SparsePauliOp): PauliList or SparsePauliOp to use for l and lp. If lcu is None, then lp and l are \n",
    "        rot_gates (str): rotational gates for building the ansatz, \"Ry\" or \"Rx\" or \"Rz\".\n",
    "        ent_gates (str): entangling gates for building the ansatz, \"CX\" or \"CZ\" or \"CY\".\n",
    "\n",
    "    Returns:\n",
    "        QuantumCircuit: The complete Hadamard test circuit with measurement on the ancilla.\n",
    "    \"\"\"\n",
    "    # 0) If n_layers is not specified, determine it from the parameters and nqubits.\n",
    "    \n",
    "    # 0.5) If lcu is specified, use it to determine l and lp.\n",
    "    if lcu is not None and isinstance(l,int) and isinstance(lp, int):\n",
    "        # Check if l and lp are integers\n",
    "        if not isinstance(l, int) or not isinstance(lp, int):\n",
    "            raise TypeError(\"Indices l and lp must be integers.\")\n",
    "        \n",
    "        # Check if l and lp are within the valid range\n",
    "        if not (0 <= l < len(lcu)) or not (0 <= lp < len(lcu)):\n",
    "            raise IndexError(\"Indices l and lp are out of range.\")\n",
    "        \n",
    "        # Check if lcu is an instance of PauliList\n",
    "        if isinstance(lcu, PauliList):\n",
    "            pauli_l = lcu[l]\n",
    "            pauli_lp = lcu[lp]\n",
    "        # Check if lcu is an instance of SparsePauliOp\n",
    "        elif isinstance(lcu, SparsePauliOp):\n",
    "            pauli_l = lcu.paulis[l]\n",
    "            pauli_lp = lcu.paulis[lp]\n",
    "        else:\n",
    "            raise TypeError(\"lcu must be an instance of PauliList or SparsePauliOp.\")\n",
    "    else:\n",
    "        pauli_l = l\n",
    "        pauli_lp = lp\n",
    "    \n",
    "    # 1) Create registers: 1 ancilla + nqubits data + 1 classical bit for measurement\n",
    "    ancilla = QuantumRegister(1, name=\"ancilla\")\n",
    "    data = QuantumRegister(nqubits, name=\"q\")\n",
    "    # cbit = ClassicalRegister(1, name=\"c\") # We are not taking measurements. \n",
    "    \n",
    "    main_circuit = QuantumCircuit(ancilla, data, name=\"LocalHadamardTest\")\n",
    "\n",
    "    # 2) Hadamard on ancilla\n",
    "    main_circuit.h(ancilla[0])\n",
    "\n",
    "    # 2.5) (Optional) Phase shift for measuring imaginary part\n",
    "    if part.lower().strip() in [\"im\", \"imag\", \"imaginary\"]:\n",
    "        main_circuit.rz(-np.pi / 2, ancilla)\n",
    "\n",
    "    # 3) Apply the fixed ansatz V(w) to the data qubits\n",
    "    ansatz_circ = fixed_ansatz(param, nqubits, rot_gates, ent_gates)\n",
    "    # Map data qubits of ansatz onto the 'data' register in main_circuit\n",
    "    main_circuit.compose(ansatz_circ, qubits=data, inplace=True)\n",
    "    main_circuit.barrier()\n",
    "    \n",
    "    # 4) Controlled A_l\n",
    "    ca_l = CA(pauli_l)  # This subcircuit has 1 ancilla + nqubits data\n",
    "    # Map the ancilla -> ancilla, data -> data[:]\n",
    "    main_circuit.compose(\n",
    "        ca_l,\n",
    "        # qubits=[ancilla] + list(data),\n",
    "        inplace=True\n",
    "    )\n",
    "    main_circuit.barrier()\n",
    "    \n",
    "    # 5) U_hadamard^\\dagger\n",
    "    ub_circ = U_hadamard(nqubits)\n",
    "    main_circuit.compose(\n",
    "        ub_circ.inverse(),\n",
    "        qubits=data,  # apply to the data qubits\n",
    "        inplace=True\n",
    "    )\n",
    "    main_circuit.barrier()\n",
    "    \n",
    "    # 6) Controlled-Z(ancilla, j) if j != -1\n",
    "    if j != -1:\n",
    "        main_circuit.cz(ancilla, data[j])\n",
    "    main_circuit.barrier()\n",
    "    \n",
    "    # 7) U_hadamard\n",
    "    main_circuit.compose(\n",
    "        ub_circ,\n",
    "        qubits=data,\n",
    "        inplace=True\n",
    "    )\n",
    "    main_circuit.barrier()\n",
    "    \n",
    "    # 8) Controlled A_{l'}^\\dagger\n",
    "    # First build the subcircuit for A_{l'}, then invert it\n",
    "    ca_lp = CA(pauli_lp)\n",
    "    ca_lp_inv = ca_lp.inverse()\n",
    "    main_circuit.compose(\n",
    "        ca_lp_inv,\n",
    "        qubits=[ancilla[0]] + list(data),\n",
    "        inplace=True\n",
    "    )\n",
    "    main_circuit.barrier()\n",
    "    \n",
    "    # 9) Hadamard on ancilla\n",
    "    main_circuit.h(ancilla)\n",
    "\n",
    "    return main_circuit\n",
    "\n",
    "\n",
    "print(f\"A_l is: {LCU.paulis[1]}\")\n",
    "print(f\"A_lp is: {LCU.paulis[2]}\")\n",
    "print(\"j = 0\", end=\"\\n\\n\")\n",
    "\n",
    "print(\"For the real part:\")\n",
    "test_circ = local_hadamard_test(param1, nqubits=2, l=1, j=0, lp=2, lcu=LCU, part=\"Re\")\n",
    "display(test_circ.draw(\"mpl\"))\n",
    "\n",
    "print(\"For the imaginary part:\")\n",
    "test_circ2 = local_hadamard_test(param1, nqubits=2, l=1, j=0, lp=2, lcu=LCU, part=\"Im\")\n",
    "display(test_circ2.draw(\"mpl\"))"
   ]
  },
  {
   "cell_type": "markdown",
   "metadata": {},
   "source": [
    "## Evaluating the Quantum Circuit"
   ]
  },
  {
   "cell_type": "markdown",
   "metadata": {},
   "source": [
    "### Aer Simulation\n",
    "\n",
    "Here is a tutorial on [improving estimation of expectation values with Operator Backpropagation](https://learning.quantum.ibm.com/tutorial/improving-estimation-of-expectation-values-with-operator-backpropagation) from qiskit. "
   ]
  },
  {
   "cell_type": "markdown",
   "metadata": {},
   "source": [
    "#### Choosing a backend\n",
    "For the backend, I will use `ibm_fez`, which is a Heron r2 machine. I do not have access to the real one. I will use `FakeFez()` to obtain a snapshot of the real machine.\n",
    "\n",
    "If accessible, we can also choose a real device for backend, such as `ibm_brisbane`, though we need to connect to IBM Runtime Service. For instructions, search online or check out [Qiskit_Sample_Run](https://github.com/Weidsn/Quantum_Computing_Collaboration/blob/main/Qiskit/Qiskit_Sample_Run.ipynb) on Github. \n",
    "\n",
    "We only need calibration data from the quantum device for Aer Simulation. There is no rumtime cost from choosing so.\n"
   ]
  },
  {
   "cell_type": "code",
   "execution_count": 164,
   "metadata": {},
   "outputs": [],
   "source": [
    "from qiskit_ibm_runtime.fake_provider import FakeFez\n",
    "\n",
    "# For fake backend\n",
    "backend = FakeFez()\n",
    "\n",
    "# For real backend (ibm_brisbane)\n",
    "# backend = QiskitRuntimeService().backend(\"ibm_brisbane\")\n",
    "\n",
    "# In general, to construct a AerSimulator from a backend\n",
    "# simulator = AerSimulator().from_backend(backend)\n",
    "\n",
    "simulator = AerSimulator()"
   ]
  },
  {
   "cell_type": "markdown",
   "metadata": {},
   "source": [
    "#### Defining the observables\n",
    "\n",
    "To calculate expectation values, we need to define the observables as qiskit `Pauli` objects, using `SparsePauliOp`. \n",
    "\n",
    "We are calculating the expectation value of $I \\otimes I \\otimes I \\otimes \\cdots \\otimes Z$ with respect to the output of the Hadamard test. Hence, we need Pauli-Z operator on the ancilla qubit, and Identity operator on the data qubits. \n",
    "\n",
    "By the little Endian notation, the ancilla qubit is the least significant (LSB) so it comes last. "
   ]
  },
  {
   "cell_type": "code",
   "execution_count": null,
   "metadata": {},
   "outputs": [],
   "source": [
    "nqubits = 2\n",
    "\n",
    "# Use Pauli-Z on the ancilla qubit, I on other qubits.\n",
    "observable = SparsePauliOp(\"I\"* nqubits + \"Z\")"
   ]
  },
  {
   "cell_type": "markdown",
   "metadata": {},
   "source": [
    "#### Optimizing the circuit\n",
    "\n",
    "Using qiskit `transpiler` or `pass_manager` to optimize and transpile the circuit for the quantum backend. \n",
    "\n",
    "The backend we are using, ibm_fez, has 156 qubits and has limited connectivity between qubits. It also supports a limited number of quantum gates, e.g., Rz, X, CZ and sqrt(X) a.k.a. SX.\n"
   ]
  },
  {
   "cell_type": "code",
   "execution_count": 99,
   "metadata": {},
   "outputs": [
    {
     "data": {
      "image/png": "[encoded data removed]",
      "text/plain": [
       "<Figure size 1515.73x284.278 with 1 Axes>"
      ]
     },
     "metadata": {},
     "output_type": "display_data"
    }
   ],
   "source": [
    "L = len(LCU.paulis)\n",
    "n = nqubits\n",
    "l = LCU.paulis[1]\n",
    "lp = LCU.paulis[2] # from 1 to\n",
    "j = 0 # from -1 to nqubits\n",
    "\n",
    "qc = local_hadamard_test(param1, nqubits=2, l=l, j=j, lp=lp, part=\"Re\")\n",
    "\n",
    "qc_transpiled = transpile(circuits=qc, backend=simulator, optimization_level=1, layout_method=\"dense\")\n",
    "display(qc_transpiled.draw(\"mpl\", idle_wires=False))"
   ]
  },
  {
   "cell_type": "markdown",
   "metadata": {},
   "source": [
    "#### Removing barriers\n",
    "\n",
    "We want to remove the barriers (gray dashed lines) from the circuit, which prevents full circuit optimization during transpilation, using `RemoveBarriers`. \n",
    "\n",
    "Here is a demostration. "
   ]
  },
  {
   "cell_type": "code",
   "execution_count": null,
   "metadata": {},
   "outputs": [
    {
     "data": {
      "image/png": "[encoded data removed]",
      "text/plain": [
       "<Figure size 1014.07x284.278 with 1 Axes>"
      ]
     },
     "metadata": {},
     "output_type": "display_data"
    }
   ],
   "source": [
    "qc_nb = RemoveBarriers()(qc)\n",
    "qc_transpiled_nb = transpile(qc_nb, backend=simulator, layout_method=\"dense\", optimization_level=1)\n",
    "display(qc_transpiled_nb.draw(\"mpl\", idle_wires=False))"
   ]
  },
  {
   "cell_type": "code",
   "execution_count": null,
   "metadata": {},
   "outputs": [
    {
     "data": {
      "image/png": "[encoded data removed]",
      "text/plain": [
       "<Figure size 763.234x284.278 with 1 Axes>"
      ]
     },
     "metadata": {},
     "output_type": "display_data"
    }
   ],
   "source": [
    "qc_nb = RemoveBarriers()(qc)\n",
    "qc_transpiled_nb = transpile(qc_nb, backend=simulator, layout_method=\"dense\", optimization_level=3)\n",
    "display(qc_transpiled_nb.draw(\"mpl\", idle_wires=False))"
   ]
  },
  {
   "cell_type": "markdown",
   "metadata": {},
   "source": [
    "#### Transpiling the observables\n",
    "\n",
    "We need to apply the layout of the transpiled circuit to the observables as well. The observables should be mapped to the corresponding physical qubits."
   ]
  },
  {
   "cell_type": "code",
   "execution_count": null,
   "metadata": {},
   "outputs": [],
   "source": [
    "transpiled_obs = observable.apply_layout(qc_transpiled_nb.layout)"
   ]
  },
  {
   "cell_type": "markdown",
   "metadata": {},
   "source": [
    "#### Building the Estimator\n",
    "\n",
    "We import properties of the selected backend for Aer Simulation."
   ]
  },
  {
   "cell_type": "code",
   "execution_count": null,
   "metadata": {},
   "outputs": [],
   "source": [
    "from qiskit_aer.primitives import EstimatorV2 as AerEstimatorV2\n",
    "\n",
    "# We import properties of the selected backend for Aer Simulation. \n",
    "estimator = AerEstimatorV2().from_backend(simulator)\n",
    "estimator.options.resilience_level = 2\n"
   ]
  },
  {
   "cell_type": "code",
   "execution_count": null,
   "metadata": {},
   "outputs": [],
   "source": [
    "job = estimator.run([(qc_transpiled_nb, transpiled_obs)])\n",
    "result = job.result()"
   ]
  },
  {
   "cell_type": "code",
   "execution_count": null,
   "metadata": {},
   "outputs": [
    {
     "name": "stdout",
     "output_type": "stream",
     "text": [
      "PrimitiveResult([PubResult(data=DataBin(evs=np.ndarray(<shape=(), dtype=float64>), stds=np.ndarray(<shape=(), dtype=float64>)), metadata={'target_precision': 0.0, 'circuit_metadata': {}, 'simulator_metadata': {'omp_enabled': True, 'parallel_experiments': 1, 'max_memory_mb': 40133, 'max_gpu_memory_mb': 0, 'time_taken_execute': 0.0003973, 'time_taken_parameter_binding': 2.12e-05}})], metadata={'version': 2})\n"
     ]
    }
   ],
   "source": [
    "print(result)"
   ]
  },
  {
   "cell_type": "markdown",
   "metadata": {},
   "source": [
    "#### Extracting the result"
   ]
  },
  {
   "cell_type": "code",
   "execution_count": null,
   "metadata": {},
   "outputs": [
    {
     "name": "stdout",
     "output_type": "stream",
     "text": [
      "5.0396666969134695e-33\n"
     ]
    }
   ],
   "source": [
    "exp_value_list = result[0].data.evs\n",
    "print(exp_value_list)"
   ]
  },
  {
   "cell_type": "markdown",
   "metadata": {},
   "source": [
    "### Putting everything together"
   ]
  },
  {
   "cell_type": "markdown",
   "metadata": {},
   "source": [
    "The `eval_circ()` function transpiles and evaluates a circuit using Aer EstimatorV2. It returns the expectation value of Pauli-Z on the ancilla qubit."
   ]
  },
  {
   "cell_type": "code",
   "execution_count": 110,
   "metadata": {},
   "outputs": [],
   "source": [
    "\n",
    "def eval_circ(circ, backend, opt_lv=3, res_lv=2):\n",
    "    \"\"\"This circuit evaluates circ using Aer EstimatorV2 with observable Z for LSB and I for every other qubit.\n",
    "    It is intended to be used on Hadamard test circuits, where LSB is the ancilla.\n",
    "    In that case, it evaluates the expecation value of Pauli-Z for the ancilla.  \n",
    "    \n",
    "    Estimator Options:\n",
    "    resilience level = res_lv\n",
    "    \n",
    "    Transpiler Options:\n",
    "    optimization_level = opt_lv\n",
    "    layout_method = \"dense\"\n",
    "    \n",
    "    Args:\n",
    "        circ (QuantumCircuit): The Hadamard test circuit.\n",
    "        backend (Backend): Backend to run the circuit on.\n",
    "        opt_lv (int, optional): Transpiler optimization level (1 to 3). Defaults to 3.\n",
    "        res_lv (int, optional): Estimator resilience level (0 to 2), which controls error mitigation. Defaults to 2.\n",
    "        \n",
    "    Returns:\n",
    "        float: Expectation value of Pauli-Z on the ancilla (LSB).\n",
    "    \"\"\"\n",
    "    \n",
    "    nqubits = circ.num_qubits - 1\n",
    "    # Remove barriers\n",
    "    circ = RemoveBarriers()(circ)\n",
    "    \n",
    "    # Construct the observables\n",
    "    obs = SparsePauliOp(\"I\"* nqubits + \"Z\")\n",
    "    \n",
    "    # Transpile the circuit and observables\n",
    "    circ_transpiled = transpile(circ, backend=backend, layout_method=\"dense\", optimization_level=opt_lv)\n",
    "    transpiled_obs = obs.apply_layout(circ_transpiled.layout)\n",
    "    \n",
    "    # Define the estimator\n",
    "    estimator = AerEstimatorV2().from_backend(backend)\n",
    "    estimator.options.resilience_level = res_lv\n",
    "    \n",
    "    result = estimator.run([(circ_transpiled, transpiled_obs)]).result()\n",
    "    exp_value = result[0].data.evs\n",
    "    return exp_value.item()\n",
    "    "
   ]
  },
  {
   "cell_type": "code",
   "execution_count": 107,
   "metadata": {},
   "outputs": [
    {
     "name": "stdout",
     "output_type": "stream",
     "text": [
      "<class 'float'>\n",
      "5.0396666969134695e-33\n"
     ]
    }
   ],
   "source": [
    "qc = local_hadamard_test(param1, nqubits=2, l=1, j=0, lp=2, lcu = LCU, part=\"re\")\n",
    "qc_im = local_hadamard_test(param1, nqubits=2, l=1, j=0, lp=2, lcu = LCU, part=\"im\")\n",
    "\n",
    "# Ideal backend\n",
    "result_eval_circ_ideal = eval_circ(qc, backend=simulator)\n",
    "print(type(result_eval_circ_ideal))\n",
    "print(result_eval_circ_ideal)"
   ]
  },
  {
   "cell_type": "code",
   "execution_count": null,
   "metadata": {},
   "outputs": [
    {
     "name": "stdout",
     "output_type": "stream",
     "text": [
      "<class 'float'>\n",
      "0.00018064683265948912\n"
     ]
    }
   ],
   "source": [
    "# FakeFez backend\n",
    "result_eval_circ = eval_circ(qc, backend=FakeFez(), opt_lv=3, res_lv=2)\n",
    "print(result_eval_circ)"
   ]
  },
  {
   "cell_type": "code",
   "execution_count": 116,
   "metadata": {},
   "outputs": [
    {
     "name": "stdout",
     "output_type": "stream",
     "text": [
      "0.0001804755567959616\n"
     ]
    }
   ],
   "source": [
    "# FakeFex backend 2nd try\n",
    "result_eval_circ2 = eval_circ(qc_im, backend=FakeFez(), opt_lv=3, res_lv=2)\n",
    "print(result_eval_circ2)"
   ]
  },
  {
   "cell_type": "markdown",
   "metadata": {},
   "source": [
    "The `local_cost()` function combines every quantum step. It evaluates the local cost, given a set of parameters, $\\alpha$."
   ]
  },
  {
   "cell_type": "code",
   "execution_count": 159,
   "metadata": {},
   "outputs": [],
   "source": [
    "def local_cost(param, nqubits, lcu, backend, Im_part=False, opt_lv=3, res_lv=2): \n",
    "    \"\"\"This function evaluates the Hadamard test for a given parameter and LCU.\n",
    "\n",
    "    Args:\n",
    "        param: float\n",
    "            The parameter for the Hadamard test\n",
    "        lcu: PauliList or SparsePauliOp object\n",
    "            The Pauli decomposition of the matrix A. \n",
    "\n",
    "    Returns:\n",
    "        exp_value_list: list\n",
    "    \"\"\"\n",
    "    L = len(lcu.paulis)\n",
    "    nqubits = lcu.num_qubits\n",
    "    \n",
    "    # Evaluate the denominator\n",
    "    Denominator = 0\n",
    "    # For the real part\n",
    "    for l in range(L):\n",
    "        for lp in range(L):\n",
    "            circ = local_hadamard_test(param, nqubits, l, -1, lp, part = \"Re\", lcu=lcu)\n",
    "            # Multiplying coefficients with the expectation value.\n",
    "            Denominator += (lcu.coeffs[l] * np.conjugate(lcu.coeffs[lp]) * \n",
    "                            eval_circ(circ, backend=backend, opt_lv=opt_lv, res_lv=res_lv))\n",
    "    # Imaginary part\n",
    "    if Im_part:\n",
    "        for l in range(L):\n",
    "            for lp in range(L):\n",
    "                circ = local_hadamard_test(param, nqubits, l, -1, lp, part = \"Im\", lcu=lcu)\n",
    "                # Multiplying coefficients with the expectation value.\n",
    "                Denominator += (lcu.coeffs[l] * np.conjugate(lcu.coeffs[lp]) * \n",
    "                                   eval_circ(circ, backend=backend, opt_lv=opt_lv, res_lv=res_lv)) * 1.0j\n",
    "    \n",
    "    # Evaluate the Numerator\n",
    "    Numerator = 0\n",
    "    for l in range(L):\n",
    "        for lp in range(L):\n",
    "            for j in range(nqubits): # j is from 0 to nqubits-1\n",
    "                circ = local_hadamard_test(param, nqubits, l, j, lp, part = \"Re\", lcu=lcu)\n",
    "                # Multiplying coefficients with the expectation value.\n",
    "                Numerator += (lcu.coeffs[l] * np.conjugate(lcu.coeffs[lp]) * \n",
    "                                eval_circ(circ, backend, opt_lv, res_lv))\n",
    "    # Imaginary part\n",
    "    if Im_part:\n",
    "        for l in range(L):\n",
    "            for lp in range(L):\n",
    "                for j in range(nqubits):\n",
    "                    circ = local_hadamard_test(param, nqubits, l, j, lp, part = \"Im\", lcu=lcu)\n",
    "                    # Multiplying coefficients with the expectation value.\n",
    "                    Numerator += (lcu.coeffs[l] * np.conjugate(lcu.coeffs[lp]) * \n",
    "                                    eval_circ(circ, backend, opt_lv, res_lv)) * 1.0j\n",
    "    \n",
    "    # The final result\n",
    "    local_cost = 1/2 + ( 1/(2*nqubits) * (Numerator / Denominator))\n",
    "    return abs(local_cost)"
   ]
  },
  {
   "cell_type": "markdown",
   "metadata": {},
   "source": [
    "#### Testing \n",
    "\n",
    "Testing the function, `local_cost` with respect to parameters [[pi/1, pi/2], [pi/1, pi/2]]."
   ]
  },
  {
   "cell_type": "code",
   "execution_count": null,
   "metadata": {},
   "outputs": [
    {
     "name": "stdout",
     "output_type": "stream",
     "text": [
      "Ideal simulation result:\n",
      "<class 'numpy.float64'>\n",
      "0.2020254258048106\n"
     ]
    }
   ],
   "source": [
    "param3 = [pi/3, pi/5, pi/3, pi/5]\n",
    "\n",
    "# Testing with only real part. Using ideal simulator. Without abs()\n",
    "result_local_cost = local_cost(param3, nqubits = 2, lcu = LCU, backend=simulator, Im_part=True)\n",
    "print(\"Ideal simulation result:\")\n",
    "print(result_local_cost)"
   ]
  },
  {
   "cell_type": "code",
   "execution_count": 130,
   "metadata": {},
   "outputs": [
    {
     "name": "stdout",
     "output_type": "stream",
     "text": [
      "<class 'numpy.float64'>\n",
      "0.2115077664613891\n"
     ]
    }
   ],
   "source": [
    "# Testing with combined imaginary part. Without abs(), backend = FakeFez\n",
    "result_local_cost2 = local_cost(param3, nqubits=2, lcu=LCU, backend=FakeFez(), Im_part=True)\n",
    "print(result_local_cost2)"
   ]
  },
  {
   "cell_type": "code",
   "execution_count": null,
   "metadata": {},
   "outputs": [
    {
     "name": "stdout",
     "output_type": "stream",
     "text": [
      "<class 'numpy.float64'>\n",
      "0.21224397433503872\n"
     ]
    }
   ],
   "source": [
    "# No imaginary part. Without abs(), backend = FakeFez\n",
    "result_local_cost3 = local_cost(param3, nqubits=2, lcu=LCU, backend=FakeFez(), Im_part=False)\n",
    "print(result_local_cost3)"
   ]
  },
  {
   "cell_type": "markdown",
   "metadata": {},
   "source": [
    "### Iterating over parameters\n",
    "\n",
    "Since scipy's `minimize` function takes flat (1D) numpy arrays as inputs, we need to modify our `local_cost()` function by defining a `local_cost_flat()`.\n",
    "\n",
    "Defining a CostTracker object to track costs. "
   ]
  },
  {
   "cell_type": "code",
   "execution_count": 158,
   "metadata": {},
   "outputs": [],
   "source": [
    "from scipy.optimize import minimize\n",
    "\n",
    "# No need to reshape parameters. \n",
    "# def local_cost_flat(parameters, lcu, backend, num_layers=2, nqubits=2, Im_part=False, opt_lv=3, res_lv=2):\n",
    "#     parameters = np.reshape(parameters, (num_layers, nqubits))\n",
    "#     return local_cost(parameters, lcu, backend, Im_part=Im_part, opt_lv=opt_lv, res_lv=res_lv)\n",
    "\n",
    "\n",
    "class CostTracker:\n",
    "    # Initialize CostTracker object with cost function and arguments\n",
    "    def __init__(self, cost_fn, *args, **kwargs):\n",
    "        self.cost_fn = cost_fn\n",
    "        self.args = args\n",
    "        self.kwargs = kwargs\n",
    "        self.history = []\n",
    "        self.latest_cost = None\n",
    "\n",
    "    # Making CostTracker callable with a single argument, 'param'. \n",
    "    # This allows us to use scipy.optimize.minimize\n",
    "    def __call__(self, param):\n",
    "        # Running the cost_fn on param, using args and kwargs stored when initializing the object. \n",
    "        cost = self.cost_fn(param, *self.args, **self.kwargs)\n",
    "        self.history.append(cost)\n",
    "        self.latest_cost = cost\n",
    "        return cost\n",
    "\n",
    "    def callback(self, xk):\n",
    "        print(f\"Step: params = {xk}, cost = {self.latest_cost}\")"
   ]
  },
  {
   "cell_type": "code",
   "execution_count": 157,
   "metadata": {},
   "outputs": [
    {
     "name": "stdout",
     "output_type": "stream",
     "text": [
      "Step: params = [2.04719755 0.62831853 1.04719755 0.62831853], cost = 0.2020254258048106\n",
      "Step: params = [1.04719755 1.62831853 1.04719755 0.62831853], cost = 0.25749962331416265\n",
      "Step: params = [1.04719755 0.62831853 1.04719755 0.62831853], cost = 0.25749962331416265\n",
      " message: Maximum number of function evaluations has been exceeded.\n",
      " success: False\n",
      "  status: 2\n",
      "     fun: 0.2020254258048106\n",
      "       x: [ 1.047e+00  6.283e-01  1.047e+00  6.283e-01]\n",
      "    nfev: 2\n",
      "   maxcv: 0.0\n"
     ]
    }
   ],
   "source": [
    "# Flattening params1\n",
    "# params1 = [[pi/3, pi/5], [pi/3, pi/5]]\n",
    "# params1_flat = np.ravel(params1)\n",
    "# print(type(params1_flat))\n",
    "# print(params1_flat)\n",
    "\n",
    "tracked_cost = CostTracker(local_cost, 2, LCU, simulator)\n",
    "# Perform 2 iterations using minimize\n",
    "result = minimize(tracked_cost, x0=param3, method=\"COBYLA\", options={'maxiter': 2}, callback=tracked_cost.callback)\n",
    "print(result)\n",
    "x_1 = result.x"
   ]
  },
  {
   "cell_type": "markdown",
   "metadata": {},
   "source": [
    "Defining a callback function to print the progress of the optimization."
   ]
  },
  {
   "cell_type": "code",
   "execution_count": 160,
   "metadata": {},
   "outputs": [
    {
     "name": "stdout",
     "output_type": "stream",
     "text": [
      "Step: params = [2.04719755 0.62831853 1.04719755 0.62831853], cost = 0.2020254258048106\n",
      "Step: params = [1.04719755 1.62831853 1.04719755 0.62831853], cost = 0.25749962331416265\n",
      "Step: params = [1.04719755 0.62831853 2.04719755 0.62831853], cost = 0.4470910654590855\n",
      "Step: params = [1.04719755 0.62831853 1.04719755 1.62831853], cost = 0.4130524395537715\n",
      "Step: params = [ 0.87898169 -0.11480043  0.40729481  0.528308  ], cost = 0.23500687942048054\n",
      "Step: params = [0.77682764 0.17651738 0.01869498 0.46757366], cost = 0.17191887063671846\n",
      "Step: params = [ 0.63719636 -0.11480043  0.47085466  0.528308  ], cost = 0.2755796732770063\n",
      "Step: params = [ 1.217231   -0.42353634  0.59814682  0.46629953], cost = 0.2089664429020449\n",
      "Step: params = [ 1.67065271 -0.60629686  0.56482528  0.36681575], cost = 0.10242981233268339\n",
      "Step: params = [ 1.69689951 -0.98277721  0.88004741  0.2762141 ], cost = 0.07359292872486878\n",
      "Step: params = [ 1.63181117 -0.5668298   0.54534959  0.12380468], cost = 0.07772692625155847\n",
      "Step: params = [ 1.8528912  -0.86462437  0.25449482  0.59865846], cost = 0.09022998864387222\n",
      "Step: params = [ 1.98264053 -0.36397714  0.83581332  0.51002969], cost = 0.09569300318202828\n",
      "Step: params = [ 1.72971095 -0.57364887  0.51059328  0.13228405], cost = 0.08736646871643938\n",
      "Step: params = [ 1.71271322 -0.67039955  0.49173055  0.43317779], cost = 0.08573498830517134\n",
      "Step: params = [ 1.62835625 -0.69640964  0.46579654  0.51779342], cost = 0.0707761994073502\n",
      "Step: params = [ 1.72068927 -0.61723517  0.46404977  0.44898779], cost = 0.07929259279676687\n",
      "Step: params = [ 1.80442802 -0.68313797  0.56543989  0.47340292], cost = 0.0727205784363344\n",
      "Step: params = [ 1.88576024 -0.73484806  0.53888685  0.39836245], cost = 0.06838184468248004\n",
      "Step: params = [ 1.95102797 -0.83942676  0.54169877  0.37785606], cost = 0.06402939425979626\n",
      "Step: params = [ 2.00512903 -0.89347186  0.59772771  0.29638238], cost = 0.05997504590675895\n",
      "Step: params = [ 2.1100624  -0.93418751  0.54368148  0.30231755], cost = 0.058341125664392646\n",
      "Step: params = [ 2.097595   -1.01527734  0.46436934  0.25129217], cost = 0.05548677661209517\n",
      "Step: params = [ 2.14679848 -1.12384526  0.46607055  0.28889707], cost = 0.05368375014737509\n",
      "Step: params = [ 2.23932191 -1.15770897  0.40953689  0.23672802], cost = 0.052410439686924715\n",
      "Step: params = [ 2.14977    -1.10853572  0.42275562  0.33116828], cost = 0.052501712295431824\n",
      "Step: params = [ 2.12071618 -1.186395    0.53631973  0.21081188], cost = 0.05590226784283209\n",
      "Step: params = [ 2.18819957 -1.16872042  0.64002198  0.20870386], cost = 0.04851580906522002\n",
      "Step: params = [ 2.14278611 -1.2552994   0.68336866  0.14399094], cost = 0.048506094456963966\n",
      "Step: params = [ 2.11471487 -1.31906339  0.71466915  0.24294264], cost = 0.04744393868992536\n",
      "Step: params = [ 2.06873494 -1.28425363  0.73869372  0.24473053], cost = 0.04675052295894849\n",
      "Step: params = [ 2.17767705 -1.42450308  0.69205189  0.2373127 ], cost = 0.04808797161657785\n",
      "Step: params = [ 2.12750644 -1.52675913  0.74322109  0.23154028], cost = 0.046247573277500564\n",
      "Step: params = [ 2.21162574 -1.41527004  0.74370374  0.23655464], cost = 0.047427691462525956\n",
      "Step: params = [ 2.30396654 -1.39394214  0.74649861  0.31801313], cost = 0.04568330684223121\n",
      "Step: params = [ 2.22239898 -1.40893483  0.74276492  0.17532417], cost = 0.05084329425140244\n",
      "Step: params = [ 2.24574848 -1.39931255  0.74208104  0.11815779], cost = 0.043264283224203226\n",
      "Step: params = [ 2.29199856 -1.38688177  0.78195788  0.12290048], cost = 0.04259054589014433\n",
      "Step: params = [ 2.25413561 -1.42937131  0.74191772  0.11652594], cost = 0.042712467326600057\n",
      "Step: params = [ 2.22397275 -1.45249109  0.78498638  0.0918882 ], cost = 0.041882694213774996\n",
      "Step: params = [ 2.28076738 -1.47596787  0.72126473  0.09204713], cost = 0.04188795100860887\n",
      "Step: params = [ 2.29608169 -1.5329933   0.71130996  0.10995592], cost = 0.04077809007960903\n",
      "Step: params = [ 2.28319505 -1.47923001  0.69007622  0.03803795], cost = 0.04099748638328282\n",
      "Step: params = [ 2.30909714 -1.47604532  0.70481564  0.02919198], cost = 0.040606254086910654\n",
      "Step: params = [ 2.29070411 -1.4733946   0.67933358  0.04422653], cost = 0.040756817834441905\n",
      "Step: params = [ 2.25682375 -1.48092031  0.69764424  0.02317238], cost = 0.04073510850957046\n",
      "Step: params = [ 2.28443501 -1.49474841  0.69139063  0.03827196], cost = 0.04081463522820766\n",
      "Step: params = [ 2.28921735 -1.52343092  0.68089744  0.04284339], cost = 0.04020032218583541\n",
      "Step: params = [ 2.27788077 -1.54931218  0.69145239  0.0346704 ], cost = 0.03965167582538093\n",
      "Step: params = [ 2.2977174  -1.56747827  0.70498971  0.02631545], cost = 0.0390768590020214\n",
      "Step: params = [ 2.295671   -1.57937469  0.7203944   0.05067824], cost = 0.0387246268168257\n",
      "Step: params = [ 2.30086552 -1.57528996  0.69255539  0.03062769], cost = 0.03899557008951865\n",
      "Step: params = [ 2.29194511e+00 -1.58380534e+00  7.09394145e-01  6.78162858e-04], cost = 0.038767852473840736\n",
      "Step: params = [ 2.29682859 -1.59569538  0.71445441 -0.0273528 ], cost = 0.03820571102597636\n",
      "Step: params = [ 2.26989002 -1.60074838  0.70976827 -0.04161403], cost = 0.03793461020289629\n",
      "Step: params = [ 2.26657984 -1.59511447  0.72395552 -0.04201935], cost = 0.037916034981085145\n",
      "Step: params = [ 2.27054364 -1.63088127  0.71250873 -0.03382722], cost = 0.0381511271611788\n",
      "Step: params = [ 2.27552789 -1.66116574  0.70687513 -0.03214398], cost = 0.0371138989369999\n",
      "Step: params = [ 2.27235142 -1.68046955  0.73094013 -0.02830849], cost = 0.0365917568460854\n",
      "Step: params = [ 2.26067980e+00 -1.68868022e+00  7.23368029e-01 -1.55809024e-03], cost = 0.03637410964867316\n",
      "Step: params = [ 2.25887474 -1.68264713  0.72856536 -0.03552917], cost = 0.036926002915928846\n",
      "Step: params = [ 2.26205512 -1.70074905  0.72761639 -0.06078522], cost = 0.036194566317874266\n",
      "Step: params = [ 2.25729808 -1.70498571  0.74032253 -0.08861573], cost = 0.035641193185308506\n",
      "Step: params = [ 2.25160897 -1.73279108  0.72821294 -0.09355695], cost = 0.035526769440783645\n",
      "Step: params = [ 2.25068354 -1.74660291  0.70365783 -0.10704718], cost = 0.034844600715125296\n",
      "Step: params = [ 2.26186006 -1.77572291  0.70390347 -0.10894796], cost = 0.03447160297507873\n",
      "Step: params = [ 2.24866991 -1.80383244  0.70041153 -0.10944101], cost = 0.03396361654038238\n",
      "Step: params = [ 2.24974011 -1.8317666   0.69821189 -0.12323454], cost = 0.033494725147199755\n",
      "Step: params = [ 2.25204204 -1.86150246  0.69135527 -0.12956141], cost = 0.032967880656484205\n",
      "Step: params = [ 2.2352826  -1.86061489  0.67653502 -0.15136178], cost = 0.03265135824478316\n",
      "Step: params = [ 2.21814791 -1.8704781   0.68670469 -0.1733222 ], cost = 0.03205718777980149\n",
      "Step: params = [ 2.22869207 -1.87179159  0.68263214 -0.2024267 ], cost = 0.03156295294596806\n",
      "Step: params = [ 2.21995825 -1.88461333  0.68066454 -0.17118322], cost = 0.03160421517687945\n",
      "Step: params = [ 2.19656988 -1.90102338  0.66884138 -0.17570756], cost = 0.03133363336472089\n",
      "Step: params = [ 2.18396419 -1.92793521  0.67808653 -0.17852534], cost = 0.030837412430967104\n",
      "Step: params = [ 2.16978732 -1.95540035  0.67355906 -0.17938929], cost = 0.030318317886801227\n",
      "Step: params = [ 2.14321275 -1.96970607  0.68165224 -0.17893988], cost = 0.029839072209988438\n",
      "Step: params = [ 2.13827663 -1.98201761  0.68131683 -0.20723318], cost = 0.029516831898724394\n",
      "Step: params = [ 2.13322571 -2.00289435  0.68347907 -0.22982824], cost = 0.02884302462058913\n",
      "Step: params = [ 2.11947738 -2.02272546  0.68754224 -0.24926439], cost = 0.02823816388598671\n",
      "Step: params = [ 2.11994716 -2.04650661  0.66763271 -0.25306031], cost = 0.027722079416019507\n",
      "Step: params = [ 2.12808183 -2.07372894  0.6780304  -0.24523583], cost = 0.027049789359318455\n",
      "Step: params = [ 2.12921405 -2.09473567  0.6625181  -0.26236377], cost = 0.026829973796020756\n",
      "Step: params = [ 2.11832824 -2.11744287  0.64585553 -0.27041384], cost = 0.02618477657771595\n",
      "Step: params = [ 2.11934109 -2.13909964  0.62498736 -0.27884238], cost = 0.025559025982728134\n",
      "Step: params = [ 2.10630593 -2.15635917  0.62872057 -0.30108691], cost = 0.025106871828007138\n",
      "Step: params = [ 2.09064323 -2.1785371   0.63069457 -0.31643243], cost = 0.024341257946289774\n",
      "Step: params = [ 2.08415801 -2.19701519  0.62963631 -0.34076235], cost = 0.023622903220224645\n",
      "Step: params = [ 2.06624246 -2.22130778  0.62450414 -0.34701745], cost = 0.023049404740682622\n",
      "Step: params = [ 2.05142906 -2.2449195   0.61335568 -0.35569639], cost = 0.022327725880484095\n",
      "Step: params = [ 2.03566603 -2.26937176  0.61067034 -0.36678536], cost = 0.02162298003134544\n",
      "Step: params = [ 2.0206744  -2.29364326  0.60400476 -0.37766094], cost = 0.020905207574281937\n",
      "Step: params = [ 2.00681854 -2.31735596  0.60085564 -0.39223381], cost = 0.020191549502086015\n",
      "Step: params = [ 1.99310194 -2.33846638  0.58237835 -0.39339906], cost = 0.019526702004095065\n",
      "Step: params = [ 1.98786557 -2.36840902  0.58339879 -0.38621994], cost = 0.01885991840853407\n",
      "Step: params = [ 1.97106016 -2.3943444   0.58270396 -0.38163583], cost = 0.018098694283736616\n",
      "Step: params = [ 1.97093133 -2.4246931   0.57555867 -0.38374466], cost = 0.01742535018992286\n",
      "Step: params = [ 1.95156122 -2.43451686  0.55310599 -0.38460037], cost = 0.016898865456991208\n",
      "Step: params = [ 1.94767893 -2.44575504  0.54026867 -0.35870834], cost = 0.01627090549802629\n",
      "Step: params = [ 1.94057508 -2.43711727  0.56362854 -0.38215923], cost = 0.01647260907908482\n",
      "Step: params = [ 1.95156122 -2.43451686  0.55310599 -0.38460037], cost = 0.01647260907908482\n",
      " message: Maximum number of function evaluations has been exceeded.\n",
      " success: False\n",
      "  status: 2\n",
      "     fun: 0.01627090549802629\n",
      "       x: [ 1.952e+00 -2.435e+00  5.531e-01 -3.846e-01]\n",
      "    nfev: 100\n",
      "   maxcv: 0.0\n"
     ]
    }
   ],
   "source": [
    "result2 = minimize(tracked_cost, x0=x_1, method=\"COBYLA\", options={'maxiter': 100}, callback=tracked_cost.callback)\n",
    "print(result2)\n",
    "x_2 = result2.x"
   ]
  },
  {
   "cell_type": "code",
   "execution_count": 170,
   "metadata": {},
   "outputs": [
    {
     "name": "stdout",
     "output_type": "stream",
     "text": [
      "Step: params = [ 2.95156122 -2.43451686  0.55310599 -0.38460037], cost = 0.01627090549802629\n",
      "Step: params = [ 1.95156122 -1.43451686  0.55310599 -0.38460037], cost = 0.12305347347421325\n",
      "Step: params = [ 1.95156122 -2.43451686  1.55310599 -0.38460037], cost = 0.08940022138888781\n",
      "Step: params = [ 1.95156122 -2.43451686  0.55310599  0.61539963], cost = 0.08056340105672544\n",
      "Step: params = [ 1.50346565 -2.74139207  0.28331305 -1.1797417 ], cost = 0.20575555614679863\n",
      "Step: params = [ 1.72751343 -2.58795446  0.41820952 -0.78217103], cost = 0.21925217336190927\n",
      "Step: params = [ 2.18871703 -2.46166991  0.52923407 -0.45495636], cost = 0.06414629224459567\n",
      "Step: params = [ 1.95156122 -2.35198273  0.45922778 -0.38460037], cost = 0.02411599674595133\n",
      "Step: params = [ 1.95246022 -2.26062454  0.71622545 -0.45978477], cost = 0.018693666395434128\n",
      "Step: params = [ 1.95624062 -2.461914    0.58231953 -0.13787366], cost = 0.02525008501951176\n",
      "Step: params = [ 1.88545383 -2.49402531  0.5255824  -0.46800306], cost = 0.037151661785790435\n",
      "Step: params = [ 1.85433438 -2.5322107   0.52140024 -0.42976414], cost = 0.015168443574079982\n",
      "Step: params = [ 1.80852941 -2.55859356  0.53948857 -0.40174786], cost = 0.013025153172266657\n",
      "Step: params = [ 1.82162839 -2.61363311  0.52133971 -0.38235885], cost = 0.012114521659306043\n",
      "Step: params = [ 1.79684272 -2.6093881   0.46906854 -0.35908601], cost = 0.011064446474911449\n",
      "Step: params = [ 1.81951529 -2.59571392  0.48038342 -0.30361355], cost = 0.010568876859567089\n",
      "Step: params = [ 1.76601765 -2.64827893  0.4529077  -0.393472  ], cost = 0.013126785558153498\n",
      "Step: params = [ 1.80214571 -2.65042814  0.41486855 -0.42737504], cost = 0.009307096247619606\n",
      "Step: params = [ 1.75534108 -2.62050325  0.44893054 -0.40214766], cost = 0.010070206934731984\n",
      "Step: params = [ 1.74736536 -2.70500123  0.46908814 -0.40236675], cost = 0.010508783569812719\n",
      "Step: params = [ 1.74419205 -2.74803618  0.45490821 -0.35943539], cost = 0.007770790817336837\n",
      "Step: params = [ 1.77498727 -2.77273154  0.50325376 -0.35615632], cost = 0.007361995590611181\n",
      "Step: params = [ 1.76464006 -2.75746609  0.43798408 -0.37296654], cost = 0.010040471964342934\n",
      "Step: params = [ 1.71984291 -2.77501958  0.40504345 -0.39546665], cost = 0.007247715798471388\n",
      "Step: params = [ 1.70460885 -2.75215276  0.35147668 -0.37867729], cost = 0.005995876536167344\n",
      "Step: params = [ 1.70867248 -2.79924796  0.41134678 -0.41046791], cost = 0.007150204077820244\n",
      "Step: params = [ 1.73276592 -2.81388063  0.40392921 -0.42173437], cost = 0.005510141239989275\n",
      "Step: params = [ 1.73176531 -2.80537523  0.40374881 -0.43480208], cost = 0.005376597441122344\n",
      "Step: params = [ 1.73397185 -2.83810892  0.41738487 -0.40734536], cost = 0.00581319269046493\n",
      "Step: params = [ 1.7240339  -2.85757049  0.39726305 -0.39764178], cost = 0.00486223852784734\n",
      "Step: params = [ 1.73526067 -2.8657138   0.39056958 -0.37044976], cost = 0.004414764408085137\n",
      "Step: params = [ 1.70900076 -2.87934366  0.40273536 -0.41334369], cost = 0.005070234055268352\n",
      "Step: params = [ 1.71655301 -2.8878136   0.38457117 -0.43609997], cost = 0.0037872479161075168\n",
      "Step: params = [ 1.6994942  -2.87056249  0.39399734 -0.41279232], cost = 0.004096396770026933\n",
      "Step: params = [ 1.68926769 -2.89544978  0.42055252 -0.4165546 ], cost = 0.003917982725867852\n",
      "Step: params = [ 1.67996141 -2.91937224  0.42278463 -0.39887158], cost = 0.0032379060585239205\n",
      "Step: params = [ 1.66715931 -2.93412225  0.44677315 -0.39443795], cost = 0.0028706442423651057\n",
      "Step: params = [ 1.67685637 -2.94356177  0.44757991 -0.40220663], cost = 0.0028556242582528646\n",
      "Step: params = [ 1.64514561 -2.94501812  0.43072061 -0.40518764], cost = 0.0029170221228349003\n",
      "Step: params = [ 1.62415942 -2.95875557  0.4121582  -0.40687935], cost = 0.002102724382186283\n",
      "Step: params = [ 1.61149385 -2.94726786  0.41748129 -0.43248878], cost = 0.001987639671451269\n",
      "Step: params = [ 1.61898306 -2.96722208  0.42416168 -0.40562215], cost = 0.0031537395814534297\n",
      "Step: params = [ 1.63661107 -2.98778227  0.42033193 -0.42073596], cost = 0.0017632766662997734\n",
      "Step: params = [ 1.64479784 -3.00953575  0.420554   -0.39984873], cost = 0.0014018276199471713\n",
      "Step: params = [ 1.6335284  -2.99711591  0.42711737 -0.43080963], cost = 0.0014444387415709636\n",
      "Step: params = [ 1.63176278 -3.00506565  0.41749005 -0.44003674], cost = 0.0012762101451049834\n",
      "Step: params = [ 1.64093319 -2.99661403  0.42763087 -0.43319472], cost = 0.0013304530974648787\n",
      "Step: params = [ 1.62628264 -2.99969835  0.44045729 -0.4334586 ], cost = 0.0013082831009462725\n",
      "Step: params = [ 1.61605028 -2.9902858   0.44736741 -0.4352175 ], cost = 0.0012018946595545033\n",
      "Step: params = [ 1.62760656 -3.01149674  0.44379893 -0.42386593], cost = 0.0014216018977667444\n",
      "Step: params = [ 1.62425744 -3.02396546  0.44031739 -0.43194887], cost = 0.0010753998771078632\n",
      "Step: params = [ 1.61955965 -3.03856856  0.44042532 -0.43491691], cost = 0.0008723757176604674\n",
      "Step: params = [ 1.61789265 -3.05212242  0.44400582 -0.42822105], cost = 0.0006928472314812195\n",
      "Step: params = [ 1.61095    -3.05697008  0.45154073 -0.43897585], cost = 0.0006503269892381702\n",
      "Step: params = [ 1.59634435 -3.05810371  0.4461066  -0.43900599], cost = 0.0005098031200475028\n",
      "Step: params = [ 1.59864817 -3.06164779  0.44067434 -0.44270161], cost = 0.0004681007511944113\n",
      "Step: params = [ 1.59237851 -3.06976666  0.44634798 -0.45303243], cost = 0.0004552273405410423\n",
      "Step: params = [ 1.59164953 -3.07593284  0.44566438 -0.44834045], cost = 0.0004507402220080836\n",
      "Step: params = [ 1.59087096 -3.08209961  0.44491052 -0.44366802], cost = 0.0003367003127699997\n",
      "Step: params = [ 1.58951924 -3.08883545  0.44455305 -0.43996549], cost = 0.0002508105289663609\n",
      "Step: params = [ 1.58710057 -3.09610481  0.44605342 -0.43966478], cost = 0.00018860505604068045\n",
      "Step: params = [ 1.58795415 -3.10136161  0.44033806 -0.43957883], cost = 0.00014171746430963195\n",
      "Step: params = [ 1.5821742  -3.10391615  0.43856404 -0.43534155], cost = 0.00011313184998312797\n",
      "Step: params = [ 1.58549542 -3.10934026  0.44034387 -0.43116832], cost = 0.00010093899498703207\n",
      "Step: params = [ 1.58413259 -3.11147456  0.44206694 -0.43359263], cost = 9.670858182242448e-05\n",
      "Step: params = [ 1.58171171 -3.11759321  0.43999951 -0.43726175], cost = 8.180302266247441e-05\n",
      "Step: params = [ 1.57887158 -3.12377382  0.43867935 -0.44087092], cost = 4.3385251132177505e-05\n",
      "Step: params = [ 1.57559769 -3.12439996  0.44569749 -0.44168977], cost = 2.5215425657754142e-05\n",
      "Step: params = [ 1.57824001 -3.12665098  0.44688572 -0.44034888], cost = 2.191604732187935e-05\n",
      "Step: params = [ 1.57870138 -3.12298873  0.44662354 -0.44865777], cost = 3.1069687658036305e-05\n",
      "Step: params = [ 1.56866157 -3.12604714  0.4431313  -0.44359421], cost = 2.778161292266157e-05\n",
      "Step: params = [ 1.5761113  -3.12089842  0.44659611 -0.44030172], cost = 5.826596534774797e-05\n",
      "Step: params = [ 1.57635785 -3.12412184  0.44590864 -0.44345468], cost = 3.310030112751994e-05\n",
      "Step: params = [ 1.57603207 -3.1242834   0.44483673 -0.44158729], cost = 2.1966586214339223e-05\n",
      "Step: params = [ 1.57469185 -3.12498135  0.44388284 -0.44237562], cost = 2.1747157279705664e-05\n",
      "Step: params = [ 1.57573381 -3.12335767  0.44475023 -0.44157098], cost = 2.2294998406835465e-05\n",
      "Step: params = [ 1.57584588 -3.12435595  0.44478564 -0.44114471], cost = 2.445572653647643e-05\n",
      "Step: params = [ 1.57652023 -3.12512361  0.44490964 -0.44152329], cost = 2.1762692762772318e-05\n",
      "Step: params = [ 1.57706511 -3.12592656  0.44497774 -0.44143724], cost = 2.0025329694972616e-05\n",
      "Step: params = [ 1.57782023 -3.12571579  0.44480841 -0.44199435], cost = 1.943448644792234e-05\n",
      "Step: params = [ 1.57693162 -3.126065    0.44454029 -0.4415376 ], cost = 2.0009473266802136e-05\n",
      "Step: params = [ 1.57644908 -3.1266061   0.44452194 -0.4421916 ], cost = 1.8330890901308017e-05\n",
      "Step: params = [ 1.57602587 -3.12724199  0.44397339 -0.44245481], cost = 1.636896063289539e-05\n",
      "Step: params = [ 1.57567187 -3.12809158  0.44429965 -0.44244441], cost = 1.4754425975149754e-05\n",
      "Step: params = [ 1.57487438 -3.12856051  0.44434692 -0.44275353], cost = 1.3135749743764524e-05\n",
      "Step: params = [ 1.57522004 -3.12929373  0.44431185 -0.44329698], cost = 1.2350674379713045e-05\n",
      "Step: params = [ 1.57526464 -3.13021117  0.444031   -0.44312055], cost = 1.09044566899974e-05\n",
      "Step: params = [ 1.57534741 -3.13116121  0.44423146 -0.44318428], cost = 9.35270360341578e-06\n",
      "Step: params = [ 1.57536935 -3.13191632  0.4436873  -0.44347905], cost = 8.12447026415919e-06\n",
      "Step: params = [ 1.57621828 -3.13229354  0.44350895 -0.44323637], cost = 7.053847373483801e-06\n",
      "Step: params = [ 1.57518655 -3.13198955  0.44355104 -0.44305352], cost = 7.740744844109138e-06\n",
      "Step: params = [ 1.57453108 -3.13268402  0.44359283 -0.44325349], cost = 6.897261538185706e-06\n",
      "Step: params = [ 1.57390151 -3.13294918  0.44296502 -0.44355823], cost = 5.8029933718284354e-06\n",
      "Step: params = [ 1.57430369 -3.13286559  0.44397545 -0.44316776], cost = 6.102702702626139e-06\n",
      "Step: params = [ 1.57452016 -3.1332982   0.44397222 -0.44310143], cost = 5.54838346455977e-06\n",
      "Step: params = [ 1.57462167 -3.13336508  0.44414513 -0.4435416 ], cost = 5.240361181768627e-06\n",
      "Step: params = [ 1.57479036 -3.13327014  0.44427364 -0.44346664], cost = 5.15761837105444e-06\n",
      "Step: params = [ 1.57435615 -3.13374993  0.44404921 -0.44364458], cost = 5.462284331070322e-06\n",
      "Step: params = [ 1.57429605 -3.13402658  0.44369031 -0.44381624], cost = 4.600204426774557e-06\n",
      "Step: params = [ 1.57385246 -3.13415776  0.44366667 -0.44397078], cost = 4.3073269648252754e-06\n",
      "Step: params = [ 1.57390169 -3.13462802  0.44376583 -0.44389997], cost = 4.209339715399718e-06\n",
      "Step: params = [ 1.57398006 -3.13509707  0.44383524 -0.4439863 ], cost = 3.6355837784718403e-06\n",
      "Step: params = [ 1.57390722 -3.13542908  0.4437133  -0.44365766], cost = 3.238951672923651e-06\n",
      "Step: params = [ 1.57383063 -3.13559598  0.44413828 -0.44350244], cost = 2.9688731157939685e-06\n",
      "Step: params = [ 1.57413423 -3.13540353  0.44373368 -0.44357397], cost = 2.9956094871885774e-06\n",
      "Step: params = [ 1.57367146 -3.13579599  0.44355895 -0.44381383], cost = 3.1695042358448333e-06\n",
      "Step: params = [ 1.57325847 -3.13595772  0.44336621 -0.44374637], cost = 2.6018531086302588e-06\n",
      "Step: params = [ 1.57306889 -3.13607827  0.44341653 -0.44417696], cost = 2.4558267215923912e-06\n",
      "Step: params = [ 1.57331178 -3.13587276  0.44315555 -0.44381824], cost = 2.590829028259467e-06\n",
      "Step: params = [ 1.57333631 -3.13639957  0.44341418 -0.44355974], cost = 2.650628960376711e-06\n",
      "Step: params = [ 1.57322931 -3.13669495  0.44362261 -0.44324945], cost = 2.074115688144307e-06\n",
      "Step: params = [ 1.57361965 -3.13680137  0.44389259 -0.44329233], cost = 1.922845929258621e-06\n",
      "Step: params = [ 1.57312229 -3.13677972  0.44371535 -0.44342935], cost = 2.3437764238298797e-06\n",
      "Step: params = [ 1.5729201  -3.13711396  0.44342818 -0.44348721], cost = 1.80288136814033e-06\n",
      "Step: params = [ 1.57243623 -3.13717543  0.44340675 -0.44347995], cost = 1.5256175679434492e-06\n",
      "Step: params = [ 1.57244623 -3.13740508  0.44341241 -0.44356202], cost = 1.4951268199614454e-06\n",
      "Step: params = [ 1.57244527 -3.13752969  0.44331425 -0.4437476 ], cost = 1.3465548530100513e-06\n",
      "Step: params = [ 1.57245493 -3.13743175  0.44331571 -0.44349301], cost = 1.3580369578325424e-06\n",
      "Step: params = [ 1.57246149 -3.13763282  0.44341015 -0.44339196], cost = 1.3339654688637737e-06\n",
      "Step: params = [ 1.57243129 -3.13783122  0.44349521 -0.44328197], cost = 1.1653807889810963e-06\n",
      "Step: params = [ 1.57236986 -3.13795733  0.44338146 -0.44311769], cost = 1.051231777182693e-06\n",
      "Step: params = [ 1.57256289 -3.13807676  0.44339157 -0.44302837], cost = 9.843555233701728e-07\n",
      "Step: params = [ 1.57236986 -3.13788778  0.44343063 -0.44303025], cost = 1.0262977619968083e-06\n",
      "Step: params = [ 1.57220917 -3.13813368  0.4434079  -0.44316221], cost = 1.0299569996319313e-06\n",
      "Step: params = [ 1.57205887 -3.13827187  0.44328823 -0.4432222 ], cost = 8.787597265969005e-07\n",
      "Step: params = [ 1.57198822 -3.13837577  0.44339719 -0.44340094], cost = 8.19703890708734e-07\n",
      "Step: params = [ 1.57207533 -3.13859611  0.44340776 -0.44334303], cost = 7.844146198143775e-07\n",
      "Step: params = [ 1.57202227 -3.13880461  0.44346711 -0.44324406], cost = 6.658416526472699e-07\n",
      "Step: params = [ 1.57209989 -3.13902877  0.44341418 -0.44326707], cost = 5.845559181705262e-07\n",
      "Step: params = [ 1.57223917 -3.13908793  0.44360072 -0.44322341], cost = 5.318280474342352e-07\n",
      "Step: params = [ 1.57214786 -3.13900974  0.44336162 -0.44316973], cost = 6.465858403692515e-07\n",
      "Step: params = [ 1.57190909 -3.13914775  0.44332355 -0.44329587], cost = 5.606202473362742e-07\n",
      "Step: params = [ 1.57188508 -3.13918087  0.44315757 -0.44347017], cost = 4.4973744756093836e-07\n",
      "Step: params = [ 1.57177705 -3.13932374  0.4434264  -0.44327091], cost = 4.779891414896653e-07\n",
      "Step: params = [ 1.57155147 -3.13925128  0.4434808  -0.44324846], cost = 3.8374948835295797e-07\n",
      "Step: params = [ 1.57177014 -3.13932047  0.44335318 -0.44317353], cost = 4.053251869695629e-07\n",
      "Step: params = [ 1.57175912 -3.13956424  0.44345659 -0.44324784], cost = 3.8495441839758726e-07\n",
      "Step: params = [ 1.57182559 -3.13972407  0.44359397 -0.44314407], cost = 3.2742269406860203e-07\n",
      "Step: params = [ 1.57170393 -3.13967484  0.44329051 -0.44337723], cost = 3.913642012132179e-07\n",
      "Step: params = [ 1.5714635  -3.13968094  0.44333077 -0.44336543], cost = 2.8301386756357516e-07\n",
      "Step: params = [ 1.57171326 -3.13990613  0.44323001 -0.44342583], cost = 2.8713611677222417e-07\n",
      "Step: params = [ 1.57172404 -3.14004919  0.44324063 -0.44362308], cost = 2.35022991179612e-07\n",
      "Step: params = [ 1.57171625 -3.14020652  0.44306042 -0.44357493], cost = 2.2324757359415415e-07\n",
      "Step: params = [ 1.57175787 -3.14037799  0.44319604 -0.44347454], cost = 2.1070557842950421e-07\n",
      "Step: params = [ 1.57194227 -3.14052979  0.44323089 -0.44343785], cost = 1.812520171173837e-07\n",
      "Step: params = [ 1.57152732 -3.1404407   0.44324336 -0.44345785], cost = 2.7911735617225375e-07\n",
      "Step: params = [ 1.57148393 -3.14035796  0.44322381 -0.44323314], cost = 1.237286693656081e-07\n",
      "Step: params = [ 1.57154421 -3.14037885  0.44334671 -0.44346836], cost = 1.2875268956547004e-07\n",
      "Step: params = [ 1.5712917  -3.1404895   0.44325202 -0.4434982 ], cost = 1.330841536417715e-07\n",
      "Step: params = [ 1.5712935  -3.14058134  0.44327895 -0.44346927], cost = 1.1451167214460156e-07\n",
      "Step: params = [ 1.57129367 -3.14067457  0.44330224 -0.44344159], cost = 8.888304853238438e-08\n",
      "Step: params = [ 1.57127108 -3.14076908  0.44331556 -0.44342208], cost = 7.100968735240798e-08\n",
      "Step: params = [ 1.57119829 -3.14083748  0.44331187 -0.44342515], cost = 5.812690978546087e-08\n",
      "Step: params = [ 1.57122692 -3.14092612  0.44333004 -0.44339366], cost = 4.778829382212635e-08\n",
      "Step: params = [ 1.57119035 -3.14093776  0.44342237 -0.44339515], cost = 4.2439952607775666e-08\n",
      "Step: params = [ 1.5712033  -3.14094959  0.44342525 -0.44344188], cost = 4.1120356397694735e-08\n",
      "Step: params = [ 1.57115131 -3.14103142  0.44340721 -0.44345852], cost = 4.000945263982203e-08\n",
      "Step: params = [ 1.57110042 -3.14111407  0.44338982 -0.44347512], cost = 2.9380783972410285e-08\n",
      "Step: params = [ 1.57109686 -3.1411946   0.4433912  -0.44353429], cost = 2.135924231927433e-08\n",
      "Step: params = [ 1.57102766 -3.14124671  0.44342394 -0.44349654], cost = 1.863144555303009e-08\n",
      "Step: params = [ 1.57093751 -3.14123218  0.44341211 -0.44353554], cost = 1.1778851671806478e-08\n",
      "Step: params = [ 1.57102454 -3.14125933  0.44337849 -0.44348025], cost = 1.6629815913216106e-08\n",
      "Step: params = [ 1.57103436 -3.14133247  0.44341573 -0.44342398], cost = 1.1655888643158363e-08\n",
      "Step: params = [ 1.57103436 -3.14133247  0.44341573 -0.44342398], cost = 1.3265229692471792e-08\n",
      " message: Optimization terminated successfully.\n",
      " success: True\n",
      "  status: 1\n",
      "     fun: 1.3265229692471792e-08\n",
      "       x: [ 1.571e+00 -3.141e+00  4.434e-01 -4.434e-01]\n",
      "    nfev: 164\n",
      "   maxcv: 0.0\n"
     ]
    }
   ],
   "source": [
    "x_2 = result2.x\n",
    "\n",
    "result3 = minimize (tracked_cost, x0=x_2,\n",
    "                    method=\"COBYLA\", \n",
    "                    options={'maxiter': 200, 'disp':True}, \n",
    "                    callback=tracked_cost.callback,)\n",
    "print(result3)\n",
    "x_3 = result3.x"
   ]
  },
  {
   "cell_type": "markdown",
   "metadata": {},
   "source": [
    "### Verifying the output"
   ]
  },
  {
   "cell_type": "code",
   "execution_count": 166,
   "metadata": {},
   "outputs": [
    {
     "name": "stdout",
     "output_type": "stream",
     "text": [
      "[ 1.57429605 -3.13402658  0.44369031 -0.44381624]\n"
     ]
    }
   ],
   "source": [
    "output_parameter = x_3\n",
    "\n",
    "print(output_parameter)\n",
    "# Plug x_3 into ansatz. \n",
    "\n",
    "# Defining a function that return the ideal statevector obtained from the ansatz with set parameters. \n",
    "def evaluate_ansatz(param, rot_gates=\"Ry\", ent_gates = \"CX\"):\n",
    "    circ = fixed_ansatz(param, nqubits=nqubits, rot_gates=rot_gates, ent_gates=ent_gates)\n",
    "    circ.save_statevector() # To tell Aer simulator to save the statevector.\n",
    "    \n",
    "    simulator = AerSimulator()  # Set up the simulator\n",
    "    \n",
    "    circ = transpile(circ, simulator) # transpile the circuit\n",
    "    \n",
    "    result = simulator.run(circ).result() # Obtain the result\n",
    "    \n",
    "    statevector = result.get_statevector() # Get the statevector\n",
    "\n",
    "    return statevector"
   ]
  },
  {
   "cell_type": "code",
   "execution_count": 168,
   "metadata": {},
   "outputs": [
    {
     "data": {
      "text/latex": [
       "$$\n",
       "\n",
       "\\begin{bmatrix}\n",
       "0.0028979397 & -0.7070696629 & -0.7071316113 & 0.0029963467  \\\\\n",
       " \\end{bmatrix}\n",
       "$$"
      ],
      "text/plain": [
       "<IPython.core.display.Latex object>"
      ]
     },
     "metadata": {},
     "output_type": "display_data"
    }
   ],
   "source": [
    "statevector = evaluate_ansatz(output_parameter, rot_gates=\"Ry\", ent_gates = \"CX\")\n",
    "\n",
    "display(array_to_latex(statevector))"
   ]
  },
  {
   "cell_type": "code",
   "execution_count": 191,
   "metadata": {},
   "outputs": [
    {
     "name": "stdout",
     "output_type": "stream",
     "text": [
      "[ 0.71286554+0.j -0.70990565+0.j -0.71018991+0.j  0.7131243 +0.j] \n",
      "\n",
      "Obtained result: \n",
      "[ 0.71286554 -0.70990565 -0.71018991  0.7131243 ]\n",
      "Normalized target vector, b: \n",
      "[0.70710678 0.70710678 0.70710678 0.70710678]\n"
     ]
    }
   ],
   "source": [
    "print(np.matmul(A, np.array(statevector)), \"\\n\")\n",
    "\n",
    "print(f\"Obtained result: \\n{np.matmul(A, np.array(statevector).real)}\")\n",
    "ketb = np.array((1/np.sqrt(2)) * np.array([1, 1, 1, 1]))\n",
    "print(f\"Normalized target vector, b: \\n{ketb}\")"
   ]
  },
  {
   "cell_type": "markdown",
   "metadata": {},
   "source": [
    "## 4. Acknowledgements\n",
    "\n",
    "This implementation is based on the work presented in the research paper [5] by Carlos Bravo-Prieto, Ryan LaRose, M. Cerezo, Yiğit Subaşı, Lukasz Cincio, and Patrick J. Coles."
   ]
  }
 ],
 "metadata": {
  "kernelspec": {
   "display_name": ".venv",
   "language": "python",
   "name": "python3"
  },
  "language_info": {
   "codemirror_mode": {
    "name": "ipython",
    "version": 3
   },
   "file_extension": ".py",
   "mimetype": "text/x-python",
   "name": "python",
   "nbconvert_exporter": "python",
   "pygments_lexer": "ipython3",
   "version": "3.11.2"
  }
 },
 "nbformat": 4,
 "nbformat_minor": 2
}
