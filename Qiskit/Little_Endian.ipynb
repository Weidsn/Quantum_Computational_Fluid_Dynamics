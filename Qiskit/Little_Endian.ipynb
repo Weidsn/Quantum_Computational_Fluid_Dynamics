{
 "cells": [
  {
   "cell_type": "markdown",
   "metadata": {},
   "source": [
    "# Qiskit uses little Endian convention\n",
    "\n",
    "\n",
    "The example shows that the little Endian convention applies to qiskit's built-in function, `UnitaryGate()`, which converts a unitary matrix into a quantum gate."
   ]
  },
  {
   "cell_type": "code",
   "execution_count": 3,
   "metadata": {},
   "outputs": [
    {
     "data": {
      "image/png": "[encoded data removed]",
      "text/plain": [
       "<Figure size 287.294x200.667 with 1 Axes>"
      ]
     },
     "metadata": {},
     "output_type": "display_data"
    },
    {
     "data": {
      "text/latex": [
       "$$ |01\\rangle$$"
      ],
      "text/plain": [
       "<IPython.core.display.Latex object>"
      ]
     },
     "metadata": {},
     "output_type": "display_data"
    },
    {
     "name": "stdout",
     "output_type": "stream",
     "text": [
      "Statevector([1.+0.j, 0.+0.j, 0.+0.j, 0.+0.j],\n",
      "            dims=(2, 2))\n",
      "Statevector([0.+0.j, 0.+0.j, 0.+0.j, 1.+0.j],\n",
      "            dims=(2, 2))\n"
     ]
    },
    {
     "data": {
      "image/png": "[encoded data removed]",
      "text/plain": [
       "<Figure size 203.683x200.667 with 1 Axes>"
      ]
     },
     "metadata": {},
     "output_type": "display_data"
    },
    {
     "name": "stdout",
     "output_type": "stream",
     "text": [
      "Statevector([1.+0.j, 0.+0.j, 0.+0.j, 0.+0.j],\n",
      "            dims=(2, 2))\n",
      "Statevector([0.+0.j, 0.+0.j, 0.+0.j, 1.+0.j],\n",
      "            dims=(2, 2))\n"
     ]
    }
   ],
   "source": [
    "from qiskit import QuantumCircuit\n",
    "from qiskit.quantum_info import Statevector\n",
    "from qiskit.circuit.library import UnitaryGate\n",
    "import numpy as np\n",
    "\n",
    "# Define a 4x4 unitary matrix\n",
    "# This is the matrix IX, where an X gate is applied to the second (least significant) qubit\n",
    "unitary_matrix = np.array([[0, 1, 0, 0],\n",
    "                           [1, 0, 0, 0],\n",
    "                           [0, 0, 0, 1],\n",
    "                           [0, 0, 1, 0]])\n",
    "\n",
    "# Create a UnitaryGate\n",
    "unitary_gate = UnitaryGate(unitary_matrix)\n",
    "\n",
    "# Initialize a QuantumCircuit with 2 qubits\n",
    "qc = QuantumCircuit(2)\n",
    "\n",
    "# Append the unitary gate to the circuit\n",
    "qc.append(unitary_gate, [0, 1])\n",
    "\n",
    "# Draw the circuit\n",
    "display(qc.draw(\"mpl\"))\n",
    "\n",
    "ket01 = Statevector.from_label(\"01\")\n",
    "ket10 = Statevector.from_label(\"10\")\n",
    "\n",
    "display(ket01.draw(\"latex\"))\n",
    "\n",
    "result11 = ket01.evolve(qc)\n",
    "print(result11)\n",
    "result12 = ket10.evolve(qc)\n",
    "print(result12)\n",
    "\n",
    "qc2 = QuantumCircuit(2)\n",
    "qc2.x(0)\n",
    "display(qc2.draw(\"mpl\"))\n",
    "\n",
    "result21 = ket01.evolve(qc2)\n",
    "print(result21)\n",
    "result22 = ket10.evolve(qc2)\n",
    "print(result22)"
   ]
  }
 ],
 "metadata": {
  "kernelspec": {
   "display_name": ".venv",
   "language": "python",
   "name": "python3"
  },
  "language_info": {
   "codemirror_mode": {
    "name": "ipython",
    "version": 3
   },
   "file_extension": ".py",
   "mimetype": "text/x-python",
   "name": "python",
   "nbconvert_exporter": "python",
   "pygments_lexer": "ipython3",
   "version": "3.11.2"
  }
 },
 "nbformat": 4,
 "nbformat_minor": 2
}
