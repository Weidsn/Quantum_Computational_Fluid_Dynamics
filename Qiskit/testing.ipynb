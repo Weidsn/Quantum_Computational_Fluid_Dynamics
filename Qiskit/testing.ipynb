
## Is this a valid notebook?
