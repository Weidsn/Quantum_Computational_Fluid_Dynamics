{
 "cells": [
  {
   "cell_type": "markdown",
   "metadata": {},
   "source": [
    "## Import qiskit and check version"
   ]
  },
  {
   "cell_type": "code",
   "execution_count": 4,
   "metadata": {},
   "outputs": [],
   "source": [
    "import qiskit\n",
    "from qiskit_ibm_runtime import QiskitRuntimeService"
   ]
  },
  {
   "cell_type": "code",
   "execution_count": 2,
   "metadata": {},
   "outputs": [
    {
     "name": "stdout",
     "output_type": "stream",
     "text": [
      "Current qiskit version: 1.4.0\n"
     ]
    }
   ],
   "source": [
    "print(f\"Current qiskit version: {qiskit.__version__}\")"
   ]
  },
  {
   "cell_type": "code",
   "execution_count": null,
   "metadata": {},
   "outputs": [
    {
     "data": {
      "text/plain": [
       "{'default-ibm-quantum': {'channel': 'ibm_quantum',\n",
       "  'url': 'https://auth.quantum.ibm.com/api',\n",
       "  'token': '7a5b8bbfe93c428cd6ad258e87dcc03e0976069d6888676f3dfeba59ec78ff9ebeec1f6becddef41b8ed953ca2cf5648b725a902fa99b486017e038e56712f0f',\n",
       "  'verify': True,\n",
       "  'private_endpoint': False}}"
      ]
     },
     "execution_count": 12,
     "metadata": {},
     "output_type": "execute_result"
    }
   ],
   "source": [
    "QiskitRuntimeService.saved_accounts()"
   ]
  },
  {
   "cell_type": "markdown",
   "metadata": {},
   "source": [
    "### Connecting to IBM Service.\n",
    "\n",
    "If this is your first time connecting to IBM Runtime Service, you should obtain an `API token` from IBM.\n",
    "\n",
    "Next, run the code below."
   ]
  },
  {
   "cell_type": "code",
   "execution_count": null,
   "metadata": {},
   "outputs": [],
   "source": [
    "API_token = \"Your_API_Token_goes_here\"\n",
    "\n",
    "RuntimeService = QiskitRuntimeService(channel=\"ibm_quantum\"\n",
    "                                    ,token = API_token)\n",
    "\n",
    "QiskitRuntimeService.save_account(channel=\"ibm_quantum\"\n",
    "                                ,token = API_token\n",
    "                                ,overwrite = True)\n",
    "\n",
    "\n",
    "# For all future usage, simply do the following.\n",
    "from qiskit_ibm_runtime import QiskitRuntimeService\n",
    "RuntimeService = QiskitRuntimeService(channel=\"ibm_quantum\")"
   ]
  },
  {
   "cell_type": "markdown",
   "metadata": {},
   "source": [
    "### Connecting to a specific IBM quantum device.\n",
    "\n",
    "You can choose your desired quantum backend to connect to."
   ]
  },
  {
   "cell_type": "code",
   "execution_count": null,
   "metadata": {},
   "outputs": [],
   "source": [
    "\n",
    "# backend = RuntimeService.backend(\"ibm_brisbane\")\n",
    "# backend.num_qubits"
   ]
  },
  {
   "cell_type": "markdown",
   "metadata": {},
   "source": [
    "## Qiskit workflow\n",
    "\n",
    "### Example using a 2-qubit circuit\n",
    "\n",
    "#### Step 1: Map the problem to a quantum circuit"
   ]
  },
  {
   "cell_type": "code",
   "execution_count": 14,
   "metadata": {},
   "outputs": [
    {
     "data": {
      "image/png": "[encoded data removed]",
      "text/plain": [
       "<Figure size 287.294x200.667 with 1 Axes>"
      ]
     },
     "execution_count": 14,
     "metadata": {},
     "output_type": "execute_result"
    }
   ],
   "source": [
    "from qiskit import QuantumCircuit\n",
    "\n",
    "qc = QuantumCircuit(2)\n",
    "\n",
    "qc.h(0) # hadamat gate on qubit 0\n",
    "qc.cx(0, 1) # controlled x gate on qubits 0 and 1\n",
    "\n",
    "qc.draw(output='mpl')\n",
    "\n",
    "# This is the Bell state"
   ]
  },
  {
   "cell_type": "code",
   "execution_count": null,
   "metadata": {},
   "outputs": [],
   "source": [
    "# Choosing observables to measure. \n",
    "\n",
    "from qiskit.quantum_info import Pauli\n",
    "\n",
    "ZZ = Pauli(\"ZZ\")\n",
    "ZI = Pauli(\"ZI\") # Z on qubit 1, I on qubit 0\n",
    "IZ = Pauli(\"IZ\")\n",
    "XX = Pauli(\"XX\")\n",
    "XI = Pauli(\"XI\")\n",
    "IX = Pauli(\"IX\")\n",
    "\n",
    "obs = [ZZ, ZI, IZ, XX, XI, IX]"
   ]
  },
  {
   "cell_type": "markdown",
   "metadata": {},
   "source": [
    "#### Step 2: Optimize the circuit\n",
    "\n",
    "To optimize the overall depth of the circuit, we need to consider\n",
    "\n",
    "1. Local connectivity between qubits\n",
    "\n",
    "2. Native gate sets, or ISA (Instruction Set Architecture) of the device\n",
    "\n",
    "Qiskit offers a customizable `transpiler` (also called compiler) to optimize the quantum circuit for specific quantum hardware.\n",
    "\n",
    "In qiskit, the `transpiler` is implemented using `pass_manager`. "
   ]
  },
  {
   "cell_type": "code",
   "execution_count": null,
   "metadata": {},
   "outputs": [],
   "source": [
    "from qiskit.transpiler.preset_passmanagers import generate_preset_pass_manager\n",
    "\n",
    "pm = generate_preset_pass_manager(optimization_level=2, backend = None, target=None)\n",
    "\n",
    "qc_transiled = pm.run(qc)\n",
    "\n",
    "# Applying layout to observables\n",
    "operators_transiled_list = [op.apply_layout(qc_transiled.layout) for op in obs]"
   ]
  },
  {
   "cell_type": "markdown",
   "metadata": {},
   "source": [
    "#### Step 3: Execute the circuit on a backend\n"
   ]
  },
  {
   "cell_type": "code",
   "execution_count": null,
   "metadata": {},
   "outputs": [
    {
     "data": {
      "text/plain": [
       "EstimatorResult(values=array([ 1.        ,  0.01171875,  0.01171875,  1.        , -0.03515625,\n",
       "       -0.03515625]), metadata=[{'shots': 1024, 'variance': 0.0, 'simulator_metadata': [{'batched_shots_optimization': False, 'required_memory_mb': 0, 'method': 'stabilizer', 'active_input_qubits': [0, 1], 'device': 'CPU', 'remapped_qubits': False, 'num_qubits': 2, 'num_clbits': 2, 'time_taken': 0.002672, 'sample_measure_time': 0.0008812, 'input_qubit_map': [[0, 0], [1, 1]], 'max_memory_mb': 40133, 'measure_sampling': True, 'noise': 'ideal', 'parallel_shots': 1, 'parallel_state_update': 16, 'runtime_parameter_bind': False, 'num_bind_params': 1, 'fusion': {'enabled': False}}]}, {'shots': 1024, 'variance': 0.9998626708984375, 'simulator_metadata': [{'batched_shots_optimization': False, 'required_memory_mb': 0, 'method': 'stabilizer', 'active_input_qubits': [0, 1], 'device': 'CPU', 'remapped_qubits': False, 'num_qubits': 2, 'num_clbits': 2, 'time_taken': 0.002672, 'sample_measure_time': 0.0008812, 'input_qubit_map': [[0, 0], [1, 1]], 'max_memory_mb': 40133, 'measure_sampling': True, 'noise': 'ideal', 'parallel_shots': 1, 'parallel_state_update': 16, 'runtime_parameter_bind': False, 'num_bind_params': 1, 'fusion': {'enabled': False}}]}, {'shots': 1024, 'variance': 0.9998626708984375, 'simulator_metadata': [{'batched_shots_optimization': False, 'required_memory_mb': 0, 'method': 'stabilizer', 'active_input_qubits': [0, 1], 'device': 'CPU', 'remapped_qubits': False, 'num_qubits': 2, 'num_clbits': 2, 'time_taken': 0.002672, 'sample_measure_time': 0.0008812, 'input_qubit_map': [[0, 0], [1, 1]], 'max_memory_mb': 40133, 'measure_sampling': True, 'noise': 'ideal', 'parallel_shots': 1, 'parallel_state_update': 16, 'runtime_parameter_bind': False, 'num_bind_params': 1, 'fusion': {'enabled': False}}]}, {'shots': 1024, 'variance': 0.0, 'simulator_metadata': [{'batched_shots_optimization': False, 'required_memory_mb': 0, 'method': 'stabilizer', 'active_input_qubits': [0, 1], 'device': 'CPU', 'remapped_qubits': False, 'num_qubits': 2, 'num_clbits': 2, 'time_taken': 0.0024764, 'sample_measure_time': 0.0009027, 'input_qubit_map': [[0, 0], [1, 1]], 'max_memory_mb': 40133, 'measure_sampling': True, 'noise': 'ideal', 'parallel_shots': 1, 'parallel_state_update': 16, 'runtime_parameter_bind': False, 'num_bind_params': 1, 'fusion': {'enabled': False}}]}, {'shots': 1024, 'variance': 0.9987640380859375, 'simulator_metadata': [{'batched_shots_optimization': False, 'required_memory_mb': 0, 'method': 'stabilizer', 'active_input_qubits': [0, 1], 'device': 'CPU', 'remapped_qubits': False, 'num_qubits': 2, 'num_clbits': 2, 'time_taken': 0.0024764, 'sample_measure_time': 0.0009027, 'input_qubit_map': [[0, 0], [1, 1]], 'max_memory_mb': 40133, 'measure_sampling': True, 'noise': 'ideal', 'parallel_shots': 1, 'parallel_state_update': 16, 'runtime_parameter_bind': False, 'num_bind_params': 1, 'fusion': {'enabled': False}}]}, {'shots': 1024, 'variance': 0.9987640380859375, 'simulator_metadata': [{'batched_shots_optimization': False, 'required_memory_mb': 0, 'method': 'stabilizer', 'active_input_qubits': [0, 1], 'device': 'CPU', 'remapped_qubits': False, 'num_qubits': 2, 'num_clbits': 2, 'time_taken': 0.0024764, 'sample_measure_time': 0.0009027, 'input_qubit_map': [[0, 0], [1, 1]], 'max_memory_mb': 40133, 'measure_sampling': True, 'noise': 'ideal', 'parallel_shots': 1, 'parallel_state_update': 16, 'runtime_parameter_bind': False, 'num_bind_params': 1, 'fusion': {'enabled': False}}]}])"
      ]
     },
     "execution_count": 43,
     "metadata": {},
     "output_type": "execute_result"
    }
   ],
   "source": [
    "from qiskit_aer.primitives import Estimator, EstimatorV2, Sampler, SamplerV2\n",
    "\n",
    "estimator = Estimator()\n",
    "\n",
    "job = estimator.run([qc]*len(obs), obs)\n",
    "\n",
    "# Alternatively, since we have 6 circuits and 6 observables, we can use the following\n",
    "job = estimator.run([qc, qc, qc, qc, qc, qc], obs)\n",
    "\n",
    "job.result()"
   ]
  },
  {
   "cell_type": "markdown",
   "metadata": {},
   "source": [
    "#### Step 4: Post process the results"
   ]
  },
  {
   "cell_type": "code",
   "execution_count": 57,
   "metadata": {},
   "outputs": [
    {
     "data": {
      "image/png": "[encoded data removed]",
      "text/plain": [
       "<Figure size 640x480 with 1 Axes>"
      ]
     },
     "metadata": {},
     "output_type": "display_data"
    }
   ],
   "source": [
    "import matplotlib.pyplot as plt\n",
    "\n",
    "data =[\"ZZ\", \"ZI\", \"IZ\", \"XX\", \"XI\", \"IX\"]\n",
    "values = job.result().values\n",
    "\n",
    "plt.plot(data,values,\"-o\") # \"-o\" means solid line and circle as points\n",
    "plt.xlabel('Observables')\n",
    "plt.ylabel('Expectation value')\n",
    "plt.show()"
   ]
  },
  {
   "cell_type": "code",
   "execution_count": null,
   "metadata": {},
   "outputs": [],
   "source": []
  }
 ],
 "metadata": {
  "kernelspec": {
   "display_name": ".venv",
   "language": "python",
   "name": "python3"
  },
  "language_info": {
   "codemirror_mode": {
    "name": "ipython",
    "version": 3
   },
   "file_extension": ".py",
   "mimetype": "text/x-python",
   "name": "python",
   "nbconvert_exporter": "python",
   "pygments_lexer": "ipython3",
   "version": "3.11.2"
  }
 },
 "nbformat": 4,
 "nbformat_minor": 2
}
