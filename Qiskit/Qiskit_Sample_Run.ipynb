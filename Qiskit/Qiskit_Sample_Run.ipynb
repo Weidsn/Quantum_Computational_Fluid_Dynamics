{
 "cells": [
  {
   "cell_type": "markdown",
   "metadata": {},
   "source": [
    "## Import qiskit and check version"
   ]
  },
  {
   "cell_type": "code",
   "execution_count": 1,
   "metadata": {},
   "outputs": [],
   "source": [
    "import qiskit\n",
    "from qiskit_ibm_runtime import QiskitRuntimeService"
   ]
  },
  {
   "cell_type": "code",
   "execution_count": 2,
   "metadata": {},
   "outputs": [
    {
     "name": "stdout",
     "output_type": "stream",
     "text": [
      "Current qiskit version: 2.0.0\n"
     ]
    }
   ],
   "source": [
    "print(f\"Current qiskit version: {qiskit.__version__}\")"
   ]
  },
  {
   "cell_type": "markdown",
   "metadata": {},
   "source": [
    "### Connecting to IBM Service.\n",
    "\n",
    "If this is your first time connecting to IBM Runtime Service, you should obtain an `API token` from IBM."
   ]
  },
  {
   "cell_type": "code",
   "execution_count": null,
   "metadata": {},
   "outputs": [],
   "source": [
    "# API_token = \"Insert_your_token_here\"\n",
    "\n",
    "# RuntimeService = QiskitRuntimeService(channel=\"ibm_quantum\"\n",
    "#                                     ,token = API_token)\n",
    "\n",
    "# # Saving your token to your trusted local machine.\n",
    "# QiskitRuntimeService.save_account(channel=\"ibm_quantum\"\n",
    "#                                 ,token = API_token\n",
    "#                                 ,overwrite = True)\n",
    "\n",
    "\n",
    "# If token is saved locally, you can simply do the following.\n",
    "RuntimeService = QiskitRuntimeService(channel=\"ibm_quantum\")"
   ]
  },
  {
   "cell_type": "markdown",
   "metadata": {},
   "source": [
    "### Connecting to a specific IBM quantum device.\n",
    "\n",
    "You have limited access per month with a free IBM Quantum account.\n",
    "\n",
    "You can choose which quantum backend to connect to, or you can connect to a fake backend for simulation."
   ]
  },
  {
   "cell_type": "code",
   "execution_count": 4,
   "metadata": {},
   "outputs": [],
   "source": [
    "# # Choosing the least busy backend\n",
    "# backend = RuntimeService.get_least_busy(operational = True, simulator=False)\n",
    "\n",
    "# To choose ibm_brisbane as the backend.\n",
    "# backend = RuntimeService.get_backend(\"ibm_brisbane\")\n",
    "\n",
    "# # You can also use a fake backend for simulation. For heavier workloads, use qiskit Aer Simulator.\n",
    "from qiskit_ibm_runtime.fake_provider import FakeFez\n",
    "backend = FakeFez()\n"
   ]
  },
  {
   "cell_type": "markdown",
   "metadata": {},
   "source": [
    "## Qiskit workflow\n",
    "\n",
    "### Example workflow with 2-qubits\n",
    "\n",
    "#### Step 1: Map the problem to a quantum circuit"
   ]
  },
  {
   "cell_type": "code",
   "execution_count": 18,
   "metadata": {},
   "outputs": [
    {
     "name": "stdout",
     "output_type": "stream",
     "text": [
      "Quantum circuit before hardware-specific optimization:\n"
     ]
    },
    {
     "data": {
      "image/png": "[encoded data removed]",
      "text/plain": [
       "<Figure size 203.683x200.667 with 1 Axes>"
      ]
     },
     "execution_count": 18,
     "metadata": {},
     "output_type": "execute_result"
    }
   ],
   "source": [
    "from qiskit import QuantumCircuit\n",
    "from numpy import pi\n",
    "\n",
    "qc = QuantumCircuit(2)\n",
    "\n",
    "qc.h(0) # hadamat gate on qubit 0\n",
    "# qc.cx(0, 1) # controlled x gate on qubits 0 and 1\n",
    "\n",
    "print(\"Quantum circuit before hardware-specific optimization:\")\n",
    "qc.draw(output='mpl')\n"
   ]
  },
  {
   "cell_type": "code",
   "execution_count": 19,
   "metadata": {},
   "outputs": [],
   "source": [
    "# Choosing observables to measure. \n",
    "\n",
    "from qiskit.quantum_info import Pauli\n",
    "\n",
    "ZZ = Pauli(\"ZZ\")\n",
    "ZI = Pauli(\"ZI\") # Z on qubit 1, I on qubit 0\n",
    "IZ = Pauli(\"IZ\")\n",
    "XX = Pauli(\"XX\")\n",
    "XI = Pauli(\"XI\")\n",
    "IX = Pauli(\"IX\")\n",
    "\n",
    "obs = [ZZ, ZI, IZ, XX, XI, IX]"
   ]
  },
  {
   "cell_type": "markdown",
   "metadata": {},
   "source": [
    ">Important:\n",
    "> \n",
    "> Qiskit uses little Endian convention, so the most significant qubit (MSB) is the bottom qubit in the circuit diagram.\n",
    ">\n",
    "> After the circuit operation, $q_1 = |0\\rangle$ and $q_0 = |+\\rangle$. \n",
    ">\n",
    "> \"IZ\" measures \"I\" on the most significant qubit (MSB), q1, and \"Z\" on the least significant qubit (LSB), q0. \n",
    "> \n",
    "> Since $\\left( \\langle 0 | \\otimes \\langle + | \\right) (I \\otimes Z) \\left( |0\\rangle \\otimes |+\\rangle \\right) = 0$, the expectation value of \"IZ\" is 0."
   ]
  },
  {
   "cell_type": "markdown",
   "metadata": {},
   "source": [
    "#### Step 2: Optimize the circuit\n",
    "\n",
    "We need to consider\n",
    "\n",
    "1. Local connectivity between qubits\n",
    "\n",
    "2. Native gate sets, or ISA (Instruction Set Architecture) of the qunatum hardware\n",
    "\n",
    "Qiskit offers cusomizable `transpiler` (also called compiler) to optimize quantum circuits for execution on quantum hardware. \n",
    "\n",
    "The qiskit `transpiler` is built using customizable `pass_manager`. The transpiler can theoretically work with any quantum hardware, so long as detailed properties of the quantum hardware are provided, such as qubits connectivity, error rates, intruction set architecture and so on."
   ]
  },
  {
   "cell_type": "code",
   "execution_count": 20,
   "metadata": {},
   "outputs": [
    {
     "name": "stdout",
     "output_type": "stream",
     "text": [
      "Quantum circuit after hardware-specific optimization:\n"
     ]
    },
    {
     "data": {
      "image/png": "[encoded data removed]",
      "text/plain": [
       "<Figure size 422.982x117.056 with 1 Axes>"
      ]
     },
     "execution_count": 20,
     "metadata": {},
     "output_type": "execute_result"
    }
   ],
   "source": [
    "from qiskit.transpiler.preset_passmanagers import generate_preset_pass_manager\n",
    "\n",
    "pm = generate_preset_pass_manager(optimization_level=1, backend = backend)\n",
    "\n",
    "qc_transpiled = pm.run(qc)\n",
    "\n",
    "# Applying layout to observables\n",
    "transpiled_obs = [ob.apply_layout(qc_transpiled.layout) for ob in obs]\n",
    "\n",
    "# print(len(transpiled_obs))\n",
    "\n",
    "print(\"Quantum circuit after hardware-specific optimization:\")\n",
    "# Draw the transpiled circuit\n",
    "qc_transpiled.draw(output='mpl', idle_wires=False)"
   ]
  },
  {
   "cell_type": "markdown",
   "metadata": {},
   "source": [
    "#### Step 3: Execute the circuit on a backend\n",
    "\n",
    "For this example, we are using a fake backend, \"FakeBrisbane.\" \n",
    "\n",
    "Normally, after submitting a request to the backend, a job ID is created and is put in queue. The job will be executed when the backend becomes available. \n",
    "\n",
    "We use the Job ID to check the status of the job. "
   ]
  },
  {
   "cell_type": "code",
   "execution_count": 21,
   "metadata": {},
   "outputs": [
    {
     "name": "stdout",
     "output_type": "stream",
     "text": [
      ">>> Job ID: 080f0667-eae8-44be-a23c-b7dd01868cb0\n"
     ]
    }
   ],
   "source": [
    "from qiskit_aer.primitives import Estimator, EstimatorV2, Sampler, SamplerV2\n",
    "\n",
    "estimator = EstimatorV2()\n",
    "estimator.options.resilience_level = 1\n",
    "\n",
    "job = estimator.run([(qc_transpiled, transpiled_obs)]) # This is a list of tuples\n",
    "\n",
    "# Alternatively, since we have 6 circuits and 6 observables, we can use the following\n",
    "# job = estimator.run([qc, qc, qc, qc, qc, qc], obs)\n",
    "\n",
    "\n",
    "print(f\">>> Job ID: {job.job_id()}\")"
   ]
  },
  {
   "cell_type": "code",
   "execution_count": 22,
   "metadata": {},
   "outputs": [
    {
     "name": "stdout",
     "output_type": "stream",
     "text": [
      "Result of the job:\n",
      "PrimitiveResult([PubResult(data=DataBin(evs=np.ndarray(<shape=(6,), dtype=float64>), stds=np.ndarray(<shape=(6,), dtype=float64>), shape=(6,)), metadata={'target_precision': 0.0, 'circuit_metadata': {}, 'simulator_metadata': {'omp_enabled': True, 'parallel_experiments': 1, 'max_memory_mb': 40133, 'max_gpu_memory_mb': 0, 'time_taken_execute': 0.0001301, 'time_taken_parameter_binding': 2.37e-05}})], metadata={'version': 2})\n"
     ]
    }
   ],
   "source": [
    "print(\"Result of the job:\")\n",
    "print(job.result())"
   ]
  },
  {
   "cell_type": "markdown",
   "metadata": {},
   "source": [
    "#### Step 4: Post process the results"
   ]
  },
  {
   "cell_type": "code",
   "execution_count": 23,
   "metadata": {},
   "outputs": [
    {
     "data": {
      "image/png": "[encoded data removed]",
      "text/plain": [
       "<Figure size 640x480 with 1 Axes>"
      ]
     },
     "metadata": {},
     "output_type": "display_data"
    }
   ],
   "source": [
    "import matplotlib.pyplot as plt\n",
    "\n",
    "data =[\"ZZ\", \"ZI\", \"IZ\", \"XX\", \"XI\", \"IX\"]\n",
    "values = job.result()[0].data.evs\n",
    "\n",
    "plt.plot(data,values,\"-o\") # \"-o\" means solid line with circle points\n",
    "plt.xlabel('Observables')\n",
    "plt.ylabel('Expectation Value')\n",
    "plt.show()"
   ]
  }
 ],
 "metadata": {
  "kernelspec": {
   "display_name": ".venv",
   "language": "python",
   "name": "python3"
  },
  "language_info": {
   "codemirror_mode": {
    "name": "ipython",
    "version": 3
   },
   "file_extension": ".py",
   "mimetype": "text/x-python",
   "name": "python",
   "nbconvert_exporter": "python",
   "pygments_lexer": "ipython3",
   "version": "3.11.9"
  }
 },
 "nbformat": 4,
 "nbformat_minor": 2
}
