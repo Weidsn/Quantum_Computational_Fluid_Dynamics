{
 "cells": [
  {
   "cell_type": "markdown",
   "metadata": {},
   "source": [
    "# Basics of qiskit programming"
   ]
  },
  {
   "cell_type": "markdown",
   "metadata": {},
   "source": [
    "## Managing libraries and packages"
   ]
  },
  {
   "cell_type": "markdown",
   "metadata": {},
   "source": [
    "### First time setup procedure\n",
    "\n",
    "1. Download the `requirements.txt` file from the repository.\n",
    "\n",
    "2. Create a virtual environment on your local machine.\n",
    "\n",
    "3. Install required packages using the `requirements.txt` file. \n",
    "\n",
    "\n",
    "Installation may take a long time."
   ]
  },
  {
   "cell_type": "markdown",
   "metadata": {},
   "source": [
    "#### Installing and updating packages"
   ]
  },
  {
   "cell_type": "code",
   "execution_count": 2,
   "metadata": {},
   "outputs": [
    {
     "name": "stdout",
     "output_type": "stream",
     "text": [
      "Note: you may need to restart the kernel to use updated packages.\n"
     ]
    }
   ],
   "source": [
    "%pip install --upgrade -r requirements.txt -q"
   ]
  },
  {
   "cell_type": "markdown",
   "metadata": {},
   "source": [
    "#### Importing libraries"
   ]
  },
  {
   "cell_type": "code",
   "execution_count": 1,
   "metadata": {},
   "outputs": [],
   "source": [
    "# Optional -- for envoking \"auto detection\" capabilities of Pylance (extension for VSCode).\n",
    "from IPython.display import display\n",
    "\n",
    "import matplotlib.pyplot as plt\n",
    "import numpy as np\n",
    "from numpy import array, sqrt\n",
    "\n",
    "import qiskit as qk\n",
    "from qiskit import QuantumCircuit, QuantumRegister, ClassicalRegister\n",
    "from qiskit.circuit.library import UGate\n",
    "from qiskit.quantum_info import Statevector, Operator, PauliList\n",
    "from qiskit.visualization import array_to_latex, plot_histogram\n",
    "from qiskit_ibm_runtime import QiskitRuntimeService\n",
    "\n",
    "# For high-performance simulation\n",
    "from qiskit_aer import AerSimulator\n",
    "\n",
    "import random"
   ]
  },
  {
   "cell_type": "code",
   "execution_count": 2,
   "metadata": {},
   "outputs": [
    {
     "name": "stdout",
     "output_type": "stream",
     "text": [
      "Qiskit version: 2.0.0\n"
     ]
    }
   ],
   "source": [
    "print(f\"Qiskit version: {qk.__version__}\")"
   ]
  },
  {
   "cell_type": "markdown",
   "metadata": {},
   "source": [
    "## Representation using `numpy`\n",
    "### Building quantum states using `numpy`"
   ]
  },
  {
   "cell_type": "code",
   "execution_count": 5,
   "metadata": {},
   "outputs": [
    {
     "name": "stdout",
     "output_type": "stream",
     "text": [
      "[[0.5]\n",
      " [0.5]]\n",
      "[[1.41421356 0.70710678]\n",
      " [0.         0.70710678]]\n"
     ]
    },
    {
     "data": {
      "text/latex": [
       "$$\n",
       "\n",
       "\\begin{bmatrix}\n",
       "\\sqrt{2} & \\frac{\\sqrt{2}}{2}  \\\\\n",
       " 0 & \\frac{\\sqrt{2}}{2}  \\\\\n",
       " \\end{bmatrix}\n",
       "$$"
      ],
      "text/plain": [
       "<IPython.core.display.Latex object>"
      ]
     },
     "metadata": {},
     "output_type": "display_data"
    }
   ],
   "source": [
    "ket0 = np.array([[1], [0]])\n",
    "ket1 = np.array([[0], [1]])\n",
    "\n",
    "print(ket0 / 2 + ket1 / 2)\n",
    "\n",
    "# %%\n",
    "M1 = np.array([[1, 1], [0, 0]])\n",
    "M2 = np.array([[1, 0], [0, 1]])\n",
    "M = M1 / sqrt(2) + M2 / sqrt(2)\n",
    "print(M)\n",
    "display(array_to_latex(M))\n"
   ]
  },
  {
   "cell_type": "markdown",
   "metadata": {},
   "source": [
    "Comparing standard format with the latex format"
   ]
  },
  {
   "cell_type": "code",
   "execution_count": 6,
   "metadata": {},
   "outputs": [
    {
     "name": "stdout",
     "output_type": "stream",
     "text": [
      "[[1]\n",
      " [0]]\n",
      "[[1 1]\n",
      " [0 0]]\n",
      "[[1]\n",
      " [0]]\n"
     ]
    }
   ],
   "source": [
    "# Matrix Multiplication\n",
    "print(np.matmul(M1, ket0))\n",
    "print(np.matmul(M1, M2))\n",
    "print(np.matmul(M2, ket0))\n"
   ]
  },
  {
   "cell_type": "code",
   "execution_count": 7,
   "metadata": {},
   "outputs": [
    {
     "data": {
      "text/latex": [
       "$$\n",
       "\n",
       "\\begin{bmatrix}\n",
       "1 & 1  \\\\\n",
       " 0 & 0  \\\\\n",
       " \\end{bmatrix}\n",
       "$$"
      ],
      "text/plain": [
       "<IPython.core.display.Latex object>"
      ]
     },
     "metadata": {},
     "output_type": "display_data"
    },
    {
     "data": {
      "text/latex": [
       "$$\n",
       "\n",
       "\\begin{bmatrix}\n",
       "1 & 0  \\\\\n",
       " 0 & 1  \\\\\n",
       " \\end{bmatrix}\n",
       "$$"
      ],
      "text/plain": [
       "<IPython.core.display.Latex object>"
      ]
     },
     "metadata": {},
     "output_type": "display_data"
    },
    {
     "data": {
      "text/latex": [
       "$$\n",
       "\n",
       "\\begin{bmatrix}\n",
       "\\sqrt{2} & \\frac{\\sqrt{2}}{2}  \\\\\n",
       " 0 & \\frac{\\sqrt{2}}{2}  \\\\\n",
       " \\end{bmatrix}\n",
       "$$"
      ],
      "text/plain": [
       "<IPython.core.display.Latex object>"
      ]
     },
     "metadata": {},
     "output_type": "display_data"
    }
   ],
   "source": [
    "# Displaying the results in Latex format, using array_to_latex from qiskit\n",
    "display(array_to_latex(M1))\n",
    "display(array_to_latex(M2))\n",
    "display(array_to_latex(M))"
   ]
  },
  {
   "cell_type": "markdown",
   "metadata": {},
   "source": [
    "## `Statevector` class\n",
    "\n",
    "Use `Statevector` objects to represent quantum states. \n",
    "\n",
    "Available `Statevector` methods include `.draw()`, `.is_valid()`, `.tensor()`, `.measure()`, `.sample_counts()`.\n",
    "\n",
    "We can generate a `Statevector` object using the `Statevector()` constructor or using the `.from_label()` method. Valid labels include `\"0\"`, `\"1\"`, `\"+\"`, `\"00\"`, `\"+i\"`."
   ]
  },
  {
   "cell_type": "code",
   "execution_count": 8,
   "metadata": {},
   "outputs": [
    {
     "data": {
      "text/latex": [
       "$$\n",
       "\n",
       "\\begin{bmatrix}\n",
       "\\frac{\\sqrt{2}}{2} & \\frac{\\sqrt{2}}{2}  \\\\\n",
       " \\end{bmatrix}\n",
       "$$"
      ],
      "text/plain": [
       "<IPython.core.display.Latex object>"
      ]
     },
     "metadata": {},
     "output_type": "display_data"
    },
    {
     "data": {
      "text/latex": [
       "$$\n",
       "\n",
       "\\begin{bmatrix}\n",
       "\\frac{1}{3} + \\frac{2 i}{3} & - \\frac{2}{3}  \\\\\n",
       " \\end{bmatrix}\n",
       "$$"
      ],
      "text/plain": [
       "<IPython.core.display.Latex object>"
      ]
     },
     "metadata": {},
     "output_type": "display_data"
    },
    {
     "data": {
      "text/latex": [
       "$$\n",
       "\n",
       "\\begin{bmatrix}\n",
       "\\frac{1}{3} & \\frac{2}{3}  \\\\\n",
       " \\end{bmatrix}\n",
       "$$"
      ],
      "text/plain": [
       "<IPython.core.display.Latex object>"
      ]
     },
     "metadata": {},
     "output_type": "display_data"
    }
   ],
   "source": [
    "# Methods: draw(), is_valid(), measure()\n",
    "u = Statevector([1 / sqrt(2), 1 / sqrt(2)])\n",
    "v = Statevector([(1 + 2j) / 3, -2 / 3])\n",
    "w = Statevector([1 / 3, 2 / 3])\n",
    "display(array_to_latex(u))  \n",
    "display(array_to_latex(v))  \n",
    "display(array_to_latex(w)) "
   ]
  },
  {
   "cell_type": "markdown",
   "metadata": {},
   "source": [
    "#### `Statevector` can be printed in different formats. \n",
    "\n",
    "Using `.draw()` method, we can draw `Statevector` in `\"text\"`, `\"latex\"`, and `\"latex_source\"` formats."
   ]
  },
  {
   "cell_type": "code",
   "execution_count": 9,
   "metadata": {},
   "outputs": [
    {
     "name": "stdout",
     "output_type": "stream",
     "text": [
      "Float format:\n"
     ]
    },
    {
     "data": {
      "text/plain": [
       "[0.70710678+0.j,0.70710678+0.j]"
      ]
     },
     "metadata": {},
     "output_type": "display_data"
    },
    {
     "name": "stdout",
     "output_type": "stream",
     "text": [
      "LaTex format:\n"
     ]
    },
    {
     "data": {
      "text/latex": [
       "$$\\frac{\\sqrt{2}}{2} |0\\rangle+\\frac{\\sqrt{2}}{2} |1\\rangle$$"
      ],
      "text/plain": [
       "<IPython.core.display.Latex object>"
      ]
     },
     "metadata": {},
     "output_type": "display_data"
    },
    {
     "name": "stdout",
     "output_type": "stream",
     "text": [
      "LaTex source code:\n"
     ]
    },
    {
     "data": {
      "text/plain": [
       "'\\\\frac{\\\\sqrt{2}}{2} |0\\\\rangle+\\\\frac{\\\\sqrt{2}}{2} |1\\\\rangle'"
      ]
     },
     "metadata": {},
     "output_type": "display_data"
    }
   ],
   "source": [
    "print(\"Float format:\")\n",
    "display(u.draw(\"text\"))\n",
    "print(\"LaTex format:\")\n",
    "display(u.draw(\"latex\"))\n",
    "print(\"LaTex source code:\")\n",
    "display(u.draw(\"latex_source\"))"
   ]
  },
  {
   "cell_type": "markdown",
   "metadata": {},
   "source": [
    "#### The `.is_valid()` method\n",
    "\n",
    "The `.is_valid()` method returns `True` if the `Statevector` is valid."
   ]
  },
  {
   "cell_type": "code",
   "execution_count": 10,
   "metadata": {},
   "outputs": [
    {
     "data": {
      "text/latex": [
       "$$(\\frac{1}{3} + \\frac{2 i}{3}) |0\\rangle- \\frac{2}{3} |1\\rangle$$"
      ],
      "text/plain": [
       "<IPython.core.display.Latex object>"
      ]
     },
     "metadata": {},
     "output_type": "display_data"
    },
    {
     "data": {
      "text/plain": [
       "'(\\\\frac{1}{3} + \\\\frac{2 i}{3}) |0\\\\rangle- \\\\frac{2}{3} |1\\\\rangle'"
      ]
     },
     "metadata": {},
     "output_type": "display_data"
    },
    {
     "name": "stdout",
     "output_type": "stream",
     "text": [
      "This statevector is valid.\n"
     ]
    }
   ],
   "source": [
    "display(v.draw(\"latex\"))\n",
    "display(v.draw(\"latex_source\"))\n",
    "# display(v.is_valid())\n",
    "print(f\"This statevector {(lambda v: 'is' if v.is_valid() else 'is not')(v)} valid.\")"
   ]
  },
  {
   "cell_type": "markdown",
   "metadata": {},
   "source": [
    "#### The `.measure()` method\n",
    "\n",
    "The `.measure()` method returns the resulting `Statevector` of peforming a single standard basis measurement. The outcome is obtained with probability equal to the amplitude (magitude squared) of the original `Statevector`. \n",
    "\n",
    "Hence, if $|\\phi \\rangle = (\\frac{1}{3} + \\frac{2 i}{3}) |0\\rangle - \\frac{2}{3} |1\\rangle$, then the probability of measuring 0 is $\\|\\frac{1}{3} + \\frac{2 i}{3}\\|^2$ and the probability of measuing 1 is $(\\frac{2}{3})^2$."
   ]
  },
  {
   "cell_type": "code",
   "execution_count": 11,
   "metadata": {},
   "outputs": [
    {
     "name": "stdout",
     "output_type": "stream",
     "text": [
      "Measured: 0\n",
      "Post-measurement state:\n"
     ]
    },
    {
     "data": {
      "text/latex": [
       "$$(\\frac{\\sqrt{5}}{5} + \\frac{2 \\sqrt{5} i}{5}) |0\\rangle$$"
      ],
      "text/plain": [
       "<IPython.core.display.Latex object>"
      ]
     },
     "metadata": {},
     "output_type": "display_data"
    },
    {
     "name": "stdout",
     "output_type": "stream",
     "text": [
      "Measured: 1\n",
      "Post-measurement state:\n"
     ]
    },
    {
     "data": {
      "text/latex": [
       "$$- |1\\rangle$$"
      ],
      "text/plain": [
       "<IPython.core.display.Latex object>"
      ]
     },
     "metadata": {},
     "output_type": "display_data"
    }
   ],
   "source": [
    "# Returns an outcome, which is determined by probabilities, and resulting statevector.\n",
    "\n",
    "# First measurement\n",
    "outcome1, state1 = v.measure()\n",
    "print(f\"Measured: {outcome1}\\nPost-measurement state:\")\n",
    "display(state1.draw(\"latex\"))\n",
    "\n",
    "# Second measurement\n",
    "outcome2, state2 = v.measure()\n",
    "\n",
    "print(f\"Measured: {outcome2}\\nPost-measurement state:\")\n",
    "display(state2.draw(\"latex\"))\n"
   ]
  },
  {
   "cell_type": "markdown",
   "metadata": {},
   "source": [
    "For partial measurements, we can specify the qubits to be measured. Qubits are ordered from left to right starting with the highest index. The measurement results might be different for each run of the code, as expected. "
   ]
  },
  {
   "cell_type": "code",
   "execution_count": 13,
   "metadata": {},
   "outputs": [
    {
     "name": "stdout",
     "output_type": "stream",
     "text": [
      "Original statevector:\n"
     ]
    },
    {
     "data": {
      "text/latex": [
       "$$\\frac{\\sqrt{3}}{3} |001\\rangle+\\frac{\\sqrt{3}}{3} |010\\rangle+\\frac{\\sqrt{3}}{3} |100\\rangle$$"
      ],
      "text/plain": [
       "<IPython.core.display.Latex object>"
      ]
     },
     "metadata": {},
     "output_type": "display_data"
    },
    {
     "name": "stdout",
     "output_type": "stream",
     "text": [
      "Measuring the right-most qubit:\n",
      "Measured: 0\n",
      "State after measurement:\n"
     ]
    },
    {
     "data": {
      "text/latex": [
       "$$\\frac{\\sqrt{2}}{2} |010\\rangle+\\frac{\\sqrt{2}}{2} |100\\rangle$$"
      ],
      "text/plain": [
       "<IPython.core.display.Latex object>"
      ]
     },
     "metadata": {},
     "output_type": "display_data"
    },
    {
     "name": "stdout",
     "output_type": "stream",
     "text": [
      "Measuring the right-most two qubits of the original:\n",
      "Measured: 10\n",
      "State after measurement:\n"
     ]
    },
    {
     "data": {
      "text/latex": [
       "$$ |010\\rangle$$"
      ],
      "text/plain": [
       "<IPython.core.display.Latex object>"
      ]
     },
     "metadata": {},
     "output_type": "display_data"
    }
   ],
   "source": [
    "w = Statevector([0, 1, 1, 0, 1, 0, 0, 0] / sqrt(3))\n",
    "print(\"Original statevector:\")\n",
    "display(w.draw(\"latex\"))\n",
    "\n",
    "result, state = w.measure([0])\n",
    "print(\"Measuring the right-most qubit:\")\n",
    "print(f\"Measured: {result}\\nState after measurement:\")\n",
    "display(state.draw(\"latex\"))\n",
    "\n",
    "result, state = w.measure([0,1])\n",
    "print(\"Measuring the right-most two qubits of the original:\")\n",
    "print(f\"Measured: {result}\\nState after measurement:\")\n",
    "display(state.draw(\"latex\"))"
   ]
  },
  {
   "cell_type": "markdown",
   "metadata": {},
   "source": [
    "#### The `.sample_counts()` method\n",
    "\n",
    "We can use `.sample_counts()` method to perform multiple measurements. We can plot the resulting distribution using `plot_histogram()` function of the `qiskit.visualization` package. \n",
    "\n",
    "The `.sample_counts()` takes two arguments, the second argument specifies which qubits to measure for a partial measurement."
   ]
  },
  {
   "cell_type": "code",
   "execution_count": null,
   "metadata": {},
   "outputs": [
    {
     "data": {
      "image/png": "[encoded data removed]",
      "text/plain": [
       "<Figure size 640x480 with 1 Axes>"
      ]
     },
     "execution_count": 13,
     "metadata": {},
     "output_type": "execute_result"
    }
   ],
   "source": [
    "# Use .sample_counts() method to perform measurement 1000 times\n",
    "stats = v.sample_counts(1000)\n",
    "\n",
    "# Plot the result\n",
    "plot_histogram(stats)"
   ]
  },
  {
   "cell_type": "markdown",
   "metadata": {},
   "source": [
    "For partial measurements, we can specify the qubits to be measured. Qubits are ordered from left to right starting with the higherst index."
   ]
  },
  {
   "cell_type": "code",
   "execution_count": 17,
   "metadata": {},
   "outputs": [
    {
     "data": {
      "text/latex": [
       "$$\\frac{\\sqrt{3}}{3} |001\\rangle+\\frac{\\sqrt{3}}{3} |010\\rangle+\\frac{\\sqrt{3}}{3} |100\\rangle$$"
      ],
      "text/plain": [
       "<IPython.core.display.Latex object>"
      ]
     },
     "metadata": {},
     "output_type": "display_data"
    },
    {
     "name": "stdout",
     "output_type": "stream",
     "text": [
      "Measuring the right-most qubit:\n"
     ]
    },
    {
     "data": {
      "image/png": "[encoded data removed]",
      "text/plain": [
       "<Figure size 640x480 with 1 Axes>"
      ]
     },
     "execution_count": 17,
     "metadata": {},
     "output_type": "execute_result"
    }
   ],
   "source": [
    "# Using the same state vector, w, as before.\n",
    "w = Statevector([0, 1, 1, 0, 1, 0, 0, 0] / sqrt(3))\n",
    "display(w.draw(\"latex\"))\n",
    "\n",
    "print(\"Measuring the right-most qubit:\")\n",
    "stat_w0 = w.sample_counts(1000, [0])\n",
    "plot_histogram(stat_w0)"
   ]
  },
  {
   "cell_type": "code",
   "execution_count": 18,
   "metadata": {},
   "outputs": [
    {
     "name": "stdout",
     "output_type": "stream",
     "text": [
      "Measuring the left-most qubit:\n"
     ]
    },
    {
     "data": {
      "image/png": "[encoded data removed]",
      "text/plain": [
       "<Figure size 640x480 with 1 Axes>"
      ]
     },
     "execution_count": 18,
     "metadata": {},
     "output_type": "execute_result"
    }
   ],
   "source": [
    "# Plotting the partial measurement of the left-most qubits. \n",
    "print('Measuring the left-most qubit:')\n",
    "stat_w2 = w.sample_counts(1000, [2])\n",
    "plot_histogram(stat_w2)"
   ]
  },
  {
   "cell_type": "markdown",
   "metadata": {},
   "source": [
    "Generating `Statevector` using the `from_label()` method. Valid labels include `\"0\"`, `\"1\"`, `\"+\"`, `\"00\"`, `\"+i\"`, and etc.\n",
    "\n",
    "The `.tensor()` method can be used to create a tensor product of multiple `Statevector` objects.\n",
    "\n",
    "Alternatively, the `^` operator can be used to create a tensor product of multiple `Statevector` objects as well."
   ]
  },
  {
   "cell_type": "code",
   "execution_count": 32,
   "metadata": {},
   "outputs": [
    {
     "data": {
      "text/latex": [
       "$$ |01\\rangle$$"
      ],
      "text/plain": [
       "<IPython.core.display.Latex object>"
      ]
     },
     "metadata": {},
     "output_type": "display_data"
    },
    {
     "data": {
      "text/latex": [
       "$$ |10\\rangle$$"
      ],
      "text/plain": [
       "<IPython.core.display.Latex object>"
      ]
     },
     "metadata": {},
     "output_type": "display_data"
    }
   ],
   "source": [
    "zero = Statevector.from_label(\"0\")\n",
    "one = Statevector.from_label(\"1\")\n",
    "\n",
    "psi = zero.tensor(one)\n",
    "phi = one ^ zero\n",
    "\n",
    "display(psi.draw(\"latex\"))\n",
    "display(phi.draw(\"latex\"))"
   ]
  },
  {
   "cell_type": "markdown",
   "metadata": {},
   "source": [
    "## `Operator` class\n",
    "\n",
    "Using `Operator` to represent quantum gates and unitary operations and their effects on quantum states.\n",
    "\n",
    "Avaliable methods include `draw()`, `is_unitary()`, and `evolve()`.\n",
    "\n",
    "The `Operator` class also has a `.tensor()` method and a `.from_label()` method. Available labels include `\"I\"`, `\"X\"`, `\"Y\"`, `\"Z\"`, `\"H\"`, `\"S\"`, `\"T\"`, and etc.\n",
    "\n",
    "Alternatively, the `^` operator can be used to create a tensor product of multiple `Operator` objects."
   ]
  },
  {
   "cell_type": "markdown",
   "metadata": {},
   "source": []
  },
  {
   "cell_type": "code",
   "execution_count": 17,
   "metadata": {},
   "outputs": [
    {
     "data": {
      "text/latex": [
       "$$\n",
       "\n",
       "\\begin{bmatrix}\n",
       "1 & 0  \\\\\n",
       " 0 & \\frac{\\sqrt{2}}{2} + \\frac{\\sqrt{2} i}{2}  \\\\\n",
       " \\end{bmatrix}\n",
       "$$"
      ],
      "text/plain": [
       "<IPython.core.display.Latex object>"
      ]
     },
     "metadata": {},
     "output_type": "display_data"
    },
    {
     "name": "stdout",
     "output_type": "stream",
     "text": [
      "Is T unitary? True\n"
     ]
    }
   ],
   "source": [
    "Y = Operator([[0, -1.0j], [1.0j, 0]])\n",
    "H = Operator([[1 / sqrt(2), 1 / sqrt(2)], [1 / sqrt(2), -1 / sqrt(2)]])\n",
    "S = Operator([[1, 0], [0, 1.0j]])\n",
    "T = Operator([[1, 0], [0, (1 + 1.0j) / sqrt(2)]])\n",
    "\n",
    "display(T.draw(\"latex\"))\n",
    "\n",
    "print(f\"Is T unitary? {T.is_unitary()}\")"
   ]
  },
  {
   "cell_type": "code",
   "execution_count": 18,
   "metadata": {},
   "outputs": [
    {
     "data": {
      "text/latex": [
       "$$ |0\\rangle$$"
      ],
      "text/plain": [
       "<IPython.core.display.Latex object>"
      ]
     },
     "metadata": {},
     "output_type": "display_data"
    },
    {
     "data": {
      "text/latex": [
       "$$(0.1464466094 - 0.3535533906 i) |0\\rangle+(-0.3535533906 + 0.8535533906 i) |1\\rangle$$"
      ],
      "text/plain": [
       "<IPython.core.display.Latex object>"
      ]
     },
     "metadata": {},
     "output_type": "display_data"
    }
   ],
   "source": [
    "# We can apply a unitary operation to a state vector using the evolve method.\n",
    "v = Statevector([1, 0])\n",
    "display(v.draw(\"latex\"))\n",
    "\n",
    "v = v.evolve(H)\n",
    "v = v.evolve(T)\n",
    "v = v.evolve(H)\n",
    "v = v.evolve(S)\n",
    "v = v.evolve(Y)\n",
    "\n",
    "display(v.draw(\"latex\"))"
   ]
  },
  {
   "cell_type": "markdown",
   "metadata": {},
   "source": [
    "## `QuantumCircuit` class\n",
    "\n",
    "Initialize a quantum circuit using `QuantumCircuit(x)` where `x` is the number of qubits.\n",
    "\n",
    "Use `.if_test()` method to apply conditional gates on Classical qubits, where an \"else block\" can also be added. \n",
    "\n",
    "The `.barrier()` method adds a visual barrier in circuit diagram and also prevents cross-barrier optimization during compilation. "
   ]
  },
  {
   "cell_type": "code",
   "execution_count": 35,
   "metadata": {},
   "outputs": [
    {
     "data": {
      "image/png": "[encoded data removed]",
      "text/plain": [
       "<Figure size 370.906x200.667 with 1 Axes>"
      ]
     },
     "metadata": {},
     "output_type": "display_data"
    }
   ],
   "source": [
    "circuit_1 = QuantumCircuit(2) # input number of qubits\n",
    "\n",
    "circuit_1.h(0)\n",
    "circuit_1.t(0)\n",
    "circuit_1.x(1)\n",
    "circuit_1.s(1)\n",
    "circuit_1.y(0)\n",
    "\n",
    "display(circuit_1.draw(output=\"mpl\"))"
   ]
  },
  {
   "cell_type": "markdown",
   "metadata": {},
   "source": [
    "The default names of qubits are q0, q1, etc. We can choose our own names by using the `QuantumRegister` class."
   ]
  },
  {
   "cell_type": "code",
   "execution_count": 37,
   "metadata": {},
   "outputs": [
    {
     "data": {
      "image/png": "[encoded data removed]",
      "text/plain": [
       "<Figure size 437.882x117.056 with 1 Axes>"
      ]
     },
     "metadata": {},
     "output_type": "display_data"
    }
   ],
   "source": [
    "X = QuantumRegister(1, \"X\") # QuantumRegister(number of qubits, name of the qubits)\n",
    "\n",
    "circuit = QuantumCircuit(X)\n",
    "circuit.h(X)\n",
    "circuit.s(X)\n",
    "circuit.h(X)\n",
    "circuit.t(X)\n",
    "\n",
    "display(circuit.draw(output=\"mpl\"))"
   ]
  },
  {
   "cell_type": "code",
   "execution_count": 21,
   "metadata": {},
   "outputs": [
    {
     "data": {
      "image/png": "[encoded data removed]",
      "text/plain": [
       "<Figure size 286.689x200.667 with 1 Axes>"
      ]
     },
     "metadata": {},
     "output_type": "display_data"
    }
   ],
   "source": [
    "QReg = QuantumRegister(2, \"Y\") # (number of qubits, name of the qubits)\n",
    "\n",
    "circuit_2 = QuantumCircuit(QReg)\n",
    "circuit_2.h(QReg) # apply Hadamard gate to all qubits in the register\n",
    "circuit_2.t(0)\n",
    "circuit_2.s(1)\n",
    "\n",
    "display(circuit_2.draw(output=\"mpl\"))"
   ]
  },
  {
   "cell_type": "markdown",
   "metadata": {},
   "source": [
    "Each quantum circuit can be represented by a unitary operator. \n",
    "\n",
    "To obtain the unitary operator representation of the circuit, use the `from_circuit` method of the `Operator` class."
   ]
  },
  {
   "cell_type": "code",
   "execution_count": 22,
   "metadata": {},
   "outputs": [
    {
     "data": {
      "text/latex": [
       "$$\n",
       "\n",
       "\\begin{bmatrix}\n",
       "\\frac{1}{2} + \\frac{i}{2} & \\frac{1}{2} - \\frac{i}{2}  \\\\\n",
       " \\frac{\\sqrt{2}}{2} & \\frac{\\sqrt{2} i}{2}  \\\\\n",
       " \\end{bmatrix}\n",
       "$$"
      ],
      "text/plain": [
       "<IPython.core.display.Latex object>"
      ]
     },
     "metadata": {},
     "output_type": "display_data"
    }
   ],
   "source": [
    "display(Operator.from_circuit(circuit).draw(\"latex\"))"
   ]
  },
  {
   "cell_type": "markdown",
   "metadata": {},
   "source": [
    "Initialize a quantum `Statevector` and evolve it using a circuit."
   ]
  },
  {
   "cell_type": "code",
   "execution_count": 39,
   "metadata": {},
   "outputs": [
    {
     "data": {
      "text/latex": [
       "$$ |00\\rangle$$"
      ],
      "text/plain": [
       "<IPython.core.display.Latex object>"
      ]
     },
     "metadata": {},
     "output_type": "display_data"
    },
    {
     "data": {
      "text/latex": [
       "$$(\\frac{1}{2} + \\frac{i}{2}) |00\\rangle+\\frac{\\sqrt{2}}{2} |01\\rangle$$"
      ],
      "text/plain": [
       "<IPython.core.display.Latex object>"
      ]
     },
     "metadata": {},
     "output_type": "display_data"
    }
   ],
   "source": [
    "ket00 = Statevector.from_label(\"00\")\n",
    "display(ket00.draw(\"latex\"))\n",
    "\n",
    "v = ket00.evolve(circuit)\n",
    "display(v.draw(\"latex\"))"
   ]
  },
  {
   "cell_type": "code",
   "execution_count": 24,
   "metadata": {},
   "outputs": [
    {
     "data": {
      "image/png": "[encoded data removed]",
      "text/plain": [
       "<Figure size 640x480 with 1 Axes>"
      ]
     },
     "execution_count": 24,
     "metadata": {},
     "output_type": "execute_result"
    }
   ],
   "source": [
    "stats2 = v.sample_counts(1000)\n",
    "plot_histogram(stats2)"
   ]
  },
  {
   "cell_type": "markdown",
   "metadata": {},
   "source": [
    "# 2. Quantum Circuits\n"
   ]
  },
  {
   "cell_type": "markdown",
   "metadata": {},
   "source": [
    "### Example 1: Let us build a quantum circuit."
   ]
  },
  {
   "cell_type": "code",
   "execution_count": 25,
   "metadata": {},
   "outputs": [
    {
     "data": {
      "image/png": "[encoded data removed]",
      "text/plain": [
       "<Figure size 270.66x200.667 with 1 Axes>"
      ]
     },
     "metadata": {},
     "output_type": "display_data"
    },
    {
     "data": {
      "text/latex": [
       "$$\n",
       "\n",
       "\\begin{bmatrix}\n",
       "\\frac{\\sqrt{2}}{2} & \\frac{\\sqrt{2}}{2} & 0 & 0  \\\\\n",
       " 0 & 0 & \\frac{\\sqrt{2}}{2} & - \\frac{\\sqrt{2}}{2}  \\\\\n",
       " 0 & 0 & \\frac{\\sqrt{2}}{2} & \\frac{\\sqrt{2}}{2}  \\\\\n",
       " \\frac{\\sqrt{2}}{2} & - \\frac{\\sqrt{2}}{2} & 0 & 0  \\\\\n",
       " \\end{bmatrix}\n",
       "$$"
      ],
      "text/plain": [
       "<IPython.core.display.Latex object>"
      ]
     },
     "metadata": {},
     "output_type": "display_data"
    }
   ],
   "source": [
    "X_1 = QuantumRegister(1, \"X\")\n",
    "Y_1 = QuantumRegister(1, \"Y\")\n",
    "circuit_3 = QuantumCircuit(Y_1, X_1) # Here the order of wires is top to bottom.\n",
    "circuit_3.h(Y_1)\n",
    "circuit_3.cx(0, 1,)\n",
    "\n",
    "display(circuit_3.draw(\"mpl\"))\n",
    "\n",
    "display(Operator.from_circuit(circuit_3).draw(\"latex\"))"
   ]
  },
  {
   "cell_type": "markdown",
   "metadata": {},
   "source": [
    "The order of qubits are bottom-to-top. "
   ]
  },
  {
   "cell_type": "code",
   "execution_count": 26,
   "metadata": {},
   "outputs": [
    {
     "data": {
      "text/latex": [
       "$$ |01\\rangle$$"
      ],
      "text/plain": [
       "<IPython.core.display.Latex object>"
      ]
     },
     "metadata": {},
     "output_type": "display_data"
    },
    {
     "data": {
      "text/latex": [
       "$$\\frac{\\sqrt{2}}{2} |00\\rangle- \\frac{\\sqrt{2}}{2} |11\\rangle$$"
      ],
      "text/plain": [
       "<IPython.core.display.Latex object>"
      ]
     },
     "metadata": {},
     "output_type": "display_data"
    },
    {
     "data": {
      "text/latex": [
       "$$ |10\\rangle$$"
      ],
      "text/plain": [
       "<IPython.core.display.Latex object>"
      ]
     },
     "metadata": {},
     "output_type": "display_data"
    },
    {
     "data": {
      "text/latex": [
       "$$\\frac{\\sqrt{2}}{2} |01\\rangle+\\frac{\\sqrt{2}}{2} |10\\rangle$$"
      ],
      "text/plain": [
       "<IPython.core.display.Latex object>"
      ]
     },
     "metadata": {},
     "output_type": "display_data"
    }
   ],
   "source": [
    "ket01 = Statevector.from_label(\"01\")\n",
    "display(ket01.draw(\"latex\"))\n",
    "\n",
    "display(ket01.evolve(circuit_3).draw(\"latex\"))\n",
    "\n",
    "ket10 = Statevector.from_label(\"10\")\n",
    "display(ket10.draw(\"latex\"))\n",
    "\n",
    "display(ket10.evolve(circuit_3).draw(\"latex\"))\n"
   ]
  },
  {
   "cell_type": "markdown",
   "metadata": {},
   "source": [
    "### Example 2: Quantum circuits with classical wires.\n",
    "\n",
    "Use `ClasssicalRegister()` to initialize classical wires. Classical wires appear on the bottom of the circuit diagram by default. "
   ]
  },
  {
   "cell_type": "code",
   "execution_count": 36,
   "metadata": {},
   "outputs": [
    {
     "data": {
      "image/png": "[encoded data removed]",
      "text/plain": [
       "<Figure size 287.496x367.889 with 1 Axes>"
      ]
     },
     "metadata": {},
     "output_type": "display_data"
    }
   ],
   "source": [
    "circuit_5 = QuantumCircuit(3, 2) # Circuit with 3 qubits and 2 classical bits.\n",
    "circuit_5.measure([0, 1], [0, 1])\n",
    "display(circuit_5.draw(output=\"mpl\"))"
   ]
  },
  {
   "cell_type": "code",
   "execution_count": 28,
   "metadata": {},
   "outputs": [
    {
     "data": {
      "image/png": "[encoded data removed]",
      "text/plain": [
       "<Figure size 437.882x367.889 with 1 Axes>"
      ]
     },
     "metadata": {},
     "output_type": "display_data"
    }
   ],
   "source": [
    "A_1 = ClassicalRegister(1, \"A\")\n",
    "B_1 = ClassicalRegister(1, \"B\")\n",
    "\n",
    "circuit_4 = QuantumCircuit(Y_1, X_1, B_1, A_1,)\n",
    "circuit_4.h(Y_1)\n",
    "circuit_4.cx(Y_1, X_1)\n",
    "circuit_4.measure(Y_1, B_1)\n",
    "circuit_4.measure(X_1, A_1)\n",
    "display(circuit_4.draw(output=\"mpl\"))"
   ]
  },
  {
   "cell_type": "code",
   "execution_count": 28,
   "metadata": {},
   "outputs": [
    {
     "name": "stdout",
     "output_type": "stream",
     "text": [
      "{'1 1': 523, '0 0': 501}\n"
     ]
    },
    {
     "data": {
      "image/png": "[encoded data removed]",
      "text/plain": [
       "<Figure size 640x480 with 1 Axes>"
      ]
     },
     "execution_count": 28,
     "metadata": {},
     "output_type": "execute_result"
    }
   ],
   "source": [
    "result_4 = AerSimulator().run(circuit_4).result()\n",
    "stats_4 = result_4.get_counts()\n",
    "print(stats_4)\n",
    "plot_histogram(stats_4)"
   ]
  },
  {
   "cell_type": "markdown",
   "metadata": {},
   "source": [
    "## Quantum Teleportation\n",
    "\n",
    "First, define the circuit. We put barriers to make the circuit diagram more readable."
   ]
  },
  {
   "cell_type": "code",
   "execution_count": 29,
   "metadata": {},
   "outputs": [
    {
     "data": {
      "image/png": "[encoded data removed]",
      "text/plain": [
       "<Figure size 1276.8x535.111 with 1 Axes>"
      ]
     },
     "execution_count": 29,
     "metadata": {},
     "output_type": "execute_result"
    }
   ],
   "source": [
    "Alice = QuantumRegister(1, \"A\")\n",
    "Bob = QuantumRegister(1, \"B\")\n",
    "a = ClassicalRegister(1, \"a\")\n",
    "b = ClassicalRegister(1, \"b\")\n",
    "qubit = QuantumRegister(1, \"Q\")\n",
    "# This represents other qubits possibly entangled with Q.\n",
    "R = QuantumRegister(1, \"\\gamma\")\n",
    "\n",
    "circ_teleport = QuantumCircuit(R, qubit, Alice, a, b, Bob,)\n",
    "\n",
    "# Preparing entangled qubit, phi+\n",
    "circ_teleport.h(Alice)\n",
    "circ_teleport.cx(Alice, Bob)\n",
    "circ_teleport.barrier()\n",
    "\n",
    "# Beginning of the teleportation protocol\n",
    "circ_teleport.cx(qubit, Alice)\n",
    "circ_teleport.h(qubit)\n",
    "circ_teleport.barrier()\n",
    "\n",
    "\n",
    "circ_teleport.measure(Alice,a)\n",
    "circ_teleport.measure(qubit,b)\n",
    "circ_teleport.barrier()\n",
    "\n",
    "\n",
    "with circ_teleport.if_test((a, 1)):\n",
    "    circ_teleport.x(Bob)\n",
    "\n",
    "# Can also use an else block, \"else_\" can be replace by any name.\n",
    "# Here, I am using 0 as control, as opposed to 1. \n",
    "# As a result, the dot in the circuit diagram is hollow as opposed to filled. \n",
    "with circ_teleport.if_test((b, 0)) as else_:\n",
    "    None\n",
    "with else_:\n",
    "    circ_teleport.z(Bob)\n",
    "\n",
    "circ_teleport.draw(\"mpl\")"
   ]
  },
  {
   "cell_type": "markdown",
   "metadata": {},
   "source": [
    "Generating a random gate that produce a random state for Q, using `UGate()` function."
   ]
  },
  {
   "cell_type": "code",
   "execution_count": 30,
   "metadata": {},
   "outputs": [
    {
     "data": {
      "text/latex": [
       "$$\n",
       "\n",
       "\\begin{bmatrix}\n",
       "-0.6250545027 & -0.743756452 + 0.2369244791 i  \\\\\n",
       " 0.7589075392 + 0.1826642155 i & -0.6234266241 + 0.0450818782 i  \\\\\n",
       " \\end{bmatrix}\n",
       "$$"
      ],
      "text/plain": [
       "<IPython.core.display.Latex object>"
      ]
     },
     "metadata": {},
     "output_type": "display_data"
    }
   ],
   "source": [
    "import random\n",
    "from numpy import pi\n",
    "random_gate = UGate(\n",
    "    theta=random.random() * 2 * pi,\n",
    "    phi=random.random() * 2 * pi,\n",
    "    lam=random.random() * 2 * pi,\n",
    ")\n",
    "\n",
    "display(array_to_latex(random_gate.to_matrix()))"
   ]
  },
  {
   "cell_type": "markdown",
   "metadata": {},
   "source": [
    "Appending gates using `.append()` method.\n",
    "Adding wire using `.add_register()` method.\n",
    "\n",
    "Appending QuantumCircuits with `.compose()` method. Can compose in the front with front=True.\n"
   ]
  },
  {
   "cell_type": "code",
   "execution_count": 31,
   "metadata": {},
   "outputs": [
    {
     "data": {
      "image/png": "[encoded data removed]",
      "text/plain": [
       "<Figure size 1754.75x618.722 with 1 Axes>"
      ]
     },
     "execution_count": 31,
     "metadata": {},
     "output_type": "execute_result"
    }
   ],
   "source": [
    "test_circ = QuantumCircuit(R, qubit, Alice, a, b, Bob,)\n",
    "\n",
    "test_circ.append(random_gate, qubit)\n",
    "\n",
    "test_circ.compose(circ_teleport, inplace=True)\n",
    "test_circ.append(random_gate.inverse(), Bob)\n",
    "\n",
    "Result = ClassicalRegister(1, \"result\")\n",
    "test_circ.add_register(Result)\n",
    "test_circ.measure(Bob, Result)\n",
    "\n",
    "test_circ.draw(\"mpl\")"
   ]
  },
  {
   "cell_type": "code",
   "execution_count": 32,
   "metadata": {},
   "outputs": [
    {
     "data": {
      "image/png": "[encoded data removed]",
      "text/plain": [
       "<Figure size 640x480 with 1 Axes>"
      ]
     },
     "execution_count": 32,
     "metadata": {},
     "output_type": "execute_result"
    }
   ],
   "source": [
    "result_tele = AerSimulator().run(test_circ).result()\n",
    "stats_tele = result_tele.get_counts()\n",
    "plot_histogram(stats_tele)"
   ]
  },
  {
   "cell_type": "markdown",
   "metadata": {},
   "source": [
    "## Superdense coding"
   ]
  },
  {
   "cell_type": "code",
   "execution_count": 43,
   "metadata": {},
   "outputs": [
    {
     "data": {
      "image/png": "[encoded data removed]",
      "text/plain": [
       "<Figure size 1564.89x618.722 with 1 Axes>"
      ]
     },
     "execution_count": 43,
     "metadata": {},
     "output_type": "execute_result"
    }
   ],
   "source": [
    "c = ClassicalRegister(1, \"c\")\n",
    "d = ClassicalRegister(1, \"d\")\n",
    "cp = ClassicalRegister(1, \"c'\")\n",
    "dp = ClassicalRegister(1, \"d'\")\n",
    "coin = QuantumRegister(1, \"coin\")\n",
    "\n",
    "circ_dense = QuantumCircuit(coin, d, c, Alice, Bob, dp, cp)\n",
    "\n",
    "circ_dense.h(Alice)\n",
    "circ_dense.cx(Alice, Bob)\n",
    "circ_dense.barrier()\n",
    "\n",
    "circ_dense.h(coin)\n",
    "circ_dense.measure(coin, c)\n",
    "circ_dense.h(coin)\n",
    "circ_dense.measure(coin, d)\n",
    "\n",
    "with circ_dense.if_test((d, 1)):\n",
    "    circ_dense.z(Alice)\n",
    "\n",
    "with circ_dense.if_test((c, 1)):\n",
    "    circ_dense.x(Alice)\n",
    "circ_dense.barrier()\n",
    "\n",
    "circ_dense.cx(Alice, Bob)\n",
    "circ_dense.h(Alice)\n",
    "circ_dense.barrier()\n",
    "\n",
    "circ_dense.measure(Alice, dp)\n",
    "circ_dense.measure(Bob, cp)\n",
    "\n",
    "circ_dense.draw(\"mpl\")"
   ]
  },
  {
   "cell_type": "code",
   "execution_count": 44,
   "metadata": {},
   "outputs": [
    {
     "data": {
      "image/png": "[encoded data removed]",
      "text/plain": [
       "<Figure size 640x480 with 1 Axes>"
      ]
     },
     "execution_count": 44,
     "metadata": {},
     "output_type": "execute_result"
    }
   ],
   "source": [
    "result_dense = AerSimulator().run(circ_dense).result()\n",
    "stats_dense = result_dense.get_counts()\n",
    "plot_histogram(stats_dense)"
   ]
  }
 ],
 "metadata": {
  "kernelspec": {
   "display_name": ".venv (3.12.10)",
   "language": "python",
   "name": "python3"
  },
  "language_info": {
   "codemirror_mode": {
    "name": "ipython",
    "version": 3
   },
   "file_extension": ".py",
   "mimetype": "text/x-python",
   "name": "python",
   "nbconvert_exporter": "python",
   "pygments_lexer": "ipython3",
   "version": "3.12.10"
  }
 },
 "nbformat": 4,
 "nbformat_minor": 2
}
